{
 "cells": [
  {
   "cell_type": "markdown",
   "id": "f379970c",
   "metadata": {},
   "source": [
    "# Import"
   ]
  },
  {
   "cell_type": "code",
   "execution_count": 1,
   "id": "1a36765e",
   "metadata": {},
   "outputs": [
    {
     "data": {
      "text/html": [
       "<style>.container { width:100% !important; }</style>"
      ],
      "text/plain": [
       "<IPython.core.display.HTML object>"
      ]
     },
     "metadata": {},
     "output_type": "display_data"
    }
   ],
   "source": [
    "import pickle\n",
    "\n",
    "# math and dataframes\n",
    "import pandas as pd\n",
    "import numpy as np\n",
    "import scipy as sp\n",
    "\n",
    "# machine learning\n",
    "from sklearn.linear_model import LogisticRegression\n",
    "from sklearn.tree import DecisionTreeClassifier\n",
    "from sklearn.neighbors import KNeighborsClassifier\n",
    "from sklearn.ensemble import RandomForestClassifier, AdaBoostClassifier, VotingClassifier\n",
    "import tensorflow as tf\n",
    "\n",
    "# Pipeline and Evaluation\n",
    "from sklearn.metrics import classification_report, confusion_matrix\n",
    "from sklearn.model_selection import GridSearchCV, RandomizedSearchCV, train_test_split\n",
    "from sklearn.model_selection import cross_val_score, cross_val_predict\n",
    "from sklearn.tree import plot_tree\n",
    "from imblearn.pipeline import make_pipeline\n",
    "\n",
    "# Undersampling \n",
    "# Note: undersampling was used in at least 1 paper predicting popularity (Gao 2021)\n",
    "from sklearn.model_selection import StratifiedKFold\n",
    "from imblearn.under_sampling import RandomUnderSampler\n",
    "from imblearn.over_sampling import RandomOverSampler\n",
    "\n",
    "# jupyter notebook full-width display\n",
    "from IPython.core.display import display, HTML\n",
    "display(HTML(\"<style>.container { width:100% !important; }</style>\"))\n",
    "\n",
    "# pandas formatting\n",
    "pd.set_option('display.float_format', '{:.3f}'.format)\n",
    "pd.set_option('display.max_columns', None)\n",
    "pd.set_option('display.max_rows', 200)\n",
    "\n",
    "# plotting\n",
    "import matplotlib.pyplot as plt\n",
    "import matplotlib as mpl\n",
    "import time\n",
    "import seaborn as sns\n",
    "sns.set_theme()"
   ]
  },
  {
   "cell_type": "code",
   "execution_count": 2,
   "id": "5cbcb793",
   "metadata": {},
   "outputs": [],
   "source": [
    "df_10M = pd.read_pickle('df_10M_clustered.pickle')\n",
    "X_all = pd.read_pickle('X_clustered.pickle')"
   ]
  },
  {
   "cell_type": "markdown",
   "id": "0ed65dd3",
   "metadata": {},
   "source": [
    "# Create Datasets for Prediction"
   ]
  },
  {
   "cell_type": "code",
   "execution_count": 3,
   "id": "065df1b5",
   "metadata": {},
   "outputs": [],
   "source": [
    "y_column = 'in_B100'\n",
    "X_columns = [\n",
    "    'mode', 'acousticness', 'danceability', 'duration_ms', 'energy',\n",
    "    'instrumentalness', 'liveness', 'loudness', 'speechiness', 'tempo', 'valence'\n",
    "]\n",
    "genre_columns = [\n",
    "    'is_Adult_Standard', 'is_Rock', 'is_R&B', 'is_Country', 'is_Pop',\n",
    "    'is_Rap', 'is_Alternative', 'is_EDM', 'is_Metal'\n",
    "]\n",
    "cluster_columns = ['cluster', 'cluster2']\n",
    "other_columns = ['key', 'time_signature', 'genre', 'release_date']\n"
   ]
  },
  {
   "cell_type": "code",
   "execution_count": 4,
   "id": "d64aee47",
   "metadata": {},
   "outputs": [],
   "source": [
    "# create a dict with all 'name': (X, y) key match pairs\n",
    "clusters = {}\n",
    "\n",
    "# entire predictive dataset\n",
    "clusters['All'] = (X_all[X_columns+genre_columns], X_all[y_column])\n",
    "# clusters['All'] = (X_all[X_columns], X_all[y_column])\n",
    "\n",
    "# add genres\n",
    "for genre in genre_columns:\n",
    "    title = genre[3:]\n",
    "    clusters[title] = (X_all[X_all[genre]][X_columns], X_all[X_all[genre]][y_column])\n",
    "    \n",
    "# add clusters\n",
    "for n in sorted(X_all['cluster'].unique()):\n",
    "    title = genre[3:]\n",
    "    clusters['cluster1_' + str(n)] = (X_all[X_all['cluster'] == n][X_columns], X_all[X_all['cluster'] == n][y_column])\n",
    "    \n",
    "for n in sorted(X_all['cluster2'].unique()):\n",
    "    title = genre[3:]\n",
    "    clusters['cluster2_' + str(n)] = (X_all[X_all['cluster2'] == n][X_columns], X_all[X_all['cluster2'] == n][y_column])\n",
    "    \n",
    "# setup tuning algorithm with a small dataset\n",
    "small = X_all.sample(10_000, random_state=42)\n",
    "X_small = small[X_columns]\n",
    "y_small = small[y_column]\n",
    "clusters['small'] = (X_small, y_small)\n",
    "    \n",
    "# OPTIONAL IF TIME PERMITS: consider adding decades or eras of music"
   ]
  },
  {
   "cell_type": "markdown",
   "id": "8a98d9ab",
   "metadata": {},
   "source": [
    "# Tune Algorithms"
   ]
  },
  {
   "cell_type": "code",
   "execution_count": 5,
   "id": "2a9f9278",
   "metadata": {},
   "outputs": [],
   "source": [
    "cluster_keys = [\n",
    "    'All', \n",
    "    'Adult_Standard', 'Rock', 'R&B', 'Country', 'Pop', 'Rap', 'Alternative', 'EDM', 'Metal', \n",
    "    'cluster1_0', 'cluster1_1', 'cluster1_2', 'cluster1_3', \n",
    "    'cluster2_0', 'cluster2_1', 'cluster2_2', 'cluster2_3', 'cluster2_4', \n",
    "    'cluster2_5', 'cluster2_6', 'cluster2_7', 'cluster2_8', 'cluster2_9',\n",
    "    'small'\n",
    "]"
   ]
  },
  {
   "cell_type": "code",
   "execution_count": 6,
   "id": "1a2b45a9",
   "metadata": {},
   "outputs": [],
   "source": [
    "# setup model parameters for grid search\n",
    "\n",
    "ML_algorithms = [\n",
    "    LogisticRegression,\n",
    "    DecisionTreeClassifier,\n",
    "    KNeighborsClassifier,\n",
    "    RandomForestClassifier,\n",
    "    AdaBoostClassifier\n",
    "]\n",
    "\n",
    "param_by_model = {}\n",
    "\n",
    "params_lr = {}\n",
    "orders_of_magnitude = []\n",
    "for lst in [[int(x)/10000 for x in range(1, 11)],\n",
    "            [int(x)/1000 for x in range(1, 11)],\n",
    "            [int(x)/100 for x in range(1, 11)],\n",
    "            [int(x)/10 for x in range(1, 11)],\n",
    "            [1 * x for x in range(1, 11)],\n",
    "            [10 * x for x in range(1, 11)],\n",
    "            [100 * x for x in range(1, 11)],\n",
    "            [1000 * x for x in range(1, 11)]]:\n",
    "    orders_of_magnitude += lst\n",
    "params_lr['logisticregression__penalty'] = ['l1', 'l2']\n",
    "params_lr['logisticregression__C'] = orders_of_magnitude\n",
    "params_lr['logisticregression__solver'] = ['liblinear']\n",
    "param_by_model[0] = params_lr\n",
    "\n",
    "params_dt = {}\n",
    "params_dt['decisiontreeclassifier__max_depth'] = [3, 4, 5, 6, 7, 8, 9, 10, 15, 20, 25, 30, 40, 50, 100, None]\n",
    "params_dt['decisiontreeclassifier__min_samples_leaf'] = [5, 10, 50, 100, 1000]\n",
    "params_dt['decisiontreeclassifier__criterion'] = ['gini', 'entropy']\n",
    "param_by_model[1] = params_dt\n",
    "\n",
    "params_knn = {}\n",
    "params_knn['kneighborsclassifier__n_neighbors'] = [x for x in range(2,20)]+[x for x in range(20,101,5)]\n",
    "params_knn['kneighborsclassifier__weights'] = ['uniform', 'distance']\n",
    "params_knn['kneighborsclassifier__metric'] = ['minkowski', 'euclidean', 'manhattan']\n",
    "param_by_model[2] = params_knn\n",
    "\n",
    "params_rf = {}\n",
    "params_rf['randomforestclassifier__n_estimators'] = [5, 10, 20, 50, 100, 200, 500, 1000, 2000]\n",
    "params_rf['randomforestclassifier__max_features'] = ['sqrt', 'log2']\n",
    "params_rf['randomforestclassifier__max_depth'] = [3, 5, 7, 10, 15, 20, 30, 50, 100, None]\n",
    "params_rf['randomforestclassifier__min_samples_leaf'] = [5, 10, 50, 100, 1000]\n",
    "params_rf['randomforestclassifier__bootstrap'] = [True, False]\n",
    "param_by_model[3] = params_rf\n",
    "\n",
    "params_ab = {}\n",
    "params_ab['adaboostclassifier__n_estimators'] = [10, 50, 100, 200, 500, 1000, 2000, 5000, 10000]\n",
    "params_ab['adaboostclassifier__learning_rate'] = [0.0001, 0.001, 0.01, 0.05, 0.1, 0.5, 1.0, 1.5, 2.0]\n",
    "params_ab['adaboostclassifier__algorithm'] = ['SAMME', 'SAMME.R']\n",
    "param_by_model[4] = params_ab"
   ]
  },
  {
   "cell_type": "code",
   "execution_count": 29,
   "id": "e96e64ec",
   "metadata": {},
   "outputs": [
    {
     "name": "stdout",
     "output_type": "stream",
     "text": [
      "LogisticRegression 160\n",
      "DecisionTreeClassifier 160\n",
      "KNeighborsClassifier 210\n",
      "RandomForestClassifier 1800\n",
      "AdaBoostClassifier 162\n"
     ]
    }
   ],
   "source": [
    "# how many scenarios in the grid search\n",
    "\n",
    "def how_many_scenarios(n_ML):\n",
    "    n_scenarios = 1\n",
    "    for key in param_by_model[n_ML].keys():\n",
    "        n_scenarios *=  len(param_by_model[n_ML][key])\n",
    "    return n_scenarios\n",
    "\n",
    "for i in range(5):\n",
    "    print(str(ML_algorithms[i]())[:-2], how_many_scenarios(i))"
   ]
  },
  {
   "cell_type": "code",
   "execution_count": 49,
   "id": "55c5b488",
   "metadata": {},
   "outputs": [],
   "source": [
    "def fit_predict_metric_model(n_ML, dataset='small', n_cv=5, scoring='roc_auc', undersample=True, cv_res_print=False, heatmap=False):\n",
    "    \n",
    "    # split the dataset into train test\n",
    "    X_, y_ = clusters[dataset]\n",
    "    X_train, X_test, y_train, y_test = train_test_split(X_, y_, test_size=0.2, random_state=42, stratify=y_)\n",
    "        \n",
    "    # params\n",
    "    param_grid = param_by_model[n_ML]\n",
    "\n",
    "    # pipeline\n",
    "    if undersample:\n",
    "        pipe = make_pipeline(\n",
    "            RandomUnderSampler(sampling_strategy='majority', random_state=42), \n",
    "            ML_algorithms[n_ML]()\n",
    "        )\n",
    "    else:\n",
    "        if n_ML in [0, 1, 3]:\n",
    "            pipe = make_pipeline(ML_algorithms[n_ML](class_weight='balanced'))\n",
    "        else:\n",
    "            pipe = make_pipeline(ML_algorithms[n_ML]())\n",
    "\n",
    "    # gridsearch\n",
    "    cv = StratifiedKFold(n_splits=n_cv, shuffle=True)\n",
    "    grid = GridSearchCV(\n",
    "        estimator = pipe,\n",
    "        param_grid = param_grid,\n",
    "        cv = cv,\n",
    "        scoring = scoring, \n",
    "        n_jobs = -1\n",
    "    )\n",
    "\n",
    "    # calculate best parameters\n",
    "    grid.fit(X_train, y_train)\n",
    "\n",
    "    # results\n",
    "    cv_results = (\n",
    "        grid.best_params_,\n",
    "        grid.cv_results_['mean_test_score'].mean(), \n",
    "        grid.cv_results_['mean_test_score'].min(), \n",
    "        grid.cv_results_['mean_test_score'].max()\n",
    "    )\n",
    "    \n",
    "    # print header\n",
    "    if undersample:\n",
    "        undersample_description = 'Undersampled'\n",
    "    else:\n",
    "        undersample_description = 'Full Dataset'\n",
    "    print(\n",
    "        '\\nScenario\\n------------------------------\\n', str(ML_algorithms[0]())[:-2], \n",
    "        dataset.title(), \n",
    "        scoring, \n",
    "        undersample_description\n",
    "    )\n",
    "    \n",
    "    if cv_res_print:\n",
    "        # print cv results\n",
    "        print('\\nCrossvalidation Results\\n------------------------------')\n",
    "        for i in cv_results:\n",
    "            print(i)\n",
    "\n",
    "    # print predictions\n",
    "    y_pred = grid.predict(X_test)\n",
    "    print('\\nClassification Report\\n------------------------------\\n', classification_report(y_test, y_pred))\n",
    "    \n",
    "    if heatmap:\n",
    "        print('\\nConfusion Matrix\\n------------------------------')\n",
    "        plt.subplots(figsize=(6, 6))\n",
    "        sns.heatmap(confusion_matrix(y_test, y_pred), vmin=0, cmap='Blues', annot=True, fmt='.0f', cbar=False,\n",
    "                   xticklabels=['Not Popular', 'Billboard Hit'], yticklabels=['Not Popular', 'Billboard Hit'])\n",
    "        plt.ylabel('Predicted')\n",
    "        plt.xlabel('Actual')\n",
    "        plt.show()"
   ]
  },
  {
   "cell_type": "code",
   "execution_count": 41,
   "id": "a7164962",
   "metadata": {},
   "outputs": [],
   "source": [
    "# scenarios to check\n",
    "\n",
    "metrics = [\n",
    "    'balanced_accuracy', 'average_precision', 'neg_brier_score', 'f1', 'f1_micro', \n",
    "    'f1_macro', 'f1_weighted', 'neg_log_loss', 'precision', 'recall', 'roc_auc', 'jaccard'\n",
    "]\n",
    "\n",
    "cluster1_keys = [\n",
    "    'cluster1_0', 'cluster1_1', 'cluster1_2', 'cluster1_3'\n",
    "]\n",
    "\n",
    "cluster2_keys = [\n",
    "    'cluster2_0', 'cluster2_1', 'cluster2_2', 'cluster2_3', 'cluster2_4', \n",
    "    'cluster2_5', 'cluster2_6', 'cluster2_7', 'cluster2_8', 'cluster2_9',\n",
    "]\n",
    "\n",
    "genre_keys = [\n",
    "    'Adult_Standard', 'Rock', 'R&B', 'Country', 'Pop', 'Rap', 'Alternative', 'EDM', 'Metal'\n",
    "]"
   ]
  },
  {
   "cell_type": "markdown",
   "id": "6b33e14d",
   "metadata": {},
   "source": [
    "# LAST TRY: narrow results by year\n",
    "## still no.  this looks untrainable.\n",
    "maybe a neural network will have better luck..."
   ]
  },
  {
   "cell_type": "code",
   "execution_count": 71,
   "id": "b31c46a2",
   "metadata": {},
   "outputs": [
    {
     "data": {
      "text/plain": [
       "1321"
      ]
     },
     "execution_count": 71,
     "metadata": {},
     "output_type": "execute_result"
    }
   ],
   "source": [
    "X_ = X_all[(X_all['is_Rock']) & (X_all.release_date.dt.year.isin(list(range(2010, 2022))))][X_columns]\n",
    "y_ = X_all[(X_all['is_Rock']) & (X_all.release_date.dt.year.isin(list(range(2010, 2022))))][y_column]\n",
    "\n",
    "clusters['modern_rock'] = X_, y_\n",
    "clusters['modern_rock'][1].sum()"
   ]
  },
  {
   "cell_type": "code",
   "execution_count": 72,
   "id": "262ea0b6",
   "metadata": {},
   "outputs": [
    {
     "name": "stdout",
     "output_type": "stream",
     "text": [
      "\n",
      "Scenario\n",
      "------------------------------\n",
      " LogisticRegression Modern_Rock roc_auc Undersampled\n",
      "\n",
      "Classification Report\n",
      "------------------------------\n",
      "               precision    recall  f1-score   support\n",
      "\n",
      "       False       1.00      0.60      0.75     56600\n",
      "        True       0.01      0.78      0.02       264\n",
      "\n",
      "    accuracy                           0.60     56864\n",
      "   macro avg       0.50      0.69      0.38     56864\n",
      "weighted avg       0.99      0.60      0.75     56864\n",
      "\n",
      "Wall time: 2min 10s\n"
     ]
    }
   ],
   "source": [
    "%%time\n",
    "fit_predict_metric_model(0, dataset='modern_rock', n_cv=3, scoring='roc_auc', cv_res_print=False, undersample=True, heatmap=False)"
   ]
  },
  {
   "cell_type": "code",
   "execution_count": 73,
   "id": "85114ea3",
   "metadata": {
    "scrolled": false
   },
   "outputs": [
    {
     "name": "stdout",
     "output_type": "stream",
     "text": [
      "\n",
      "Scenario\n",
      "------------------------------\n",
      " LogisticRegression Modern_Rock balanced_accuracy Undersampled\n",
      "\n",
      "Classification Report\n",
      "------------------------------\n",
      "               precision    recall  f1-score   support\n",
      "\n",
      "       False       1.00      0.60      0.75     56600\n",
      "        True       0.01      0.77      0.02       264\n",
      "\n",
      "    accuracy                           0.60     56864\n",
      "   macro avg       0.50      0.69      0.38     56864\n",
      "weighted avg       0.99      0.60      0.74     56864\n",
      "\n",
      "\n",
      "Scenario\n",
      "------------------------------\n",
      " LogisticRegression Modern_Rock average_precision Undersampled\n",
      "\n",
      "Classification Report\n",
      "------------------------------\n",
      "               precision    recall  f1-score   support\n",
      "\n",
      "       False       1.00      0.60      0.75     56600\n",
      "        True       0.01      0.78      0.02       264\n",
      "\n",
      "    accuracy                           0.60     56864\n",
      "   macro avg       0.50      0.69      0.38     56864\n",
      "weighted avg       0.99      0.60      0.75     56864\n",
      "\n",
      "\n",
      "Scenario\n",
      "------------------------------\n",
      " LogisticRegression Modern_Rock neg_brier_score Undersampled\n",
      "\n",
      "Classification Report\n",
      "------------------------------\n",
      "               precision    recall  f1-score   support\n",
      "\n",
      "       False       1.00      0.60      0.75     56600\n",
      "        True       0.01      0.78      0.02       264\n",
      "\n",
      "    accuracy                           0.60     56864\n",
      "   macro avg       0.50      0.69      0.38     56864\n",
      "weighted avg       0.99      0.60      0.75     56864\n",
      "\n",
      "\n",
      "Scenario\n",
      "------------------------------\n",
      " LogisticRegression Modern_Rock f1 Undersampled\n",
      "\n",
      "Classification Report\n",
      "------------------------------\n",
      "               precision    recall  f1-score   support\n",
      "\n",
      "       False       1.00      0.60      0.75     56600\n",
      "        True       0.01      0.77      0.02       264\n",
      "\n",
      "    accuracy                           0.60     56864\n",
      "   macro avg       0.50      0.69      0.38     56864\n",
      "weighted avg       0.99      0.60      0.75     56864\n",
      "\n",
      "\n",
      "Scenario\n",
      "------------------------------\n",
      " LogisticRegression Modern_Rock f1_micro Undersampled\n",
      "\n",
      "Classification Report\n",
      "------------------------------\n",
      "               precision    recall  f1-score   support\n",
      "\n",
      "       False       1.00      1.00      1.00     56600\n",
      "        True       0.00      0.00      0.00       264\n",
      "\n",
      "    accuracy                           1.00     56864\n",
      "   macro avg       0.50      0.50      0.50     56864\n",
      "weighted avg       0.99      1.00      0.99     56864\n",
      "\n"
     ]
    },
    {
     "name": "stderr",
     "output_type": "stream",
     "text": [
      "C:\\Users\\Kevin\\anaconda3\\lib\\site-packages\\sklearn\\metrics\\_classification.py:1334: UndefinedMetricWarning: Precision and F-score are ill-defined and being set to 0.0 in labels with no predicted samples. Use `zero_division` parameter to control this behavior.\n",
      "  _warn_prf(average, modifier, msg_start, len(result))\n",
      "C:\\Users\\Kevin\\anaconda3\\lib\\site-packages\\sklearn\\metrics\\_classification.py:1334: UndefinedMetricWarning: Precision and F-score are ill-defined and being set to 0.0 in labels with no predicted samples. Use `zero_division` parameter to control this behavior.\n",
      "  _warn_prf(average, modifier, msg_start, len(result))\n",
      "C:\\Users\\Kevin\\anaconda3\\lib\\site-packages\\sklearn\\metrics\\_classification.py:1334: UndefinedMetricWarning: Precision and F-score are ill-defined and being set to 0.0 in labels with no predicted samples. Use `zero_division` parameter to control this behavior.\n",
      "  _warn_prf(average, modifier, msg_start, len(result))\n"
     ]
    },
    {
     "name": "stdout",
     "output_type": "stream",
     "text": [
      "\n",
      "Scenario\n",
      "------------------------------\n",
      " LogisticRegression Modern_Rock f1_macro Undersampled\n",
      "\n",
      "Classification Report\n",
      "------------------------------\n",
      "               precision    recall  f1-score   support\n",
      "\n",
      "       False       1.00      1.00      1.00     56600\n",
      "        True       0.00      0.00      0.00       264\n",
      "\n",
      "    accuracy                           1.00     56864\n",
      "   macro avg       0.50      0.50      0.50     56864\n",
      "weighted avg       0.99      1.00      0.99     56864\n",
      "\n"
     ]
    },
    {
     "name": "stderr",
     "output_type": "stream",
     "text": [
      "C:\\Users\\Kevin\\anaconda3\\lib\\site-packages\\sklearn\\metrics\\_classification.py:1334: UndefinedMetricWarning: Precision and F-score are ill-defined and being set to 0.0 in labels with no predicted samples. Use `zero_division` parameter to control this behavior.\n",
      "  _warn_prf(average, modifier, msg_start, len(result))\n",
      "C:\\Users\\Kevin\\anaconda3\\lib\\site-packages\\sklearn\\metrics\\_classification.py:1334: UndefinedMetricWarning: Precision and F-score are ill-defined and being set to 0.0 in labels with no predicted samples. Use `zero_division` parameter to control this behavior.\n",
      "  _warn_prf(average, modifier, msg_start, len(result))\n",
      "C:\\Users\\Kevin\\anaconda3\\lib\\site-packages\\sklearn\\metrics\\_classification.py:1334: UndefinedMetricWarning: Precision and F-score are ill-defined and being set to 0.0 in labels with no predicted samples. Use `zero_division` parameter to control this behavior.\n",
      "  _warn_prf(average, modifier, msg_start, len(result))\n"
     ]
    },
    {
     "name": "stdout",
     "output_type": "stream",
     "text": [
      "\n",
      "Scenario\n",
      "------------------------------\n",
      " LogisticRegression Modern_Rock f1_weighted Undersampled\n",
      "\n",
      "Classification Report\n",
      "------------------------------\n",
      "               precision    recall  f1-score   support\n",
      "\n",
      "       False       1.00      1.00      1.00     56600\n",
      "        True       0.00      0.00      0.00       264\n",
      "\n",
      "    accuracy                           1.00     56864\n",
      "   macro avg       0.50      0.50      0.50     56864\n",
      "weighted avg       0.99      1.00      0.99     56864\n",
      "\n"
     ]
    },
    {
     "name": "stderr",
     "output_type": "stream",
     "text": [
      "C:\\Users\\Kevin\\anaconda3\\lib\\site-packages\\sklearn\\metrics\\_classification.py:1334: UndefinedMetricWarning: Precision and F-score are ill-defined and being set to 0.0 in labels with no predicted samples. Use `zero_division` parameter to control this behavior.\n",
      "  _warn_prf(average, modifier, msg_start, len(result))\n",
      "C:\\Users\\Kevin\\anaconda3\\lib\\site-packages\\sklearn\\metrics\\_classification.py:1334: UndefinedMetricWarning: Precision and F-score are ill-defined and being set to 0.0 in labels with no predicted samples. Use `zero_division` parameter to control this behavior.\n",
      "  _warn_prf(average, modifier, msg_start, len(result))\n",
      "C:\\Users\\Kevin\\anaconda3\\lib\\site-packages\\sklearn\\metrics\\_classification.py:1334: UndefinedMetricWarning: Precision and F-score are ill-defined and being set to 0.0 in labels with no predicted samples. Use `zero_division` parameter to control this behavior.\n",
      "  _warn_prf(average, modifier, msg_start, len(result))\n"
     ]
    },
    {
     "name": "stdout",
     "output_type": "stream",
     "text": [
      "\n",
      "Scenario\n",
      "------------------------------\n",
      " LogisticRegression Modern_Rock neg_log_loss Undersampled\n",
      "\n",
      "Classification Report\n",
      "------------------------------\n",
      "               precision    recall  f1-score   support\n",
      "\n",
      "       False       1.00      0.60      0.75     56600\n",
      "        True       0.01      0.78      0.02       264\n",
      "\n",
      "    accuracy                           0.60     56864\n",
      "   macro avg       0.50      0.69      0.38     56864\n",
      "weighted avg       0.99      0.60      0.75     56864\n",
      "\n",
      "\n",
      "Scenario\n",
      "------------------------------\n",
      " LogisticRegression Modern_Rock precision Undersampled\n",
      "\n",
      "Classification Report\n",
      "------------------------------\n",
      "               precision    recall  f1-score   support\n",
      "\n",
      "       False       1.00      0.60      0.75     56600\n",
      "        True       0.01      0.77      0.02       264\n",
      "\n",
      "    accuracy                           0.60     56864\n",
      "   macro avg       0.50      0.69      0.38     56864\n",
      "weighted avg       0.99      0.60      0.75     56864\n",
      "\n",
      "\n",
      "Scenario\n",
      "------------------------------\n",
      " LogisticRegression Modern_Rock recall Undersampled\n",
      "\n",
      "Classification Report\n",
      "------------------------------\n",
      "               precision    recall  f1-score   support\n",
      "\n",
      "       False       1.00      0.08      0.15     56600\n",
      "        True       0.01      1.00      0.01       264\n",
      "\n",
      "    accuracy                           0.08     56864\n",
      "   macro avg       0.50      0.54      0.08     56864\n",
      "weighted avg       1.00      0.08      0.15     56864\n",
      "\n",
      "\n",
      "Scenario\n",
      "------------------------------\n",
      " LogisticRegression Modern_Rock roc_auc Undersampled\n",
      "\n",
      "Classification Report\n",
      "------------------------------\n",
      "               precision    recall  f1-score   support\n",
      "\n",
      "       False       1.00      0.60      0.75     56600\n",
      "        True       0.01      0.78      0.02       264\n",
      "\n",
      "    accuracy                           0.60     56864\n",
      "   macro avg       0.50      0.69      0.38     56864\n",
      "weighted avg       0.99      0.60      0.75     56864\n",
      "\n",
      "\n",
      "Scenario\n",
      "------------------------------\n",
      " LogisticRegression Modern_Rock jaccard Undersampled\n",
      "\n",
      "Classification Report\n",
      "------------------------------\n",
      "               precision    recall  f1-score   support\n",
      "\n",
      "       False       1.00      0.60      0.75     56600\n",
      "        True       0.01      0.77      0.02       264\n",
      "\n",
      "    accuracy                           0.60     56864\n",
      "   macro avg       0.50      0.69      0.38     56864\n",
      "weighted avg       0.99      0.60      0.75     56864\n",
      "\n",
      "Wall time: 43min 11s\n"
     ]
    }
   ],
   "source": [
    "%%time\n",
    "# check metrics\n",
    "undersample = True\n",
    "\n",
    "for metric in metrics:\n",
    "    fit_predict_metric_model(0, dataset='modern_rock', n_cv=5, scoring=metric, \n",
    "                             cv_res_print=False, undersample=undersample, heatmap=False)"
   ]
  },
  {
   "cell_type": "markdown",
   "id": "4d9147fb",
   "metadata": {},
   "source": [
    "# OLD CODE: no meaningful results"
   ]
  },
  {
   "cell_type": "markdown",
   "id": "5bfe8f12",
   "metadata": {},
   "source": [
    "##### Logistic Regression - try a bunch of metrics fully sampled"
   ]
  },
  {
   "cell_type": "code",
   "execution_count": 50,
   "id": "2cc4b7a9",
   "metadata": {},
   "outputs": [
    {
     "name": "stdout",
     "output_type": "stream",
     "text": [
      "\n",
      "Scenario\n",
      "------------------------------\n",
      " LogisticRegression Small roc_auc Undersampled\n",
      "\n",
      "Classification Report\n",
      "------------------------------\n",
      "               precision    recall  f1-score   support\n",
      "\n",
      "       False       1.00      0.35      0.52      1994\n",
      "        True       0.00      0.83      0.01         6\n",
      "\n",
      "    accuracy                           0.35      2000\n",
      "   macro avg       0.50      0.59      0.26      2000\n",
      "weighted avg       1.00      0.35      0.52      2000\n",
      "\n",
      "Wall time: 2.68 s\n"
     ]
    }
   ],
   "source": [
    "%%time\n",
    "fit_predict_metric_model(0, dataset='small', n_cv=5, scoring=metric, cv_res_print=False, undersample=True, heatmap=False)"
   ]
  },
  {
   "cell_type": "code",
   "execution_count": 51,
   "id": "a7b90263",
   "metadata": {},
   "outputs": [
    {
     "name": "stdout",
     "output_type": "stream",
     "text": [
      "\n",
      "Scenario\n",
      "------------------------------\n",
      " LogisticRegression Small roc_auc Full Dataset\n",
      "\n",
      "Classification Report\n",
      "------------------------------\n",
      "               precision    recall  f1-score   support\n",
      "\n",
      "       False       1.00      0.59      0.74      1994\n",
      "        True       0.00      0.67      0.01         6\n",
      "\n",
      "    accuracy                           0.59      2000\n",
      "   macro avg       0.50      0.63      0.38      2000\n",
      "weighted avg       1.00      0.59      0.74      2000\n",
      "\n",
      "Wall time: 18.2 s\n"
     ]
    }
   ],
   "source": [
    "%%time\n",
    "fit_predict_metric_model(0, dataset='small', n_cv=5, scoring=metric, cv_res_print=False, undersample=False, heatmap=False)"
   ]
  },
  {
   "cell_type": "code",
   "execution_count": 52,
   "id": "a6b1734c",
   "metadata": {
    "scrolled": false
   },
   "outputs": [
    {
     "name": "stdout",
     "output_type": "stream",
     "text": [
      "\n",
      "Scenario\n",
      "------------------------------\n",
      " LogisticRegression Small balanced_accuracy Undersampled\n",
      "\n",
      "Classification Report\n",
      "------------------------------\n",
      "               precision    recall  f1-score   support\n",
      "\n",
      "       False       1.00      0.42      0.59      1994\n",
      "        True       0.00      0.83      0.01         6\n",
      "\n",
      "    accuracy                           0.42      2000\n",
      "   macro avg       0.50      0.63      0.30      2000\n",
      "weighted avg       1.00      0.42      0.59      2000\n",
      "\n",
      "\n",
      "Scenario\n",
      "------------------------------\n",
      " LogisticRegression Small average_precision Undersampled\n",
      "\n",
      "Classification Report\n",
      "------------------------------\n",
      "               precision    recall  f1-score   support\n",
      "\n",
      "       False       1.00      0.42      0.60      1994\n",
      "        True       0.00      0.67      0.01         6\n",
      "\n",
      "    accuracy                           0.42      2000\n",
      "   macro avg       0.50      0.55      0.30      2000\n",
      "weighted avg       0.99      0.42      0.59      2000\n",
      "\n",
      "\n",
      "Scenario\n",
      "------------------------------\n",
      " LogisticRegression Small neg_brier_score Undersampled\n",
      "\n",
      "Classification Report\n",
      "------------------------------\n",
      "               precision    recall  f1-score   support\n",
      "\n",
      "       False       1.00      0.35      0.52      1994\n",
      "        True       0.00      0.83      0.01         6\n",
      "\n",
      "    accuracy                           0.35      2000\n",
      "   macro avg       0.50      0.59      0.26      2000\n",
      "weighted avg       1.00      0.35      0.52      2000\n",
      "\n",
      "\n",
      "Scenario\n",
      "------------------------------\n",
      " LogisticRegression Small f1 Undersampled\n",
      "\n",
      "Classification Report\n",
      "------------------------------\n",
      "               precision    recall  f1-score   support\n",
      "\n",
      "       False       1.00      0.44      0.61      1994\n",
      "        True       0.00      0.83      0.01         6\n",
      "\n",
      "    accuracy                           0.45      2000\n",
      "   macro avg       0.50      0.64      0.31      2000\n",
      "weighted avg       1.00      0.45      0.61      2000\n",
      "\n",
      "\n",
      "Scenario\n",
      "------------------------------\n",
      " LogisticRegression Small f1_micro Undersampled\n",
      "\n",
      "Classification Report\n",
      "------------------------------\n",
      "               precision    recall  f1-score   support\n",
      "\n",
      "       False       1.00      1.00      1.00      1994\n",
      "        True       0.00      0.00      0.00         6\n",
      "\n",
      "    accuracy                           1.00      2000\n",
      "   macro avg       0.50      0.50      0.50      2000\n",
      "weighted avg       0.99      1.00      1.00      2000\n",
      "\n"
     ]
    },
    {
     "name": "stderr",
     "output_type": "stream",
     "text": [
      "C:\\Users\\Kevin\\anaconda3\\lib\\site-packages\\sklearn\\metrics\\_classification.py:1334: UndefinedMetricWarning: Precision and F-score are ill-defined and being set to 0.0 in labels with no predicted samples. Use `zero_division` parameter to control this behavior.\n",
      "  _warn_prf(average, modifier, msg_start, len(result))\n",
      "C:\\Users\\Kevin\\anaconda3\\lib\\site-packages\\sklearn\\metrics\\_classification.py:1334: UndefinedMetricWarning: Precision and F-score are ill-defined and being set to 0.0 in labels with no predicted samples. Use `zero_division` parameter to control this behavior.\n",
      "  _warn_prf(average, modifier, msg_start, len(result))\n",
      "C:\\Users\\Kevin\\anaconda3\\lib\\site-packages\\sklearn\\metrics\\_classification.py:1334: UndefinedMetricWarning: Precision and F-score are ill-defined and being set to 0.0 in labels with no predicted samples. Use `zero_division` parameter to control this behavior.\n",
      "  _warn_prf(average, modifier, msg_start, len(result))\n"
     ]
    },
    {
     "name": "stdout",
     "output_type": "stream",
     "text": [
      "\n",
      "Scenario\n",
      "------------------------------\n",
      " LogisticRegression Small f1_macro Undersampled\n",
      "\n",
      "Classification Report\n",
      "------------------------------\n",
      "               precision    recall  f1-score   support\n",
      "\n",
      "       False       1.00      1.00      1.00      1994\n",
      "        True       0.00      0.00      0.00         6\n",
      "\n",
      "    accuracy                           1.00      2000\n",
      "   macro avg       0.50      0.50      0.50      2000\n",
      "weighted avg       0.99      1.00      1.00      2000\n",
      "\n"
     ]
    },
    {
     "name": "stderr",
     "output_type": "stream",
     "text": [
      "C:\\Users\\Kevin\\anaconda3\\lib\\site-packages\\sklearn\\metrics\\_classification.py:1334: UndefinedMetricWarning: Precision and F-score are ill-defined and being set to 0.0 in labels with no predicted samples. Use `zero_division` parameter to control this behavior.\n",
      "  _warn_prf(average, modifier, msg_start, len(result))\n",
      "C:\\Users\\Kevin\\anaconda3\\lib\\site-packages\\sklearn\\metrics\\_classification.py:1334: UndefinedMetricWarning: Precision and F-score are ill-defined and being set to 0.0 in labels with no predicted samples. Use `zero_division` parameter to control this behavior.\n",
      "  _warn_prf(average, modifier, msg_start, len(result))\n",
      "C:\\Users\\Kevin\\anaconda3\\lib\\site-packages\\sklearn\\metrics\\_classification.py:1334: UndefinedMetricWarning: Precision and F-score are ill-defined and being set to 0.0 in labels with no predicted samples. Use `zero_division` parameter to control this behavior.\n",
      "  _warn_prf(average, modifier, msg_start, len(result))\n"
     ]
    },
    {
     "name": "stdout",
     "output_type": "stream",
     "text": [
      "\n",
      "Scenario\n",
      "------------------------------\n",
      " LogisticRegression Small f1_weighted Undersampled\n",
      "\n",
      "Classification Report\n",
      "------------------------------\n",
      "               precision    recall  f1-score   support\n",
      "\n",
      "       False       1.00      1.00      1.00      1994\n",
      "        True       0.00      0.00      0.00         6\n",
      "\n",
      "    accuracy                           1.00      2000\n",
      "   macro avg       0.50      0.50      0.50      2000\n",
      "weighted avg       0.99      1.00      1.00      2000\n",
      "\n"
     ]
    },
    {
     "name": "stderr",
     "output_type": "stream",
     "text": [
      "C:\\Users\\Kevin\\anaconda3\\lib\\site-packages\\sklearn\\metrics\\_classification.py:1334: UndefinedMetricWarning: Precision and F-score are ill-defined and being set to 0.0 in labels with no predicted samples. Use `zero_division` parameter to control this behavior.\n",
      "  _warn_prf(average, modifier, msg_start, len(result))\n",
      "C:\\Users\\Kevin\\anaconda3\\lib\\site-packages\\sklearn\\metrics\\_classification.py:1334: UndefinedMetricWarning: Precision and F-score are ill-defined and being set to 0.0 in labels with no predicted samples. Use `zero_division` parameter to control this behavior.\n",
      "  _warn_prf(average, modifier, msg_start, len(result))\n",
      "C:\\Users\\Kevin\\anaconda3\\lib\\site-packages\\sklearn\\metrics\\_classification.py:1334: UndefinedMetricWarning: Precision and F-score are ill-defined and being set to 0.0 in labels with no predicted samples. Use `zero_division` parameter to control this behavior.\n",
      "  _warn_prf(average, modifier, msg_start, len(result))\n"
     ]
    },
    {
     "name": "stdout",
     "output_type": "stream",
     "text": [
      "\n",
      "Scenario\n",
      "------------------------------\n",
      " LogisticRegression Small neg_log_loss Undersampled\n",
      "\n",
      "Classification Report\n",
      "------------------------------\n",
      "               precision    recall  f1-score   support\n",
      "\n",
      "       False       1.00      0.44      0.61      1994\n",
      "        True       0.00      0.83      0.01         6\n",
      "\n",
      "    accuracy                           0.45      2000\n",
      "   macro avg       0.50      0.64      0.31      2000\n",
      "weighted avg       1.00      0.45      0.61      2000\n",
      "\n",
      "\n",
      "Scenario\n",
      "------------------------------\n",
      " LogisticRegression Small precision Undersampled\n",
      "\n",
      "Classification Report\n",
      "------------------------------\n",
      "               precision    recall  f1-score   support\n",
      "\n",
      "       False       1.00      0.46      0.63      1994\n",
      "        True       0.00      0.83      0.01         6\n",
      "\n",
      "    accuracy                           0.46      2000\n",
      "   macro avg       0.50      0.65      0.32      2000\n",
      "weighted avg       1.00      0.46      0.63      2000\n",
      "\n",
      "\n",
      "Scenario\n",
      "------------------------------\n",
      " LogisticRegression Small recall Undersampled\n",
      "\n",
      "Classification Report\n",
      "------------------------------\n",
      "               precision    recall  f1-score   support\n",
      "\n",
      "       False       1.00      0.28      0.44      1994\n",
      "        True       0.00      0.83      0.01         6\n",
      "\n",
      "    accuracy                           0.28      2000\n",
      "   macro avg       0.50      0.56      0.22      2000\n",
      "weighted avg       1.00      0.28      0.44      2000\n",
      "\n",
      "\n",
      "Scenario\n",
      "------------------------------\n",
      " LogisticRegression Small roc_auc Undersampled\n",
      "\n",
      "Classification Report\n",
      "------------------------------\n",
      "               precision    recall  f1-score   support\n",
      "\n",
      "       False       1.00      0.38      0.55      1994\n",
      "        True       0.00      0.83      0.01         6\n",
      "\n",
      "    accuracy                           0.38      2000\n",
      "   macro avg       0.50      0.61      0.28      2000\n",
      "weighted avg       1.00      0.38      0.55      2000\n",
      "\n",
      "\n",
      "Scenario\n",
      "------------------------------\n",
      " LogisticRegression Small jaccard Undersampled\n",
      "\n",
      "Classification Report\n",
      "------------------------------\n",
      "               precision    recall  f1-score   support\n",
      "\n",
      "       False       1.00      0.48      0.65      1994\n",
      "        True       0.00      0.83      0.01         6\n",
      "\n",
      "    accuracy                           0.48      2000\n",
      "   macro avg       0.50      0.66      0.33      2000\n",
      "weighted avg       1.00      0.48      0.65      2000\n",
      "\n",
      "Wall time: 33.7 s\n"
     ]
    }
   ],
   "source": [
    "%%time\n",
    "# check metrics\n",
    "undersample = True\n",
    "\n",
    "for metric in metrics:\n",
    "    fit_predict_metric_model(0, dataset='small', n_cv=5, scoring=metric, cv_res_print=False, undersample=undersample, heatmap=False)"
   ]
  },
  {
   "cell_type": "code",
   "execution_count": 54,
   "id": "dcfebebb",
   "metadata": {},
   "outputs": [
    {
     "name": "stdout",
     "output_type": "stream",
     "text": [
      "\n",
      "Scenario\n",
      "------------------------------\n",
      " LogisticRegression Cluster1_0 roc_auc Undersampled\n",
      "\n",
      "Classification Report\n",
      "------------------------------\n",
      "               precision    recall  f1-score   support\n",
      "\n",
      "       False       1.00      0.73      0.85    246687\n",
      "        True       0.00      0.68      0.00        37\n",
      "\n",
      "    accuracy                           0.73    246724\n",
      "   macro avg       0.50      0.71      0.42    246724\n",
      "weighted avg       1.00      0.73      0.85    246724\n",
      "\n",
      "\n",
      "Scenario\n",
      "------------------------------\n",
      " LogisticRegression Cluster1_1 roc_auc Undersampled\n",
      "\n",
      "Classification Report\n",
      "------------------------------\n",
      "               precision    recall  f1-score   support\n",
      "\n",
      "       False       1.00      0.55      0.71    792706\n",
      "        True       0.01      0.67      0.01      2932\n",
      "\n",
      "    accuracy                           0.55    795638\n",
      "   macro avg       0.50      0.61      0.36    795638\n",
      "weighted avg       0.99      0.55      0.71    795638\n",
      "\n",
      "\n",
      "Scenario\n",
      "------------------------------\n",
      " LogisticRegression Cluster1_2 roc_auc Undersampled\n",
      "\n",
      "Classification Report\n",
      "------------------------------\n",
      "               precision    recall  f1-score   support\n",
      "\n",
      "       False       1.00      0.65      0.79    459788\n",
      "        True       0.01      0.70      0.01      1169\n",
      "\n",
      "    accuracy                           0.65    460957\n",
      "   macro avg       0.50      0.67      0.40    460957\n",
      "weighted avg       1.00      0.65      0.79    460957\n",
      "\n",
      "\n",
      "Scenario\n",
      "------------------------------\n",
      " LogisticRegression Cluster1_3 roc_auc Undersampled\n",
      "\n",
      "Classification Report\n",
      "------------------------------\n",
      "               precision    recall  f1-score   support\n",
      "\n",
      "       False       1.00      0.73      0.85    262118\n",
      "        True       0.00      0.77      0.00       108\n",
      "\n",
      "    accuracy                           0.73    262226\n",
      "   macro avg       0.50      0.75      0.42    262226\n",
      "weighted avg       1.00      0.73      0.85    262226\n",
      "\n",
      "Wall time: 2h 10min 9s\n"
     ]
    }
   ],
   "source": [
    "%%time\n",
    "# check clusters\n",
    "undersample = True\n",
    "\n",
    "for key in cluster1_keys:\n",
    "    fit_predict_metric_model(0, dataset=key, n_cv=5, scoring='roc_auc', cv_res_print=False, undersample=undersample, heatmap=False)"
   ]
  },
  {
   "cell_type": "markdown",
   "id": "798723c3",
   "metadata": {},
   "source": [
    "# OLDER CODE: no meaningful results"
   ]
  },
  {
   "cell_type": "markdown",
   "id": "11c29c2e",
   "metadata": {},
   "source": [
    "### Logistic Regression"
   ]
  },
  {
   "cell_type": "markdown",
   "id": "3793ae9b",
   "metadata": {},
   "source": [
    "#### huge loop (all night not nearly enough, better now anyway)"
   ]
  },
  {
   "cell_type": "code",
   "execution_count": 136,
   "id": "44e5024d",
   "metadata": {
    "scrolled": false
   },
   "outputs": [
    {
     "name": "stdout",
     "output_type": "stream",
     "text": [
      "\n",
      "Crossvalidation Results\n",
      "------------------------------\n",
      "{'logisticregression__C': 0.009, 'logisticregression__penalty': 'l2', 'logisticregression__solver': 'liblinear'}\n",
      "0.8042941132562011\n",
      "0.5\n",
      "0.8256946174731997\n",
      "\n",
      "Classification Report\n",
      "------------------------------\n",
      "               precision    recall  f1-score   support\n",
      "\n",
      "       False       1.00      0.81      0.89   1761298\n",
      "        True       0.01      0.84      0.02      4246\n",
      "\n",
      "    accuracy                           0.81   1765544\n",
      "   macro avg       0.50      0.83      0.46   1765544\n",
      "weighted avg       1.00      0.81      0.89   1765544\n",
      "\n",
      "\n",
      "Confusion Matrix\n",
      "------------------------------\n"
     ]
    },
    {
     "data": {
      "image/png": "[encoded data removed]",
      "text/plain": [
       "<Figure size 432x432 with 1 Axes>"
      ]
     },
     "metadata": {},
     "output_type": "display_data"
    },
    {
     "name": "stdout",
     "output_type": "stream",
     "text": [
      "\n",
      "Crossvalidation Results\n",
      "------------------------------\n",
      "{'logisticregression__C': 8, 'logisticregression__penalty': 'l1', 'logisticregression__solver': 'liblinear'}\n",
      "0.6869142495557456\n",
      "0.5\n",
      "0.7195639245553602\n",
      "\n",
      "Classification Report\n",
      "------------------------------\n",
      "               precision    recall  f1-score   support\n",
      "\n",
      "       False       0.99      0.69      0.81     41036\n",
      "        True       0.04      0.74      0.08       736\n",
      "\n",
      "    accuracy                           0.69     41772\n",
      "   macro avg       0.52      0.71      0.44     41772\n",
      "weighted avg       0.98      0.69      0.80     41772\n",
      "\n",
      "\n",
      "Confusion Matrix\n",
      "------------------------------\n"
     ]
    },
    {
     "data": {
      "image/png": "[encoded data removed]",
      "text/plain": [
       "<Figure size 432x432 with 1 Axes>"
      ]
     },
     "metadata": {},
     "output_type": "display_data"
    },
    {
     "name": "stdout",
     "output_type": "stream",
     "text": [
      "\n",
      "Crossvalidation Results\n",
      "------------------------------\n",
      "{'logisticregression__C': 5000, 'logisticregression__penalty': 'l1', 'logisticregression__solver': 'liblinear'}\n",
      "0.6332849131218476\n",
      "0.5\n",
      "0.6582952381472722\n",
      "\n",
      "Classification Report\n",
      "------------------------------\n",
      "               precision    recall  f1-score   support\n",
      "\n",
      "       False       1.00      0.56      0.72    130174\n",
      "        True       0.02      0.76      0.03      1262\n",
      "\n",
      "    accuracy                           0.56    131436\n",
      "   macro avg       0.51      0.66      0.37    131436\n",
      "weighted avg       0.99      0.56      0.71    131436\n",
      "\n",
      "\n",
      "Confusion Matrix\n",
      "------------------------------\n"
     ]
    },
    {
     "data": {
      "image/png": "[encoded data removed]",
      "text/plain": [
       "<Figure size 432x432 with 1 Axes>"
      ]
     },
     "metadata": {},
     "output_type": "display_data"
    },
    {
     "name": "stdout",
     "output_type": "stream",
     "text": [
      "\n",
      "Crossvalidation Results\n",
      "------------------------------\n",
      "{'logisticregression__C': 8, 'logisticregression__penalty': 'l2', 'logisticregression__solver': 'liblinear'}\n",
      "0.6344145961763789\n",
      "0.5\n",
      "0.6656131612510923\n",
      "\n",
      "Classification Report\n",
      "------------------------------\n",
      "               precision    recall  f1-score   support\n",
      "\n",
      "       False       0.99      0.58      0.73     26723\n",
      "        True       0.04      0.72      0.07       593\n",
      "\n",
      "    accuracy                           0.58     27316\n",
      "   macro avg       0.51      0.65      0.40     27316\n",
      "weighted avg       0.97      0.58      0.72     27316\n",
      "\n",
      "\n",
      "Confusion Matrix\n",
      "------------------------------\n"
     ]
    },
    {
     "data": {
      "image/png": "[encoded data removed]",
      "text/plain": [
       "<Figure size 432x432 with 1 Axes>"
      ]
     },
     "metadata": {},
     "output_type": "display_data"
    },
    {
     "name": "stdout",
     "output_type": "stream",
     "text": [
      "\n",
      "Crossvalidation Results\n",
      "------------------------------\n",
      "{'logisticregression__C': 200, 'logisticregression__penalty': 'l1', 'logisticregression__solver': 'liblinear'}\n",
      "0.6732711489948734\n",
      "0.5\n",
      "0.7081113204966838\n",
      "\n",
      "Classification Report\n",
      "------------------------------\n",
      "               precision    recall  f1-score   support\n",
      "\n",
      "       False       1.00      0.65      0.79     53554\n",
      "        True       0.02      0.75      0.04       490\n",
      "\n",
      "    accuracy                           0.65     54044\n",
      "   macro avg       0.51      0.70      0.41     54044\n",
      "weighted avg       0.99      0.65      0.78     54044\n",
      "\n",
      "\n",
      "Confusion Matrix\n",
      "------------------------------\n"
     ]
    },
    {
     "data": {
      "image/png": "[encoded data removed]",
      "text/plain": [
       "<Figure size 432x432 with 1 Axes>"
      ]
     },
     "metadata": {},
     "output_type": "display_data"
    },
    {
     "name": "stdout",
     "output_type": "stream",
     "text": [
      "\n",
      "Crossvalidation Results\n",
      "------------------------------\n",
      "{'logisticregression__C': 1000, 'logisticregression__penalty': 'l2', 'logisticregression__solver': 'liblinear'}\n",
      "0.5882125451648317\n",
      "0.5\n",
      "0.6128748950789421\n",
      "\n",
      "Classification Report\n",
      "------------------------------\n",
      "               precision    recall  f1-score   support\n",
      "\n",
      "       False       1.00      0.53      0.69    107245\n",
      "        True       0.01      0.68      0.02       781\n",
      "\n",
      "    accuracy                           0.53    108026\n",
      "   macro avg       0.50      0.60      0.36    108026\n",
      "weighted avg       0.99      0.53      0.69    108026\n",
      "\n",
      "\n",
      "Confusion Matrix\n",
      "------------------------------\n"
     ]
    },
    {
     "data": {
      "image/png": "[encoded data removed]",
      "text/plain": [
       "<Figure size 432x432 with 1 Axes>"
      ]
     },
     "metadata": {},
     "output_type": "display_data"
    },
    {
     "name": "stdout",
     "output_type": "stream",
     "text": [
      "\n",
      "Crossvalidation Results\n",
      "------------------------------\n",
      "{'logisticregression__C': 60, 'logisticregression__penalty': 'l1', 'logisticregression__solver': 'liblinear'}\n",
      "0.6120798508260249\n",
      "0.5\n",
      "0.6425631897369131\n",
      "\n",
      "Classification Report\n",
      "------------------------------\n",
      "               precision    recall  f1-score   support\n",
      "\n",
      "       False       1.00      0.60      0.75     82783\n",
      "        True       0.01      0.67      0.02       417\n",
      "\n",
      "    accuracy                           0.60     83200\n",
      "   macro avg       0.50      0.64      0.38     83200\n",
      "weighted avg       0.99      0.60      0.75     83200\n",
      "\n",
      "\n",
      "Confusion Matrix\n",
      "------------------------------\n"
     ]
    },
    {
     "data": {
      "image/png": "[encoded data removed]",
      "text/plain": [
       "<Figure size 432x432 with 1 Axes>"
      ]
     },
     "metadata": {},
     "output_type": "display_data"
    },
    {
     "name": "stdout",
     "output_type": "stream",
     "text": [
      "\n",
      "Crossvalidation Results\n",
      "------------------------------\n",
      "{'logisticregression__C': 30, 'logisticregression__penalty': 'l2', 'logisticregression__solver': 'liblinear'}\n",
      "0.6706258146543931\n",
      "0.5\n",
      "0.7679482868769641\n",
      "\n",
      "Classification Report\n",
      "------------------------------\n",
      "               precision    recall  f1-score   support\n",
      "\n",
      "       False       1.00      0.66      0.79     16955\n",
      "        True       0.00      0.74      0.01        35\n",
      "\n",
      "    accuracy                           0.66     16990\n",
      "   macro avg       0.50      0.70      0.40     16990\n",
      "weighted avg       1.00      0.66      0.79     16990\n",
      "\n",
      "\n",
      "Confusion Matrix\n",
      "------------------------------\n"
     ]
    },
    {
     "data": {
      "image/png": "[encoded data removed]",
      "text/plain": [
       "<Figure size 432x432 with 1 Axes>"
      ]
     },
     "metadata": {},
     "output_type": "display_data"
    },
    {
     "name": "stdout",
     "output_type": "stream",
     "text": [
      "\n",
      "Crossvalidation Results\n",
      "------------------------------\n",
      "{'logisticregression__C': 10, 'logisticregression__penalty': 'l2', 'logisticregression__solver': 'liblinear'}\n",
      "0.722902892834092\n",
      "0.5\n",
      "0.8021784554900144\n",
      "\n",
      "Classification Report\n",
      "------------------------------\n",
      "               precision    recall  f1-score   support\n",
      "\n",
      "       False       1.00      0.79      0.88     49899\n",
      "        True       0.00      0.81      0.00        21\n",
      "\n",
      "    accuracy                           0.79     49920\n",
      "   macro avg       0.50      0.80      0.44     49920\n",
      "weighted avg       1.00      0.79      0.88     49920\n",
      "\n",
      "\n",
      "Confusion Matrix\n",
      "------------------------------\n"
     ]
    },
    {
     "data": {
      "image/png": "[encoded data removed]",
      "text/plain": [
       "<Figure size 432x432 with 1 Axes>"
      ]
     },
     "metadata": {},
     "output_type": "display_data"
    },
    {
     "name": "stdout",
     "output_type": "stream",
     "text": [
      "\n",
      "Crossvalidation Results\n",
      "------------------------------\n",
      "{'logisticregression__C': 60, 'logisticregression__penalty': 'l2', 'logisticregression__solver': 'liblinear'}\n",
      "0.732280182879476\n",
      "0.5\n",
      "0.8305673625421826\n",
      "\n",
      "Classification Report\n",
      "------------------------------\n",
      "               precision    recall  f1-score   support\n",
      "\n",
      "       False       1.00      0.75      0.86     49052\n",
      "        True       0.00      0.89      0.00        28\n",
      "\n",
      "    accuracy                           0.75     49080\n",
      "   macro avg       0.50      0.82      0.43     49080\n",
      "weighted avg       1.00      0.75      0.86     49080\n",
      "\n",
      "\n",
      "Confusion Matrix\n",
      "------------------------------\n"
     ]
    },
    {
     "data": {
      "image/png": "[encoded data removed]",
      "text/plain": [
       "<Figure size 432x432 with 1 Axes>"
      ]
     },
     "metadata": {},
     "output_type": "display_data"
    },
    {
     "name": "stdout",
     "output_type": "stream",
     "text": [
      "\n",
      "Crossvalidation Results\n",
      "------------------------------\n",
      "{'logisticregression__C': 600, 'logisticregression__penalty': 'l2', 'logisticregression__solver': 'liblinear'}\n",
      "0.6744381091702845\n",
      "0.5\n",
      "0.7580791502331137\n",
      "\n",
      "Classification Report\n",
      "------------------------------\n",
      "               precision    recall  f1-score   support\n",
      "\n",
      "       False       1.00      0.71      0.83    246687\n",
      "        True       0.00      0.73      0.00        37\n",
      "\n",
      "    accuracy                           0.71    246724\n",
      "   macro avg       0.50      0.72      0.42    246724\n",
      "weighted avg       1.00      0.71      0.83    246724\n",
      "\n",
      "\n",
      "Confusion Matrix\n",
      "------------------------------\n"
     ]
    },
    {
     "data": {
      "image/png": "[encoded data removed]",
      "text/plain": [
       "<Figure size 432x432 with 1 Axes>"
      ]
     },
     "metadata": {},
     "output_type": "display_data"
    },
    {
     "name": "stdout",
     "output_type": "stream",
     "text": [
      "\n",
      "Crossvalidation Results\n",
      "------------------------------\n",
      "{'logisticregression__C': 100, 'logisticregression__penalty': 'l1', 'logisticregression__solver': 'liblinear'}\n",
      "0.5948515113154983\n",
      "0.5\n",
      "0.6118862252459661\n",
      "\n",
      "Classification Report\n",
      "------------------------------\n",
      "               precision    recall  f1-score   support\n",
      "\n",
      "       False       1.00      0.56      0.71    792706\n",
      "        True       0.01      0.66      0.01      2932\n",
      "\n",
      "    accuracy                           0.56    795638\n",
      "   macro avg       0.50      0.61      0.36    795638\n",
      "weighted avg       0.99      0.56      0.71    795638\n",
      "\n",
      "\n",
      "Confusion Matrix\n",
      "------------------------------\n"
     ]
    },
    {
     "data": {
      "image/png": "[encoded data removed]",
      "text/plain": [
       "<Figure size 432x432 with 1 Axes>"
      ]
     },
     "metadata": {},
     "output_type": "display_data"
    },
    {
     "name": "stdout",
     "output_type": "stream",
     "text": [
      "\n",
      "Crossvalidation Results\n",
      "------------------------------\n",
      "{'logisticregression__C': 90, 'logisticregression__penalty': 'l2', 'logisticregression__solver': 'liblinear'}\n",
      "0.6540706619628344\n",
      "0.5\n",
      "0.684853996587149\n",
      "\n",
      "Classification Report\n",
      "------------------------------\n",
      "               precision    recall  f1-score   support\n",
      "\n",
      "       False       1.00      0.65      0.79    459788\n",
      "        True       0.00      0.69      0.01      1169\n",
      "\n",
      "    accuracy                           0.65    460957\n",
      "   macro avg       0.50      0.67      0.40    460957\n",
      "weighted avg       1.00      0.65      0.79    460957\n",
      "\n",
      "\n",
      "Confusion Matrix\n",
      "------------------------------\n"
     ]
    },
    {
     "data": {
      "image/png": "[encoded data removed]",
      "text/plain": [
       "<Figure size 432x432 with 1 Axes>"
      ]
     },
     "metadata": {},
     "output_type": "display_data"
    },
    {
     "name": "stdout",
     "output_type": "stream",
     "text": [
      "\n",
      "Crossvalidation Results\n",
      "------------------------------\n",
      "{'logisticregression__C': 700, 'logisticregression__penalty': 'l2', 'logisticregression__solver': 'liblinear'}\n",
      "0.694182399777454\n",
      "0.5\n",
      "0.7538217092276721\n",
      "\n",
      "Classification Report\n",
      "------------------------------\n",
      "               precision    recall  f1-score   support\n",
      "\n",
      "       False       1.00      0.72      0.84    262118\n",
      "        True       0.00      0.81      0.00       108\n",
      "\n",
      "    accuracy                           0.72    262226\n",
      "   macro avg       0.50      0.76      0.42    262226\n",
      "weighted avg       1.00      0.72      0.84    262226\n",
      "\n",
      "\n",
      "Confusion Matrix\n",
      "------------------------------\n"
     ]
    },
    {
     "data": {
      "image/png": "[encoded data removed]",
      "text/plain": [
       "<Figure size 432x432 with 1 Axes>"
      ]
     },
     "metadata": {},
     "output_type": "display_data"
    },
    {
     "name": "stdout",
     "output_type": "stream",
     "text": [
      "\n",
      "Crossvalidation Results\n",
      "------------------------------\n",
      "{'logisticregression__C': 30, 'logisticregression__penalty': 'l2', 'logisticregression__solver': 'liblinear'}\n",
      "0.6274434784895853\n",
      "0.5\n",
      "0.6735212829484863\n",
      "\n",
      "Classification Report\n",
      "------------------------------\n",
      "               precision    recall  f1-score   support\n",
      "\n",
      "       False       1.00      0.61      0.76    198682\n",
      "        True       0.00      0.74      0.01       431\n",
      "\n",
      "    accuracy                           0.61    199113\n",
      "   macro avg       0.50      0.68      0.38    199113\n",
      "weighted avg       1.00      0.61      0.76    199113\n",
      "\n",
      "\n",
      "Confusion Matrix\n",
      "------------------------------\n"
     ]
    },
    {
     "data": {
      "image/png": "[encoded data removed]",
      "text/plain": [
       "<Figure size 432x432 with 1 Axes>"
      ]
     },
     "metadata": {},
     "output_type": "display_data"
    },
    {
     "name": "stdout",
     "output_type": "stream",
     "text": [
      "\n",
      "Crossvalidation Results\n",
      "------------------------------\n",
      "{'logisticregression__C': 30, 'logisticregression__penalty': 'l1', 'logisticregression__solver': 'liblinear'}\n",
      "0.6447099539994108\n",
      "0.5\n",
      "0.6857795274065772\n",
      "\n",
      "Classification Report\n",
      "------------------------------\n",
      "               precision    recall  f1-score   support\n",
      "\n",
      "       False       1.00      0.62      0.77    216707\n",
      "        True       0.01      0.77      0.01       689\n",
      "\n",
      "    accuracy                           0.62    217396\n",
      "   macro avg       0.50      0.70      0.39    217396\n",
      "weighted avg       1.00      0.62      0.76    217396\n",
      "\n",
      "\n",
      "Confusion Matrix\n",
      "------------------------------\n"
     ]
    },
    {
     "data": {
      "image/png": "[encoded data removed]",
      "text/plain": [
       "<Figure size 432x432 with 1 Axes>"
      ]
     },
     "metadata": {},
     "output_type": "display_data"
    },
    {
     "name": "stdout",
     "output_type": "stream",
     "text": [
      "\n",
      "Crossvalidation Results\n",
      "------------------------------\n",
      "{'logisticregression__C': 5, 'logisticregression__penalty': 'l2', 'logisticregression__solver': 'liblinear'}\n",
      "0.6513432056435722\n",
      "0.5\n",
      "0.7773473990394028\n",
      "\n",
      "Classification Report\n",
      "------------------------------\n",
      "               precision    recall  f1-score   support\n",
      "\n",
      "       False       1.00      0.67      0.80    163874\n",
      "        True       0.00      0.82      0.00        11\n",
      "\n",
      "    accuracy                           0.67    163885\n",
      "   macro avg       0.50      0.75      0.40    163885\n",
      "weighted avg       1.00      0.67      0.80    163885\n",
      "\n",
      "\n",
      "Confusion Matrix\n",
      "------------------------------\n"
     ]
    },
    {
     "data": {
      "image/png": "[encoded data removed]",
      "text/plain": [
       "<Figure size 432x432 with 1 Axes>"
      ]
     },
     "metadata": {},
     "output_type": "display_data"
    },
    {
     "name": "stdout",
     "output_type": "stream",
     "text": [
      "\n",
      "Crossvalidation Results\n",
      "------------------------------\n",
      "{'logisticregression__C': 3, 'logisticregression__penalty': 'l2', 'logisticregression__solver': 'liblinear'}\n",
      "0.6296189659316349\n",
      "0.4957010658634073\n",
      "0.714039966475319\n",
      "\n",
      "Classification Report\n",
      "------------------------------\n",
      "               precision    recall  f1-score   support\n",
      "\n",
      "       False       1.00      0.69      0.82    151053\n",
      "        True       0.00      0.85      0.00        20\n",
      "\n",
      "    accuracy                           0.69    151073\n",
      "   macro avg       0.50      0.77      0.41    151073\n",
      "weighted avg       1.00      0.69      0.82    151073\n",
      "\n",
      "\n",
      "Confusion Matrix\n",
      "------------------------------\n"
     ]
    },
    {
     "data": {
      "image/png": "[encoded data removed]",
      "text/plain": [
       "<Figure size 432x432 with 1 Axes>"
      ]
     },
     "metadata": {},
     "output_type": "display_data"
    },
    {
     "name": "stdout",
     "output_type": "stream",
     "text": [
      "\n",
      "Crossvalidation Results\n",
      "------------------------------\n",
      "{'logisticregression__C': 1000, 'logisticregression__penalty': 'l2', 'logisticregression__solver': 'liblinear'}\n",
      "0.6117142775609496\n",
      "0.492768158131177\n",
      "0.692012886205871\n",
      "\n",
      "Classification Report\n",
      "------------------------------\n",
      "               precision    recall  f1-score   support\n",
      "\n",
      "       False       1.00      0.62      0.77     82813\n",
      "        True       0.00      0.77      0.00        26\n",
      "\n",
      "    accuracy                           0.62     82839\n",
      "   macro avg       0.50      0.70      0.38     82839\n",
      "weighted avg       1.00      0.62      0.77     82839\n",
      "\n",
      "\n",
      "Confusion Matrix\n",
      "------------------------------\n"
     ]
    },
    {
     "data": {
      "image/png": "[encoded data removed]",
      "text/plain": [
       "<Figure size 432x432 with 1 Axes>"
      ]
     },
     "metadata": {},
     "output_type": "display_data"
    },
    {
     "name": "stdout",
     "output_type": "stream",
     "text": [
      "\n",
      "Crossvalidation Results\n",
      "------------------------------\n",
      "{'logisticregression__C': 7000, 'logisticregression__penalty': 'l2', 'logisticregression__solver': 'liblinear'}\n",
      "0.5714956117966811\n",
      "0.5\n",
      "0.5983111921622664\n",
      "\n",
      "Classification Report\n",
      "------------------------------\n",
      "               precision    recall  f1-score   support\n",
      "\n",
      "       False       1.00      0.50      0.67    186073\n",
      "        True       0.01      0.69      0.01       754\n",
      "\n",
      "    accuracy                           0.50    186827\n",
      "   macro avg       0.50      0.59      0.34    186827\n",
      "weighted avg       0.99      0.50      0.66    186827\n",
      "\n",
      "\n",
      "Confusion Matrix\n",
      "------------------------------\n"
     ]
    },
    {
     "data": {
      "image/png": "[encoded data removed]",
      "text/plain": [
       "<Figure size 432x432 with 1 Axes>"
      ]
     },
     "metadata": {},
     "output_type": "display_data"
    },
    {
     "name": "stdout",
     "output_type": "stream",
     "text": [
      "\n",
      "Crossvalidation Results\n",
      "------------------------------\n",
      "{'logisticregression__C': 500, 'logisticregression__penalty': 'l2', 'logisticregression__solver': 'liblinear'}\n",
      "0.6100938972144093\n",
      "0.5\n",
      "0.6527650912904995\n",
      "\n",
      "Classification Report\n",
      "------------------------------\n",
      "               precision    recall  f1-score   support\n",
      "\n",
      "       False       1.00      0.61      0.75     63399\n",
      "        True       0.00      0.70      0.01       177\n",
      "\n",
      "    accuracy                           0.61     63576\n",
      "   macro avg       0.50      0.65      0.38     63576\n",
      "weighted avg       1.00      0.61      0.75     63576\n",
      "\n",
      "\n",
      "Confusion Matrix\n",
      "------------------------------\n"
     ]
    },
    {
     "data": {
      "image/png": "[encoded data removed]",
      "text/plain": [
       "<Figure size 432x432 with 1 Axes>"
      ]
     },
     "metadata": {},
     "output_type": "display_data"
    },
    {
     "name": "stdout",
     "output_type": "stream",
     "text": [
      "\n",
      "Crossvalidation Results\n",
      "------------------------------\n",
      "{'logisticregression__C': 1000, 'logisticregression__penalty': 'l2', 'logisticregression__solver': 'liblinear'}\n",
      "0.590342107902711\n",
      "0.5\n",
      "0.6172433188635492\n",
      "\n",
      "Classification Report\n",
      "------------------------------\n",
      "               precision    recall  f1-score   support\n",
      "\n",
      "       False       1.00      0.59      0.74    344555\n",
      "        True       0.01      0.64      0.01      1570\n",
      "\n",
      "    accuracy                           0.59    346125\n",
      "   macro avg       0.50      0.61      0.38    346125\n",
      "weighted avg       0.99      0.59      0.74    346125\n",
      "\n",
      "\n",
      "Confusion Matrix\n",
      "------------------------------\n"
     ]
    },
    {
     "data": {
      "image/png": "[encoded data removed]",
      "text/plain": [
       "<Figure size 432x432 with 1 Axes>"
      ]
     },
     "metadata": {},
     "output_type": "display_data"
    },
    {
     "name": "stdout",
     "output_type": "stream",
     "text": [
      "\n",
      "Crossvalidation Results\n",
      "------------------------------\n",
      "{'logisticregression__C': 1000, 'logisticregression__penalty': 'l1', 'logisticregression__solver': 'liblinear'}\n",
      "0.6548671887445409\n",
      "0.5\n",
      "0.6955580043259768\n",
      "\n",
      "Classification Report\n",
      "------------------------------\n",
      "               precision    recall  f1-score   support\n",
      "\n",
      "       False       1.00      0.66      0.79    243081\n",
      "        True       0.00      0.71      0.01       480\n",
      "\n",
      "    accuracy                           0.66    243561\n",
      "   macro avg       0.50      0.68      0.40    243561\n",
      "weighted avg       1.00      0.66      0.79    243561\n",
      "\n",
      "\n",
      "Confusion Matrix\n",
      "------------------------------\n"
     ]
    },
    {
     "data": {
      "image/png": "[encoded data removed]",
      "text/plain": [
       "<Figure size 432x432 with 1 Axes>"
      ]
     },
     "metadata": {},
     "output_type": "display_data"
    },
    {
     "name": "stdout",
     "output_type": "stream",
     "text": [
      "\n",
      "Crossvalidation Results\n",
      "------------------------------\n",
      "{'logisticregression__C': 600, 'logisticregression__penalty': 'l1', 'logisticregression__solver': 'liblinear'}\n",
      "0.6290728464099106\n",
      "0.5\n",
      "0.6924158077838067\n",
      "\n",
      "Classification Report\n",
      "------------------------------\n",
      "               precision    recall  f1-score   support\n",
      "\n",
      "       False       1.00      0.66      0.79    111066\n",
      "        True       0.00      0.75      0.00        88\n",
      "\n",
      "    accuracy                           0.66    111154\n",
      "   macro avg       0.50      0.70      0.40    111154\n",
      "weighted avg       1.00      0.66      0.79    111154\n",
      "\n",
      "\n",
      "Confusion Matrix\n",
      "------------------------------\n"
     ]
    },
    {
     "data": {
      "image/png": "[encoded data removed]",
      "text/plain": [
       "<Figure size 432x432 with 1 Axes>"
      ]
     },
     "metadata": {},
     "output_type": "display_data"
    },
    {
     "name": "stdout",
     "output_type": "stream",
     "text": [
      "\n",
      "Crossvalidation Results\n",
      "------------------------------\n",
      "{'logisticregression__C': 8000, 'logisticregression__penalty': 'l2', 'logisticregression__solver': 'liblinear'}\n",
      "0.5686503086674366\n",
      "0.5\n",
      "0.6806664388243335\n",
      "\n",
      "Classification Report\n",
      "------------------------------\n",
      "               precision    recall  f1-score   support\n",
      "\n",
      "       False       1.00      0.53      0.70      1994\n",
      "        True       0.01      0.83      0.01         6\n",
      "\n",
      "    accuracy                           0.53      2000\n",
      "   macro avg       0.50      0.68      0.35      2000\n",
      "weighted avg       1.00      0.53      0.69      2000\n",
      "\n",
      "\n",
      "Confusion Matrix\n",
      "------------------------------\n"
     ]
    },
    {
     "data": {
      "image/png": "[encoded data removed]",
      "text/plain": [
       "<Figure size 432x432 with 1 Axes>"
      ]
     },
     "metadata": {},
     "output_type": "display_data"
    },
    {
     "name": "stdout",
     "output_type": "stream",
     "text": [
      "Wall time: 6h 59min 24s\n"
     ]
    }
   ],
   "source": [
    "%%time\n",
    "for key in cluster_keys:\n",
    "    fit_predict_metric_model(0, dataset=key, n_cv=5, scoring='balanced_accuracy')"
   ]
  },
  {
   "cell_type": "code",
   "execution_count": 137,
   "id": "dd1c4176",
   "metadata": {
    "scrolled": false
   },
   "outputs": [
    {
     "name": "stdout",
     "output_type": "stream",
     "text": [
      "\n",
      "Crossvalidation Results\n",
      "------------------------------\n",
      "{'logisticregression__C': 0.09, 'logisticregression__penalty': 'l1', 'logisticregression__solver': 'liblinear'}\n",
      "0.01829473694962618\n",
      "0.0024047832289627487\n",
      "0.01993101443370367\n",
      "\n",
      "Classification Report\n",
      "------------------------------\n",
      "               precision    recall  f1-score   support\n",
      "\n",
      "       False       1.00      0.81      0.90   1761298\n",
      "        True       0.01      0.84      0.02      4246\n",
      "\n",
      "    accuracy                           0.81   1765544\n",
      "   macro avg       0.51      0.82      0.46   1765544\n",
      "weighted avg       1.00      0.81      0.89   1765544\n",
      "\n",
      "\n",
      "Confusion Matrix\n",
      "------------------------------\n"
     ]
    },
    {
     "data": {
      "image/png": "[encoded data removed]",
      "text/plain": [
       "<Figure size 432x432 with 1 Axes>"
      ]
     },
     "metadata": {},
     "output_type": "display_data"
    },
    {
     "name": "stdout",
     "output_type": "stream",
     "text": [
      "\n",
      "Crossvalidation Results\n",
      "------------------------------\n",
      "{'logisticregression__C': 1000, 'logisticregression__penalty': 'l2', 'logisticregression__solver': 'liblinear'}\n",
      "0.04148734467984369\n",
      "0.017607488130162854\n",
      "0.045770557750466415\n",
      "\n",
      "Classification Report\n",
      "------------------------------\n",
      "               precision    recall  f1-score   support\n",
      "\n",
      "       False       0.99      0.69      0.81     41036\n",
      "        True       0.04      0.73      0.08       736\n",
      "\n",
      "    accuracy                           0.69     41772\n",
      "   macro avg       0.52      0.71      0.45     41772\n",
      "weighted avg       0.98      0.69      0.80     41772\n",
      "\n",
      "\n",
      "Confusion Matrix\n",
      "------------------------------\n"
     ]
    },
    {
     "data": {
      "image/png": "[encoded data removed]",
      "text/plain": [
       "<Figure size 432x432 with 1 Axes>"
      ]
     },
     "metadata": {},
     "output_type": "display_data"
    },
    {
     "name": "stdout",
     "output_type": "stream",
     "text": [
      "\n",
      "Crossvalidation Results\n",
      "------------------------------\n",
      "{'logisticregression__C': 40, 'logisticregression__penalty': 'l1', 'logisticregression__solver': 'liblinear'}\n",
      "0.018421782695288307\n",
      "0.009603588075061675\n",
      "0.020537289997131655\n",
      "\n",
      "Classification Report\n",
      "------------------------------\n",
      "               precision    recall  f1-score   support\n",
      "\n",
      "       False       1.00      0.55      0.71    130174\n",
      "        True       0.02      0.77      0.03      1262\n",
      "\n",
      "    accuracy                           0.55    131436\n",
      "   macro avg       0.51      0.66      0.37    131436\n",
      "weighted avg       0.99      0.55      0.70    131436\n",
      "\n",
      "\n",
      "Confusion Matrix\n",
      "------------------------------\n"
     ]
    },
    {
     "data": {
      "image/png": "[encoded data removed]",
      "text/plain": [
       "<Figure size 432x432 with 1 Axes>"
      ]
     },
     "metadata": {},
     "output_type": "display_data"
    },
    {
     "name": "stdout",
     "output_type": "stream",
     "text": [
      "\n",
      "Crossvalidation Results\n",
      "------------------------------\n",
      "{'logisticregression__C': 700, 'logisticregression__penalty': 'l1', 'logisticregression__solver': 'liblinear'}\n",
      "0.042421253381474455\n",
      "0.021709285444882535\n",
      "0.04820237783816224\n",
      "\n",
      "Classification Report\n",
      "------------------------------\n",
      "               precision    recall  f1-score   support\n",
      "\n",
      "       False       0.99      0.57      0.72     26723\n",
      "        True       0.04      0.73      0.07       593\n",
      "\n",
      "    accuracy                           0.57     27316\n",
      "   macro avg       0.51      0.65      0.40     27316\n",
      "weighted avg       0.97      0.57      0.71     27316\n",
      "\n",
      "\n",
      "Confusion Matrix\n",
      "------------------------------\n"
     ]
    },
    {
     "data": {
      "image/png": "[encoded data removed]",
      "text/plain": [
       "<Figure size 432x432 with 1 Axes>"
      ]
     },
     "metadata": {},
     "output_type": "display_data"
    },
    {
     "name": "stdout",
     "output_type": "stream",
     "text": [
      "\n",
      "Crossvalidation Results\n",
      "------------------------------\n",
      "{'logisticregression__C': 400, 'logisticregression__penalty': 'l2', 'logisticregression__solver': 'liblinear'}\n",
      "0.023594244228084166\n",
      "0.00905760219523204\n",
      "0.027038646384219288\n",
      "\n",
      "Classification Report\n",
      "------------------------------\n",
      "               precision    recall  f1-score   support\n",
      "\n",
      "       False       1.00      0.65      0.79     53554\n",
      "        True       0.02      0.75      0.04       490\n",
      "\n",
      "    accuracy                           0.65     54044\n",
      "   macro avg       0.51      0.70      0.41     54044\n",
      "weighted avg       0.99      0.65      0.78     54044\n",
      "\n",
      "\n",
      "Confusion Matrix\n",
      "------------------------------\n"
     ]
    },
    {
     "data": {
      "image/png": "[encoded data removed]",
      "text/plain": [
       "<Figure size 432x432 with 1 Axes>"
      ]
     },
     "metadata": {},
     "output_type": "display_data"
    },
    {
     "name": "stdout",
     "output_type": "stream",
     "text": [
      "\n",
      "Crossvalidation Results\n",
      "------------------------------\n",
      "{'logisticregression__C': 9, 'logisticregression__penalty': 'l2', 'logisticregression__solver': 'liblinear'}\n",
      "0.010207719684981418\n",
      "0.00722749363573247\n",
      "0.010991391466346851\n",
      "\n",
      "Classification Report\n",
      "------------------------------\n",
      "               precision    recall  f1-score   support\n",
      "\n",
      "       False       1.00      0.53      0.69    107245\n",
      "        True       0.01      0.69      0.02       781\n",
      "\n",
      "    accuracy                           0.53    108026\n",
      "   macro avg       0.50      0.61      0.36    108026\n",
      "weighted avg       0.99      0.53      0.69    108026\n",
      "\n",
      "\n",
      "Confusion Matrix\n",
      "------------------------------\n"
     ]
    },
    {
     "data": {
      "image/png": "[encoded data removed]",
      "text/plain": [
       "<Figure size 432x432 with 1 Axes>"
      ]
     },
     "metadata": {},
     "output_type": "display_data"
    },
    {
     "ename": "KeyboardInterrupt",
     "evalue": "",
     "output_type": "error",
     "traceback": [
      "\u001b[1;31m---------------------------------------------------------------------------\u001b[0m",
      "\u001b[1;31mKeyboardInterrupt\u001b[0m                         Traceback (most recent call last)",
      "\u001b[1;32m<timed exec>\u001b[0m in \u001b[0;36m<module>\u001b[1;34m\u001b[0m\n",
      "\u001b[1;32m~\\AppData\\Local\\Temp/ipykernel_13372/3011142413.py\u001b[0m in \u001b[0;36mfit_predict_metric_model\u001b[1;34m(n_ML, dataset, n_cv, scoring)\u001b[0m\n\u001b[0;32m     25\u001b[0m \u001b[1;33m\u001b[0m\u001b[0m\n\u001b[0;32m     26\u001b[0m     \u001b[1;31m# calculate best parameters\u001b[0m\u001b[1;33m\u001b[0m\u001b[1;33m\u001b[0m\u001b[0m\n\u001b[1;32m---> 27\u001b[1;33m     \u001b[0mgrid\u001b[0m\u001b[1;33m.\u001b[0m\u001b[0mfit\u001b[0m\u001b[1;33m(\u001b[0m\u001b[0mX_train\u001b[0m\u001b[1;33m,\u001b[0m \u001b[0my_train\u001b[0m\u001b[1;33m)\u001b[0m\u001b[1;33m\u001b[0m\u001b[1;33m\u001b[0m\u001b[0m\n\u001b[0m\u001b[0;32m     28\u001b[0m \u001b[1;33m\u001b[0m\u001b[0m\n\u001b[0;32m     29\u001b[0m     \u001b[1;31m# results\u001b[0m\u001b[1;33m\u001b[0m\u001b[1;33m\u001b[0m\u001b[0m\n",
      "\u001b[1;32m~\\anaconda3\\lib\\site-packages\\sklearn\\model_selection\\_search.py\u001b[0m in \u001b[0;36mfit\u001b[1;34m(self, X, y, groups, **fit_params)\u001b[0m\n\u001b[0;32m    873\u001b[0m                 \u001b[1;32mreturn\u001b[0m \u001b[0mresults\u001b[0m\u001b[1;33m\u001b[0m\u001b[1;33m\u001b[0m\u001b[0m\n\u001b[0;32m    874\u001b[0m \u001b[1;33m\u001b[0m\u001b[0m\n\u001b[1;32m--> 875\u001b[1;33m             \u001b[0mself\u001b[0m\u001b[1;33m.\u001b[0m\u001b[0m_run_search\u001b[0m\u001b[1;33m(\u001b[0m\u001b[0mevaluate_candidates\u001b[0m\u001b[1;33m)\u001b[0m\u001b[1;33m\u001b[0m\u001b[1;33m\u001b[0m\u001b[0m\n\u001b[0m\u001b[0;32m    876\u001b[0m \u001b[1;33m\u001b[0m\u001b[0m\n\u001b[0;32m    877\u001b[0m             \u001b[1;31m# multimetric is determined here because in the case of a callable\u001b[0m\u001b[1;33m\u001b[0m\u001b[1;33m\u001b[0m\u001b[0m\n",
      "\u001b[1;32m~\\anaconda3\\lib\\site-packages\\sklearn\\model_selection\\_search.py\u001b[0m in \u001b[0;36m_run_search\u001b[1;34m(self, evaluate_candidates)\u001b[0m\n\u001b[0;32m   1377\u001b[0m     \u001b[1;32mdef\u001b[0m \u001b[0m_run_search\u001b[0m\u001b[1;33m(\u001b[0m\u001b[0mself\u001b[0m\u001b[1;33m,\u001b[0m \u001b[0mevaluate_candidates\u001b[0m\u001b[1;33m)\u001b[0m\u001b[1;33m:\u001b[0m\u001b[1;33m\u001b[0m\u001b[1;33m\u001b[0m\u001b[0m\n\u001b[0;32m   1378\u001b[0m         \u001b[1;34m\"\"\"Search all candidates in param_grid\"\"\"\u001b[0m\u001b[1;33m\u001b[0m\u001b[1;33m\u001b[0m\u001b[0m\n\u001b[1;32m-> 1379\u001b[1;33m         \u001b[0mevaluate_candidates\u001b[0m\u001b[1;33m(\u001b[0m\u001b[0mParameterGrid\u001b[0m\u001b[1;33m(\u001b[0m\u001b[0mself\u001b[0m\u001b[1;33m.\u001b[0m\u001b[0mparam_grid\u001b[0m\u001b[1;33m)\u001b[0m\u001b[1;33m)\u001b[0m\u001b[1;33m\u001b[0m\u001b[1;33m\u001b[0m\u001b[0m\n\u001b[0m\u001b[0;32m   1380\u001b[0m \u001b[1;33m\u001b[0m\u001b[0m\n\u001b[0;32m   1381\u001b[0m \u001b[1;33m\u001b[0m\u001b[0m\n",
      "\u001b[1;32m~\\anaconda3\\lib\\site-packages\\sklearn\\model_selection\\_search.py\u001b[0m in \u001b[0;36mevaluate_candidates\u001b[1;34m(candidate_params, cv, more_results)\u001b[0m\n\u001b[0;32m    820\u001b[0m                     )\n\u001b[0;32m    821\u001b[0m \u001b[1;33m\u001b[0m\u001b[0m\n\u001b[1;32m--> 822\u001b[1;33m                 out = parallel(\n\u001b[0m\u001b[0;32m    823\u001b[0m                     delayed(_fit_and_score)(\n\u001b[0;32m    824\u001b[0m                         \u001b[0mclone\u001b[0m\u001b[1;33m(\u001b[0m\u001b[0mbase_estimator\u001b[0m\u001b[1;33m)\u001b[0m\u001b[1;33m,\u001b[0m\u001b[1;33m\u001b[0m\u001b[1;33m\u001b[0m\u001b[0m\n",
      "\u001b[1;32m~\\anaconda3\\lib\\site-packages\\joblib\\parallel.py\u001b[0m in \u001b[0;36m__call__\u001b[1;34m(self, iterable)\u001b[0m\n\u001b[0;32m   1054\u001b[0m \u001b[1;33m\u001b[0m\u001b[0m\n\u001b[0;32m   1055\u001b[0m             \u001b[1;32mwith\u001b[0m \u001b[0mself\u001b[0m\u001b[1;33m.\u001b[0m\u001b[0m_backend\u001b[0m\u001b[1;33m.\u001b[0m\u001b[0mretrieval_context\u001b[0m\u001b[1;33m(\u001b[0m\u001b[1;33m)\u001b[0m\u001b[1;33m:\u001b[0m\u001b[1;33m\u001b[0m\u001b[1;33m\u001b[0m\u001b[0m\n\u001b[1;32m-> 1056\u001b[1;33m                 \u001b[0mself\u001b[0m\u001b[1;33m.\u001b[0m\u001b[0mretrieve\u001b[0m\u001b[1;33m(\u001b[0m\u001b[1;33m)\u001b[0m\u001b[1;33m\u001b[0m\u001b[1;33m\u001b[0m\u001b[0m\n\u001b[0m\u001b[0;32m   1057\u001b[0m             \u001b[1;31m# Make sure that we get a last message telling us we are done\u001b[0m\u001b[1;33m\u001b[0m\u001b[1;33m\u001b[0m\u001b[0m\n\u001b[0;32m   1058\u001b[0m             \u001b[0melapsed_time\u001b[0m \u001b[1;33m=\u001b[0m \u001b[0mtime\u001b[0m\u001b[1;33m.\u001b[0m\u001b[0mtime\u001b[0m\u001b[1;33m(\u001b[0m\u001b[1;33m)\u001b[0m \u001b[1;33m-\u001b[0m \u001b[0mself\u001b[0m\u001b[1;33m.\u001b[0m\u001b[0m_start_time\u001b[0m\u001b[1;33m\u001b[0m\u001b[1;33m\u001b[0m\u001b[0m\n",
      "\u001b[1;32m~\\anaconda3\\lib\\site-packages\\joblib\\parallel.py\u001b[0m in \u001b[0;36mretrieve\u001b[1;34m(self)\u001b[0m\n\u001b[0;32m    933\u001b[0m             \u001b[1;32mtry\u001b[0m\u001b[1;33m:\u001b[0m\u001b[1;33m\u001b[0m\u001b[1;33m\u001b[0m\u001b[0m\n\u001b[0;32m    934\u001b[0m                 \u001b[1;32mif\u001b[0m \u001b[0mgetattr\u001b[0m\u001b[1;33m(\u001b[0m\u001b[0mself\u001b[0m\u001b[1;33m.\u001b[0m\u001b[0m_backend\u001b[0m\u001b[1;33m,\u001b[0m \u001b[1;34m'supports_timeout'\u001b[0m\u001b[1;33m,\u001b[0m \u001b[1;32mFalse\u001b[0m\u001b[1;33m)\u001b[0m\u001b[1;33m:\u001b[0m\u001b[1;33m\u001b[0m\u001b[1;33m\u001b[0m\u001b[0m\n\u001b[1;32m--> 935\u001b[1;33m                     \u001b[0mself\u001b[0m\u001b[1;33m.\u001b[0m\u001b[0m_output\u001b[0m\u001b[1;33m.\u001b[0m\u001b[0mextend\u001b[0m\u001b[1;33m(\u001b[0m\u001b[0mjob\u001b[0m\u001b[1;33m.\u001b[0m\u001b[0mget\u001b[0m\u001b[1;33m(\u001b[0m\u001b[0mtimeout\u001b[0m\u001b[1;33m=\u001b[0m\u001b[0mself\u001b[0m\u001b[1;33m.\u001b[0m\u001b[0mtimeout\u001b[0m\u001b[1;33m)\u001b[0m\u001b[1;33m)\u001b[0m\u001b[1;33m\u001b[0m\u001b[1;33m\u001b[0m\u001b[0m\n\u001b[0m\u001b[0;32m    936\u001b[0m                 \u001b[1;32melse\u001b[0m\u001b[1;33m:\u001b[0m\u001b[1;33m\u001b[0m\u001b[1;33m\u001b[0m\u001b[0m\n\u001b[0;32m    937\u001b[0m                     \u001b[0mself\u001b[0m\u001b[1;33m.\u001b[0m\u001b[0m_output\u001b[0m\u001b[1;33m.\u001b[0m\u001b[0mextend\u001b[0m\u001b[1;33m(\u001b[0m\u001b[0mjob\u001b[0m\u001b[1;33m.\u001b[0m\u001b[0mget\u001b[0m\u001b[1;33m(\u001b[0m\u001b[1;33m)\u001b[0m\u001b[1;33m)\u001b[0m\u001b[1;33m\u001b[0m\u001b[1;33m\u001b[0m\u001b[0m\n",
      "\u001b[1;32m~\\anaconda3\\lib\\site-packages\\joblib\\_parallel_backends.py\u001b[0m in \u001b[0;36mwrap_future_result\u001b[1;34m(future, timeout)\u001b[0m\n\u001b[0;32m    540\u001b[0m         AsyncResults.get from multiprocessing.\"\"\"\n\u001b[0;32m    541\u001b[0m         \u001b[1;32mtry\u001b[0m\u001b[1;33m:\u001b[0m\u001b[1;33m\u001b[0m\u001b[1;33m\u001b[0m\u001b[0m\n\u001b[1;32m--> 542\u001b[1;33m             \u001b[1;32mreturn\u001b[0m \u001b[0mfuture\u001b[0m\u001b[1;33m.\u001b[0m\u001b[0mresult\u001b[0m\u001b[1;33m(\u001b[0m\u001b[0mtimeout\u001b[0m\u001b[1;33m=\u001b[0m\u001b[0mtimeout\u001b[0m\u001b[1;33m)\u001b[0m\u001b[1;33m\u001b[0m\u001b[1;33m\u001b[0m\u001b[0m\n\u001b[0m\u001b[0;32m    543\u001b[0m         \u001b[1;32mexcept\u001b[0m \u001b[0mCfTimeoutError\u001b[0m \u001b[1;32mas\u001b[0m \u001b[0me\u001b[0m\u001b[1;33m:\u001b[0m\u001b[1;33m\u001b[0m\u001b[1;33m\u001b[0m\u001b[0m\n\u001b[0;32m    544\u001b[0m             \u001b[1;32mraise\u001b[0m \u001b[0mTimeoutError\u001b[0m \u001b[1;32mfrom\u001b[0m \u001b[0me\u001b[0m\u001b[1;33m\u001b[0m\u001b[1;33m\u001b[0m\u001b[0m\n",
      "\u001b[1;32m~\\anaconda3\\lib\\concurrent\\futures\\_base.py\u001b[0m in \u001b[0;36mresult\u001b[1;34m(self, timeout)\u001b[0m\n\u001b[0;32m    438\u001b[0m                     \u001b[1;32mreturn\u001b[0m \u001b[0mself\u001b[0m\u001b[1;33m.\u001b[0m\u001b[0m__get_result\u001b[0m\u001b[1;33m(\u001b[0m\u001b[1;33m)\u001b[0m\u001b[1;33m\u001b[0m\u001b[1;33m\u001b[0m\u001b[0m\n\u001b[0;32m    439\u001b[0m \u001b[1;33m\u001b[0m\u001b[0m\n\u001b[1;32m--> 440\u001b[1;33m                 \u001b[0mself\u001b[0m\u001b[1;33m.\u001b[0m\u001b[0m_condition\u001b[0m\u001b[1;33m.\u001b[0m\u001b[0mwait\u001b[0m\u001b[1;33m(\u001b[0m\u001b[0mtimeout\u001b[0m\u001b[1;33m)\u001b[0m\u001b[1;33m\u001b[0m\u001b[1;33m\u001b[0m\u001b[0m\n\u001b[0m\u001b[0;32m    441\u001b[0m \u001b[1;33m\u001b[0m\u001b[0m\n\u001b[0;32m    442\u001b[0m                 \u001b[1;32mif\u001b[0m \u001b[0mself\u001b[0m\u001b[1;33m.\u001b[0m\u001b[0m_state\u001b[0m \u001b[1;32min\u001b[0m \u001b[1;33m[\u001b[0m\u001b[0mCANCELLED\u001b[0m\u001b[1;33m,\u001b[0m \u001b[0mCANCELLED_AND_NOTIFIED\u001b[0m\u001b[1;33m]\u001b[0m\u001b[1;33m:\u001b[0m\u001b[1;33m\u001b[0m\u001b[1;33m\u001b[0m\u001b[0m\n",
      "\u001b[1;32m~\\anaconda3\\lib\\threading.py\u001b[0m in \u001b[0;36mwait\u001b[1;34m(self, timeout)\u001b[0m\n\u001b[0;32m    310\u001b[0m         \u001b[1;32mtry\u001b[0m\u001b[1;33m:\u001b[0m    \u001b[1;31m# restore state no matter what (e.g., KeyboardInterrupt)\u001b[0m\u001b[1;33m\u001b[0m\u001b[1;33m\u001b[0m\u001b[0m\n\u001b[0;32m    311\u001b[0m             \u001b[1;32mif\u001b[0m \u001b[0mtimeout\u001b[0m \u001b[1;32mis\u001b[0m \u001b[1;32mNone\u001b[0m\u001b[1;33m:\u001b[0m\u001b[1;33m\u001b[0m\u001b[1;33m\u001b[0m\u001b[0m\n\u001b[1;32m--> 312\u001b[1;33m                 \u001b[0mwaiter\u001b[0m\u001b[1;33m.\u001b[0m\u001b[0macquire\u001b[0m\u001b[1;33m(\u001b[0m\u001b[1;33m)\u001b[0m\u001b[1;33m\u001b[0m\u001b[1;33m\u001b[0m\u001b[0m\n\u001b[0m\u001b[0;32m    313\u001b[0m                 \u001b[0mgotit\u001b[0m \u001b[1;33m=\u001b[0m \u001b[1;32mTrue\u001b[0m\u001b[1;33m\u001b[0m\u001b[1;33m\u001b[0m\u001b[0m\n\u001b[0;32m    314\u001b[0m             \u001b[1;32melse\u001b[0m\u001b[1;33m:\u001b[0m\u001b[1;33m\u001b[0m\u001b[1;33m\u001b[0m\u001b[0m\n",
      "\u001b[1;31mKeyboardInterrupt\u001b[0m: "
     ]
    }
   ],
   "source": [
    "%%time\n",
    "for key in cluster_keys:\n",
    "    fit_predict_metric_model(0, dataset=key, n_cv=5, scoring='average_precision')"
   ]
  },
  {
   "cell_type": "markdown",
   "id": "707d5ed7",
   "metadata": {},
   "source": [
    "#### tons of scenarios"
   ]
  },
  {
   "cell_type": "code",
   "execution_count": 117,
   "id": "1025a11b",
   "metadata": {},
   "outputs": [
    {
     "name": "stdout",
     "output_type": "stream",
     "text": [
      "\n",
      "Crossvalidation Results\n",
      "------------------------------\n",
      "{'logisticregression__C': 10000, 'logisticregression__penalty': 'l1', 'logisticregression__solver': 'liblinear'}\n",
      "0.7444842972791343\n",
      "0.5\n",
      "0.7761325331485998\n",
      "\n",
      "Classification Report\n",
      "------------------------------\n",
      "               precision    recall  f1-score   support\n",
      "\n",
      "       False       0.99      0.68      0.81     41036\n",
      "        True       0.04      0.75      0.08       736\n",
      "\n",
      "    accuracy                           0.69     41772\n",
      "   macro avg       0.52      0.72      0.44     41772\n",
      "weighted avg       0.98      0.69      0.80     41772\n",
      "\n",
      "\n",
      "Confusion Matrix\n",
      "------------------------------\n"
     ]
    },
    {
     "data": {
      "image/png": "[encoded data removed]",
      "text/plain": [
       "<Figure size 432x432 with 1 Axes>"
      ]
     },
     "metadata": {},
     "output_type": "display_data"
    },
    {
     "name": "stdout",
     "output_type": "stream",
     "text": [
      "Wall time: 2min 19s\n"
     ]
    }
   ],
   "source": [
    "%%time\n",
    "fit_predict_metric_model(0, dataset='Adult_Standard', n_cv=5, scoring='roc_auc')"
   ]
  },
  {
   "cell_type": "code",
   "execution_count": 118,
   "id": "471c95f4",
   "metadata": {},
   "outputs": [
    {
     "name": "stdout",
     "output_type": "stream",
     "text": [
      "\n",
      "Crossvalidation Results\n",
      "------------------------------\n",
      "{'logisticregression__C': 1000, 'logisticregression__penalty': 'l2', 'logisticregression__solver': 'liblinear'}\n",
      "0.036047234406268155\n",
      "0.0\n",
      "0.04133573588086714\n",
      "\n",
      "Classification Report\n",
      "------------------------------\n",
      "               precision    recall  f1-score   support\n",
      "\n",
      "       False       0.99      0.69      0.81     41036\n",
      "        True       0.04      0.73      0.08       736\n",
      "\n",
      "    accuracy                           0.69     41772\n",
      "   macro avg       0.52      0.71      0.45     41772\n",
      "weighted avg       0.98      0.69      0.80     41772\n",
      "\n",
      "\n",
      "Confusion Matrix\n",
      "------------------------------\n"
     ]
    },
    {
     "data": {
      "image/png": "[encoded data removed]",
      "text/plain": [
       "<Figure size 432x432 with 1 Axes>"
      ]
     },
     "metadata": {},
     "output_type": "display_data"
    },
    {
     "name": "stdout",
     "output_type": "stream",
     "text": [
      "Wall time: 2min 17s\n"
     ]
    }
   ],
   "source": [
    "%%time\n",
    "fit_predict_metric_model(0, dataset='Adult_Standard', n_cv=5, scoring='precision')"
   ]
  },
  {
   "cell_type": "code",
   "execution_count": 119,
   "id": "9787ab8a",
   "metadata": {},
   "outputs": [
    {
     "name": "stdout",
     "output_type": "stream",
     "text": [
      "\n",
      "Crossvalidation Results\n",
      "------------------------------\n",
      "{'logisticregression__C': 7, 'logisticregression__penalty': 'l1', 'logisticregression__solver': 'liblinear'}\n",
      "0.6865216124535468\n",
      "0.5\n",
      "0.719398812659714\n",
      "\n",
      "Classification Report\n",
      "------------------------------\n",
      "               precision    recall  f1-score   support\n",
      "\n",
      "       False       0.99      0.69      0.81     41036\n",
      "        True       0.04      0.73      0.08       736\n",
      "\n",
      "    accuracy                           0.69     41772\n",
      "   macro avg       0.52      0.71      0.45     41772\n",
      "weighted avg       0.98      0.69      0.80     41772\n",
      "\n",
      "\n",
      "Confusion Matrix\n",
      "------------------------------\n"
     ]
    },
    {
     "data": {
      "image/png": "[encoded data removed]",
      "text/plain": [
       "<Figure size 432x432 with 1 Axes>"
      ]
     },
     "metadata": {},
     "output_type": "display_data"
    },
    {
     "name": "stdout",
     "output_type": "stream",
     "text": [
      "Wall time: 2min 15s\n"
     ]
    }
   ],
   "source": [
    "%%time\n",
    "fit_predict_metric_model(0, dataset='Adult_Standard', n_cv=5, scoring='balanced_accuracy')"
   ]
  },
  {
   "cell_type": "code",
   "execution_count": 120,
   "id": "c1db1f3f",
   "metadata": {},
   "outputs": [
    {
     "name": "stdout",
     "output_type": "stream",
     "text": [
      "\n",
      "Crossvalidation Results\n",
      "------------------------------\n",
      "{'logisticregression__C': 5, 'logisticregression__penalty': 'l1', 'logisticregression__solver': 'liblinear'}\n",
      "0.06829758835589875\n",
      "0.0\n",
      "0.07813533772374906\n",
      "\n",
      "Classification Report\n",
      "------------------------------\n",
      "               precision    recall  f1-score   support\n",
      "\n",
      "       False       0.99      0.69      0.81     41036\n",
      "        True       0.04      0.72      0.08       736\n",
      "\n",
      "    accuracy                           0.69     41772\n",
      "   macro avg       0.52      0.71      0.44     41772\n",
      "weighted avg       0.98      0.69      0.80     41772\n",
      "\n",
      "\n",
      "Confusion Matrix\n",
      "------------------------------\n"
     ]
    },
    {
     "data": {
      "image/png": "[encoded data removed]",
      "text/plain": [
       "<Figure size 432x432 with 1 Axes>"
      ]
     },
     "metadata": {},
     "output_type": "display_data"
    },
    {
     "name": "stdout",
     "output_type": "stream",
     "text": [
      "Wall time: 2min 14s\n"
     ]
    }
   ],
   "source": [
    "%%time\n",
    "fit_predict_metric_model(0, dataset='Adult_Standard', n_cv=5, scoring='f1')"
   ]
  },
  {
   "cell_type": "code",
   "execution_count": 121,
   "id": "ce13a8cb",
   "metadata": {},
   "outputs": [
    {
     "name": "stdout",
     "output_type": "stream",
     "text": [
      "\n",
      "Crossvalidation Results\n",
      "------------------------------\n",
      "{'logisticregression__C': 6000, 'logisticregression__penalty': 'l1', 'logisticregression__solver': 'liblinear'}\n",
      "0.74835640627452\n",
      "0.5\n",
      "0.8187039747965861\n",
      "\n",
      "Classification Report\n",
      "------------------------------\n",
      "               precision    recall  f1-score   support\n",
      "\n",
      "       False       1.00      0.73      0.84    246687\n",
      "        True       0.00      0.73      0.00        37\n",
      "\n",
      "    accuracy                           0.73    246724\n",
      "   macro avg       0.50      0.73      0.42    246724\n",
      "weighted avg       1.00      0.73      0.84    246724\n",
      "\n",
      "\n",
      "Confusion Matrix\n",
      "------------------------------\n"
     ]
    },
    {
     "data": {
      "image/png": "[encoded data removed]",
      "text/plain": [
       "<Figure size 432x432 with 1 Axes>"
      ]
     },
     "metadata": {},
     "output_type": "display_data"
    },
    {
     "name": "stdout",
     "output_type": "stream",
     "text": [
      "Wall time: 16min 48s\n"
     ]
    }
   ],
   "source": [
    "%%time\n",
    "fit_predict_metric_model(0, dataset='cluster1_0', n_cv=5, scoring='roc_auc')"
   ]
  },
  {
   "cell_type": "code",
   "execution_count": 122,
   "id": "f6084caf",
   "metadata": {},
   "outputs": [
    {
     "name": "stdout",
     "output_type": "stream",
     "text": [
      "\n",
      "Crossvalidation Results\n",
      "------------------------------\n",
      "{'logisticregression__C': 4000, 'logisticregression__penalty': 'l2', 'logisticregression__solver': 'liblinear'}\n",
      "0.632766477382648\n",
      "0.5\n",
      "0.6545887168003114\n",
      "\n",
      "Classification Report\n",
      "------------------------------\n",
      "               precision    recall  f1-score   support\n",
      "\n",
      "       False       1.00      0.55      0.71    792706\n",
      "        True       0.01      0.67      0.01      2932\n",
      "\n",
      "    accuracy                           0.55    795638\n",
      "   macro avg       0.50      0.61      0.36    795638\n",
      "weighted avg       0.99      0.55      0.71    795638\n",
      "\n",
      "\n",
      "Confusion Matrix\n",
      "------------------------------\n"
     ]
    },
    {
     "data": {
      "image/png": "[encoded data removed]",
      "text/plain": [
       "<Figure size 432x432 with 1 Axes>"
      ]
     },
     "metadata": {},
     "output_type": "display_data"
    },
    {
     "name": "stdout",
     "output_type": "stream",
     "text": [
      "Wall time: 1h 1min 11s\n"
     ]
    }
   ],
   "source": [
    "%%time\n",
    "fit_predict_metric_model(0, dataset='cluster1_1', n_cv=5, scoring='roc_auc')"
   ]
  },
  {
   "cell_type": "code",
   "execution_count": 123,
   "id": "621076b2",
   "metadata": {},
   "outputs": [
    {
     "name": "stdout",
     "output_type": "stream",
     "text": [
      "\n",
      "Crossvalidation Results\n",
      "------------------------------\n",
      "{'logisticregression__C': 10000, 'logisticregression__penalty': 'l1', 'logisticregression__solver': 'liblinear'}\n",
      "0.7060791808054896\n",
      "0.5\n",
      "0.7409393784761877\n",
      "\n",
      "Classification Report\n",
      "------------------------------\n",
      "               precision    recall  f1-score   support\n",
      "\n",
      "       False       1.00      0.65      0.79    459788\n",
      "        True       0.01      0.70      0.01      1169\n",
      "\n",
      "    accuracy                           0.65    460957\n",
      "   macro avg       0.50      0.67      0.40    460957\n",
      "weighted avg       1.00      0.65      0.79    460957\n",
      "\n",
      "\n",
      "Confusion Matrix\n",
      "------------------------------\n"
     ]
    },
    {
     "data": {
      "image/png": "[encoded data removed]",
      "text/plain": [
       "<Figure size 432x432 with 1 Axes>"
      ]
     },
     "metadata": {},
     "output_type": "display_data"
    },
    {
     "name": "stdout",
     "output_type": "stream",
     "text": [
      "Wall time: 33min 18s\n"
     ]
    }
   ],
   "source": [
    "%%time\n",
    "fit_predict_metric_model(0, dataset='cluster1_2', n_cv=5, scoring='roc_auc')"
   ]
  },
  {
   "cell_type": "code",
   "execution_count": 124,
   "id": "30755135",
   "metadata": {},
   "outputs": [
    {
     "name": "stdout",
     "output_type": "stream",
     "text": [
      "\n",
      "Crossvalidation Results\n",
      "------------------------------\n",
      "{'logisticregression__C': 60, 'logisticregression__penalty': 'l2', 'logisticregression__solver': 'liblinear'}\n",
      "0.766248929257866\n",
      "0.5\n",
      "0.8201797227720171\n",
      "\n",
      "Classification Report\n",
      "------------------------------\n",
      "               precision    recall  f1-score   support\n",
      "\n",
      "       False       1.00      0.72      0.84    262118\n",
      "        True       0.00      0.78      0.00       108\n",
      "\n",
      "    accuracy                           0.72    262226\n",
      "   macro avg       0.50      0.75      0.42    262226\n",
      "weighted avg       1.00      0.72      0.84    262226\n",
      "\n",
      "\n",
      "Confusion Matrix\n",
      "------------------------------\n"
     ]
    },
    {
     "data": {
      "image/png": "[encoded data removed]",
      "text/plain": [
       "<Figure size 432x432 with 1 Axes>"
      ]
     },
     "metadata": {},
     "output_type": "display_data"
    },
    {
     "name": "stdout",
     "output_type": "stream",
     "text": [
      "Wall time: 17min 39s\n"
     ]
    }
   ],
   "source": [
    "%%time\n",
    "fit_predict_metric_model(0, dataset='cluster1_3', n_cv=5, scoring='roc_auc')"
   ]
  },
  {
   "cell_type": "markdown",
   "id": "5795b5c1",
   "metadata": {},
   "source": [
    "##### Other Models"
   ]
  },
  {
   "cell_type": "code",
   "execution_count": 125,
   "id": "2f8a3972",
   "metadata": {},
   "outputs": [
    {
     "name": "stdout",
     "output_type": "stream",
     "text": [
      "\n",
      "Crossvalidation Results\n",
      "------------------------------\n",
      "{'decisiontreeclassifier__criterion': 'entropy', 'decisiontreeclassifier__max_depth': 9, 'decisiontreeclassifier__min_samples_leaf': 100}\n",
      "0.7421589523074503\n",
      "0.6948494134559638\n",
      "0.775807957624241\n",
      "\n",
      "Classification Report\n",
      "------------------------------\n",
      "               precision    recall  f1-score   support\n",
      "\n",
      "       False       0.99      0.67      0.80     41036\n",
      "        True       0.04      0.73      0.07       736\n",
      "\n",
      "    accuracy                           0.67     41772\n",
      "   macro avg       0.52      0.70      0.44     41772\n",
      "weighted avg       0.98      0.67      0.79     41772\n",
      "\n",
      "\n",
      "Confusion Matrix\n",
      "------------------------------\n"
     ]
    },
    {
     "data": {
      "image/png": "[encoded data removed]",
      "text/plain": [
       "<Figure size 432x432 with 1 Axes>"
      ]
     },
     "metadata": {},
     "output_type": "display_data"
    },
    {
     "name": "stdout",
     "output_type": "stream",
     "text": [
      "Wall time: 2min 12s\n"
     ]
    }
   ],
   "source": [
    "%%time\n",
    "fit_predict_metric_model(1, dataset='Adult_Standard', n_cv=5, scoring='roc_auc')"
   ]
  },
  {
   "cell_type": "code",
   "execution_count": 126,
   "id": "718a8e03",
   "metadata": {},
   "outputs": [
    {
     "name": "stdout",
     "output_type": "stream",
     "text": [
      "\n",
      "Crossvalidation Results\n",
      "------------------------------\n",
      "{'kneighborsclassifier__metric': 'manhattan', 'kneighborsclassifier__n_neighbors': 40, 'kneighborsclassifier__weights': 'distance'}\n",
      "0.7602951714362535\n",
      "0.6839425877929104\n",
      "0.7789305016120425\n",
      "\n",
      "Classification Report\n",
      "------------------------------\n",
      "               precision    recall  f1-score   support\n",
      "\n",
      "       False       1.00      0.56      0.71     41036\n",
      "        True       0.03      0.87      0.07       736\n",
      "\n",
      "    accuracy                           0.56     41772\n",
      "   macro avg       0.51      0.71      0.39     41772\n",
      "weighted avg       0.98      0.56      0.70     41772\n",
      "\n",
      "\n",
      "Confusion Matrix\n",
      "------------------------------\n"
     ]
    },
    {
     "data": {
      "image/png": "[encoded data removed]",
      "text/plain": [
       "<Figure size 432x432 with 1 Axes>"
      ]
     },
     "metadata": {},
     "output_type": "display_data"
    },
    {
     "name": "stdout",
     "output_type": "stream",
     "text": [
      "Wall time: 6min 34s\n"
     ]
    }
   ],
   "source": [
    "%%time\n",
    "fit_predict_metric_model(2, dataset='Adult_Standard', n_cv=5, scoring='roc_auc')"
   ]
  },
  {
   "cell_type": "code",
   "execution_count": 127,
   "id": "6115637a",
   "metadata": {},
   "outputs": [
    {
     "name": "stdout",
     "output_type": "stream",
     "text": [
      "\n",
      "Crossvalidation Results\n",
      "------------------------------\n",
      "{'randomforestclassifier__bootstrap': True, 'randomforestclassifier__max_depth': 50, 'randomforestclassifier__max_features': 'log2', 'randomforestclassifier__min_samples_leaf': 5, 'randomforestclassifier__n_estimators': 500}\n",
      "0.7862043279548806\n",
      "0.69201545563241\n",
      "0.8101129095900592\n",
      "\n",
      "Classification Report\n",
      "------------------------------\n",
      "               precision    recall  f1-score   support\n",
      "\n",
      "       False       1.00      0.66      0.80     41036\n",
      "        True       0.04      0.82      0.08       736\n",
      "\n",
      "    accuracy                           0.67     41772\n",
      "   macro avg       0.52      0.74      0.44     41772\n",
      "weighted avg       0.98      0.67      0.78     41772\n",
      "\n",
      "\n",
      "Confusion Matrix\n",
      "------------------------------\n"
     ]
    },
    {
     "data": {
      "image/png": "[encoded data removed]",
      "text/plain": [
       "<Figure size 432x432 with 1 Axes>"
      ]
     },
     "metadata": {},
     "output_type": "display_data"
    },
    {
     "name": "stdout",
     "output_type": "stream",
     "text": [
      "Wall time: 1h 39min 47s\n"
     ]
    }
   ],
   "source": [
    "%%time\n",
    "fit_predict_metric_model(3, dataset='Adult_Standard', n_cv=5, scoring='roc_auc')"
   ]
  },
  {
   "cell_type": "code",
   "execution_count": 135,
   "id": "9e24fe47",
   "metadata": {},
   "outputs": [
    {
     "name": "stdout",
     "output_type": "stream",
     "text": [
      "\n",
      "Crossvalidation Results\n",
      "------------------------------\n",
      "{'adaboostclassifier__algorithm': 'SAMME.R', 'adaboostclassifier__learning_rate': 0.05, 'adaboostclassifier__n_estimators': 1000}\n",
      "0.7273069539528305\n",
      "0.4001997699586147\n",
      "0.7970740685826228\n",
      "\n",
      "Classification Report\n",
      "------------------------------\n",
      "               precision    recall  f1-score   support\n",
      "\n",
      "       False       0.99      0.66      0.80     41036\n",
      "        True       0.04      0.80      0.08       736\n",
      "\n",
      "    accuracy                           0.67     41772\n",
      "   macro avg       0.52      0.73      0.44     41772\n",
      "weighted avg       0.98      0.67      0.78     41772\n",
      "\n",
      "\n",
      "Confusion Matrix\n",
      "------------------------------\n"
     ]
    },
    {
     "data": {
      "image/png": "[encoded data removed]",
      "text/plain": [
       "<Figure size 432x432 with 1 Axes>"
      ]
     },
     "metadata": {},
     "output_type": "display_data"
    },
    {
     "name": "stdout",
     "output_type": "stream",
     "text": [
      "Wall time: 44min 19s\n"
     ]
    }
   ],
   "source": [
    "%%time\n",
    "fit_predict_metric_model(4, dataset='Adult_Standard', n_cv=5, scoring='roc_auc')"
   ]
  },
  {
   "cell_type": "markdown",
   "id": "00a3fe64",
   "metadata": {},
   "source": [
    "# EVEN OLDER CODE: no meaningful results"
   ]
  },
  {
   "cell_type": "markdown",
   "id": "8a602d0f",
   "metadata": {},
   "source": [
    "### Which ML models did well with default settings?"
   ]
  },
  {
   "cell_type": "code",
   "execution_count": 419,
   "id": "8dd92ea6",
   "metadata": {},
   "outputs": [],
   "source": [
    "with open('default_results.pickle', 'rb') as f:\n",
    "    default_results = pickle.load(f)"
   ]
  },
  {
   "cell_type": "code",
   "execution_count": 422,
   "id": "de167432",
   "metadata": {},
   "outputs": [],
   "source": [
    "ML_algorithms = [\n",
    "    LogisticRegression,\n",
    "    DecisionTreeClassifier,\n",
    "    KNeighborsClassifier,\n",
    "    RandomForestClassifier,\n",
    "    AdaBoostClassifier\n",
    "]\n",
    "\n",
    "def default_results_by_metric(class_type='True', metric='f1-score'):\n",
    "    \"\"\"convert default results into readable form\"\"\"\n",
    "    output_ = []\n",
    "\n",
    "    for algo in ML_algorithms:\n",
    "        algo_ = str(algo())[:-2]\n",
    "        temp_ = [algo_]\n",
    "        for cluster in cluster_keys:\n",
    "            if class_type == 'accuracy':\n",
    "                metric_ = default_results[algo_][cluster][1][class_type]\n",
    "            else:\n",
    "                metric_ = default_results[algo_][cluster][1][class_type][metric]\n",
    "            temp_.append(metric_)\n",
    "        output_.append(temp_)\n",
    "\n",
    "    df_default_results = pd.DataFrame(output_, columns=['Model']+list(default_results['LogisticRegression'].keys()))\n",
    "    df_default_results['min'] = df_default_results.iloc[:, 1:].min(axis=1)\n",
    "    df_default_results['max'] = df_default_results.iloc[:, 1:].max(axis=1)\n",
    "    df_default_results['mean'] = df_default_results.iloc[:, 1:].mean(axis=1)\n",
    "\n",
    "    return df_default_results\n",
    "    "
   ]
  },
  {
   "cell_type": "code",
   "execution_count": 466,
   "id": "a1bdc6e6",
   "metadata": {},
   "outputs": [
    {
     "data": {
      "text/html": [
       "<div>\n",
       "<style scoped>\n",
       "    .dataframe tbody tr th:only-of-type {\n",
       "        vertical-align: middle;\n",
       "    }\n",
       "\n",
       "    .dataframe tbody tr th {\n",
       "        vertical-align: top;\n",
       "    }\n",
       "\n",
       "    .dataframe thead th {\n",
       "        text-align: right;\n",
       "    }\n",
       "</style>\n",
       "<table border=\"1\" class=\"dataframe\">\n",
       "  <thead>\n",
       "    <tr style=\"text-align: right;\">\n",
       "      <th>Model</th>\n",
       "      <th>LogisticRegression</th>\n",
       "      <th>DecisionTreeClassifier</th>\n",
       "      <th>KNeighborsClassifier</th>\n",
       "      <th>RandomForestClassifier</th>\n",
       "      <th>AdaBoostClassifier</th>\n",
       "    </tr>\n",
       "  </thead>\n",
       "  <tbody>\n",
       "    <tr>\n",
       "      <th>Adult_Standard</th>\n",
       "      <td>0.077</td>\n",
       "      <td>0.060</td>\n",
       "      <td>0.065</td>\n",
       "      <td>0.080</td>\n",
       "      <td>0.077</td>\n",
       "    </tr>\n",
       "    <tr>\n",
       "      <th>R&amp;B</th>\n",
       "      <td>0.072</td>\n",
       "      <td>0.063</td>\n",
       "      <td>0.065</td>\n",
       "      <td>0.081</td>\n",
       "      <td>0.076</td>\n",
       "    </tr>\n",
       "    <tr>\n",
       "      <th>Country</th>\n",
       "      <td>0.038</td>\n",
       "      <td>0.030</td>\n",
       "      <td>0.033</td>\n",
       "      <td>0.042</td>\n",
       "      <td>0.038</td>\n",
       "    </tr>\n",
       "    <tr>\n",
       "      <th>Rock</th>\n",
       "      <td>0.032</td>\n",
       "      <td>0.029</td>\n",
       "      <td>0.030</td>\n",
       "      <td>0.039</td>\n",
       "      <td>0.036</td>\n",
       "    </tr>\n",
       "    <tr>\n",
       "      <th>Pop</th>\n",
       "      <td>0.021</td>\n",
       "      <td>0.019</td>\n",
       "      <td>0.019</td>\n",
       "      <td>0.026</td>\n",
       "      <td>0.022</td>\n",
       "    </tr>\n",
       "    <tr>\n",
       "      <th>Rap</th>\n",
       "      <td>0.017</td>\n",
       "      <td>0.013</td>\n",
       "      <td>0.014</td>\n",
       "      <td>0.018</td>\n",
       "      <td>0.017</td>\n",
       "    </tr>\n",
       "    <tr>\n",
       "      <th>cluster2_7</th>\n",
       "      <td>0.014</td>\n",
       "      <td>0.012</td>\n",
       "      <td>0.013</td>\n",
       "      <td>0.017</td>\n",
       "      <td>0.015</td>\n",
       "    </tr>\n",
       "    <tr>\n",
       "      <th>cluster2_1</th>\n",
       "      <td>0.012</td>\n",
       "      <td>0.011</td>\n",
       "      <td>0.011</td>\n",
       "      <td>0.016</td>\n",
       "      <td>0.014</td>\n",
       "    </tr>\n",
       "    <tr>\n",
       "      <th>cluster2_5</th>\n",
       "      <td>0.011</td>\n",
       "      <td>0.010</td>\n",
       "      <td>0.010</td>\n",
       "      <td>0.014</td>\n",
       "      <td>0.012</td>\n",
       "    </tr>\n",
       "    <tr>\n",
       "      <th>cluster1_1</th>\n",
       "      <td>0.011</td>\n",
       "      <td>0.010</td>\n",
       "      <td>0.011</td>\n",
       "      <td>0.014</td>\n",
       "      <td>0.012</td>\n",
       "    </tr>\n",
       "    <tr>\n",
       "      <th>cluster1_2</th>\n",
       "      <td>0.010</td>\n",
       "      <td>0.009</td>\n",
       "      <td>0.009</td>\n",
       "      <td>0.013</td>\n",
       "      <td>0.011</td>\n",
       "    </tr>\n",
       "    <tr>\n",
       "      <th>cluster2_6</th>\n",
       "      <td>0.009</td>\n",
       "      <td>0.007</td>\n",
       "      <td>0.008</td>\n",
       "      <td>0.011</td>\n",
       "      <td>0.009</td>\n",
       "    </tr>\n",
       "    <tr>\n",
       "      <th>All</th>\n",
       "      <td>0.009</td>\n",
       "      <td>0.009</td>\n",
       "      <td>0.009</td>\n",
       "      <td>0.012</td>\n",
       "      <td>0.010</td>\n",
       "    </tr>\n",
       "    <tr>\n",
       "      <th>Alternative</th>\n",
       "      <td>0.009</td>\n",
       "      <td>0.007</td>\n",
       "      <td>0.007</td>\n",
       "      <td>0.012</td>\n",
       "      <td>0.009</td>\n",
       "    </tr>\n",
       "    <tr>\n",
       "      <th>cluster2_8</th>\n",
       "      <td>0.008</td>\n",
       "      <td>0.007</td>\n",
       "      <td>0.007</td>\n",
       "      <td>0.010</td>\n",
       "      <td>0.009</td>\n",
       "    </tr>\n",
       "    <tr>\n",
       "      <th>cluster2_0</th>\n",
       "      <td>0.008</td>\n",
       "      <td>0.007</td>\n",
       "      <td>0.007</td>\n",
       "      <td>0.009</td>\n",
       "      <td>0.009</td>\n",
       "    </tr>\n",
       "    <tr>\n",
       "      <th>Metal</th>\n",
       "      <td>0.003</td>\n",
       "      <td>0.003</td>\n",
       "      <td>0.003</td>\n",
       "      <td>0.005</td>\n",
       "      <td>0.004</td>\n",
       "    </tr>\n",
       "    <tr>\n",
       "      <th>cluster2_9</th>\n",
       "      <td>0.003</td>\n",
       "      <td>0.003</td>\n",
       "      <td>0.003</td>\n",
       "      <td>0.004</td>\n",
       "      <td>0.003</td>\n",
       "    </tr>\n",
       "    <tr>\n",
       "      <th>EDM</th>\n",
       "      <td>0.003</td>\n",
       "      <td>0.002</td>\n",
       "      <td>0.003</td>\n",
       "      <td>0.004</td>\n",
       "      <td>0.003</td>\n",
       "    </tr>\n",
       "    <tr>\n",
       "      <th>cluster1_3</th>\n",
       "      <td>0.002</td>\n",
       "      <td>0.002</td>\n",
       "      <td>0.002</td>\n",
       "      <td>0.003</td>\n",
       "      <td>0.002</td>\n",
       "    </tr>\n",
       "    <tr>\n",
       "      <th>cluster2_4</th>\n",
       "      <td>0.001</td>\n",
       "      <td>0.001</td>\n",
       "      <td>0.001</td>\n",
       "      <td>0.002</td>\n",
       "      <td>0.001</td>\n",
       "    </tr>\n",
       "    <tr>\n",
       "      <th>cluster1_0</th>\n",
       "      <td>0.001</td>\n",
       "      <td>0.001</td>\n",
       "      <td>0.001</td>\n",
       "      <td>0.001</td>\n",
       "      <td>0.001</td>\n",
       "    </tr>\n",
       "    <tr>\n",
       "      <th>cluster2_3</th>\n",
       "      <td>0.001</td>\n",
       "      <td>0.000</td>\n",
       "      <td>0.000</td>\n",
       "      <td>0.001</td>\n",
       "      <td>0.000</td>\n",
       "    </tr>\n",
       "    <tr>\n",
       "      <th>cluster2_2</th>\n",
       "      <td>0.000</td>\n",
       "      <td>0.000</td>\n",
       "      <td>0.000</td>\n",
       "      <td>0.000</td>\n",
       "      <td>0.000</td>\n",
       "    </tr>\n",
       "  </tbody>\n",
       "</table>\n",
       "</div>"
      ],
      "text/plain": [
       "Model           LogisticRegression  DecisionTreeClassifier  \\\n",
       "Adult_Standard               0.077                   0.060   \n",
       "R&B                          0.072                   0.063   \n",
       "Country                      0.038                   0.030   \n",
       "Rock                         0.032                   0.029   \n",
       "Pop                          0.021                   0.019   \n",
       "Rap                          0.017                   0.013   \n",
       "cluster2_7                   0.014                   0.012   \n",
       "cluster2_1                   0.012                   0.011   \n",
       "cluster2_5                   0.011                   0.010   \n",
       "cluster1_1                   0.011                   0.010   \n",
       "cluster1_2                   0.010                   0.009   \n",
       "cluster2_6                   0.009                   0.007   \n",
       "All                          0.009                   0.009   \n",
       "Alternative                  0.009                   0.007   \n",
       "cluster2_8                   0.008                   0.007   \n",
       "cluster2_0                   0.008                   0.007   \n",
       "Metal                        0.003                   0.003   \n",
       "cluster2_9                   0.003                   0.003   \n",
       "EDM                          0.003                   0.002   \n",
       "cluster1_3                   0.002                   0.002   \n",
       "cluster2_4                   0.001                   0.001   \n",
       "cluster1_0                   0.001                   0.001   \n",
       "cluster2_3                   0.001                   0.000   \n",
       "cluster2_2                   0.000                   0.000   \n",
       "\n",
       "Model           KNeighborsClassifier  RandomForestClassifier  \\\n",
       "Adult_Standard                 0.065                   0.080   \n",
       "R&B                            0.065                   0.081   \n",
       "Country                        0.033                   0.042   \n",
       "Rock                           0.030                   0.039   \n",
       "Pop                            0.019                   0.026   \n",
       "Rap                            0.014                   0.018   \n",
       "cluster2_7                     0.013                   0.017   \n",
       "cluster2_1                     0.011                   0.016   \n",
       "cluster2_5                     0.010                   0.014   \n",
       "cluster1_1                     0.011                   0.014   \n",
       "cluster1_2                     0.009                   0.013   \n",
       "cluster2_6                     0.008                   0.011   \n",
       "All                            0.009                   0.012   \n",
       "Alternative                    0.007                   0.012   \n",
       "cluster2_8                     0.007                   0.010   \n",
       "cluster2_0                     0.007                   0.009   \n",
       "Metal                          0.003                   0.005   \n",
       "cluster2_9                     0.003                   0.004   \n",
       "EDM                            0.003                   0.004   \n",
       "cluster1_3                     0.002                   0.003   \n",
       "cluster2_4                     0.001                   0.002   \n",
       "cluster1_0                     0.001                   0.001   \n",
       "cluster2_3                     0.000                   0.001   \n",
       "cluster2_2                     0.000                   0.000   \n",
       "\n",
       "Model           AdaBoostClassifier  \n",
       "Adult_Standard               0.077  \n",
       "R&B                          0.076  \n",
       "Country                      0.038  \n",
       "Rock                         0.036  \n",
       "Pop                          0.022  \n",
       "Rap                          0.017  \n",
       "cluster2_7                   0.015  \n",
       "cluster2_1                   0.014  \n",
       "cluster2_5                   0.012  \n",
       "cluster1_1                   0.012  \n",
       "cluster1_2                   0.011  \n",
       "cluster2_6                   0.009  \n",
       "All                          0.010  \n",
       "Alternative                  0.009  \n",
       "cluster2_8                   0.009  \n",
       "cluster2_0                   0.009  \n",
       "Metal                        0.004  \n",
       "cluster2_9                   0.003  \n",
       "EDM                          0.003  \n",
       "cluster1_3                   0.002  \n",
       "cluster2_4                   0.001  \n",
       "cluster1_0                   0.001  \n",
       "cluster2_3                   0.000  \n",
       "cluster2_2                   0.000  "
      ]
     },
     "execution_count": 466,
     "metadata": {},
     "output_type": "execute_result"
    }
   ],
   "source": [
    "# best performing classification by cluster = Adult_Standard (1st or 2nd for all ML models)\n",
    "sortbyfeature = 'LogisticRegression'\n",
    "pd.DataFrame(default_results_by_metric().iloc[:, :-3].set_index('Model').T).sort_values(sortbyfeature, ascending=False)"
   ]
  },
  {
   "cell_type": "code",
   "execution_count": 74,
   "id": "037c6a54",
   "metadata": {},
   "outputs": [
    {
     "name": "stdout",
     "output_type": "stream",
     "text": [
      "All 21229 8827719 0.0024048114807460456\n",
      "Adult_Standard 3678 208860 0.01760988221775352\n",
      "Rock 6311 657177 0.009603196703475625\n",
      "R&B 2965 136578 0.02170920646077699\n",
      "Country 2448 270216 0.009059419131361577\n",
      "Pop 3904 540126 0.00722794310957073\n",
      "Rap 2084 415998 0.005009639469420526\n",
      "Alternative 177 84950 0.002083578575632725\n",
      "EDM 103 249597 0.0004126652163287219\n",
      "Metal 142 245399 0.0005786494647492451\n",
      "cluster1_0 184 1233618 0.00014915476265748393\n",
      "cluster1_1 14659 3978190 0.0036848415988175527\n",
      "cluster1_2 5844 2304781 0.002535598826960132\n",
      "cluster1_3 542 1311130 0.00041338387497807233\n",
      "cluster2_0 2156 995561 0.0021656131568030487\n",
      "cluster2_1 3443 1086979 0.003167494496213818\n",
      "cluster2_2 56 819425 6.834060469231473e-05\n",
      "cluster2_3 101 755361 0.00013371090114528021\n",
      "cluster2_4 128 414193 0.00030903467707083415\n",
      "cluster2_5 3772 934132 0.004037973220058835\n",
      "cluster2_6 883 317876 0.0027778127320087077\n",
      "cluster2_7 7848 1730621 0.0045347883794314295\n",
      "cluster2_8 2401 1217802 0.0019715848717607623\n",
      "cluster2_9 441 555769 0.0007934951391675318\n",
      "small 30 10000 0.003\n",
      "modern_rock 1321 284319 0.004646189667239967\n"
     ]
    }
   ],
   "source": [
    "# adult standard is just better because of randomness... there are more to start with ...\n",
    "for cluster in clusters:\n",
    "    print(cluster, clusters[cluster][1].sum(), clusters[cluster][1].count(), clusters[cluster][1].sum() / clusters[cluster][1].count())"
   ]
  },
  {
   "cell_type": "markdown",
   "id": "da576a88",
   "metadata": {},
   "source": [
    "### Logistic Regression"
   ]
  },
  {
   "cell_type": "code",
   "execution_count": 542,
   "id": "f612e975",
   "metadata": {},
   "outputs": [],
   "source": [
    "# huge list of orders of magnitude for gridsearch\n",
    "# formatted a bit funny to avoid rounding errors\n",
    "orders_of_magnitude = []\n",
    "for lst in [[int(x)/10000 for x in range(1, 11)],\n",
    "            [int(x)/1000 for x in range(1, 11)],\n",
    "            [int(x)/100 for x in range(1, 11)],\n",
    "            [int(x)/10 for x in range(1, 11)],\n",
    "            [1 * x for x in range(1, 11)],\n",
    "            [10 * x for x in range(1, 11)],\n",
    "            [100 * x for x in range(1, 11)],\n",
    "            [1000 * x for x in range(1, 11)]]:\n",
    "    orders_of_magnitude += lst"
   ]
  },
  {
   "cell_type": "code",
   "execution_count": 544,
   "id": "d2122121",
   "metadata": {
    "scrolled": false
   },
   "outputs": [
    {
     "name": "stdout",
     "output_type": "stream",
     "text": [
      "Wall time: 5min 3s\n"
     ]
    },
    {
     "data": {
      "text/plain": [
       "({'logisticregression__C': 400, 'logisticregression__penalty': 'l2'},\n",
       " 0.07800708796711779)"
      ]
     },
     "execution_count": 544,
     "metadata": {},
     "output_type": "execute_result"
    }
   ],
   "source": [
    "%%time\n",
    "# LOGISTIC REGRESSION\n",
    "\n",
    "# choose dataset\n",
    "am_testing = False  # test tuning setup with small dataset\n",
    "if am_testing:\n",
    "    X_, y_ = X_small, y_small\n",
    "else:\n",
    "    X_, y_ = clusters['Adult_Standard']  # has the best classification results from STEP 5\n",
    "\n",
    "# params\n",
    "scoring = 'f1'\n",
    "param_grid = {}\n",
    "param_grid['logisticregression__penalty'] = ['l1', 'l2']\n",
    "param_grid['logisticregression__C'] = orders_of_magnitude\n",
    "\n",
    "# pipeline\n",
    "pipe = make_pipeline(\n",
    "    RandomUnderSampler(sampling_strategy='majority'), \n",
    "    LogisticRegression(solver='liblinear')\n",
    ")\n",
    "\n",
    "# gridsearch\n",
    "cv = StratifiedKFold(n_splits=10, shuffle=True)\n",
    "lr_grid = GridSearchCV(\n",
    "    estimator = pipe,\n",
    "    param_grid = param_grid,\n",
    "    cv = cv,\n",
    "    scoring = scoring, \n",
    "    n_jobs = -1\n",
    ")\n",
    "\n",
    "# calculate best parameters\n",
    "lr_grid.fit(X_, y_)\n",
    "\n",
    "# results\n",
    "lr_grid.best_params_, lr_grid.best_score_"
   ]
  },
  {
   "cell_type": "code",
   "execution_count": 553,
   "id": "5dd8ebdb",
   "metadata": {},
   "outputs": [
    {
     "data": {
      "text/plain": [
       "(0.06897831928043999, 0.0, 0.07800708796711779)"
      ]
     },
     "execution_count": 553,
     "metadata": {},
     "output_type": "execute_result"
    }
   ],
   "source": [
    "# doesn't seem like tuning is doing anything\n",
    "(\n",
    "    lr_grid.cv_results_['mean_test_score'].mean(), \n",
    "    lr_grid.cv_results_['mean_test_score'].min(), \n",
    "    lr_grid.cv_results_['mean_test_score'].max()\n",
    ")"
   ]
  },
  {
   "cell_type": "code",
   "execution_count": 561,
   "id": "65432a9d",
   "metadata": {},
   "outputs": [
    {
     "name": "stdout",
     "output_type": "stream",
     "text": [
      "Wall time: 5min 4s\n"
     ]
    },
    {
     "data": {
      "text/plain": [
       "({'decisiontreeclassifier__criterion': 'gini',\n",
       "  'decisiontreeclassifier__max_depth': None,\n",
       "  'decisiontreeclassifier__min_samples_leaf': 50},\n",
       " 0.07456561474305215)"
      ]
     },
     "execution_count": 561,
     "metadata": {},
     "output_type": "execute_result"
    }
   ],
   "source": [
    "%%time\n",
    "# DECISION TREE\n",
    "\n",
    "# choose dataset\n",
    "am_testing = False  # test tuning setup with small dataset\n",
    "if am_testing:\n",
    "    X_, y_ = X_small, y_small\n",
    "else:\n",
    "    X_, y_ = clusters['Adult_Standard']  # has the best classification results from STEP 5\n",
    "\n",
    "# params\n",
    "scoring = 'f1'\n",
    "param_grid = {}\n",
    "param_grid['decisiontreeclassifier__max_depth'] = [3, 4, 5, 6, 7, 8, 9, 10, 15, 20, 25, 30, 40, 50, 100, None]\n",
    "param_grid['decisiontreeclassifier__min_samples_leaf'] = [5, 10, 50, 100, 1000]\n",
    "param_grid['decisiontreeclassifier__criterion'] = ['gini', 'entropy']\n",
    "\n",
    "# pipeline\n",
    "pipe = make_pipeline(\n",
    "    RandomUnderSampler(sampling_strategy='majority'), \n",
    "    DecisionTreeClassifier()\n",
    ")\n",
    "\n",
    "# gridsearch\n",
    "cv = StratifiedKFold(n_splits=10, shuffle=True)\n",
    "dt_grid = GridSearchCV(\n",
    "    estimator = pipe,\n",
    "    param_grid = param_grid,\n",
    "    cv = cv,\n",
    "    scoring = scoring, \n",
    "    n_jobs = -1\n",
    ")\n",
    "\n",
    "# calculate best parameters\n",
    "dt_grid.fit(X_, y_)\n",
    "\n",
    "# results\n",
    "dt_grid.best_params_, dt_grid.best_score_"
   ]
  },
  {
   "cell_type": "code",
   "execution_count": 562,
   "id": "44700709",
   "metadata": {},
   "outputs": [
    {
     "data": {
      "text/plain": [
       "(0.06785197229329681, 0.05958234706712688, 0.07456561474305215)"
      ]
     },
     "execution_count": 562,
     "metadata": {},
     "output_type": "execute_result"
    }
   ],
   "source": [
    "# tuning isn't useful here either...\n",
    "(\n",
    "    dt_grid.cv_results_['mean_test_score'].mean(), \n",
    "    dt_grid.cv_results_['mean_test_score'].min(), \n",
    "    dt_grid.cv_results_['mean_test_score'].max()\n",
    ")"
   ]
  },
  {
   "cell_type": "code",
   "execution_count": 558,
   "id": "065a4489",
   "metadata": {},
   "outputs": [
    {
     "name": "stdout",
     "output_type": "stream",
     "text": [
      "Wall time: 13min 6s\n"
     ]
    },
    {
     "data": {
      "text/plain": [
       "({'kneighborsclassifier__metric': 'manhattan',\n",
       "  'kneighborsclassifier__n_neighbors': 6,\n",
       "  'kneighborsclassifier__weights': 'uniform'},\n",
       " 0.07027638389807941)"
      ]
     },
     "execution_count": 558,
     "metadata": {},
     "output_type": "execute_result"
    }
   ],
   "source": [
    "%%time\n",
    "# KNN\n",
    "\n",
    "# choose dataset\n",
    "am_testing = False  # test tuning setup with small dataset\n",
    "if am_testing:\n",
    "    X_, y_ = X_small, y_small\n",
    "else:\n",
    "    X_, y_ = clusters['Adult_Standard']  # has the best classification results from STEP 5\n",
    "\n",
    "# params\n",
    "scoring = 'f1'\n",
    "param_grid = {}\n",
    "param_grid['kneighborsclassifier__n_neighbors'] = [x for x in range(2,20)]+[x for x in range(20,101,5)]\n",
    "param_grid['kneighborsclassifier__weights'] = ['uniform', 'distance']\n",
    "param_grid['kneighborsclassifier__metric'] = ['minkowski', 'euclidean', 'manhattan']\n",
    "\n",
    "# pipeline\n",
    "pipe = make_pipeline(\n",
    "    RandomUnderSampler(sampling_strategy='majority'), \n",
    "    KNeighborsClassifier()\n",
    ")\n",
    "\n",
    "# gridsearch\n",
    "cv = StratifiedKFold(n_splits=10, shuffle=True)\n",
    "knn_grid = GridSearchCV(\n",
    "    estimator = pipe,\n",
    "    param_grid = param_grid,\n",
    "    cv = cv,\n",
    "    scoring = scoring, \n",
    "    n_jobs = -1\n",
    ")\n",
    "\n",
    "# calculate best parameters\n",
    "knn_grid.fit(X_, y_)\n",
    "\n",
    "# results\n",
    "knn_grid.best_params_, knn_grid.best_score_"
   ]
  },
  {
   "cell_type": "code",
   "execution_count": 559,
   "id": "0f89a1c7",
   "metadata": {},
   "outputs": [
    {
     "data": {
      "text/plain": [
       "(0.06621236939350202, 0.05683753654031316, 0.07027638389807941)"
      ]
     },
     "execution_count": 559,
     "metadata": {},
     "output_type": "execute_result"
    }
   ],
   "source": [
    "# check min mean and max\n",
    "(\n",
    "    knn_grid.cv_results_['mean_test_score'].mean(), \n",
    "    knn_grid.cv_results_['mean_test_score'].min(), \n",
    "    knn_grid.cv_results_['mean_test_score'].max()\n",
    ")"
   ]
  },
  {
   "cell_type": "code",
   "execution_count": 563,
   "id": "e3bd6dcd",
   "metadata": {},
   "outputs": [
    {
     "name": "stdout",
     "output_type": "stream",
     "text": [
      "Wall time: 3h 59min 43s\n"
     ]
    },
    {
     "data": {
      "text/plain": [
       "({'randomforestclassifier__bootstrap': False,\n",
       "  'randomforestclassifier__max_depth': 30,\n",
       "  'randomforestclassifier__max_features': 'sqrt',\n",
       "  'randomforestclassifier__min_samples_leaf': 5,\n",
       "  'randomforestclassifier__n_estimators': 1000},\n",
       " 0.08028160782282248)"
      ]
     },
     "execution_count": 563,
     "metadata": {},
     "output_type": "execute_result"
    }
   ],
   "source": [
    "%%time\n",
    "# random forest\n",
    "\n",
    "# choose dataset\n",
    "am_testing = False  # test tuning setup with small dataset\n",
    "if am_testing:\n",
    "    X_, y_ = X_small, y_small\n",
    "else:\n",
    "    X_, y_ = clusters['Adult_Standard']  # has the best classification results from STEP 5\n",
    "\n",
    "# params\n",
    "scoring = 'f1'\n",
    "param_grid = {}\n",
    "param_grid['randomforestclassifier__n_estimators'] = [5, 10, 20, 50, 100, 200, 500, 1000, 2000]\n",
    "param_grid['randomforestclassifier__max_features'] = ['sqrt', 'log2']\n",
    "param_grid['randomforestclassifier__max_depth'] = [3, 5, 7, 10, 15, 20, 30, 50, 100, None]\n",
    "param_grid['randomforestclassifier__min_samples_leaf'] = [5, 10, 50, 100, 1000]\n",
    "param_grid['randomforestclassifier__bootstrap'] = [True, False]\n",
    "\n",
    "# pipeline\n",
    "pipe = make_pipeline(\n",
    "    RandomUnderSampler(sampling_strategy='majority'), \n",
    "    RandomForestClassifier()\n",
    ")\n",
    "\n",
    "# gridsearch\n",
    "cv = StratifiedKFold(n_splits=10, shuffle=True)\n",
    "rf_grid = GridSearchCV(\n",
    "    estimator = pipe,\n",
    "    param_grid = param_grid,\n",
    "    cv = cv,\n",
    "    scoring = scoring, \n",
    "    n_jobs = -1\n",
    ")\n",
    "\n",
    "# calculate best parameters\n",
    "rf_grid.fit(X_, y_)\n",
    "\n",
    "# results\n",
    "rf_grid.best_params_, rf_grid.best_score_"
   ]
  },
  {
   "cell_type": "code",
   "execution_count": 564,
   "id": "4b30af1e",
   "metadata": {},
   "outputs": [
    {
     "data": {
      "text/plain": [
       "(0.07444941625954442, 0.0638043296032271, 0.08028160782282248)"
      ]
     },
     "execution_count": 564,
     "metadata": {},
     "output_type": "execute_result"
    }
   ],
   "source": [
    "# also didn't do great...\n",
    "(\n",
    "    rf_grid.cv_results_['mean_test_score'].mean(), \n",
    "    rf_grid.cv_results_['mean_test_score'].min(), \n",
    "    rf_grid.cv_results_['mean_test_score'].max()\n",
    ")"
   ]
  },
  {
   "cell_type": "code",
   "execution_count": null,
   "id": "9ca9c531",
   "metadata": {},
   "outputs": [],
   "source": [
    "%%time\n",
    "# adaboost\n",
    "\n",
    "# choose dataset\n",
    "am_testing = False  # test tuning setup with small dataset\n",
    "if am_testing:\n",
    "    X_, y_ = X_small, y_small\n",
    "else:\n",
    "    X_, y_ = clusters['Adult_Standard']  # has the best classification results from STEP 5\n",
    "\n",
    "# params\n",
    "scoring = 'f1'\n",
    "param_grid = {}\n",
    "param_grid['adaboostclassifier__n_estimators'] = [10, 50, 100, 200, 500, 1000, 2000, 5000, 10000]\n",
    "param_grid['adaboostclassifier__n_learning_rate'] = [0.0001, 0.001, 0.01, 0.05, 0.1, 0.5, 1.0, 1.5, 2.0]\n",
    "param_grid['adaboostclassifier__n_algorithm'] = ['SAMME', 'SAMME.R']\n",
    "        \n",
    "# pipeline\n",
    "pipe = make_pipeline(\n",
    "    RandomUnderSampler(sampling_strategy='majority'), \n",
    "    AdaBoostClassifier()\n",
    ")\n",
    "\n",
    "# gridsearch\n",
    "cv = StratifiedKFold(n_splits=10, shuffle=True)\n",
    "ab_grid = GridSearchCV(\n",
    "    estimator = pipe,\n",
    "    param_grid = param_grid,\n",
    "    cv = cv,\n",
    "    scoring = scoring, \n",
    "    n_jobs = -1\n",
    ")\n",
    "\n",
    "# calculate best parameters\n",
    "ab_grid.fit(X_, y_)\n",
    "\n",
    "# results\n",
    "ab_grid.best_params_, ab_grid.best_score_"
   ]
  },
  {
   "cell_type": "code",
   "execution_count": null,
   "id": "f0b255a7",
   "metadata": {},
   "outputs": [],
   "source": [
    "# check min mean and max\n",
    "(\n",
    "    ab_grid.cv_results_['mean_test_score'].mean(), \n",
    "    ab_grid.cv_results_['mean_test_score'].min(), \n",
    "    ab_grid.cv_results_['mean_test_score'].max()\n",
    ")"
   ]
  },
  {
   "cell_type": "markdown",
   "id": "893ad126",
   "metadata": {},
   "source": [
    "### Test Ensemble Methods"
   ]
  },
  {
   "cell_type": "code",
   "execution_count": null,
   "id": "059b7339",
   "metadata": {},
   "outputs": [],
   "source": []
  },
  {
   "cell_type": "code",
   "execution_count": null,
   "id": "f1a65e51",
   "metadata": {},
   "outputs": [],
   "source": []
  },
  {
   "cell_type": "code",
   "execution_count": null,
   "id": "12613bdf",
   "metadata": {},
   "outputs": [],
   "source": []
  },
  {
   "cell_type": "code",
   "execution_count": null,
   "id": "7548d980",
   "metadata": {},
   "outputs": [],
   "source": []
  },
  {
   "cell_type": "code",
   "execution_count": null,
   "id": "5c8bdf80",
   "metadata": {},
   "outputs": [],
   "source": []
  }
 ],
 "metadata": {
  "kernelspec": {
   "display_name": "Python 3 (ipykernel)",
   "language": "python",
   "name": "python3"
  },
  "language_info": {
   "codemirror_mode": {
    "name": "ipython",
    "version": 3
   },
   "file_extension": ".py",
   "mimetype": "text/x-python",
   "name": "python",
   "nbconvert_exporter": "python",
   "pygments_lexer": "ipython3",
   "version": "3.9.7"
  }
 },
 "nbformat": 4,
 "nbformat_minor": 5
}
