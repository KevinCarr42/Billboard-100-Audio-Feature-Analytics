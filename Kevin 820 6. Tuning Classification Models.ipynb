{
 "cells": [
  {
   "cell_type": "markdown",
   "id": "f379970c",
   "metadata": {},
   "source": [
    "# Import"
   ]
  },
  {
   "cell_type": "code",
   "execution_count": 18,
   "id": "1a36765e",
   "metadata": {},
   "outputs": [
    {
     "data": {
      "text/html": [
       "<style>.container { width:100% !important; }</style>"
      ],
      "text/plain": [
       "<IPython.core.display.HTML object>"
      ]
     },
     "metadata": {},
     "output_type": "display_data"
    }
   ],
   "source": [
    "import pickle\n",
    "\n",
    "# math and dataframes\n",
    "import pandas as pd\n",
    "import numpy as np\n",
    "import scipy as sp\n",
    "\n",
    "# machine learning\n",
    "from sklearn.linear_model import LogisticRegression\n",
    "from sklearn.tree import DecisionTreeClassifier\n",
    "from sklearn.neighbors import KNeighborsClassifier\n",
    "from sklearn.ensemble import RandomForestClassifier, AdaBoostClassifier, VotingClassifier\n",
    "import tensorflow as tf\n",
    "\n",
    "# Pipeline and Evaluation\n",
    "from sklearn.metrics import classification_report, confusion_matrix\n",
    "from sklearn.model_selection import GridSearchCV, RandomizedSearchCV, train_test_split\n",
    "from sklearn.model_selection import cross_val_score, cross_val_predict\n",
    "from sklearn.tree import plot_tree\n",
    "from imblearn.pipeline import make_pipeline\n",
    "\n",
    "# Undersampling \n",
    "# Note: undersampling was used in at least 1 paper predicting popularity (Gao 2021)\n",
    "from sklearn.model_selection import StratifiedKFold\n",
    "from imblearn.under_sampling import RandomUnderSampler\n",
    "from imblearn.over_sampling import RandomOverSampler\n",
    "\n",
    "# jupyter notebook full-width display\n",
    "from IPython.core.display import display, HTML\n",
    "display(HTML(\"<style>.container { width:100% !important; }</style>\"))\n",
    "\n",
    "# pandas formatting\n",
    "pd.set_option('display.float_format', '{:.3f}'.format)\n",
    "pd.set_option('display.max_columns', None)\n",
    "pd.set_option('display.max_rows', 200)\n",
    "\n",
    "# plotting\n",
    "import matplotlib.pyplot as plt\n",
    "import matplotlib as mpl\n",
    "import time\n",
    "import seaborn as sns\n",
    "sns.set_theme()"
   ]
  },
  {
   "cell_type": "code",
   "execution_count": 2,
   "id": "5cbcb793",
   "metadata": {},
   "outputs": [],
   "source": [
    "df_10M = pd.read_pickle('df_10M_clustered.pickle')\n",
    "X_all = pd.read_pickle('X_clustered.pickle')"
   ]
  },
  {
   "cell_type": "markdown",
   "id": "0ed65dd3",
   "metadata": {},
   "source": [
    "# Create Datasets for Prediction"
   ]
  },
  {
   "cell_type": "code",
   "execution_count": 3,
   "id": "065df1b5",
   "metadata": {},
   "outputs": [],
   "source": [
    "y_column = 'in_B100'\n",
    "X_columns = [\n",
    "    'mode', 'acousticness', 'danceability', 'duration_ms', 'energy',\n",
    "    'instrumentalness', 'liveness', 'loudness', 'speechiness', 'tempo', 'valence'\n",
    "]\n",
    "genre_columns = [\n",
    "    'is_Adult_Standard', 'is_Rock', 'is_R&B', 'is_Country', 'is_Pop',\n",
    "    'is_Rap', 'is_Alternative', 'is_EDM', 'is_Metal'\n",
    "]\n",
    "cluster_columns = ['cluster', 'cluster2']\n",
    "other_columns = ['key', 'time_signature', 'genre', 'release_date']\n"
   ]
  },
  {
   "cell_type": "code",
   "execution_count": 94,
   "id": "d64aee47",
   "metadata": {},
   "outputs": [],
   "source": [
    "# create a dict with all 'name': (X, y) key match pairs\n",
    "clusters = {}\n",
    "\n",
    "# entire predictive dataset\n",
    "clusters['All'] = (X_all[X_columns+genre_columns], X_all[y_column])\n",
    "# clusters['All'] = (X_all[X_columns], X_all[y_column])\n",
    "\n",
    "# add genres\n",
    "for genre in genre_columns:\n",
    "    title = genre[3:]\n",
    "    clusters[title] = (X_all[X_all[genre]][X_columns], X_all[X_all[genre]][y_column])\n",
    "    \n",
    "# add clusters\n",
    "for n in sorted(X_all['cluster'].unique()):\n",
    "    title = genre[3:]\n",
    "    clusters['cluster1_' + str(n)] = (X_all[X_all['cluster'] == n][X_columns], X_all[X_all['cluster'] == n][y_column])\n",
    "    \n",
    "for n in sorted(X_all['cluster2'].unique()):\n",
    "    title = genre[3:]\n",
    "    clusters['cluster2_' + str(n)] = (X_all[X_all['cluster2'] == n][X_columns], X_all[X_all['cluster2'] == n][y_column])\n",
    "    \n",
    "# setup tuning algorithm with a small dataset\n",
    "small = X_all.sample(10_000, random_state=42)\n",
    "X_small = small[X_columns]\n",
    "y_small = small[y_column]\n",
    "clusters['small'] = (X_small, y_small)\n",
    "    \n",
    "# OPTIONAL IF TIME PERMITS: consider adding decades or eras of music"
   ]
  },
  {
   "cell_type": "markdown",
   "id": "8a98d9ab",
   "metadata": {},
   "source": [
    "# Tune Algorithms"
   ]
  },
  {
   "cell_type": "code",
   "execution_count": 95,
   "id": "2a9f9278",
   "metadata": {},
   "outputs": [],
   "source": [
    "cluster_keys = [\n",
    "    'All', \n",
    "    'Adult_Standard', 'Rock', 'R&B', 'Country', 'Pop', 'Rap', 'Alternative', 'EDM', 'Metal', \n",
    "    'cluster1_0', 'cluster1_1', 'cluster1_2', 'cluster1_3', \n",
    "    'cluster2_0', 'cluster2_1', 'cluster2_2', 'cluster2_3', 'cluster2_4', \n",
    "    'cluster2_5', 'cluster2_6', 'cluster2_7', 'cluster2_8', 'cluster2_9',\n",
    "    'small'\n",
    "]"
   ]
  },
  {
   "cell_type": "code",
   "execution_count": 133,
   "id": "42635b3a",
   "metadata": {},
   "outputs": [],
   "source": [
    "# setup model parameters for grid search\n",
    "\n",
    "ML_algorithms = [\n",
    "    LogisticRegression,\n",
    "    DecisionTreeClassifier,\n",
    "    KNeighborsClassifier,\n",
    "    RandomForestClassifier,\n",
    "    AdaBoostClassifier\n",
    "]\n",
    "\n",
    "param_by_model = {}\n",
    "\n",
    "params_lr = {}\n",
    "orders_of_magnitude = []\n",
    "for lst in [[int(x)/10000 for x in range(1, 11)],\n",
    "            [int(x)/1000 for x in range(1, 11)],\n",
    "            [int(x)/100 for x in range(1, 11)],\n",
    "            [int(x)/10 for x in range(1, 11)],\n",
    "            [1 * x for x in range(1, 11)],\n",
    "            [10 * x for x in range(1, 11)],\n",
    "            [100 * x for x in range(1, 11)],\n",
    "            [1000 * x for x in range(1, 11)]]:\n",
    "    orders_of_magnitude += lst\n",
    "params_lr['logisticregression__penalty'] = ['l1', 'l2']\n",
    "params_lr['logisticregression__C'] = orders_of_magnitude\n",
    "params_lr['logisticregression__solver'] = ['liblinear']\n",
    "param_by_model[0] = params_lr\n",
    "\n",
    "params_dt = {}\n",
    "params_dt['decisiontreeclassifier__max_depth'] = [3, 4, 5, 6, 7, 8, 9, 10, 15, 20, 25, 30, 40, 50, 100, None]\n",
    "params_dt['decisiontreeclassifier__min_samples_leaf'] = [5, 10, 50, 100, 1000]\n",
    "params_dt['decisiontreeclassifier__criterion'] = ['gini', 'entropy']\n",
    "param_by_model[1] = params_dt\n",
    "\n",
    "params_knn = {}\n",
    "params_knn['kneighborsclassifier__n_neighbors'] = [x for x in range(2,20)]+[x for x in range(20,101,5)]\n",
    "params_knn['kneighborsclassifier__weights'] = ['uniform', 'distance']\n",
    "params_knn['kneighborsclassifier__metric'] = ['minkowski', 'euclidean', 'manhattan']\n",
    "param_by_model[2] = params_knn\n",
    "\n",
    "params_rf = {}\n",
    "params_rf['randomforestclassifier__n_estimators'] = [5, 10, 20, 50, 100, 200, 500, 1000, 2000]\n",
    "params_rf['randomforestclassifier__max_features'] = ['sqrt', 'log2']\n",
    "params_rf['randomforestclassifier__max_depth'] = [3, 5, 7, 10, 15, 20, 30, 50, 100, None]\n",
    "params_rf['randomforestclassifier__min_samples_leaf'] = [5, 10, 50, 100, 1000]\n",
    "params_rf['randomforestclassifier__bootstrap'] = [True, False]\n",
    "param_by_model[3] = params_rf\n",
    "\n",
    "params_ab = {}\n",
    "params_ab['adaboostclassifier__n_estimators'] = [10, 50, 100, 200, 500, 1000, 2000, 5000, 10000]\n",
    "params_ab['adaboostclassifier__learning_rate'] = [0.0001, 0.001, 0.01, 0.05, 0.1, 0.5, 1.0, 1.5, 2.0]\n",
    "params_ab['adaboostclassifier__algorithm'] = ['SAMME', 'SAMME.R']\n",
    "param_by_model[4] = params_ab"
   ]
  },
  {
   "cell_type": "code",
   "execution_count": 134,
   "id": "0d3be554",
   "metadata": {},
   "outputs": [],
   "source": [
    "def fit_predict_metric_model(n_ML, dataset='small', n_cv=5, scoring='roc_auc', undersample=True):\n",
    "    \n",
    "    # split the dataset into train test\n",
    "    X_, y_ = clusters[dataset]\n",
    "    X_train, X_test, y_train, y_test = train_test_split(X_, y_, test_size=0.2, random_state=42, stratify=y_)\n",
    "        \n",
    "    # params\n",
    "    param_grid = param_by_model[n_ML]\n",
    "\n",
    "    # pipeline\n",
    "    if undersample:\n",
    "        pipe = make_pipeline(\n",
    "            RandomUnderSampler(sampling_strategy='majority'), \n",
    "            ML_algorithms[n_ML]()\n",
    "        )\n",
    "    else:\n",
    "        if n_ML in [0, 1, 3]:\n",
    "            pipe = make_pipeline(ML_algorithms[n_ML](class_weight='balanced'))\n",
    "        else:\n",
    "            pipe = make_pipeline(ML_algorithms[n_ML]())\n",
    "\n",
    "    # gridsearch\n",
    "    cv = StratifiedKFold(n_splits=n_cv, shuffle=True)\n",
    "    grid = GridSearchCV(\n",
    "        estimator = pipe,\n",
    "        param_grid = param_grid,\n",
    "        cv = cv,\n",
    "        scoring = scoring, \n",
    "        n_jobs = -1\n",
    "    )\n",
    "\n",
    "    # calculate best parameters\n",
    "    grid.fit(X_train, y_train)\n",
    "\n",
    "    # results\n",
    "    cv_results = (\n",
    "        grid.best_params_,\n",
    "        grid.cv_results_['mean_test_score'].mean(), \n",
    "        grid.cv_results_['mean_test_score'].min(), \n",
    "        grid.cv_results_['mean_test_score'].max()\n",
    "    )\n",
    "\n",
    "    # print cv results\n",
    "    print('\\nCrossvalidation Results\\n------------------------------')\n",
    "    for i in cv_results:\n",
    "        print(i)\n",
    "\n",
    "    # print predictions\n",
    "    y_pred = grid.predict(X_test)\n",
    "    print('\\nClassification Report\\n------------------------------\\n', classification_report(y_test, y_pred))\n",
    "\n",
    "    print('\\nConfusion Matrix\\n------------------------------')\n",
    "    plt.subplots(figsize=(6, 6))\n",
    "    sns.heatmap(confusion_matrix(y_test, y_pred), vmin=0, cmap='Blues', annot=True, fmt='.0f', cbar=False,\n",
    "               xticklabels=['Not Popular', 'Billboard Hit'], yticklabels=['Not Popular', 'Billboard Hit'])\n",
    "    plt.ylabel('Predicted')\n",
    "    plt.xlabel('Actual')\n",
    "    plt.show()"
   ]
  },
  {
   "cell_type": "markdown",
   "id": "f594b883",
   "metadata": {},
   "source": [
    "##### Logistic Regression - try a bunch of metrics fully sampled"
   ]
  },
  {
   "cell_type": "code",
   "execution_count": null,
   "id": "b09c7d23",
   "metadata": {},
   "outputs": [],
   "source": [
    "%%time\n",
    "for key in cluster_keys:\n",
    "    fit_predict_metric_model(0, dataset=key, n_cv=5, scoring='balanced_accuracy')"
   ]
  },
  {
   "cell_type": "code",
   "execution_count": null,
   "id": "e0c48366",
   "metadata": {},
   "outputs": [],
   "source": [
    "%%time\n",
    "for key in cluster_keys:\n",
    "    fit_predict_metric_model(0, dataset=key, n_cv=5, scoring='average_precision')"
   ]
  },
  {
   "cell_type": "code",
   "execution_count": null,
   "id": "6d23e2f2",
   "metadata": {},
   "outputs": [],
   "source": [
    "%%time\n",
    "for key in cluster_keys:\n",
    "    fit_predict_metric_model(0, dataset=key, n_cv=5, scoring='neg_brier_score')"
   ]
  },
  {
   "cell_type": "code",
   "execution_count": null,
   "id": "7450cd8c",
   "metadata": {},
   "outputs": [],
   "source": [
    "%%time\n",
    "for key in cluster_keys:\n",
    "    fit_predict_metric_model(0, dataset=key, n_cv=5, scoring='f1')"
   ]
  },
  {
   "cell_type": "code",
   "execution_count": null,
   "id": "02ef7c64",
   "metadata": {},
   "outputs": [],
   "source": [
    "%%time\n",
    "for key in cluster_keys:\n",
    "    fit_predict_metric_model(0, dataset=key, n_cv=5, scoring='f1_micro')"
   ]
  },
  {
   "cell_type": "code",
   "execution_count": null,
   "id": "11b84395",
   "metadata": {},
   "outputs": [],
   "source": [
    "%%time\n",
    "for key in cluster_keys:\n",
    "    fit_predict_metric_model(0, dataset=key, n_cv=5, scoring='f1_macro')"
   ]
  },
  {
   "cell_type": "code",
   "execution_count": null,
   "id": "453d2b75",
   "metadata": {},
   "outputs": [],
   "source": [
    "%%time\n",
    "for key in cluster_keys:\n",
    "    fit_predict_metric_model(0, dataset=key, n_cv=5, scoring='f1_weighted')"
   ]
  },
  {
   "cell_type": "code",
   "execution_count": null,
   "id": "e0c8fb5e",
   "metadata": {},
   "outputs": [],
   "source": [
    "%%time\n",
    "for key in cluster_keys:\n",
    "    fit_predict_metric_model(0, dataset=key, n_cv=5, scoring='neg_log_loss')"
   ]
  },
  {
   "cell_type": "code",
   "execution_count": null,
   "id": "1fad7794",
   "metadata": {},
   "outputs": [],
   "source": [
    "%%time\n",
    "for key in cluster_keys:\n",
    "    fit_predict_metric_model(0, dataset=key, n_cv=5, scoring='precision')"
   ]
  },
  {
   "cell_type": "code",
   "execution_count": null,
   "id": "cbcf44f7",
   "metadata": {},
   "outputs": [],
   "source": [
    "%%time\n",
    "for key in cluster_keys:\n",
    "    fit_predict_metric_model(0, dataset=key, n_cv=5, scoring='recall')"
   ]
  },
  {
   "cell_type": "code",
   "execution_count": null,
   "id": "905c1c52",
   "metadata": {},
   "outputs": [],
   "source": [
    "%%time\n",
    "for key in cluster_keys:\n",
    "    fit_predict_metric_model(0, dataset=key, n_cv=5, scoring='roc_auc')"
   ]
  },
  {
   "cell_type": "code",
   "execution_count": null,
   "id": "26f2dca2",
   "metadata": {},
   "outputs": [],
   "source": [
    "%%time\n",
    "for key in cluster_keys:\n",
    "    fit_predict_metric_model(0, dataset=key, n_cv=5, scoring='jaccard')"
   ]
  },
  {
   "cell_type": "code",
   "execution_count": null,
   "id": "16353f7b",
   "metadata": {},
   "outputs": [],
   "source": []
  },
  {
   "cell_type": "code",
   "execution_count": null,
   "id": "47aef9a5",
   "metadata": {},
   "outputs": [],
   "source": []
  },
  {
   "cell_type": "code",
   "execution_count": null,
   "id": "b681f09c",
   "metadata": {},
   "outputs": [],
   "source": []
  },
  {
   "cell_type": "code",
   "execution_count": null,
   "id": "26fcc01b",
   "metadata": {},
   "outputs": [],
   "source": []
  },
  {
   "cell_type": "code",
   "execution_count": null,
   "id": "d8c9f085",
   "metadata": {},
   "outputs": [],
   "source": []
  },
  {
   "cell_type": "code",
   "execution_count": null,
   "id": "b602ea09",
   "metadata": {},
   "outputs": [],
   "source": []
  },
  {
   "cell_type": "code",
   "execution_count": null,
   "id": "78880e1f",
   "metadata": {},
   "outputs": [],
   "source": []
  },
  {
   "cell_type": "code",
   "execution_count": null,
   "id": "e5a87343",
   "metadata": {},
   "outputs": [],
   "source": []
  },
  {
   "cell_type": "code",
   "execution_count": null,
   "id": "78a80624",
   "metadata": {},
   "outputs": [],
   "source": []
  },
  {
   "cell_type": "code",
   "execution_count": null,
   "id": "1a4b3b75",
   "metadata": {},
   "outputs": [],
   "source": []
  },
  {
   "cell_type": "code",
   "execution_count": null,
   "id": "413e5576",
   "metadata": {},
   "outputs": [],
   "source": []
  },
  {
   "cell_type": "code",
   "execution_count": null,
   "id": "b04499f7",
   "metadata": {},
   "outputs": [],
   "source": []
  },
  {
   "cell_type": "code",
   "execution_count": null,
   "id": "56dfdcdb",
   "metadata": {},
   "outputs": [],
   "source": []
  },
  {
   "cell_type": "code",
   "execution_count": null,
   "id": "69d49d5b",
   "metadata": {},
   "outputs": [],
   "source": []
  },
  {
   "cell_type": "code",
   "execution_count": null,
   "id": "3508a882",
   "metadata": {},
   "outputs": [],
   "source": []
  },
  {
   "cell_type": "code",
   "execution_count": null,
   "id": "cb0afb1f",
   "metadata": {},
   "outputs": [],
   "source": []
  },
  {
   "cell_type": "markdown",
   "id": "2534f0c8",
   "metadata": {},
   "source": [
    "##### Logistic Regression"
   ]
  },
  {
   "cell_type": "code",
   "execution_count": 117,
   "id": "0da4cdfc",
   "metadata": {},
   "outputs": [
    {
     "name": "stdout",
     "output_type": "stream",
     "text": [
      "\n",
      "Crossvalidation Results\n",
      "------------------------------\n",
      "{'logisticregression__C': 10000, 'logisticregression__penalty': 'l1', 'logisticregression__solver': 'liblinear'}\n",
      "0.7444842972791343\n",
      "0.5\n",
      "0.7761325331485998\n",
      "\n",
      "Classification Report\n",
      "------------------------------\n",
      "               precision    recall  f1-score   support\n",
      "\n",
      "       False       0.99      0.68      0.81     41036\n",
      "        True       0.04      0.75      0.08       736\n",
      "\n",
      "    accuracy                           0.69     41772\n",
      "   macro avg       0.52      0.72      0.44     41772\n",
      "weighted avg       0.98      0.69      0.80     41772\n",
      "\n",
      "\n",
      "Confusion Matrix\n",
      "------------------------------\n"
     ]
    },
    {
     "data": {
      "image/png": "[encoded data removed]",
      "text/plain": [
       "<Figure size 432x432 with 1 Axes>"
      ]
     },
     "metadata": {},
     "output_type": "display_data"
    },
    {
     "name": "stdout",
     "output_type": "stream",
     "text": [
      "Wall time: 2min 19s\n"
     ]
    }
   ],
   "source": [
    "%%time\n",
    "fit_predict_metric_model(0, dataset='Adult_Standard', n_cv=5, scoring='roc_auc')"
   ]
  },
  {
   "cell_type": "code",
   "execution_count": 118,
   "id": "df3d2344",
   "metadata": {},
   "outputs": [
    {
     "name": "stdout",
     "output_type": "stream",
     "text": [
      "\n",
      "Crossvalidation Results\n",
      "------------------------------\n",
      "{'logisticregression__C': 1000, 'logisticregression__penalty': 'l2', 'logisticregression__solver': 'liblinear'}\n",
      "0.036047234406268155\n",
      "0.0\n",
      "0.04133573588086714\n",
      "\n",
      "Classification Report\n",
      "------------------------------\n",
      "               precision    recall  f1-score   support\n",
      "\n",
      "       False       0.99      0.69      0.81     41036\n",
      "        True       0.04      0.73      0.08       736\n",
      "\n",
      "    accuracy                           0.69     41772\n",
      "   macro avg       0.52      0.71      0.45     41772\n",
      "weighted avg       0.98      0.69      0.80     41772\n",
      "\n",
      "\n",
      "Confusion Matrix\n",
      "------------------------------\n"
     ]
    },
    {
     "data": {
      "image/png": "[encoded data removed]",
      "text/plain": [
       "<Figure size 432x432 with 1 Axes>"
      ]
     },
     "metadata": {},
     "output_type": "display_data"
    },
    {
     "name": "stdout",
     "output_type": "stream",
     "text": [
      "Wall time: 2min 17s\n"
     ]
    }
   ],
   "source": [
    "%%time\n",
    "fit_predict_metric_model(0, dataset='Adult_Standard', n_cv=5, scoring='precision')"
   ]
  },
  {
   "cell_type": "code",
   "execution_count": 119,
   "id": "2b06f0ef",
   "metadata": {},
   "outputs": [
    {
     "name": "stdout",
     "output_type": "stream",
     "text": [
      "\n",
      "Crossvalidation Results\n",
      "------------------------------\n",
      "{'logisticregression__C': 7, 'logisticregression__penalty': 'l1', 'logisticregression__solver': 'liblinear'}\n",
      "0.6865216124535468\n",
      "0.5\n",
      "0.719398812659714\n",
      "\n",
      "Classification Report\n",
      "------------------------------\n",
      "               precision    recall  f1-score   support\n",
      "\n",
      "       False       0.99      0.69      0.81     41036\n",
      "        True       0.04      0.73      0.08       736\n",
      "\n",
      "    accuracy                           0.69     41772\n",
      "   macro avg       0.52      0.71      0.45     41772\n",
      "weighted avg       0.98      0.69      0.80     41772\n",
      "\n",
      "\n",
      "Confusion Matrix\n",
      "------------------------------\n"
     ]
    },
    {
     "data": {
      "image/png": "[encoded data removed]",
      "text/plain": [
       "<Figure size 432x432 with 1 Axes>"
      ]
     },
     "metadata": {},
     "output_type": "display_data"
    },
    {
     "name": "stdout",
     "output_type": "stream",
     "text": [
      "Wall time: 2min 15s\n"
     ]
    }
   ],
   "source": [
    "%%time\n",
    "fit_predict_metric_model(0, dataset='Adult_Standard', n_cv=5, scoring='balanced_accuracy')"
   ]
  },
  {
   "cell_type": "code",
   "execution_count": 120,
   "id": "396e0cee",
   "metadata": {},
   "outputs": [
    {
     "name": "stdout",
     "output_type": "stream",
     "text": [
      "\n",
      "Crossvalidation Results\n",
      "------------------------------\n",
      "{'logisticregression__C': 5, 'logisticregression__penalty': 'l1', 'logisticregression__solver': 'liblinear'}\n",
      "0.06829758835589875\n",
      "0.0\n",
      "0.07813533772374906\n",
      "\n",
      "Classification Report\n",
      "------------------------------\n",
      "               precision    recall  f1-score   support\n",
      "\n",
      "       False       0.99      0.69      0.81     41036\n",
      "        True       0.04      0.72      0.08       736\n",
      "\n",
      "    accuracy                           0.69     41772\n",
      "   macro avg       0.52      0.71      0.44     41772\n",
      "weighted avg       0.98      0.69      0.80     41772\n",
      "\n",
      "\n",
      "Confusion Matrix\n",
      "------------------------------\n"
     ]
    },
    {
     "data": {
      "image/png": "[encoded data removed]",
      "text/plain": [
       "<Figure size 432x432 with 1 Axes>"
      ]
     },
     "metadata": {},
     "output_type": "display_data"
    },
    {
     "name": "stdout",
     "output_type": "stream",
     "text": [
      "Wall time: 2min 14s\n"
     ]
    }
   ],
   "source": [
    "%%time\n",
    "fit_predict_metric_model(0, dataset='Adult_Standard', n_cv=5, scoring='f1')"
   ]
  },
  {
   "cell_type": "code",
   "execution_count": 121,
   "id": "896e72a6",
   "metadata": {},
   "outputs": [
    {
     "name": "stdout",
     "output_type": "stream",
     "text": [
      "\n",
      "Crossvalidation Results\n",
      "------------------------------\n",
      "{'logisticregression__C': 6000, 'logisticregression__penalty': 'l1', 'logisticregression__solver': 'liblinear'}\n",
      "0.74835640627452\n",
      "0.5\n",
      "0.8187039747965861\n",
      "\n",
      "Classification Report\n",
      "------------------------------\n",
      "               precision    recall  f1-score   support\n",
      "\n",
      "       False       1.00      0.73      0.84    246687\n",
      "        True       0.00      0.73      0.00        37\n",
      "\n",
      "    accuracy                           0.73    246724\n",
      "   macro avg       0.50      0.73      0.42    246724\n",
      "weighted avg       1.00      0.73      0.84    246724\n",
      "\n",
      "\n",
      "Confusion Matrix\n",
      "------------------------------\n"
     ]
    },
    {
     "data": {
      "image/png": "[encoded data removed]",
      "text/plain": [
       "<Figure size 432x432 with 1 Axes>"
      ]
     },
     "metadata": {},
     "output_type": "display_data"
    },
    {
     "name": "stdout",
     "output_type": "stream",
     "text": [
      "Wall time: 16min 48s\n"
     ]
    }
   ],
   "source": [
    "%%time\n",
    "fit_predict_metric_model(0, dataset='cluster1_0', n_cv=5, scoring='roc_auc')"
   ]
  },
  {
   "cell_type": "code",
   "execution_count": 122,
   "id": "ef793e7e",
   "metadata": {},
   "outputs": [
    {
     "name": "stdout",
     "output_type": "stream",
     "text": [
      "\n",
      "Crossvalidation Results\n",
      "------------------------------\n",
      "{'logisticregression__C': 4000, 'logisticregression__penalty': 'l2', 'logisticregression__solver': 'liblinear'}\n",
      "0.632766477382648\n",
      "0.5\n",
      "0.6545887168003114\n",
      "\n",
      "Classification Report\n",
      "------------------------------\n",
      "               precision    recall  f1-score   support\n",
      "\n",
      "       False       1.00      0.55      0.71    792706\n",
      "        True       0.01      0.67      0.01      2932\n",
      "\n",
      "    accuracy                           0.55    795638\n",
      "   macro avg       0.50      0.61      0.36    795638\n",
      "weighted avg       0.99      0.55      0.71    795638\n",
      "\n",
      "\n",
      "Confusion Matrix\n",
      "------------------------------\n"
     ]
    },
    {
     "data": {
      "image/png": "[encoded data removed]",
      "text/plain": [
       "<Figure size 432x432 with 1 Axes>"
      ]
     },
     "metadata": {},
     "output_type": "display_data"
    },
    {
     "name": "stdout",
     "output_type": "stream",
     "text": [
      "Wall time: 1h 1min 11s\n"
     ]
    }
   ],
   "source": [
    "%%time\n",
    "fit_predict_metric_model(0, dataset='cluster1_1', n_cv=5, scoring='roc_auc')"
   ]
  },
  {
   "cell_type": "code",
   "execution_count": 123,
   "id": "b801625c",
   "metadata": {},
   "outputs": [
    {
     "name": "stdout",
     "output_type": "stream",
     "text": [
      "\n",
      "Crossvalidation Results\n",
      "------------------------------\n",
      "{'logisticregression__C': 10000, 'logisticregression__penalty': 'l1', 'logisticregression__solver': 'liblinear'}\n",
      "0.7060791808054896\n",
      "0.5\n",
      "0.7409393784761877\n",
      "\n",
      "Classification Report\n",
      "------------------------------\n",
      "               precision    recall  f1-score   support\n",
      "\n",
      "       False       1.00      0.65      0.79    459788\n",
      "        True       0.01      0.70      0.01      1169\n",
      "\n",
      "    accuracy                           0.65    460957\n",
      "   macro avg       0.50      0.67      0.40    460957\n",
      "weighted avg       1.00      0.65      0.79    460957\n",
      "\n",
      "\n",
      "Confusion Matrix\n",
      "------------------------------\n"
     ]
    },
    {
     "data": {
      "image/png": "[encoded data removed]",
      "text/plain": [
       "<Figure size 432x432 with 1 Axes>"
      ]
     },
     "metadata": {},
     "output_type": "display_data"
    },
    {
     "name": "stdout",
     "output_type": "stream",
     "text": [
      "Wall time: 33min 18s\n"
     ]
    }
   ],
   "source": [
    "%%time\n",
    "fit_predict_metric_model(0, dataset='cluster1_2', n_cv=5, scoring='roc_auc')"
   ]
  },
  {
   "cell_type": "code",
   "execution_count": 124,
   "id": "30755135",
   "metadata": {},
   "outputs": [
    {
     "name": "stdout",
     "output_type": "stream",
     "text": [
      "\n",
      "Crossvalidation Results\n",
      "------------------------------\n",
      "{'logisticregression__C': 60, 'logisticregression__penalty': 'l2', 'logisticregression__solver': 'liblinear'}\n",
      "0.766248929257866\n",
      "0.5\n",
      "0.8201797227720171\n",
      "\n",
      "Classification Report\n",
      "------------------------------\n",
      "               precision    recall  f1-score   support\n",
      "\n",
      "       False       1.00      0.72      0.84    262118\n",
      "        True       0.00      0.78      0.00       108\n",
      "\n",
      "    accuracy                           0.72    262226\n",
      "   macro avg       0.50      0.75      0.42    262226\n",
      "weighted avg       1.00      0.72      0.84    262226\n",
      "\n",
      "\n",
      "Confusion Matrix\n",
      "------------------------------\n"
     ]
    },
    {
     "data": {
      "image/png": "[encoded data removed]",
      "text/plain": [
       "<Figure size 432x432 with 1 Axes>"
      ]
     },
     "metadata": {},
     "output_type": "display_data"
    },
    {
     "name": "stdout",
     "output_type": "stream",
     "text": [
      "Wall time: 17min 39s\n"
     ]
    }
   ],
   "source": [
    "%%time\n",
    "fit_predict_metric_model(0, dataset='cluster1_3', n_cv=5, scoring='roc_auc')"
   ]
  },
  {
   "cell_type": "markdown",
   "id": "c5627e25",
   "metadata": {},
   "source": [
    "##### Other Models"
   ]
  },
  {
   "cell_type": "code",
   "execution_count": 125,
   "id": "ee133bec",
   "metadata": {},
   "outputs": [
    {
     "name": "stdout",
     "output_type": "stream",
     "text": [
      "\n",
      "Crossvalidation Results\n",
      "------------------------------\n",
      "{'decisiontreeclassifier__criterion': 'entropy', 'decisiontreeclassifier__max_depth': 9, 'decisiontreeclassifier__min_samples_leaf': 100}\n",
      "0.7421589523074503\n",
      "0.6948494134559638\n",
      "0.775807957624241\n",
      "\n",
      "Classification Report\n",
      "------------------------------\n",
      "               precision    recall  f1-score   support\n",
      "\n",
      "       False       0.99      0.67      0.80     41036\n",
      "        True       0.04      0.73      0.07       736\n",
      "\n",
      "    accuracy                           0.67     41772\n",
      "   macro avg       0.52      0.70      0.44     41772\n",
      "weighted avg       0.98      0.67      0.79     41772\n",
      "\n",
      "\n",
      "Confusion Matrix\n",
      "------------------------------\n"
     ]
    },
    {
     "data": {
      "image/png": "[encoded data removed]",
      "text/plain": [
       "<Figure size 432x432 with 1 Axes>"
      ]
     },
     "metadata": {},
     "output_type": "display_data"
    },
    {
     "name": "stdout",
     "output_type": "stream",
     "text": [
      "Wall time: 2min 12s\n"
     ]
    }
   ],
   "source": [
    "%%time\n",
    "fit_predict_metric_model(1, dataset='Adult_Standard', n_cv=5, scoring='roc_auc')"
   ]
  },
  {
   "cell_type": "code",
   "execution_count": 126,
   "id": "ca07a7c8",
   "metadata": {},
   "outputs": [
    {
     "name": "stdout",
     "output_type": "stream",
     "text": [
      "\n",
      "Crossvalidation Results\n",
      "------------------------------\n",
      "{'kneighborsclassifier__metric': 'manhattan', 'kneighborsclassifier__n_neighbors': 40, 'kneighborsclassifier__weights': 'distance'}\n",
      "0.7602951714362535\n",
      "0.6839425877929104\n",
      "0.7789305016120425\n",
      "\n",
      "Classification Report\n",
      "------------------------------\n",
      "               precision    recall  f1-score   support\n",
      "\n",
      "       False       1.00      0.56      0.71     41036\n",
      "        True       0.03      0.87      0.07       736\n",
      "\n",
      "    accuracy                           0.56     41772\n",
      "   macro avg       0.51      0.71      0.39     41772\n",
      "weighted avg       0.98      0.56      0.70     41772\n",
      "\n",
      "\n",
      "Confusion Matrix\n",
      "------------------------------\n"
     ]
    },
    {
     "data": {
      "image/png": "[encoded data removed]",
      "text/plain": [
       "<Figure size 432x432 with 1 Axes>"
      ]
     },
     "metadata": {},
     "output_type": "display_data"
    },
    {
     "name": "stdout",
     "output_type": "stream",
     "text": [
      "Wall time: 6min 34s\n"
     ]
    }
   ],
   "source": [
    "%%time\n",
    "fit_predict_metric_model(2, dataset='Adult_Standard', n_cv=5, scoring='roc_auc')"
   ]
  },
  {
   "cell_type": "code",
   "execution_count": 127,
   "id": "3643d17d",
   "metadata": {},
   "outputs": [
    {
     "name": "stdout",
     "output_type": "stream",
     "text": [
      "\n",
      "Crossvalidation Results\n",
      "------------------------------\n",
      "{'randomforestclassifier__bootstrap': True, 'randomforestclassifier__max_depth': 50, 'randomforestclassifier__max_features': 'log2', 'randomforestclassifier__min_samples_leaf': 5, 'randomforestclassifier__n_estimators': 500}\n",
      "0.7862043279548806\n",
      "0.69201545563241\n",
      "0.8101129095900592\n",
      "\n",
      "Classification Report\n",
      "------------------------------\n",
      "               precision    recall  f1-score   support\n",
      "\n",
      "       False       1.00      0.66      0.80     41036\n",
      "        True       0.04      0.82      0.08       736\n",
      "\n",
      "    accuracy                           0.67     41772\n",
      "   macro avg       0.52      0.74      0.44     41772\n",
      "weighted avg       0.98      0.67      0.78     41772\n",
      "\n",
      "\n",
      "Confusion Matrix\n",
      "------------------------------\n"
     ]
    },
    {
     "data": {
      "image/png": "[encoded data removed]",
      "text/plain": [
       "<Figure size 432x432 with 1 Axes>"
      ]
     },
     "metadata": {},
     "output_type": "display_data"
    },
    {
     "name": "stdout",
     "output_type": "stream",
     "text": [
      "Wall time: 1h 39min 47s\n"
     ]
    }
   ],
   "source": [
    "%%time\n",
    "fit_predict_metric_model(3, dataset='Adult_Standard', n_cv=5, scoring='roc_auc')"
   ]
  },
  {
   "cell_type": "code",
   "execution_count": 135,
   "id": "932d07e9",
   "metadata": {},
   "outputs": [
    {
     "name": "stdout",
     "output_type": "stream",
     "text": [
      "\n",
      "Crossvalidation Results\n",
      "------------------------------\n",
      "{'adaboostclassifier__algorithm': 'SAMME.R', 'adaboostclassifier__learning_rate': 0.05, 'adaboostclassifier__n_estimators': 1000}\n",
      "0.7273069539528305\n",
      "0.4001997699586147\n",
      "0.7970740685826228\n",
      "\n",
      "Classification Report\n",
      "------------------------------\n",
      "               precision    recall  f1-score   support\n",
      "\n",
      "       False       0.99      0.66      0.80     41036\n",
      "        True       0.04      0.80      0.08       736\n",
      "\n",
      "    accuracy                           0.67     41772\n",
      "   macro avg       0.52      0.73      0.44     41772\n",
      "weighted avg       0.98      0.67      0.78     41772\n",
      "\n",
      "\n",
      "Confusion Matrix\n",
      "------------------------------\n"
     ]
    },
    {
     "data": {
      "image/png": "[encoded data removed]",
      "text/plain": [
       "<Figure size 432x432 with 1 Axes>"
      ]
     },
     "metadata": {},
     "output_type": "display_data"
    },
    {
     "name": "stdout",
     "output_type": "stream",
     "text": [
      "Wall time: 44min 19s\n"
     ]
    }
   ],
   "source": [
    "%%time\n",
    "fit_predict_metric_model(4, dataset='Adult_Standard', n_cv=5, scoring='roc_auc')"
   ]
  },
  {
   "cell_type": "code",
   "execution_count": null,
   "id": "40676c9e",
   "metadata": {},
   "outputs": [],
   "source": []
  },
  {
   "cell_type": "code",
   "execution_count": null,
   "id": "2cd910bf",
   "metadata": {},
   "outputs": [],
   "source": []
  },
  {
   "cell_type": "code",
   "execution_count": null,
   "id": "e0677d4e",
   "metadata": {},
   "outputs": [],
   "source": []
  },
  {
   "cell_type": "code",
   "execution_count": null,
   "id": "6ff68519",
   "metadata": {},
   "outputs": [],
   "source": []
  },
  {
   "cell_type": "code",
   "execution_count": null,
   "id": "dd0b12a4",
   "metadata": {},
   "outputs": [],
   "source": []
  },
  {
   "cell_type": "markdown",
   "id": "00a3fe64",
   "metadata": {},
   "source": [
    "# OLDER CODE: no meaningful results"
   ]
  },
  {
   "cell_type": "markdown",
   "id": "8a602d0f",
   "metadata": {},
   "source": [
    "### Which ML models did well with default settings?"
   ]
  },
  {
   "cell_type": "code",
   "execution_count": 419,
   "id": "8dd92ea6",
   "metadata": {},
   "outputs": [],
   "source": [
    "with open('default_results.pickle', 'rb') as f:\n",
    "    default_results = pickle.load(f)"
   ]
  },
  {
   "cell_type": "code",
   "execution_count": 422,
   "id": "de167432",
   "metadata": {},
   "outputs": [],
   "source": [
    "ML_algorithms = [\n",
    "    LogisticRegression,\n",
    "    DecisionTreeClassifier,\n",
    "    KNeighborsClassifier,\n",
    "    RandomForestClassifier,\n",
    "    AdaBoostClassifier\n",
    "]\n",
    "\n",
    "def default_results_by_metric(class_type='True', metric='f1-score'):\n",
    "    \"\"\"convert default results into readable form\"\"\"\n",
    "    output_ = []\n",
    "\n",
    "    for algo in ML_algorithms:\n",
    "        algo_ = str(algo())[:-2]\n",
    "        temp_ = [algo_]\n",
    "        for cluster in cluster_keys:\n",
    "            if class_type == 'accuracy':\n",
    "                metric_ = default_results[algo_][cluster][1][class_type]\n",
    "            else:\n",
    "                metric_ = default_results[algo_][cluster][1][class_type][metric]\n",
    "            temp_.append(metric_)\n",
    "        output_.append(temp_)\n",
    "\n",
    "    df_default_results = pd.DataFrame(output_, columns=['Model']+list(default_results['LogisticRegression'].keys()))\n",
    "    df_default_results['min'] = df_default_results.iloc[:, 1:].min(axis=1)\n",
    "    df_default_results['max'] = df_default_results.iloc[:, 1:].max(axis=1)\n",
    "    df_default_results['mean'] = df_default_results.iloc[:, 1:].mean(axis=1)\n",
    "\n",
    "    return df_default_results\n",
    "    "
   ]
  },
  {
   "cell_type": "code",
   "execution_count": 466,
   "id": "a1bdc6e6",
   "metadata": {},
   "outputs": [
    {
     "data": {
      "text/html": [
       "<div>\n",
       "<style scoped>\n",
       "    .dataframe tbody tr th:only-of-type {\n",
       "        vertical-align: middle;\n",
       "    }\n",
       "\n",
       "    .dataframe tbody tr th {\n",
       "        vertical-align: top;\n",
       "    }\n",
       "\n",
       "    .dataframe thead th {\n",
       "        text-align: right;\n",
       "    }\n",
       "</style>\n",
       "<table border=\"1\" class=\"dataframe\">\n",
       "  <thead>\n",
       "    <tr style=\"text-align: right;\">\n",
       "      <th>Model</th>\n",
       "      <th>LogisticRegression</th>\n",
       "      <th>DecisionTreeClassifier</th>\n",
       "      <th>KNeighborsClassifier</th>\n",
       "      <th>RandomForestClassifier</th>\n",
       "      <th>AdaBoostClassifier</th>\n",
       "    </tr>\n",
       "  </thead>\n",
       "  <tbody>\n",
       "    <tr>\n",
       "      <th>Adult_Standard</th>\n",
       "      <td>0.077</td>\n",
       "      <td>0.060</td>\n",
       "      <td>0.065</td>\n",
       "      <td>0.080</td>\n",
       "      <td>0.077</td>\n",
       "    </tr>\n",
       "    <tr>\n",
       "      <th>R&amp;B</th>\n",
       "      <td>0.072</td>\n",
       "      <td>0.063</td>\n",
       "      <td>0.065</td>\n",
       "      <td>0.081</td>\n",
       "      <td>0.076</td>\n",
       "    </tr>\n",
       "    <tr>\n",
       "      <th>Country</th>\n",
       "      <td>0.038</td>\n",
       "      <td>0.030</td>\n",
       "      <td>0.033</td>\n",
       "      <td>0.042</td>\n",
       "      <td>0.038</td>\n",
       "    </tr>\n",
       "    <tr>\n",
       "      <th>Rock</th>\n",
       "      <td>0.032</td>\n",
       "      <td>0.029</td>\n",
       "      <td>0.030</td>\n",
       "      <td>0.039</td>\n",
       "      <td>0.036</td>\n",
       "    </tr>\n",
       "    <tr>\n",
       "      <th>Pop</th>\n",
       "      <td>0.021</td>\n",
       "      <td>0.019</td>\n",
       "      <td>0.019</td>\n",
       "      <td>0.026</td>\n",
       "      <td>0.022</td>\n",
       "    </tr>\n",
       "    <tr>\n",
       "      <th>Rap</th>\n",
       "      <td>0.017</td>\n",
       "      <td>0.013</td>\n",
       "      <td>0.014</td>\n",
       "      <td>0.018</td>\n",
       "      <td>0.017</td>\n",
       "    </tr>\n",
       "    <tr>\n",
       "      <th>cluster2_7</th>\n",
       "      <td>0.014</td>\n",
       "      <td>0.012</td>\n",
       "      <td>0.013</td>\n",
       "      <td>0.017</td>\n",
       "      <td>0.015</td>\n",
       "    </tr>\n",
       "    <tr>\n",
       "      <th>cluster2_1</th>\n",
       "      <td>0.012</td>\n",
       "      <td>0.011</td>\n",
       "      <td>0.011</td>\n",
       "      <td>0.016</td>\n",
       "      <td>0.014</td>\n",
       "    </tr>\n",
       "    <tr>\n",
       "      <th>cluster2_5</th>\n",
       "      <td>0.011</td>\n",
       "      <td>0.010</td>\n",
       "      <td>0.010</td>\n",
       "      <td>0.014</td>\n",
       "      <td>0.012</td>\n",
       "    </tr>\n",
       "    <tr>\n",
       "      <th>cluster1_1</th>\n",
       "      <td>0.011</td>\n",
       "      <td>0.010</td>\n",
       "      <td>0.011</td>\n",
       "      <td>0.014</td>\n",
       "      <td>0.012</td>\n",
       "    </tr>\n",
       "    <tr>\n",
       "      <th>cluster1_2</th>\n",
       "      <td>0.010</td>\n",
       "      <td>0.009</td>\n",
       "      <td>0.009</td>\n",
       "      <td>0.013</td>\n",
       "      <td>0.011</td>\n",
       "    </tr>\n",
       "    <tr>\n",
       "      <th>cluster2_6</th>\n",
       "      <td>0.009</td>\n",
       "      <td>0.007</td>\n",
       "      <td>0.008</td>\n",
       "      <td>0.011</td>\n",
       "      <td>0.009</td>\n",
       "    </tr>\n",
       "    <tr>\n",
       "      <th>All</th>\n",
       "      <td>0.009</td>\n",
       "      <td>0.009</td>\n",
       "      <td>0.009</td>\n",
       "      <td>0.012</td>\n",
       "      <td>0.010</td>\n",
       "    </tr>\n",
       "    <tr>\n",
       "      <th>Alternative</th>\n",
       "      <td>0.009</td>\n",
       "      <td>0.007</td>\n",
       "      <td>0.007</td>\n",
       "      <td>0.012</td>\n",
       "      <td>0.009</td>\n",
       "    </tr>\n",
       "    <tr>\n",
       "      <th>cluster2_8</th>\n",
       "      <td>0.008</td>\n",
       "      <td>0.007</td>\n",
       "      <td>0.007</td>\n",
       "      <td>0.010</td>\n",
       "      <td>0.009</td>\n",
       "    </tr>\n",
       "    <tr>\n",
       "      <th>cluster2_0</th>\n",
       "      <td>0.008</td>\n",
       "      <td>0.007</td>\n",
       "      <td>0.007</td>\n",
       "      <td>0.009</td>\n",
       "      <td>0.009</td>\n",
       "    </tr>\n",
       "    <tr>\n",
       "      <th>Metal</th>\n",
       "      <td>0.003</td>\n",
       "      <td>0.003</td>\n",
       "      <td>0.003</td>\n",
       "      <td>0.005</td>\n",
       "      <td>0.004</td>\n",
       "    </tr>\n",
       "    <tr>\n",
       "      <th>cluster2_9</th>\n",
       "      <td>0.003</td>\n",
       "      <td>0.003</td>\n",
       "      <td>0.003</td>\n",
       "      <td>0.004</td>\n",
       "      <td>0.003</td>\n",
       "    </tr>\n",
       "    <tr>\n",
       "      <th>EDM</th>\n",
       "      <td>0.003</td>\n",
       "      <td>0.002</td>\n",
       "      <td>0.003</td>\n",
       "      <td>0.004</td>\n",
       "      <td>0.003</td>\n",
       "    </tr>\n",
       "    <tr>\n",
       "      <th>cluster1_3</th>\n",
       "      <td>0.002</td>\n",
       "      <td>0.002</td>\n",
       "      <td>0.002</td>\n",
       "      <td>0.003</td>\n",
       "      <td>0.002</td>\n",
       "    </tr>\n",
       "    <tr>\n",
       "      <th>cluster2_4</th>\n",
       "      <td>0.001</td>\n",
       "      <td>0.001</td>\n",
       "      <td>0.001</td>\n",
       "      <td>0.002</td>\n",
       "      <td>0.001</td>\n",
       "    </tr>\n",
       "    <tr>\n",
       "      <th>cluster1_0</th>\n",
       "      <td>0.001</td>\n",
       "      <td>0.001</td>\n",
       "      <td>0.001</td>\n",
       "      <td>0.001</td>\n",
       "      <td>0.001</td>\n",
       "    </tr>\n",
       "    <tr>\n",
       "      <th>cluster2_3</th>\n",
       "      <td>0.001</td>\n",
       "      <td>0.000</td>\n",
       "      <td>0.000</td>\n",
       "      <td>0.001</td>\n",
       "      <td>0.000</td>\n",
       "    </tr>\n",
       "    <tr>\n",
       "      <th>cluster2_2</th>\n",
       "      <td>0.000</td>\n",
       "      <td>0.000</td>\n",
       "      <td>0.000</td>\n",
       "      <td>0.000</td>\n",
       "      <td>0.000</td>\n",
       "    </tr>\n",
       "  </tbody>\n",
       "</table>\n",
       "</div>"
      ],
      "text/plain": [
       "Model           LogisticRegression  DecisionTreeClassifier  \\\n",
       "Adult_Standard               0.077                   0.060   \n",
       "R&B                          0.072                   0.063   \n",
       "Country                      0.038                   0.030   \n",
       "Rock                         0.032                   0.029   \n",
       "Pop                          0.021                   0.019   \n",
       "Rap                          0.017                   0.013   \n",
       "cluster2_7                   0.014                   0.012   \n",
       "cluster2_1                   0.012                   0.011   \n",
       "cluster2_5                   0.011                   0.010   \n",
       "cluster1_1                   0.011                   0.010   \n",
       "cluster1_2                   0.010                   0.009   \n",
       "cluster2_6                   0.009                   0.007   \n",
       "All                          0.009                   0.009   \n",
       "Alternative                  0.009                   0.007   \n",
       "cluster2_8                   0.008                   0.007   \n",
       "cluster2_0                   0.008                   0.007   \n",
       "Metal                        0.003                   0.003   \n",
       "cluster2_9                   0.003                   0.003   \n",
       "EDM                          0.003                   0.002   \n",
       "cluster1_3                   0.002                   0.002   \n",
       "cluster2_4                   0.001                   0.001   \n",
       "cluster1_0                   0.001                   0.001   \n",
       "cluster2_3                   0.001                   0.000   \n",
       "cluster2_2                   0.000                   0.000   \n",
       "\n",
       "Model           KNeighborsClassifier  RandomForestClassifier  \\\n",
       "Adult_Standard                 0.065                   0.080   \n",
       "R&B                            0.065                   0.081   \n",
       "Country                        0.033                   0.042   \n",
       "Rock                           0.030                   0.039   \n",
       "Pop                            0.019                   0.026   \n",
       "Rap                            0.014                   0.018   \n",
       "cluster2_7                     0.013                   0.017   \n",
       "cluster2_1                     0.011                   0.016   \n",
       "cluster2_5                     0.010                   0.014   \n",
       "cluster1_1                     0.011                   0.014   \n",
       "cluster1_2                     0.009                   0.013   \n",
       "cluster2_6                     0.008                   0.011   \n",
       "All                            0.009                   0.012   \n",
       "Alternative                    0.007                   0.012   \n",
       "cluster2_8                     0.007                   0.010   \n",
       "cluster2_0                     0.007                   0.009   \n",
       "Metal                          0.003                   0.005   \n",
       "cluster2_9                     0.003                   0.004   \n",
       "EDM                            0.003                   0.004   \n",
       "cluster1_3                     0.002                   0.003   \n",
       "cluster2_4                     0.001                   0.002   \n",
       "cluster1_0                     0.001                   0.001   \n",
       "cluster2_3                     0.000                   0.001   \n",
       "cluster2_2                     0.000                   0.000   \n",
       "\n",
       "Model           AdaBoostClassifier  \n",
       "Adult_Standard               0.077  \n",
       "R&B                          0.076  \n",
       "Country                      0.038  \n",
       "Rock                         0.036  \n",
       "Pop                          0.022  \n",
       "Rap                          0.017  \n",
       "cluster2_7                   0.015  \n",
       "cluster2_1                   0.014  \n",
       "cluster2_5                   0.012  \n",
       "cluster1_1                   0.012  \n",
       "cluster1_2                   0.011  \n",
       "cluster2_6                   0.009  \n",
       "All                          0.010  \n",
       "Alternative                  0.009  \n",
       "cluster2_8                   0.009  \n",
       "cluster2_0                   0.009  \n",
       "Metal                        0.004  \n",
       "cluster2_9                   0.003  \n",
       "EDM                          0.003  \n",
       "cluster1_3                   0.002  \n",
       "cluster2_4                   0.001  \n",
       "cluster1_0                   0.001  \n",
       "cluster2_3                   0.000  \n",
       "cluster2_2                   0.000  "
      ]
     },
     "execution_count": 466,
     "metadata": {},
     "output_type": "execute_result"
    }
   ],
   "source": [
    "# best performing classification by cluster = Adult_Standard (1st or 2nd for all ML models)\n",
    "sortbyfeature = 'LogisticRegression'\n",
    "pd.DataFrame(default_results_by_metric().iloc[:, :-3].set_index('Model').T).sort_values(sortbyfeature, ascending=False)"
   ]
  },
  {
   "cell_type": "markdown",
   "id": "da576a88",
   "metadata": {},
   "source": [
    "### Logistic Regression"
   ]
  },
  {
   "cell_type": "code",
   "execution_count": 542,
   "id": "f612e975",
   "metadata": {},
   "outputs": [],
   "source": [
    "# huge list of orders of magnitude for gridsearch\n",
    "# formatted a bit funny to avoid rounding errors\n",
    "orders_of_magnitude = []\n",
    "for lst in [[int(x)/10000 for x in range(1, 11)],\n",
    "            [int(x)/1000 for x in range(1, 11)],\n",
    "            [int(x)/100 for x in range(1, 11)],\n",
    "            [int(x)/10 for x in range(1, 11)],\n",
    "            [1 * x for x in range(1, 11)],\n",
    "            [10 * x for x in range(1, 11)],\n",
    "            [100 * x for x in range(1, 11)],\n",
    "            [1000 * x for x in range(1, 11)]]:\n",
    "    orders_of_magnitude += lst"
   ]
  },
  {
   "cell_type": "code",
   "execution_count": 544,
   "id": "d2122121",
   "metadata": {
    "scrolled": false
   },
   "outputs": [
    {
     "name": "stdout",
     "output_type": "stream",
     "text": [
      "Wall time: 5min 3s\n"
     ]
    },
    {
     "data": {
      "text/plain": [
       "({'logisticregression__C': 400, 'logisticregression__penalty': 'l2'},\n",
       " 0.07800708796711779)"
      ]
     },
     "execution_count": 544,
     "metadata": {},
     "output_type": "execute_result"
    }
   ],
   "source": [
    "%%time\n",
    "# LOGISTIC REGRESSION\n",
    "\n",
    "# choose dataset\n",
    "am_testing = False  # test tuning setup with small dataset\n",
    "if am_testing:\n",
    "    X_, y_ = X_small, y_small\n",
    "else:\n",
    "    X_, y_ = clusters['Adult_Standard']  # has the best classification results from STEP 5\n",
    "\n",
    "# params\n",
    "scoring = 'f1'\n",
    "param_grid = {}\n",
    "param_grid['logisticregression__penalty'] = ['l1', 'l2']\n",
    "param_grid['logisticregression__C'] = orders_of_magnitude\n",
    "\n",
    "# pipeline\n",
    "pipe = make_pipeline(\n",
    "    RandomUnderSampler(sampling_strategy='majority'), \n",
    "    LogisticRegression(solver='liblinear')\n",
    ")\n",
    "\n",
    "# gridsearch\n",
    "cv = StratifiedKFold(n_splits=10, shuffle=True)\n",
    "lr_grid = GridSearchCV(\n",
    "    estimator = pipe,\n",
    "    param_grid = param_grid,\n",
    "    cv = cv,\n",
    "    scoring = scoring, \n",
    "    n_jobs = -1\n",
    ")\n",
    "\n",
    "# calculate best parameters\n",
    "lr_grid.fit(X_, y_)\n",
    "\n",
    "# results\n",
    "lr_grid.best_params_, lr_grid.best_score_"
   ]
  },
  {
   "cell_type": "code",
   "execution_count": 553,
   "id": "5dd8ebdb",
   "metadata": {},
   "outputs": [
    {
     "data": {
      "text/plain": [
       "(0.06897831928043999, 0.0, 0.07800708796711779)"
      ]
     },
     "execution_count": 553,
     "metadata": {},
     "output_type": "execute_result"
    }
   ],
   "source": [
    "# doesn't seem like tuning is doing anything\n",
    "(\n",
    "    lr_grid.cv_results_['mean_test_score'].mean(), \n",
    "    lr_grid.cv_results_['mean_test_score'].min(), \n",
    "    lr_grid.cv_results_['mean_test_score'].max()\n",
    ")"
   ]
  },
  {
   "cell_type": "code",
   "execution_count": 561,
   "id": "65432a9d",
   "metadata": {},
   "outputs": [
    {
     "name": "stdout",
     "output_type": "stream",
     "text": [
      "Wall time: 5min 4s\n"
     ]
    },
    {
     "data": {
      "text/plain": [
       "({'decisiontreeclassifier__criterion': 'gini',\n",
       "  'decisiontreeclassifier__max_depth': None,\n",
       "  'decisiontreeclassifier__min_samples_leaf': 50},\n",
       " 0.07456561474305215)"
      ]
     },
     "execution_count": 561,
     "metadata": {},
     "output_type": "execute_result"
    }
   ],
   "source": [
    "%%time\n",
    "# DECISION TREE\n",
    "\n",
    "# choose dataset\n",
    "am_testing = False  # test tuning setup with small dataset\n",
    "if am_testing:\n",
    "    X_, y_ = X_small, y_small\n",
    "else:\n",
    "    X_, y_ = clusters['Adult_Standard']  # has the best classification results from STEP 5\n",
    "\n",
    "# params\n",
    "scoring = 'f1'\n",
    "param_grid = {}\n",
    "param_grid['decisiontreeclassifier__max_depth'] = [3, 4, 5, 6, 7, 8, 9, 10, 15, 20, 25, 30, 40, 50, 100, None]\n",
    "param_grid['decisiontreeclassifier__min_samples_leaf'] = [5, 10, 50, 100, 1000]\n",
    "param_grid['decisiontreeclassifier__criterion'] = ['gini', 'entropy']\n",
    "\n",
    "# pipeline\n",
    "pipe = make_pipeline(\n",
    "    RandomUnderSampler(sampling_strategy='majority'), \n",
    "    DecisionTreeClassifier()\n",
    ")\n",
    "\n",
    "# gridsearch\n",
    "cv = StratifiedKFold(n_splits=10, shuffle=True)\n",
    "dt_grid = GridSearchCV(\n",
    "    estimator = pipe,\n",
    "    param_grid = param_grid,\n",
    "    cv = cv,\n",
    "    scoring = scoring, \n",
    "    n_jobs = -1\n",
    ")\n",
    "\n",
    "# calculate best parameters\n",
    "dt_grid.fit(X_, y_)\n",
    "\n",
    "# results\n",
    "dt_grid.best_params_, dt_grid.best_score_"
   ]
  },
  {
   "cell_type": "code",
   "execution_count": 562,
   "id": "44700709",
   "metadata": {},
   "outputs": [
    {
     "data": {
      "text/plain": [
       "(0.06785197229329681, 0.05958234706712688, 0.07456561474305215)"
      ]
     },
     "execution_count": 562,
     "metadata": {},
     "output_type": "execute_result"
    }
   ],
   "source": [
    "# tuning isn't useful here either...\n",
    "(\n",
    "    dt_grid.cv_results_['mean_test_score'].mean(), \n",
    "    dt_grid.cv_results_['mean_test_score'].min(), \n",
    "    dt_grid.cv_results_['mean_test_score'].max()\n",
    ")"
   ]
  },
  {
   "cell_type": "code",
   "execution_count": 558,
   "id": "065a4489",
   "metadata": {},
   "outputs": [
    {
     "name": "stdout",
     "output_type": "stream",
     "text": [
      "Wall time: 13min 6s\n"
     ]
    },
    {
     "data": {
      "text/plain": [
       "({'kneighborsclassifier__metric': 'manhattan',\n",
       "  'kneighborsclassifier__n_neighbors': 6,\n",
       "  'kneighborsclassifier__weights': 'uniform'},\n",
       " 0.07027638389807941)"
      ]
     },
     "execution_count": 558,
     "metadata": {},
     "output_type": "execute_result"
    }
   ],
   "source": [
    "%%time\n",
    "# KNN\n",
    "\n",
    "# choose dataset\n",
    "am_testing = False  # test tuning setup with small dataset\n",
    "if am_testing:\n",
    "    X_, y_ = X_small, y_small\n",
    "else:\n",
    "    X_, y_ = clusters['Adult_Standard']  # has the best classification results from STEP 5\n",
    "\n",
    "# params\n",
    "scoring = 'f1'\n",
    "param_grid = {}\n",
    "param_grid['kneighborsclassifier__n_neighbors'] = [x for x in range(2,20)]+[x for x in range(20,101,5)]\n",
    "param_grid['kneighborsclassifier__weights'] = ['uniform', 'distance']\n",
    "param_grid['kneighborsclassifier__metric'] = ['minkowski', 'euclidean', 'manhattan']\n",
    "\n",
    "# pipeline\n",
    "pipe = make_pipeline(\n",
    "    RandomUnderSampler(sampling_strategy='majority'), \n",
    "    KNeighborsClassifier()\n",
    ")\n",
    "\n",
    "# gridsearch\n",
    "cv = StratifiedKFold(n_splits=10, shuffle=True)\n",
    "knn_grid = GridSearchCV(\n",
    "    estimator = pipe,\n",
    "    param_grid = param_grid,\n",
    "    cv = cv,\n",
    "    scoring = scoring, \n",
    "    n_jobs = -1\n",
    ")\n",
    "\n",
    "# calculate best parameters\n",
    "knn_grid.fit(X_, y_)\n",
    "\n",
    "# results\n",
    "knn_grid.best_params_, knn_grid.best_score_"
   ]
  },
  {
   "cell_type": "code",
   "execution_count": 559,
   "id": "0f89a1c7",
   "metadata": {},
   "outputs": [
    {
     "data": {
      "text/plain": [
       "(0.06621236939350202, 0.05683753654031316, 0.07027638389807941)"
      ]
     },
     "execution_count": 559,
     "metadata": {},
     "output_type": "execute_result"
    }
   ],
   "source": [
    "# check min mean and max\n",
    "(\n",
    "    knn_grid.cv_results_['mean_test_score'].mean(), \n",
    "    knn_grid.cv_results_['mean_test_score'].min(), \n",
    "    knn_grid.cv_results_['mean_test_score'].max()\n",
    ")"
   ]
  },
  {
   "cell_type": "code",
   "execution_count": 563,
   "id": "e3bd6dcd",
   "metadata": {},
   "outputs": [
    {
     "name": "stdout",
     "output_type": "stream",
     "text": [
      "Wall time: 3h 59min 43s\n"
     ]
    },
    {
     "data": {
      "text/plain": [
       "({'randomforestclassifier__bootstrap': False,\n",
       "  'randomforestclassifier__max_depth': 30,\n",
       "  'randomforestclassifier__max_features': 'sqrt',\n",
       "  'randomforestclassifier__min_samples_leaf': 5,\n",
       "  'randomforestclassifier__n_estimators': 1000},\n",
       " 0.08028160782282248)"
      ]
     },
     "execution_count": 563,
     "metadata": {},
     "output_type": "execute_result"
    }
   ],
   "source": [
    "%%time\n",
    "# random forest\n",
    "\n",
    "# choose dataset\n",
    "am_testing = False  # test tuning setup with small dataset\n",
    "if am_testing:\n",
    "    X_, y_ = X_small, y_small\n",
    "else:\n",
    "    X_, y_ = clusters['Adult_Standard']  # has the best classification results from STEP 5\n",
    "\n",
    "# params\n",
    "scoring = 'f1'\n",
    "param_grid = {}\n",
    "param_grid['randomforestclassifier__n_estimators'] = [5, 10, 20, 50, 100, 200, 500, 1000, 2000]\n",
    "param_grid['randomforestclassifier__max_features'] = ['sqrt', 'log2']\n",
    "param_grid['randomforestclassifier__max_depth'] = [3, 5, 7, 10, 15, 20, 30, 50, 100, None]\n",
    "param_grid['randomforestclassifier__min_samples_leaf'] = [5, 10, 50, 100, 1000]\n",
    "param_grid['randomforestclassifier__bootstrap'] = [True, False]\n",
    "\n",
    "# pipeline\n",
    "pipe = make_pipeline(\n",
    "    RandomUnderSampler(sampling_strategy='majority'), \n",
    "    RandomForestClassifier()\n",
    ")\n",
    "\n",
    "# gridsearch\n",
    "cv = StratifiedKFold(n_splits=10, shuffle=True)\n",
    "rf_grid = GridSearchCV(\n",
    "    estimator = pipe,\n",
    "    param_grid = param_grid,\n",
    "    cv = cv,\n",
    "    scoring = scoring, \n",
    "    n_jobs = -1\n",
    ")\n",
    "\n",
    "# calculate best parameters\n",
    "rf_grid.fit(X_, y_)\n",
    "\n",
    "# results\n",
    "rf_grid.best_params_, rf_grid.best_score_"
   ]
  },
  {
   "cell_type": "code",
   "execution_count": 564,
   "id": "4b30af1e",
   "metadata": {},
   "outputs": [
    {
     "data": {
      "text/plain": [
       "(0.07444941625954442, 0.0638043296032271, 0.08028160782282248)"
      ]
     },
     "execution_count": 564,
     "metadata": {},
     "output_type": "execute_result"
    }
   ],
   "source": [
    "# also didn't do great...\n",
    "(\n",
    "    rf_grid.cv_results_['mean_test_score'].mean(), \n",
    "    rf_grid.cv_results_['mean_test_score'].min(), \n",
    "    rf_grid.cv_results_['mean_test_score'].max()\n",
    ")"
   ]
  },
  {
   "cell_type": "code",
   "execution_count": null,
   "id": "9ca9c531",
   "metadata": {},
   "outputs": [],
   "source": [
    "%%time\n",
    "# adaboost\n",
    "\n",
    "# choose dataset\n",
    "am_testing = False  # test tuning setup with small dataset\n",
    "if am_testing:\n",
    "    X_, y_ = X_small, y_small\n",
    "else:\n",
    "    X_, y_ = clusters['Adult_Standard']  # has the best classification results from STEP 5\n",
    "\n",
    "# params\n",
    "scoring = 'f1'\n",
    "param_grid = {}\n",
    "param_grid['adaboostclassifier__n_estimators'] = [10, 50, 100, 200, 500, 1000, 2000, 5000, 10000]\n",
    "param_grid['adaboostclassifier__n_learning_rate'] = [0.0001, 0.001, 0.01, 0.05, 0.1, 0.5, 1.0, 1.5, 2.0]\n",
    "param_grid['adaboostclassifier__n_algorithm'] = ['SAMME', 'SAMME.R']\n",
    "        \n",
    "# pipeline\n",
    "pipe = make_pipeline(\n",
    "    RandomUnderSampler(sampling_strategy='majority'), \n",
    "    AdaBoostClassifier()\n",
    ")\n",
    "\n",
    "# gridsearch\n",
    "cv = StratifiedKFold(n_splits=10, shuffle=True)\n",
    "ab_grid = GridSearchCV(\n",
    "    estimator = pipe,\n",
    "    param_grid = param_grid,\n",
    "    cv = cv,\n",
    "    scoring = scoring, \n",
    "    n_jobs = -1\n",
    ")\n",
    "\n",
    "# calculate best parameters\n",
    "ab_grid.fit(X_, y_)\n",
    "\n",
    "# results\n",
    "ab_grid.best_params_, ab_grid.best_score_"
   ]
  },
  {
   "cell_type": "code",
   "execution_count": null,
   "id": "f0b255a7",
   "metadata": {},
   "outputs": [],
   "source": [
    "# check min mean and max\n",
    "(\n",
    "    ab_grid.cv_results_['mean_test_score'].mean(), \n",
    "    ab_grid.cv_results_['mean_test_score'].min(), \n",
    "    ab_grid.cv_results_['mean_test_score'].max()\n",
    ")"
   ]
  },
  {
   "cell_type": "markdown",
   "id": "893ad126",
   "metadata": {},
   "source": [
    "### Test Ensemble Methods"
   ]
  },
  {
   "cell_type": "code",
   "execution_count": null,
   "id": "059b7339",
   "metadata": {},
   "outputs": [],
   "source": []
  },
  {
   "cell_type": "code",
   "execution_count": null,
   "id": "f1a65e51",
   "metadata": {},
   "outputs": [],
   "source": []
  },
  {
   "cell_type": "code",
   "execution_count": null,
   "id": "12613bdf",
   "metadata": {},
   "outputs": [],
   "source": []
  },
  {
   "cell_type": "code",
   "execution_count": null,
   "id": "7548d980",
   "metadata": {},
   "outputs": [],
   "source": []
  },
  {
   "cell_type": "code",
   "execution_count": null,
   "id": "5c8bdf80",
   "metadata": {},
   "outputs": [],
   "source": []
  }
 ],
 "metadata": {
  "kernelspec": {
   "display_name": "Python 3 (ipykernel)",
   "language": "python",
   "name": "python3"
  },
  "language_info": {
   "codemirror_mode": {
    "name": "ipython",
    "version": 3
   },
   "file_extension": ".py",
   "mimetype": "text/x-python",
   "name": "python",
   "nbconvert_exporter": "python",
   "pygments_lexer": "ipython3",
   "version": "3.9.7"
  }
 },
 "nbformat": 4,
 "nbformat_minor": 5
}
