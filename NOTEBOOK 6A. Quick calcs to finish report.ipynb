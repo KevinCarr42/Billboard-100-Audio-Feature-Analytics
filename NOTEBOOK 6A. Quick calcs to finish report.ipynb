{
 "cells": [
  {
   "cell_type": "code",
   "execution_count": 1,
   "id": "a2dfd389",
   "metadata": {},
   "outputs": [
    {
     "data": {
      "text/html": [
       "<style>.container { width:100% !important; }</style>"
      ],
      "text/plain": [
       "<IPython.core.display.HTML object>"
      ]
     },
     "metadata": {},
     "output_type": "display_data"
    }
   ],
   "source": [
    "import pickle\n",
    "\n",
    "# math and dataframes\n",
    "import pandas as pd\n",
    "import numpy as np\n",
    "\n",
    "# machine learning\n",
    "from sklearn.linear_model import LogisticRegression\n",
    "from sklearn.tree import DecisionTreeClassifier\n",
    "from sklearn.neighbors import KNeighborsClassifier\n",
    "from sklearn.ensemble import RandomForestClassifier, AdaBoostClassifier\n",
    "\n",
    "# Pipeline and Evaluation\n",
    "from sklearn.metrics import classification_report, confusion_matrix\n",
    "from sklearn.model_selection import GridSearchCV, cross_val_score, StratifiedKFold\n",
    "from imblearn.pipeline import make_pipeline\n",
    "from imblearn.under_sampling import RandomUnderSampler\n",
    "\n",
    "# jupyter notebook full-width display\n",
    "from IPython.core.display import display, HTML\n",
    "display(HTML(\"<style>.container { width:100% !important; }</style>\"))\n",
    "\n",
    "# pandas formatting\n",
    "pd.set_option('display.float_format', '{:.3f}'.format)\n",
    "pd.set_option('display.max_columns', None)\n",
    "pd.set_option('display.max_rows', 200)"
   ]
  },
  {
   "cell_type": "code",
   "execution_count": 2,
   "id": "3c42b021",
   "metadata": {},
   "outputs": [],
   "source": [
    "df_DEFAULT1 = pd.read_pickle('df_predictions_DEFAULT_BACKUP.pickle')\n",
    "df_DEFAULT2 = pd.read_pickle('df_predictions_DEFAULT.pickle')\n",
    "X_all = pd.read_pickle('X_clustered.pickle')"
   ]
  },
  {
   "cell_type": "markdown",
   "id": "80f7b7d4",
   "metadata": {},
   "source": [
    "# QA: re-run defaults and make sure all predictions are identical / consistent"
   ]
  },
  {
   "cell_type": "code",
   "execution_count": 15,
   "id": "5616f3b5",
   "metadata": {},
   "outputs": [],
   "source": [
    "columns = ['id', 'song', 'y_lr', 'y_dt', 'y_knn', 'y_rf', 'y_ab']\n",
    "df_CHECK = pd.concat([df_DEFAULT1[columns], df_DEFAULT1[columns]], axis=1)"
   ]
  },
  {
   "cell_type": "code",
   "execution_count": 18,
   "id": "faece77f",
   "metadata": {},
   "outputs": [],
   "source": [
    "columns = [\n",
    "    'id', 'song', 'y_lr', 'y_dt', 'y_knn', 'y_rf', 'y_ab',\n",
    "    'id2', 'song2', 'y_lr2', 'y_dt2', 'y_knn2', 'y_rf2', 'y_ab2'\n",
    "]\n",
    "df_CHECK.columns = columns"
   ]
  },
  {
   "cell_type": "code",
   "execution_count": 20,
   "id": "9dd9c4a6",
   "metadata": {},
   "outputs": [
    {
     "data": {
      "text/plain": [
       "(0, 14)"
      ]
     },
     "execution_count": 20,
     "metadata": {},
     "output_type": "execute_result"
    }
   ],
   "source": [
    "df_CHECK[df_CHECK[col1] != df_CHECK[col2]].shape[0]"
   ]
  },
  {
   "cell_type": "code",
   "execution_count": 23,
   "id": "2c45c48e",
   "metadata": {},
   "outputs": [
    {
     "name": "stdout",
     "output_type": "stream",
     "text": [
      "id: 0\n",
      "song: 3777\n",
      "y_lr: 0\n",
      "y_dt: 0\n",
      "y_knn: 0\n",
      "y_rf: 0\n",
      "y_ab: 0\n"
     ]
    }
   ],
   "source": [
    "for col in columns[:len(columns)//2]:\n",
    "    col1, col2 = col, str(col)+'2'\n",
    "    print(col+':', df_CHECK[df_CHECK[col1] != df_CHECK[col2]].shape[0])\n",
    "    "
   ]
  },
  {
   "cell_type": "code",
   "execution_count": 26,
   "id": "c0aac61e",
   "metadata": {},
   "outputs": [
    {
     "data": {
      "text/plain": [
       "0"
      ]
     },
     "execution_count": 26,
     "metadata": {},
     "output_type": "execute_result"
    }
   ],
   "source": [
    "# only finding nulls\n",
    "df_CHECK[(df_CHECK.song != df_CHECK.song2) & (~df_CHECK.song.isnull())].shape[0]"
   ]
  },
  {
   "cell_type": "markdown",
   "id": "8ac7f597",
   "metadata": {},
   "source": [
    "### THEREFORE: all of the runs match without errors, aligned data via matched seeds FTW"
   ]
  },
  {
   "cell_type": "markdown",
   "id": "6fd5c79c",
   "metadata": {},
   "source": [
    "# CHECK: prediction times for already trained models"
   ]
  },
  {
   "cell_type": "code",
   "execution_count": 6,
   "id": "a106420e",
   "metadata": {},
   "outputs": [],
   "source": [
    "# columns for datasets\n",
    "\n",
    "y_column = 'in_B100'\n",
    "X_columns = [\n",
    "    'mode', 'acousticness', 'danceability', 'duration_ms', 'energy',\n",
    "    'instrumentalness', 'liveness', 'loudness', 'speechiness', 'tempo', 'valence'\n",
    "]\n",
    "genre_columns = [\n",
    "    'is_Adult_Standard', 'is_Rock', 'is_R&B', 'is_Country', 'is_Pop',\n",
    "    'is_Rap', 'is_Alternative', 'is_EDM', 'is_Metal'\n",
    "]\n",
    "cluster_columns = ['cluster', 'cluster2']\n",
    "other_columns = ['key', 'time_signature', 'genre', 'release_date']"
   ]
  },
  {
   "cell_type": "code",
   "execution_count": null,
   "id": "cacf32ba",
   "metadata": {},
   "outputs": [],
   "source": [
    "# Logistic Regression - Training\n",
    "\n"
   ]
  },
  {
   "cell_type": "code",
   "execution_count": null,
   "id": "cbead962",
   "metadata": {},
   "outputs": [],
   "source": [
    "%%time\n",
    "# Logistic Regression - Predicting\n",
    "\n"
   ]
  },
  {
   "cell_type": "code",
   "execution_count": null,
   "id": "12480695",
   "metadata": {},
   "outputs": [],
   "source": []
  }
 ],
 "metadata": {
  "kernelspec": {
   "display_name": "Python 3 (ipykernel)",
   "language": "python",
   "name": "python3"
  },
  "language_info": {
   "codemirror_mode": {
    "name": "ipython",
    "version": 3
   },
   "file_extension": ".py",
   "mimetype": "text/x-python",
   "name": "python",
   "nbconvert_exporter": "python",
   "pygments_lexer": "ipython3",
   "version": "3.9.7"
  }
 },
 "nbformat": 4,
 "nbformat_minor": 5
}
