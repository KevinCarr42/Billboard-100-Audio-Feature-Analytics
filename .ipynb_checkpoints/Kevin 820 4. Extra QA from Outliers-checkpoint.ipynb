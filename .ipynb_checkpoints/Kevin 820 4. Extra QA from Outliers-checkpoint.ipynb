{
 "cells": [
  {
   "cell_type": "markdown",
   "id": "4d806e5d",
   "metadata": {},
   "source": [
    "# Imports"
   ]
  },
  {
   "cell_type": "code",
   "execution_count": 308,
   "id": "05fc5835",
   "metadata": {},
   "outputs": [
    {
     "data": {
      "text/html": [
       "<style>.container { width:100% !important; }</style>"
      ],
      "text/plain": [
       "<IPython.core.display.HTML object>"
      ]
     },
     "metadata": {},
     "output_type": "display_data"
    }
   ],
   "source": [
    "import spotipy\n",
    "import re\n",
    "\n",
    "# math and dataframes\n",
    "import pandas as pd\n",
    "import numpy as np\n",
    "\n",
    "# jupyter notebook full-width display\n",
    "from IPython.core.display import display, HTML\n",
    "display(HTML(\"<style>.container { width:100% !important; }</style>\"))\n",
    "\n",
    "# pandas formatting\n",
    "pd.set_option('display.float_format', '{:.3f}'.format)\n",
    "pd.set_option('display.max_columns', None)\n",
    "pd.set_option('display.max_rows', 200)"
   ]
  },
  {
   "cell_type": "code",
   "execution_count": 309,
   "id": "229e31d4",
   "metadata": {},
   "outputs": [],
   "source": [
    "# all songs with audio features (combined from 3 sources)\n",
    "df_10M = pd.read_parquet('df_10M.parquet')\n",
    "\n",
    "# all Billboard 100 lists, audio features included where possible\n",
    "df_B100 = pd.read_parquet('df_B100.parquet')\n",
    "\n",
    "# all unique songs from the Billboard 100 lists, audio features included where possible\n",
    "df_B100_songs = pd.read_parquet('df_B100_songs.parquet')"
   ]
  },
  {
   "cell_type": "code",
   "execution_count": 310,
   "id": "9f70538a",
   "metadata": {},
   "outputs": [
    {
     "data": {
      "text/plain": [
       "(22189, 22189)"
      ]
     },
     "execution_count": 310,
     "metadata": {},
     "output_type": "execute_result"
    }
   ],
   "source": [
    "# confirm import worked (B100 songs are all in df_10M, no duplicates)\n",
    "id_B100 = set(df_B100_songs[~df_B100_songs.id.isnull()].id)\n",
    "len(id_B100), df_10M[df_10M.id.isin(id_B100)].shape[0]\n",
    "# GOOD!"
   ]
  },
  {
   "cell_type": "markdown",
   "id": "64fbd2c9",
   "metadata": {},
   "source": [
    "# ATTEMPT AT OUTLIERS (need more QA / data cleaning)"
   ]
  },
  {
   "cell_type": "code",
   "execution_count": 324,
   "id": "6b33da1a",
   "metadata": {},
   "outputs": [
    {
     "data": {
      "text/html": [
       "<div>\n",
       "<style scoped>\n",
       "    .dataframe tbody tr th:only-of-type {\n",
       "        vertical-align: middle;\n",
       "    }\n",
       "\n",
       "    .dataframe tbody tr th {\n",
       "        vertical-align: top;\n",
       "    }\n",
       "\n",
       "    .dataframe thead th {\n",
       "        text-align: right;\n",
       "    }\n",
       "</style>\n",
       "<table border=\"1\" class=\"dataframe\">\n",
       "  <thead>\n",
       "    <tr style=\"text-align: right;\">\n",
       "      <th></th>\n",
       "      <th>min</th>\n",
       "      <th>max</th>\n",
       "    </tr>\n",
       "  </thead>\n",
       "  <tbody>\n",
       "    <tr>\n",
       "      <th>duration_ms</th>\n",
       "      <td>0.504</td>\n",
       "      <td>26.019</td>\n",
       "    </tr>\n",
       "  </tbody>\n",
       "</table>\n",
       "</div>"
      ],
      "text/plain": [
       "              min    max\n",
       "duration_ms 0.504 26.019"
      ]
     },
     "execution_count": 324,
     "metadata": {},
     "output_type": "execute_result"
    }
   ],
   "source": [
    "# longest and shortest songs on B100\n",
    "df_B100_songs.describe().T[['min', 'max']].rename({'duration_ms': 'minutes'}, axis=1).loc[['duration_ms']] / 60_000"
   ]
  },
  {
   "cell_type": "code",
   "execution_count": 325,
   "id": "9c578034",
   "metadata": {},
   "outputs": [
    {
     "data": {
      "text/html": [
       "<div>\n",
       "<style scoped>\n",
       "    .dataframe tbody tr th:only-of-type {\n",
       "        vertical-align: middle;\n",
       "    }\n",
       "\n",
       "    .dataframe tbody tr th {\n",
       "        vertical-align: top;\n",
       "    }\n",
       "\n",
       "    .dataframe thead th {\n",
       "        text-align: right;\n",
       "    }\n",
       "</style>\n",
       "<table border=\"1\" class=\"dataframe\">\n",
       "  <thead>\n",
       "    <tr style=\"text-align: right;\">\n",
       "      <th></th>\n",
       "      <th>id</th>\n",
       "      <th>song</th>\n",
       "      <th>artist</th>\n",
       "      <th>genre</th>\n",
       "      <th>release_date</th>\n",
       "      <th>acousticness</th>\n",
       "      <th>danceability</th>\n",
       "      <th>duration_ms</th>\n",
       "      <th>energy</th>\n",
       "      <th>instrumentalness</th>\n",
       "      <th>key</th>\n",
       "      <th>liveness</th>\n",
       "      <th>loudness</th>\n",
       "      <th>mode</th>\n",
       "      <th>speechiness</th>\n",
       "      <th>tempo</th>\n",
       "      <th>time_signature</th>\n",
       "      <th>valence</th>\n",
       "    </tr>\n",
       "  </thead>\n",
       "  <tbody>\n",
       "    <tr>\n",
       "      <th>17675</th>\n",
       "      <td>7ERSQrRptZVM7q3VOdM7OL</td>\n",
       "      <td>Tubular Bells</td>\n",
       "      <td>Mike Oldfield</td>\n",
       "      <td>album rock</td>\n",
       "      <td>1973-02-01</td>\n",
       "      <td>0.564</td>\n",
       "      <td>0.374</td>\n",
       "      <td>1561133</td>\n",
       "      <td>0.219</td>\n",
       "      <td>0.560</td>\n",
       "      <td>4</td>\n",
       "      <td>0.114</td>\n",
       "      <td>-19.104</td>\n",
       "      <td>0</td>\n",
       "      <td>0.034</td>\n",
       "      <td>103.535</td>\n",
       "      <td>4</td>\n",
       "      <td>0.058</td>\n",
       "    </tr>\n",
       "  </tbody>\n",
       "</table>\n",
       "</div>"
      ],
      "text/plain": [
       "                           id           song         artist       genre  \\\n",
       "17675  7ERSQrRptZVM7q3VOdM7OL  Tubular Bells  Mike Oldfield  album rock   \n",
       "\n",
       "      release_date  acousticness  danceability  duration_ms  energy  \\\n",
       "17675   1973-02-01         0.564         0.374      1561133   0.219   \n",
       "\n",
       "       instrumentalness  key  liveness  loudness  mode  speechiness   tempo  \\\n",
       "17675             0.560    4     0.114   -19.104     0        0.034 103.535   \n",
       "\n",
       "       time_signature  valence  \n",
       "17675               4    0.058  "
      ]
     },
     "execution_count": 325,
     "metadata": {},
     "output_type": "execute_result"
    }
   ],
   "source": [
    "# yep, actually 26 minutes\n",
    "df_B100_songs[df_B100_songs.duration_ms == df_B100_songs.duration_ms.max()]"
   ]
  },
  {
   "cell_type": "code",
   "execution_count": 326,
   "id": "a1bb4961",
   "metadata": {},
   "outputs": [
    {
     "data": {
      "text/html": [
       "<div>\n",
       "<style scoped>\n",
       "    .dataframe tbody tr th:only-of-type {\n",
       "        vertical-align: middle;\n",
       "    }\n",
       "\n",
       "    .dataframe tbody tr th {\n",
       "        vertical-align: top;\n",
       "    }\n",
       "\n",
       "    .dataframe thead th {\n",
       "        text-align: right;\n",
       "    }\n",
       "</style>\n",
       "<table border=\"1\" class=\"dataframe\">\n",
       "  <thead>\n",
       "    <tr style=\"text-align: right;\">\n",
       "      <th></th>\n",
       "      <th>id</th>\n",
       "      <th>song</th>\n",
       "      <th>artist</th>\n",
       "      <th>genre</th>\n",
       "      <th>release_date</th>\n",
       "      <th>acousticness</th>\n",
       "      <th>danceability</th>\n",
       "      <th>duration_ms</th>\n",
       "      <th>energy</th>\n",
       "      <th>instrumentalness</th>\n",
       "      <th>key</th>\n",
       "      <th>liveness</th>\n",
       "      <th>loudness</th>\n",
       "      <th>mode</th>\n",
       "      <th>speechiness</th>\n",
       "      <th>tempo</th>\n",
       "      <th>time_signature</th>\n",
       "      <th>valence</th>\n",
       "    </tr>\n",
       "  </thead>\n",
       "  <tbody>\n",
       "    <tr>\n",
       "      <th>23319</th>\n",
       "      <td>13F8uvVT4s364jof2dn6XU</td>\n",
       "      <td>Fire</td>\n",
       "      <td>Subway</td>\n",
       "      <td>kirtan</td>\n",
       "      <td>2006-01-01</td>\n",
       "      <td>0.197</td>\n",
       "      <td>0.351</td>\n",
       "      <td>30213</td>\n",
       "      <td>0.532</td>\n",
       "      <td>0.110</td>\n",
       "      <td>6</td>\n",
       "      <td>0.443</td>\n",
       "      <td>-29.658</td>\n",
       "      <td>1</td>\n",
       "      <td>0.067</td>\n",
       "      <td>129.338</td>\n",
       "      <td>3</td>\n",
       "      <td>0.227</td>\n",
       "    </tr>\n",
       "  </tbody>\n",
       "</table>\n",
       "</div>"
      ],
      "text/plain": [
       "                           id  song  artist   genre release_date  \\\n",
       "23319  13F8uvVT4s364jof2dn6XU  Fire  Subway  kirtan   2006-01-01   \n",
       "\n",
       "       acousticness  danceability  duration_ms  energy  instrumentalness  key  \\\n",
       "23319         0.197         0.351        30213   0.532             0.110    6   \n",
       "\n",
       "       liveness  loudness  mode  speechiness   tempo  time_signature  valence  \n",
       "23319     0.443   -29.658     1        0.067 129.338               3    0.227  "
      ]
     },
     "execution_count": 326,
     "metadata": {},
     "output_type": "execute_result"
    }
   ],
   "source": [
    "# can't verify this using spotify's search\n",
    "df_B100_songs[df_B100_songs.duration_ms == df_B100_songs.duration_ms.min()]"
   ]
  },
  {
   "cell_type": "markdown",
   "id": "a426a365",
   "metadata": {},
   "source": [
    "# QA part 2\n",
    "### INVESTIGATE\n",
    "\n",
    "##### get a temporary authorization token from: https://developer.spotify.com/console/get-search-item"
   ]
  },
  {
   "cell_type": "code",
   "execution_count": null,
   "id": "7aa1383b",
   "metadata": {},
   "outputs": [],
   "source": [
    "# input the temporary token\n",
    "TEMP_TOKEN = input('Enter token: ')\n",
    "\n",
    "# create a spotify object\n",
    "spotify = spotipy.Spotify(auth=TEMP_TOKEN)"
   ]
  },
  {
   "cell_type": "code",
   "execution_count": null,
   "id": "1d371a8e",
   "metadata": {},
   "outputs": [],
   "source": [
    "def find_ids(track_title, artist_name):\n",
    "\n",
    "    track_info = spotify.search(q='artist:' + artist_name + ' track:' + track_title, type='track')\n",
    "    \n",
    "    if track_info['tracks']['items'] == []:  # if track doesn't exist on Spotify\n",
    "        return 'MISSING'\n",
    "    else:\n",
    "        track_ids = []\n",
    "        number_of_results = len(track_info['tracks']['items'])\n",
    "        \n",
    "        # check if there is a better match\n",
    "        for i in range(number_of_results):\n",
    "            track_ids.append(track_info['tracks']['items'][i]['id'])\n",
    "        \n",
    "        # if we made it through the loop without returning, note 'MISSING' and return the 0th id\n",
    "        return track_ids"
   ]
  },
  {
   "cell_type": "code",
   "execution_count": null,
   "id": "02e1ef43",
   "metadata": {},
   "outputs": [],
   "source": [
    "fire_ids = find_ids('fire', 'subway')\n",
    "fire_ids"
   ]
  },
  {
   "cell_type": "code",
   "execution_count": null,
   "id": "fd2c2179",
   "metadata": {},
   "outputs": [],
   "source": [
    "spotify.track(fire_ids[0])['artists'][0]['name'], spotify.track(fire_ids[0])['name']"
   ]
  },
  {
   "cell_type": "code",
   "execution_count": null,
   "id": "8e918be0",
   "metadata": {},
   "outputs": [],
   "source": [
    "output = []\n",
    "for track_id in fire_ids:\n",
    "    track = spotify.track(track_id)\n",
    "    output.append([track['artists'][0]['name'], track['name']])\n",
    "    \n",
    "output"
   ]
  },
  {
   "cell_type": "markdown",
   "id": "eafef508",
   "metadata": {},
   "source": [
    "* this track doesn't seem to be on spotify, but they have lyrics\n",
    "* the algorithm would have defaulted to populating data for the first result, if there was no exact match\n",
    "https://open.spotify.com/track/7p2e6DPXynAHq4m3uM3pLO"
   ]
  },
  {
   "cell_type": "code",
   "execution_count": null,
   "id": "6b052d15",
   "metadata": {},
   "outputs": [],
   "source": [
    "id_from_shortest_song = '13F8uvVT4s364jof2dn6XU'\n",
    "track = spotify.track(id_from_shortest_song)\n",
    "[track['artists'][0]['name'], track['name']]\n",
    "\n",
    "# not sure why this one made it to the top of the list..."
   ]
  },
  {
   "cell_type": "code",
   "execution_count": null,
   "id": "99511b26",
   "metadata": {},
   "outputs": [],
   "source": [
    "### REDO METADATA IDS ###\n",
    "\n",
    "# Spotify 1.2M+ Songs\n",
    "# via:  https://www.kaggle.com/datasets/\n",
    "url_1M_songs = r'D:\\RYERSON\\820\\Datasets\\Spotify 1.2M+ Songs\\tracks_features.csv'\n",
    "\n",
    "# create the dataframe with the large number of songs metadata\n",
    "df_1M_songs = pd.read_csv(url_1M_songs)\n",
    "\n",
    "# make a list of song ids from the 1M dataset\n",
    "metadata_ids_csv = df_1M_songs.id.to_list()\n",
    "\n",
    "\n",
    "# all ids from the SQLite database\n",
    "metadata_ids_SQL = pd.read_csv('all_ids_sql.csv', header=None, names=['id'])\n",
    "metadata_ids_SQL = metadata_ids_SQL.id.to_list()\n",
    "\n",
    "# audio feature data not imported yet (very large)\n",
    "\n",
    "\n",
    "# list of ids for all of our known metadata\n",
    "all_metadata_ids = set(metadata_ids_csv + metadata_ids_SQL) # set() faster to search, and no duplicates\n",
    "len(all_metadata_ids)"
   ]
  },
  {
   "cell_type": "code",
   "execution_count": null,
   "id": "0b6b43ca",
   "metadata": {},
   "outputs": [],
   "source": [
    "id_from_shortest_song in all_metadata_ids"
   ]
  },
  {
   "cell_type": "code",
   "execution_count": null,
   "id": "ebfcfd04",
   "metadata": {},
   "outputs": [],
   "source": [
    "df_1M_songs[df_1M_songs.id==id_from_shortest_song]"
   ]
  },
  {
   "cell_type": "code",
   "execution_count": null,
   "id": "5207b6af",
   "metadata": {},
   "outputs": [],
   "source": [
    "df_10M[df_10M.id==id_from_shortest_song]"
   ]
  },
  {
   "attachments": {
    "image.png": {
     "image/png": "[encoded data removed]"
    }
   },
   "cell_type": "markdown",
   "id": "fd8e063a",
   "metadata": {},
   "source": [
    "![image.png](attachment:image.png)"
   ]
  },
  {
   "cell_type": "markdown",
   "id": "762f26c5",
   "metadata": {},
   "source": [
    "* this was a false positive\n",
    "    * the song list from the spotify api search returned a match that was in the other dataset, but wasn't the actual song\n",
    "    * should I redo phase 1 with a check for only exact matches for name?\n",
    "    * alternative 2, confirm that song title matches exactly with spotify id song title\n",
    "    * yuck\n",
    "    * also, this would have overwritten songs from SQL with ids matching B100 songs\n",
    "    "
   ]
  },
  {
   "cell_type": "markdown",
   "id": "3b5fc6b2",
   "metadata": {},
   "source": [
    "### check for mismatched names"
   ]
  },
  {
   "cell_type": "code",
   "execution_count": null,
   "id": "2843154d",
   "metadata": {
    "scrolled": true
   },
   "outputs": [],
   "source": [
    "matching_B100 = df_B100_songs[['id', 'song', 'artist']].copy()\n",
    "matching_B100 = matching_B100.dropna().reset_index(drop=True)\n",
    "track_id_list = matching_B100.id.tolist()\n",
    "\n",
    "matching_B100['actual_song'] = ''\n",
    "matching_B100['actual_artist'] = ''\n",
    "\n",
    "matching_B100.head()"
   ]
  },
  {
   "cell_type": "markdown",
   "id": "a99a09ea",
   "metadata": {},
   "source": [
    "##### get a temporary authorization token from: https://developer.spotify.com/console/get-search-item"
   ]
  },
  {
   "cell_type": "code",
   "execution_count": null,
   "id": "4287cf44",
   "metadata": {},
   "outputs": [],
   "source": [
    "# input the temporary token\n",
    "TEMP_TOKEN = input('Enter token: ')\n",
    "\n",
    "# create a spotify object\n",
    "spotify = spotipy.Spotify(auth=TEMP_TOKEN)"
   ]
  },
  {
   "cell_type": "code",
   "execution_count": null,
   "id": "0f26738c",
   "metadata": {},
   "outputs": [],
   "source": [
    "counter = 0\n",
    "for i, row in matching_B100.iterrows():\n",
    "    \n",
    "    if i < 0:  # where we timed out last time\n",
    "        continue\n",
    "    \n",
    "    track_id = matching_B100.iloc[i]['id']\n",
    "    \n",
    "    try:\n",
    "        track = spotify.track(track_id)\n",
    "        matching_B100.iloc[i]['actual_song'] = track['name']\n",
    "        matching_B100.iloc[i]['actual_artist'] = track['artists'][0]['name']\n",
    "    except:  # any error should yield missing\n",
    "        matching_B100.iloc[i]['actual_song'] = 'MISSING'\n",
    "        matching_B100.iloc[i]['actual_artist'] = 'MISSING'\n",
    "    \n",
    "    if counter % 100 == 0:\n",
    "        print(counter, end=' ')\n",
    "    if counter % 1000 == 0:\n",
    "        print()\n",
    "        matching_B100.to_parquet('matching_B100_TEMP.parquet')\n",
    "        \n",
    "    counter += 1\n",
    "\n",
    "matching_B100.to_parquet('matching_B100_FINISHED.parquet')"
   ]
  },
  {
   "cell_type": "code",
   "execution_count": null,
   "id": "f92548c8",
   "metadata": {},
   "outputs": [],
   "source": [
    "matching_B100.head()"
   ]
  },
  {
   "cell_type": "markdown",
   "id": "ae68b2d1",
   "metadata": {},
   "source": [
    "### Reimport and check for false positives"
   ]
  },
  {
   "cell_type": "code",
   "execution_count": null,
   "id": "48890304",
   "metadata": {},
   "outputs": [],
   "source": [
    "matching_B100 = pd.read_parquet('matching_B100_FINISHED.parquet')"
   ]
  },
  {
   "cell_type": "code",
   "execution_count": null,
   "id": "cb35fdae",
   "metadata": {},
   "outputs": [],
   "source": [
    "# helper function to clean artist and song data\n",
    "def clean_text(text_input):\n",
    "    text_input = text_input.strip().lower()\n",
    "    text_input = re.sub(r'&', 'and', text_input)  # replaces & with 'and'\n",
    "    text_input = re.sub(r'and.+', '', text_input)  # removes text after the 'and'\n",
    "    text_input = re.compile(r'the').sub('', text_input)  # remove all 'the' (maybe just need the 1st word?)\n",
    "    text_input = re.sub(r',.+', '', text_input)  # removes all misc artists, after comma \n",
    "    text_input = re.sub(r'(?:feat).+', '', text_input)  # removes all misc artists, after 'feat' \n",
    "    text_input = re.sub(r'\\(.+', '', text_input)  # removes text after first bracket\n",
    "    text_input = re.sub(r'\\-.+', '', text_input)  # removes text after first dash\n",
    "    text_input = re.compile(r'[^a-zA-Z 0-9]').sub('', text_input)  # remove punctuation\n",
    "    text_input = re.sub(' +', ' ', text_input)  # remove multiple spaces\n",
    "    return text_input.strip()"
   ]
  },
  {
   "cell_type": "code",
   "execution_count": null,
   "id": "46e4e40f",
   "metadata": {},
   "outputs": [],
   "source": [
    "text_input = 'Gary Lewis & The Playboys'\n",
    "clean_text(text_input)"
   ]
  },
  {
   "cell_type": "code",
   "execution_count": null,
   "id": "6214b781",
   "metadata": {},
   "outputs": [],
   "source": [
    "matching_B100.head()"
   ]
  },
  {
   "cell_type": "code",
   "execution_count": null,
   "id": "22bbe822",
   "metadata": {},
   "outputs": [],
   "source": [
    "matching_B100['song_match'] = matching_B100[['song']].applymap(clean_text).values == matching_B100[['actual_song']].applymap(clean_text).values\n",
    "matching_B100['artist_match'] = matching_B100[['artist']].applymap(clean_text).values == matching_B100[['actual_artist']].applymap(clean_text).values"
   ]
  },
  {
   "cell_type": "code",
   "execution_count": null,
   "id": "8deda8b7",
   "metadata": {},
   "outputs": [],
   "source": [
    "# number OK, number of songs with at least 1 error, number of song errors, number of artist errors, number of double errors\n",
    "\n",
    "(\n",
    "    matching_B100[(matching_B100['song_match'] & matching_B100['artist_match'])].shape[0],\n",
    "    matching_B100[~(matching_B100['song_match'] & matching_B100['artist_match'])].shape[0],\n",
    "    matching_B100[~(matching_B100['song_match'])].shape[0],\n",
    "    matching_B100[~(matching_B100['artist_match'])].shape[0],\n",
    "    matching_B100[~(matching_B100['song_match'] | matching_B100['artist_match'])].shape[0],\n",
    ")\n",
    "\n",
    "#  OK, either, song, artist, both bad"
   ]
  },
  {
   "cell_type": "code",
   "execution_count": null,
   "id": "222c27ce",
   "metadata": {},
   "outputs": [],
   "source": [
    "# let's take a look\n",
    "matching_B100[~(matching_B100['song_match'] & matching_B100['artist_match'])].sample(20)\n",
    "# most look good"
   ]
  },
  {
   "cell_type": "code",
   "execution_count": null,
   "id": "6086ccc3",
   "metadata": {},
   "outputs": [],
   "source": [
    "# what if both are wrong\n",
    "matching_B100[~(matching_B100['song_match'] | matching_B100['artist_match'])].sample(20)\n",
    "# most look wrong"
   ]
  },
  {
   "cell_type": "code",
   "execution_count": null,
   "id": "527787c0",
   "metadata": {},
   "outputs": [],
   "source": [
    "wrong = [\n",
    "    '1XduhVDrsLuMWk0fT0kbOx' # cover song of the song we wanted\n",
    "]"
   ]
  },
  {
   "cell_type": "code",
   "execution_count": null,
   "id": "a47c3b00",
   "metadata": {},
   "outputs": [],
   "source": [
    "# if we only exclude double false flags, this one gets included\n",
    "matching_B100[matching_B100.id == '1XduhVDrsLuMWk0fT0kbOx']"
   ]
  },
  {
   "cell_type": "code",
   "execution_count": null,
   "id": "0a334d95",
   "metadata": {},
   "outputs": [],
   "source": [
    "# maybe we need to redo id gathering for single false flags (currently 1716)\n",
    "\n",
    "# first look at double true to see how good it is:\n",
    "matching_B100[(matching_B100['song_match'] & matching_B100['artist_match'])].sample(20)\n",
    "# all good (20 samples)\n",
    "# all good (20 samples)\n",
    "# all good (20 samples)\n",
    "# "
   ]
  },
  {
   "cell_type": "markdown",
   "id": "5e30996b",
   "metadata": {},
   "source": [
    "# Need to Re-Gather ID data\n",
    "\n",
    "* algorithm:\n",
    "    * start with a list of ids to exclude\n",
    "        * drop from both dataframes\n",
    "            * B100 and 10M\n",
    "    * check for match\n",
    "        * look for exact matches using full text\n",
    "        * look for exact matches using clean text\n",
    "        * EXCLUDE\n",
    "    * if match\n",
    "        * look up audio features\n",
    "        * look up genres\n",
    "        \n",
    "* after algo\n",
    "    * re-merge dataframes and save results       \n",
    "    \n"
   ]
  },
  {
   "cell_type": "markdown",
   "id": "68e854ed",
   "metadata": {},
   "source": [
    "### STEP 1: Create QA Dataframe"
   ]
  },
  {
   "cell_type": "code",
   "execution_count": null,
   "id": "0c727ecb",
   "metadata": {},
   "outputs": [],
   "source": [
    "allbad = matching_B100[~(matching_B100['song_match'] | matching_B100['artist_match'])].id.tolist()\n",
    "onebad = matching_B100[~(matching_B100['song_match'] & matching_B100['artist_match'])].id.tolist()\n",
    "onebad = [x for x in onebad if x not in allbad]"
   ]
  },
  {
   "cell_type": "code",
   "execution_count": null,
   "id": "256924a3",
   "metadata": {},
   "outputs": [],
   "source": [
    "# these lists are the correct length\n",
    "len(onebad), len(allbad), len(onebad) + len(allbad)"
   ]
  },
  {
   "cell_type": "code",
   "execution_count": null,
   "id": "a8c1d54e",
   "metadata": {},
   "outputs": [],
   "source": [
    "df_QA2 = matching_B100[~(matching_B100['song_match'] & matching_B100['artist_match'])].copy()\n",
    "\n",
    "df_QA2['id_status'] = ''\n",
    "df_QA2.loc[df_QA2.id.isin(allbad), 'id_status'] = 'BAD'\n",
    "df_QA2.loc[df_QA2.id.isin(onebad), 'id_status'] = 'suspect'\n",
    "\n",
    "df_QA2 = df_QA2.rename(columns = {\n",
    "    'id': 'possibly_incorrect_id',\n",
    "    'actual_song': 'song_from_old_id',\n",
    "    'actual_artist': 'artist_from_old_id'\n",
    "}).drop(['song_match', 'artist_match'], axis=1)"
   ]
  },
  {
   "cell_type": "code",
   "execution_count": null,
   "id": "a68f37cf",
   "metadata": {},
   "outputs": [],
   "source": [
    "# add columns before importing from Spotify API\n",
    "df_QA2['CORRECT_ID'] = pd.NA  # use with full match (minus 'the' / punctuation)\n",
    "df_QA2['PROBABLE_ID'] = pd.NA  # use if that fails, but matches with fully cleaned text\n",
    "df_QA2['genre'] = pd.NA\n",
    "df_QA2['release_date'] = pd.to_datetime(np.nan)\n",
    "df_QA2['acousticness'] = np.nan\n",
    "df_QA2['danceability'] = np.nan\n",
    "df_QA2['duration_ms'] = np.nan\n",
    "df_QA2['energy'] = np.nan\n",
    "df_QA2['instrumentalness'] = np.nan\n",
    "df_QA2['key'] = np.nan\n",
    "df_QA2['liveness'] = np.nan\n",
    "df_QA2['loudness'] = np.nan\n",
    "df_QA2['mode'] = np.nan\n",
    "df_QA2['speechiness'] = np.nan\n",
    "df_QA2['tempo'] = np.nan\n",
    "df_QA2['time_signature'] = np.nan\n",
    "df_QA2['valence'] = np.nan"
   ]
  },
  {
   "cell_type": "code",
   "execution_count": null,
   "id": "d3dba25a",
   "metadata": {},
   "outputs": [],
   "source": [
    "df_QA2.shape"
   ]
  },
  {
   "cell_type": "code",
   "execution_count": null,
   "id": "2a4b9228",
   "metadata": {},
   "outputs": [],
   "source": [
    "# reindex and save dataframe for use later\n",
    "df_QA2 = df_QA2.reset_index(drop=True)\n",
    "df_QA2.to_parquet('df_QA2_STEP1COMPLETE.parquet')"
   ]
  },
  {
   "cell_type": "markdown",
   "id": "b441a9e4",
   "metadata": {},
   "source": [
    "### STEP 2:  populate correct or probable IDs from Spotify API\n",
    "also update the lists of bad and good IDs"
   ]
  },
  {
   "cell_type": "code",
   "execution_count": null,
   "id": "65e06373",
   "metadata": {},
   "outputs": [],
   "source": [
    "df_QA2 = pd.read_parquet('df_QA2_STEP1COMPLETE.parquet')"
   ]
  },
  {
   "cell_type": "markdown",
   "id": "02b9bdb2",
   "metadata": {},
   "source": [
    "##### get a temporary authorization token from: https://developer.spotify.com/console/get-search-item"
   ]
  },
  {
   "cell_type": "code",
   "execution_count": null,
   "id": "9be4bc4d",
   "metadata": {},
   "outputs": [],
   "source": [
    "# input the temporary token\n",
    "TEMP_TOKEN = input('Enter token: ')\n",
    "\n",
    "# create a spotify object\n",
    "spotify = spotipy.Spotify(auth=TEMP_TOKEN)"
   ]
  },
  {
   "cell_type": "code",
   "execution_count": null,
   "id": "73ea569c",
   "metadata": {},
   "outputs": [],
   "source": [
    "# helper functions\n",
    "\n",
    "def find_all_tracks(track_title, artist_name):\n",
    "    \"\"\" returns list of lists ['id', 'song', 'artist'] \"\"\"\n",
    "    track_info = spotify.search(q='artist:' + artist_name + ' track:' + track_title, type='track')\n",
    "    \n",
    "    if track_info['tracks']['items'] == []:  # if track doesn't exist on Spotify\n",
    "        return 'MISSING'\n",
    "    else:\n",
    "        all_tracks = []\n",
    "        number_of_results = len(track_info['tracks']['items'])\n",
    "        \n",
    "        # check if there is a better match\n",
    "        for i in range(number_of_results):\n",
    "            track_id = track_info['tracks']['items'][i]['id']\n",
    "            artist_name = track_info['tracks']['items'][i]['artists'][0]['name']\n",
    "            song_name = track_info['tracks']['items'][i]['name']\n",
    "            all_tracks.append([track_id, song_name, artist_name])\n",
    "        \n",
    "        # if we made it through the loop without returning, note 'MISSING' and return the 0th id\n",
    "        return all_tracks\n",
    "    \n",
    "\n",
    "def remove_punctuation(text_input):\n",
    "    text_input = re.sub(r'&', 'and', text_input)  # replaces & with 'and'\n",
    "    text_input = re.compile(r'[^a-zA-Z 0-9]').sub('', text_input)\n",
    "    return text_input.lower().strip()\n",
    "\n",
    "    \n",
    "def clean_text(text_input):\n",
    "    text_input = text_input.strip().lower()\n",
    "    text_input = re.sub(r'&', 'and', text_input)  # replaces & with 'and'\n",
    "    text_input = re.sub(r'and.+', '', text_input)  # removes text after the 'and'\n",
    "    text_input = re.compile(r'the').sub('', text_input)  # remove all 'the' (maybe just need the 1st word?)\n",
    "    text_input = re.sub(r',.+', '', text_input)  # removes all misc artists, after comma \n",
    "    text_input = re.sub(r'(?:feat).+', '', text_input)  # removes all misc artists, after 'feat' \n",
    "    text_input = re.sub(r'\\(.+', '', text_input)  # removes text after first bracket\n",
    "    text_input = re.sub(r'\\-.+', '', text_input)  # removes text after first dash\n",
    "    text_input = re.compile(r'[^a-zA-Z 0-9]').sub('', text_input)  # remove punctuation\n",
    "    text_input = re.sub(' +', ' ', text_input)  # remove multiple spaces\n",
    "    return text_input.strip()"
   ]
  },
  {
   "cell_type": "code",
   "execution_count": null,
   "id": "f66d5b61",
   "metadata": {
    "scrolled": false
   },
   "outputs": [],
   "source": [
    "# loop \n",
    "\n",
    "counter = 0\n",
    "\n",
    "for i, row in df_QA2.iterrows():\n",
    "    \n",
    "    if i < 0:  # where we timed out last time\n",
    "        continue\n",
    "        \n",
    "    if counter % 10 == 0:\n",
    "        print(counter, end=' ')\n",
    "    if counter % 100 == 0:\n",
    "        print()\n",
    "    \n",
    "    counter += 1\n",
    "    \n",
    "    # these are the actual song and artist from the Billboard Hot 100\n",
    "    song = df_QA2.iloc[i]['song']\n",
    "    artist = df_QA2.iloc[i]['artist']\n",
    "    \n",
    "    # get all track info from Spotify API matching 'song' and 'artist'\n",
    "    all_track_info = find_all_tracks(song, artist)\n",
    "    \n",
    "    # restart loop if there are no results\n",
    "    if all_track_info == 'MISSING':\n",
    "        continue\n",
    "    \n",
    "    is_exact_match = False\n",
    "    \n",
    "    # first subloop - check for direct matched\n",
    "    for track_info in all_track_info:\n",
    "        temp_id = track_info[0]\n",
    "        temp_song = track_info[1]\n",
    "        temp_artist = track_info[2]\n",
    "        \n",
    "        # if there is an exact text match\n",
    "        is_exact_match = remove_punctuation(temp_song) == remove_punctuation(song) and \\\n",
    "                         remove_punctuation(temp_artist) == remove_punctuation(artist)\n",
    "        \n",
    "        # continue subloop\n",
    "        if is_exact_match:\n",
    "            df_QA2.loc[df_QA2.index[i], 'CORRECT_ID'] = temp_id\n",
    "            df_QA2.loc[df_QA2.index[i], 'id_status'] = 'CONFIRMED'\n",
    "            continue\n",
    "    \n",
    "    # if we confirmed, go to the next row item\n",
    "    if df_QA2.loc[df_QA2.index[i], 'id_status'] != 'CONFIRMED':\n",
    "            \n",
    "        # second subloop - check for indirect matches (shouldn't run if direct match occurs)\n",
    "        for track_info in all_track_info:\n",
    "            temp_id = track_info[0]\n",
    "            temp_song = track_info[1]\n",
    "            temp_artist = track_info[2]\n",
    "\n",
    "            # if there is a probable text match\n",
    "            is_probable_match = clean_text(temp_song) == clean_text(song) and \\\n",
    "                                clean_text(temp_artist) == clean_text(artist)\n",
    "\n",
    "            if is_probable_match:\n",
    "                df_QA2.loc[df_QA2.index[i], 'PROBABLE_ID'] = temp_id\n",
    "                df_QA2.loc[df_QA2.index[i], 'id_status'] = 'LIKELY'\n",
    "                continue\n",
    "        \n",
    "\n",
    "df_QA2.to_parquet('df_QA2_STEP2COMPLETE.parquet')"
   ]
  },
  {
   "cell_type": "markdown",
   "id": "e42efbd6",
   "metadata": {},
   "source": [
    "##### check results and prep for step 3"
   ]
  },
  {
   "cell_type": "code",
   "execution_count": null,
   "id": "d310f8b0",
   "metadata": {},
   "outputs": [],
   "source": [
    "corrected_ids = df_QA2[~df_QA2.CORRECT_ID.isna()].shape[0]\n",
    "possibly_corrected_ids = df_QA2[~df_QA2.PROBABLE_ID.isna()].shape[0]\n",
    "corrected_ids, possibly_corrected_ids\n",
    "# (558, 248) # old values"
   ]
  },
  {
   "cell_type": "code",
   "execution_count": null,
   "id": "c7ada75f",
   "metadata": {},
   "outputs": [],
   "source": [
    "df_QA2[~df_QA2.PROBABLE_ID.isna()].head()"
   ]
  },
  {
   "cell_type": "markdown",
   "id": "612632cf",
   "metadata": {},
   "source": [
    "##### which songs should be reimported from SQL?\n",
    "* songs found in QA where ID changed\n",
    "* songs with 'BAD' id status"
   ]
  },
  {
   "cell_type": "code",
   "execution_count": null,
   "id": "6c2980be",
   "metadata": {},
   "outputs": [],
   "source": [
    "# these should be left in the original dataframe\n",
    "df_QA2[~df_QA2.CORRECT_ID.isna()].query('possibly_incorrect_id == CORRECT_ID').shape[0]"
   ]
  },
  {
   "cell_type": "code",
   "execution_count": null,
   "id": "605f03b0",
   "metadata": {},
   "outputs": [],
   "source": [
    "# no probably correct id match the original id, none to keep\n",
    "df_QA2[~df_QA2.PROBABLE_ID.isna()].query('possibly_incorrect_id == PROBABLE_ID').shape[0]"
   ]
  },
  {
   "cell_type": "code",
   "execution_count": null,
   "id": "bd394399",
   "metadata": {},
   "outputs": [],
   "source": [
    "df_QA2[~df_QA2.PROBABLE_ID.isna()].shape[0]"
   ]
  },
  {
   "cell_type": "code",
   "execution_count": null,
   "id": "fbff128e",
   "metadata": {},
   "outputs": [],
   "source": [
    "# these need to be fixed updated audio features\n",
    "id_to_reimport_from_SQL = df_QA2[~df_QA2.CORRECT_ID.isna()].query('possibly_incorrect_id != CORRECT_ID').possibly_incorrect_id.to_list()\n",
    "len(id_to_reimport_from_SQL)"
   ]
  },
  {
   "cell_type": "code",
   "execution_count": null,
   "id": "42d15532",
   "metadata": {},
   "outputs": [],
   "source": [
    "id_to_reimport_from_SQL = id_to_reimport_from_SQL + df_QA2[~df_QA2.PROBABLE_ID.isna()].possibly_incorrect_id.to_list()\n",
    "len(id_to_reimport_from_SQL)"
   ]
  },
  {
   "cell_type": "code",
   "execution_count": null,
   "id": "0a7812cf",
   "metadata": {},
   "outputs": [],
   "source": [
    "id_to_reimport_from_SQL = id_to_reimport_from_SQL + df_QA2[df_QA2.id_status == 'BAD'].possibly_incorrect_id.to_list()\n",
    "len(id_to_reimport_from_SQL)"
   ]
  },
  {
   "cell_type": "code",
   "execution_count": null,
   "id": "28b39863",
   "metadata": {},
   "outputs": [],
   "source": [
    "# check for duplicates\n",
    "len(id_to_reimport_from_SQL) == len(set(id_to_reimport_from_SQL))\n",
    "# none, all good"
   ]
  },
  {
   "cell_type": "code",
   "execution_count": null,
   "id": "d6e2d072",
   "metadata": {},
   "outputs": [],
   "source": [
    "all_audio_features_sql = pd.read_csv('all_audio_features_sql.csv')"
   ]
  },
  {
   "cell_type": "code",
   "execution_count": null,
   "id": "3be668c2",
   "metadata": {},
   "outputs": [],
   "source": [
    "sql_reimport = all_audio_features_sql[all_audio_features_sql.id.isin(id_to_reimport_from_SQL)]\n",
    "sql_reimport = sql_reimport.rename({\n",
    "    'name:1': 'artist',\n",
    "    'name': 'song',\n",
    "    'duration:1': 'duration_ms'\n",
    "}, axis=1)[[\n",
    "    'id', 'song', 'artist', 'acousticness', 'danceability', 'duration_ms', \n",
    "    'energy', 'instrumentalness', 'key', 'liveness', 'loudness', 'mode', \n",
    "    'speechiness', 'tempo','time_signature', 'valence'\n",
    "]].drop_duplicates(['id']).reset_index(drop=True)\n",
    "# note: CONFIRMED: genre and release_date were looked up from ID, just merge 'song' and 'artist'"
   ]
  },
  {
   "cell_type": "code",
   "execution_count": null,
   "id": "05814eb6",
   "metadata": {},
   "outputs": [],
   "source": [
    "sql_reimport.head()"
   ]
  },
  {
   "cell_type": "code",
   "execution_count": null,
   "id": "bcbee463",
   "metadata": {},
   "outputs": [],
   "source": [
    "sql_reimport.shape"
   ]
  },
  {
   "cell_type": "code",
   "execution_count": null,
   "id": "db17e680",
   "metadata": {},
   "outputs": [],
   "source": [
    "# just update song and artist in df_10M\n",
    "sql_reimport.to_parquet('sql_reimport.parquet')"
   ]
  },
  {
   "cell_type": "markdown",
   "id": "3eeb617f",
   "metadata": {},
   "source": [
    "##### which songs should be left alone?"
   ]
  },
  {
   "cell_type": "code",
   "execution_count": null,
   "id": "700b3cb8",
   "metadata": {},
   "outputs": [],
   "source": [
    "df_QA2.id_status.unique()"
   ]
  },
  {
   "cell_type": "code",
   "execution_count": null,
   "id": "e0f26367",
   "metadata": {},
   "outputs": [],
   "source": [
    "df_QA2[df_QA2.id_status == 'CONFIRMED'].query('possibly_incorrect_id == CORRECT_ID').shape[0]"
   ]
  },
  {
   "cell_type": "code",
   "execution_count": null,
   "id": "509ed94b",
   "metadata": {},
   "outputs": [],
   "source": [
    "df_QA2[df_QA2.id_status == 'LIKELY'].query('possibly_incorrect_id == PROBABLE_ID').shape[0]"
   ]
  },
  {
   "cell_type": "code",
   "execution_count": null,
   "id": "bc1cd202",
   "metadata": {},
   "outputs": [],
   "source": [
    "# maybe\n",
    "df_QA2[df_QA2.id_status == 'suspect'].shape[0]"
   ]
  },
  {
   "cell_type": "code",
   "execution_count": null,
   "id": "c4111382",
   "metadata": {},
   "outputs": [],
   "source": [
    "# most of these are good, are we better dropping or keeping?\n",
    "df_QA2[df_QA2.id_status == 'suspect'].sample(10)"
   ]
  },
  {
   "cell_type": "code",
   "execution_count": null,
   "id": "e5bccadf",
   "metadata": {},
   "outputs": [],
   "source": [
    "# definitely do not keep\n",
    "df_QA2[df_QA2.id_status == 'BAD'].shape[0]"
   ]
  },
  {
   "cell_type": "markdown",
   "id": "aa1b7d2a",
   "metadata": {},
   "source": [
    "##### which songs need new audio features from Spotify"
   ]
  },
  {
   "cell_type": "code",
   "execution_count": null,
   "id": "31697c9c",
   "metadata": {},
   "outputs": [],
   "source": [
    "# old ids\n",
    "list_to_api_AF = df_QA2[~df_QA2.CORRECT_ID.isna()].query('possibly_incorrect_id != CORRECT_ID').possibly_incorrect_id.to_list()\n",
    "list_to_api_AF = list_to_api_AF + df_QA2[~df_QA2.PROBABLE_ID.isna()].query('possibly_incorrect_id != PROBABLE_ID').possibly_incorrect_id.to_list()\n",
    "len(list_to_api_AF)"
   ]
  },
  {
   "cell_type": "code",
   "execution_count": null,
   "id": "31e9f7b5",
   "metadata": {},
   "outputs": [],
   "source": [
    "len(list_to_api_AF) == len(set(list_to_api_AF))"
   ]
  },
  {
   "cell_type": "code",
   "execution_count": null,
   "id": "c015c90e",
   "metadata": {},
   "outputs": [],
   "source": [
    "# songs that need audio features again\n",
    "df_need_AF = df_QA2[df_QA2.possibly_incorrect_id.isin(list_to_api_AF)].drop(['possibly_incorrect_id', 'song_from_old_id', 'artist_from_old_id', 'id_status'], axis=1).reset_index(drop=True).copy()"
   ]
  },
  {
   "cell_type": "markdown",
   "id": "d19bf3a7",
   "metadata": {},
   "source": [
    "### STEP 3:  create a new dataframe for looking up audio features and genre, where applicable"
   ]
  },
  {
   "cell_type": "code",
   "execution_count": null,
   "id": "3f9d37d5",
   "metadata": {},
   "outputs": [],
   "source": [
    "df_need_AF['id'] = df_need_AF[['CORRECT_ID', 'PROBABLE_ID']].apply(lambda x: ''.join(x.dropna()), axis=1)"
   ]
  },
  {
   "cell_type": "code",
   "execution_count": null,
   "id": "73e4656e",
   "metadata": {},
   "outputs": [],
   "source": [
    "df_need_AF = df_need_AF[[\n",
    "    'id', 'song', 'artist', 'genre', 'release_date',\n",
    "    'acousticness', 'danceability', 'duration_ms', 'energy',\n",
    "    'instrumentalness', 'key', 'liveness', 'loudness', 'mode',\n",
    "    'speechiness', 'tempo', 'time_signature', 'valence'\n",
    "]]"
   ]
  },
  {
   "cell_type": "code",
   "execution_count": null,
   "id": "7787f66b",
   "metadata": {},
   "outputs": [],
   "source": [
    "df_need_AF.to_parquet('df_need_AF.parquet')"
   ]
  },
  {
   "cell_type": "code",
   "execution_count": null,
   "id": "fe869daa",
   "metadata": {},
   "outputs": [],
   "source": [
    "df_QA2 = pd.read_parquet('df_QA2_STEP2COMPLETE.parquet')\n",
    "df_need_AF = pd.read_parquet('df_need_AF.parquet')"
   ]
  },
  {
   "cell_type": "code",
   "execution_count": null,
   "id": "6a654d8d",
   "metadata": {},
   "outputs": [],
   "source": [
    "df_need_AF.head()"
   ]
  },
  {
   "cell_type": "code",
   "execution_count": null,
   "id": "29cea14f",
   "metadata": {},
   "outputs": [],
   "source": [
    "# redo genre ordered list\n",
    "\n",
    "df_track_genres_SQL = pd.read_csv('track_genre_sql.csv')\n",
    "\n",
    "genre_counts = (\n",
    "    df_track_genres_SQL[['track_id','genre_id']]\n",
    "    .groupby(['genre_id'])\n",
    "    .count()\n",
    "    .sort_values('track_id', ascending=False)\n",
    ")\n",
    "\n",
    "genre_counts.columns = ['count']\n",
    "\n",
    "list_of_ordered_genres = list(genre_counts.index)"
   ]
  },
  {
   "cell_type": "markdown",
   "id": "d6e92f30",
   "metadata": {},
   "source": [
    "##### get a temporary authorization token from: https://developer.spotify.com/console/get-search-item"
   ]
  },
  {
   "cell_type": "code",
   "execution_count": null,
   "id": "0854f201",
   "metadata": {},
   "outputs": [],
   "source": [
    "# input the temporary token\n",
    "TEMP_TOKEN = input('Enter token: ')\n",
    "\n",
    "# create a spotify object\n",
    "spotify = spotipy.Spotify(auth=TEMP_TOKEN)"
   ]
  },
  {
   "cell_type": "code",
   "execution_count": null,
   "id": "6805bda2",
   "metadata": {},
   "outputs": [],
   "source": [
    "how_many_passes = 0\n",
    "\n",
    "for i, row in df_need_AF.iterrows():\n",
    "    # not sure if this is too many GETs...\n",
    "    \n",
    "    # show status update\n",
    "    if i%10 == 0:\n",
    "        print(i, end='  ')\n",
    "    if i%100 == 0:\n",
    "        print()\n",
    "\n",
    "    # Get Audio Features - 1st GET request\n",
    "    list_of_features = [\n",
    "        'acousticness', 'danceability', 'duration_ms', 'energy',\n",
    "        'instrumentalness', 'key', 'liveness', 'loudness', 'mode',\n",
    "        'speechiness', 'tempo', 'time_signature', 'valence'\n",
    "    ]\n",
    "    \n",
    "    track_id = df_need_AF['id'].iloc[i]\n",
    "    temp_audio_features = spotify.audio_features(track_id)\n",
    "    for key in list_of_features:\n",
    "        df_need_AF.loc[i, key] = temp_audio_features[0][key]\n",
    "\n",
    "    # Get Release Date - 2nd GET request\n",
    "    track_info = spotify.track(track_id)\n",
    "    df_need_AF.loc[i, 'release_date'] = track_info['album']['release_date']\n",
    "\n",
    "    # Get Release Date Genre - 3rd GET request\n",
    "    artist_id = track_info['artists'][0]['id']\n",
    "    artist_info = spotify.artist(artist_id)\n",
    "    list_of_artist_genres = artist_info['genres']\n",
    "\n",
    "    try:\n",
    "        most_common_genre = list_of_artist_genres[0] # default to first genre\n",
    "        if len(list_of_artist_genres) == 1:\n",
    "            pass\n",
    "        else:\n",
    "            for genre in list_of_ordered_genres:\n",
    "                if genre in list_of_artist_genres:\n",
    "                    most_common_genre = genre\n",
    "                    break\n",
    "        df_need_AF.loc[i, 'genre'] = most_common_genre\n",
    "    except:\n",
    "        how_many_passes += 1\n",
    "        pass  # didn't have any genres, move on\n"
   ]
  },
  {
   "cell_type": "code",
   "execution_count": null,
   "id": "8517baa5",
   "metadata": {},
   "outputs": [],
   "source": [
    "df_need_AF.head()"
   ]
  },
  {
   "cell_type": "code",
   "execution_count": null,
   "id": "bfdf1667",
   "metadata": {},
   "outputs": [],
   "source": [
    "df_need_AF.to_parquet('df_B100_songs_AF_to_update.parquet')"
   ]
  },
  {
   "cell_type": "code",
   "execution_count": null,
   "id": "7f0fd809",
   "metadata": {},
   "outputs": [],
   "source": [
    "# some missing genres\n",
    "df_need_AF[df_need_AF.genre.isna()].shape"
   ]
  },
  {
   "cell_type": "code",
   "execution_count": null,
   "id": "bbfcd1af",
   "metadata": {},
   "outputs": [],
   "source": [
    "# no missing AF (as expected)\n",
    "df_need_AF[df_need_AF.release_date.isna()].shape[0], df_need_AF[df_need_AF.key.isna()].shape[0]"
   ]
  },
  {
   "cell_type": "code",
   "execution_count": null,
   "id": "0629d642",
   "metadata": {},
   "outputs": [],
   "source": [
    "# should have left the old_id column for lookup\n",
    "# id lookup\n",
    "df_id_lookup = df_QA2.copy()\n",
    "df_id_lookup['id'] = df_id_lookup[['CORRECT_ID', 'PROBABLE_ID']].apply(lambda x: ''.join(x.dropna()), axis=1)\n",
    "df_id_lookup = df_id_lookup[['possibly_incorrect_id', 'id']].rename({'possibly_incorrect_id': 'old_id'}, axis=1)\n",
    "\n",
    "# now merge\n",
    "df_need_AF = df_need_AF.merge(df_id_lookup, on='id')\n",
    "\n",
    "df_need_AF = df_need_AF[['old_id', 'id', 'song', 'artist', 'genre', 'release_date', 'acousticness',\n",
    "       'danceability', 'duration_ms', 'energy', 'instrumentalness', 'key',\n",
    "       'liveness', 'loudness', 'mode', 'speechiness', 'tempo',\n",
    "       'time_signature', 'valence']]"
   ]
  },
  {
   "cell_type": "code",
   "execution_count": null,
   "id": "f3aaa879",
   "metadata": {},
   "outputs": [],
   "source": [
    "df_need_AF.to_parquet('df_B100_songs_AF_to_update.parquet')"
   ]
  },
  {
   "cell_type": "markdown",
   "id": "480027ab",
   "metadata": {},
   "source": [
    "### STEP 4: clean the data to match datasets, and merge\n",
    "delete all rows with bad ids first\n",
    "reimport deleted rows from SQL csv with proper names"
   ]
  },
  {
   "cell_type": "code",
   "execution_count": 328,
   "id": "e7d55bce",
   "metadata": {},
   "outputs": [],
   "source": [
    "# WIP: confirm logic\n",
    "\n",
    "# reimport from SQL - 545 of 1716\n",
    "# just update song and artist in df_10M using this\n",
    "sql_reimport = pd.read_parquet('sql_reimport.parquet')\n",
    "\n",
    "# drop from 10M - 123 of 1716\n",
    "df_drop_from_10M = pd.read_parquet('df_drop_from_10M.parquet')\n",
    "\n",
    "# just leave suspect ids, they are mostly good, based on spot checks\n",
    "# do nothing - 1001 of 1716\n",
    "\n",
    "# update B100 AF - 583 NEW (47 are actually old, why the math was off)\n",
    "# crossreference old ID using df_QA2\n",
    "df_B100_songs_AF_to_update = pd.read_parquet('df_B100_songs_AF_to_update.parquet')\n",
    "\n",
    "# # shouldn't need this\n",
    "# # drop these entries from B100 before importing df_B100_songs_AF_to_update\n",
    "# list_to_api_AF = df_QA2[~df_QA2.CORRECT_ID.isna()].query('possibly_incorrect_id != CORRECT_ID').possibly_incorrect_id.to_list()\n",
    "# list_to_api_AF = list_to_api_AF + df_QA2[~df_QA2.PROBABLE_ID.isna()].query('possibly_incorrect_id != PROBABLE_ID').possibly_incorrect_id.to_list()\n",
    "\n",
    "# for reference dropping and updating dataframes\n",
    "df_QA2 = pd.read_parquet('df_QA2_STEP2COMPLETE.parquet')"
   ]
  },
  {
   "cell_type": "code",
   "execution_count": 329,
   "id": "1b42eb39",
   "metadata": {},
   "outputs": [
    {
     "data": {
      "text/plain": [
       "id_status\n",
       "BAD            85\n",
       "CONFIRMED     558\n",
       "LIKELY         72\n",
       "suspect      1001\n",
       "Name: song, dtype: int64"
      ]
     },
     "execution_count": 329,
     "metadata": {},
     "output_type": "execute_result"
    }
   ],
   "source": [
    "df_QA2.groupby('id_status').count()['song']"
   ]
  },
  {
   "cell_type": "code",
   "execution_count": 330,
   "id": "63a067d9",
   "metadata": {},
   "outputs": [
    {
     "data": {
      "text/plain": [
       "(1716, 545, 583, 583)"
      ]
     },
     "execution_count": 330,
     "metadata": {},
     "output_type": "execute_result"
    }
   ],
   "source": [
    "df_QA2.shape[0], sql_reimport.shape[0], len(list_to_api_AF), df_B100_songs_AF_to_update.shape[0]"
   ]
  },
  {
   "cell_type": "markdown",
   "id": "87698b1e",
   "metadata": {},
   "source": [
    "##### which to drop from 10M"
   ]
  },
  {
   "cell_type": "code",
   "execution_count": 331,
   "id": "934b9d94",
   "metadata": {},
   "outputs": [
    {
     "data": {
      "text/plain": [
       "(668, 545)"
      ]
     },
     "execution_count": 331,
     "metadata": {},
     "output_type": "execute_result"
    }
   ],
   "source": [
    "len(id_to_reimport_from_SQL), len(sql_reimport.id.to_list())"
   ]
  },
  {
   "cell_type": "code",
   "execution_count": 332,
   "id": "4d8c1aec",
   "metadata": {},
   "outputs": [
    {
     "data": {
      "text/plain": [
       "123"
      ]
     },
     "execution_count": 332,
     "metadata": {},
     "output_type": "execute_result"
    }
   ],
   "source": [
    "drop_from_10M = [x for x in id_to_reimport_from_SQL if x not in sql_reimport.id.to_list()]\n",
    "len(drop_from_10M)"
   ]
  },
  {
   "cell_type": "code",
   "execution_count": 333,
   "id": "8e3208dc",
   "metadata": {},
   "outputs": [],
   "source": [
    "df_drop_from_10M = df_10M[df_10M.id.isin(drop_from_10M)].copy().reset_index(drop=True)"
   ]
  },
  {
   "cell_type": "code",
   "execution_count": null,
   "id": "75f5e960",
   "metadata": {},
   "outputs": [],
   "source": [
    "# df_drop_from_10M.to_parquet('df_drop_from_10M.parquet')"
   ]
  },
  {
   "cell_type": "markdown",
   "id": "df5a0bdd",
   "metadata": {},
   "source": [
    "##### suspect id list"
   ]
  },
  {
   "cell_type": "code",
   "execution_count": 334,
   "id": "29a34e13",
   "metadata": {},
   "outputs": [],
   "source": [
    "suspect_id_list = df_QA2[df_QA2.id_status=='suspect'].possibly_incorrect_id.to_list()"
   ]
  },
  {
   "cell_type": "code",
   "execution_count": 335,
   "id": "e41f8159",
   "metadata": {},
   "outputs": [
    {
     "data": {
      "text/plain": [
       "0"
      ]
     },
     "execution_count": 335,
     "metadata": {},
     "output_type": "execute_result"
    }
   ],
   "source": [
    "sql_reimport[sql_reimport.id.isin(suspect_id_list)].shape[0]"
   ]
  },
  {
   "cell_type": "code",
   "execution_count": 336,
   "id": "18d0738f",
   "metadata": {},
   "outputs": [
    {
     "data": {
      "text/plain": [
       "0"
      ]
     },
     "execution_count": 336,
     "metadata": {},
     "output_type": "execute_result"
    }
   ],
   "source": [
    "df_need_AF[df_need_AF.id.isin(suspect_id_list)].shape[0]"
   ]
  },
  {
   "cell_type": "code",
   "execution_count": 337,
   "id": "1555ec57",
   "metadata": {},
   "outputs": [
    {
     "data": {
      "text/plain": [
       "1001"
      ]
     },
     "execution_count": 337,
     "metadata": {},
     "output_type": "execute_result"
    }
   ],
   "source": [
    "df_QA2[df_QA2.possibly_incorrect_id.isin(suspect_id_list)].shape[0]"
   ]
  },
  {
   "cell_type": "code",
   "execution_count": 338,
   "id": "bb56a82b",
   "metadata": {},
   "outputs": [
    {
     "data": {
      "text/plain": [
       "47"
      ]
     },
     "execution_count": 338,
     "metadata": {},
     "output_type": "execute_result"
    }
   ],
   "source": [
    "df_QA2[df_QA2.id_status == 'CONFIRMED'].query('possibly_incorrect_id == CORRECT_ID').shape[0]"
   ]
  },
  {
   "cell_type": "markdown",
   "id": "f63a85c7",
   "metadata": {},
   "source": [
    "##### check math"
   ]
  },
  {
   "cell_type": "code",
   "execution_count": null,
   "id": "7a1d022b",
   "metadata": {},
   "outputs": [],
   "source": [
    "# don't add up, some overlap\n",
    "# check logic\n",
    "\"\"\"\n",
    "SQL reimport \n",
    "+ BAD (to drop)\n",
    "+ suspect (just leave them, they're usually good)\n",
    "+ new AF that didn't need downloading (same ID as before)\n",
    "\n",
    "NOT + df_need_AF, these are new IDs, not in the original set\n",
    "\n",
    "LOOKS LIKE IT ADDS UP\n",
    "\"\"\"\n",
    "\n",
    "545 + 123 + 1001 + 47 # + 583"
   ]
  },
  {
   "cell_type": "code",
   "execution_count": 339,
   "id": "959b87df",
   "metadata": {},
   "outputs": [
    {
     "data": {
      "text/html": [
       "<div>\n",
       "<style scoped>\n",
       "    .dataframe tbody tr th:only-of-type {\n",
       "        vertical-align: middle;\n",
       "    }\n",
       "\n",
       "    .dataframe tbody tr th {\n",
       "        vertical-align: top;\n",
       "    }\n",
       "\n",
       "    .dataframe thead th {\n",
       "        text-align: right;\n",
       "    }\n",
       "</style>\n",
       "<table border=\"1\" class=\"dataframe\">\n",
       "  <thead>\n",
       "    <tr style=\"text-align: right;\">\n",
       "      <th></th>\n",
       "      <th>id</th>\n",
       "      <th>song</th>\n",
       "      <th>artist</th>\n",
       "      <th>acousticness</th>\n",
       "      <th>danceability</th>\n",
       "      <th>duration_ms</th>\n",
       "      <th>energy</th>\n",
       "      <th>instrumentalness</th>\n",
       "      <th>key</th>\n",
       "      <th>liveness</th>\n",
       "      <th>loudness</th>\n",
       "      <th>mode</th>\n",
       "      <th>speechiness</th>\n",
       "      <th>tempo</th>\n",
       "      <th>time_signature</th>\n",
       "      <th>valence</th>\n",
       "    </tr>\n",
       "  </thead>\n",
       "  <tbody>\n",
       "    <tr>\n",
       "      <th>0</th>\n",
       "      <td>6BLqrmuRTePFJEbmSNCilF</td>\n",
       "      <td>Darn That Dream - Live In Los Angeles, 1954</td>\n",
       "      <td>Clifford Brown</td>\n",
       "      <td>0.952</td>\n",
       "      <td>0.474</td>\n",
       "      <td>314440</td>\n",
       "      <td>0.113</td>\n",
       "      <td>0.113</td>\n",
       "      <td>0</td>\n",
       "      <td>0.713</td>\n",
       "      <td>-16.277</td>\n",
       "      <td>1</td>\n",
       "      <td>0.048</td>\n",
       "      <td>118.521</td>\n",
       "      <td>3</td>\n",
       "      <td>0.224</td>\n",
       "    </tr>\n",
       "    <tr>\n",
       "      <th>1</th>\n",
       "      <td>4mLbbnDWp5NoJXP0WxjcmA</td>\n",
       "      <td>Say! Boss Man</td>\n",
       "      <td>Bo Diddley</td>\n",
       "      <td>0.659</td>\n",
       "      <td>0.803</td>\n",
       "      <td>150440</td>\n",
       "      <td>0.255</td>\n",
       "      <td>0.000</td>\n",
       "      <td>1</td>\n",
       "      <td>0.069</td>\n",
       "      <td>-17.302</td>\n",
       "      <td>1</td>\n",
       "      <td>0.070</td>\n",
       "      <td>144.401</td>\n",
       "      <td>4</td>\n",
       "      <td>0.822</td>\n",
       "    </tr>\n",
       "    <tr>\n",
       "      <th>2</th>\n",
       "      <td>76AbCflWiJBgByIqFl396O</td>\n",
       "      <td>Acercate Mas (Come Closer To Me)</td>\n",
       "      <td>Nat King Cole</td>\n",
       "      <td>0.823</td>\n",
       "      <td>0.548</td>\n",
       "      <td>168827</td>\n",
       "      <td>0.256</td>\n",
       "      <td>0.000</td>\n",
       "      <td>3</td>\n",
       "      <td>0.101</td>\n",
       "      <td>-14.527</td>\n",
       "      <td>1</td>\n",
       "      <td>0.037</td>\n",
       "      <td>100.805</td>\n",
       "      <td>4</td>\n",
       "      <td>0.548</td>\n",
       "    </tr>\n",
       "    <tr>\n",
       "      <th>3</th>\n",
       "      <td>677oYgkn4m90Zvq4lQH2B8</td>\n",
       "      <td>Saro Jane</td>\n",
       "      <td>The Kingston Trio</td>\n",
       "      <td>0.440</td>\n",
       "      <td>0.548</td>\n",
       "      <td>144267</td>\n",
       "      <td>0.421</td>\n",
       "      <td>0.000</td>\n",
       "      <td>0</td>\n",
       "      <td>0.363</td>\n",
       "      <td>-10.660</td>\n",
       "      <td>1</td>\n",
       "      <td>0.036</td>\n",
       "      <td>144.778</td>\n",
       "      <td>4</td>\n",
       "      <td>0.831</td>\n",
       "    </tr>\n",
       "    <tr>\n",
       "      <th>4</th>\n",
       "      <td>4xWohADqZ5oFXcFOiC10l4</td>\n",
       "      <td>Blue, Blue Day</td>\n",
       "      <td>Don Gibson</td>\n",
       "      <td>0.828</td>\n",
       "      <td>0.760</td>\n",
       "      <td>113880</td>\n",
       "      <td>0.404</td>\n",
       "      <td>0.000</td>\n",
       "      <td>4</td>\n",
       "      <td>0.084</td>\n",
       "      <td>-12.059</td>\n",
       "      <td>1</td>\n",
       "      <td>0.032</td>\n",
       "      <td>100.070</td>\n",
       "      <td>4</td>\n",
       "      <td>0.974</td>\n",
       "    </tr>\n",
       "  </tbody>\n",
       "</table>\n",
       "</div>"
      ],
      "text/plain": [
       "                       id                                         song  \\\n",
       "0  6BLqrmuRTePFJEbmSNCilF  Darn That Dream - Live In Los Angeles, 1954   \n",
       "1  4mLbbnDWp5NoJXP0WxjcmA                                Say! Boss Man   \n",
       "2  76AbCflWiJBgByIqFl396O             Acercate Mas (Come Closer To Me)   \n",
       "3  677oYgkn4m90Zvq4lQH2B8                                    Saro Jane   \n",
       "4  4xWohADqZ5oFXcFOiC10l4                               Blue, Blue Day   \n",
       "\n",
       "              artist  acousticness  danceability  duration_ms  energy  \\\n",
       "0     Clifford Brown         0.952         0.474       314440   0.113   \n",
       "1         Bo Diddley         0.659         0.803       150440   0.255   \n",
       "2      Nat King Cole         0.823         0.548       168827   0.256   \n",
       "3  The Kingston Trio         0.440         0.548       144267   0.421   \n",
       "4         Don Gibson         0.828         0.760       113880   0.404   \n",
       "\n",
       "   instrumentalness  key  liveness  loudness  mode  speechiness   tempo  \\\n",
       "0             0.113    0     0.713   -16.277     1        0.048 118.521   \n",
       "1             0.000    1     0.069   -17.302     1        0.070 144.401   \n",
       "2             0.000    3     0.101   -14.527     1        0.037 100.805   \n",
       "3             0.000    0     0.363   -10.660     1        0.036 144.778   \n",
       "4             0.000    4     0.084   -12.059     1        0.032 100.070   \n",
       "\n",
       "   time_signature  valence  \n",
       "0               3    0.224  \n",
       "1               4    0.822  \n",
       "2               4    0.548  \n",
       "3               4    0.831  \n",
       "4               4    0.974  "
      ]
     },
     "execution_count": 339,
     "metadata": {},
     "output_type": "execute_result"
    }
   ],
   "source": [
    "sql_reimport.head()"
   ]
  },
  {
   "cell_type": "code",
   "execution_count": 340,
   "id": "c2d393ba",
   "metadata": {},
   "outputs": [
    {
     "data": {
      "text/html": [
       "<div>\n",
       "<style scoped>\n",
       "    .dataframe tbody tr th:only-of-type {\n",
       "        vertical-align: middle;\n",
       "    }\n",
       "\n",
       "    .dataframe tbody tr th {\n",
       "        vertical-align: top;\n",
       "    }\n",
       "\n",
       "    .dataframe thead th {\n",
       "        text-align: right;\n",
       "    }\n",
       "</style>\n",
       "<table border=\"1\" class=\"dataframe\">\n",
       "  <thead>\n",
       "    <tr style=\"text-align: right;\">\n",
       "      <th></th>\n",
       "      <th>id</th>\n",
       "      <th>song</th>\n",
       "      <th>artist</th>\n",
       "      <th>genre</th>\n",
       "      <th>release_date</th>\n",
       "      <th>acousticness</th>\n",
       "      <th>danceability</th>\n",
       "      <th>duration_ms</th>\n",
       "      <th>energy</th>\n",
       "      <th>instrumentalness</th>\n",
       "      <th>key</th>\n",
       "      <th>liveness</th>\n",
       "      <th>loudness</th>\n",
       "      <th>mode</th>\n",
       "      <th>speechiness</th>\n",
       "      <th>tempo</th>\n",
       "      <th>time_signature</th>\n",
       "      <th>valence</th>\n",
       "    </tr>\n",
       "  </thead>\n",
       "  <tbody>\n",
       "    <tr>\n",
       "      <th>0</th>\n",
       "      <td>0UP6oy3I8uPNP3dHwavu1A</td>\n",
       "      <td>Sweet And Lovely</td>\n",
       "      <td>April Stevens &amp; Nino Tempo</td>\n",
       "      <td>None</td>\n",
       "      <td>NaT</td>\n",
       "      <td>0.601</td>\n",
       "      <td>0.674</td>\n",
       "      <td>177533</td>\n",
       "      <td>0.520</td>\n",
       "      <td>0.000</td>\n",
       "      <td>10</td>\n",
       "      <td>0.254</td>\n",
       "      <td>-11.830</td>\n",
       "      <td>1</td>\n",
       "      <td>0.040</td>\n",
       "      <td>121.912</td>\n",
       "      <td>4</td>\n",
       "      <td>0.871</td>\n",
       "    </tr>\n",
       "    <tr>\n",
       "      <th>1</th>\n",
       "      <td>6RMn6MDxuW831ITmHE0cTa</td>\n",
       "      <td>My Time</td>\n",
       "      <td>BTS</td>\n",
       "      <td>k-pop</td>\n",
       "      <td>1992-01-01</td>\n",
       "      <td>0.400</td>\n",
       "      <td>0.670</td>\n",
       "      <td>353893</td>\n",
       "      <td>0.558</td>\n",
       "      <td>0.003</td>\n",
       "      <td>5</td>\n",
       "      <td>0.063</td>\n",
       "      <td>-11.077</td>\n",
       "      <td>1</td>\n",
       "      <td>0.033</td>\n",
       "      <td>113.192</td>\n",
       "      <td>3</td>\n",
       "      <td>0.838</td>\n",
       "    </tr>\n",
       "    <tr>\n",
       "      <th>2</th>\n",
       "      <td>06IgljQDwPRuZmkQgcO0jU</td>\n",
       "      <td>Crazy World</td>\n",
       "      <td>Big Trouble</td>\n",
       "      <td>None</td>\n",
       "      <td>2018-12-14</td>\n",
       "      <td>0.102</td>\n",
       "      <td>0.667</td>\n",
       "      <td>220467</td>\n",
       "      <td>0.815</td>\n",
       "      <td>0.000</td>\n",
       "      <td>2</td>\n",
       "      <td>0.078</td>\n",
       "      <td>-6.706</td>\n",
       "      <td>1</td>\n",
       "      <td>0.061</td>\n",
       "      <td>105.391</td>\n",
       "      <td>4</td>\n",
       "      <td>0.674</td>\n",
       "    </tr>\n",
       "    <tr>\n",
       "      <th>3</th>\n",
       "      <td>1zasfPKq1iWjQZIi3puIZo</td>\n",
       "      <td>Your Cheatin' Heart</td>\n",
       "      <td>Billy Vaughn And His Orchestra</td>\n",
       "      <td>None</td>\n",
       "      <td>NaT</td>\n",
       "      <td>0.536</td>\n",
       "      <td>0.405</td>\n",
       "      <td>141453</td>\n",
       "      <td>0.422</td>\n",
       "      <td>0.707</td>\n",
       "      <td>3</td>\n",
       "      <td>0.088</td>\n",
       "      <td>-9.837</td>\n",
       "      <td>1</td>\n",
       "      <td>0.029</td>\n",
       "      <td>85.230</td>\n",
       "      <td>4</td>\n",
       "      <td>0.668</td>\n",
       "    </tr>\n",
       "    <tr>\n",
       "      <th>4</th>\n",
       "      <td>3JeBMcbGWig0bYCGvnI5Ln</td>\n",
       "      <td>Adeste Fideles (Oh, Come, All Ye Faithful)</td>\n",
       "      <td>Bing Crosby</td>\n",
       "      <td>adult standards</td>\n",
       "      <td>NaT</td>\n",
       "      <td>0.983</td>\n",
       "      <td>0.456</td>\n",
       "      <td>144647</td>\n",
       "      <td>0.186</td>\n",
       "      <td>0.003</td>\n",
       "      <td>11</td>\n",
       "      <td>0.249</td>\n",
       "      <td>-13.945</td>\n",
       "      <td>1</td>\n",
       "      <td>0.161</td>\n",
       "      <td>86.591</td>\n",
       "      <td>4</td>\n",
       "      <td>0.465</td>\n",
       "    </tr>\n",
       "  </tbody>\n",
       "</table>\n",
       "</div>"
      ],
      "text/plain": [
       "                       id                                        song  \\\n",
       "0  0UP6oy3I8uPNP3dHwavu1A                            Sweet And Lovely   \n",
       "1  6RMn6MDxuW831ITmHE0cTa                                     My Time   \n",
       "2  06IgljQDwPRuZmkQgcO0jU                                 Crazy World   \n",
       "3  1zasfPKq1iWjQZIi3puIZo                         Your Cheatin' Heart   \n",
       "4  3JeBMcbGWig0bYCGvnI5Ln  Adeste Fideles (Oh, Come, All Ye Faithful)   \n",
       "\n",
       "                           artist            genre release_date  acousticness  \\\n",
       "0      April Stevens & Nino Tempo             None          NaT         0.601   \n",
       "1                             BTS            k-pop   1992-01-01         0.400   \n",
       "2                     Big Trouble             None   2018-12-14         0.102   \n",
       "3  Billy Vaughn And His Orchestra             None          NaT         0.536   \n",
       "4                     Bing Crosby  adult standards          NaT         0.983   \n",
       "\n",
       "   danceability  duration_ms  energy  instrumentalness  key  liveness  \\\n",
       "0         0.674       177533   0.520             0.000   10     0.254   \n",
       "1         0.670       353893   0.558             0.003    5     0.063   \n",
       "2         0.667       220467   0.815             0.000    2     0.078   \n",
       "3         0.405       141453   0.422             0.707    3     0.088   \n",
       "4         0.456       144647   0.186             0.003   11     0.249   \n",
       "\n",
       "   loudness  mode  speechiness   tempo  time_signature  valence  \n",
       "0   -11.830     1        0.040 121.912               4    0.871  \n",
       "1   -11.077     1        0.033 113.192               3    0.838  \n",
       "2    -6.706     1        0.061 105.391               4    0.674  \n",
       "3    -9.837     1        0.029  85.230               4    0.668  \n",
       "4   -13.945     1        0.161  86.591               4    0.465  "
      ]
     },
     "execution_count": 340,
     "metadata": {},
     "output_type": "execute_result"
    }
   ],
   "source": [
    "df_drop_from_10M.head()"
   ]
  },
  {
   "cell_type": "code",
   "execution_count": 341,
   "id": "0edb6a3c",
   "metadata": {},
   "outputs": [
    {
     "data": {
      "text/html": [
       "<div>\n",
       "<style scoped>\n",
       "    .dataframe tbody tr th:only-of-type {\n",
       "        vertical-align: middle;\n",
       "    }\n",
       "\n",
       "    .dataframe tbody tr th {\n",
       "        vertical-align: top;\n",
       "    }\n",
       "\n",
       "    .dataframe thead th {\n",
       "        text-align: right;\n",
       "    }\n",
       "</style>\n",
       "<table border=\"1\" class=\"dataframe\">\n",
       "  <thead>\n",
       "    <tr style=\"text-align: right;\">\n",
       "      <th></th>\n",
       "      <th>old_id</th>\n",
       "      <th>id</th>\n",
       "      <th>song</th>\n",
       "      <th>artist</th>\n",
       "      <th>genre</th>\n",
       "      <th>release_date</th>\n",
       "      <th>acousticness</th>\n",
       "      <th>danceability</th>\n",
       "      <th>duration_ms</th>\n",
       "      <th>energy</th>\n",
       "      <th>instrumentalness</th>\n",
       "      <th>key</th>\n",
       "      <th>liveness</th>\n",
       "      <th>loudness</th>\n",
       "      <th>mode</th>\n",
       "      <th>speechiness</th>\n",
       "      <th>tempo</th>\n",
       "      <th>time_signature</th>\n",
       "      <th>valence</th>\n",
       "    </tr>\n",
       "  </thead>\n",
       "  <tbody>\n",
       "    <tr>\n",
       "      <th>0</th>\n",
       "      <td>7DZsH0df0GuULl0FGwXMfd</td>\n",
       "      <td>2PSAMQfPIAO3eLvq8OpN7V</td>\n",
       "      <td>Misty</td>\n",
       "      <td>\"Groove\" Holmes</td>\n",
       "      <td>None</td>\n",
       "      <td>1975-01-01</td>\n",
       "      <td>0.236</td>\n",
       "      <td>0.590</td>\n",
       "      <td>293213.000</td>\n",
       "      <td>0.665</td>\n",
       "      <td>0.005</td>\n",
       "      <td>0.000</td>\n",
       "      <td>0.797</td>\n",
       "      <td>-8.154</td>\n",
       "      <td>0.000</td>\n",
       "      <td>0.030</td>\n",
       "      <td>123.780</td>\n",
       "      <td>4.000</td>\n",
       "      <td>0.523</td>\n",
       "    </tr>\n",
       "    <tr>\n",
       "      <th>1</th>\n",
       "      <td>1VpTwecl7EbQiGyVsvwFQE</td>\n",
       "      <td>2wnVCyiPQ2LCteyyfd1R5h</td>\n",
       "      <td>When Your Heart Stops Beating</td>\n",
       "      <td>(+44)</td>\n",
       "      <td>punk</td>\n",
       "      <td>2019-10-04</td>\n",
       "      <td>0.000</td>\n",
       "      <td>0.417</td>\n",
       "      <td>192787.000</td>\n",
       "      <td>0.967</td>\n",
       "      <td>0.000</td>\n",
       "      <td>9.000</td>\n",
       "      <td>0.063</td>\n",
       "      <td>-2.289</td>\n",
       "      <td>0.000</td>\n",
       "      <td>0.109</td>\n",
       "      <td>171.037</td>\n",
       "      <td>4.000</td>\n",
       "      <td>0.431</td>\n",
       "    </tr>\n",
       "    <tr>\n",
       "      <th>2</th>\n",
       "      <td>7xVLFuuYdAvcTfcP3IG3dS</td>\n",
       "      <td>54oACFHRfeOa7VD0FTQSkJ</td>\n",
       "      <td>Work</td>\n",
       "      <td>A$AP Ferg</td>\n",
       "      <td>hip hop</td>\n",
       "      <td>2013-01-22</td>\n",
       "      <td>0.152</td>\n",
       "      <td>0.726</td>\n",
       "      <td>178507.000</td>\n",
       "      <td>0.834</td>\n",
       "      <td>0.683</td>\n",
       "      <td>10.000</td>\n",
       "      <td>0.085</td>\n",
       "      <td>-5.564</td>\n",
       "      <td>1.000</td>\n",
       "      <td>0.057</td>\n",
       "      <td>130.040</td>\n",
       "      <td>4.000</td>\n",
       "      <td>0.561</td>\n",
       "    </tr>\n",
       "    <tr>\n",
       "      <th>3</th>\n",
       "      <td>7ycWLEP1GsNjVvcjawXz3z</td>\n",
       "      <td>4r28iBy4MUqkCpRjj7NU1W</td>\n",
       "      <td>L$D</td>\n",
       "      <td>A$AP Rocky</td>\n",
       "      <td>hip hop</td>\n",
       "      <td>2015-05-26</td>\n",
       "      <td>0.209</td>\n",
       "      <td>0.560</td>\n",
       "      <td>238520.000</td>\n",
       "      <td>0.249</td>\n",
       "      <td>0.207</td>\n",
       "      <td>2.000</td>\n",
       "      <td>0.099</td>\n",
       "      <td>-15.077</td>\n",
       "      <td>1.000</td>\n",
       "      <td>0.083</td>\n",
       "      <td>120.125</td>\n",
       "      <td>4.000</td>\n",
       "      <td>0.037</td>\n",
       "    </tr>\n",
       "    <tr>\n",
       "      <th>4</th>\n",
       "      <td>3zC02nmo5OrDDMW3U905AU</td>\n",
       "      <td>3TucIF3TR5JBDZlTQx4xZs</td>\n",
       "      <td>(How To Be A) Millionaire</td>\n",
       "      <td>ABC</td>\n",
       "      <td>soft rock</td>\n",
       "      <td>2001-01-01</td>\n",
       "      <td>0.251</td>\n",
       "      <td>0.720</td>\n",
       "      <td>214240.000</td>\n",
       "      <td>0.667</td>\n",
       "      <td>0.002</td>\n",
       "      <td>2.000</td>\n",
       "      <td>0.069</td>\n",
       "      <td>-11.699</td>\n",
       "      <td>1.000</td>\n",
       "      <td>0.050</td>\n",
       "      <td>121.683</td>\n",
       "      <td>4.000</td>\n",
       "      <td>0.865</td>\n",
       "    </tr>\n",
       "  </tbody>\n",
       "</table>\n",
       "</div>"
      ],
      "text/plain": [
       "                   old_id                      id  \\\n",
       "0  7DZsH0df0GuULl0FGwXMfd  2PSAMQfPIAO3eLvq8OpN7V   \n",
       "1  1VpTwecl7EbQiGyVsvwFQE  2wnVCyiPQ2LCteyyfd1R5h   \n",
       "2  7xVLFuuYdAvcTfcP3IG3dS  54oACFHRfeOa7VD0FTQSkJ   \n",
       "3  7ycWLEP1GsNjVvcjawXz3z  4r28iBy4MUqkCpRjj7NU1W   \n",
       "4  3zC02nmo5OrDDMW3U905AU  3TucIF3TR5JBDZlTQx4xZs   \n",
       "\n",
       "                            song           artist      genre release_date  \\\n",
       "0                          Misty  \"Groove\" Holmes       None   1975-01-01   \n",
       "1  When Your Heart Stops Beating            (+44)       punk   2019-10-04   \n",
       "2                           Work        A$AP Ferg    hip hop   2013-01-22   \n",
       "3                            L$D       A$AP Rocky    hip hop   2015-05-26   \n",
       "4      (How To Be A) Millionaire              ABC  soft rock   2001-01-01   \n",
       "\n",
       "   acousticness  danceability  duration_ms  energy  instrumentalness    key  \\\n",
       "0         0.236         0.590   293213.000   0.665             0.005  0.000   \n",
       "1         0.000         0.417   192787.000   0.967             0.000  9.000   \n",
       "2         0.152         0.726   178507.000   0.834             0.683 10.000   \n",
       "3         0.209         0.560   238520.000   0.249             0.207  2.000   \n",
       "4         0.251         0.720   214240.000   0.667             0.002  2.000   \n",
       "\n",
       "   liveness  loudness  mode  speechiness   tempo  time_signature  valence  \n",
       "0     0.797    -8.154 0.000        0.030 123.780           4.000    0.523  \n",
       "1     0.063    -2.289 0.000        0.109 171.037           4.000    0.431  \n",
       "2     0.085    -5.564 1.000        0.057 130.040           4.000    0.561  \n",
       "3     0.099   -15.077 1.000        0.083 120.125           4.000    0.037  \n",
       "4     0.069   -11.699 1.000        0.050 121.683           4.000    0.865  "
      ]
     },
     "execution_count": 341,
     "metadata": {},
     "output_type": "execute_result"
    }
   ],
   "source": [
    "df_B100_songs_AF_to_update.head()"
   ]
  },
  {
   "cell_type": "code",
   "execution_count": 342,
   "id": "cd0eb8d8",
   "metadata": {},
   "outputs": [
    {
     "data": {
      "text/html": [
       "<div>\n",
       "<style scoped>\n",
       "    .dataframe tbody tr th:only-of-type {\n",
       "        vertical-align: middle;\n",
       "    }\n",
       "\n",
       "    .dataframe tbody tr th {\n",
       "        vertical-align: top;\n",
       "    }\n",
       "\n",
       "    .dataframe thead th {\n",
       "        text-align: right;\n",
       "    }\n",
       "</style>\n",
       "<table border=\"1\" class=\"dataframe\">\n",
       "  <thead>\n",
       "    <tr style=\"text-align: right;\">\n",
       "      <th></th>\n",
       "      <th>possibly_incorrect_id</th>\n",
       "      <th>song</th>\n",
       "      <th>artist</th>\n",
       "      <th>song_from_old_id</th>\n",
       "      <th>artist_from_old_id</th>\n",
       "      <th>id_status</th>\n",
       "      <th>CORRECT_ID</th>\n",
       "      <th>PROBABLE_ID</th>\n",
       "      <th>genre</th>\n",
       "      <th>release_date</th>\n",
       "      <th>acousticness</th>\n",
       "      <th>danceability</th>\n",
       "      <th>duration_ms</th>\n",
       "      <th>energy</th>\n",
       "      <th>instrumentalness</th>\n",
       "      <th>key</th>\n",
       "      <th>liveness</th>\n",
       "      <th>loudness</th>\n",
       "      <th>mode</th>\n",
       "      <th>speechiness</th>\n",
       "      <th>tempo</th>\n",
       "      <th>time_signature</th>\n",
       "      <th>valence</th>\n",
       "    </tr>\n",
       "  </thead>\n",
       "  <tbody>\n",
       "    <tr>\n",
       "      <th>0</th>\n",
       "      <td>7DZsH0df0GuULl0FGwXMfd</td>\n",
       "      <td>Misty</td>\n",
       "      <td>\"Groove\" Holmes</td>\n",
       "      <td>Misty</td>\n",
       "      <td>Richard \"Groove\" Holmes</td>\n",
       "      <td>CONFIRMED</td>\n",
       "      <td>2PSAMQfPIAO3eLvq8OpN7V</td>\n",
       "      <td>None</td>\n",
       "      <td>None</td>\n",
       "      <td>NaT</td>\n",
       "      <td>NaN</td>\n",
       "      <td>NaN</td>\n",
       "      <td>NaN</td>\n",
       "      <td>NaN</td>\n",
       "      <td>NaN</td>\n",
       "      <td>NaN</td>\n",
       "      <td>NaN</td>\n",
       "      <td>NaN</td>\n",
       "      <td>NaN</td>\n",
       "      <td>NaN</td>\n",
       "      <td>NaN</td>\n",
       "      <td>NaN</td>\n",
       "      <td>NaN</td>\n",
       "    </tr>\n",
       "    <tr>\n",
       "      <th>1</th>\n",
       "      <td>11Aldbvo6UCcVhBzv4oUdw</td>\n",
       "      <td>What Now My Love</td>\n",
       "      <td>\"Groove\" Holmes</td>\n",
       "      <td>What Now My Love</td>\n",
       "      <td>Richard \"Groove\" Holmes</td>\n",
       "      <td>suspect</td>\n",
       "      <td>None</td>\n",
       "      <td>None</td>\n",
       "      <td>None</td>\n",
       "      <td>NaT</td>\n",
       "      <td>NaN</td>\n",
       "      <td>NaN</td>\n",
       "      <td>NaN</td>\n",
       "      <td>NaN</td>\n",
       "      <td>NaN</td>\n",
       "      <td>NaN</td>\n",
       "      <td>NaN</td>\n",
       "      <td>NaN</td>\n",
       "      <td>NaN</td>\n",
       "      <td>NaN</td>\n",
       "      <td>NaN</td>\n",
       "      <td>NaN</td>\n",
       "      <td>NaN</td>\n",
       "    </tr>\n",
       "    <tr>\n",
       "      <th>2</th>\n",
       "      <td>08zfRiERqpy7J0x8akk7zt</td>\n",
       "      <td>(God Must Have Spent) A Little More Time On You</td>\n",
       "      <td>'N Sync</td>\n",
       "      <td>(God Must Have Spent) A Little More Time On Yo...</td>\n",
       "      <td>*NSYNC</td>\n",
       "      <td>suspect</td>\n",
       "      <td>None</td>\n",
       "      <td>None</td>\n",
       "      <td>None</td>\n",
       "      <td>NaT</td>\n",
       "      <td>NaN</td>\n",
       "      <td>NaN</td>\n",
       "      <td>NaN</td>\n",
       "      <td>NaN</td>\n",
       "      <td>NaN</td>\n",
       "      <td>NaN</td>\n",
       "      <td>NaN</td>\n",
       "      <td>NaN</td>\n",
       "      <td>NaN</td>\n",
       "      <td>NaN</td>\n",
       "      <td>NaN</td>\n",
       "      <td>NaN</td>\n",
       "      <td>NaN</td>\n",
       "    </tr>\n",
       "    <tr>\n",
       "      <th>3</th>\n",
       "      <td>62bOmKYxYg7dhrC6gH9vFn</td>\n",
       "      <td>Bye Bye Bye</td>\n",
       "      <td>'N Sync</td>\n",
       "      <td>Bye Bye Bye</td>\n",
       "      <td>*NSYNC</td>\n",
       "      <td>suspect</td>\n",
       "      <td>None</td>\n",
       "      <td>None</td>\n",
       "      <td>None</td>\n",
       "      <td>NaT</td>\n",
       "      <td>NaN</td>\n",
       "      <td>NaN</td>\n",
       "      <td>NaN</td>\n",
       "      <td>NaN</td>\n",
       "      <td>NaN</td>\n",
       "      <td>NaN</td>\n",
       "      <td>NaN</td>\n",
       "      <td>NaN</td>\n",
       "      <td>NaN</td>\n",
       "      <td>NaN</td>\n",
       "      <td>NaN</td>\n",
       "      <td>NaN</td>\n",
       "      <td>NaN</td>\n",
       "    </tr>\n",
       "    <tr>\n",
       "      <th>4</th>\n",
       "      <td>4CCUjYJPbSXLL23BFeBVbI</td>\n",
       "      <td>Gone</td>\n",
       "      <td>'N Sync</td>\n",
       "      <td>Gone</td>\n",
       "      <td>*NSYNC</td>\n",
       "      <td>suspect</td>\n",
       "      <td>None</td>\n",
       "      <td>None</td>\n",
       "      <td>None</td>\n",
       "      <td>NaT</td>\n",
       "      <td>NaN</td>\n",
       "      <td>NaN</td>\n",
       "      <td>NaN</td>\n",
       "      <td>NaN</td>\n",
       "      <td>NaN</td>\n",
       "      <td>NaN</td>\n",
       "      <td>NaN</td>\n",
       "      <td>NaN</td>\n",
       "      <td>NaN</td>\n",
       "      <td>NaN</td>\n",
       "      <td>NaN</td>\n",
       "      <td>NaN</td>\n",
       "      <td>NaN</td>\n",
       "    </tr>\n",
       "  </tbody>\n",
       "</table>\n",
       "</div>"
      ],
      "text/plain": [
       "    possibly_incorrect_id                                             song  \\\n",
       "0  7DZsH0df0GuULl0FGwXMfd                                            Misty   \n",
       "1  11Aldbvo6UCcVhBzv4oUdw                                 What Now My Love   \n",
       "2  08zfRiERqpy7J0x8akk7zt  (God Must Have Spent) A Little More Time On You   \n",
       "3  62bOmKYxYg7dhrC6gH9vFn                                      Bye Bye Bye   \n",
       "4  4CCUjYJPbSXLL23BFeBVbI                                             Gone   \n",
       "\n",
       "            artist                                   song_from_old_id  \\\n",
       "0  \"Groove\" Holmes                                              Misty   \n",
       "1  \"Groove\" Holmes                                   What Now My Love   \n",
       "2          'N Sync  (God Must Have Spent) A Little More Time On Yo...   \n",
       "3          'N Sync                                        Bye Bye Bye   \n",
       "4          'N Sync                                               Gone   \n",
       "\n",
       "        artist_from_old_id  id_status              CORRECT_ID PROBABLE_ID  \\\n",
       "0  Richard \"Groove\" Holmes  CONFIRMED  2PSAMQfPIAO3eLvq8OpN7V        None   \n",
       "1  Richard \"Groove\" Holmes    suspect                    None        None   \n",
       "2                   *NSYNC    suspect                    None        None   \n",
       "3                   *NSYNC    suspect                    None        None   \n",
       "4                   *NSYNC    suspect                    None        None   \n",
       "\n",
       "  genre release_date  acousticness  danceability  duration_ms  energy  \\\n",
       "0  None          NaT           NaN           NaN          NaN     NaN   \n",
       "1  None          NaT           NaN           NaN          NaN     NaN   \n",
       "2  None          NaT           NaN           NaN          NaN     NaN   \n",
       "3  None          NaT           NaN           NaN          NaN     NaN   \n",
       "4  None          NaT           NaN           NaN          NaN     NaN   \n",
       "\n",
       "   instrumentalness  key  liveness  loudness  mode  speechiness  tempo  \\\n",
       "0               NaN  NaN       NaN       NaN   NaN          NaN    NaN   \n",
       "1               NaN  NaN       NaN       NaN   NaN          NaN    NaN   \n",
       "2               NaN  NaN       NaN       NaN   NaN          NaN    NaN   \n",
       "3               NaN  NaN       NaN       NaN   NaN          NaN    NaN   \n",
       "4               NaN  NaN       NaN       NaN   NaN          NaN    NaN   \n",
       "\n",
       "   time_signature  valence  \n",
       "0             NaN      NaN  \n",
       "1             NaN      NaN  \n",
       "2             NaN      NaN  \n",
       "3             NaN      NaN  \n",
       "4             NaN      NaN  "
      ]
     },
     "execution_count": 342,
     "metadata": {},
     "output_type": "execute_result"
    }
   ],
   "source": [
    "df_QA2.head()"
   ]
  },
  {
   "cell_type": "code",
   "execution_count": null,
   "id": "efcc44e2",
   "metadata": {},
   "outputs": [],
   "source": []
  },
  {
   "cell_type": "code",
   "execution_count": null,
   "id": "3db24cbe",
   "metadata": {},
   "outputs": [],
   "source": []
  },
  {
   "cell_type": "code",
   "execution_count": null,
   "id": "b4e03f8a",
   "metadata": {},
   "outputs": [],
   "source": []
  }
 ],
 "metadata": {
  "kernelspec": {
   "display_name": "Python 3 (ipykernel)",
   "language": "python",
   "name": "python3"
  },
  "language_info": {
   "codemirror_mode": {
    "name": "ipython",
    "version": 3
   },
   "file_extension": ".py",
   "mimetype": "text/x-python",
   "name": "python",
   "nbconvert_exporter": "python",
   "pygments_lexer": "ipython3",
   "version": "3.9.7"
  }
 },
 "nbformat": 4,
 "nbformat_minor": 5
}
