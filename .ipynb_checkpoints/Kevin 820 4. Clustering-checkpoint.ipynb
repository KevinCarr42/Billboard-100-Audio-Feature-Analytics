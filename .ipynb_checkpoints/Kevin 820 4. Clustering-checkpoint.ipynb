{
 "cells": [
  {
   "cell_type": "code",
   "execution_count": 1,
   "id": "5760121e",
   "metadata": {},
   "outputs": [
    {
     "data": {
      "text/html": [
       "<style>.container { width:100% !important; }</style>"
      ],
      "text/plain": [
       "<IPython.core.display.HTML object>"
      ]
     },
     "metadata": {},
     "output_type": "display_data"
    }
   ],
   "source": [
    "import spotipy\n",
    "import re\n",
    "\n",
    "# math and dataframes\n",
    "import pandas as pd\n",
    "import numpy as np\n",
    "\n",
    "# # outliers, encoding, and normalisation\n",
    "# from sklearn.preprocessing import StandardScaler, MinMaxScaler\n",
    "# from sklearn.compose import make_column_transformer\n",
    "\n",
    "# machine learning\n",
    "from sklearn.cluster import KMeans, DBSCAN\n",
    "from sklearn.metrics import silhouette_score\n",
    "from sklearn.model_selection import GridSearchCV\n",
    "\n",
    "# plotting\n",
    "import matplotlib.pyplot as plt\n",
    "import matplotlib as mpl\n",
    "import time\n",
    "import seaborn as sns\n",
    "sns.set_theme()\n",
    "\n",
    "# jupyter notebook full-width display\n",
    "from IPython.core.display import display, HTML\n",
    "display(HTML(\"<style>.container { width:100% !important; }</style>\"))\n",
    "\n",
    "# pandas formatting\n",
    "pd.set_option('display.float_format', '{:.3f}'.format)\n",
    "pd.set_option('display.max_columns', None)\n",
    "pd.set_option('display.max_rows', 200)"
   ]
  },
  {
   "cell_type": "code",
   "execution_count": 2,
   "id": "b12e22cb",
   "metadata": {},
   "outputs": [],
   "source": [
    "# import data \n",
    "# all songs with audio features\n",
    "df_10M = pd.read_pickle('df_10M.pickle')"
   ]
  },
  {
   "cell_type": "markdown",
   "id": "d0b348cf",
   "metadata": {},
   "source": [
    "### PIPELINE OUTLINE\n",
    "\n",
    "* remove outliers\n",
    "    * sets that aren't music\n",
    "    * by inspection using songs less than 1min or more than 10min (+ more extreme)\n",
    "* OPTIONAL: encode \n",
    "    * alt: drop when clustering\n",
    "* transform data using min max scaler\n",
    "* cluster based on AF (not genre)\n",
    "    * optimise based on silhouette \n",
    "* examine clusters by inspecting genres and popularity"
   ]
  },
  {
   "cell_type": "code",
   "execution_count": 10,
   "id": "8bf5a4c5",
   "metadata": {},
   "outputs": [
    {
     "name": "stdout",
     "output_type": "stream",
     "text": [
      "Wall time: 2.91 s\n"
     ]
    }
   ],
   "source": [
    "%%time\n",
    "# REMOVE OUTLIERS\n",
    "# based on details in outlier analysis\n",
    "\n",
    "# add cluster column to df_10M and add 'outliers' as a cluster\n",
    "df_10M['cluster'] = pd.NA\n",
    "\n",
    "# extrema to exclude (domain knowledge + inspection of percentiles)\n",
    "dur_min = df_10M.duration_ms < 60_000\n",
    "dur_max = df_10M.duration_ms > 600_000\n",
    "val_0 = df_10M.valence == 0\n",
    "sp_min = df_10M.speechiness > 0.947000\n",
    "tempo_0 = df_10M.tempo == 0\n",
    "loud_min = df_10M.loudness < -34.668999\n",
    "dance_min = df_10M.danceability < 0.064400\n",
    "\n",
    "df_10M.loc[(dur_min | dur_max | val_0 | sp_min | tempo_0 | loud_min | dance_min), 'cluster'] = 'outlier'\n",
    "\n",
    "# genres that aren't music\n",
    "genres_to_exclude = set([\n",
    "    'sleep', 'football', 'halloween', 'birthday', 'lullaby', 'ringtone', 'fan chant',\n",
    "    'sound effects', 'spoken word', 'bible', 'prank', 'wrestling', 'language', 'oratory',\n",
    "    'erotica', 'tone', 'vintage radio show', 'sound', 'quran', 'islamic recitation',\n",
    "    'reading', 'asmr', 'mindfulness', 'meditation', 'guided meditation', 'workout product',\n",
    "    'theme', 'environmental', 'motivation'    \n",
    "])\n",
    "\n",
    "df_10M.loc[df_10M.genre.isin(genres_to_exclude), 'cluster'] = 'outlier'\n",
    "\n",
    "# create a feature set to cluster on\n",
    "X = df_10M[df_10M.cluster != 'outlier'].reset_index(drop=True)"
   ]
  },
  {
   "cell_type": "code",
   "execution_count": 11,
   "id": "fde4ad1e",
   "metadata": {},
   "outputs": [
    {
     "data": {
      "text/plain": [
       "(8827719, 6.404280009393792)"
      ]
     },
     "execution_count": 11,
     "metadata": {},
     "output_type": "execute_result"
    }
   ],
   "source": [
    "# 6% of data dropped as outliers\n",
    "X.shape[0], (1 - X.shape[0] / df_10M.shape[0])*100"
   ]
  },
  {
   "cell_type": "code",
   "execution_count": 26,
   "id": "c94f78b2",
   "metadata": {},
   "outputs": [],
   "source": [
    "# encode and/or drop columns\n",
    "drop_columns = ['song', 'artist', 'genre', 'release_date', 'cluster', 'in_B100']\n",
    "encode_columns = ['key', 'mode', 'time_signature']\n",
    "X = X.drop(drop_columns, axis=1).drop(encode_columns, axis=1).set_index('id')"
   ]
  },
  {
   "cell_type": "code",
   "execution_count": 27,
   "id": "46df2385",
   "metadata": {},
   "outputs": [],
   "source": [
    "## transform data to range from 0 to 1\n",
    "attributes_to_transform = ['duration_ms', 'loudness', 'tempo']\n",
    "\n",
    "for attribute in attributes_to_transform:\n",
    "    X[attribute] = (X[attribute] - X[attribute].min()) / (X[attribute].max() - X[attribute].min())"
   ]
  },
  {
   "cell_type": "code",
   "execution_count": 32,
   "id": "3981aeae",
   "metadata": {},
   "outputs": [],
   "source": [
    "X.to_pickle('X_precluster.pickle')"
   ]
  },
  {
   "cell_type": "code",
   "execution_count": null,
   "id": "79ce91bb",
   "metadata": {},
   "outputs": [],
   "source": [
    "## cluster based on AF (not genre)\n",
    "## optimise based on silhouette \n",
    "\n",
    "\n"
   ]
  },
  {
   "cell_type": "code",
   "execution_count": null,
   "id": "b7648fd2",
   "metadata": {},
   "outputs": [],
   "source": [
    "## examine performance by inspecting genres and popularity\n",
    "\n"
   ]
  },
  {
   "cell_type": "code",
   "execution_count": null,
   "id": "d4b28ded",
   "metadata": {},
   "outputs": [],
   "source": []
  }
 ],
 "metadata": {
  "kernelspec": {
   "display_name": "Python 3 (ipykernel)",
   "language": "python",
   "name": "python3"
  },
  "language_info": {
   "codemirror_mode": {
    "name": "ipython",
    "version": 3
   },
   "file_extension": ".py",
   "mimetype": "text/x-python",
   "name": "python",
   "nbconvert_exporter": "python",
   "pygments_lexer": "ipython3",
   "version": "3.9.7"
  }
 },
 "nbformat": 4,
 "nbformat_minor": 5
}
