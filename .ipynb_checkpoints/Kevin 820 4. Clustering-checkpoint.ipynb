{
 "cells": [
  {
   "cell_type": "code",
   "execution_count": 3,
   "id": "5760121e",
   "metadata": {},
   "outputs": [
    {
     "data": {
      "text/html": [
       "<style>.container { width:100% !important; }</style>"
      ],
      "text/plain": [
       "<IPython.core.display.HTML object>"
      ]
     },
     "metadata": {},
     "output_type": "display_data"
    }
   ],
   "source": [
    "# math and dataframes\n",
    "import pandas as pd\n",
    "import numpy as np\n",
    "\n",
    "# machine learning\n",
    "from sklearn.cluster import KMeans, DBSCAN\n",
    "from sklearn.metrics import silhouette_score\n",
    "from sklearn.model_selection import GridSearchCV\n",
    "\n",
    "# jupyter notebook full-width display\n",
    "from IPython.core.display import display, HTML\n",
    "display(HTML(\"<style>.container { width:100% !important; }</style>\"))\n",
    "\n",
    "# pandas formatting\n",
    "pd.set_option('display.float_format', '{:.3f}'.format)\n",
    "pd.set_option('display.max_columns', None)\n",
    "pd.set_option('display.max_rows', 200)"
   ]
  },
  {
   "cell_type": "code",
   "execution_count": 4,
   "id": "54f98209",
   "metadata": {},
   "outputs": [],
   "source": [
    "# import data \n",
    "# all songs with audio features\n",
    "df_10M = pd.read_pickle('df_10M.pickle')"
   ]
  },
  {
   "cell_type": "markdown",
   "id": "52c4e205",
   "metadata": {},
   "source": [
    "### PIPELINE OUTLINE\n",
    "\n",
    "* remove outliers\n",
    "    * sets that aren't music\n",
    "    * by inspection using songs less than 1min or more than 10min (+ more extreme)\n",
    "* OPTIONAL: encode \n",
    "    * alt: drop when clustering\n",
    "* transform data using min max scaler\n",
    "* cluster based on AF (not genre)\n",
    "    * optimise based on silhouette \n",
    "* examine clusters by inspecting genres and popularity"
   ]
  },
  {
   "cell_type": "markdown",
   "id": "341fadcd",
   "metadata": {},
   "source": [
    "### OUTLIERS"
   ]
  },
  {
   "cell_type": "code",
   "execution_count": 5,
   "id": "094d65dd",
   "metadata": {},
   "outputs": [
    {
     "name": "stdout",
     "output_type": "stream",
     "text": [
      "Wall time: 4.15 s\n"
     ]
    }
   ],
   "source": [
    "%%time\n",
    "# REMOVE OUTLIERS\n",
    "# based on details in outlier analysis\n",
    "\n",
    "# add cluster column to df_10M and add 'outliers' as a cluster\n",
    "df_10M['cluster'] = pd.NA\n",
    "\n",
    "# extrema to exclude (domain knowledge + inspection of percentiles)\n",
    "dur_min = df_10M.duration_ms < 60_000\n",
    "dur_max = df_10M.duration_ms > 600_000\n",
    "val_0 = df_10M.valence == 0\n",
    "sp_min = df_10M.speechiness > 0.947000\n",
    "tempo_0 = df_10M.tempo == 0\n",
    "loud_min = df_10M.loudness < -34.668999\n",
    "dance_min = df_10M.danceability < 0.064400\n",
    "\n",
    "df_10M.loc[(dur_min | dur_max | val_0 | sp_min | tempo_0 | loud_min | dance_min), 'cluster'] = 'outlier'\n",
    "\n",
    "# genres that aren't music\n",
    "genres_to_exclude = set([\n",
    "    'sleep', 'football', 'halloween', 'birthday', 'lullaby', 'ringtone', 'fan chant',\n",
    "    'sound effects', 'spoken word', 'bible', 'prank', 'wrestling', 'language', 'oratory',\n",
    "    'erotica', 'tone', 'vintage radio show', 'sound', 'quran', 'islamic recitation',\n",
    "    'reading', 'asmr', 'mindfulness', 'meditation', 'guided meditation', 'workout product',\n",
    "    'theme', 'environmental', 'motivation'    \n",
    "])\n",
    "\n",
    "df_10M.loc[df_10M.genre.isin(genres_to_exclude), 'cluster'] = 'outlier'\n",
    "\n",
    "# create a feature set to cluster on\n",
    "X = df_10M[df_10M.cluster != 'outlier'].reset_index(drop=True)"
   ]
  },
  {
   "cell_type": "code",
   "execution_count": 6,
   "id": "f698cd0e",
   "metadata": {},
   "outputs": [
    {
     "data": {
      "text/plain": [
       "(8827719, 6.404280009393792)"
      ]
     },
     "execution_count": 6,
     "metadata": {},
     "output_type": "execute_result"
    }
   ],
   "source": [
    "# 6% of data dropped as outliers\n",
    "X.shape[0], (1 - X.shape[0] / df_10M.shape[0])*100"
   ]
  },
  {
   "cell_type": "markdown",
   "id": "f92b20ea",
   "metadata": {},
   "source": [
    "### DROP AND ENCODE COLUMNS"
   ]
  },
  {
   "cell_type": "code",
   "execution_count": 7,
   "id": "481edb8f",
   "metadata": {},
   "outputs": [],
   "source": [
    "# encode and/or drop columns\n",
    "drop_columns = ['song', 'artist', 'genre', 'release_date', 'cluster', 'in_B100']\n",
    "encode_columns = ['key', 'mode', 'time_signature']\n",
    "X = X.drop(drop_columns, axis=1).drop(encode_columns, axis=1).set_index('id')"
   ]
  },
  {
   "cell_type": "markdown",
   "id": "0de29726",
   "metadata": {},
   "source": [
    "### TRANSFORM DATA"
   ]
  },
  {
   "cell_type": "code",
   "execution_count": 8,
   "id": "d80bc2cd",
   "metadata": {},
   "outputs": [],
   "source": [
    "## transform data to range from 0 to 1\n",
    "attributes_to_transform = ['duration_ms', 'loudness', 'tempo']\n",
    "\n",
    "for attribute in attributes_to_transform:\n",
    "    X[attribute] = (X[attribute] - X[attribute].min()) / (X[attribute].max() - X[attribute].min())"
   ]
  },
  {
   "cell_type": "code",
   "execution_count": null,
   "id": "9fb9f8bd",
   "metadata": {},
   "outputs": [],
   "source": [
    "# X.to_pickle('X_precluster.pickle')"
   ]
  },
  {
   "cell_type": "markdown",
   "id": "8f17e23b",
   "metadata": {},
   "source": [
    "### CLUSTER DATA"
   ]
  },
  {
   "cell_type": "code",
   "execution_count": 14,
   "id": "15131e9e",
   "metadata": {},
   "outputs": [],
   "source": [
    "# https://scikit-learn.org/stable/modules/clustering.html#mini-batch-kmeans"
   ]
  },
  {
   "cell_type": "markdown",
   "id": "d645f137",
   "metadata": {},
   "source": [
    "##### Silhouette Method"
   ]
  },
  {
   "cell_type": "code",
   "execution_count": 15,
   "id": "3fc9f0e2",
   "metadata": {},
   "outputs": [
    {
     "name": "stdout",
     "output_type": "stream",
     "text": [
      "Wall time: 27.8 s\n"
     ]
    }
   ],
   "source": [
    "%%time\n",
    "kmeans = KMeans(3).fit(X)"
   ]
  },
  {
   "cell_type": "code",
   "execution_count": 20,
   "id": "5dd51105",
   "metadata": {},
   "outputs": [
    {
     "name": "stdout",
     "output_type": "stream",
     "text": [
      "Wall time: 81.8 ms\n"
     ]
    },
    {
     "name": "stderr",
     "output_type": "stream",
     "text": [
      "C:\\Users\\Kevin\\anaconda3\\lib\\site-packages\\sklearn\\cluster\\_kmeans.py:1334: UserWarning: KMeans is known to have a memory leak on Windows with MKL, when there are less chunks than available threads. You can avoid it by setting the environment variable OMP_NUM_THREADS=4.\n",
      "  warnings.warn(\n"
     ]
    }
   ],
   "source": [
    "%%time\n",
    "kmeans = KMeans(3).fit(X.head(1000))\n",
    "score = silhouette_score(X.head(1000), kmeans.labels_)"
   ]
  },
  {
   "cell_type": "code",
   "execution_count": 19,
   "id": "a5e56a68",
   "metadata": {},
   "outputs": [
    {
     "name": "stdout",
     "output_type": "stream",
     "text": [
      "Wall time: 1.54 s\n"
     ]
    }
   ],
   "source": [
    "%%time\n",
    "kmeans = KMeans(3).fit(X.head(10000))\n",
    "score = silhouette_score(X.head(10000), kmeans.labels_)"
   ]
  },
  {
   "cell_type": "code",
   "execution_count": 18,
   "id": "bd674e9a",
   "metadata": {},
   "outputs": [
    {
     "name": "stdout",
     "output_type": "stream",
     "text": [
      "Wall time: 1min 46s\n"
     ]
    }
   ],
   "source": [
    "%%time\n",
    "kmeans = KMeans(3).fit(X.head(100000))\n",
    "score = silhouette_score(X.head(100000), kmeans.labels_)"
   ]
  },
  {
   "attachments": {
    "image.png": {
     "image/png": "[encoded data removed]"
    }
   },
   "cell_type": "markdown",
   "id": "605f37f6",
   "metadata": {},
   "source": [
    "##### definitely can't do silhouette score as is, need sampling\n",
    "![image.png](attachment:image.png)"
   ]
  },
  {
   "cell_type": "code",
   "execution_count": 24,
   "id": "94d53c5b",
   "metadata": {},
   "outputs": [
    {
     "name": "stdout",
     "output_type": "stream",
     "text": [
      "Wall time: 26.4 s\n"
     ]
    }
   ],
   "source": [
    "%%time\n",
    "# can restrict it to approximately 1 minute per score using sample_size=100000\n",
    "kmeans = KMeans(3).fit(X.head(100000))\n",
    "score = silhouette_score(X.head(100000), kmeans.labels_, sample_size=50_000)"
   ]
  },
  {
   "cell_type": "code",
   "execution_count": 25,
   "id": "75b03452",
   "metadata": {},
   "outputs": [
    {
     "name": "stdout",
     "output_type": "stream",
     "text": [
      "Wall time: 52.8 s\n"
     ]
    }
   ],
   "source": [
    "%%time\n",
    "# can restrict it to approximately 1 minute per score using sample_size=100000\n",
    "kmeans = KMeans(3).fit(X)\n",
    "score = silhouette_score(X, kmeans.labels_, sample_size=50_000)"
   ]
  },
  {
   "cell_type": "code",
   "execution_count": null,
   "id": "4b899cac",
   "metadata": {},
   "outputs": [],
   "source": []
  },
  {
   "cell_type": "code",
   "execution_count": null,
   "id": "fae0d9ce",
   "metadata": {},
   "outputs": [],
   "source": []
  },
  {
   "cell_type": "code",
   "execution_count": 26,
   "id": "5de18703",
   "metadata": {},
   "outputs": [
    {
     "name": "stdout",
     "output_type": "stream",
     "text": [
      "Wall time: 13min 27s\n"
     ]
    },
    {
     "data": {
      "text/plain": [
       "{3: 0.2821724751018356,\n",
       " 4: 0.2939383278460177,\n",
       " 5: 0.23304552754496116,\n",
       " 6: 0.2176436030028089,\n",
       " 8: 0.2096411079563615,\n",
       " 10: 0.20141793272826253,\n",
       " 15: 0.16660631033595052,\n",
       " 20: 0.14102224497793467}"
      ]
     },
     "execution_count": 26,
     "metadata": {},
     "output_type": "execute_result"
    }
   ],
   "source": [
    "%%time\n",
    "# time per n: \n",
    "\n",
    "# setup\n",
    "n_clusters = [3, 4, 5, 6, 8, 10, 15, 20]\n",
    "results = {}\n",
    "\n",
    "# loop\n",
    "for n in n_clusters:\n",
    "    kmeans = KMeans(n).fit(X)\n",
    "    score = silhouette_score(X, kmeans.labels_, sample_size=50_000)\n",
    "    results[n] = score\n",
    "\n",
    "# display results\n",
    "results"
   ]
  },
  {
   "cell_type": "code",
   "execution_count": 27,
   "id": "7772586d",
   "metadata": {},
   "outputs": [
    {
     "name": "stdout",
     "output_type": "stream",
     "text": [
      "Wall time: 1h 1min 21s\n"
     ]
    },
    {
     "data": {
      "text/plain": [
       "{3: 0.28418687162139655,\n",
       " 4: 0.2937472857044909,\n",
       " 5: 0.23345142491189227,\n",
       " 6: 0.21839763822682923,\n",
       " 8: 0.20987825401326532,\n",
       " 10: 0.19002569873477773,\n",
       " 15: 0.1640299274836951,\n",
       " 20: 0.15314680377584255}"
      ]
     },
     "execution_count": 27,
     "metadata": {},
     "output_type": "execute_result"
    }
   ],
   "source": [
    "%%time\n",
    "# time per n: \n",
    "\n",
    "# setup\n",
    "n_clusters = [3, 4, 5, 6, 8, 10, 15, 20]\n",
    "sample_size = 200_000\n",
    "results = {}\n",
    "\n",
    "# loop\n",
    "for n in n_clusters:\n",
    "    kmeans = KMeans(n).fit(X)\n",
    "    score = silhouette_score(X, kmeans.labels_, sample_size=sample_size)\n",
    "    results[n] = score\n",
    "\n",
    "# display results\n",
    "results"
   ]
  },
  {
   "cell_type": "code",
   "execution_count": null,
   "id": "4963ef95",
   "metadata": {},
   "outputs": [],
   "source": [
    "# looks like very similar results\n",
    "# k = 4 is optimal using the silhouette method"
   ]
  },
  {
   "cell_type": "markdown",
   "id": "4caa9323",
   "metadata": {},
   "source": [
    "##### Elbow Method"
   ]
  },
  {
   "cell_type": "code",
   "execution_count": null,
   "id": "165357f3",
   "metadata": {},
   "outputs": [],
   "source": []
  },
  {
   "cell_type": "code",
   "execution_count": null,
   "id": "21b20bc5",
   "metadata": {},
   "outputs": [],
   "source": []
  },
  {
   "cell_type": "code",
   "execution_count": null,
   "id": "7f1d0f37",
   "metadata": {},
   "outputs": [],
   "source": [
    "## examine performance by inspecting genres and popularity\n",
    "\n"
   ]
  },
  {
   "cell_type": "code",
   "execution_count": null,
   "id": "d85fdc63",
   "metadata": {},
   "outputs": [],
   "source": []
  }
 ],
 "metadata": {
  "kernelspec": {
   "display_name": "Python 3 (ipykernel)",
   "language": "python",
   "name": "python3"
  },
  "language_info": {
   "codemirror_mode": {
    "name": "ipython",
    "version": 3
   },
   "file_extension": ".py",
   "mimetype": "text/x-python",
   "name": "python",
   "nbconvert_exporter": "python",
   "pygments_lexer": "ipython3",
   "version": "3.9.7"
  }
 },
 "nbformat": 4,
 "nbformat_minor": 5
}
