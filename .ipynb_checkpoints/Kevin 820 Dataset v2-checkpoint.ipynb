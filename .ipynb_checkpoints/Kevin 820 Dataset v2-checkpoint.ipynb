{
 "cells": [
  {
   "cell_type": "markdown",
   "id": "2cc4646d",
   "metadata": {},
   "source": [
    "### Import Modules"
   ]
  },
  {
   "cell_type": "code",
   "execution_count": 98,
   "id": "b92fb833",
   "metadata": {},
   "outputs": [
    {
     "data": {
      "text/html": [
       "<style>.container { width:100% !important; }</style>"
      ],
      "text/plain": [
       "<IPython.core.display.HTML object>"
      ]
     },
     "metadata": {},
     "output_type": "display_data"
    }
   ],
   "source": [
    "# import modules\n",
    "import pandas as pd\n",
    "import numpy as np\n",
    "import spotipy\n",
    "\n",
    "# jupyter notebook full-width display\n",
    "from IPython.core.display import display, HTML\n",
    "display(HTML(\"<style>.container { width:100% !important; }</style>\"))\n",
    "\n",
    "# pandas formatting\n",
    "pd.set_option('display.float_format', '{:_.0f}'.format)\n",
    "# NOTE: underscore separaters ('_') are better than commas (',') because \n",
    "# numbers with underscores work in Python without any extra effort.\n",
    "pd.set_option('display.max_columns', None)\n",
    "pd.set_option('display.max_rows', 200)"
   ]
  },
  {
   "cell_type": "markdown",
   "id": "f6c8526b",
   "metadata": {},
   "source": [
    "### The Billboard 100\n",
    "https://www.kaggle.com/datasets/dhruvildave/billboard-the-hot-100-songs"
   ]
  },
  {
   "cell_type": "code",
   "execution_count": 2,
   "id": "c5a90136",
   "metadata": {},
   "outputs": [
    {
     "data": {
      "text/plain": [
       "((330087, 7), (29681, 4))"
      ]
     },
     "execution_count": 2,
     "metadata": {},
     "output_type": "execute_result"
    }
   ],
   "source": [
    "# Billboard Top 100 Historical Data\n",
    "# via:  https://toolbox.google.com/datasetsearch\n",
    "url_billboard = r'D:\\RYERSON\\820\\Datasets\\Billboard The Hot 100 Songs\\charts.csv'\n",
    "\n",
    "df_billboard = pd.read_csv(url_billboard)\n",
    "df_billboard['date'] = pd.to_datetime(df_billboard['date'])\n",
    "\n",
    "# Unique Songs from The Billboard 100 Dataset\n",
    "\n",
    "# just the songs on the billboard 100, once per song\n",
    "df_billboard_songs = df_billboard[['song', 'artist']].drop_duplicates().sort_values(['artist', 'song']).reset_index(drop=True)\n",
    "\n",
    "# add a blank id column and a blank MISSING column \n",
    "df_billboard_songs['id'] = ''\n",
    "df_billboard_songs['MISSING'] = ''\n",
    "\n",
    "df_billboard.shape, df_billboard_songs.shape"
   ]
  },
  {
   "cell_type": "markdown",
   "id": "2e30aa88",
   "metadata": {},
   "source": [
    "### 1.2M Songs with Metadata (csv)\n",
    "https://www.kaggle.com/datasets/rodolfofigueroa/spotify-12m-songs"
   ]
  },
  {
   "cell_type": "code",
   "execution_count": 3,
   "id": "87b1cea3",
   "metadata": {},
   "outputs": [],
   "source": [
    "# Spotify 1.2M+ Songs\n",
    "# via:  https://www.kaggle.com/datasets/\n",
    "url_1M_songs = r'D:\\RYERSON\\820\\Datasets\\Spotify 1.2M+ Songs\\tracks_features.csv'\n",
    "\n",
    "# create the dataframe with the large number of songs metadata\n",
    "df_1M_songs = pd.read_csv(url_1M_songs)\n",
    "\n",
    "# make a list of song ids from the 1M dataset\n",
    "metadata_ids_csv = df_1M_songs.id.to_list()"
   ]
  },
  {
   "cell_type": "markdown",
   "id": "d647687c",
   "metadata": {},
   "source": [
    "### 8.7M Songs with Metadata (SQL)"
   ]
  },
  {
   "cell_type": "code",
   "execution_count": 4,
   "id": "bc5b3071",
   "metadata": {},
   "outputs": [],
   "source": [
    "# all ids from the SQLite database\n",
    "metadata_ids_SQL = pd.read_csv('all_ids_sql.csv', header=None, names=['id'])\n",
    "metadata_ids_SQL = metadata_ids_SQL.id.to_list()\n",
    "\n",
    "# audio feature data not imported yet (very large)"
   ]
  },
  {
   "cell_type": "markdown",
   "id": "0890645d",
   "metadata": {},
   "source": [
    "### Combine Ids For Datasets with Metadata"
   ]
  },
  {
   "cell_type": "code",
   "execution_count": 5,
   "id": "ba335356",
   "metadata": {},
   "outputs": [
    {
     "data": {
      "text/plain": [
       "9592981"
      ]
     },
     "execution_count": 5,
     "metadata": {},
     "output_type": "execute_result"
    }
   ],
   "source": [
    "all_metadata_ids = set(metadata_ids_csv + metadata_ids_SQL) # set() faster to search, and no duplicates\n",
    "len(all_metadata_ids)"
   ]
  },
  {
   "cell_type": "markdown",
   "id": "e7b3b605",
   "metadata": {},
   "source": [
    "### Get Track IDs using API"
   ]
  },
  {
   "cell_type": "markdown",
   "id": "79ea6389",
   "metadata": {},
   "source": [
    "### TEMPORARY TOKEN WORKFLOW\n",
    "\n",
    "##### get a temporary authorization token from: https://developer.spotify.com/console/get-search-item"
   ]
  },
  {
   "cell_type": "code",
   "execution_count": 6,
   "id": "418a133f",
   "metadata": {},
   "outputs": [
    {
     "name": "stdout",
     "output_type": "stream",
     "text": [
      "Enter token: BQDmmPusHl5G46Nv_X_jhw6bspvKSoFDn1UySHQxIeRDx37yp6PwDhgZ3GCz37wMdyfe4BFvYmFynTGjdgDzvB8EbP5M99tm_ZOBdfFgn4UIAyGRQYwTYhKrpi9Db0aX-keyb3XCZI53l3b12DgnN2iwlEUG_VYD_cMNPTGr2Scw\n"
     ]
    }
   ],
   "source": [
    "# input the temporary token\n",
    "TEMP_TOKEN = input('Enter token: ')\n",
    "\n",
    "# create a spotify object\n",
    "spotify = spotipy.Spotify(auth=TEMP_TOKEN)"
   ]
  },
  {
   "cell_type": "code",
   "execution_count": 62,
   "id": "f8d8d6bf",
   "metadata": {},
   "outputs": [],
   "source": [
    "# helper function\n",
    "def find_id(track_title, artist_name, metadata_ids):\n",
    "    \"\"\" \n",
    "    for searches with multiple results, all id were identical for the test cases I ran \n",
    "    some searches return no results, in this case the song is not on spotify\n",
    "        confirmed by spot checks in the spotify music player\n",
    "    some tracks give a 404 error, \n",
    "        these seem to exist in Spotify but 404 anyway\n",
    "        not sure why the API does this but \n",
    "    \"\"\"\n",
    "    track_info = spotify.search(q='artist:' + artist_name + ' track:' + track_title, type='track')\n",
    "    \n",
    "    if track_info['tracks']['items'] == []:  # if track doesn't exist on Spotify\n",
    "        return '', 'MISSING'\n",
    "    else:\n",
    "        # default to 0th id\n",
    "        track_id = track_info['tracks']['items'][0]['id']\n",
    "        \n",
    "        number_of_results = len(track_info['tracks']['items'])\n",
    "        \n",
    "        # check if there is a better match\n",
    "        for i in range(number_of_results):\n",
    "            current_id = track_info['tracks']['items'][i]['id']\n",
    "            if current_id in metadata_ids:\n",
    "                return current_id, 'matched'  # immediately return it if it's found\n",
    "        \n",
    "        # if we made it through the loop without returning, note 'MISSING' and return the 0th id\n",
    "        return track_id, 'MISSING'"
   ]
  },
  {
   "cell_type": "code",
   "execution_count": 63,
   "id": "f8f39645",
   "metadata": {},
   "outputs": [
    {
     "name": "stdout",
     "output_type": "stream",
     "text": [
      "Wall time: 304 ms\n"
     ]
    },
    {
     "data": {
      "text/plain": [
       "('7CfCUjAZFndcpAWLogl9J3', 'matched')"
      ]
     },
     "execution_count": 63,
     "metadata": {},
     "output_type": "execute_result"
    }
   ],
   "source": [
    "%%time\n",
    "# TEST\n",
    "find_id(\"You Can't Turn Me Off (In The Middle Of Turning Me On)\", 'High Inergy', all_metadata_ids)"
   ]
  },
  {
   "cell_type": "code",
   "execution_count": 65,
   "id": "fcca243f",
   "metadata": {},
   "outputs": [
    {
     "data": {
      "text/plain": [
       "('', 'MISSING')"
      ]
     },
     "execution_count": 65,
     "metadata": {},
     "output_type": "execute_result"
    }
   ],
   "source": [
    "# TEST\n",
    "find_id(\"You Can't Find this (SONG)\", 'Low Unergy', all_metadata_ids)"
   ]
  },
  {
   "cell_type": "markdown",
   "id": "3432b777",
   "metadata": {},
   "source": [
    "### Add Spotify IDs to billboard songs matched in the datasets"
   ]
  },
  {
   "cell_type": "code",
   "execution_count": 192,
   "id": "42dfe9c3",
   "metadata": {},
   "outputs": [
    {
     "data": {
      "text/plain": [
       "22274"
      ]
     },
     "execution_count": 192,
     "metadata": {},
     "output_type": "execute_result"
    }
   ],
   "source": [
    "# load saved csv if required\n",
    "df_billboard_songs = pd.read_csv('df_billboard_songs.csv', keep_default_na=False)\n",
    "df_billboard_songs.id.nunique()"
   ]
  },
  {
   "cell_type": "code",
   "execution_count": 10,
   "id": "46839b4e",
   "metadata": {
    "collapsed": true
   },
   "outputs": [
    {
     "name": "stdout",
     "output_type": "stream",
     "text": [
      "19060  19070  19080  19090  19100  \n"
     ]
    },
    {
     "name": "stderr",
     "output_type": "stream",
     "text": [
      "HTTP Error for GET to https://api.spotify.com/v1/search with Params: {'q': 'artist:P. Diddy & Ginuwine Featuring Loon, Mario Winans & Tammy Ruggeri track:I Need A Girl (Part Two)', 'limit': 10, 'offset': 0, 'type': 'track', 'market': None} returned 404 due to Not found.\n"
     ]
    },
    {
     "name": "stdout",
     "output_type": "stream",
     "text": [
      "ERROR:   P. Diddy & Ginuwine Featuring Loon, Mario Winans & Tammy Ruggeri I Need A Girl (Part Two)\n",
      "19110  19120  19130  19140  19150  19160  19170  19180  19190  19200  \n",
      "19210  19220  19230  19240  19250  19260  19270  19280  19290  19300  \n",
      "19310  19320  19330  19340  19350  19360  19370  19380  19390  19400  \n",
      "19410  19420  19430  19440  19450  19460  19470  19480  19490  19500  \n",
      "19510  19520  19530  19540  19550  19560  19570  19580  19590  19600  \n",
      "19610  19620  19630  19640  19650  19660  19670  "
     ]
    },
    {
     "name": "stderr",
     "output_type": "stream",
     "text": [
      "HTTP Error for GET to https://api.spotify.com/v1/search with Params: {'q': \"artist:Perry Como And The Fontane Sisters With Mitchell Ayres And His Orchestra track:It's Beginning To Look A Lot Like Christmas\", 'limit': 10, 'offset': 0, 'type': 'track', 'market': None} returned 404 due to Not found.\n"
     ]
    },
    {
     "name": "stdout",
     "output_type": "stream",
     "text": [
      "ERROR:   Perry Como And The Fontane Sisters With Mitchell Ayres And His Orchestra It's Beginning To Look A Lot Like Christmas\n",
      "19680  19690  19700  \n",
      "19710  19720  19730  19740  19750  19760  19770  19780  19790  19800  \n",
      "19810  19820  19830  19840  19850  19860  19870  19880  19890  19900  \n",
      "19910  "
     ]
    },
    {
     "name": "stderr",
     "output_type": "stream",
     "text": [
      "HTTP Error for GET to https://api.spotify.com/v1/search with Params: {'q': 'artist:Pitbull Featuring Jennifer Lopez & Claudia Leitte track:We Are One (Ole Ola) [The 2014 FIFA World Cup Official Song]', 'limit': 10, 'offset': 0, 'type': 'track', 'market': None} returned 404 due to Not found.\n"
     ]
    },
    {
     "name": "stdout",
     "output_type": "stream",
     "text": [
      "ERROR:   Pitbull Featuring Jennifer Lopez & Claudia Leitte We Are One (Ole Ola) [The 2014 FIFA World Cup Official Song]\n",
      "19920  19930  19940  19950  19960  19970  19980  19990  20000  \n",
      "20010  20020  20030  20040  20050  20060  20070  20080  20090  20100  \n",
      "20110  20120  "
     ]
    },
    {
     "name": "stderr",
     "output_type": "stream",
     "text": [
      "HTTP Error for GET to https://api.spotify.com/v1/search with Params: {'q': \"artist:Pras Michel Feat. Ol' Dirty Bastard & Introducing Mya track:Ghetto Supastar (That Is What You Are)\", 'limit': 10, 'offset': 0, 'type': 'track', 'market': None} returned 404 due to Not found.\n"
     ]
    },
    {
     "name": "stdout",
     "output_type": "stream",
     "text": [
      "ERROR:   Pras Michel Feat. Ol' Dirty Bastard & Introducing Mya Ghetto Supastar (That Is What You Are)\n",
      "20130  20140  20150  20160  20170  20180  20190  20200  \n",
      "20210  20220  20230  20240  20250  20260  20270  20280  20290  20300  \n",
      "20310  20320  20330  20340  20350  20360  20370  20380  20390  20400  \n",
      "20410  20420  20430  20440  "
     ]
    },
    {
     "name": "stderr",
     "output_type": "stream",
     "text": [
      "HTTP Error for GET to https://api.spotify.com/v1/search with Params: {'q': 'artist:RZA Feat. Method Man & Cappadonna track:Wu-Wear: The Garment Renaissance (From \"High School High\")', 'limit': 10, 'offset': 0, 'type': 'track', 'market': None} returned 404 due to Not found.\n"
     ]
    },
    {
     "name": "stdout",
     "output_type": "stream",
     "text": [
      "ERROR:   RZA Feat. Method Man & Cappadonna Wu-Wear: The Garment Renaissance (From \"High School High\")\n",
      "20450  20460  20470  20480  20490  20500  \n",
      "20510  20520  20530  20540  20550  20560  20570  20580  20590  20600  \n",
      "20610  20620  20630  20640  20650  20660  20670  20680  20690  20700  \n",
      "20710  20720  20730  20740  20750  20760  20770  20780  20790  20800  \n",
      "20810  20820  20830  20840  20850  20860  20870  20880  20890  20900  \n",
      "20910  20920  20930  20940  20950  20960  20970  20980  20990  21000  \n",
      "21010  21020  21030  21040  21050  21060  21070  21080  21090  21100  \n",
      "21110  21120  21130  21140  21150  21160  21170  21180  21190  21200  \n",
      "21210  21220  21230  21240  21250  21260  21270  21280  21290  21300  \n",
      "21310  21320  21330  21340  21350  21360  21370  21380  21390  21400  \n",
      "21410  21420  21430  21440  21450  21460  21470  21480  21490  21500  \n",
      "21510  21520  21530  21540  21550  21560  21570  21580  21590  21600  \n",
      "21610  21620  21630  21640  21650  21660  21670  21680  21690  21700  \n",
      "21710  21720  21730  21740  21750  21760  21770  21780  21790  21800  \n",
      "21810  21820  21830  21840  21850  21860  21870  21880  21890  21900  \n",
      "21910  21920  21930  21940  21950  21960  21970  21980  21990  22000  \n",
      "22010  22020  22030  22040  22050  22060  22070  22080  22090  22100  \n",
      "22110  22120  22130  22140  22150  22160  22170  22180  22190  22200  \n",
      "22210  22220  22230  "
     ]
    },
    {
     "name": "stderr",
     "output_type": "stream",
     "text": [
      "HTTP Error for GET to https://api.spotify.com/v1/search with Params: {'q': 'artist:Shabba Ranks Featuring Patra And Terri & Monica track:Family Affair (From \"Addams Family Values\")', 'limit': 10, 'offset': 0, 'type': 'track', 'market': None} returned 404 due to Not found.\n"
     ]
    },
    {
     "name": "stdout",
     "output_type": "stream",
     "text": [
      "ERROR:   Shabba Ranks Featuring Patra And Terri & Monica Family Affair (From \"Addams Family Values\")\n",
      "22240  22250  22260  22270  22280  22290  22300  \n",
      "22310  22320  22330  22340  22350  22360  22370  22380  22390  22400  \n",
      "22410  22420  22430  22440  22450  22460  22470  22480  "
     ]
    },
    {
     "name": "stderr",
     "output_type": "stream",
     "text": [
      "HTTP Error for GET to https://api.spotify.com/v1/search with Params: {'q': \"artist:Silkk The Shocker Featuring Master P, Destiny's Child, O'Dell, Mo track:Just Be Straight With Me\", 'limit': 10, 'offset': 0, 'type': 'track', 'market': None} returned 404 due to Not found.\n"
     ]
    },
    {
     "name": "stdout",
     "output_type": "stream",
     "text": [
      "ERROR:   Silkk The Shocker Featuring Master P, Destiny's Child, O'Dell, Mo Just Be Straight With Me\n",
      "22490  22500  \n",
      "22510  22520  22530  22540  22550  22560  22570  22580  22590  22600  \n",
      "22610  22620  22630  22640  22650  22660  22670  22680  22690  22700  \n",
      "22710  22720  22730  22740  22750  22760  22770  22780  22790  22800  \n",
      "22810  22820  22830  22840  22850  22860  22870  22880  22890  22900  \n",
      "22910  22920  22930  22940  22950  22960  22970  22980  22990  23000  \n",
      "23010  23020  23030  23040  23050  23060  23070  23080  23090  "
     ]
    },
    {
     "name": "stderr",
     "output_type": "stream",
     "text": [
      "HTTP Error for GET to https://api.spotify.com/v1/search with Params: {'q': 'artist:Steve Allen and His Orchestra with The Copacabana Trio track:Cuando Calienta El Sol (When The Sun Is Hot)', 'limit': 10, 'offset': 0, 'type': 'track', 'market': None} returned 404 due to Not found.\n"
     ]
    },
    {
     "name": "stdout",
     "output_type": "stream",
     "text": [
      "23100  \n",
      "ERROR:   Steve Allen and His Orchestra with The Copacabana Trio Cuando Calienta El Sol (When The Sun Is Hot)\n",
      "23110  23120  23130  23140  23150  23160  23170  23180  23190  23200  \n",
      "23210  23220  23230  23240  23250  23260  23270  23280  23290  23300  \n",
      "23310  23320  23330  23340  23350  23360  23370  23380  23390  23400  \n",
      "23410  23420  23430  23440  23450  23460  23470  23480  23490  23500  \n",
      "23510  23520  23530  23540  23550  23560  23570  23580  23590  23600  \n",
      "23610  23620  23630  "
     ]
    },
    {
     "name": "stderr",
     "output_type": "stream",
     "text": [
      "HTTP Error for GET to https://api.spotify.com/v1/search with Params: {'q': \"artist:Talking Heads track:Life During Wartime (This Ain't No Party...This Ain't No Disco...This Ain't\", 'limit': 10, 'offset': 0, 'type': 'track', 'market': None} returned 404 due to Not found.\n"
     ]
    },
    {
     "name": "stdout",
     "output_type": "stream",
     "text": [
      "ERROR:   Talking Heads Life During Wartime (This Ain't No Party...This Ain't No Disco...This Ain't\n",
      "23640  23650  23660  23670  23680  23690  23700  \n",
      "23710  23720  23730  23740  23750  23760  23770  23780  23790  23800  \n",
      "23810  23820  23830  23840  23850  23860  23870  23880  23890  23900  \n",
      "23910  23920  23930  23940  23950  23960  23970  23980  23990  24000  \n",
      "24010  24020  24030  24040  24050  24060  24070  24080  24090  24100  \n",
      "24110  24120  24130  24140  24150  24160  24170  24180  24190  24200  \n",
      "24210  24220  24230  24240  24250  "
     ]
    },
    {
     "name": "stderr",
     "output_type": "stream",
     "text": [
      "HTTP Error for GET to https://api.spotify.com/v1/search with Params: {'q': 'artist:The Barden Bellas, The Treblemakers & The BU Harmonics track:Riff Off: Mickey / Like A Virgin / Hit Me With Your Best Shot...', 'limit': 10, 'offset': 0, 'type': 'track', 'market': None} returned 404 due to Not found.\n"
     ]
    },
    {
     "name": "stdout",
     "output_type": "stream",
     "text": [
      "24260  ERROR:   The Barden Bellas, The Treblemakers & The BU Harmonics Riff Off: Mickey / Like A Virgin / Hit Me With Your Best Shot...\n",
      "24270  24280  24290  24300  \n",
      "24310  24320  24330  24340  24350  24360  24370  24380  24390  24400  \n",
      "24410  24420  24430  24440  24450  24460  24470  24480  24490  24500  \n",
      "24510  24520  24530  24540  24550  24560  24570  24580  24590  24600  \n",
      "24610  24620  24630  24640  24650  24660  24670  "
     ]
    },
    {
     "name": "stderr",
     "output_type": "stream",
     "text": [
      "HTTP Error for GET to https://api.spotify.com/v1/search with Params: {'q': 'artist:The Chi-lites track:There Will Never Be Any Peace (Until God Is Seated At The Conference Table)', 'limit': 10, 'offset': 0, 'type': 'track', 'market': None} returned 404 due to Not found.\n"
     ]
    },
    {
     "name": "stdout",
     "output_type": "stream",
     "text": [
      "ERROR:   The Chi-lites There Will Never Be Any Peace (Until God Is Seated At The Conference Table)\n",
      "24680  24690  24700  \n",
      "24710  24720  24730  24740  24750  24760  24770  24780  24790  24800  \n",
      "24810  24820  24830  24840  24850  24860  24870  24880  24890  24900  \n",
      "24910  24920  24930  24940  24950  24960  24970  24980  24990  25000  \n",
      "25010  25020  25030  25040  25050  25060  25070  25080  25090  25100  \n",
      "25110  25120  25130  25140  25150  25160  25170  25180  25190  25200  \n",
      "25210  25220  25230  25240  25250  25260  25270  25280  25290  25300  \n",
      "25310  25320  25330  25340  25350  25360  25370  25380  25390  25400  \n",
      "25410  25420  25430  25440  25450  25460  25470  25480  25490  25500  \n",
      "25510  25520  25530  25540  25550  25560  25570  25580  25590  25600  \n",
      "25610  25620  25630  25640  25650  25660  25670  25680  25690  25700  \n",
      "25710  25720  25730  25740  25750  25760  25770  25780  25790  25800  \n",
      "25810  25820  25830  25840  25850  25860  25870  25880  25890  25900  \n",
      "25910  25920  25930  25940  25950  25960  25970  25980  25990  26000  \n",
      "26010  26020  26030  26040  26050  26060  26070  26080  26090  26100  \n",
      "26110  26120  26130  26140  26150  26160  26170  26180  26190  26200  \n",
      "26210  26220  26230  26240  26250  26260  26270  26280  26290  26300  \n",
      "26310  26320  26330  26340  26350  26360  "
     ]
    },
    {
     "name": "stderr",
     "output_type": "stream",
     "text": [
      "HTTP Error for GET to https://api.spotify.com/v1/search with Params: {'q': 'artist:The Partridge Family Starring Shirley Jones Featuring David Cassidy track:Breaking Up Is Hard To Do', 'limit': 10, 'offset': 0, 'type': 'track', 'market': None} returned 404 due to Not found.\n",
      "HTTP Error for GET to https://api.spotify.com/v1/search with Params: {'q': \"artist:The Partridge Family Starring Shirley Jones Featuring David Cassidy track:Doesn't Somebody Want To Be Wanted\", 'limit': 10, 'offset': 0, 'type': 'track', 'market': None} returned 404 due to Not found.\n"
     ]
    },
    {
     "name": "stdout",
     "output_type": "stream",
     "text": [
      "ERROR:   The Partridge Family Starring Shirley Jones Featuring David Cassidy Breaking Up Is Hard To Do\n",
      "ERROR:   The Partridge Family Starring Shirley Jones Featuring David Cassidy Doesn't Somebody Want To Be Wanted\n"
     ]
    },
    {
     "name": "stderr",
     "output_type": "stream",
     "text": [
      "HTTP Error for GET to https://api.spotify.com/v1/search with Params: {'q': 'artist:The Partridge Family Starring Shirley Jones Featuring David Cassidy track:I Woke Up In Love This Morning', 'limit': 10, 'offset': 0, 'type': 'track', 'market': None} returned 404 due to Not found.\n",
      "HTTP Error for GET to https://api.spotify.com/v1/search with Params: {'q': \"artist:The Partridge Family Starring Shirley Jones Featuring David Cassidy track:I'll Meet You Halfway\", 'limit': 10, 'offset': 0, 'type': 'track', 'market': None} returned 404 due to Not found.\n",
      "HTTP Error for GET to https://api.spotify.com/v1/search with Params: {'q': \"artist:The Partridge Family Starring Shirley Jones Featuring David Cassidy track:It's One Of Those Nights (Yes Love)\", 'limit': 10, 'offset': 0, 'type': 'track', 'market': None} returned 404 due to Not found.\n"
     ]
    },
    {
     "name": "stdout",
     "output_type": "stream",
     "text": [
      "ERROR:   The Partridge Family Starring Shirley Jones Featuring David Cassidy I Woke Up In Love This Morning\n",
      "26370  ERROR:   The Partridge Family Starring Shirley Jones Featuring David Cassidy I'll Meet You Halfway\n",
      "ERROR:   The Partridge Family Starring Shirley Jones Featuring David Cassidy It's One Of Those Nights (Yes Love)\n"
     ]
    },
    {
     "name": "stderr",
     "output_type": "stream",
     "text": [
      "HTTP Error for GET to https://api.spotify.com/v1/search with Params: {'q': 'artist:The Partridge Family Starring Shirley Jones Featuring David Cassidy track:Looking Through The Eyes Of Love', 'limit': 10, 'offset': 0, 'type': 'track', 'market': None} returned 404 due to Not found.\n"
     ]
    },
    {
     "name": "stdout",
     "output_type": "stream",
     "text": [
      "ERROR:   The Partridge Family Starring Shirley Jones Featuring David Cassidy Looking Through The Eyes Of Love\n",
      "26380  26390  "
     ]
    },
    {
     "name": "stderr",
     "output_type": "stream",
     "text": [
      "HTTP Error for GET to https://api.spotify.com/v1/search with Params: {'q': 'artist:The Pipes And Drums And The Military Band Of The Royal Scots Dragoon Guards track:Amazing Grace', 'limit': 10, 'offset': 0, 'type': 'track', 'market': None} returned 404 due to Not found.\n"
     ]
    },
    {
     "name": "stdout",
     "output_type": "stream",
     "text": [
      "26400  \n",
      "ERROR:   The Pipes And Drums And The Military Band Of The Royal Scots Dragoon Guards Amazing Grace\n",
      "26410  26420  26430  26440  26450  26460  26470  26480  26490  26500  \n",
      "26510  26520  26530  26540  26550  26560  26570  26580  26590  26600  \n",
      "26610  26620  26630  26640  26650  26660  26670  26680  26690  26700  \n",
      "26710  26720  26730  26740  26750  26760  26770  26780  26790  26800  \n",
      "26810  26820  26830  26840  26850  26860  26870  26880  26890  26900  \n",
      "26910  26920  26930  26940  26950  "
     ]
    },
    {
     "name": "stderr",
     "output_type": "stream",
     "text": [
      "HTTP Error for GET to https://api.spotify.com/v1/search with Params: {'q': 'artist:The Star Wars Intergalactic Droid Choir & Chorale track:What Can You Get A Wookiee For Christmas (When He Already Owns A Comb?)', 'limit': 10, 'offset': 0, 'type': 'track', 'market': None} returned 404 due to Not found.\n"
     ]
    },
    {
     "name": "stdout",
     "output_type": "stream",
     "text": [
      "ERROR:   The Star Wars Intergalactic Droid Choir & Chorale What Can You Get A Wookiee For Christmas (When He Already Owns A Comb?)\n",
      "26960  26970  26980  26990  27000  \n",
      "27010  27020  27030  27040  27050  27060  27070  27080  27090  27100  \n",
      "27110  27120  27130  27140  27150  27160  27170  27180  27190  27200  \n",
      "27210  27220  27230  27240  27250  27260  27270  27280  27290  27300  \n",
      "27310  27320  27330  27340  27350  27360  27370  27380  27390  27400  \n",
      "27410  27420  27430  27440  27450  27460  27470  27480  27490  27500  \n",
      "27510  27520  27530  27540  27550  27560  27570  "
     ]
    },
    {
     "name": "stderr",
     "output_type": "stream",
     "text": [
      "HTTP Error for GET to https://api.spotify.com/v1/search with Params: {'q': 'artist:Thomas Rhett Featuring Reba McEntire, Hillary Scott, Chris Tomlin & Keith Urban track:Be A Light', 'limit': 10, 'offset': 0, 'type': 'track', 'market': None} returned 404 due to Not found.\n"
     ]
    },
    {
     "name": "stdout",
     "output_type": "stream",
     "text": [
      "ERROR:   Thomas Rhett Featuring Reba McEntire, Hillary Scott, Chris Tomlin & Keith Urban Be A Light\n",
      "27580  27590  27600  \n",
      "27610  27620  27630  27640  27650  27660  27670  27680  27690  27700  \n",
      "27710  27720  27730  27740  27750  27760  27770  27780  27790  27800  \n",
      "27810  27820  27830  27840  27850  27860  27870  27880  27890  27900  \n",
      "27910  27920  27930  27940  27950  27960  27970  27980  27990  28000  \n",
      "28010  28020  28030  28040  28050  28060  28070  28080  28090  28100  \n",
      "28110  28120  28130  28140  28150  28160  28170  28180  28190  28200  \n",
      "28210  28220  28230  28240  28250  28260  28270  28280  28290  28300  \n",
      "28310  28320  28330  28340  28350  28360  28370  28380  28390  28400  \n",
      "28410  28420  28430  28440  28450  28460  28470  28480  "
     ]
    },
    {
     "name": "stderr",
     "output_type": "stream",
     "text": [
      "HTTP Error for GET to https://api.spotify.com/v1/search with Params: {'q': 'artist:Tyler, The Creator Featuring Brent Faiyaz & Fana Hues track:Sweet / I Thought You Wanted To Dance', 'limit': 10, 'offset': 0, 'type': 'track', 'market': None} returned 404 due to Not found.\n"
     ]
    },
    {
     "name": "stdout",
     "output_type": "stream",
     "text": [
      "ERROR:   Tyler, The Creator Featuring Brent Faiyaz & Fana Hues Sweet / I Thought You Wanted To Dance\n",
      "28490  28500  \n",
      "28510  28520  28530  28540  28550  28560  28570  28580  28590  28600  \n",
      "28610  28620  28630  28640  28650  28660  28670  28680  28690  28700  \n",
      "28710  28720  28730  28740  28750  28760  28770  28780  28790  28800  \n",
      "28810  28820  28830  28840  28850  28860  28870  28880  28890  28900  \n",
      "28910  28920  28930  28940  28950  28960  28970  28980  28990  29000  \n",
      "29010  29020  29030  29040  29050  29060  29070  29080  29090  29100  \n",
      "29110  29120  29130  29140  29150  29160  29170  29180  29190  29200  \n",
      "29210  29220  29230  29240  29250  29260  29270  29280  29290  29300  \n",
      "29310  29320  29330  29340  29350  29360  29370  29380  29390  29400  \n",
      "29410  29420  29430  29440  29450  29460  29470  29480  29490  29500  \n",
      "29510  29520  29530  29540  29550  29560  29570  29580  29590  29600  \n",
      "29610  29620  29630  29640  29650  29660  29670  "
     ]
    },
    {
     "name": "stderr",
     "output_type": "stream",
     "text": [
      "HTTP Error for GET to https://api.spotify.com/v1/search with Params: {'q': \"artist:will.i.am Featuring Miley Cyrus, French Montana, Wiz Khalifa & DJ Mustard track:Feelin' Myself\", 'limit': 10, 'offset': 0, 'type': 'track', 'market': None} returned 404 due to Not found.\n"
     ]
    },
    {
     "name": "stdout",
     "output_type": "stream",
     "text": [
      "29680  ERROR:   will.i.am Featuring Miley Cyrus, French Montana, Wiz Khalifa & DJ Mustard Feelin' Myself\n"
     ]
    }
   ],
   "source": [
    "# start over at\n",
    "start_over_at = 30000\n",
    "\n",
    "# populate df_billboard_songs with ids, where available\n",
    "for i, row in df_billboard_songs.iterrows():\n",
    "    \n",
    "    # start over at\n",
    "    if i < start_over_at-1:\n",
    "        continue\n",
    "    \n",
    "    # show status update\n",
    "    if i%10 == 0:\n",
    "        print(i, end='  ')\n",
    "    if i%100 == 0:\n",
    "        print()\n",
    "        \n",
    "    # start over where we finished (don't overwrite known ids)\n",
    "    if df_billboard_songs['id'].iloc[i] != '':  \n",
    "        continue\n",
    "    # append id, NONE, or 'ERROR'\n",
    "    else:\n",
    "        artist = row[1]\n",
    "        song = row[0]\n",
    "        try:\n",
    "            # unless there is an error, will append the id or None \n",
    "            df_billboard_songs['id'].iloc[i], df_billboard_songs['MISSING'].iloc[i] = find_id(song, artist, all_metadata_ids)\n",
    "        except:  # all errors treated the same\n",
    "            # if there is an error, change id to 'ERROR'\n",
    "            print('ERROR:  ', artist, song)\n",
    "            df_billboard_songs['MISSING'].iloc[i] = 'ERROR'  # leave id blank\n",
    "        \n",
    "        # save every 1000 rows, if new\n",
    "        if i%1000 == 0:\n",
    "            df_billboard_songs.to_csv('df_billboard_songs_TEMP.csv', index=False)\n",
    "        \n",
    "# save final dataframe\n",
    "df_billboard_songs.to_csv('df_billboard_songs.csv', index=False)"
   ]
  },
  {
   "cell_type": "markdown",
   "id": "4305c040",
   "metadata": {},
   "source": [
    "### After Gathering all IDs"
   ]
  },
  {
   "cell_type": "code",
   "execution_count": 137,
   "id": "210aae28",
   "metadata": {},
   "outputs": [],
   "source": [
    "# reload df_billboard_songs if required\n",
    "df_billboard_songs = pd.read_csv('df_billboard_songs.csv', keep_default_na=False)"
   ]
  },
  {
   "cell_type": "code",
   "execution_count": 139,
   "id": "7a5d9c35",
   "metadata": {},
   "outputs": [
    {
     "data": {
      "text/plain": [
       "(22274, 22357)"
      ]
     },
     "execution_count": 139,
     "metadata": {},
     "output_type": "execute_result"
    }
   ],
   "source": [
    "# how many id have we added\n",
    "df_billboard_songs.id.nunique(), sum(df_billboard_songs.id != \"\")\n",
    "# 83 duplicated ids"
   ]
  },
  {
   "cell_type": "markdown",
   "id": "e8c49623",
   "metadata": {},
   "source": [
    "### Remove Duplicates / Errors"
   ]
  },
  {
   "cell_type": "code",
   "execution_count": 140,
   "id": "89f14879",
   "metadata": {},
   "outputs": [],
   "source": [
    "duplicates = df_billboard_songs[df_billboard_songs.id!='']\n",
    "duplicates = duplicates[duplicates.id.duplicated(False)]\n",
    "duplicates.to_csv('duplicated_ids.csv', index=True)"
   ]
  },
  {
   "cell_type": "code",
   "execution_count": 100,
   "id": "2df93aa5",
   "metadata": {
    "scrolled": false
   },
   "outputs": [],
   "source": [
    "# # go through this manually and fix it\n",
    "#     # in this case NEED TO FIX BOTH BILLBOARD DATAFRAMES\n",
    "\n",
    "# # OR drop the corrupted rows\n",
    "# # manually imputing is problematic, error prone, and time consuming\n",
    "\n",
    "# duplicates.sort_values('id').head(200)"
   ]
  },
  {
   "cell_type": "code",
   "execution_count": 141,
   "id": "54044aef",
   "metadata": {},
   "outputs": [],
   "source": [
    "# set of duplicated ids\n",
    "duplicated_ids = set(duplicates.id)"
   ]
  },
  {
   "cell_type": "code",
   "execution_count": 142,
   "id": "99450183",
   "metadata": {},
   "outputs": [
    {
     "data": {
      "text/plain": [
       "168"
      ]
     },
     "execution_count": 142,
     "metadata": {},
     "output_type": "execute_result"
    }
   ],
   "source": [
    "sum(df_billboard_songs['id'].isin(duplicated_ids))"
   ]
  },
  {
   "cell_type": "code",
   "execution_count": 143,
   "id": "13798075",
   "metadata": {},
   "outputs": [],
   "source": [
    "# drop from billboard list of known ids \n",
    "for i, row in df_billboard_songs.iterrows():\n",
    "    if df_billboard_songs.iloc[i]['id'] in duplicated_ids:\n",
    "        df_billboard_songs['MISSING'].iloc[i] = 'DUPLICATED'\n",
    "        df_billboard_songs['id'].iloc[i] = ''"
   ]
  },
  {
   "cell_type": "code",
   "execution_count": 144,
   "id": "bcdff09b",
   "metadata": {},
   "outputs": [
    {
     "data": {
      "text/plain": [
       "0"
      ]
     },
     "execution_count": 144,
     "metadata": {},
     "output_type": "execute_result"
    }
   ],
   "source": [
    "sum(df_billboard_songs['id'].isin(duplicated_ids))"
   ]
  },
  {
   "cell_type": "code",
   "execution_count": 145,
   "id": "cdba2d90",
   "metadata": {},
   "outputs": [],
   "source": [
    "df_billboard_songs.to_csv('df_billboard_songs - duplicates removed.csv', index=False)"
   ]
  },
  {
   "cell_type": "markdown",
   "id": "7bf30b4e",
   "metadata": {},
   "source": [
    "### what songs are still missing audio feature data?"
   ]
  },
  {
   "cell_type": "code",
   "execution_count": 146,
   "id": "addcd859",
   "metadata": {},
   "outputs": [],
   "source": [
    "# reload the dataframe if required\n",
    "df_billboard_songs = pd.read_csv('df_billboard_songs - duplicates removed.csv', keep_default_na=False)"
   ]
  },
  {
   "cell_type": "code",
   "execution_count": 147,
   "id": "51c0f359",
   "metadata": {},
   "outputs": [
    {
     "data": {
      "text/plain": [
       "(22190, 22189)"
      ]
     },
     "execution_count": 147,
     "metadata": {},
     "output_type": "execute_result"
    }
   ],
   "source": [
    "# how many id have we added\n",
    "df_billboard_songs.id.nunique(), sum(df_billboard_songs.id != '')\n",
    "# off by one because '' counts as a unique id"
   ]
  },
  {
   "cell_type": "code",
   "execution_count": 148,
   "id": "ef4ff26e",
   "metadata": {},
   "outputs": [
    {
     "data": {
      "text/plain": [
       "18616"
      ]
     },
     "execution_count": 148,
     "metadata": {},
     "output_type": "execute_result"
    }
   ],
   "source": [
    "# check how many id match the metadata_ids\n",
    "sum(df_billboard_songs.id.isin(all_metadata_ids))"
   ]
  },
  {
   "cell_type": "code",
   "execution_count": 154,
   "id": "b7370921",
   "metadata": {},
   "outputs": [],
   "source": [
    "# songs on spotify that we don't have audio features for yet\n",
    "need_audio_features = df_billboard_songs[(~df_billboard_songs.id.isin(all_metadata_ids) & (df_billboard_songs.id != ''))]\n",
    "need_audio_features.to_csv('need_audio_features.csv', index=False)"
   ]
  },
  {
   "cell_type": "code",
   "execution_count": 153,
   "id": "fd410117",
   "metadata": {},
   "outputs": [
    {
     "data": {
      "text/plain": [
       "3573"
      ]
     },
     "execution_count": 153,
     "metadata": {},
     "output_type": "execute_result"
    }
   ],
   "source": [
    "len(need_audio_features.id)"
   ]
  },
  {
   "cell_type": "markdown",
   "id": "adad0703",
   "metadata": {},
   "source": [
    "### Use API again to get audio features\n",
    "https://developer.spotify.com/console/get-audio-features-track/"
   ]
  },
  {
   "cell_type": "code",
   "execution_count": 155,
   "id": "166bc83d",
   "metadata": {},
   "outputs": [
    {
     "name": "stdout",
     "output_type": "stream",
     "text": [
      "Enter token: BQD3B4duZKy6UpQNQMPBHXY_E0v-00MWRAwy-rJ5egBBhyg_hq0lvSTaSreE_RkRj81o3cPHf_6NJsYJN6lU9IxTFGgMVqGF3WKauGa12aYeCrJ49Nmi_phSWpPo1B0O3SPohmPr3OMsSPPVp4KfdZZq6sZNKmlOQ7fJJSbjQWRv\n"
     ]
    }
   ],
   "source": [
    "# input the temporary token\n",
    "TEMP_TOKEN = input('Enter token: ')\n",
    "\n",
    "# create a spotify object\n",
    "spotify = spotipy.Spotify(auth=TEMP_TOKEN)"
   ]
  },
  {
   "cell_type": "code",
   "execution_count": 183,
   "id": "59f1a628",
   "metadata": {},
   "outputs": [
    {
     "data": {
      "text/html": [
       "<div>\n",
       "<style scoped>\n",
       "    .dataframe tbody tr th:only-of-type {\n",
       "        vertical-align: middle;\n",
       "    }\n",
       "\n",
       "    .dataframe tbody tr th {\n",
       "        vertical-align: top;\n",
       "    }\n",
       "\n",
       "    .dataframe thead th {\n",
       "        text-align: right;\n",
       "    }\n",
       "</style>\n",
       "<table border=\"1\" class=\"dataframe\">\n",
       "  <thead>\n",
       "    <tr style=\"text-align: right;\">\n",
       "      <th></th>\n",
       "      <th>index</th>\n",
       "      <th>song</th>\n",
       "      <th>artist</th>\n",
       "      <th>id</th>\n",
       "      <th>MISSING</th>\n",
       "      <th>danceability</th>\n",
       "      <th>energy</th>\n",
       "      <th>key</th>\n",
       "      <th>loudness</th>\n",
       "      <th>mode</th>\n",
       "      <th>speechiness</th>\n",
       "      <th>acousticness</th>\n",
       "      <th>instrumentalness</th>\n",
       "      <th>liveness</th>\n",
       "      <th>valence</th>\n",
       "      <th>tempo</th>\n",
       "      <th>duration_ms</th>\n",
       "      <th>time_signature</th>\n",
       "    </tr>\n",
       "  </thead>\n",
       "  <tbody>\n",
       "    <tr>\n",
       "      <th>0</th>\n",
       "      <td>1</td>\n",
       "      <td>What Now My Love</td>\n",
       "      <td>\"Groove\" Holmes</td>\n",
       "      <td>11Aldbvo6UCcVhBzv4oUdw</td>\n",
       "      <td>MISSING</td>\n",
       "      <td></td>\n",
       "      <td></td>\n",
       "      <td></td>\n",
       "      <td></td>\n",
       "      <td></td>\n",
       "      <td></td>\n",
       "      <td></td>\n",
       "      <td></td>\n",
       "      <td></td>\n",
       "      <td></td>\n",
       "      <td></td>\n",
       "      <td></td>\n",
       "      <td></td>\n",
       "    </tr>\n",
       "    <tr>\n",
       "      <th>1</th>\n",
       "      <td>24</td>\n",
       "      <td>Music Of My Heart</td>\n",
       "      <td>'N Sync &amp; Gloria Estefan</td>\n",
       "      <td>5smPCwVq1pp9b9mnhKRxQj</td>\n",
       "      <td>MISSING</td>\n",
       "      <td></td>\n",
       "      <td></td>\n",
       "      <td></td>\n",
       "      <td></td>\n",
       "      <td></td>\n",
       "      <td></td>\n",
       "      <td></td>\n",
       "      <td></td>\n",
       "      <td></td>\n",
       "      <td></td>\n",
       "      <td></td>\n",
       "      <td></td>\n",
       "      <td></td>\n",
       "    </tr>\n",
       "    <tr>\n",
       "      <th>2</th>\n",
       "      <td>95</td>\n",
       "      <td>El Trago (The Drink)</td>\n",
       "      <td>2 In A Room</td>\n",
       "      <td>14gC7IS8BFlzabcoqR1iNW</td>\n",
       "      <td>MISSING</td>\n",
       "      <td></td>\n",
       "      <td></td>\n",
       "      <td></td>\n",
       "      <td></td>\n",
       "      <td></td>\n",
       "      <td></td>\n",
       "      <td></td>\n",
       "      <td></td>\n",
       "      <td></td>\n",
       "      <td></td>\n",
       "      <td></td>\n",
       "      <td></td>\n",
       "      <td></td>\n",
       "    </tr>\n",
       "    <tr>\n",
       "      <th>3</th>\n",
       "      <td>97</td>\n",
       "      <td>Walk Tall</td>\n",
       "      <td>2 Of Clubs</td>\n",
       "      <td>6byQuxXOHoos4pB8AnzuM3</td>\n",
       "      <td>MISSING</td>\n",
       "      <td></td>\n",
       "      <td></td>\n",
       "      <td></td>\n",
       "      <td></td>\n",
       "      <td></td>\n",
       "      <td></td>\n",
       "      <td></td>\n",
       "      <td></td>\n",
       "      <td></td>\n",
       "      <td></td>\n",
       "      <td></td>\n",
       "      <td></td>\n",
       "      <td></td>\n",
       "    </tr>\n",
       "    <tr>\n",
       "      <th>4</th>\n",
       "      <td>99</td>\n",
       "      <td>Get Ready For This</td>\n",
       "      <td>2 Unlimited</td>\n",
       "      <td>2P7L26IbmkrqxxtyP1CRRb</td>\n",
       "      <td>MISSING</td>\n",
       "      <td></td>\n",
       "      <td></td>\n",
       "      <td></td>\n",
       "      <td></td>\n",
       "      <td></td>\n",
       "      <td></td>\n",
       "      <td></td>\n",
       "      <td></td>\n",
       "      <td></td>\n",
       "      <td></td>\n",
       "      <td></td>\n",
       "      <td></td>\n",
       "      <td></td>\n",
       "    </tr>\n",
       "  </tbody>\n",
       "</table>\n",
       "</div>"
      ],
      "text/plain": [
       "   index                  song                    artist  \\\n",
       "0      1      What Now My Love           \"Groove\" Holmes   \n",
       "1     24     Music Of My Heart  'N Sync & Gloria Estefan   \n",
       "2     95  El Trago (The Drink)               2 In A Room   \n",
       "3     97             Walk Tall                2 Of Clubs   \n",
       "4     99    Get Ready For This               2 Unlimited   \n",
       "\n",
       "                       id  MISSING danceability energy key loudness mode  \\\n",
       "0  11Aldbvo6UCcVhBzv4oUdw  MISSING                                         \n",
       "1  5smPCwVq1pp9b9mnhKRxQj  MISSING                                         \n",
       "2  14gC7IS8BFlzabcoqR1iNW  MISSING                                         \n",
       "3  6byQuxXOHoos4pB8AnzuM3  MISSING                                         \n",
       "4  2P7L26IbmkrqxxtyP1CRRb  MISSING                                         \n",
       "\n",
       "  speechiness acousticness instrumentalness liveness valence tempo  \\\n",
       "0                                                                    \n",
       "1                                                                    \n",
       "2                                                                    \n",
       "3                                                                    \n",
       "4                                                                    \n",
       "\n",
       "  duration_ms time_signature  \n",
       "0                             \n",
       "1                             \n",
       "2                             \n",
       "3                             \n",
       "4                             "
      ]
     },
     "execution_count": 183,
     "metadata": {},
     "output_type": "execute_result"
    }
   ],
   "source": [
    "# initialise dataframe\n",
    "\n",
    "with_audio_features = need_audio_features.copy().reset_index()\n",
    "\n",
    "list_of_features = [\n",
    "    'danceability', 'energy', 'key', 'loudness', 'mode', 'speechiness', 'acousticness',\n",
    "    'instrumentalness', 'liveness', 'valence', 'tempo', 'duration_ms', 'time_signature'\n",
    "]\n",
    "\n",
    "for feature in list_of_features:\n",
    "    with_audio_features[feature] = ''\n",
    "\n",
    "with_audio_features.head()"
   ]
  },
  {
   "cell_type": "code",
   "execution_count": 185,
   "id": "9b33d181",
   "metadata": {},
   "outputs": [
    {
     "name": "stdout",
     "output_type": "stream",
     "text": [
      "1200  \n",
      "1210  1220  1230  1240  1250  1260  1270  1280  1290  1300  \n",
      "1310  1320  1330  1340  1350  1360  1370  1380  1390  1400  \n",
      "1410  1420  1430  1440  1450  1460  1470  1480  1490  1500  \n",
      "1510  1520  1530  1540  1550  1560  1570  1580  1590  1600  \n",
      "1610  1620  1630  1640  1650  1660  1670  1680  1690  1700  \n",
      "1710  1720  1730  1740  1750  1760  1770  1780  1790  1800  \n",
      "1810  1820  1830  1840  1850  1860  1870  1880  1890  1900  \n",
      "1910  1920  1930  1940  1950  1960  1970  1980  1990  2000  \n",
      "2010  2020  2030  2040  2050  2060  2070  2080  2090  2100  \n",
      "2110  2120  2130  2140  2150  2160  2170  2180  2190  2200  \n",
      "2210  2220  2230  2240  2250  2260  2270  2280  2290  2300  \n",
      "2310  2320  2330  2340  2350  2360  2370  2380  2390  2400  \n",
      "2410  2420  2430  2440  2450  2460  2470  2480  2490  2500  \n",
      "2510  2520  2530  2540  2550  2560  2570  2580  2590  2600  \n",
      "2610  2620  2630  2640  2650  2660  2670  2680  2690  2700  \n",
      "2710  2720  2730  2740  2750  2760  2770  2780  2790  2800  \n",
      "2810  2820  2830  2840  2850  2860  2870  2880  2890  2900  \n",
      "2910  2920  2930  2940  2950  2960  2970  2980  2990  3000  \n",
      "3010  3020  3030  3040  3050  3060  3070  3080  3090  3100  \n",
      "3110  3120  3130  3140  3150  3160  3170  3180  3190  3200  \n",
      "3210  3220  3230  3240  3250  3260  3270  3280  3290  3300  \n",
      "3310  3320  3330  3340  3350  3360  3370  3380  3390  3400  \n",
      "3410  3420  3430  3440  3450  3460  3470  3480  3490  3500  \n",
      "3510  3520  3530  3540  3550  3560  3570  "
     ]
    }
   ],
   "source": [
    "start_over_at = 1200\n",
    "\n",
    "list_of_features = [\n",
    "    'danceability', 'energy', 'key', 'loudness', 'mode', 'speechiness', 'acousticness',\n",
    "    'instrumentalness', 'liveness', 'valence', 'tempo', 'duration_ms', 'time_signature'\n",
    "]\n",
    "\n",
    "for i, row in with_audio_features.iterrows():\n",
    "    \n",
    "    # start over at\n",
    "    if i < start_over_at-1:\n",
    "        continue\n",
    "    \n",
    "    # show status update\n",
    "    if i%10 == 0:\n",
    "        print(i, end='  ')\n",
    "    if i%100 == 0:\n",
    "        print()\n",
    "    \n",
    "    track_id = with_audio_features['id'].iloc[i]\n",
    "    temp_audio_features = spotify.audio_features(track_id)\n",
    "    \n",
    "    for key in list_of_features:\n",
    "        with_audio_features[key].iloc[i] = temp_audio_features[0][key]\n",
    "    \n",
    "    if i%100 == 0:\n",
    "        with_audio_features.to_csv('audio_features_TEMP.csv', index=True)\n",
    "    \n",
    "# save final df\n",
    "with_audio_features.to_csv('audio_features_FINAL.csv', index=True)"
   ]
  },
  {
   "cell_type": "markdown",
   "id": "9408044d",
   "metadata": {},
   "source": [
    "### OPTIONAL QA SPOTCHECKS"
   ]
  },
  {
   "cell_type": "code",
   "execution_count": 190,
   "id": "9c4e1dbe",
   "metadata": {},
   "outputs": [
    {
     "data": {
      "text/html": [
       "<div>\n",
       "<style scoped>\n",
       "    .dataframe tbody tr th:only-of-type {\n",
       "        vertical-align: middle;\n",
       "    }\n",
       "\n",
       "    .dataframe tbody tr th {\n",
       "        vertical-align: top;\n",
       "    }\n",
       "\n",
       "    .dataframe thead th {\n",
       "        text-align: right;\n",
       "    }\n",
       "</style>\n",
       "<table border=\"1\" class=\"dataframe\">\n",
       "  <thead>\n",
       "    <tr style=\"text-align: right;\">\n",
       "      <th></th>\n",
       "      <th>index</th>\n",
       "      <th>song</th>\n",
       "      <th>artist</th>\n",
       "      <th>id</th>\n",
       "      <th>MISSING</th>\n",
       "      <th>danceability</th>\n",
       "      <th>energy</th>\n",
       "      <th>key</th>\n",
       "      <th>loudness</th>\n",
       "      <th>mode</th>\n",
       "      <th>speechiness</th>\n",
       "      <th>acousticness</th>\n",
       "      <th>instrumentalness</th>\n",
       "      <th>liveness</th>\n",
       "      <th>valence</th>\n",
       "      <th>tempo</th>\n",
       "      <th>duration_ms</th>\n",
       "      <th>time_signature</th>\n",
       "    </tr>\n",
       "  </thead>\n",
       "  <tbody>\n",
       "    <tr>\n",
       "      <th>0</th>\n",
       "      <td>22256</td>\n",
       "      <td>I Cry Just A Little Bit</td>\n",
       "      <td>Shakin' Stevens</td>\n",
       "      <td>7tJm0Kl0FBobXB011e82sN</td>\n",
       "      <td>matched</td>\n",
       "      <td></td>\n",
       "      <td></td>\n",
       "      <td></td>\n",
       "      <td></td>\n",
       "      <td></td>\n",
       "      <td></td>\n",
       "      <td></td>\n",
       "      <td></td>\n",
       "      <td></td>\n",
       "      <td></td>\n",
       "      <td></td>\n",
       "      <td></td>\n",
       "      <td></td>\n",
       "    </tr>\n",
       "    <tr>\n",
       "      <th>1</th>\n",
       "      <td>22713</td>\n",
       "      <td>6 Underground</td>\n",
       "      <td>Sneaker Pimps</td>\n",
       "      <td>7KvSuH86lIT2aTl9PBCAfd</td>\n",
       "      <td>matched</td>\n",
       "      <td></td>\n",
       "      <td></td>\n",
       "      <td></td>\n",
       "      <td></td>\n",
       "      <td></td>\n",
       "      <td></td>\n",
       "      <td></td>\n",
       "      <td></td>\n",
       "      <td></td>\n",
       "      <td></td>\n",
       "      <td></td>\n",
       "      <td></td>\n",
       "      <td></td>\n",
       "    </tr>\n",
       "    <tr>\n",
       "      <th>2</th>\n",
       "      <td>2786</td>\n",
       "      <td>Bring It All To Me</td>\n",
       "      <td>Blaque</td>\n",
       "      <td>1cjBan0t4eBk2Y5j17hdyf</td>\n",
       "      <td>matched</td>\n",
       "      <td></td>\n",
       "      <td></td>\n",
       "      <td></td>\n",
       "      <td></td>\n",
       "      <td></td>\n",
       "      <td></td>\n",
       "      <td></td>\n",
       "      <td></td>\n",
       "      <td></td>\n",
       "      <td></td>\n",
       "      <td></td>\n",
       "      <td></td>\n",
       "      <td></td>\n",
       "    </tr>\n",
       "    <tr>\n",
       "      <th>3</th>\n",
       "      <td>15998</td>\n",
       "      <td>Me And You And A Dog Named Boo</td>\n",
       "      <td>Lobo</td>\n",
       "      <td>6a0AGYos2HgtQNgMeDqEfC</td>\n",
       "      <td>matched</td>\n",
       "      <td></td>\n",
       "      <td></td>\n",
       "      <td></td>\n",
       "      <td></td>\n",
       "      <td></td>\n",
       "      <td></td>\n",
       "      <td></td>\n",
       "      <td></td>\n",
       "      <td></td>\n",
       "      <td></td>\n",
       "      <td></td>\n",
       "      <td></td>\n",
       "      <td></td>\n",
       "    </tr>\n",
       "    <tr>\n",
       "      <th>4</th>\n",
       "      <td>25016</td>\n",
       "      <td>Whatcha See Is Whatcha Get</td>\n",
       "      <td>The Dramatics</td>\n",
       "      <td>5lYpHO6ZO4Shys3GD8rav6</td>\n",
       "      <td>matched</td>\n",
       "      <td></td>\n",
       "      <td></td>\n",
       "      <td></td>\n",
       "      <td></td>\n",
       "      <td></td>\n",
       "      <td></td>\n",
       "      <td></td>\n",
       "      <td></td>\n",
       "      <td></td>\n",
       "      <td></td>\n",
       "      <td></td>\n",
       "      <td></td>\n",
       "      <td></td>\n",
       "    </tr>\n",
       "  </tbody>\n",
       "</table>\n",
       "</div>"
      ],
      "text/plain": [
       "   index                            song           artist  \\\n",
       "0  22256         I Cry Just A Little Bit  Shakin' Stevens   \n",
       "1  22713                   6 Underground    Sneaker Pimps   \n",
       "2   2786              Bring It All To Me           Blaque   \n",
       "3  15998  Me And You And A Dog Named Boo             Lobo   \n",
       "4  25016      Whatcha See Is Whatcha Get    The Dramatics   \n",
       "\n",
       "                       id  MISSING danceability energy key loudness mode  \\\n",
       "0  7tJm0Kl0FBobXB011e82sN  matched                                         \n",
       "1  7KvSuH86lIT2aTl9PBCAfd  matched                                         \n",
       "2  1cjBan0t4eBk2Y5j17hdyf  matched                                         \n",
       "3  6a0AGYos2HgtQNgMeDqEfC  matched                                         \n",
       "4  5lYpHO6ZO4Shys3GD8rav6  matched                                         \n",
       "\n",
       "  speechiness acousticness instrumentalness liveness valence tempo  \\\n",
       "0                                                                    \n",
       "1                                                                    \n",
       "2                                                                    \n",
       "3                                                                    \n",
       "4                                                                    \n",
       "\n",
       "  duration_ms time_signature  \n",
       "0                             \n",
       "1                             \n",
       "2                             \n",
       "3                             \n",
       "4                             "
      ]
     },
     "execution_count": 190,
     "metadata": {},
     "output_type": "execute_result"
    }
   ],
   "source": [
    "#### TODO: QA check ####\n",
    "# should I confirm that i get the same audio features as from the other datasets??\n",
    "# maybe do a small spotcheck\n",
    "\n",
    "QA_DATAFRAME = df_billboard_songs[df_billboard_songs.MISSING == 'matched'].sample(100).reset_index()\n",
    "\n",
    "list_of_features = [\n",
    "    'danceability', 'energy', 'key', 'loudness', 'mode', 'speechiness', 'acousticness',\n",
    "    'instrumentalness', 'liveness', 'valence', 'tempo', 'duration_ms', 'time_signature'\n",
    "]\n",
    "\n",
    "for feature in list_of_features:\n",
    "    QA_DATAFRAME[feature] = ''\n",
    "\n",
    "QA_DATAFRAME.head()"
   ]
  },
  {
   "cell_type": "code",
   "execution_count": 191,
   "id": "081815e4",
   "metadata": {},
   "outputs": [
    {
     "name": "stdout",
     "output_type": "stream",
     "text": [
      "0  \n"
     ]
    },
    {
     "name": "stderr",
     "output_type": "stream",
     "text": [
      "C:\\Users\\Kevin\\anaconda3\\lib\\site-packages\\pandas\\core\\indexing.py:1732: SettingWithCopyWarning: \n",
      "A value is trying to be set on a copy of a slice from a DataFrame\n",
      "\n",
      "See the caveats in the documentation: https://pandas.pydata.org/pandas-docs/stable/user_guide/indexing.html#returning-a-view-versus-a-copy\n",
      "  self._setitem_single_block(indexer, value, name)\n"
     ]
    },
    {
     "name": "stdout",
     "output_type": "stream",
     "text": [
      "10  20  30  40  50  60  70  80  90  "
     ]
    }
   ],
   "source": [
    "start_over_at = 0\n",
    "\n",
    "list_of_features = [\n",
    "    'danceability', 'energy', 'key', 'loudness', 'mode', 'speechiness', 'acousticness',\n",
    "    'instrumentalness', 'liveness', 'valence', 'tempo', 'duration_ms', 'time_signature'\n",
    "]\n",
    "\n",
    "for i, row in QA_DATAFRAME.iterrows():\n",
    "    \n",
    "    # start over at\n",
    "    if i < start_over_at-1:\n",
    "        continue\n",
    "    \n",
    "    # show status update\n",
    "    if i%10 == 0:\n",
    "        print(i, end='  ')\n",
    "    if i%100 == 0:\n",
    "        print()\n",
    "    \n",
    "    track_id = QA_DATAFRAME['id'].iloc[i]\n",
    "    temp_audio_features = spotify.audio_features(track_id)\n",
    "    \n",
    "    for key in list_of_features:\n",
    "        QA_DATAFRAME[key].iloc[i] = temp_audio_features[0][key]\n",
    "    \n",
    "# save final df\n",
    "QA_DATAFRAME.to_csv('QA_DATAFRAME.csv', index=True)"
   ]
  },
  {
   "cell_type": "code",
   "execution_count": null,
   "id": "c42a74b9",
   "metadata": {},
   "outputs": [],
   "source": [
    "# check these later to confirm that the downloaded data is correct"
   ]
  },
  {
   "cell_type": "code",
   "execution_count": null,
   "id": "a2b8b89d",
   "metadata": {},
   "outputs": [],
   "source": []
  },
  {
   "cell_type": "markdown",
   "id": "c719939c",
   "metadata": {},
   "source": [
    "### Final Datasets"
   ]
  },
  {
   "cell_type": "code",
   "execution_count": null,
   "id": "21ca9b51",
   "metadata": {},
   "outputs": [],
   "source": [
    "# separate songs into\n",
    "    # not on spotify (no id)\n",
    "    # matched with audio features\n",
    "    \n",
    "    \n",
    " "
   ]
  },
  {
   "cell_type": "code",
   "execution_count": null,
   "id": "d363e8e3",
   "metadata": {},
   "outputs": [],
   "source": [
    "# check the percentage of songs accounted for\n",
    "\n",
    "\n"
   ]
  },
  {
   "cell_type": "code",
   "execution_count": null,
   "id": "fec8a795",
   "metadata": {},
   "outputs": [],
   "source": [
    "# now merge with entire billboard list\n",
    "\n",
    "\n",
    "\n",
    "# re-count the percentage of songs accounted for in the entire set"
   ]
  },
  {
   "cell_type": "code",
   "execution_count": null,
   "id": "4eb6774d",
   "metadata": {},
   "outputs": [],
   "source": []
  },
  {
   "cell_type": "markdown",
   "id": "88011271",
   "metadata": {},
   "source": [
    "### 8+ M. Spotify Tracks, Genre, Audio Features (SQLite)\n",
    "https://www.kaggle.com/datasets/maltegrosse/8-m-spotify-tracks-genre-audio-features"
   ]
  },
  {
   "cell_type": "code",
   "execution_count": null,
   "id": "ee495f3b",
   "metadata": {},
   "outputs": [],
   "source": [
    "url_8M_sql = 'D:\\RYERSON\\820\\Datasets\\8+ M. Spotify Tracks, Genre, Audio Features\\spotify.sqlite'\n",
    "url_8M_csv = 'all_audio_features_sql.csv'  # .gitignore (very big)\n"
   ]
  },
  {
   "cell_type": "code",
   "execution_count": null,
   "id": "dadd7df4",
   "metadata": {},
   "outputs": [],
   "source": []
  },
  {
   "cell_type": "code",
   "execution_count": null,
   "id": "762e11d4",
   "metadata": {},
   "outputs": [],
   "source": []
  },
  {
   "cell_type": "code",
   "execution_count": null,
   "id": "3554c618",
   "metadata": {},
   "outputs": [],
   "source": []
  },
  {
   "cell_type": "markdown",
   "id": "df673bd9",
   "metadata": {},
   "source": [
    "### Merge all Datasets into Billboard Features, \n",
    "export Billboard Features and All Features"
   ]
  },
  {
   "cell_type": "code",
   "execution_count": null,
   "id": "7d227d12",
   "metadata": {},
   "outputs": [],
   "source": []
  },
  {
   "cell_type": "code",
   "execution_count": null,
   "id": "097b524b",
   "metadata": {},
   "outputs": [],
   "source": []
  },
  {
   "cell_type": "code",
   "execution_count": null,
   "id": "3e91a68b",
   "metadata": {},
   "outputs": [],
   "source": []
  },
  {
   "cell_type": "code",
   "execution_count": null,
   "id": "5f83b900",
   "metadata": {},
   "outputs": [],
   "source": []
  }
 ],
 "metadata": {
  "kernelspec": {
   "display_name": "Python 3 (ipykernel)",
   "language": "python",
   "name": "python3"
  },
  "language_info": {
   "codemirror_mode": {
    "name": "ipython",
    "version": 3
   },
   "file_extension": ".py",
   "mimetype": "text/x-python",
   "name": "python",
   "nbconvert_exporter": "python",
   "pygments_lexer": "ipython3",
   "version": "3.9.7"
  }
 },
 "nbformat": 4,
 "nbformat_minor": 5
}
