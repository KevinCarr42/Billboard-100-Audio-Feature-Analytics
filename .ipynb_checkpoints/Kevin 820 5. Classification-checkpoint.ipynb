{
 "cells": [
  {
   "cell_type": "markdown",
   "id": "55cf1a97",
   "metadata": {},
   "source": [
    "# Import"
   ]
  },
  {
   "cell_type": "code",
   "execution_count": 1,
   "id": "4325d361",
   "metadata": {},
   "outputs": [
    {
     "data": {
      "text/html": [
       "<style>.container { width:100% !important; }</style>"
      ],
      "text/plain": [
       "<IPython.core.display.HTML object>"
      ]
     },
     "metadata": {},
     "output_type": "display_data"
    }
   ],
   "source": [
    "# math and dataframes\n",
    "import pandas as pd\n",
    "import numpy as np\n",
    "\n",
    "# machine learning\n",
    "from sklearn.tree import DecisionTreeClassifier\n",
    "from sklearn.svm import SVC\n",
    "from sklearn.ensemble import RandomForestClassifier, AdaBoostClassifier, GradientBoostingClassifier, VotingClassifier\n",
    "\n",
    "# Pipeline and Evaluation\n",
    "from sklearn.metrics import classification_report, confusion_matrix\n",
    "from sklearn.model_selection import GridSearchCV, cross_val_score, cross_val_predict\n",
    "from sklearn.pipeline import Pipeline, make_pipeline\n",
    "from sklearn.tree import plot_tree\n",
    "\n",
    "# jupyter notebook full-width display\n",
    "from IPython.core.display import display, HTML\n",
    "display(HTML(\"<style>.container { width:100% !important; }</style>\"))\n",
    "\n",
    "# pandas formatting\n",
    "pd.set_option('display.float_format', '{:.3f}'.format)\n",
    "pd.set_option('display.max_columns', None)\n",
    "pd.set_option('display.max_rows', 200)\n",
    "\n",
    "# plotting\n",
    "import matplotlib.pyplot as plt\n",
    "import matplotlib as mpl\n",
    "import time\n",
    "import seaborn as sns\n",
    "sns.set_theme()"
   ]
  },
  {
   "cell_type": "code",
   "execution_count": 7,
   "id": "f0f51202",
   "metadata": {},
   "outputs": [],
   "source": [
    "df_10M = pd.read_pickle('df_10M_clustered.pickle')\n",
    "X_all = pd.read_pickle('X_clustered.pickle')"
   ]
  },
  {
   "cell_type": "markdown",
   "id": "bc69bb60",
   "metadata": {},
   "source": [
    "# Create Datasets for Prediction"
   ]
  },
  {
   "cell_type": "code",
   "execution_count": 8,
   "id": "f9adae49",
   "metadata": {},
   "outputs": [],
   "source": [
    "y_column = 'in_B100'\n",
    "X_columns = [\n",
    "    'mode', 'acousticness', 'danceability', 'duration_ms', 'energy',\n",
    "    'instrumentalness', 'liveness', 'loudness', 'speechiness', 'tempo', 'valence'\n",
    "]\n",
    "genre_columns = [\n",
    "    'is_Adult_Standard', 'is_Rock', 'is_R&B', 'is_Country', 'is_Pop',\n",
    "    'is_Rap', 'is_Alternative', 'is_EDM', 'is_Metal'\n",
    "]\n",
    "cluster_columns = ['cluster', 'cluster2']\n",
    "other_columns = ['key', 'time_signature', 'genre', 'release_date']\n"
   ]
  },
  {
   "cell_type": "code",
   "execution_count": 45,
   "id": "5a95ce32",
   "metadata": {},
   "outputs": [],
   "source": [
    "# create a dict with all 'name': (y, X) key match pairs\n",
    "clusters = {}\n",
    "\n",
    "# entire predictive dataset\n",
    "clusters['All'] = (X_all[y_column], X_all[X_columns])\n",
    "\n",
    "# add genres\n",
    "for genre in genre_columns:\n",
    "    title = genre[3:]\n",
    "    clusters[title] = (X_all[X_all[genre]][y_column], X_all[X_all[genre]][X_columns])\n",
    "    \n",
    "# add clusters\n",
    "for n in sorted(X_all['cluster'].unique()):\n",
    "    title = genre[3:]\n",
    "    clusters['cluster1_' + str(n)] = (X_all[X_all['cluster'] == n][y_column], X_all[X_all['cluster'] == n][X_columns])\n",
    "    \n",
    "for n in sorted(X_all['cluster2'].unique()):\n",
    "    title = genre[3:]\n",
    "    clusters['cluster2_' + str(n)] = (X_all[X_all['cluster2'] == n][y_column], X_all[X_all['cluster2'] == n][X_columns])"
   ]
  },
  {
   "cell_type": "code",
   "execution_count": null,
   "id": "027767a1",
   "metadata": {},
   "outputs": [],
   "source": []
  },
  {
   "cell_type": "code",
   "execution_count": null,
   "id": "c97dbbb3",
   "metadata": {},
   "outputs": [],
   "source": []
  },
  {
   "cell_type": "code",
   "execution_count": 48,
   "id": "b6242f95",
   "metadata": {},
   "outputs": [
    {
     "data": {
      "text/html": [
       "<div>\n",
       "<style scoped>\n",
       "    .dataframe tbody tr th:only-of-type {\n",
       "        vertical-align: middle;\n",
       "    }\n",
       "\n",
       "    .dataframe tbody tr th {\n",
       "        vertical-align: top;\n",
       "    }\n",
       "\n",
       "    .dataframe thead th {\n",
       "        text-align: right;\n",
       "    }\n",
       "</style>\n",
       "<table border=\"1\" class=\"dataframe\">\n",
       "  <thead>\n",
       "    <tr style=\"text-align: right;\">\n",
       "      <th></th>\n",
       "      <th>mode</th>\n",
       "      <th>acousticness</th>\n",
       "      <th>danceability</th>\n",
       "      <th>duration_ms</th>\n",
       "      <th>energy</th>\n",
       "      <th>instrumentalness</th>\n",
       "      <th>liveness</th>\n",
       "      <th>loudness</th>\n",
       "      <th>speechiness</th>\n",
       "      <th>tempo</th>\n",
       "      <th>valence</th>\n",
       "    </tr>\n",
       "    <tr>\n",
       "      <th>id</th>\n",
       "      <th></th>\n",
       "      <th></th>\n",
       "      <th></th>\n",
       "      <th></th>\n",
       "      <th></th>\n",
       "      <th></th>\n",
       "      <th></th>\n",
       "      <th></th>\n",
       "      <th></th>\n",
       "      <th></th>\n",
       "      <th></th>\n",
       "    </tr>\n",
       "  </thead>\n",
       "  <tbody>\n",
       "    <tr>\n",
       "      <th>6SFc2WVQmARn6NDS3LrTR8</th>\n",
       "      <td>1</td>\n",
       "      <td>0.007</td>\n",
       "      <td>0.728</td>\n",
       "      <td>0.817</td>\n",
       "      <td>0.747</td>\n",
       "      <td>0.434</td>\n",
       "      <td>0.113</td>\n",
       "      <td>0.573</td>\n",
       "      <td>0.084</td>\n",
       "      <td>0.436</td>\n",
       "      <td>0.284</td>\n",
       "    </tr>\n",
       "    <tr>\n",
       "      <th>6NMSTM4UQMC5emaYKIueyc</th>\n",
       "      <td>0</td>\n",
       "      <td>0.027</td>\n",
       "      <td>0.703</td>\n",
       "      <td>0.736</td>\n",
       "      <td>0.763</td>\n",
       "      <td>0.847</td>\n",
       "      <td>0.103</td>\n",
       "      <td>0.619</td>\n",
       "      <td>0.051</td>\n",
       "      <td>0.418</td>\n",
       "      <td>0.336</td>\n",
       "    </tr>\n",
       "    <tr>\n",
       "      <th>1FqHPzJuRdupHbcw09tYUa</th>\n",
       "      <td>1</td>\n",
       "      <td>0.010</td>\n",
       "      <td>0.812</td>\n",
       "      <td>0.402</td>\n",
       "      <td>0.776</td>\n",
       "      <td>0.071</td>\n",
       "      <td>0.074</td>\n",
       "      <td>0.670</td>\n",
       "      <td>0.039</td>\n",
       "      <td>0.400</td>\n",
       "      <td>0.912</td>\n",
       "    </tr>\n",
       "    <tr>\n",
       "      <th>7y8aVfDkqt6qirGNivvs0M</th>\n",
       "      <td>0</td>\n",
       "      <td>0.003</td>\n",
       "      <td>0.702</td>\n",
       "      <td>0.340</td>\n",
       "      <td>0.851</td>\n",
       "      <td>0.000</td>\n",
       "      <td>0.322</td>\n",
       "      <td>0.706</td>\n",
       "      <td>0.041</td>\n",
       "      <td>0.395</td>\n",
       "      <td>0.870</td>\n",
       "    </tr>\n",
       "    <tr>\n",
       "      <th>70w8loBbdl4qZOH2brrqKF</th>\n",
       "      <td>0</td>\n",
       "      <td>0.000</td>\n",
       "      <td>0.786</td>\n",
       "      <td>0.587</td>\n",
       "      <td>0.751</td>\n",
       "      <td>0.446</td>\n",
       "      <td>0.053</td>\n",
       "      <td>0.664</td>\n",
       "      <td>0.078</td>\n",
       "      <td>0.418</td>\n",
       "      <td>0.651</td>\n",
       "    </tr>\n",
       "  </tbody>\n",
       "</table>\n",
       "</div>"
      ],
      "text/plain": [
       "                        mode  acousticness  danceability  duration_ms  energy  \\\n",
       "id                                                                              \n",
       "6SFc2WVQmARn6NDS3LrTR8     1         0.007         0.728        0.817   0.747   \n",
       "6NMSTM4UQMC5emaYKIueyc     0         0.027         0.703        0.736   0.763   \n",
       "1FqHPzJuRdupHbcw09tYUa     1         0.010         0.812        0.402   0.776   \n",
       "7y8aVfDkqt6qirGNivvs0M     0         0.003         0.702        0.340   0.851   \n",
       "70w8loBbdl4qZOH2brrqKF     0         0.000         0.786        0.587   0.751   \n",
       "\n",
       "                        instrumentalness  liveness  loudness  speechiness  \\\n",
       "id                                                                          \n",
       "6SFc2WVQmARn6NDS3LrTR8             0.434     0.113     0.573        0.084   \n",
       "6NMSTM4UQMC5emaYKIueyc             0.847     0.103     0.619        0.051   \n",
       "1FqHPzJuRdupHbcw09tYUa             0.071     0.074     0.670        0.039   \n",
       "7y8aVfDkqt6qirGNivvs0M             0.000     0.322     0.706        0.041   \n",
       "70w8loBbdl4qZOH2brrqKF             0.446     0.053     0.664        0.078   \n",
       "\n",
       "                        tempo  valence  \n",
       "id                                      \n",
       "6SFc2WVQmARn6NDS3LrTR8  0.436    0.284  \n",
       "6NMSTM4UQMC5emaYKIueyc  0.418    0.336  \n",
       "1FqHPzJuRdupHbcw09tYUa  0.400    0.912  \n",
       "7y8aVfDkqt6qirGNivvs0M  0.395    0.870  \n",
       "70w8loBbdl4qZOH2brrqKF  0.418    0.651  "
      ]
     },
     "execution_count": 48,
     "metadata": {},
     "output_type": "execute_result"
    }
   ],
   "source": [
    "clusters['All'][1].head()"
   ]
  },
  {
   "cell_type": "code",
   "execution_count": 46,
   "id": "1b56afc9",
   "metadata": {},
   "outputs": [
    {
     "data": {
      "text/plain": [
       "['All',\n",
       " 'Adult_Standard',\n",
       " 'Rock',\n",
       " 'R&B',\n",
       " 'Country',\n",
       " 'Pop',\n",
       " 'Rap',\n",
       " 'Alternative',\n",
       " 'EDM',\n",
       " 'Metal',\n",
       " 'cluster1_0',\n",
       " 'cluster1_1',\n",
       " 'cluster1_2',\n",
       " 'cluster1_3',\n",
       " 'cluster2_0',\n",
       " 'cluster2_1',\n",
       " 'cluster2_2',\n",
       " 'cluster2_3',\n",
       " 'cluster2_4',\n",
       " 'cluster2_5',\n",
       " 'cluster2_6',\n",
       " 'cluster2_7',\n",
       " 'cluster2_8',\n",
       " 'cluster2_9']"
      ]
     },
     "execution_count": 46,
     "metadata": {},
     "output_type": "execute_result"
    }
   ],
   "source": [
    "list(clusters.keys())"
   ]
  },
  {
   "cell_type": "code",
   "execution_count": null,
   "id": "ec3e4cfe",
   "metadata": {},
   "outputs": [],
   "source": []
  },
  {
   "cell_type": "code",
   "execution_count": null,
   "id": "30d22d41",
   "metadata": {},
   "outputs": [],
   "source": []
  },
  {
   "cell_type": "code",
   "execution_count": null,
   "id": "6baea8cd",
   "metadata": {},
   "outputs": [],
   "source": []
  },
  {
   "cell_type": "code",
   "execution_count": null,
   "id": "19f58d1c",
   "metadata": {},
   "outputs": [],
   "source": []
  },
  {
   "cell_type": "code",
   "execution_count": null,
   "id": "b4e06e30",
   "metadata": {},
   "outputs": [],
   "source": []
  },
  {
   "cell_type": "code",
   "execution_count": null,
   "id": "9803c2a5",
   "metadata": {},
   "outputs": [],
   "source": []
  },
  {
   "cell_type": "code",
   "execution_count": null,
   "id": "2c44408e",
   "metadata": {},
   "outputs": [],
   "source": []
  }
 ],
 "metadata": {
  "kernelspec": {
   "display_name": "Python 3 (ipykernel)",
   "language": "python",
   "name": "python3"
  },
  "language_info": {
   "codemirror_mode": {
    "name": "ipython",
    "version": 3
   },
   "file_extension": ".py",
   "mimetype": "text/x-python",
   "name": "python",
   "nbconvert_exporter": "python",
   "pygments_lexer": "ipython3",
   "version": "3.9.7"
  }
 },
 "nbformat": 4,
 "nbformat_minor": 5
}
