{
 "cells": [
  {
   "cell_type": "code",
   "execution_count": 1,
   "id": "b92fb833",
   "metadata": {},
   "outputs": [
    {
     "data": {
      "text/html": [
       "<style>.container { width:100% !important; }</style>"
      ],
      "text/plain": [
       "<IPython.core.display.HTML object>"
      ]
     },
     "metadata": {},
     "output_type": "display_data"
    }
   ],
   "source": [
    "# import modules\n",
    "import pandas as pd\n",
    "import numpy as np\n",
    "import spotipy\n",
    "\n",
    "# full-width display\n",
    "from IPython.core.display import display, HTML\n",
    "display(HTML(\"<style>.container { width:100% !important; }</style>\"))\n",
    "\n",
    "# pandas format\n",
    "pd.set_option('display.float_format', '{:_.0f}'.format)\n",
    "# NOTE: underscore separaters ('_') are better than commas (',') because \n",
    "# numbers with underscores work in Python without any extra effort.\n",
    "pd.set_option('display.max_columns', None)\n",
    "pd.set_option('display.max_rows', 100)\n",
    "\n",
    "# spotipy\n",
    "import spotipy\n",
    "from spotipy.oauth2 import SpotifyClientCredentials\n",
    "\n",
    "# CONFIDENTIAL.py included in .gitignore, contains private API key\n",
    "# use link above to get a client_id and client_secret from developer.spotify.com\n",
    "from CONFIDENTIAL import client_id, client_secret, redirect_uri"
   ]
  },
  {
   "cell_type": "code",
   "execution_count": 2,
   "id": "ac000680",
   "metadata": {},
   "outputs": [],
   "source": [
    "# TEST\n",
    "# get a temp token from https://developer.spotify.com/console/get-search-item\n",
    "TEMP_TOKEN = 'BQDJIPIFLWU-e9lP9IfYKYWrZS7wo52N8A2dkU5CCtUNV6NEP-svFPelN97nmjCKHp5oj7vFGbfXrni_GC5xqzWKrP77R6-UjeNKrrFtx-mn5xsn8frFfxP_3KzDqa51SwOw_ScMrGfNN1VI6xjR2A3k2BZkb04J0JTEkwcTrQhA'"
   ]
  },
  {
   "cell_type": "code",
   "execution_count": 3,
   "id": "ab8c79a5",
   "metadata": {},
   "outputs": [],
   "source": [
    "# TEST\n",
    "# create a spotify object\n",
    "spotify = spotipy.Spotify(auth=TEMP_TOKEN)"
   ]
  },
  {
   "cell_type": "code",
   "execution_count": 4,
   "id": "b32bf262",
   "metadata": {
    "collapsed": true
   },
   "outputs": [
    {
     "data": {
      "text/plain": [
       "{'tracks': {'href': 'https://api.spotify.com/v1/search?query=artist%3AN+Sync+track%3ATearin+Up+My+Heart&type=track&offset=0&limit=10',\n",
       "  'items': [{'album': {'album_type': 'album',\n",
       "     'artists': [{'external_urls': {'spotify': 'https://open.spotify.com/artist/6Ff53KvcvAj5U7Z1vojB5o'},\n",
       "       'href': 'https://api.spotify.com/v1/artists/6Ff53KvcvAj5U7Z1vojB5o',\n",
       "       'id': '6Ff53KvcvAj5U7Z1vojB5o',\n",
       "       'name': '*NSYNC',\n",
       "       'type': 'artist',\n",
       "       'uri': 'spotify:artist:6Ff53KvcvAj5U7Z1vojB5o'}],\n",
       "     'available_markets': ['AD',\n",
       "      'AE',\n",
       "      'AG',\n",
       "      'AL',\n",
       "      'AM',\n",
       "      'AO',\n",
       "      'AR',\n",
       "      'AT',\n",
       "      'AU',\n",
       "      'AZ',\n",
       "      'BA',\n",
       "      'BB',\n",
       "      'BD',\n",
       "      'BE',\n",
       "      'BF',\n",
       "      'BG',\n",
       "      'BH',\n",
       "      'BI',\n",
       "      'BJ',\n",
       "      'BN',\n",
       "      'BO',\n",
       "      'BR',\n",
       "      'BS',\n",
       "      'BT',\n",
       "      'BW',\n",
       "      'BY',\n",
       "      'BZ',\n",
       "      'CA',\n",
       "      'CD',\n",
       "      'CG',\n",
       "      'CH',\n",
       "      'CI',\n",
       "      'CL',\n",
       "      'CM',\n",
       "      'CO',\n",
       "      'CR',\n",
       "      'CV',\n",
       "      'CW',\n",
       "      'CY',\n",
       "      'CZ',\n",
       "      'DE',\n",
       "      'DJ',\n",
       "      'DK',\n",
       "      'DM',\n",
       "      'DO',\n",
       "      'DZ',\n",
       "      'EC',\n",
       "      'EE',\n",
       "      'EG',\n",
       "      'ES',\n",
       "      'FI',\n",
       "      'FJ',\n",
       "      'FM',\n",
       "      'FR',\n",
       "      'GA',\n",
       "      'GB',\n",
       "      'GD',\n",
       "      'GE',\n",
       "      'GH',\n",
       "      'GM',\n",
       "      'GN',\n",
       "      'GQ',\n",
       "      'GR',\n",
       "      'GT',\n",
       "      'GW',\n",
       "      'GY',\n",
       "      'HK',\n",
       "      'HN',\n",
       "      'HR',\n",
       "      'HT',\n",
       "      'HU',\n",
       "      'ID',\n",
       "      'IE',\n",
       "      'IL',\n",
       "      'IN',\n",
       "      'IQ',\n",
       "      'IS',\n",
       "      'IT',\n",
       "      'JM',\n",
       "      'JO',\n",
       "      'JP',\n",
       "      'KE',\n",
       "      'KG',\n",
       "      'KH',\n",
       "      'KI',\n",
       "      'KM',\n",
       "      'KN',\n",
       "      'KR',\n",
       "      'KW',\n",
       "      'KZ',\n",
       "      'LA',\n",
       "      'LB',\n",
       "      'LC',\n",
       "      'LI',\n",
       "      'LK',\n",
       "      'LR',\n",
       "      'LS',\n",
       "      'LT',\n",
       "      'LU',\n",
       "      'LV',\n",
       "      'LY',\n",
       "      'MA',\n",
       "      'MC',\n",
       "      'MD',\n",
       "      'ME',\n",
       "      'MG',\n",
       "      'MH',\n",
       "      'MK',\n",
       "      'ML',\n",
       "      'MN',\n",
       "      'MO',\n",
       "      'MR',\n",
       "      'MT',\n",
       "      'MU',\n",
       "      'MV',\n",
       "      'MW',\n",
       "      'MX',\n",
       "      'MY',\n",
       "      'MZ',\n",
       "      'NA',\n",
       "      'NE',\n",
       "      'NG',\n",
       "      'NI',\n",
       "      'NL',\n",
       "      'NO',\n",
       "      'NP',\n",
       "      'NR',\n",
       "      'NZ',\n",
       "      'OM',\n",
       "      'PA',\n",
       "      'PE',\n",
       "      'PG',\n",
       "      'PH',\n",
       "      'PK',\n",
       "      'PL',\n",
       "      'PS',\n",
       "      'PT',\n",
       "      'PW',\n",
       "      'PY',\n",
       "      'QA',\n",
       "      'RO',\n",
       "      'RS',\n",
       "      'RW',\n",
       "      'SA',\n",
       "      'SB',\n",
       "      'SC',\n",
       "      'SE',\n",
       "      'SG',\n",
       "      'SI',\n",
       "      'SK',\n",
       "      'SL',\n",
       "      'SM',\n",
       "      'SN',\n",
       "      'SR',\n",
       "      'ST',\n",
       "      'SV',\n",
       "      'SZ',\n",
       "      'TD',\n",
       "      'TG',\n",
       "      'TH',\n",
       "      'TJ',\n",
       "      'TL',\n",
       "      'TN',\n",
       "      'TO',\n",
       "      'TR',\n",
       "      'TT',\n",
       "      'TV',\n",
       "      'TW',\n",
       "      'TZ',\n",
       "      'UA',\n",
       "      'UG',\n",
       "      'US',\n",
       "      'UY',\n",
       "      'UZ',\n",
       "      'VC',\n",
       "      'VE',\n",
       "      'VN',\n",
       "      'VU',\n",
       "      'WS',\n",
       "      'XK',\n",
       "      'ZA',\n",
       "      'ZM',\n",
       "      'ZW'],\n",
       "     'external_urls': {'spotify': 'https://open.spotify.com/album/7K5qlneuWF1CcY6ERzwkLB'},\n",
       "     'href': 'https://api.spotify.com/v1/albums/7K5qlneuWF1CcY6ERzwkLB',\n",
       "     'id': '7K5qlneuWF1CcY6ERzwkLB',\n",
       "     'images': [{'height': 640,\n",
       "       'url': 'https://i.scdn.co/image/ab67616d0000b273186b235052f031900c5cb282',\n",
       "       'width': 640},\n",
       "      {'height': 300,\n",
       "       'url': 'https://i.scdn.co/image/ab67616d00001e02186b235052f031900c5cb282',\n",
       "       'width': 300},\n",
       "      {'height': 64,\n",
       "       'url': 'https://i.scdn.co/image/ab67616d00004851186b235052f031900c5cb282',\n",
       "       'width': 64}],\n",
       "     'name': \"'N Sync UK Version\",\n",
       "     'release_date': '1997',\n",
       "     'release_date_precision': 'year',\n",
       "     'total_tracks': 14,\n",
       "     'type': 'album',\n",
       "     'uri': 'spotify:album:7K5qlneuWF1CcY6ERzwkLB'},\n",
       "    'artists': [{'external_urls': {'spotify': 'https://open.spotify.com/artist/6Ff53KvcvAj5U7Z1vojB5o'},\n",
       "      'href': 'https://api.spotify.com/v1/artists/6Ff53KvcvAj5U7Z1vojB5o',\n",
       "      'id': '6Ff53KvcvAj5U7Z1vojB5o',\n",
       "      'name': '*NSYNC',\n",
       "      'type': 'artist',\n",
       "      'uri': 'spotify:artist:6Ff53KvcvAj5U7Z1vojB5o'}],\n",
       "    'available_markets': ['AD',\n",
       "     'AE',\n",
       "     'AG',\n",
       "     'AL',\n",
       "     'AM',\n",
       "     'AO',\n",
       "     'AR',\n",
       "     'AT',\n",
       "     'AU',\n",
       "     'AZ',\n",
       "     'BA',\n",
       "     'BB',\n",
       "     'BD',\n",
       "     'BE',\n",
       "     'BF',\n",
       "     'BG',\n",
       "     'BH',\n",
       "     'BI',\n",
       "     'BJ',\n",
       "     'BN',\n",
       "     'BO',\n",
       "     'BR',\n",
       "     'BS',\n",
       "     'BT',\n",
       "     'BW',\n",
       "     'BY',\n",
       "     'BZ',\n",
       "     'CA',\n",
       "     'CD',\n",
       "     'CG',\n",
       "     'CH',\n",
       "     'CI',\n",
       "     'CL',\n",
       "     'CM',\n",
       "     'CO',\n",
       "     'CR',\n",
       "     'CV',\n",
       "     'CW',\n",
       "     'CY',\n",
       "     'CZ',\n",
       "     'DE',\n",
       "     'DJ',\n",
       "     'DK',\n",
       "     'DM',\n",
       "     'DO',\n",
       "     'DZ',\n",
       "     'EC',\n",
       "     'EE',\n",
       "     'EG',\n",
       "     'ES',\n",
       "     'FI',\n",
       "     'FJ',\n",
       "     'FM',\n",
       "     'FR',\n",
       "     'GA',\n",
       "     'GB',\n",
       "     'GD',\n",
       "     'GE',\n",
       "     'GH',\n",
       "     'GM',\n",
       "     'GN',\n",
       "     'GQ',\n",
       "     'GR',\n",
       "     'GT',\n",
       "     'GW',\n",
       "     'GY',\n",
       "     'HK',\n",
       "     'HN',\n",
       "     'HR',\n",
       "     'HT',\n",
       "     'HU',\n",
       "     'ID',\n",
       "     'IE',\n",
       "     'IL',\n",
       "     'IN',\n",
       "     'IQ',\n",
       "     'IS',\n",
       "     'IT',\n",
       "     'JM',\n",
       "     'JO',\n",
       "     'JP',\n",
       "     'KE',\n",
       "     'KG',\n",
       "     'KH',\n",
       "     'KI',\n",
       "     'KM',\n",
       "     'KN',\n",
       "     'KR',\n",
       "     'KW',\n",
       "     'KZ',\n",
       "     'LA',\n",
       "     'LB',\n",
       "     'LC',\n",
       "     'LI',\n",
       "     'LK',\n",
       "     'LR',\n",
       "     'LS',\n",
       "     'LT',\n",
       "     'LU',\n",
       "     'LV',\n",
       "     'LY',\n",
       "     'MA',\n",
       "     'MC',\n",
       "     'MD',\n",
       "     'ME',\n",
       "     'MG',\n",
       "     'MH',\n",
       "     'MK',\n",
       "     'ML',\n",
       "     'MN',\n",
       "     'MO',\n",
       "     'MR',\n",
       "     'MT',\n",
       "     'MU',\n",
       "     'MV',\n",
       "     'MW',\n",
       "     'MX',\n",
       "     'MY',\n",
       "     'MZ',\n",
       "     'NA',\n",
       "     'NE',\n",
       "     'NG',\n",
       "     'NI',\n",
       "     'NL',\n",
       "     'NO',\n",
       "     'NP',\n",
       "     'NR',\n",
       "     'NZ',\n",
       "     'OM',\n",
       "     'PA',\n",
       "     'PE',\n",
       "     'PG',\n",
       "     'PH',\n",
       "     'PK',\n",
       "     'PL',\n",
       "     'PS',\n",
       "     'PT',\n",
       "     'PW',\n",
       "     'PY',\n",
       "     'QA',\n",
       "     'RO',\n",
       "     'RS',\n",
       "     'RW',\n",
       "     'SA',\n",
       "     'SB',\n",
       "     'SC',\n",
       "     'SE',\n",
       "     'SG',\n",
       "     'SI',\n",
       "     'SK',\n",
       "     'SL',\n",
       "     'SM',\n",
       "     'SN',\n",
       "     'SR',\n",
       "     'ST',\n",
       "     'SV',\n",
       "     'SZ',\n",
       "     'TD',\n",
       "     'TG',\n",
       "     'TH',\n",
       "     'TJ',\n",
       "     'TL',\n",
       "     'TN',\n",
       "     'TO',\n",
       "     'TR',\n",
       "     'TT',\n",
       "     'TV',\n",
       "     'TW',\n",
       "     'TZ',\n",
       "     'UA',\n",
       "     'UG',\n",
       "     'US',\n",
       "     'UY',\n",
       "     'UZ',\n",
       "     'VC',\n",
       "     'VE',\n",
       "     'VN',\n",
       "     'VU',\n",
       "     'WS',\n",
       "     'XK',\n",
       "     'ZA',\n",
       "     'ZM',\n",
       "     'ZW'],\n",
       "    'disc_number': 1,\n",
       "    'duration_ms': 209400,\n",
       "    'explicit': False,\n",
       "    'external_ids': {'isrc': 'DEA819700002'},\n",
       "    'external_urls': {'spotify': 'https://open.spotify.com/track/73q3FpQVXWk5eSUnyo83E4'},\n",
       "    'href': 'https://api.spotify.com/v1/tracks/73q3FpQVXWk5eSUnyo83E4',\n",
       "    'id': '73q3FpQVXWk5eSUnyo83E4',\n",
       "    'is_local': False,\n",
       "    'name': \"Tearin' up My Heart - Radio Edit\",\n",
       "    'popularity': 65,\n",
       "    'preview_url': 'https://p.scdn.co/mp3-preview/9e9edd302e6a06bee2df75f7c812f9f4babace72?cid=774b29d4f13844c495f206cafdad9c86',\n",
       "    'track_number': 1,\n",
       "    'type': 'track',\n",
       "    'uri': 'spotify:track:73q3FpQVXWk5eSUnyo83E4'},\n",
       "   {'album': {'album_type': 'album',\n",
       "     'artists': [{'external_urls': {'spotify': 'https://open.spotify.com/artist/6Ff53KvcvAj5U7Z1vojB5o'},\n",
       "       'href': 'https://api.spotify.com/v1/artists/6Ff53KvcvAj5U7Z1vojB5o',\n",
       "       'id': '6Ff53KvcvAj5U7Z1vojB5o',\n",
       "       'name': '*NSYNC',\n",
       "       'type': 'artist',\n",
       "       'uri': 'spotify:artist:6Ff53KvcvAj5U7Z1vojB5o'}],\n",
       "     'available_markets': ['AD',\n",
       "      'AE',\n",
       "      'AG',\n",
       "      'AL',\n",
       "      'AM',\n",
       "      'AO',\n",
       "      'AR',\n",
       "      'AT',\n",
       "      'AU',\n",
       "      'AZ',\n",
       "      'BA',\n",
       "      'BB',\n",
       "      'BD',\n",
       "      'BE',\n",
       "      'BF',\n",
       "      'BG',\n",
       "      'BH',\n",
       "      'BI',\n",
       "      'BJ',\n",
       "      'BN',\n",
       "      'BO',\n",
       "      'BR',\n",
       "      'BS',\n",
       "      'BT',\n",
       "      'BW',\n",
       "      'BY',\n",
       "      'BZ',\n",
       "      'CA',\n",
       "      'CD',\n",
       "      'CG',\n",
       "      'CH',\n",
       "      'CI',\n",
       "      'CL',\n",
       "      'CM',\n",
       "      'CO',\n",
       "      'CR',\n",
       "      'CV',\n",
       "      'CW',\n",
       "      'CY',\n",
       "      'CZ',\n",
       "      'DE',\n",
       "      'DJ',\n",
       "      'DK',\n",
       "      'DM',\n",
       "      'DO',\n",
       "      'DZ',\n",
       "      'EC',\n",
       "      'EE',\n",
       "      'EG',\n",
       "      'ES',\n",
       "      'FI',\n",
       "      'FJ',\n",
       "      'FM',\n",
       "      'FR',\n",
       "      'GA',\n",
       "      'GB',\n",
       "      'GD',\n",
       "      'GE',\n",
       "      'GH',\n",
       "      'GM',\n",
       "      'GN',\n",
       "      'GQ',\n",
       "      'GR',\n",
       "      'GT',\n",
       "      'GW',\n",
       "      'GY',\n",
       "      'HK',\n",
       "      'HN',\n",
       "      'HR',\n",
       "      'HT',\n",
       "      'HU',\n",
       "      'ID',\n",
       "      'IE',\n",
       "      'IL',\n",
       "      'IN',\n",
       "      'IQ',\n",
       "      'IS',\n",
       "      'IT',\n",
       "      'JM',\n",
       "      'JO',\n",
       "      'JP',\n",
       "      'KE',\n",
       "      'KG',\n",
       "      'KH',\n",
       "      'KI',\n",
       "      'KM',\n",
       "      'KN',\n",
       "      'KR',\n",
       "      'KW',\n",
       "      'KZ',\n",
       "      'LA',\n",
       "      'LB',\n",
       "      'LC',\n",
       "      'LI',\n",
       "      'LK',\n",
       "      'LR',\n",
       "      'LS',\n",
       "      'LT',\n",
       "      'LU',\n",
       "      'LV',\n",
       "      'LY',\n",
       "      'MA',\n",
       "      'MC',\n",
       "      'MD',\n",
       "      'ME',\n",
       "      'MG',\n",
       "      'MH',\n",
       "      'MK',\n",
       "      'ML',\n",
       "      'MN',\n",
       "      'MO',\n",
       "      'MR',\n",
       "      'MT',\n",
       "      'MU',\n",
       "      'MV',\n",
       "      'MW',\n",
       "      'MX',\n",
       "      'MY',\n",
       "      'MZ',\n",
       "      'NA',\n",
       "      'NE',\n",
       "      'NG',\n",
       "      'NI',\n",
       "      'NL',\n",
       "      'NO',\n",
       "      'NP',\n",
       "      'NR',\n",
       "      'NZ',\n",
       "      'OM',\n",
       "      'PA',\n",
       "      'PE',\n",
       "      'PG',\n",
       "      'PH',\n",
       "      'PK',\n",
       "      'PL',\n",
       "      'PS',\n",
       "      'PT',\n",
       "      'PW',\n",
       "      'PY',\n",
       "      'QA',\n",
       "      'RO',\n",
       "      'RS',\n",
       "      'RW',\n",
       "      'SA',\n",
       "      'SB',\n",
       "      'SC',\n",
       "      'SE',\n",
       "      'SG',\n",
       "      'SI',\n",
       "      'SK',\n",
       "      'SL',\n",
       "      'SM',\n",
       "      'SN',\n",
       "      'SR',\n",
       "      'ST',\n",
       "      'SV',\n",
       "      'SZ',\n",
       "      'TD',\n",
       "      'TG',\n",
       "      'TH',\n",
       "      'TJ',\n",
       "      'TL',\n",
       "      'TN',\n",
       "      'TO',\n",
       "      'TR',\n",
       "      'TT',\n",
       "      'TV',\n",
       "      'TW',\n",
       "      'TZ',\n",
       "      'UA',\n",
       "      'UG',\n",
       "      'UY',\n",
       "      'UZ',\n",
       "      'VC',\n",
       "      'VE',\n",
       "      'VN',\n",
       "      'VU',\n",
       "      'WS',\n",
       "      'XK',\n",
       "      'ZA',\n",
       "      'ZM',\n",
       "      'ZW'],\n",
       "     'external_urls': {'spotify': 'https://open.spotify.com/album/0VoP8GVV2gfajU8IyocdRo'},\n",
       "     'href': 'https://api.spotify.com/v1/albums/0VoP8GVV2gfajU8IyocdRo',\n",
       "     'id': '0VoP8GVV2gfajU8IyocdRo',\n",
       "     'images': [{'height': 640,\n",
       "       'url': 'https://i.scdn.co/image/ab67616d0000b273301346c1ff7913b910915aad',\n",
       "       'width': 640},\n",
       "      {'height': 300,\n",
       "       'url': 'https://i.scdn.co/image/ab67616d00001e02301346c1ff7913b910915aad',\n",
       "       'width': 300},\n",
       "      {'height': 64,\n",
       "       'url': 'https://i.scdn.co/image/ab67616d00004851301346c1ff7913b910915aad',\n",
       "       'width': 64}],\n",
       "     'name': '*NSYNC',\n",
       "     'release_date': '1997-05-20',\n",
       "     'release_date_precision': 'day',\n",
       "     'total_tracks': 14,\n",
       "     'type': 'album',\n",
       "     'uri': 'spotify:album:0VoP8GVV2gfajU8IyocdRo'},\n",
       "    'artists': [{'external_urls': {'spotify': 'https://open.spotify.com/artist/6Ff53KvcvAj5U7Z1vojB5o'},\n",
       "      'href': 'https://api.spotify.com/v1/artists/6Ff53KvcvAj5U7Z1vojB5o',\n",
       "      'id': '6Ff53KvcvAj5U7Z1vojB5o',\n",
       "      'name': '*NSYNC',\n",
       "      'type': 'artist',\n",
       "      'uri': 'spotify:artist:6Ff53KvcvAj5U7Z1vojB5o'}],\n",
       "    'available_markets': ['AD',\n",
       "     'AE',\n",
       "     'AG',\n",
       "     'AL',\n",
       "     'AM',\n",
       "     'AO',\n",
       "     'AR',\n",
       "     'AT',\n",
       "     'AU',\n",
       "     'AZ',\n",
       "     'BA',\n",
       "     'BB',\n",
       "     'BD',\n",
       "     'BE',\n",
       "     'BF',\n",
       "     'BG',\n",
       "     'BH',\n",
       "     'BI',\n",
       "     'BJ',\n",
       "     'BN',\n",
       "     'BO',\n",
       "     'BR',\n",
       "     'BS',\n",
       "     'BT',\n",
       "     'BW',\n",
       "     'BY',\n",
       "     'BZ',\n",
       "     'CA',\n",
       "     'CD',\n",
       "     'CG',\n",
       "     'CH',\n",
       "     'CI',\n",
       "     'CL',\n",
       "     'CM',\n",
       "     'CO',\n",
       "     'CR',\n",
       "     'CV',\n",
       "     'CW',\n",
       "     'CY',\n",
       "     'CZ',\n",
       "     'DE',\n",
       "     'DJ',\n",
       "     'DK',\n",
       "     'DM',\n",
       "     'DO',\n",
       "     'DZ',\n",
       "     'EC',\n",
       "     'EE',\n",
       "     'EG',\n",
       "     'ES',\n",
       "     'FI',\n",
       "     'FJ',\n",
       "     'FM',\n",
       "     'FR',\n",
       "     'GA',\n",
       "     'GB',\n",
       "     'GD',\n",
       "     'GE',\n",
       "     'GH',\n",
       "     'GM',\n",
       "     'GN',\n",
       "     'GQ',\n",
       "     'GR',\n",
       "     'GT',\n",
       "     'GW',\n",
       "     'GY',\n",
       "     'HK',\n",
       "     'HN',\n",
       "     'HR',\n",
       "     'HT',\n",
       "     'HU',\n",
       "     'ID',\n",
       "     'IE',\n",
       "     'IL',\n",
       "     'IN',\n",
       "     'IQ',\n",
       "     'IS',\n",
       "     'IT',\n",
       "     'JM',\n",
       "     'JO',\n",
       "     'JP',\n",
       "     'KE',\n",
       "     'KG',\n",
       "     'KH',\n",
       "     'KI',\n",
       "     'KM',\n",
       "     'KN',\n",
       "     'KR',\n",
       "     'KW',\n",
       "     'KZ',\n",
       "     'LA',\n",
       "     'LB',\n",
       "     'LC',\n",
       "     'LI',\n",
       "     'LK',\n",
       "     'LR',\n",
       "     'LS',\n",
       "     'LT',\n",
       "     'LU',\n",
       "     'LV',\n",
       "     'LY',\n",
       "     'MA',\n",
       "     'MC',\n",
       "     'MD',\n",
       "     'ME',\n",
       "     'MG',\n",
       "     'MH',\n",
       "     'MK',\n",
       "     'ML',\n",
       "     'MN',\n",
       "     'MO',\n",
       "     'MR',\n",
       "     'MT',\n",
       "     'MU',\n",
       "     'MV',\n",
       "     'MW',\n",
       "     'MX',\n",
       "     'MY',\n",
       "     'MZ',\n",
       "     'NA',\n",
       "     'NE',\n",
       "     'NG',\n",
       "     'NI',\n",
       "     'NL',\n",
       "     'NO',\n",
       "     'NP',\n",
       "     'NR',\n",
       "     'NZ',\n",
       "     'OM',\n",
       "     'PA',\n",
       "     'PE',\n",
       "     'PG',\n",
       "     'PH',\n",
       "     'PK',\n",
       "     'PL',\n",
       "     'PS',\n",
       "     'PT',\n",
       "     'PW',\n",
       "     'PY',\n",
       "     'QA',\n",
       "     'RO',\n",
       "     'RS',\n",
       "     'RW',\n",
       "     'SA',\n",
       "     'SB',\n",
       "     'SC',\n",
       "     'SE',\n",
       "     'SG',\n",
       "     'SI',\n",
       "     'SK',\n",
       "     'SL',\n",
       "     'SM',\n",
       "     'SN',\n",
       "     'SR',\n",
       "     'ST',\n",
       "     'SV',\n",
       "     'SZ',\n",
       "     'TD',\n",
       "     'TG',\n",
       "     'TH',\n",
       "     'TJ',\n",
       "     'TL',\n",
       "     'TN',\n",
       "     'TO',\n",
       "     'TR',\n",
       "     'TT',\n",
       "     'TV',\n",
       "     'TW',\n",
       "     'TZ',\n",
       "     'UA',\n",
       "     'UG',\n",
       "     'UY',\n",
       "     'UZ',\n",
       "     'VC',\n",
       "     'VE',\n",
       "     'VN',\n",
       "     'VU',\n",
       "     'WS',\n",
       "     'XK',\n",
       "     'ZA',\n",
       "     'ZM',\n",
       "     'ZW'],\n",
       "    'disc_number': 1,\n",
       "    'duration_ms': 286266,\n",
       "    'explicit': False,\n",
       "    'external_ids': {'isrc': 'DEA819700009'},\n",
       "    'external_urls': {'spotify': 'https://open.spotify.com/track/4rpax3BVCOgoRYHFdR4WWN'},\n",
       "    'href': 'https://api.spotify.com/v1/tracks/4rpax3BVCOgoRYHFdR4WWN',\n",
       "    'id': '4rpax3BVCOgoRYHFdR4WWN',\n",
       "    'is_local': False,\n",
       "    'name': \"Tearin' Up My Heart - Extended Version\",\n",
       "    'popularity': 31,\n",
       "    'preview_url': 'https://p.scdn.co/mp3-preview/e1f945d9426c8f44d7dbe9372bd8bdae54c6b419?cid=774b29d4f13844c495f206cafdad9c86',\n",
       "    'track_number': 1,\n",
       "    'type': 'track',\n",
       "    'uri': 'spotify:track:4rpax3BVCOgoRYHFdR4WWN'},\n",
       "   {'album': {'album_type': 'compilation',\n",
       "     'artists': [{'external_urls': {'spotify': 'https://open.spotify.com/artist/6Ff53KvcvAj5U7Z1vojB5o'},\n",
       "       'href': 'https://api.spotify.com/v1/artists/6Ff53KvcvAj5U7Z1vojB5o',\n",
       "       'id': '6Ff53KvcvAj5U7Z1vojB5o',\n",
       "       'name': '*NSYNC',\n",
       "       'type': 'artist',\n",
       "       'uri': 'spotify:artist:6Ff53KvcvAj5U7Z1vojB5o'}],\n",
       "     'available_markets': ['AD',\n",
       "      'AE',\n",
       "      'AG',\n",
       "      'AL',\n",
       "      'AM',\n",
       "      'AO',\n",
       "      'AR',\n",
       "      'AT',\n",
       "      'AU',\n",
       "      'AZ',\n",
       "      'BA',\n",
       "      'BB',\n",
       "      'BD',\n",
       "      'BE',\n",
       "      'BF',\n",
       "      'BG',\n",
       "      'BH',\n",
       "      'BI',\n",
       "      'BJ',\n",
       "      'BN',\n",
       "      'BO',\n",
       "      'BR',\n",
       "      'BS',\n",
       "      'BT',\n",
       "      'BW',\n",
       "      'BY',\n",
       "      'BZ',\n",
       "      'CA',\n",
       "      'CD',\n",
       "      'CG',\n",
       "      'CH',\n",
       "      'CI',\n",
       "      'CL',\n",
       "      'CM',\n",
       "      'CO',\n",
       "      'CR',\n",
       "      'CV',\n",
       "      'CW',\n",
       "      'CY',\n",
       "      'CZ',\n",
       "      'DE',\n",
       "      'DJ',\n",
       "      'DK',\n",
       "      'DM',\n",
       "      'DO',\n",
       "      'DZ',\n",
       "      'EC',\n",
       "      'EE',\n",
       "      'EG',\n",
       "      'ES',\n",
       "      'FI',\n",
       "      'FJ',\n",
       "      'FM',\n",
       "      'FR',\n",
       "      'GA',\n",
       "      'GB',\n",
       "      'GD',\n",
       "      'GE',\n",
       "      'GH',\n",
       "      'GM',\n",
       "      'GN',\n",
       "      'GQ',\n",
       "      'GR',\n",
       "      'GT',\n",
       "      'GW',\n",
       "      'GY',\n",
       "      'HK',\n",
       "      'HN',\n",
       "      'HR',\n",
       "      'HT',\n",
       "      'HU',\n",
       "      'ID',\n",
       "      'IE',\n",
       "      'IL',\n",
       "      'IN',\n",
       "      'IQ',\n",
       "      'IS',\n",
       "      'IT',\n",
       "      'JM',\n",
       "      'JO',\n",
       "      'JP',\n",
       "      'KE',\n",
       "      'KG',\n",
       "      'KH',\n",
       "      'KI',\n",
       "      'KM',\n",
       "      'KN',\n",
       "      'KR',\n",
       "      'KW',\n",
       "      'KZ',\n",
       "      'LA',\n",
       "      'LB',\n",
       "      'LC',\n",
       "      'LI',\n",
       "      'LK',\n",
       "      'LR',\n",
       "      'LS',\n",
       "      'LT',\n",
       "      'LU',\n",
       "      'LV',\n",
       "      'LY',\n",
       "      'MA',\n",
       "      'MC',\n",
       "      'MD',\n",
       "      'ME',\n",
       "      'MG',\n",
       "      'MH',\n",
       "      'MK',\n",
       "      'ML',\n",
       "      'MN',\n",
       "      'MO',\n",
       "      'MR',\n",
       "      'MT',\n",
       "      'MU',\n",
       "      'MV',\n",
       "      'MW',\n",
       "      'MX',\n",
       "      'MY',\n",
       "      'MZ',\n",
       "      'NA',\n",
       "      'NE',\n",
       "      'NG',\n",
       "      'NI',\n",
       "      'NL',\n",
       "      'NO',\n",
       "      'NP',\n",
       "      'NR',\n",
       "      'NZ',\n",
       "      'OM',\n",
       "      'PA',\n",
       "      'PE',\n",
       "      'PG',\n",
       "      'PH',\n",
       "      'PK',\n",
       "      'PL',\n",
       "      'PS',\n",
       "      'PT',\n",
       "      'PW',\n",
       "      'PY',\n",
       "      'QA',\n",
       "      'RO',\n",
       "      'RS',\n",
       "      'RW',\n",
       "      'SA',\n",
       "      'SB',\n",
       "      'SC',\n",
       "      'SE',\n",
       "      'SG',\n",
       "      'SI',\n",
       "      'SK',\n",
       "      'SL',\n",
       "      'SM',\n",
       "      'SN',\n",
       "      'SR',\n",
       "      'ST',\n",
       "      'SV',\n",
       "      'SZ',\n",
       "      'TD',\n",
       "      'TG',\n",
       "      'TH',\n",
       "      'TJ',\n",
       "      'TL',\n",
       "      'TN',\n",
       "      'TO',\n",
       "      'TR',\n",
       "      'TT',\n",
       "      'TV',\n",
       "      'TW',\n",
       "      'TZ',\n",
       "      'UA',\n",
       "      'UG',\n",
       "      'UY',\n",
       "      'UZ',\n",
       "      'VC',\n",
       "      'VE',\n",
       "      'VN',\n",
       "      'VU',\n",
       "      'WS',\n",
       "      'XK',\n",
       "      'ZA',\n",
       "      'ZM',\n",
       "      'ZW'],\n",
       "     'external_urls': {'spotify': 'https://open.spotify.com/album/7MNoY9pyL6QnnVNeV3XfVR'},\n",
       "     'href': 'https://api.spotify.com/v1/albums/7MNoY9pyL6QnnVNeV3XfVR',\n",
       "     'id': '7MNoY9pyL6QnnVNeV3XfVR',\n",
       "     'images': [{'height': 640,\n",
       "       'url': 'https://i.scdn.co/image/ab67616d0000b27377d7eb27ad62530422db5b8e',\n",
       "       'width': 640},\n",
       "      {'height': 300,\n",
       "       'url': 'https://i.scdn.co/image/ab67616d00001e0277d7eb27ad62530422db5b8e',\n",
       "       'width': 300},\n",
       "      {'height': 64,\n",
       "       'url': 'https://i.scdn.co/image/ab67616d0000485177d7eb27ad62530422db5b8e',\n",
       "       'width': 64}],\n",
       "     'name': 'Greatest Hits',\n",
       "     'release_date': '2005-10-21',\n",
       "     'release_date_precision': 'day',\n",
       "     'total_tracks': 16,\n",
       "     'type': 'album',\n",
       "     'uri': 'spotify:album:7MNoY9pyL6QnnVNeV3XfVR'},\n",
       "    'artists': [{'external_urls': {'spotify': 'https://open.spotify.com/artist/6Ff53KvcvAj5U7Z1vojB5o'},\n",
       "      'href': 'https://api.spotify.com/v1/artists/6Ff53KvcvAj5U7Z1vojB5o',\n",
       "      'id': '6Ff53KvcvAj5U7Z1vojB5o',\n",
       "      'name': '*NSYNC',\n",
       "      'type': 'artist',\n",
       "      'uri': 'spotify:artist:6Ff53KvcvAj5U7Z1vojB5o'}],\n",
       "    'available_markets': ['AD',\n",
       "     'AE',\n",
       "     'AG',\n",
       "     'AL',\n",
       "     'AM',\n",
       "     'AO',\n",
       "     'AR',\n",
       "     'AT',\n",
       "     'AU',\n",
       "     'AZ',\n",
       "     'BA',\n",
       "     'BB',\n",
       "     'BD',\n",
       "     'BE',\n",
       "     'BF',\n",
       "     'BG',\n",
       "     'BH',\n",
       "     'BI',\n",
       "     'BJ',\n",
       "     'BN',\n",
       "     'BO',\n",
       "     'BR',\n",
       "     'BS',\n",
       "     'BT',\n",
       "     'BW',\n",
       "     'BY',\n",
       "     'BZ',\n",
       "     'CA',\n",
       "     'CD',\n",
       "     'CG',\n",
       "     'CH',\n",
       "     'CI',\n",
       "     'CL',\n",
       "     'CM',\n",
       "     'CO',\n",
       "     'CR',\n",
       "     'CV',\n",
       "     'CW',\n",
       "     'CY',\n",
       "     'CZ',\n",
       "     'DE',\n",
       "     'DJ',\n",
       "     'DK',\n",
       "     'DM',\n",
       "     'DO',\n",
       "     'DZ',\n",
       "     'EC',\n",
       "     'EE',\n",
       "     'EG',\n",
       "     'ES',\n",
       "     'FI',\n",
       "     'FJ',\n",
       "     'FM',\n",
       "     'FR',\n",
       "     'GA',\n",
       "     'GB',\n",
       "     'GD',\n",
       "     'GE',\n",
       "     'GH',\n",
       "     'GM',\n",
       "     'GN',\n",
       "     'GQ',\n",
       "     'GR',\n",
       "     'GT',\n",
       "     'GW',\n",
       "     'GY',\n",
       "     'HK',\n",
       "     'HN',\n",
       "     'HR',\n",
       "     'HT',\n",
       "     'HU',\n",
       "     'ID',\n",
       "     'IE',\n",
       "     'IL',\n",
       "     'IN',\n",
       "     'IQ',\n",
       "     'IS',\n",
       "     'IT',\n",
       "     'JM',\n",
       "     'JO',\n",
       "     'JP',\n",
       "     'KE',\n",
       "     'KG',\n",
       "     'KH',\n",
       "     'KI',\n",
       "     'KM',\n",
       "     'KN',\n",
       "     'KR',\n",
       "     'KW',\n",
       "     'KZ',\n",
       "     'LA',\n",
       "     'LB',\n",
       "     'LC',\n",
       "     'LI',\n",
       "     'LK',\n",
       "     'LR',\n",
       "     'LS',\n",
       "     'LT',\n",
       "     'LU',\n",
       "     'LV',\n",
       "     'LY',\n",
       "     'MA',\n",
       "     'MC',\n",
       "     'MD',\n",
       "     'ME',\n",
       "     'MG',\n",
       "     'MH',\n",
       "     'MK',\n",
       "     'ML',\n",
       "     'MN',\n",
       "     'MO',\n",
       "     'MR',\n",
       "     'MT',\n",
       "     'MU',\n",
       "     'MV',\n",
       "     'MW',\n",
       "     'MX',\n",
       "     'MY',\n",
       "     'MZ',\n",
       "     'NA',\n",
       "     'NE',\n",
       "     'NG',\n",
       "     'NI',\n",
       "     'NL',\n",
       "     'NO',\n",
       "     'NP',\n",
       "     'NR',\n",
       "     'NZ',\n",
       "     'OM',\n",
       "     'PA',\n",
       "     'PE',\n",
       "     'PG',\n",
       "     'PH',\n",
       "     'PK',\n",
       "     'PL',\n",
       "     'PS',\n",
       "     'PT',\n",
       "     'PW',\n",
       "     'PY',\n",
       "     'QA',\n",
       "     'RO',\n",
       "     'RS',\n",
       "     'RW',\n",
       "     'SA',\n",
       "     'SB',\n",
       "     'SC',\n",
       "     'SE',\n",
       "     'SG',\n",
       "     'SI',\n",
       "     'SK',\n",
       "     'SL',\n",
       "     'SM',\n",
       "     'SN',\n",
       "     'SR',\n",
       "     'ST',\n",
       "     'SV',\n",
       "     'SZ',\n",
       "     'TD',\n",
       "     'TG',\n",
       "     'TH',\n",
       "     'TJ',\n",
       "     'TL',\n",
       "     'TN',\n",
       "     'TO',\n",
       "     'TR',\n",
       "     'TT',\n",
       "     'TV',\n",
       "     'TW',\n",
       "     'TZ',\n",
       "     'UA',\n",
       "     'UG',\n",
       "     'UY',\n",
       "     'UZ',\n",
       "     'VC',\n",
       "     'VE',\n",
       "     'VN',\n",
       "     'VU',\n",
       "     'WS',\n",
       "     'XK',\n",
       "     'ZA',\n",
       "     'ZM',\n",
       "     'ZW'],\n",
       "    'disc_number': 1,\n",
       "    'duration_ms': 209560,\n",
       "    'explicit': False,\n",
       "    'external_ids': {'isrc': 'DEA819700002'},\n",
       "    'external_urls': {'spotify': 'https://open.spotify.com/track/1Y6AI8SjaSATTkTeb3tFiw'},\n",
       "    'href': 'https://api.spotify.com/v1/tracks/1Y6AI8SjaSATTkTeb3tFiw',\n",
       "    'id': '1Y6AI8SjaSATTkTeb3tFiw',\n",
       "    'is_local': False,\n",
       "    'name': \"Tearin' up My Heart - Radio Edit\",\n",
       "    'popularity': 31,\n",
       "    'preview_url': 'https://p.scdn.co/mp3-preview/3625b06d8469c05770d75f2e961693c658c58fb4?cid=774b29d4f13844c495f206cafdad9c86',\n",
       "    'track_number': 9,\n",
       "    'type': 'track',\n",
       "    'uri': 'spotify:track:1Y6AI8SjaSATTkTeb3tFiw'},\n",
       "   {'album': {'album_type': 'compilation',\n",
       "     'artists': [{'external_urls': {'spotify': 'https://open.spotify.com/artist/6Ff53KvcvAj5U7Z1vojB5o'},\n",
       "       'href': 'https://api.spotify.com/v1/artists/6Ff53KvcvAj5U7Z1vojB5o',\n",
       "       'id': '6Ff53KvcvAj5U7Z1vojB5o',\n",
       "       'name': '*NSYNC',\n",
       "       'type': 'artist',\n",
       "       'uri': 'spotify:artist:6Ff53KvcvAj5U7Z1vojB5o'}],\n",
       "     'available_markets': ['AE',\n",
       "      'AG',\n",
       "      'AR',\n",
       "      'BB',\n",
       "      'BD',\n",
       "      'BH',\n",
       "      'BN',\n",
       "      'BO',\n",
       "      'BR',\n",
       "      'BS',\n",
       "      'BT',\n",
       "      'BZ',\n",
       "      'CA',\n",
       "      'CL',\n",
       "      'CO',\n",
       "      'CR',\n",
       "      'CW',\n",
       "      'DM',\n",
       "      'DO',\n",
       "      'EC',\n",
       "      'EG',\n",
       "      'FM',\n",
       "      'GD',\n",
       "      'GT',\n",
       "      'GY',\n",
       "      'HK',\n",
       "      'HN',\n",
       "      'HT',\n",
       "      'ID',\n",
       "      'IN',\n",
       "      'IQ',\n",
       "      'JM',\n",
       "      'JO',\n",
       "      'JP',\n",
       "      'KH',\n",
       "      'KN',\n",
       "      'KR',\n",
       "      'KW',\n",
       "      'LA',\n",
       "      'LB',\n",
       "      'LC',\n",
       "      'LK',\n",
       "      'LY',\n",
       "      'MO',\n",
       "      'MV',\n",
       "      'MX',\n",
       "      'MY',\n",
       "      'NI',\n",
       "      'NP',\n",
       "      'OM',\n",
       "      'PA',\n",
       "      'PE',\n",
       "      'PH',\n",
       "      'PK',\n",
       "      'PS',\n",
       "      'PY',\n",
       "      'QA',\n",
       "      'SA',\n",
       "      'SG',\n",
       "      'SR',\n",
       "      'SV',\n",
       "      'TH',\n",
       "      'TL',\n",
       "      'TT',\n",
       "      'TW',\n",
       "      'US',\n",
       "      'UY',\n",
       "      'VC',\n",
       "      'VE',\n",
       "      'VN'],\n",
       "     'external_urls': {'spotify': 'https://open.spotify.com/album/45gbCmUeq5ZMgXiDkPweRD'},\n",
       "     'href': 'https://api.spotify.com/v1/albums/45gbCmUeq5ZMgXiDkPweRD',\n",
       "     'id': '45gbCmUeq5ZMgXiDkPweRD',\n",
       "     'images': [{'height': 640,\n",
       "       'url': 'https://i.scdn.co/image/ab67616d0000b2733cf9722343ca133f1c4df89e',\n",
       "       'width': 640},\n",
       "      {'height': 300,\n",
       "       'url': 'https://i.scdn.co/image/ab67616d00001e023cf9722343ca133f1c4df89e',\n",
       "       'width': 300},\n",
       "      {'height': 64,\n",
       "       'url': 'https://i.scdn.co/image/ab67616d000048513cf9722343ca133f1c4df89e',\n",
       "       'width': 64}],\n",
       "     'name': 'Greatest Hits',\n",
       "     'release_date': '2005-10-25',\n",
       "     'release_date_precision': 'day',\n",
       "     'total_tracks': 12,\n",
       "     'type': 'album',\n",
       "     'uri': 'spotify:album:45gbCmUeq5ZMgXiDkPweRD'},\n",
       "    'artists': [{'external_urls': {'spotify': 'https://open.spotify.com/artist/6Ff53KvcvAj5U7Z1vojB5o'},\n",
       "      'href': 'https://api.spotify.com/v1/artists/6Ff53KvcvAj5U7Z1vojB5o',\n",
       "      'id': '6Ff53KvcvAj5U7Z1vojB5o',\n",
       "      'name': '*NSYNC',\n",
       "      'type': 'artist',\n",
       "      'uri': 'spotify:artist:6Ff53KvcvAj5U7Z1vojB5o'}],\n",
       "    'available_markets': ['AE',\n",
       "     'AG',\n",
       "     'AR',\n",
       "     'BB',\n",
       "     'BD',\n",
       "     'BH',\n",
       "     'BN',\n",
       "     'BO',\n",
       "     'BR',\n",
       "     'BS',\n",
       "     'BT',\n",
       "     'BZ',\n",
       "     'CA',\n",
       "     'CL',\n",
       "     'CO',\n",
       "     'CR',\n",
       "     'CW',\n",
       "     'DM',\n",
       "     'DO',\n",
       "     'EC',\n",
       "     'EG',\n",
       "     'FM',\n",
       "     'GD',\n",
       "     'GT',\n",
       "     'GY',\n",
       "     'HK',\n",
       "     'HN',\n",
       "     'HT',\n",
       "     'ID',\n",
       "     'IN',\n",
       "     'IQ',\n",
       "     'JM',\n",
       "     'JO',\n",
       "     'JP',\n",
       "     'KH',\n",
       "     'KN',\n",
       "     'KR',\n",
       "     'KW',\n",
       "     'LA',\n",
       "     'LB',\n",
       "     'LC',\n",
       "     'LK',\n",
       "     'LY',\n",
       "     'MO',\n",
       "     'MV',\n",
       "     'MX',\n",
       "     'MY',\n",
       "     'NI',\n",
       "     'NP',\n",
       "     'OM',\n",
       "     'PA',\n",
       "     'PE',\n",
       "     'PH',\n",
       "     'PK',\n",
       "     'PS',\n",
       "     'PY',\n",
       "     'QA',\n",
       "     'SA',\n",
       "     'SG',\n",
       "     'SR',\n",
       "     'SV',\n",
       "     'TH',\n",
       "     'TL',\n",
       "     'TT',\n",
       "     'TW',\n",
       "     'US',\n",
       "     'UY',\n",
       "     'VC',\n",
       "     'VE',\n",
       "     'VN'],\n",
       "    'disc_number': 1,\n",
       "    'duration_ms': 209560,\n",
       "    'explicit': False,\n",
       "    'external_ids': {'isrc': 'DEA819700002'},\n",
       "    'external_urls': {'spotify': 'https://open.spotify.com/track/6JvTQWuYRmUkcFtIijDnxS'},\n",
       "    'href': 'https://api.spotify.com/v1/tracks/6JvTQWuYRmUkcFtIijDnxS',\n",
       "    'id': '6JvTQWuYRmUkcFtIijDnxS',\n",
       "    'is_local': False,\n",
       "    'name': \"Tearin' up My Heart - Radio Edit\",\n",
       "    'popularity': 32,\n",
       "    'preview_url': 'https://p.scdn.co/mp3-preview/3625b06d8469c05770d75f2e961693c658c58fb4?cid=774b29d4f13844c495f206cafdad9c86',\n",
       "    'track_number': 9,\n",
       "    'type': 'track',\n",
       "    'uri': 'spotify:track:6JvTQWuYRmUkcFtIijDnxS'},\n",
       "   {'album': {'album_type': 'album',\n",
       "     'artists': [{'external_urls': {'spotify': 'https://open.spotify.com/artist/6Ff53KvcvAj5U7Z1vojB5o'},\n",
       "       'href': 'https://api.spotify.com/v1/artists/6Ff53KvcvAj5U7Z1vojB5o',\n",
       "       'id': '6Ff53KvcvAj5U7Z1vojB5o',\n",
       "       'name': '*NSYNC',\n",
       "       'type': 'artist',\n",
       "       'uri': 'spotify:artist:6Ff53KvcvAj5U7Z1vojB5o'}],\n",
       "     'available_markets': ['AD',\n",
       "      'AE',\n",
       "      'AG',\n",
       "      'AL',\n",
       "      'AM',\n",
       "      'AO',\n",
       "      'AR',\n",
       "      'AU',\n",
       "      'AZ',\n",
       "      'BA',\n",
       "      'BB',\n",
       "      'BD',\n",
       "      'BE',\n",
       "      'BF',\n",
       "      'BG',\n",
       "      'BH',\n",
       "      'BI',\n",
       "      'BJ',\n",
       "      'BN',\n",
       "      'BO',\n",
       "      'BR',\n",
       "      'BS',\n",
       "      'BT',\n",
       "      'BW',\n",
       "      'BY',\n",
       "      'BZ',\n",
       "      'CA',\n",
       "      'CD',\n",
       "      'CG',\n",
       "      'CH',\n",
       "      'CI',\n",
       "      'CL',\n",
       "      'CM',\n",
       "      'CO',\n",
       "      'CR',\n",
       "      'CV',\n",
       "      'CW',\n",
       "      'CY',\n",
       "      'CZ',\n",
       "      'DJ',\n",
       "      'DK',\n",
       "      'DM',\n",
       "      'DO',\n",
       "      'DZ',\n",
       "      'EC',\n",
       "      'EE',\n",
       "      'EG',\n",
       "      'ES',\n",
       "      'FI',\n",
       "      'FJ',\n",
       "      'FM',\n",
       "      'FR',\n",
       "      'GA',\n",
       "      'GB',\n",
       "      'GD',\n",
       "      'GE',\n",
       "      'GH',\n",
       "      'GM',\n",
       "      'GN',\n",
       "      'GQ',\n",
       "      'GR',\n",
       "      'GT',\n",
       "      'GW',\n",
       "      'GY',\n",
       "      'HK',\n",
       "      'HN',\n",
       "      'HR',\n",
       "      'HT',\n",
       "      'HU',\n",
       "      'ID',\n",
       "      'IE',\n",
       "      'IL',\n",
       "      'IN',\n",
       "      'IQ',\n",
       "      'IS',\n",
       "      'IT',\n",
       "      'JM',\n",
       "      'JO',\n",
       "      'JP',\n",
       "      'KE',\n",
       "      'KG',\n",
       "      'KH',\n",
       "      'KI',\n",
       "      'KM',\n",
       "      'KN',\n",
       "      'KR',\n",
       "      'KW',\n",
       "      'KZ',\n",
       "      'LA',\n",
       "      'LB',\n",
       "      'LC',\n",
       "      'LI',\n",
       "      'LK',\n",
       "      'LR',\n",
       "      'LS',\n",
       "      'LT',\n",
       "      'LU',\n",
       "      'LV',\n",
       "      'LY',\n",
       "      'MA',\n",
       "      'MC',\n",
       "      'MD',\n",
       "      'ME',\n",
       "      'MG',\n",
       "      'MH',\n",
       "      'MK',\n",
       "      'ML',\n",
       "      'MN',\n",
       "      'MO',\n",
       "      'MR',\n",
       "      'MT',\n",
       "      'MU',\n",
       "      'MV',\n",
       "      'MW',\n",
       "      'MX',\n",
       "      'MY',\n",
       "      'MZ',\n",
       "      'NA',\n",
       "      'NE',\n",
       "      'NG',\n",
       "      'NI',\n",
       "      'NL',\n",
       "      'NO',\n",
       "      'NP',\n",
       "      'NR',\n",
       "      'NZ',\n",
       "      'OM',\n",
       "      'PA',\n",
       "      'PE',\n",
       "      'PG',\n",
       "      'PH',\n",
       "      'PK',\n",
       "      'PL',\n",
       "      'PS',\n",
       "      'PT',\n",
       "      'PW',\n",
       "      'PY',\n",
       "      'QA',\n",
       "      'RO',\n",
       "      'RS',\n",
       "      'RW',\n",
       "      'SA',\n",
       "      'SB',\n",
       "      'SC',\n",
       "      'SE',\n",
       "      'SG',\n",
       "      'SI',\n",
       "      'SK',\n",
       "      'SL',\n",
       "      'SM',\n",
       "      'SN',\n",
       "      'SR',\n",
       "      'ST',\n",
       "      'SV',\n",
       "      'SZ',\n",
       "      'TD',\n",
       "      'TG',\n",
       "      'TH',\n",
       "      'TJ',\n",
       "      'TL',\n",
       "      'TN',\n",
       "      'TO',\n",
       "      'TR',\n",
       "      'TT',\n",
       "      'TV',\n",
       "      'TW',\n",
       "      'TZ',\n",
       "      'UA',\n",
       "      'UG',\n",
       "      'US',\n",
       "      'UY',\n",
       "      'UZ',\n",
       "      'VC',\n",
       "      'VE',\n",
       "      'VN',\n",
       "      'VU',\n",
       "      'WS',\n",
       "      'XK',\n",
       "      'ZA',\n",
       "      'ZM',\n",
       "      'ZW'],\n",
       "     'external_urls': {'spotify': 'https://open.spotify.com/album/6kqqmrKx3jC1IC8uj8nEAe'},\n",
       "     'href': 'https://api.spotify.com/v1/albums/6kqqmrKx3jC1IC8uj8nEAe',\n",
       "     'id': '6kqqmrKx3jC1IC8uj8nEAe',\n",
       "     'images': [{'height': 640,\n",
       "       'url': 'https://i.scdn.co/image/ab67616d0000b273893b989aee977ce5794bd78e',\n",
       "       'width': 640},\n",
       "      {'height': 300,\n",
       "       'url': 'https://i.scdn.co/image/ab67616d00001e02893b989aee977ce5794bd78e',\n",
       "       'width': 300},\n",
       "      {'height': 64,\n",
       "       'url': 'https://i.scdn.co/image/ab67616d00004851893b989aee977ce5794bd78e',\n",
       "       'width': 64}],\n",
       "     'name': \"'N Sync UK Version\",\n",
       "     'release_date': '1997',\n",
       "     'release_date_precision': 'year',\n",
       "     'total_tracks': 14,\n",
       "     'type': 'album',\n",
       "     'uri': 'spotify:album:6kqqmrKx3jC1IC8uj8nEAe'},\n",
       "    'artists': [{'external_urls': {'spotify': 'https://open.spotify.com/artist/6Ff53KvcvAj5U7Z1vojB5o'},\n",
       "      'href': 'https://api.spotify.com/v1/artists/6Ff53KvcvAj5U7Z1vojB5o',\n",
       "      'id': '6Ff53KvcvAj5U7Z1vojB5o',\n",
       "      'name': '*NSYNC',\n",
       "      'type': 'artist',\n",
       "      'uri': 'spotify:artist:6Ff53KvcvAj5U7Z1vojB5o'}],\n",
       "    'available_markets': ['AD',\n",
       "     'AE',\n",
       "     'AG',\n",
       "     'AL',\n",
       "     'AM',\n",
       "     'AO',\n",
       "     'AR',\n",
       "     'AU',\n",
       "     'AZ',\n",
       "     'BA',\n",
       "     'BB',\n",
       "     'BD',\n",
       "     'BE',\n",
       "     'BF',\n",
       "     'BG',\n",
       "     'BH',\n",
       "     'BI',\n",
       "     'BJ',\n",
       "     'BN',\n",
       "     'BO',\n",
       "     'BR',\n",
       "     'BS',\n",
       "     'BT',\n",
       "     'BW',\n",
       "     'BY',\n",
       "     'BZ',\n",
       "     'CA',\n",
       "     'CD',\n",
       "     'CG',\n",
       "     'CH',\n",
       "     'CI',\n",
       "     'CL',\n",
       "     'CM',\n",
       "     'CO',\n",
       "     'CR',\n",
       "     'CV',\n",
       "     'CW',\n",
       "     'CY',\n",
       "     'CZ',\n",
       "     'DJ',\n",
       "     'DK',\n",
       "     'DM',\n",
       "     'DO',\n",
       "     'DZ',\n",
       "     'EC',\n",
       "     'EE',\n",
       "     'EG',\n",
       "     'ES',\n",
       "     'FI',\n",
       "     'FJ',\n",
       "     'FM',\n",
       "     'FR',\n",
       "     'GA',\n",
       "     'GB',\n",
       "     'GD',\n",
       "     'GE',\n",
       "     'GH',\n",
       "     'GM',\n",
       "     'GN',\n",
       "     'GQ',\n",
       "     'GR',\n",
       "     'GT',\n",
       "     'GW',\n",
       "     'GY',\n",
       "     'HK',\n",
       "     'HN',\n",
       "     'HR',\n",
       "     'HT',\n",
       "     'HU',\n",
       "     'ID',\n",
       "     'IE',\n",
       "     'IL',\n",
       "     'IN',\n",
       "     'IQ',\n",
       "     'IS',\n",
       "     'IT',\n",
       "     'JM',\n",
       "     'JO',\n",
       "     'JP',\n",
       "     'KE',\n",
       "     'KG',\n",
       "     'KH',\n",
       "     'KI',\n",
       "     'KM',\n",
       "     'KN',\n",
       "     'KR',\n",
       "     'KW',\n",
       "     'KZ',\n",
       "     'LA',\n",
       "     'LB',\n",
       "     'LC',\n",
       "     'LI',\n",
       "     'LK',\n",
       "     'LR',\n",
       "     'LS',\n",
       "     'LT',\n",
       "     'LU',\n",
       "     'LV',\n",
       "     'LY',\n",
       "     'MA',\n",
       "     'MC',\n",
       "     'MD',\n",
       "     'ME',\n",
       "     'MG',\n",
       "     'MH',\n",
       "     'MK',\n",
       "     'ML',\n",
       "     'MN',\n",
       "     'MO',\n",
       "     'MR',\n",
       "     'MT',\n",
       "     'MU',\n",
       "     'MV',\n",
       "     'MW',\n",
       "     'MX',\n",
       "     'MY',\n",
       "     'MZ',\n",
       "     'NA',\n",
       "     'NE',\n",
       "     'NG',\n",
       "     'NI',\n",
       "     'NL',\n",
       "     'NO',\n",
       "     'NP',\n",
       "     'NR',\n",
       "     'NZ',\n",
       "     'OM',\n",
       "     'PA',\n",
       "     'PE',\n",
       "     'PG',\n",
       "     'PH',\n",
       "     'PK',\n",
       "     'PL',\n",
       "     'PS',\n",
       "     'PT',\n",
       "     'PW',\n",
       "     'PY',\n",
       "     'QA',\n",
       "     'RO',\n",
       "     'RS',\n",
       "     'RW',\n",
       "     'SA',\n",
       "     'SB',\n",
       "     'SC',\n",
       "     'SE',\n",
       "     'SG',\n",
       "     'SI',\n",
       "     'SK',\n",
       "     'SL',\n",
       "     'SM',\n",
       "     'SN',\n",
       "     'SR',\n",
       "     'ST',\n",
       "     'SV',\n",
       "     'SZ',\n",
       "     'TD',\n",
       "     'TG',\n",
       "     'TH',\n",
       "     'TJ',\n",
       "     'TL',\n",
       "     'TN',\n",
       "     'TO',\n",
       "     'TR',\n",
       "     'TT',\n",
       "     'TV',\n",
       "     'TW',\n",
       "     'TZ',\n",
       "     'UA',\n",
       "     'UG',\n",
       "     'US',\n",
       "     'UY',\n",
       "     'UZ',\n",
       "     'VC',\n",
       "     'VE',\n",
       "     'VN',\n",
       "     'VU',\n",
       "     'WS',\n",
       "     'XK',\n",
       "     'ZA',\n",
       "     'ZM',\n",
       "     'ZW'],\n",
       "    'disc_number': 1,\n",
       "    'duration_ms': 209400,\n",
       "    'explicit': False,\n",
       "    'external_ids': {'isrc': 'DEA819700002'},\n",
       "    'external_urls': {'spotify': 'https://open.spotify.com/track/1ZXhJQWXlYEEkxfQykd4CX'},\n",
       "    'href': 'https://api.spotify.com/v1/tracks/1ZXhJQWXlYEEkxfQykd4CX',\n",
       "    'id': '1ZXhJQWXlYEEkxfQykd4CX',\n",
       "    'is_local': False,\n",
       "    'name': \"Tearin' up My Heart - Radio Edit\",\n",
       "    'popularity': 29,\n",
       "    'preview_url': 'https://p.scdn.co/mp3-preview/9e9edd302e6a06bee2df75f7c812f9f4babace72?cid=774b29d4f13844c495f206cafdad9c86',\n",
       "    'track_number': 1,\n",
       "    'type': 'track',\n",
       "    'uri': 'spotify:track:1ZXhJQWXlYEEkxfQykd4CX'},\n",
       "   {'album': {'album_type': 'compilation',\n",
       "     'artists': [{'external_urls': {'spotify': 'https://open.spotify.com/artist/6Ff53KvcvAj5U7Z1vojB5o'},\n",
       "       'href': 'https://api.spotify.com/v1/artists/6Ff53KvcvAj5U7Z1vojB5o',\n",
       "       'id': '6Ff53KvcvAj5U7Z1vojB5o',\n",
       "       'name': '*NSYNC',\n",
       "       'type': 'artist',\n",
       "       'uri': 'spotify:artist:6Ff53KvcvAj5U7Z1vojB5o'}],\n",
       "     'available_markets': ['AD',\n",
       "      'AE',\n",
       "      'AG',\n",
       "      'AL',\n",
       "      'AM',\n",
       "      'AO',\n",
       "      'AR',\n",
       "      'AT',\n",
       "      'AU',\n",
       "      'AZ',\n",
       "      'BA',\n",
       "      'BB',\n",
       "      'BD',\n",
       "      'BE',\n",
       "      'BF',\n",
       "      'BG',\n",
       "      'BH',\n",
       "      'BI',\n",
       "      'BJ',\n",
       "      'BN',\n",
       "      'BO',\n",
       "      'BR',\n",
       "      'BS',\n",
       "      'BT',\n",
       "      'BW',\n",
       "      'BY',\n",
       "      'BZ',\n",
       "      'CA',\n",
       "      'CD',\n",
       "      'CG',\n",
       "      'CH',\n",
       "      'CI',\n",
       "      'CL',\n",
       "      'CM',\n",
       "      'CO',\n",
       "      'CR',\n",
       "      'CV',\n",
       "      'CW',\n",
       "      'CY',\n",
       "      'CZ',\n",
       "      'DE',\n",
       "      'DJ',\n",
       "      'DK',\n",
       "      'DM',\n",
       "      'DO',\n",
       "      'DZ',\n",
       "      'EC',\n",
       "      'EE',\n",
       "      'EG',\n",
       "      'ES',\n",
       "      'FI',\n",
       "      'FJ',\n",
       "      'FM',\n",
       "      'FR',\n",
       "      'GA',\n",
       "      'GB',\n",
       "      'GD',\n",
       "      'GE',\n",
       "      'GH',\n",
       "      'GM',\n",
       "      'GN',\n",
       "      'GQ',\n",
       "      'GR',\n",
       "      'GT',\n",
       "      'GW',\n",
       "      'GY',\n",
       "      'HK',\n",
       "      'HN',\n",
       "      'HR',\n",
       "      'HT',\n",
       "      'HU',\n",
       "      'ID',\n",
       "      'IE',\n",
       "      'IL',\n",
       "      'IN',\n",
       "      'IQ',\n",
       "      'IS',\n",
       "      'IT',\n",
       "      'JM',\n",
       "      'JO',\n",
       "      'JP',\n",
       "      'KE',\n",
       "      'KG',\n",
       "      'KH',\n",
       "      'KI',\n",
       "      'KM',\n",
       "      'KN',\n",
       "      'KR',\n",
       "      'KW',\n",
       "      'KZ',\n",
       "      'LA',\n",
       "      'LB',\n",
       "      'LC',\n",
       "      'LI',\n",
       "      'LK',\n",
       "      'LR',\n",
       "      'LS',\n",
       "      'LT',\n",
       "      'LU',\n",
       "      'LV',\n",
       "      'LY',\n",
       "      'MA',\n",
       "      'MC',\n",
       "      'MD',\n",
       "      'ME',\n",
       "      'MG',\n",
       "      'MH',\n",
       "      'MK',\n",
       "      'ML',\n",
       "      'MN',\n",
       "      'MO',\n",
       "      'MR',\n",
       "      'MT',\n",
       "      'MU',\n",
       "      'MV',\n",
       "      'MW',\n",
       "      'MX',\n",
       "      'MY',\n",
       "      'MZ',\n",
       "      'NA',\n",
       "      'NE',\n",
       "      'NG',\n",
       "      'NI',\n",
       "      'NL',\n",
       "      'NO',\n",
       "      'NP',\n",
       "      'NR',\n",
       "      'NZ',\n",
       "      'OM',\n",
       "      'PA',\n",
       "      'PE',\n",
       "      'PG',\n",
       "      'PH',\n",
       "      'PK',\n",
       "      'PL',\n",
       "      'PS',\n",
       "      'PT',\n",
       "      'PW',\n",
       "      'PY',\n",
       "      'QA',\n",
       "      'RO',\n",
       "      'RS',\n",
       "      'RW',\n",
       "      'SA',\n",
       "      'SB',\n",
       "      'SC',\n",
       "      'SE',\n",
       "      'SG',\n",
       "      'SI',\n",
       "      'SK',\n",
       "      'SL',\n",
       "      'SM',\n",
       "      'SN',\n",
       "      'SR',\n",
       "      'ST',\n",
       "      'SV',\n",
       "      'SZ',\n",
       "      'TD',\n",
       "      'TG',\n",
       "      'TH',\n",
       "      'TJ',\n",
       "      'TL',\n",
       "      'TN',\n",
       "      'TO',\n",
       "      'TR',\n",
       "      'TT',\n",
       "      'TV',\n",
       "      'TW',\n",
       "      'TZ',\n",
       "      'UA',\n",
       "      'UG',\n",
       "      'US',\n",
       "      'UY',\n",
       "      'UZ',\n",
       "      'VC',\n",
       "      'VE',\n",
       "      'VN',\n",
       "      'VU',\n",
       "      'WS',\n",
       "      'XK',\n",
       "      'ZA',\n",
       "      'ZM',\n",
       "      'ZW'],\n",
       "     'external_urls': {'spotify': 'https://open.spotify.com/album/3bhFoH4PFnY4ifK4981U8X'},\n",
       "     'href': 'https://api.spotify.com/v1/albums/3bhFoH4PFnY4ifK4981U8X',\n",
       "     'id': '3bhFoH4PFnY4ifK4981U8X',\n",
       "     'images': [{'height': 640,\n",
       "       'url': 'https://i.scdn.co/image/ab67616d0000b27368a71db4b09063815c257187',\n",
       "       'width': 640},\n",
       "      {'height': 300,\n",
       "       'url': 'https://i.scdn.co/image/ab67616d00001e0268a71db4b09063815c257187',\n",
       "       'width': 300},\n",
       "      {'height': 64,\n",
       "       'url': 'https://i.scdn.co/image/ab67616d0000485168a71db4b09063815c257187',\n",
       "       'width': 64}],\n",
       "     'name': 'The Essential *NSYNC',\n",
       "     'release_date': '2014-07-29',\n",
       "     'release_date_precision': 'day',\n",
       "     'total_tracks': 34,\n",
       "     'type': 'album',\n",
       "     'uri': 'spotify:album:3bhFoH4PFnY4ifK4981U8X'},\n",
       "    'artists': [{'external_urls': {'spotify': 'https://open.spotify.com/artist/6Ff53KvcvAj5U7Z1vojB5o'},\n",
       "      'href': 'https://api.spotify.com/v1/artists/6Ff53KvcvAj5U7Z1vojB5o',\n",
       "      'id': '6Ff53KvcvAj5U7Z1vojB5o',\n",
       "      'name': '*NSYNC',\n",
       "      'type': 'artist',\n",
       "      'uri': 'spotify:artist:6Ff53KvcvAj5U7Z1vojB5o'}],\n",
       "    'available_markets': ['AD',\n",
       "     'AE',\n",
       "     'AG',\n",
       "     'AL',\n",
       "     'AM',\n",
       "     'AO',\n",
       "     'AR',\n",
       "     'AT',\n",
       "     'AU',\n",
       "     'AZ',\n",
       "     'BA',\n",
       "     'BB',\n",
       "     'BD',\n",
       "     'BE',\n",
       "     'BF',\n",
       "     'BG',\n",
       "     'BH',\n",
       "     'BI',\n",
       "     'BJ',\n",
       "     'BN',\n",
       "     'BO',\n",
       "     'BR',\n",
       "     'BS',\n",
       "     'BT',\n",
       "     'BW',\n",
       "     'BY',\n",
       "     'BZ',\n",
       "     'CA',\n",
       "     'CD',\n",
       "     'CG',\n",
       "     'CH',\n",
       "     'CI',\n",
       "     'CL',\n",
       "     'CM',\n",
       "     'CO',\n",
       "     'CR',\n",
       "     'CV',\n",
       "     'CW',\n",
       "     'CY',\n",
       "     'CZ',\n",
       "     'DE',\n",
       "     'DJ',\n",
       "     'DK',\n",
       "     'DM',\n",
       "     'DO',\n",
       "     'DZ',\n",
       "     'EC',\n",
       "     'EE',\n",
       "     'EG',\n",
       "     'ES',\n",
       "     'FI',\n",
       "     'FJ',\n",
       "     'FM',\n",
       "     'FR',\n",
       "     'GA',\n",
       "     'GB',\n",
       "     'GD',\n",
       "     'GE',\n",
       "     'GH',\n",
       "     'GM',\n",
       "     'GN',\n",
       "     'GQ',\n",
       "     'GR',\n",
       "     'GT',\n",
       "     'GW',\n",
       "     'GY',\n",
       "     'HK',\n",
       "     'HN',\n",
       "     'HR',\n",
       "     'HT',\n",
       "     'HU',\n",
       "     'ID',\n",
       "     'IE',\n",
       "     'IL',\n",
       "     'IN',\n",
       "     'IQ',\n",
       "     'IS',\n",
       "     'IT',\n",
       "     'JM',\n",
       "     'JO',\n",
       "     'JP',\n",
       "     'KE',\n",
       "     'KG',\n",
       "     'KH',\n",
       "     'KI',\n",
       "     'KM',\n",
       "     'KN',\n",
       "     'KR',\n",
       "     'KW',\n",
       "     'KZ',\n",
       "     'LA',\n",
       "     'LB',\n",
       "     'LC',\n",
       "     'LI',\n",
       "     'LK',\n",
       "     'LR',\n",
       "     'LS',\n",
       "     'LT',\n",
       "     'LU',\n",
       "     'LV',\n",
       "     'LY',\n",
       "     'MA',\n",
       "     'MC',\n",
       "     'MD',\n",
       "     'ME',\n",
       "     'MG',\n",
       "     'MH',\n",
       "     'MK',\n",
       "     'ML',\n",
       "     'MN',\n",
       "     'MO',\n",
       "     'MR',\n",
       "     'MT',\n",
       "     'MU',\n",
       "     'MV',\n",
       "     'MW',\n",
       "     'MX',\n",
       "     'MY',\n",
       "     'MZ',\n",
       "     'NA',\n",
       "     'NE',\n",
       "     'NG',\n",
       "     'NI',\n",
       "     'NL',\n",
       "     'NO',\n",
       "     'NP',\n",
       "     'NR',\n",
       "     'NZ',\n",
       "     'OM',\n",
       "     'PA',\n",
       "     'PE',\n",
       "     'PG',\n",
       "     'PH',\n",
       "     'PK',\n",
       "     'PL',\n",
       "     'PS',\n",
       "     'PT',\n",
       "     'PW',\n",
       "     'PY',\n",
       "     'QA',\n",
       "     'RO',\n",
       "     'RS',\n",
       "     'RW',\n",
       "     'SA',\n",
       "     'SB',\n",
       "     'SC',\n",
       "     'SE',\n",
       "     'SG',\n",
       "     'SI',\n",
       "     'SK',\n",
       "     'SL',\n",
       "     'SM',\n",
       "     'SN',\n",
       "     'SR',\n",
       "     'ST',\n",
       "     'SV',\n",
       "     'SZ',\n",
       "     'TD',\n",
       "     'TG',\n",
       "     'TH',\n",
       "     'TJ',\n",
       "     'TL',\n",
       "     'TN',\n",
       "     'TO',\n",
       "     'TR',\n",
       "     'TT',\n",
       "     'TV',\n",
       "     'TW',\n",
       "     'TZ',\n",
       "     'UA',\n",
       "     'UG',\n",
       "     'US',\n",
       "     'UY',\n",
       "     'UZ',\n",
       "     'VC',\n",
       "     'VE',\n",
       "     'VN',\n",
       "     'VU',\n",
       "     'WS',\n",
       "     'XK',\n",
       "     'ZA',\n",
       "     'ZM',\n",
       "     'ZW'],\n",
       "    'disc_number': 1,\n",
       "    'duration_ms': 208573,\n",
       "    'explicit': False,\n",
       "    'external_ids': {'isrc': 'DEA819700002'},\n",
       "    'external_urls': {'spotify': 'https://open.spotify.com/track/2Hf8Egl9ecawouqOyB5ada'},\n",
       "    'href': 'https://api.spotify.com/v1/tracks/2Hf8Egl9ecawouqOyB5ada',\n",
       "    'id': '2Hf8Egl9ecawouqOyB5ada',\n",
       "    'is_local': False,\n",
       "    'name': \"Tearin' up My Heart - Radio Edit\",\n",
       "    'popularity': 26,\n",
       "    'preview_url': 'https://p.scdn.co/mp3-preview/4eeb6f24e35c83bc8aa6415f5a38c0ff683b2fdf?cid=774b29d4f13844c495f206cafdad9c86',\n",
       "    'track_number': 3,\n",
       "    'type': 'track',\n",
       "    'uri': 'spotify:track:2Hf8Egl9ecawouqOyB5ada'},\n",
       "   {'album': {'album_type': 'compilation',\n",
       "     'artists': [{'external_urls': {'spotify': 'https://open.spotify.com/artist/6Ff53KvcvAj5U7Z1vojB5o'},\n",
       "       'href': 'https://api.spotify.com/v1/artists/6Ff53KvcvAj5U7Z1vojB5o',\n",
       "       'id': '6Ff53KvcvAj5U7Z1vojB5o',\n",
       "       'name': '*NSYNC',\n",
       "       'type': 'artist',\n",
       "       'uri': 'spotify:artist:6Ff53KvcvAj5U7Z1vojB5o'}],\n",
       "     'available_markets': ['AD',\n",
       "      'AE',\n",
       "      'AG',\n",
       "      'AL',\n",
       "      'AM',\n",
       "      'AO',\n",
       "      'AR',\n",
       "      'AT',\n",
       "      'AZ',\n",
       "      'BA',\n",
       "      'BB',\n",
       "      'BD',\n",
       "      'BE',\n",
       "      'BF',\n",
       "      'BG',\n",
       "      'BH',\n",
       "      'BI',\n",
       "      'BJ',\n",
       "      'BN',\n",
       "      'BO',\n",
       "      'BR',\n",
       "      'BS',\n",
       "      'BT',\n",
       "      'BW',\n",
       "      'BY',\n",
       "      'BZ',\n",
       "      'CA',\n",
       "      'CD',\n",
       "      'CG',\n",
       "      'CH',\n",
       "      'CI',\n",
       "      'CL',\n",
       "      'CM',\n",
       "      'CO',\n",
       "      'CR',\n",
       "      'CV',\n",
       "      'CW',\n",
       "      'CY',\n",
       "      'CZ',\n",
       "      'DE',\n",
       "      'DJ',\n",
       "      'DK',\n",
       "      'DM',\n",
       "      'DO',\n",
       "      'DZ',\n",
       "      'EC',\n",
       "      'EE',\n",
       "      'EG',\n",
       "      'ES',\n",
       "      'FI',\n",
       "      'FM',\n",
       "      'FR',\n",
       "      'GA',\n",
       "      'GB',\n",
       "      'GD',\n",
       "      'GE',\n",
       "      'GH',\n",
       "      'GM',\n",
       "      'GN',\n",
       "      'GQ',\n",
       "      'GR',\n",
       "      'GT',\n",
       "      'GW',\n",
       "      'GY',\n",
       "      'HK',\n",
       "      'HN',\n",
       "      'HR',\n",
       "      'HT',\n",
       "      'HU',\n",
       "      'ID',\n",
       "      'IE',\n",
       "      'IL',\n",
       "      'IN',\n",
       "      'IQ',\n",
       "      'IS',\n",
       "      'JM',\n",
       "      'JO',\n",
       "      'JP',\n",
       "      'KE',\n",
       "      'KG',\n",
       "      'KH',\n",
       "      'KM',\n",
       "      'KN',\n",
       "      'KR',\n",
       "      'KW',\n",
       "      'KZ',\n",
       "      'LA',\n",
       "      'LB',\n",
       "      'LC',\n",
       "      'LI',\n",
       "      'LK',\n",
       "      'LR',\n",
       "      'LS',\n",
       "      'LT',\n",
       "      'LU',\n",
       "      'LV',\n",
       "      'LY',\n",
       "      'MA',\n",
       "      'MC',\n",
       "      'MD',\n",
       "      'ME',\n",
       "      'MG',\n",
       "      'MK',\n",
       "      'ML',\n",
       "      'MN',\n",
       "      'MO',\n",
       "      'MR',\n",
       "      'MU',\n",
       "      'MV',\n",
       "      'MW',\n",
       "      'MX',\n",
       "      'MY',\n",
       "      'MZ',\n",
       "      'NA',\n",
       "      'NE',\n",
       "      'NG',\n",
       "      'NI',\n",
       "      'NL',\n",
       "      'NO',\n",
       "      'NP',\n",
       "      'OM',\n",
       "      'PA',\n",
       "      'PE',\n",
       "      'PH',\n",
       "      'PK',\n",
       "      'PL',\n",
       "      'PS',\n",
       "      'PT',\n",
       "      'PY',\n",
       "      'QA',\n",
       "      'RO',\n",
       "      'RS',\n",
       "      'RW',\n",
       "      'SA',\n",
       "      'SC',\n",
       "      'SE',\n",
       "      'SG',\n",
       "      'SI',\n",
       "      'SK',\n",
       "      'SL',\n",
       "      'SN',\n",
       "      'SR',\n",
       "      'ST',\n",
       "      'SV',\n",
       "      'SZ',\n",
       "      'TD',\n",
       "      'TG',\n",
       "      'TH',\n",
       "      'TJ',\n",
       "      'TL',\n",
       "      'TN',\n",
       "      'TR',\n",
       "      'TT',\n",
       "      'TW',\n",
       "      'TZ',\n",
       "      'UA',\n",
       "      'UG',\n",
       "      'UY',\n",
       "      'UZ',\n",
       "      'VC',\n",
       "      'VE',\n",
       "      'VN',\n",
       "      'XK',\n",
       "      'ZA',\n",
       "      'ZM',\n",
       "      'ZW'],\n",
       "     'external_urls': {'spotify': 'https://open.spotify.com/album/2EllCL0ddoEdwKWW0hKEPN'},\n",
       "     'href': 'https://api.spotify.com/v1/albums/2EllCL0ddoEdwKWW0hKEPN',\n",
       "     'id': '2EllCL0ddoEdwKWW0hKEPN',\n",
       "     'images': [{'height': 640,\n",
       "       'url': 'https://i.scdn.co/image/ab67616d0000b273ad156df9529c9dff37d54e6e',\n",
       "       'width': 640},\n",
       "      {'height': 300,\n",
       "       'url': 'https://i.scdn.co/image/ab67616d00001e02ad156df9529c9dff37d54e6e',\n",
       "       'width': 300},\n",
       "      {'height': 64,\n",
       "       'url': 'https://i.scdn.co/image/ab67616d00004851ad156df9529c9dff37d54e6e',\n",
       "       'width': 64}],\n",
       "     'name': 'The Collection',\n",
       "     'release_date': '2010-01-22',\n",
       "     'release_date_precision': 'day',\n",
       "     'total_tracks': 15,\n",
       "     'type': 'album',\n",
       "     'uri': 'spotify:album:2EllCL0ddoEdwKWW0hKEPN'},\n",
       "    'artists': [{'external_urls': {'spotify': 'https://open.spotify.com/artist/6Ff53KvcvAj5U7Z1vojB5o'},\n",
       "      'href': 'https://api.spotify.com/v1/artists/6Ff53KvcvAj5U7Z1vojB5o',\n",
       "      'id': '6Ff53KvcvAj5U7Z1vojB5o',\n",
       "      'name': '*NSYNC',\n",
       "      'type': 'artist',\n",
       "      'uri': 'spotify:artist:6Ff53KvcvAj5U7Z1vojB5o'}],\n",
       "    'available_markets': ['AD',\n",
       "     'AE',\n",
       "     'AG',\n",
       "     'AL',\n",
       "     'AM',\n",
       "     'AO',\n",
       "     'AR',\n",
       "     'AT',\n",
       "     'AZ',\n",
       "     'BA',\n",
       "     'BB',\n",
       "     'BD',\n",
       "     'BE',\n",
       "     'BF',\n",
       "     'BG',\n",
       "     'BH',\n",
       "     'BI',\n",
       "     'BJ',\n",
       "     'BN',\n",
       "     'BO',\n",
       "     'BR',\n",
       "     'BS',\n",
       "     'BT',\n",
       "     'BW',\n",
       "     'BY',\n",
       "     'BZ',\n",
       "     'CA',\n",
       "     'CD',\n",
       "     'CG',\n",
       "     'CH',\n",
       "     'CI',\n",
       "     'CL',\n",
       "     'CM',\n",
       "     'CO',\n",
       "     'CR',\n",
       "     'CV',\n",
       "     'CW',\n",
       "     'CY',\n",
       "     'CZ',\n",
       "     'DE',\n",
       "     'DJ',\n",
       "     'DK',\n",
       "     'DM',\n",
       "     'DO',\n",
       "     'DZ',\n",
       "     'EC',\n",
       "     'EE',\n",
       "     'EG',\n",
       "     'ES',\n",
       "     'FI',\n",
       "     'FM',\n",
       "     'FR',\n",
       "     'GA',\n",
       "     'GB',\n",
       "     'GD',\n",
       "     'GE',\n",
       "     'GH',\n",
       "     'GM',\n",
       "     'GN',\n",
       "     'GQ',\n",
       "     'GR',\n",
       "     'GT',\n",
       "     'GW',\n",
       "     'GY',\n",
       "     'HK',\n",
       "     'HN',\n",
       "     'HR',\n",
       "     'HT',\n",
       "     'HU',\n",
       "     'ID',\n",
       "     'IE',\n",
       "     'IL',\n",
       "     'IN',\n",
       "     'IQ',\n",
       "     'IS',\n",
       "     'JM',\n",
       "     'JO',\n",
       "     'JP',\n",
       "     'KE',\n",
       "     'KG',\n",
       "     'KH',\n",
       "     'KM',\n",
       "     'KN',\n",
       "     'KR',\n",
       "     'KW',\n",
       "     'KZ',\n",
       "     'LA',\n",
       "     'LB',\n",
       "     'LC',\n",
       "     'LI',\n",
       "     'LK',\n",
       "     'LR',\n",
       "     'LS',\n",
       "     'LT',\n",
       "     'LU',\n",
       "     'LV',\n",
       "     'LY',\n",
       "     'MA',\n",
       "     'MC',\n",
       "     'MD',\n",
       "     'ME',\n",
       "     'MG',\n",
       "     'MK',\n",
       "     'ML',\n",
       "     'MN',\n",
       "     'MO',\n",
       "     'MR',\n",
       "     'MU',\n",
       "     'MV',\n",
       "     'MW',\n",
       "     'MX',\n",
       "     'MY',\n",
       "     'MZ',\n",
       "     'NA',\n",
       "     'NE',\n",
       "     'NG',\n",
       "     'NI',\n",
       "     'NL',\n",
       "     'NO',\n",
       "     'NP',\n",
       "     'OM',\n",
       "     'PA',\n",
       "     'PE',\n",
       "     'PH',\n",
       "     'PK',\n",
       "     'PL',\n",
       "     'PS',\n",
       "     'PT',\n",
       "     'PY',\n",
       "     'QA',\n",
       "     'RO',\n",
       "     'RS',\n",
       "     'RW',\n",
       "     'SA',\n",
       "     'SC',\n",
       "     'SE',\n",
       "     'SG',\n",
       "     'SI',\n",
       "     'SK',\n",
       "     'SL',\n",
       "     'SN',\n",
       "     'SR',\n",
       "     'ST',\n",
       "     'SV',\n",
       "     'SZ',\n",
       "     'TD',\n",
       "     'TG',\n",
       "     'TH',\n",
       "     'TJ',\n",
       "     'TL',\n",
       "     'TN',\n",
       "     'TR',\n",
       "     'TT',\n",
       "     'TW',\n",
       "     'TZ',\n",
       "     'UA',\n",
       "     'UG',\n",
       "     'UY',\n",
       "     'UZ',\n",
       "     'VC',\n",
       "     'VE',\n",
       "     'VN',\n",
       "     'XK',\n",
       "     'ZA',\n",
       "     'ZM',\n",
       "     'ZW'],\n",
       "    'disc_number': 1,\n",
       "    'duration_ms': 208746,\n",
       "    'explicit': False,\n",
       "    'external_ids': {'isrc': 'DEA819700002'},\n",
       "    'external_urls': {'spotify': 'https://open.spotify.com/track/4z0dwUC052GZvSMsQDs5xT'},\n",
       "    'href': 'https://api.spotify.com/v1/tracks/4z0dwUC052GZvSMsQDs5xT',\n",
       "    'id': '4z0dwUC052GZvSMsQDs5xT',\n",
       "    'is_local': False,\n",
       "    'name': \"Tearin' up My Heart - Radio Edit\",\n",
       "    'popularity': 21,\n",
       "    'preview_url': 'https://p.scdn.co/mp3-preview/2492537046006974caf614b44ba5c33c716c9890?cid=774b29d4f13844c495f206cafdad9c86',\n",
       "    'track_number': 2,\n",
       "    'type': 'track',\n",
       "    'uri': 'spotify:track:4z0dwUC052GZvSMsQDs5xT'},\n",
       "   {'album': {'album_type': 'compilation',\n",
       "     'artists': [{'external_urls': {'spotify': 'https://open.spotify.com/artist/0LyfQWJT6nXafLPZqxe9Of'},\n",
       "       'href': 'https://api.spotify.com/v1/artists/0LyfQWJT6nXafLPZqxe9Of',\n",
       "       'id': '0LyfQWJT6nXafLPZqxe9Of',\n",
       "       'name': 'Various Artists',\n",
       "       'type': 'artist',\n",
       "       'uri': 'spotify:artist:0LyfQWJT6nXafLPZqxe9Of'}],\n",
       "     'available_markets': ['AD',\n",
       "      'AE',\n",
       "      'AL',\n",
       "      'AM',\n",
       "      'AO',\n",
       "      'AT',\n",
       "      'AZ',\n",
       "      'BA',\n",
       "      'BD',\n",
       "      'BE',\n",
       "      'BF',\n",
       "      'BG',\n",
       "      'BH',\n",
       "      'BI',\n",
       "      'BJ',\n",
       "      'BN',\n",
       "      'BT',\n",
       "      'BW',\n",
       "      'BY',\n",
       "      'CA',\n",
       "      'CD',\n",
       "      'CG',\n",
       "      'CH',\n",
       "      'CI',\n",
       "      'CM',\n",
       "      'CV',\n",
       "      'CW',\n",
       "      'CY',\n",
       "      'CZ',\n",
       "      'DE',\n",
       "      'DJ',\n",
       "      'DK',\n",
       "      'DZ',\n",
       "      'EE',\n",
       "      'EG',\n",
       "      'ES',\n",
       "      'FI',\n",
       "      'FJ',\n",
       "      'FM',\n",
       "      'FR',\n",
       "      'GA',\n",
       "      'GB',\n",
       "      'GE',\n",
       "      'GH',\n",
       "      'GM',\n",
       "      'GN',\n",
       "      'GQ',\n",
       "      'GR',\n",
       "      'GW',\n",
       "      'HK',\n",
       "      'HR',\n",
       "      'HU',\n",
       "      'ID',\n",
       "      'IE',\n",
       "      'IL',\n",
       "      'IN',\n",
       "      'IQ',\n",
       "      'IS',\n",
       "      'IT',\n",
       "      'JO',\n",
       "      'JP',\n",
       "      'KE',\n",
       "      'KG',\n",
       "      'KH',\n",
       "      'KM',\n",
       "      'KR',\n",
       "      'KW',\n",
       "      'KZ',\n",
       "      'LA',\n",
       "      'LB',\n",
       "      'LI',\n",
       "      'LK',\n",
       "      'LR',\n",
       "      'LS',\n",
       "      'LT',\n",
       "      'LU',\n",
       "      'LV',\n",
       "      'LY',\n",
       "      'MA',\n",
       "      'MC',\n",
       "      'MD',\n",
       "      'ME',\n",
       "      'MG',\n",
       "      'MK',\n",
       "      'ML',\n",
       "      'MN',\n",
       "      'MO',\n",
       "      'MR',\n",
       "      'MT',\n",
       "      'MU',\n",
       "      'MV',\n",
       "      'MW',\n",
       "      'MX',\n",
       "      'MY',\n",
       "      'MZ',\n",
       "      'NA',\n",
       "      'NE',\n",
       "      'NG',\n",
       "      'NL',\n",
       "      'NO',\n",
       "      'NP',\n",
       "      'NZ',\n",
       "      'OM',\n",
       "      'PH',\n",
       "      'PK',\n",
       "      'PL',\n",
       "      'PS',\n",
       "      'PT',\n",
       "      'QA',\n",
       "      'RO',\n",
       "      'RS',\n",
       "      'RW',\n",
       "      'SA',\n",
       "      'SC',\n",
       "      'SE',\n",
       "      'SG',\n",
       "      'SI',\n",
       "      'SK',\n",
       "      'SL',\n",
       "      'SM',\n",
       "      'SN',\n",
       "      'ST',\n",
       "      'SZ',\n",
       "      'TD',\n",
       "      'TG',\n",
       "      'TH',\n",
       "      'TJ',\n",
       "      'TL',\n",
       "      'TN',\n",
       "      'TR',\n",
       "      'TW',\n",
       "      'TZ',\n",
       "      'UA',\n",
       "      'UG',\n",
       "      'UZ',\n",
       "      'VN',\n",
       "      'WS',\n",
       "      'XK',\n",
       "      'ZA',\n",
       "      'ZM',\n",
       "      'ZW'],\n",
       "     'external_urls': {'spotify': 'https://open.spotify.com/album/508XLM4RB1mxjavDYnPANE'},\n",
       "     'href': 'https://api.spotify.com/v1/albums/508XLM4RB1mxjavDYnPANE',\n",
       "     'id': '508XLM4RB1mxjavDYnPANE',\n",
       "     'images': [{'height': 640,\n",
       "       'url': 'https://i.scdn.co/image/ab67616d0000b273ea4514f6b820adfea20ab3d9',\n",
       "       'width': 640},\n",
       "      {'height': 300,\n",
       "       'url': 'https://i.scdn.co/image/ab67616d00001e02ea4514f6b820adfea20ab3d9',\n",
       "       'width': 300},\n",
       "      {'height': 64,\n",
       "       'url': 'https://i.scdn.co/image/ab67616d00004851ea4514f6b820adfea20ab3d9',\n",
       "       'width': 64}],\n",
       "     'name': \"They've Got It Going On...The Best Boybands Ever!\",\n",
       "     'release_date': '2012-12-14',\n",
       "     'release_date_precision': 'day',\n",
       "     'total_tracks': 20,\n",
       "     'type': 'album',\n",
       "     'uri': 'spotify:album:508XLM4RB1mxjavDYnPANE'},\n",
       "    'artists': [{'external_urls': {'spotify': 'https://open.spotify.com/artist/6Ff53KvcvAj5U7Z1vojB5o'},\n",
       "      'href': 'https://api.spotify.com/v1/artists/6Ff53KvcvAj5U7Z1vojB5o',\n",
       "      'id': '6Ff53KvcvAj5U7Z1vojB5o',\n",
       "      'name': '*NSYNC',\n",
       "      'type': 'artist',\n",
       "      'uri': 'spotify:artist:6Ff53KvcvAj5U7Z1vojB5o'}],\n",
       "    'available_markets': ['AD',\n",
       "     'AE',\n",
       "     'AL',\n",
       "     'AM',\n",
       "     'AO',\n",
       "     'AT',\n",
       "     'AZ',\n",
       "     'BA',\n",
       "     'BD',\n",
       "     'BE',\n",
       "     'BF',\n",
       "     'BG',\n",
       "     'BH',\n",
       "     'BI',\n",
       "     'BJ',\n",
       "     'BN',\n",
       "     'BT',\n",
       "     'BW',\n",
       "     'BY',\n",
       "     'CA',\n",
       "     'CD',\n",
       "     'CG',\n",
       "     'CH',\n",
       "     'CI',\n",
       "     'CM',\n",
       "     'CV',\n",
       "     'CW',\n",
       "     'CY',\n",
       "     'CZ',\n",
       "     'DE',\n",
       "     'DJ',\n",
       "     'DK',\n",
       "     'DZ',\n",
       "     'EE',\n",
       "     'EG',\n",
       "     'ES',\n",
       "     'FI',\n",
       "     'FJ',\n",
       "     'FM',\n",
       "     'FR',\n",
       "     'GA',\n",
       "     'GB',\n",
       "     'GE',\n",
       "     'GH',\n",
       "     'GM',\n",
       "     'GN',\n",
       "     'GQ',\n",
       "     'GR',\n",
       "     'GW',\n",
       "     'HK',\n",
       "     'HR',\n",
       "     'HU',\n",
       "     'ID',\n",
       "     'IE',\n",
       "     'IL',\n",
       "     'IN',\n",
       "     'IQ',\n",
       "     'IS',\n",
       "     'IT',\n",
       "     'JO',\n",
       "     'JP',\n",
       "     'KE',\n",
       "     'KG',\n",
       "     'KH',\n",
       "     'KM',\n",
       "     'KR',\n",
       "     'KW',\n",
       "     'KZ',\n",
       "     'LA',\n",
       "     'LB',\n",
       "     'LI',\n",
       "     'LK',\n",
       "     'LR',\n",
       "     'LS',\n",
       "     'LT',\n",
       "     'LU',\n",
       "     'LV',\n",
       "     'LY',\n",
       "     'MA',\n",
       "     'MC',\n",
       "     'MD',\n",
       "     'ME',\n",
       "     'MG',\n",
       "     'MK',\n",
       "     'ML',\n",
       "     'MN',\n",
       "     'MO',\n",
       "     'MR',\n",
       "     'MT',\n",
       "     'MU',\n",
       "     'MV',\n",
       "     'MW',\n",
       "     'MX',\n",
       "     'MY',\n",
       "     'MZ',\n",
       "     'NA',\n",
       "     'NE',\n",
       "     'NG',\n",
       "     'NL',\n",
       "     'NO',\n",
       "     'NP',\n",
       "     'NZ',\n",
       "     'OM',\n",
       "     'PH',\n",
       "     'PK',\n",
       "     'PL',\n",
       "     'PS',\n",
       "     'PT',\n",
       "     'QA',\n",
       "     'RO',\n",
       "     'RS',\n",
       "     'RW',\n",
       "     'SA',\n",
       "     'SC',\n",
       "     'SE',\n",
       "     'SG',\n",
       "     'SI',\n",
       "     'SK',\n",
       "     'SL',\n",
       "     'SM',\n",
       "     'SN',\n",
       "     'ST',\n",
       "     'SZ',\n",
       "     'TD',\n",
       "     'TG',\n",
       "     'TH',\n",
       "     'TJ',\n",
       "     'TL',\n",
       "     'TN',\n",
       "     'TR',\n",
       "     'TW',\n",
       "     'TZ',\n",
       "     'UA',\n",
       "     'UG',\n",
       "     'UZ',\n",
       "     'VN',\n",
       "     'WS',\n",
       "     'XK',\n",
       "     'ZA',\n",
       "     'ZM',\n",
       "     'ZW'],\n",
       "    'disc_number': 1,\n",
       "    'duration_ms': 210973,\n",
       "    'explicit': False,\n",
       "    'external_ids': {'isrc': 'DEA819700002'},\n",
       "    'external_urls': {'spotify': 'https://open.spotify.com/track/0JviP4ARedc2NcllJqY2pp'},\n",
       "    'href': 'https://api.spotify.com/v1/tracks/0JviP4ARedc2NcllJqY2pp',\n",
       "    'id': '0JviP4ARedc2NcllJqY2pp',\n",
       "    'is_local': False,\n",
       "    'name': \"Tearin' up My Heart - Radio Edit\",\n",
       "    'popularity': 9,\n",
       "    'preview_url': 'https://p.scdn.co/mp3-preview/59c7e3f8b3f89b9792980cdb4c0f2c79b4ead462?cid=774b29d4f13844c495f206cafdad9c86',\n",
       "    'track_number': 4,\n",
       "    'type': 'track',\n",
       "    'uri': 'spotify:track:0JviP4ARedc2NcllJqY2pp'},\n",
       "   {'album': {'album_type': 'compilation',\n",
       "     'artists': [{'external_urls': {'spotify': 'https://open.spotify.com/artist/0LyfQWJT6nXafLPZqxe9Of'},\n",
       "       'href': 'https://api.spotify.com/v1/artists/0LyfQWJT6nXafLPZqxe9Of',\n",
       "       'id': '0LyfQWJT6nXafLPZqxe9Of',\n",
       "       'name': 'Various Artists',\n",
       "       'type': 'artist',\n",
       "       'uri': 'spotify:artist:0LyfQWJT6nXafLPZqxe9Of'}],\n",
       "     'available_markets': ['AD',\n",
       "      'AE',\n",
       "      'AG',\n",
       "      'AL',\n",
       "      'AM',\n",
       "      'AO',\n",
       "      'AR',\n",
       "      'AT',\n",
       "      'AZ',\n",
       "      'BA',\n",
       "      'BB',\n",
       "      'BD',\n",
       "      'BE',\n",
       "      'BF',\n",
       "      'BG',\n",
       "      'BH',\n",
       "      'BI',\n",
       "      'BJ',\n",
       "      'BN',\n",
       "      'BO',\n",
       "      'BR',\n",
       "      'BS',\n",
       "      'BT',\n",
       "      'BW',\n",
       "      'BY',\n",
       "      'BZ',\n",
       "      'CA',\n",
       "      'CD',\n",
       "      'CG',\n",
       "      'CH',\n",
       "      'CI',\n",
       "      'CL',\n",
       "      'CM',\n",
       "      'CO',\n",
       "      'CR',\n",
       "      'CV',\n",
       "      'CW',\n",
       "      'CY',\n",
       "      'CZ',\n",
       "      'DE',\n",
       "      'DJ',\n",
       "      'DK',\n",
       "      'DM',\n",
       "      'DO',\n",
       "      'DZ',\n",
       "      'EC',\n",
       "      'EE',\n",
       "      'EG',\n",
       "      'ES',\n",
       "      'FI',\n",
       "      'FM',\n",
       "      'FR',\n",
       "      'GA',\n",
       "      'GB',\n",
       "      'GD',\n",
       "      'GE',\n",
       "      'GH',\n",
       "      'GM',\n",
       "      'GN',\n",
       "      'GQ',\n",
       "      'GR',\n",
       "      'GT',\n",
       "      'GW',\n",
       "      'GY',\n",
       "      'HK',\n",
       "      'HN',\n",
       "      'HR',\n",
       "      'HT',\n",
       "      'HU',\n",
       "      'ID',\n",
       "      'IE',\n",
       "      'IL',\n",
       "      'IN',\n",
       "      'IQ',\n",
       "      'IS',\n",
       "      'IT',\n",
       "      'JM',\n",
       "      'JO',\n",
       "      'KE',\n",
       "      'KG',\n",
       "      'KH',\n",
       "      'KM',\n",
       "      'KN',\n",
       "      'KR',\n",
       "      'KW',\n",
       "      'KZ',\n",
       "      'LA',\n",
       "      'LB',\n",
       "      'LC',\n",
       "      'LI',\n",
       "      'LK',\n",
       "      'LR',\n",
       "      'LS',\n",
       "      'LT',\n",
       "      'LU',\n",
       "      'LV',\n",
       "      'LY',\n",
       "      'MA',\n",
       "      'MC',\n",
       "      'MD',\n",
       "      'ME',\n",
       "      'MG',\n",
       "      'MK',\n",
       "      'ML',\n",
       "      'MN',\n",
       "      'MO',\n",
       "      'MR',\n",
       "      'MT',\n",
       "      'MU',\n",
       "      'MV',\n",
       "      'MW',\n",
       "      'MX',\n",
       "      'MY',\n",
       "      'MZ',\n",
       "      'NA',\n",
       "      'NE',\n",
       "      'NG',\n",
       "      'NI',\n",
       "      'NL',\n",
       "      'NO',\n",
       "      'NP',\n",
       "      'OM',\n",
       "      'PA',\n",
       "      'PE',\n",
       "      'PH',\n",
       "      'PK',\n",
       "      'PL',\n",
       "      'PS',\n",
       "      'PT',\n",
       "      'PY',\n",
       "      'QA',\n",
       "      'RO',\n",
       "      'RS',\n",
       "      'RW',\n",
       "      'SA',\n",
       "      'SC',\n",
       "      'SE',\n",
       "      'SG',\n",
       "      'SI',\n",
       "      'SK',\n",
       "      'SL',\n",
       "      'SM',\n",
       "      'SN',\n",
       "      'SR',\n",
       "      'ST',\n",
       "      'SV',\n",
       "      'SZ',\n",
       "      'TD',\n",
       "      'TG',\n",
       "      'TH',\n",
       "      'TJ',\n",
       "      'TL',\n",
       "      'TN',\n",
       "      'TR',\n",
       "      'TT',\n",
       "      'TW',\n",
       "      'TZ',\n",
       "      'UA',\n",
       "      'UG',\n",
       "      'UY',\n",
       "      'UZ',\n",
       "      'VC',\n",
       "      'VE',\n",
       "      'VN',\n",
       "      'XK',\n",
       "      'ZA',\n",
       "      'ZM',\n",
       "      'ZW'],\n",
       "     'external_urls': {'spotify': 'https://open.spotify.com/album/1WCmSZIQoEfTgXKxfXEYyd'},\n",
       "     'href': 'https://api.spotify.com/v1/albums/1WCmSZIQoEfTgXKxfXEYyd',\n",
       "     'id': '1WCmSZIQoEfTgXKxfXEYyd',\n",
       "     'images': [{'height': 640,\n",
       "       'url': 'https://i.scdn.co/image/ab67616d0000b273c85b2f9838fc6eb60ae167fa',\n",
       "       'width': 640},\n",
       "      {'height': 300,\n",
       "       'url': 'https://i.scdn.co/image/ab67616d00001e02c85b2f9838fc6eb60ae167fa',\n",
       "       'width': 300},\n",
       "      {'height': 64,\n",
       "       'url': 'https://i.scdn.co/image/ab67616d00004851c85b2f9838fc6eb60ae167fa',\n",
       "       'width': 64}],\n",
       "     'name': 'Pure... 90s',\n",
       "     'release_date': '2012-07-13',\n",
       "     'release_date_precision': 'day',\n",
       "     'total_tracks': 68,\n",
       "     'type': 'album',\n",
       "     'uri': 'spotify:album:1WCmSZIQoEfTgXKxfXEYyd'},\n",
       "    'artists': [{'external_urls': {'spotify': 'https://open.spotify.com/artist/6Ff53KvcvAj5U7Z1vojB5o'},\n",
       "      'href': 'https://api.spotify.com/v1/artists/6Ff53KvcvAj5U7Z1vojB5o',\n",
       "      'id': '6Ff53KvcvAj5U7Z1vojB5o',\n",
       "      'name': '*NSYNC',\n",
       "      'type': 'artist',\n",
       "      'uri': 'spotify:artist:6Ff53KvcvAj5U7Z1vojB5o'}],\n",
       "    'available_markets': ['AD',\n",
       "     'AE',\n",
       "     'AG',\n",
       "     'AL',\n",
       "     'AM',\n",
       "     'AO',\n",
       "     'AR',\n",
       "     'AT',\n",
       "     'AZ',\n",
       "     'BA',\n",
       "     'BB',\n",
       "     'BD',\n",
       "     'BE',\n",
       "     'BF',\n",
       "     'BG',\n",
       "     'BH',\n",
       "     'BI',\n",
       "     'BJ',\n",
       "     'BN',\n",
       "     'BO',\n",
       "     'BR',\n",
       "     'BS',\n",
       "     'BT',\n",
       "     'BW',\n",
       "     'BY',\n",
       "     'BZ',\n",
       "     'CA',\n",
       "     'CD',\n",
       "     'CG',\n",
       "     'CH',\n",
       "     'CI',\n",
       "     'CL',\n",
       "     'CM',\n",
       "     'CO',\n",
       "     'CR',\n",
       "     'CV',\n",
       "     'CW',\n",
       "     'CY',\n",
       "     'CZ',\n",
       "     'DE',\n",
       "     'DJ',\n",
       "     'DK',\n",
       "     'DM',\n",
       "     'DO',\n",
       "     'DZ',\n",
       "     'EC',\n",
       "     'EE',\n",
       "     'EG',\n",
       "     'ES',\n",
       "     'FI',\n",
       "     'FM',\n",
       "     'FR',\n",
       "     'GA',\n",
       "     'GB',\n",
       "     'GD',\n",
       "     'GE',\n",
       "     'GH',\n",
       "     'GM',\n",
       "     'GN',\n",
       "     'GQ',\n",
       "     'GR',\n",
       "     'GT',\n",
       "     'GW',\n",
       "     'GY',\n",
       "     'HK',\n",
       "     'HN',\n",
       "     'HR',\n",
       "     'HT',\n",
       "     'HU',\n",
       "     'ID',\n",
       "     'IE',\n",
       "     'IL',\n",
       "     'IN',\n",
       "     'IQ',\n",
       "     'IS',\n",
       "     'IT',\n",
       "     'JM',\n",
       "     'JO',\n",
       "     'KE',\n",
       "     'KG',\n",
       "     'KH',\n",
       "     'KM',\n",
       "     'KN',\n",
       "     'KR',\n",
       "     'KW',\n",
       "     'KZ',\n",
       "     'LA',\n",
       "     'LB',\n",
       "     'LC',\n",
       "     'LI',\n",
       "     'LK',\n",
       "     'LR',\n",
       "     'LS',\n",
       "     'LT',\n",
       "     'LU',\n",
       "     'LV',\n",
       "     'LY',\n",
       "     'MA',\n",
       "     'MC',\n",
       "     'MD',\n",
       "     'ME',\n",
       "     'MG',\n",
       "     'MK',\n",
       "     'ML',\n",
       "     'MN',\n",
       "     'MO',\n",
       "     'MR',\n",
       "     'MT',\n",
       "     'MU',\n",
       "     'MV',\n",
       "     'MW',\n",
       "     'MX',\n",
       "     'MY',\n",
       "     'MZ',\n",
       "     'NA',\n",
       "     'NE',\n",
       "     'NG',\n",
       "     'NI',\n",
       "     'NL',\n",
       "     'NO',\n",
       "     'NP',\n",
       "     'OM',\n",
       "     'PA',\n",
       "     'PE',\n",
       "     'PH',\n",
       "     'PK',\n",
       "     'PL',\n",
       "     'PS',\n",
       "     'PT',\n",
       "     'PY',\n",
       "     'QA',\n",
       "     'RO',\n",
       "     'RS',\n",
       "     'RW',\n",
       "     'SA',\n",
       "     'SC',\n",
       "     'SE',\n",
       "     'SG',\n",
       "     'SI',\n",
       "     'SK',\n",
       "     'SL',\n",
       "     'SM',\n",
       "     'SN',\n",
       "     'SR',\n",
       "     'ST',\n",
       "     'SV',\n",
       "     'SZ',\n",
       "     'TD',\n",
       "     'TG',\n",
       "     'TH',\n",
       "     'TJ',\n",
       "     'TL',\n",
       "     'TN',\n",
       "     'TR',\n",
       "     'TT',\n",
       "     'TW',\n",
       "     'TZ',\n",
       "     'UA',\n",
       "     'UG',\n",
       "     'UY',\n",
       "     'UZ',\n",
       "     'VC',\n",
       "     'VE',\n",
       "     'VN',\n",
       "     'XK',\n",
       "     'ZA',\n",
       "     'ZM',\n",
       "     'ZW'],\n",
       "    'disc_number': 4,\n",
       "    'duration_ms': 208386,\n",
       "    'explicit': False,\n",
       "    'external_ids': {'isrc': 'DEA819700002'},\n",
       "    'external_urls': {'spotify': 'https://open.spotify.com/track/7mJEOwQgyu11Utgam3D90U'},\n",
       "    'href': 'https://api.spotify.com/v1/tracks/7mJEOwQgyu11Utgam3D90U',\n",
       "    'id': '7mJEOwQgyu11Utgam3D90U',\n",
       "    'is_local': False,\n",
       "    'name': \"Tearin' up My Heart - Radio Edit\",\n",
       "    'popularity': 6,\n",
       "    'preview_url': 'https://p.scdn.co/mp3-preview/0f1b656e180b9fca7d1eb1d4f44d871d30afb7d3?cid=774b29d4f13844c495f206cafdad9c86',\n",
       "    'track_number': 14,\n",
       "    'type': 'track',\n",
       "    'uri': 'spotify:track:7mJEOwQgyu11Utgam3D90U'},\n",
       "   {'album': {'album_type': 'compilation',\n",
       "     'artists': [{'external_urls': {'spotify': 'https://open.spotify.com/artist/6Ff53KvcvAj5U7Z1vojB5o'},\n",
       "       'href': 'https://api.spotify.com/v1/artists/6Ff53KvcvAj5U7Z1vojB5o',\n",
       "       'id': '6Ff53KvcvAj5U7Z1vojB5o',\n",
       "       'name': '*NSYNC',\n",
       "       'type': 'artist',\n",
       "       'uri': 'spotify:artist:6Ff53KvcvAj5U7Z1vojB5o'}],\n",
       "     'available_markets': ['AD',\n",
       "      'AE',\n",
       "      'AG',\n",
       "      'AL',\n",
       "      'AM',\n",
       "      'AO',\n",
       "      'AR',\n",
       "      'AZ',\n",
       "      'BA',\n",
       "      'BB',\n",
       "      'BD',\n",
       "      'BE',\n",
       "      'BF',\n",
       "      'BG',\n",
       "      'BH',\n",
       "      'BI',\n",
       "      'BJ',\n",
       "      'BN',\n",
       "      'BO',\n",
       "      'BR',\n",
       "      'BS',\n",
       "      'BT',\n",
       "      'BW',\n",
       "      'BY',\n",
       "      'BZ',\n",
       "      'CA',\n",
       "      'CD',\n",
       "      'CG',\n",
       "      'CH',\n",
       "      'CI',\n",
       "      'CL',\n",
       "      'CM',\n",
       "      'CO',\n",
       "      'CR',\n",
       "      'CV',\n",
       "      'CW',\n",
       "      'CY',\n",
       "      'CZ',\n",
       "      'DJ',\n",
       "      'DK',\n",
       "      'DM',\n",
       "      'DO',\n",
       "      'DZ',\n",
       "      'EC',\n",
       "      'EE',\n",
       "      'EG',\n",
       "      'ES',\n",
       "      'FI',\n",
       "      'FM',\n",
       "      'FR',\n",
       "      'GA',\n",
       "      'GB',\n",
       "      'GD',\n",
       "      'GE',\n",
       "      'GH',\n",
       "      'GM',\n",
       "      'GN',\n",
       "      'GQ',\n",
       "      'GR',\n",
       "      'GT',\n",
       "      'GW',\n",
       "      'GY',\n",
       "      'HK',\n",
       "      'HN',\n",
       "      'HR',\n",
       "      'HT',\n",
       "      'HU',\n",
       "      'ID',\n",
       "      'IE',\n",
       "      'IL',\n",
       "      'IN',\n",
       "      'IQ',\n",
       "      'IS',\n",
       "      'IT',\n",
       "      'JM',\n",
       "      'JO',\n",
       "      'JP',\n",
       "      'KE',\n",
       "      'KG',\n",
       "      'KH',\n",
       "      'KM',\n",
       "      'KN',\n",
       "      'KR',\n",
       "      'KW',\n",
       "      'KZ',\n",
       "      'LA',\n",
       "      'LB',\n",
       "      'LC',\n",
       "      'LI',\n",
       "      'LK',\n",
       "      'LR',\n",
       "      'LS',\n",
       "      'LT',\n",
       "      'LU',\n",
       "      'LV',\n",
       "      'LY',\n",
       "      'MA',\n",
       "      'MC',\n",
       "      'MD',\n",
       "      'ME',\n",
       "      'MG',\n",
       "      'MK',\n",
       "      'ML',\n",
       "      'MN',\n",
       "      'MO',\n",
       "      'MR',\n",
       "      'MT',\n",
       "      'MU',\n",
       "      'MV',\n",
       "      'MW',\n",
       "      'MX',\n",
       "      'MY',\n",
       "      'MZ',\n",
       "      'NA',\n",
       "      'NE',\n",
       "      'NG',\n",
       "      'NI',\n",
       "      'NL',\n",
       "      'NO',\n",
       "      'NP',\n",
       "      'OM',\n",
       "      'PA',\n",
       "      'PE',\n",
       "      'PH',\n",
       "      'PK',\n",
       "      'PL',\n",
       "      'PS',\n",
       "      'PT',\n",
       "      'PY',\n",
       "      'QA',\n",
       "      'RO',\n",
       "      'RS',\n",
       "      'RW',\n",
       "      'SA',\n",
       "      'SC',\n",
       "      'SE',\n",
       "      'SG',\n",
       "      'SI',\n",
       "      'SK',\n",
       "      'SL',\n",
       "      'SM',\n",
       "      'SN',\n",
       "      'SR',\n",
       "      'ST',\n",
       "      'SV',\n",
       "      'SZ',\n",
       "      'TD',\n",
       "      'TG',\n",
       "      'TH',\n",
       "      'TJ',\n",
       "      'TL',\n",
       "      'TN',\n",
       "      'TR',\n",
       "      'TT',\n",
       "      'TW',\n",
       "      'TZ',\n",
       "      'UA',\n",
       "      'UG',\n",
       "      'UY',\n",
       "      'UZ',\n",
       "      'VC',\n",
       "      'VE',\n",
       "      'VN',\n",
       "      'XK',\n",
       "      'ZA',\n",
       "      'ZM',\n",
       "      'ZW'],\n",
       "     'external_urls': {'spotify': 'https://open.spotify.com/album/48hJFCmwu5cvKiwTEUdCOt'},\n",
       "     'href': 'https://api.spotify.com/v1/albums/48hJFCmwu5cvKiwTEUdCOt',\n",
       "     'id': '48hJFCmwu5cvKiwTEUdCOt',\n",
       "     'images': [{'height': 640,\n",
       "       'url': 'https://i.scdn.co/image/ab67616d0000b273a25ab71c61a1d85f3057a2d3',\n",
       "       'width': 640},\n",
       "      {'height': 300,\n",
       "       'url': 'https://i.scdn.co/image/ab67616d00001e02a25ab71c61a1d85f3057a2d3',\n",
       "       'width': 300},\n",
       "      {'height': 64,\n",
       "       'url': 'https://i.scdn.co/image/ab67616d00004851a25ab71c61a1d85f3057a2d3',\n",
       "       'width': 64}],\n",
       "     'name': 'Greatest Hits',\n",
       "     'release_date': '2005',\n",
       "     'release_date_precision': 'year',\n",
       "     'total_tracks': 12,\n",
       "     'type': 'album',\n",
       "     'uri': 'spotify:album:48hJFCmwu5cvKiwTEUdCOt'},\n",
       "    'artists': [{'external_urls': {'spotify': 'https://open.spotify.com/artist/6Ff53KvcvAj5U7Z1vojB5o'},\n",
       "      'href': 'https://api.spotify.com/v1/artists/6Ff53KvcvAj5U7Z1vojB5o',\n",
       "      'id': '6Ff53KvcvAj5U7Z1vojB5o',\n",
       "      'name': '*NSYNC',\n",
       "      'type': 'artist',\n",
       "      'uri': 'spotify:artist:6Ff53KvcvAj5U7Z1vojB5o'}],\n",
       "    'available_markets': ['AD',\n",
       "     'AE',\n",
       "     'AG',\n",
       "     'AL',\n",
       "     'AM',\n",
       "     'AO',\n",
       "     'AR',\n",
       "     'AZ',\n",
       "     'BA',\n",
       "     'BB',\n",
       "     'BD',\n",
       "     'BE',\n",
       "     'BF',\n",
       "     'BG',\n",
       "     'BH',\n",
       "     'BI',\n",
       "     'BJ',\n",
       "     'BN',\n",
       "     'BO',\n",
       "     'BR',\n",
       "     'BS',\n",
       "     'BT',\n",
       "     'BW',\n",
       "     'BY',\n",
       "     'BZ',\n",
       "     'CA',\n",
       "     'CD',\n",
       "     'CG',\n",
       "     'CH',\n",
       "     'CI',\n",
       "     'CL',\n",
       "     'CM',\n",
       "     'CO',\n",
       "     'CR',\n",
       "     'CV',\n",
       "     'CW',\n",
       "     'CY',\n",
       "     'CZ',\n",
       "     'DJ',\n",
       "     'DK',\n",
       "     'DM',\n",
       "     'DO',\n",
       "     'DZ',\n",
       "     'EC',\n",
       "     'EE',\n",
       "     'EG',\n",
       "     'ES',\n",
       "     'FI',\n",
       "     'FM',\n",
       "     'FR',\n",
       "     'GA',\n",
       "     'GB',\n",
       "     'GD',\n",
       "     'GE',\n",
       "     'GH',\n",
       "     'GM',\n",
       "     'GN',\n",
       "     'GQ',\n",
       "     'GR',\n",
       "     'GT',\n",
       "     'GW',\n",
       "     'GY',\n",
       "     'HK',\n",
       "     'HN',\n",
       "     'HR',\n",
       "     'HT',\n",
       "     'HU',\n",
       "     'ID',\n",
       "     'IE',\n",
       "     'IL',\n",
       "     'IN',\n",
       "     'IQ',\n",
       "     'IS',\n",
       "     'IT',\n",
       "     'JM',\n",
       "     'JO',\n",
       "     'JP',\n",
       "     'KE',\n",
       "     'KG',\n",
       "     'KH',\n",
       "     'KM',\n",
       "     'KN',\n",
       "     'KR',\n",
       "     'KW',\n",
       "     'KZ',\n",
       "     'LA',\n",
       "     'LB',\n",
       "     'LC',\n",
       "     'LI',\n",
       "     'LK',\n",
       "     'LR',\n",
       "     'LS',\n",
       "     'LT',\n",
       "     'LU',\n",
       "     'LV',\n",
       "     'LY',\n",
       "     'MA',\n",
       "     'MC',\n",
       "     'MD',\n",
       "     'ME',\n",
       "     'MG',\n",
       "     'MK',\n",
       "     'ML',\n",
       "     'MN',\n",
       "     'MO',\n",
       "     'MR',\n",
       "     'MT',\n",
       "     'MU',\n",
       "     'MV',\n",
       "     'MW',\n",
       "     'MX',\n",
       "     'MY',\n",
       "     'MZ',\n",
       "     'NA',\n",
       "     'NE',\n",
       "     'NG',\n",
       "     'NI',\n",
       "     'NL',\n",
       "     'NO',\n",
       "     'NP',\n",
       "     'OM',\n",
       "     'PA',\n",
       "     'PE',\n",
       "     'PH',\n",
       "     'PK',\n",
       "     'PL',\n",
       "     'PS',\n",
       "     'PT',\n",
       "     'PY',\n",
       "     'QA',\n",
       "     'RO',\n",
       "     'RS',\n",
       "     'RW',\n",
       "     'SA',\n",
       "     'SC',\n",
       "     'SE',\n",
       "     'SG',\n",
       "     'SI',\n",
       "     'SK',\n",
       "     'SL',\n",
       "     'SM',\n",
       "     'SN',\n",
       "     'SR',\n",
       "     'ST',\n",
       "     'SV',\n",
       "     'SZ',\n",
       "     'TD',\n",
       "     'TG',\n",
       "     'TH',\n",
       "     'TJ',\n",
       "     'TL',\n",
       "     'TN',\n",
       "     'TR',\n",
       "     'TT',\n",
       "     'TW',\n",
       "     'TZ',\n",
       "     'UA',\n",
       "     'UG',\n",
       "     'UY',\n",
       "     'UZ',\n",
       "     'VC',\n",
       "     'VE',\n",
       "     'VN',\n",
       "     'XK',\n",
       "     'ZA',\n",
       "     'ZM',\n",
       "     'ZW'],\n",
       "    'disc_number': 1,\n",
       "    'duration_ms': 209560,\n",
       "    'explicit': False,\n",
       "    'external_ids': {'isrc': 'DEA819700002'},\n",
       "    'external_urls': {'spotify': 'https://open.spotify.com/track/4Hn8xQ383DhET86hQLW36g'},\n",
       "    'href': 'https://api.spotify.com/v1/tracks/4Hn8xQ383DhET86hQLW36g',\n",
       "    'id': '4Hn8xQ383DhET86hQLW36g',\n",
       "    'is_local': False,\n",
       "    'name': \"Tearin' up My Heart - Radio Edit\",\n",
       "    'popularity': 10,\n",
       "    'preview_url': 'https://p.scdn.co/mp3-preview/3625b06d8469c05770d75f2e961693c658c58fb4?cid=774b29d4f13844c495f206cafdad9c86',\n",
       "    'track_number': 9,\n",
       "    'type': 'track',\n",
       "    'uri': 'spotify:track:4Hn8xQ383DhET86hQLW36g'}],\n",
       "  'limit': 10,\n",
       "  'next': 'https://api.spotify.com/v1/search?query=artist%3AN+Sync+track%3ATearin+Up+My+Heart&type=track&offset=10&limit=10',\n",
       "  'offset': 0,\n",
       "  'previous': None,\n",
       "  'total': 11}}"
      ]
     },
     "execution_count": 4,
     "metadata": {},
     "output_type": "execute_result"
    }
   ],
   "source": [
    "# TEST\n",
    "track_title, artist_name = 'Tearin Up My Heart', 'N Sync'\n",
    "spotify.search(q='artist:' + artist_name + ' track:' + track_title, type='track')"
   ]
  },
  {
   "cell_type": "markdown",
   "id": "f6c8526b",
   "metadata": {},
   "source": [
    "### The Billboard 100"
   ]
  },
  {
   "cell_type": "code",
   "execution_count": 5,
   "id": "c5a90136",
   "metadata": {},
   "outputs": [],
   "source": [
    "# Billboard Top 100 Historical Data\n",
    "# link:  https://www.kaggle.com/datasets/dhruvildave/billboard-the-hot-100-songs\n",
    "# via:  https://toolbox.google.com/datasetsearch\n",
    "url_billboard = r'D:\\RYERSON\\820\\Datasets\\Billboard The Hot 100 Songs\\charts.csv'"
   ]
  },
  {
   "cell_type": "markdown",
   "id": "c34c3dd5",
   "metadata": {},
   "source": [
    "### Unique Songs from The Billboard 100 Dataset"
   ]
  },
  {
   "cell_type": "code",
   "execution_count": 8,
   "id": "a8a0584e",
   "metadata": {},
   "outputs": [
    {
     "data": {
      "text/plain": [
       "(29681, 3)"
      ]
     },
     "execution_count": 8,
     "metadata": {},
     "output_type": "execute_result"
    }
   ],
   "source": [
    "# just the songs on the billboard 100, once per song\n",
    "df_billboard_songs = df_billboard[['song', 'artist']].drop_duplicates().sort_values(['artist', 'song']).reset_index(drop=True)\n",
    "\n",
    "# add a blank id column\n",
    "df_billboard_songs['id'] = \"\"\n",
    "\n",
    "df_billboard_songs.shape"
   ]
  },
  {
   "cell_type": "markdown",
   "id": "e7b3b605",
   "metadata": {},
   "source": [
    "### Get Spotify IDs using API\n",
    "(to join with large datasets)"
   ]
  },
  {
   "cell_type": "markdown",
   "id": "150fbd51",
   "metadata": {},
   "source": [
    "https://developer.spotify.com/terms/\n",
    "\n",
    "##### Useful Spotify API Features\n",
    "\n",
    "https://developer.spotify.com/documentation/web-api/reference/#/operations/get-several-audio-features\n",
    "\n",
    "https://developer.spotify.com/documentation/web-api/reference/#/operations/get-recommendations\n",
    "\n",
    "##### Other Links\n",
    "\n",
    "my app:\n",
    "https://developer.spotify.com/dashboard/applications/cd5ce2cb690543ff9967e817d4665543\n",
    "\n",
    "a tutorial: \n",
    "https://www.youtube.com/watch?v=cU8YH2rhN6A&ab_channel=Elbert"
   ]
  },
  {
   "cell_type": "code",
   "execution_count": null,
   "id": "8249bd06",
   "metadata": {},
   "outputs": [],
   "source": [
    "# # AUTHORIZATION WORKFLOW \n",
    "# # (doens't work anymore, I think I was throttled, but can't get any error messages)\n",
    "\n",
    "# # https://developer.spotify.com/documentation/general/guides/authorization/scopes/\n",
    "# # i think this is the right scope, but nothing works when I connect to my app\n",
    "# scope = 'user-read-private'\n",
    "\n",
    "# oauth = spotipy.SpotifyOAuth(\n",
    "#     client_id=client_id,\n",
    "#     client_secret=client_secret,\n",
    "#     redirect_uri=redirect_uri,\n",
    "#     scope=scope\n",
    "# )\n",
    "\n",
    "# oauth = spotipy.SpotifyOAuth(\n",
    "#     client_id=client_id,\n",
    "#     client_secret=client_secret,\n",
    "#     redirect_uri=redirect_uri\n",
    "# )\n",
    "\n",
    "# cached_token = oauth.get_cached_token()\n",
    "\n",
    "# # create a spotify object\n",
    "# spotify = spotipy.Spotify(auth=cached_token['access_token'])"
   ]
  },
  {
   "cell_type": "markdown",
   "id": "3be9806b",
   "metadata": {},
   "source": [
    "### TEMPORARY TOKEN WORKFLOW\n",
    "\n",
    "##### get a temporary authorization token from: https://developer.spotify.com/console/get-search-item"
   ]
  },
  {
   "cell_type": "code",
   "execution_count": null,
   "id": "418a133f",
   "metadata": {},
   "outputs": [],
   "source": [
    "# input the temporary token\n",
    "TEMP_TOKEN = input('Enter token: ')\n",
    "\n",
    "# create a spotify object\n",
    "spotify = spotipy.Spotify(auth=TEMP_TOKEN)"
   ]
  },
  {
   "cell_type": "code",
   "execution_count": 10,
   "id": "f8d8d6bf",
   "metadata": {},
   "outputs": [],
   "source": [
    "def find_id(track_title, artist_name, metadata_ids):\n",
    "    \"\"\" \n",
    "    for searches with multiple results, all id were identical for the test cases I ran \n",
    "    some searches return no results, in this case the song is not on spotify\n",
    "        confirmed by spot checks in the spotify music player\n",
    "    some tracks give a 404 error, \n",
    "        these seem to exist in Spotify but 404 anyway\n",
    "        not sure why the API does this but \n",
    "    \"\"\"\n",
    "    track_info = spotify.search(q='artist:' + artist_name + ' track:' + track_title, type='track')\n",
    "    \n",
    "    if track_info['tracks']['items'] == []:  # if track doesn't exist on Spotify\n",
    "        return None\n",
    "    else:\n",
    "        # set the id to the first result\n",
    "        track_id = track_info['tracks']['items'][0]['id']\n",
    "        \n",
    "        # check if there is a better match\n",
    "        number_of_results = len(track_info['tracks']['items'])\n",
    "        \n",
    "        for i in range(number_of_results):\n",
    "            alt_track_id = track_info['tracks']['items'][i]['id']\n",
    "            if alt_track_id in metadata_ids:\n",
    "                track_id = track_info['tracks']['items'][i]['id']\n",
    "        \n",
    "        return track_id"
   ]
  },
  {
   "cell_type": "markdown",
   "id": "3432b777",
   "metadata": {},
   "source": [
    "### Add Spotify IDs to billboard songs"
   ]
  },
  {
   "cell_type": "code",
   "execution_count": null,
   "id": "5c8b67a2",
   "metadata": {},
   "outputs": [],
   "source": [
    "# load saved csv as df\n",
    "# \n",
    "\n"
   ]
  },
  {
   "cell_type": "code",
   "execution_count": null,
   "id": "46839b4e",
   "metadata": {
    "scrolled": true
   },
   "outputs": [
    {
     "name": "stdout",
     "output_type": "stream",
     "text": [
      "0  \n",
      "10  20  30  40  50  60  70  80  90  100  \n",
      "110  120  130  140  150  160  170  180  190  200  \n",
      "210  220  230  240  250  260  270  280  290  300  \n",
      "310  320  "
     ]
    },
    {
     "name": "stderr",
     "output_type": "stream",
     "text": [
      "HTTP Error for GET to https://api.spotify.com/v1/search with Params: {'q': 'artist:A R Rahman & The Pussycat Dolls Featuring Nicole Scherzinger track:Jai Ho! (You Are My Destiny)', 'limit': 10, 'offset': 0, 'type': 'track', 'market': None} returned 404 due to Not found.\n"
     ]
    },
    {
     "name": "stdout",
     "output_type": "stream",
     "text": [
      "ERROR:   A R Rahman & The Pussycat Dolls Featuring Nicole Scherzinger Jai Ho! (You Are My Destiny)\n",
      "330  340  350  360  370  380  390  400  \n",
      "410  420  430  440  450  460  470  480  490  500  \n",
      "510  520  530  540  550  560  570  580  590  600  \n",
      "610  620  630  640  650  660  670  680  690  700  \n",
      "710  720  730  740  750  760  770  780  790  800  \n",
      "810  820  830  840  850  860  870  880  890  900  \n",
      "910  920  930  940  950  960  970  980  990  1000  \n",
      "1010  1020  1030  1040  1050  1060  1070  1080  1090  1100  \n",
      "1110  1120  1130  1140  1150  1160  1170  1180  1190  1200  \n",
      "1210  1220  1230  1240  1250  1260  1270  1280  "
     ]
    },
    {
     "name": "stderr",
     "output_type": "stream",
     "text": [
      "HTTP Error for GET to https://api.spotify.com/v1/search with Params: {'q': 'artist:Aretha Franklin With James Cleveland & The Southern California Community Choir track:Wholy Holy', 'limit': 10, 'offset': 0, 'type': 'track', 'market': None} returned 404 due to Not found.\n"
     ]
    },
    {
     "name": "stdout",
     "output_type": "stream",
     "text": [
      "ERROR:   Aretha Franklin With James Cleveland & The Southern California Community Choir Wholy Holy\n",
      "1290  1300  \n",
      "1310  1320  1330  1340  1350  1360  1370  1380  1390  1400  \n",
      "1410  1420  1430  1440  1450  1460  1470  1480  1490  1500  \n",
      "1510  1520  1530  1540  1550  1560  1570  1580  1590  1600  \n",
      "1610  1620  1630  1640  1650  1660  1670  1680  1690  1700  \n",
      "1710  "
     ]
    },
    {
     "name": "stderr",
     "output_type": "stream",
     "text": [
      "HTTP Error for GET to https://api.spotify.com/v1/search with Params: {'q': 'artist:Babyface Featuring LL Cool J, Howard Hewett, Jody Watley & Jeffrey Daniels track:This Is For The Lover In You', 'limit': 10, 'offset': 0, 'type': 'track', 'market': None} returned 404 due to Not found.\n"
     ]
    },
    {
     "name": "stdout",
     "output_type": "stream",
     "text": [
      "ERROR:   Babyface Featuring LL Cool J, Howard Hewett, Jody Watley & Jeffrey Daniels This Is For The Lover In You\n",
      "1720  1730  1740  1750  1760  1770  1780  1790  1800  \n",
      "1810  1820  1830  1840  1850  1860  1870  1880  1890  1900  \n",
      "1910  1920  "
     ]
    },
    {
     "name": "stderr",
     "output_type": "stream",
     "text": [
      "HTTP Error for GET to https://api.spotify.com/v1/search with Params: {'q': 'artist:Barbra Streisand & Bryan Adams track:I Finally Found Someone (From \"The Mirror Has Two Faces\")', 'limit': 10, 'offset': 0, 'type': 'track', 'market': None} returned 404 due to Not found.\n"
     ]
    },
    {
     "name": "stdout",
     "output_type": "stream",
     "text": [
      "ERROR:   Barbra Streisand & Bryan Adams I Finally Found Someone (From \"The Mirror Has Two Faces\")\n",
      "1930  1940  1950  1960  1970  1980  1990  2000  \n",
      "2010  2020  2030  2040  2050  2060  2070  2080  2090  2100  \n",
      "2110  2120  2130  2140  2150  2160  "
     ]
    },
    {
     "name": "stderr",
     "output_type": "stream",
     "text": [
      "HTTP Error for GET to https://api.spotify.com/v1/search with Params: {'q': 'artist:Berlin Philharmonic track:Theme Music For The Film \"2001\" A Space Odyssey from Also Sprach Zarathustr', 'limit': 10, 'offset': 0, 'type': 'track', 'market': None} returned 404 due to Not found.\n"
     ]
    },
    {
     "name": "stdout",
     "output_type": "stream",
     "text": [
      "2170  ERROR:   Berlin Philharmonic Theme Music For The Film \"2001\" A Space Odyssey from Also Sprach Zarathustr\n",
      "2180  2190  2200  \n",
      "2210  2220  2230  2240  2250  2260  2270  2280  2290  2300  \n",
      "2310  2320  2330  2340  2350  2360  2370  2380  2390  2400  \n",
      "2410  2420  2430  2440  2450  2460  2470  2480  2490  2500  \n",
      "2510  2520  2530  2540  2550  2560  2570  2580  2590  2600  \n",
      "2610  2620  2630  2640  2650  2660  2670  2680  2690  2700  \n",
      "2710  2720  2730  2740  2750  2760  2770  2780  2790  2800  \n",
      "2810  2820  2830  2840  2850  2860  2870  2880  2890  2900  \n",
      "2910  2920  2930  2940  2950  2960  2970  2980  2990  3000  \n",
      "3010  3020  3030  3040  3050  3060  3070  3080  3090  3100  \n",
      "3110  3120  3130  3140  3150  3160  3170  3180  3190  3200  \n",
      "3210  3220  3230  3240  3250  3260  3270  3280  3290  3300  \n",
      "3310  3320  3330  3340  3350  3360  3370  3380  3390  3400  \n",
      "3410  3420  3430  3440  3450  3460  3470  3480  3490  3500  \n",
      "3510  3520  3530  3540  3550  3560  3570  3580  3590  3600  \n",
      "3610  3620  3630  3640  3650  3660  3670  3680  3690  3700  \n",
      "3710  3720  3730  3740  3750  3760  3770  3780  3790  3800  \n",
      "3810  3820  3830  3840  3850  3860  3870  3880  3890  3900  \n",
      "3910  3920  3930  3940  3950  3960  3970  3980  3990  4000  \n",
      "4010  4020  4030  4040  4050  4060  4070  4080  4090  4100  \n",
      "4110  4120  4130  4140  4150  4160  4170  4180  4190  4200  \n",
      "4210  4220  4230  4240  4250  4260  4270  4280  4290  4300  \n",
      "4310  4320  4330  4340  4350  4360  4370  4380  4390  4400  \n",
      "4410  4420  4430  4440  4450  4460  4470  4480  4490  4500  \n",
      "4510  4520  "
     ]
    },
    {
     "name": "stderr",
     "output_type": "stream",
     "text": [
      "HTTP Error for GET to https://api.spotify.com/v1/search with Params: {'q': 'artist:Chad Brock With Hank Williams Jr. & George Jones track:A Country Boy Can Survive (Y2K Version)', 'limit': 10, 'offset': 0, 'type': 'track', 'market': None} returned 404 due to Not found.\n"
     ]
    },
    {
     "name": "stdout",
     "output_type": "stream",
     "text": [
      "ERROR:   Chad Brock With Hank Williams Jr. & George Jones A Country Boy Can Survive (Y2K Version)\n",
      "4530  4540  4550  4560  4570  4580  4590  "
     ]
    },
    {
     "name": "stderr",
     "output_type": "stream",
     "text": [
      "HTTP Error for GET to https://api.spotify.com/v1/search with Params: {'q': 'artist:Charles Wright And The Watts 103rd Street Rhythm Band track:Your Love (Means Everything to Me)', 'limit': 10, 'offset': 0, 'type': 'track', 'market': None} returned 404 due to Not found.\n"
     ]
    },
    {
     "name": "stdout",
     "output_type": "stream",
     "text": [
      "ERROR:   Charles Wright And The Watts 103rd Street Rhythm Band Your Love (Means Everything to Me)\n",
      "4600  \n",
      "4610  4620  4630  4640  4650  4660  4670  "
     ]
    },
    {
     "name": "stderr",
     "output_type": "stream",
     "text": [
      "HTTP Error for GET to https://api.spotify.com/v1/search with Params: {'q': 'artist:Cheech & Chong track:(How I Spent My Summer Vacation) Or A Day At The Beach With Pedro & Man - P', 'limit': 10, 'offset': 0, 'type': 'track', 'market': None} returned 404 due to Not found.\n"
     ]
    },
    {
     "name": "stdout",
     "output_type": "stream",
     "text": [
      "ERROR:   Cheech & Chong (How I Spent My Summer Vacation) Or A Day At The Beach With Pedro & Man - P\n",
      "4680  4690  4700  \n",
      "4710  4720  4730  4740  4750  4760  4770  4780  4790  4800  \n",
      "4810  4820  4830  4840  4850  4860  4870  4880  4890  "
     ]
    },
    {
     "name": "stderr",
     "output_type": "stream",
     "text": [
      "HTTP Error for GET to https://api.spotify.com/v1/search with Params: {'q': 'artist:Chris Brown Featuring Yo Gotti, A Boogie Wit da Hoodie & Kodak Black track:Pills And Automobiles', 'limit': 10, 'offset': 0, 'type': 'track', 'market': None} returned 404 due to Not found.\n"
     ]
    },
    {
     "name": "stdout",
     "output_type": "stream",
     "text": [
      "ERROR:   Chris Brown Featuring Yo Gotti, A Boogie Wit da Hoodie & Kodak Black Pills And Automobiles\n",
      "4900  \n"
     ]
    },
    {
     "name": "stderr",
     "output_type": "stream",
     "text": [
      "HTTP Error for GET to https://api.spotify.com/v1/search with Params: {'q': \"artist:Chris Christian (with Amy Holland) track:Ain't Nothing Like The Real Thing/You're All I Need To Get By\", 'limit': 10, 'offset': 0, 'type': 'track', 'market': None} returned 404 due to Not found.\n"
     ]
    },
    {
     "name": "stdout",
     "output_type": "stream",
     "text": [
      "ERROR:   Chris Christian (with Amy Holland) Ain't Nothing Like The Real Thing/You're All I Need To Get By\n",
      "4910  4920  4930  4940  4950  4960  4970  4980  4990  5000  \n",
      "5010  5020  5030  5040  5050  5060  5070  5080  5090  5100  \n",
      "5110  5120  5130  5140  5150  5160  5170  5180  5190  5200  \n",
      "5210  5220  5230  5240  5250  5260  5270  5280  5290  5300  \n",
      "5310  5320  5330  5340  5350  5360  5370  5380  5390  5400  \n",
      "5410  5420  5430  5440  5450  5460  5470  5480  5490  5500  \n",
      "5510  5520  5530  5540  5550  5560  5570  5580  5590  5600  \n",
      "5610  5620  5630  5640  5650  5660  5670  5680  5690  5700  \n",
      "5710  5720  5730  5740  5750  5760  5770  5780  "
     ]
    },
    {
     "name": "stderr",
     "output_type": "stream",
     "text": [
      "HTTP Error for GET to https://api.spotify.com/v1/search with Params: {'q': \"artist:DJ Khaled Feat. Akon, Plies, Young Jeezy, Rick Ross, Ace Hood, Trick Daddy & Lil' Boosie track:Out Here Grindin\", 'limit': 10, 'offset': 0, 'type': 'track', 'market': None} returned 404 due to Not found.\n"
     ]
    },
    {
     "name": "stdout",
     "output_type": "stream",
     "text": [
      "ERROR:   DJ Khaled Feat. Akon, Plies, Young Jeezy, Rick Ross, Ace Hood, Trick Daddy & Lil' Boosie Out Here Grindin\n",
      "5790  5800  \n",
      "5810  "
     ]
    },
    {
     "name": "stderr",
     "output_type": "stream",
     "text": [
      "HTTP Error for GET to https://api.spotify.com/v1/search with Params: {'q': 'artist:DJ Khaled Featuring Nicki Minaj, Chris Brown, August Alsina, Jeremih, Future & Rick Ross track:Do You Mind', 'limit': 10, 'offset': 0, 'type': 'track', 'market': None} returned 404 due to Not found.\n"
     ]
    },
    {
     "name": "stdout",
     "output_type": "stream",
     "text": [
      "ERROR:   DJ Khaled Featuring Nicki Minaj, Chris Brown, August Alsina, Jeremih, Future & Rick Ross Do You Mind\n",
      "5820  5830  5840  5850  5860  5870  5880  5890  5900  \n",
      "5910  5920  5930  5940  5950  5960  5970  5980  5990  6000  \n",
      "6010  6020  6030  6040  6050  6060  6070  6080  6090  6100  \n",
      "6110  6120  6130  6140  6150  6160  6170  6180  6190  6200  \n",
      "6210  6220  6230  6240  6250  6260  6270  6280  6290  6300  \n",
      "6310  6320  6330  6340  6350  6360  6370  6380  6390  6400  \n",
      "6410  6420  6430  6440  6450  6460  6470  6480  6490  6500  \n",
      "6510  6520  6530  6540  6550  6560  6570  6580  6590  6600  \n",
      "6610  6620  6630  6640  6650  6660  6670  6680  6690  6700  \n",
      "6710  6720  6730  6740  6750  "
     ]
    },
    {
     "name": "stderr",
     "output_type": "stream",
     "text": [
      "HTTP Error for GET to https://api.spotify.com/v1/search with Params: {'q': 'artist:Diana Ross, Marvin Gaye, Smokey Robinson & Stevie Wonder track:Pops, We Love You (A Tribute To Father)', 'limit': 10, 'offset': 0, 'type': 'track', 'market': None} returned 404 due to Not found.\n"
     ]
    },
    {
     "name": "stdout",
     "output_type": "stream",
     "text": [
      "ERROR:   Diana Ross, Marvin Gaye, Smokey Robinson & Stevie Wonder Pops, We Love You (A Tribute To Father)\n",
      "6760  6770  6780  6790  6800  \n",
      "6810  6820  6830  6840  6850  6860  6870  6880  6890  6900  \n",
      "6910  6920  6930  6940  6950  6960  6970  6980  6990  7000  \n",
      "7010  7020  7030  7040  7050  7060  7070  7080  7090  7100  \n",
      "7110  7120  7130  7140  7150  7160  7170  7180  7190  7200  \n",
      "7210  7220  7230  7240  7250  7260  7270  7280  7290  "
     ]
    },
    {
     "name": "stderr",
     "output_type": "stream",
     "text": [
      "HTTP Error for GET to https://api.spotify.com/v1/search with Params: {'q': 'artist:Dove Cameron, Sofia Carson, Booboo Stewart, Cameron Boyce, Thomas Doherty, China Anne McClain & Dylan Playfair track:Night Falls', 'limit': 10, 'offset': 0, 'type': 'track', 'market': None} returned 404 due to Not found.\n"
     ]
    },
    {
     "name": "stdout",
     "output_type": "stream",
     "text": [
      "ERROR:   Dove Cameron, Sofia Carson, Booboo Stewart, Cameron Boyce, Thomas Doherty, China Anne McClain & Dylan Playfair Night Falls\n",
      "7300  \n",
      "7310  7320  7330  7340  7350  7360  7370  7380  7390  7400  \n",
      "7410  7420  7430  7440  7450  7460  7470  7480  7490  7500  \n",
      "7510  "
     ]
    },
    {
     "name": "stderr",
     "output_type": "stream",
     "text": [
      "HTTP Error for GET to https://api.spotify.com/v1/search with Params: {'q': 'artist:Dreamville Featuring Bas, JID, Guapdad 4000, Reese LAFLARE, Jace, Mez, Smokepurpp, Buddy & Ski Mask The Slump God track:Costa Rica', 'limit': 10, 'offset': 0, 'type': 'track', 'market': None} returned 404 due to Not found.\n"
     ]
    },
    {
     "name": "stdout",
     "output_type": "stream",
     "text": [
      "ERROR:   Dreamville Featuring Bas, JID, Guapdad 4000, Reese LAFLARE, Jace, Mez, Smokepurpp, Buddy & Ski Mask The Slump God Costa Rica\n",
      "7520  7530  7540  7550  7560  7570  7580  7590  7600  \n",
      "7610  7620  7630  7640  7650  7660  7670  7680  7690  7700  \n",
      "7710  7720  7730  7740  7750  7760  7770  7780  7790  7800  \n",
      "7810  7820  7830  7840  7850  7860  7870  7880  7890  7900  \n",
      "7910  7920  7930  7940  7950  7960  7970  7980  7990  8000  \n",
      "8010  8020  8030  8040  8050  8060  8070  8080  8090  8100  \n",
      "8110  8120  8130  8140  8150  8160  8170  8180  8190  8200  \n",
      "8210  8220  8230  8240  8250  8260  8270  8280  8290  8300  \n",
      "8310  8320  8330  8340  8350  8360  8370  8380  8390  8400  \n",
      "8410  8420  8430  8440  8450  8460  8470  8480  8490  8500  \n",
      "8510  8520  8530  8540  8550  8560  8570  8580  8590  8600  \n",
      "8610  8620  8630  8640  8650  8660  8670  8680  8690  8700  \n",
      "8710  8720  8730  8740  8750  8760  8770  8780  8790  8800  \n",
      "8810  8820  8830  8840  8850  8860  8870  8880  8890  8900  \n",
      "8910  8920  8930  8940  8950  "
     ]
    },
    {
     "name": "stderr",
     "output_type": "stream",
     "text": [
      "HTTP Error for GET to https://api.spotify.com/v1/search with Params: {'q': 'artist:Five Finger Death Punch Featuring Kenny Wayne Shepherd, Brantley Gilbert & Brian May track:Blue On Black', 'limit': 10, 'offset': 0, 'type': 'track', 'market': None} returned 404 due to Not found.\n"
     ]
    },
    {
     "name": "stdout",
     "output_type": "stream",
     "text": [
      "ERROR:   Five Finger Death Punch Featuring Kenny Wayne Shepherd, Brantley Gilbert & Brian May Blue On Black\n",
      "8960  8970  8980  8990  9000  \n",
      "9010  9020  9030  9040  9050  9060  9070  9080  9090  9100  \n",
      "9110  9120  9130  9140  9150  9160  9170  9180  9190  9200  \n",
      "9210  9220  9230  9240  9250  9260  9270  9280  9290  9300  \n",
      "9310  9320  9330  9340  9350  9360  9370  9380  9390  9400  \n",
      "9410  9420  9430  9440  9450  9460  9470  9480  9490  9500  \n",
      "9510  9520  9530  9540  9550  9560  9570  9580  9590  9600  \n",
      "9610  9620  9630  9640  9650  9660  9670  9680  9690  9700  \n",
      "9710  9720  9730  9740  9750  9760  9770  9780  9790  9800  \n",
      "9810  9820  9830  9840  9850  9860  9870  9880  9890  9900  \n",
      "9910  9920  9930  9940  9950  9960  9970  9980  9990  10000  \n",
      "10010  10020  10030  10040  10050  10060  10070  10080  10090  10100  \n",
      "10110  10120  10130  10140  10150  10160  10170  10180  10190  10200  \n",
      "10210  10220  10230  10240  10250  10260  10270  10280  10290  10300  \n",
      "10310  10320  10330  10340  10350  10360  10370  10380  10390  10400  \n",
      "10410  10420  10430  10440  10450  10460  10470  10480  10490  10500  \n",
      "10510  10520  10530  10540  10550  10560  10570  10580  10590  10600  \n",
      "10610  10620  10630  10640  10650  10660  10670  10680  10690  10700  \n",
      "10710  10720  10730  10740  10750  10760  "
     ]
    },
    {
     "name": "stderr",
     "output_type": "stream",
     "text": [
      "HTTP Error for GET to https://api.spotify.com/v1/search with Params: {'q': 'artist:Hanson track:MMMBop', 'limit': 10, 'offset': 0, 'type': 'track', 'market': None} returned 401 due to The access token expired\n",
      "HTTP Error for GET to https://api.spotify.com/v1/search with Params: {'q': 'artist:Hanson track:This Time Around', 'limit': 10, 'offset': 0, 'type': 'track', 'market': None} returned 401 due to The access token expired\n",
      "HTTP Error for GET to https://api.spotify.com/v1/search with Params: {'q': 'artist:Happy Mondays track:Step On', 'limit': 10, 'offset': 0, 'type': 'track', 'market': None} returned 401 due to The access token expired\n",
      "HTTP Error for GET to https://api.spotify.com/v1/search with Params: {'q': 'artist:Harlow Wilcox and the Oakies track:Groovy Grubworm', 'limit': 10, 'offset': 0, 'type': 'track', 'market': None} returned 401 due to The access token expired\n",
      "HTTP Error for GET to https://api.spotify.com/v1/search with Params: {'q': 'artist:Harold Betters track:Do Anything You Wanna (Part I)', 'limit': 10, 'offset': 0, 'type': 'track', 'market': None} returned 401 due to The access token expired\n"
     ]
    },
    {
     "name": "stdout",
     "output_type": "stream",
     "text": [
      "ERROR:   Hanson MMMBop\n",
      "ERROR:   Hanson This Time Around\n",
      "ERROR:   Happy Mondays Step On\n",
      "ERROR:   Harlow Wilcox and the Oakies Groovy Grubworm\n",
      "10770  "
     ]
    },
    {
     "name": "stderr",
     "output_type": "stream",
     "text": [
      "HTTP Error for GET to https://api.spotify.com/v1/search with Params: {'q': 'artist:Harold Dorman track:Mountain Of Love', 'limit': 10, 'offset': 0, 'type': 'track', 'market': None} returned 401 due to The access token expired\n",
      "HTTP Error for GET to https://api.spotify.com/v1/search with Params: {'q': 'artist:Harold Faltermeyer track:Axel F', 'limit': 10, 'offset': 0, 'type': 'track', 'market': None} returned 401 due to The access token expired\n",
      "HTTP Error for GET to https://api.spotify.com/v1/search with Params: {'q': 'artist:Harold Melvin And The Blue Notes track:Bad Luck (Part 1)', 'limit': 10, 'offset': 0, 'type': 'track', 'market': None} returned 401 due to The access token expired\n"
     ]
    },
    {
     "name": "stdout",
     "output_type": "stream",
     "text": [
      "ERROR:   Harold Betters Do Anything You Wanna (Part I)\n",
      "ERROR:   Harold Dorman Mountain Of Love\n",
      "ERROR:   Harold Faltermeyer Axel F\n",
      "ERROR:   Harold Melvin And The Blue Notes Bad Luck (Part 1)\n"
     ]
    },
    {
     "name": "stderr",
     "output_type": "stream",
     "text": [
      "HTTP Error for GET to https://api.spotify.com/v1/search with Params: {'q': 'artist:Harold Melvin And The Blue Notes track:I Miss You (Part I)', 'limit': 10, 'offset': 0, 'type': 'track', 'market': None} returned 401 due to The access token expired\n",
      "HTTP Error for GET to https://api.spotify.com/v1/search with Params: {'q': \"artist:Harold Melvin And The Blue Notes track:If You Don't Know Me By Now\", 'limit': 10, 'offset': 0, 'type': 'track', 'market': None} returned 401 due to The access token expired\n",
      "HTTP Error for GET to https://api.spotify.com/v1/search with Params: {'q': 'artist:Harold Melvin And The Blue Notes track:Reaching For The World', 'limit': 10, 'offset': 0, 'type': 'track', 'market': None} returned 401 due to The access token expired\n",
      "HTTP Error for GET to https://api.spotify.com/v1/search with Params: {'q': 'artist:Harold Melvin And The Blue Notes track:Satisfaction Guaranteed (Or Take Your Love Back)', 'limit': 10, 'offset': 0, 'type': 'track', 'market': None} returned 401 due to The access token expired\n"
     ]
    },
    {
     "name": "stdout",
     "output_type": "stream",
     "text": [
      "ERROR:   Harold Melvin And The Blue Notes I Miss You (Part I)\n",
      "ERROR:   Harold Melvin And The Blue Notes If You Don't Know Me By Now\n",
      "ERROR:   Harold Melvin And The Blue Notes Reaching For The World\n",
      "ERROR:   Harold Melvin And The Blue Notes Satisfaction Guaranteed (Or Take Your Love Back)\n"
     ]
    },
    {
     "name": "stderr",
     "output_type": "stream",
     "text": [
      "HTTP Error for GET to https://api.spotify.com/v1/search with Params: {'q': \"artist:Harold Melvin And The Blue Notes track:Tell The World How I Feel About 'Cha Baby\", 'limit': 10, 'offset': 0, 'type': 'track', 'market': None} returned 401 due to The access token expired\n",
      "HTTP Error for GET to https://api.spotify.com/v1/search with Params: {'q': 'artist:Harold Melvin And The Blue Notes track:The Love I Lost (Part 1)', 'limit': 10, 'offset': 0, 'type': 'track', 'market': None} returned 401 due to The access token expired\n",
      "HTTP Error for GET to https://api.spotify.com/v1/search with Params: {'q': 'artist:Harold Melvin And The Blue Notes track:Wake Up Everybody (Part 1)', 'limit': 10, 'offset': 0, 'type': 'track', 'market': None} returned 401 due to The access token expired\n",
      "HTTP Error for GET to https://api.spotify.com/v1/search with Params: {'q': 'artist:Harold Melvin And The Blue Notes track:Where Are All My Friends', 'limit': 10, 'offset': 0, 'type': 'track', 'market': None} returned 401 due to The access token expired\n"
     ]
    },
    {
     "name": "stdout",
     "output_type": "stream",
     "text": [
      "ERROR:   Harold Melvin And The Blue Notes Tell The World How I Feel About 'Cha Baby\n",
      "ERROR:   Harold Melvin And The Blue Notes The Love I Lost (Part 1)\n",
      "10780  ERROR:   Harold Melvin And The Blue Notes Wake Up Everybody (Part 1)\n",
      "ERROR:   Harold Melvin And The Blue Notes Where Are All My Friends\n"
     ]
    },
    {
     "name": "stderr",
     "output_type": "stream",
     "text": [
      "HTTP Error for GET to https://api.spotify.com/v1/search with Params: {'q': 'artist:Harold Melvin And The Blue Notes track:Yesterday I Had The Blues', 'limit': 10, 'offset': 0, 'type': 'track', 'market': None} returned 401 due to The access token expired\n",
      "HTTP Error for GET to https://api.spotify.com/v1/search with Params: {'q': 'artist:Harpers Bizarre track:Anything Goes', 'limit': 10, 'offset': 0, 'type': 'track', 'market': None} returned 401 due to The access token expired\n",
      "HTTP Error for GET to https://api.spotify.com/v1/search with Params: {'q': 'artist:Harpers Bizarre track:Battle Of New Orleans', 'limit': 10, 'offset': 0, 'type': 'track', 'market': None} returned 401 due to The access token expired\n",
      "HTTP Error for GET to https://api.spotify.com/v1/search with Params: {'q': 'artist:Harpers Bizarre track:Chattanooga Choo Choo', 'limit': 10, 'offset': 0, 'type': 'track', 'market': None} returned 401 due to The access token expired\n"
     ]
    },
    {
     "name": "stdout",
     "output_type": "stream",
     "text": [
      "ERROR:   Harold Melvin And The Blue Notes Yesterday I Had The Blues\n",
      "ERROR:   Harpers Bizarre Anything Goes\n",
      "ERROR:   Harpers Bizarre Battle Of New Orleans\n",
      "ERROR:   Harpers Bizarre Chattanooga Choo Choo\n"
     ]
    },
    {
     "name": "stderr",
     "output_type": "stream",
     "text": [
      "HTTP Error for GET to https://api.spotify.com/v1/search with Params: {'q': 'artist:Harpers Bizarre track:Come To The Sunshine', 'limit': 10, 'offset': 0, 'type': 'track', 'market': None} returned 401 due to The access token expired\n",
      "HTTP Error for GET to https://api.spotify.com/v1/search with Params: {'q': \"artist:Harpers Bizarre track:The 59th Street Bridge Song (Feelin' Groovy)\", 'limit': 10, 'offset': 0, 'type': 'track', 'market': None} returned 401 due to The access token expired\n",
      "HTTP Error for GET to https://api.spotify.com/v1/search with Params: {'q': 'artist:Harriet track:Temple Of Love', 'limit': 10, 'offset': 0, 'type': 'track', 'market': None} returned 401 due to The access token expired\n",
      "HTTP Error for GET to https://api.spotify.com/v1/search with Params: {'q': 'artist:Harry Chapin track:Better Place To Be (Parts 1 & 2)', 'limit': 10, 'offset': 0, 'type': 'track', 'market': None} returned 401 due to The access token expired\n",
      "HTTP Error for GET to https://api.spotify.com/v1/search with Params: {'q': \"artist:Harry Chapin track:Cat's In The Cradle\", 'limit': 10, 'offset': 0, 'type': 'track', 'market': None} returned 401 due to The access token expired\n"
     ]
    },
    {
     "name": "stdout",
     "output_type": "stream",
     "text": [
      "ERROR:   Harpers Bizarre Come To The Sunshine\n",
      "ERROR:   Harpers Bizarre The 59th Street Bridge Song (Feelin' Groovy)\n",
      "ERROR:   Harriet Temple Of Love\n",
      "ERROR:   Harry Chapin Better Place To Be (Parts 1 & 2)\n",
      "10790  "
     ]
    },
    {
     "name": "stderr",
     "output_type": "stream",
     "text": [
      "HTTP Error for GET to https://api.spotify.com/v1/search with Params: {'q': 'artist:Harry Chapin track:I Wanna Learn A Love Song', 'limit': 10, 'offset': 0, 'type': 'track', 'market': None} returned 401 due to The access token expired\n",
      "HTTP Error for GET to https://api.spotify.com/v1/search with Params: {'q': 'artist:Harry Chapin track:Sequel', 'limit': 10, 'offset': 0, 'type': 'track', 'market': None} returned 401 due to The access token expired\n",
      "HTTP Error for GET to https://api.spotify.com/v1/search with Params: {'q': 'artist:Harry Chapin track:Sunday Morning Sunshine', 'limit': 10, 'offset': 0, 'type': 'track', 'market': None} returned 401 due to The access token expired\n",
      "HTTP Error for GET to https://api.spotify.com/v1/search with Params: {'q': 'artist:Harry Chapin track:Taxi', 'limit': 10, 'offset': 0, 'type': 'track', 'market': None} returned 401 due to The access token expired\n"
     ]
    },
    {
     "name": "stdout",
     "output_type": "stream",
     "text": [
      "ERROR:   Harry Chapin Cat's In The Cradle\n",
      "ERROR:   Harry Chapin I Wanna Learn A Love Song\n",
      "ERROR:   Harry Chapin Sequel\n",
      "ERROR:   Harry Chapin Sunday Morning Sunshine\n"
     ]
    },
    {
     "name": "stderr",
     "output_type": "stream",
     "text": [
      "HTTP Error for GET to https://api.spotify.com/v1/search with Params: {'q': 'artist:Harry Chapin track:WOLD', 'limit': 10, 'offset': 0, 'type': 'track', 'market': None} returned 401 due to The access token expired\n",
      "HTTP Error for GET to https://api.spotify.com/v1/search with Params: {'q': 'artist:Harry Connick, Jr. track:(I Could Only) Whisper Your Name', 'limit': 10, 'offset': 0, 'type': 'track', 'market': None} returned 401 due to The access token expired\n",
      "HTTP Error for GET to https://api.spotify.com/v1/search with Params: {'q': 'artist:Harry Styles track:Adore You', 'limit': 10, 'offset': 0, 'type': 'track', 'market': None} returned 401 due to The access token expired\n"
     ]
    },
    {
     "name": "stdout",
     "output_type": "stream",
     "text": [
      "ERROR:   Harry Chapin Taxi\n",
      "ERROR:   Harry Chapin WOLD\n",
      "ERROR:   Harry Connick, Jr. (I Could Only) Whisper Your Name\n",
      "ERROR:   Harry Styles Adore You\n"
     ]
    },
    {
     "name": "stderr",
     "output_type": "stream",
     "text": [
      "HTTP Error for GET to https://api.spotify.com/v1/search with Params: {'q': 'artist:Harry Styles track:Cherry', 'limit': 10, 'offset': 0, 'type': 'track', 'market': None} returned 401 due to The access token expired\n",
      "HTTP Error for GET to https://api.spotify.com/v1/search with Params: {'q': 'artist:Harry Styles track:Falling', 'limit': 10, 'offset': 0, 'type': 'track', 'market': None} returned 401 due to The access token expired\n",
      "HTTP Error for GET to https://api.spotify.com/v1/search with Params: {'q': 'artist:Harry Styles track:Golden', 'limit': 10, 'offset': 0, 'type': 'track', 'market': None} returned 401 due to The access token expired\n",
      "HTTP Error for GET to https://api.spotify.com/v1/search with Params: {'q': 'artist:Harry Styles track:Lights Up', 'limit': 10, 'offset': 0, 'type': 'track', 'market': None} returned 401 due to The access token expired\n"
     ]
    },
    {
     "name": "stdout",
     "output_type": "stream",
     "text": [
      "ERROR:   Harry Styles Cherry\n",
      "ERROR:   Harry Styles Falling\n",
      "10800  \n",
      "ERROR:   Harry Styles Golden\n",
      "ERROR:   Harry Styles Lights Up\n"
     ]
    },
    {
     "name": "stderr",
     "output_type": "stream",
     "text": [
      "HTTP Error for GET to https://api.spotify.com/v1/search with Params: {'q': 'artist:Harry Styles track:She', 'limit': 10, 'offset': 0, 'type': 'track', 'market': None} returned 401 due to The access token expired\n",
      "HTTP Error for GET to https://api.spotify.com/v1/search with Params: {'q': 'artist:Harry Styles track:Sign Of The Times', 'limit': 10, 'offset': 0, 'type': 'track', 'market': None} returned 401 due to The access token expired\n",
      "HTTP Error for GET to https://api.spotify.com/v1/search with Params: {'q': 'artist:Harry Styles track:Sweet Creature', 'limit': 10, 'offset': 0, 'type': 'track', 'market': None} returned 401 due to The access token expired\n",
      "HTTP Error for GET to https://api.spotify.com/v1/search with Params: {'q': 'artist:Harry Styles track:Watermelon Sugar', 'limit': 10, 'offset': 0, 'type': 'track', 'market': None} returned 401 due to The access token expired\n"
     ]
    },
    {
     "name": "stdout",
     "output_type": "stream",
     "text": [
      "ERROR:   Harry Styles She\n",
      "ERROR:   Harry Styles Sign Of The Times\n",
      "ERROR:   Harry Styles Sweet Creature\n",
      "ERROR:   Harry Styles Watermelon Sugar\n"
     ]
    },
    {
     "name": "stderr",
     "output_type": "stream",
     "text": [
      "HTTP Error for GET to https://api.spotify.com/v1/search with Params: {'q': 'artist:Harvey & The Moonglows track:Ten Commandments Of Love', 'limit': 10, 'offset': 0, 'type': 'track', 'market': None} returned 401 due to The access token expired\n",
      "HTTP Error for GET to https://api.spotify.com/v1/search with Params: {'q': 'artist:Harvey Scales track:Get Down', 'limit': 10, 'offset': 0, 'type': 'track', 'market': None} returned 401 due to The access token expired\n",
      "HTTP Error for GET to https://api.spotify.com/v1/search with Params: {'q': 'artist:Havana Brown Featuring Pitbull track:We Run The Night', 'limit': 10, 'offset': 0, 'type': 'track', 'market': None} returned 401 due to The access token expired\n",
      "HTTP Error for GET to https://api.spotify.com/v1/search with Params: {'q': 'artist:Hawks track:Right Away', 'limit': 10, 'offset': 0, 'type': 'track', 'market': None} returned 401 due to The access token expired\n",
      "HTTP Error for GET to https://api.spotify.com/v1/search with Params: {'q': \"artist:Hawkshaw Hawkins track:Soldier's Joy\", 'limit': 10, 'offset': 0, 'type': 'track', 'market': None} returned 401 due to The access token expired\n"
     ]
    },
    {
     "name": "stdout",
     "output_type": "stream",
     "text": [
      "ERROR:   Harvey & The Moonglows Ten Commandments Of Love\n",
      "ERROR:   Harvey Scales Get Down\n",
      "ERROR:   Havana Brown Featuring Pitbull We Run The Night\n",
      "ERROR:   Hawks Right Away\n",
      "10810  "
     ]
    },
    {
     "name": "stderr",
     "output_type": "stream",
     "text": [
      "HTTP Error for GET to https://api.spotify.com/v1/search with Params: {'q': 'artist:Hayley Mills track:Johnny Jingo', 'limit': 10, 'offset': 0, 'type': 'track', 'market': None} returned 401 due to The access token expired\n",
      "HTTP Error for GET to https://api.spotify.com/v1/search with Params: {'q': \"artist:Hayley Mills and Hayley Mills track:Let's Get Together\", 'limit': 10, 'offset': 0, 'type': 'track', 'market': None} returned 401 due to The access token expired\n",
      "HTTP Error for GET to https://api.spotify.com/v1/search with Params: {'q': 'artist:Haysi Fantayzee track:Shiny Shiny', 'limit': 10, 'offset': 0, 'type': 'track', 'market': None} returned 401 due to The access token expired\n"
     ]
    },
    {
     "name": "stdout",
     "output_type": "stream",
     "text": [
      "ERROR:   Hawkshaw Hawkins Soldier's Joy\n",
      "ERROR:   Hayley Mills Johnny Jingo\n",
      "ERROR:   Hayley Mills and Hayley Mills Let's Get Together\n",
      "ERROR:   Haysi Fantayzee Shiny Shiny\n"
     ]
    },
    {
     "name": "stderr",
     "output_type": "stream",
     "text": [
      "HTTP Error for GET to https://api.spotify.com/v1/search with Params: {'q': 'artist:Head East track:Love Me Tonight', 'limit': 10, 'offset': 0, 'type': 'track', 'market': None} returned 401 due to The access token expired\n",
      "HTTP Error for GET to https://api.spotify.com/v1/search with Params: {'q': 'artist:Head East track:Never Been Any Reason', 'limit': 10, 'offset': 0, 'type': 'track', 'market': None} returned 401 due to The access token expired\n",
      "HTTP Error for GET to https://api.spotify.com/v1/search with Params: {'q': 'artist:Head East track:Since You Been Gone', 'limit': 10, 'offset': 0, 'type': 'track', 'market': None} returned 401 due to The access token expired\n",
      "HTTP Error for GET to https://api.spotify.com/v1/search with Params: {'q': 'artist:Heart track:All I Wanna Do Is Make Love To You', 'limit': 10, 'offset': 0, 'type': 'track', 'market': None} returned 401 due to The access token expired\n"
     ]
    },
    {
     "name": "stdout",
     "output_type": "stream",
     "text": [
      "ERROR:   Head East Love Me Tonight\n",
      "ERROR:   Head East Never Been Any Reason\n",
      "ERROR:   Head East Since You Been Gone\n",
      "ERROR:   Heart All I Wanna Do Is Make Love To You\n"
     ]
    },
    {
     "name": "stderr",
     "output_type": "stream",
     "text": [
      "HTTP Error for GET to https://api.spotify.com/v1/search with Params: {'q': 'artist:Heart track:Allies', 'limit': 10, 'offset': 0, 'type': 'track', 'market': None} returned 401 due to The access token expired\n",
      "HTTP Error for GET to https://api.spotify.com/v1/search with Params: {'q': 'artist:Heart track:Alone', 'limit': 10, 'offset': 0, 'type': 'track', 'market': None} returned 401 due to The access token expired\n",
      "HTTP Error for GET to https://api.spotify.com/v1/search with Params: {'q': 'artist:Heart track:Barracuda', 'limit': 10, 'offset': 0, 'type': 'track', 'market': None} returned 401 due to The access token expired\n",
      "HTTP Error for GET to https://api.spotify.com/v1/search with Params: {'q': 'artist:Heart track:Crazy On You', 'limit': 10, 'offset': 0, 'type': 'track', 'market': None} returned 401 due to The access token expired\n"
     ]
    },
    {
     "name": "stdout",
     "output_type": "stream",
     "text": [
      "ERROR:   Heart Allies\n",
      "ERROR:   Heart Alone\n",
      "10820  ERROR:   Heart Barracuda\n",
      "ERROR:   Heart Crazy On You\n"
     ]
    },
    {
     "name": "stderr",
     "output_type": "stream",
     "text": [
      "HTTP Error for GET to https://api.spotify.com/v1/search with Params: {'q': 'artist:Heart track:Dog + Butterfly', 'limit': 10, 'offset': 0, 'type': 'track', 'market': None} returned 401 due to The access token expired\n",
      "HTTP Error for GET to https://api.spotify.com/v1/search with Params: {'q': 'artist:Heart track:Dreamboat Annie', 'limit': 10, 'offset': 0, 'type': 'track', 'market': None} returned 401 due to The access token expired\n",
      "HTTP Error for GET to https://api.spotify.com/v1/search with Params: {'q': 'artist:Heart track:Even It Up', 'limit': 10, 'offset': 0, 'type': 'track', 'market': None} returned 401 due to The access token expired\n",
      "HTTP Error for GET to https://api.spotify.com/v1/search with Params: {'q': 'artist:Heart track:Heartless', 'limit': 10, 'offset': 0, 'type': 'track', 'market': None} returned 401 due to The access token expired\n"
     ]
    },
    {
     "name": "stdout",
     "output_type": "stream",
     "text": [
      "ERROR:   Heart Dog + Butterfly\n",
      "ERROR:   Heart Dreamboat Annie\n",
      "ERROR:   Heart Even It Up\n",
      "ERROR:   Heart Heartless\n"
     ]
    },
    {
     "name": "stderr",
     "output_type": "stream",
     "text": [
      "HTTP Error for GET to https://api.spotify.com/v1/search with Params: {'q': 'artist:Heart track:How Can I Refuse', 'limit': 10, 'offset': 0, 'type': 'track', 'market': None} returned 401 due to The access token expired\n",
      "HTTP Error for GET to https://api.spotify.com/v1/search with Params: {'q': \"artist:Heart track:I Didn't Want To Need You\", 'limit': 10, 'offset': 0, 'type': 'track', 'market': None} returned 401 due to The access token expired\n",
      "HTTP Error for GET to https://api.spotify.com/v1/search with Params: {'q': 'artist:Heart track:I Want You So Bad', 'limit': 10, 'offset': 0, 'type': 'track', 'market': None} returned 401 due to The access token expired\n",
      "HTTP Error for GET to https://api.spotify.com/v1/search with Params: {'q': 'artist:Heart track:If Looks Could Kill', 'limit': 10, 'offset': 0, 'type': 'track', 'market': None} returned 401 due to The access token expired\n"
     ]
    },
    {
     "name": "stdout",
     "output_type": "stream",
     "text": [
      "ERROR:   Heart How Can I Refuse\n",
      "ERROR:   Heart I Didn't Want To Need You\n",
      "ERROR:   Heart I Want You So Bad\n",
      "ERROR:   Heart If Looks Could Kill\n",
      "10830  "
     ]
    },
    {
     "name": "stderr",
     "output_type": "stream",
     "text": [
      "HTTP Error for GET to https://api.spotify.com/v1/search with Params: {'q': 'artist:Heart track:Kick It Out', 'limit': 10, 'offset': 0, 'type': 'track', 'market': None} returned 401 due to The access token expired\n",
      "HTTP Error for GET to https://api.spotify.com/v1/search with Params: {'q': 'artist:Heart track:Little Queen', 'limit': 10, 'offset': 0, 'type': 'track', 'market': None} returned 401 due to The access token expired\n",
      "HTTP Error for GET to https://api.spotify.com/v1/search with Params: {'q': 'artist:Heart track:Magic Man', 'limit': 10, 'offset': 0, 'type': 'track', 'market': None} returned 401 due to The access token expired\n",
      "HTTP Error for GET to https://api.spotify.com/v1/search with Params: {'q': 'artist:Heart track:Never', 'limit': 10, 'offset': 0, 'type': 'track', 'market': None} returned 401 due to The access token expired\n"
     ]
    },
    {
     "name": "stdout",
     "output_type": "stream",
     "text": [
      "ERROR:   Heart Kick It Out\n",
      "ERROR:   Heart Little Queen\n",
      "ERROR:   Heart Magic Man\n",
      "ERROR:   Heart Never\n"
     ]
    },
    {
     "name": "stderr",
     "output_type": "stream",
     "text": [
      "HTTP Error for GET to https://api.spotify.com/v1/search with Params: {'q': \"artist:Heart track:Nothin' At All\", 'limit': 10, 'offset': 0, 'type': 'track', 'market': None} returned 401 due to The access token expired\n",
      "HTTP Error for GET to https://api.spotify.com/v1/search with Params: {'q': 'artist:Heart track:Secret', 'limit': 10, 'offset': 0, 'type': 'track', 'market': None} returned 401 due to The access token expired\n",
      "HTTP Error for GET to https://api.spotify.com/v1/search with Params: {'q': 'artist:Heart track:Straight On', 'limit': 10, 'offset': 0, 'type': 'track', 'market': None} returned 401 due to The access token expired\n",
      "HTTP Error for GET to https://api.spotify.com/v1/search with Params: {'q': 'artist:Heart track:Stranded', 'limit': 10, 'offset': 0, 'type': 'track', 'market': None} returned 401 due to The access token expired\n"
     ]
    },
    {
     "name": "stdout",
     "output_type": "stream",
     "text": [
      "ERROR:   Heart Nothin' At All\n",
      "ERROR:   Heart Secret\n",
      "ERROR:   Heart Straight On\n",
      "ERROR:   Heart Stranded\n"
     ]
    },
    {
     "name": "stderr",
     "output_type": "stream",
     "text": [
      "HTTP Error for GET to https://api.spotify.com/v1/search with Params: {'q': 'artist:Heart track:Tell It Like It Is', 'limit': 10, 'offset': 0, 'type': 'track', 'market': None} returned 401 due to The access token expired\n",
      "HTTP Error for GET to https://api.spotify.com/v1/search with Params: {'q': \"artist:Heart track:There's The Girl\", 'limit': 10, 'offset': 0, 'type': 'track', 'market': None} returned 401 due to The access token expired\n",
      "HTTP Error for GET to https://api.spotify.com/v1/search with Params: {'q': 'artist:Heart track:These Dreams', 'limit': 10, 'offset': 0, 'type': 'track', 'market': None} returned 401 due to The access token expired\n",
      "HTTP Error for GET to https://api.spotify.com/v1/search with Params: {'q': 'artist:Heart track:This Man Is Mine', 'limit': 10, 'offset': 0, 'type': 'track', 'market': None} returned 401 due to The access token expired\n"
     ]
    },
    {
     "name": "stdout",
     "output_type": "stream",
     "text": [
      "ERROR:   Heart Tell It Like It Is\n",
      "ERROR:   Heart There's The Girl\n",
      "10840  ERROR:   Heart These Dreams\n",
      "ERROR:   Heart This Man Is Mine\n"
     ]
    },
    {
     "name": "stderr",
     "output_type": "stream",
     "text": [
      "HTTP Error for GET to https://api.spotify.com/v1/search with Params: {'q': 'artist:Heart track:Unchained Melody', 'limit': 10, 'offset': 0, 'type': 'track', 'market': None} returned 401 due to The access token expired\n",
      "HTTP Error for GET to https://api.spotify.com/v1/search with Params: {'q': 'artist:Heart track:What About Love?', 'limit': 10, 'offset': 0, 'type': 'track', 'market': None} returned 401 due to The access token expired\n",
      "HTTP Error for GET to https://api.spotify.com/v1/search with Params: {'q': 'artist:Heart track:Who Will You Run To', 'limit': 10, 'offset': 0, 'type': 'track', 'market': None} returned 401 due to The access token expired\n",
      "HTTP Error for GET to https://api.spotify.com/v1/search with Params: {'q': 'artist:Heart track:Will You Be There (In The Morning)', 'limit': 10, 'offset': 0, 'type': 'track', 'market': None} returned 401 due to The access token expired\n"
     ]
    },
    {
     "name": "stdout",
     "output_type": "stream",
     "text": [
      "ERROR:   Heart Unchained Melody\n",
      "ERROR:   Heart What About Love?\n",
      "ERROR:   Heart Who Will You Run To\n",
      "ERROR:   Heart Will You Be There (In The Morning)\n"
     ]
    },
    {
     "name": "stderr",
     "output_type": "stream",
     "text": [
      "HTTP Error for GET to https://api.spotify.com/v1/search with Params: {'q': 'artist:Heartland track:I Loved Her First', 'limit': 10, 'offset': 0, 'type': 'track', 'market': None} returned 401 due to The access token expired\n",
      "HTTP Error for GET to https://api.spotify.com/v1/search with Params: {'q': 'artist:Heartsfield track:Music Eyes', 'limit': 10, 'offset': 0, 'type': 'track', 'market': None} returned 401 due to The access token expired\n",
      "HTTP Error for GET to https://api.spotify.com/v1/search with Params: {'q': 'artist:Heather B. track:Do You', 'limit': 10, 'offset': 0, 'type': 'track', 'market': None} returned 401 due to The access token expired\n",
      "HTTP Error for GET to https://api.spotify.com/v1/search with Params: {'q': 'artist:Heather Headley track:He Is', 'limit': 10, 'offset': 0, 'type': 'track', 'market': None} returned 401 due to The access token expired\n",
      "HTTP Error for GET to https://api.spotify.com/v1/search with Params: {'q': \"artist:Heather Headley track:I Wish I Wasn't\", 'limit': 10, 'offset': 0, 'type': 'track', 'market': None} returned 401 due to The access token expired\n"
     ]
    },
    {
     "name": "stdout",
     "output_type": "stream",
     "text": [
      "ERROR:   Heartland I Loved Her First\n",
      "ERROR:   Heartsfield Music Eyes\n",
      "ERROR:   Heather B. Do You\n",
      "ERROR:   Heather Headley He Is\n",
      "10850  "
     ]
    },
    {
     "name": "stderr",
     "output_type": "stream",
     "text": [
      "HTTP Error for GET to https://api.spotify.com/v1/search with Params: {'q': 'artist:Heather Headley track:In My Mind', 'limit': 10, 'offset': 0, 'type': 'track', 'market': None} returned 401 due to The access token expired\n",
      "HTTP Error for GET to https://api.spotify.com/v1/search with Params: {'q': 'artist:Heatwave track:Always And Forever', 'limit': 10, 'offset': 0, 'type': 'track', 'market': None} returned 401 due to The access token expired\n",
      "HTTP Error for GET to https://api.spotify.com/v1/search with Params: {'q': 'artist:Heatwave track:Boogie Nights', 'limit': 10, 'offset': 0, 'type': 'track', 'market': None} returned 401 due to The access token expired\n",
      "HTTP Error for GET to https://api.spotify.com/v1/search with Params: {'q': 'artist:Heatwave track:The Groove Line', 'limit': 10, 'offset': 0, 'type': 'track', 'market': None} returned 401 due to The access token expired\n"
     ]
    },
    {
     "name": "stdout",
     "output_type": "stream",
     "text": [
      "ERROR:   Heather Headley I Wish I Wasn't\n",
      "ERROR:   Heather Headley In My Mind\n",
      "ERROR:   Heatwave Always And Forever\n",
      "ERROR:   Heatwave Boogie Nights\n"
     ]
    },
    {
     "name": "stderr",
     "output_type": "stream",
     "text": [
      "HTTP Error for GET to https://api.spotify.com/v1/search with Params: {'q': 'artist:Heaven 17 track:Let Me Go', 'limit': 10, 'offset': 0, 'type': 'track', 'market': None} returned 401 due to The access token expired\n",
      "HTTP Error for GET to https://api.spotify.com/v1/search with Params: {'q': 'artist:Heaven Bound with Tony Scotti track:Five Hundred Miles', 'limit': 10, 'offset': 0, 'type': 'track', 'market': None} returned 401 due to The access token expired\n",
      "HTTP Error for GET to https://api.spotify.com/v1/search with Params: {'q': \"artist:Heaven Bound with Tony Scotti track:He'd Rather Have The Rain\", 'limit': 10, 'offset': 0, 'type': 'track', 'market': None} returned 401 due to The access token expired\n"
     ]
    },
    {
     "name": "stdout",
     "output_type": "stream",
     "text": [
      "ERROR:   Heatwave The Groove Line\n",
      "ERROR:   Heaven 17 Let Me Go\n",
      "ERROR:   Heaven Bound with Tony Scotti Five Hundred Miles\n",
      "ERROR:   Heaven Bound with Tony Scotti He'd Rather Have The Rain\n"
     ]
    },
    {
     "name": "stderr",
     "output_type": "stream",
     "text": [
      "HTTP Error for GET to https://api.spotify.com/v1/search with Params: {'q': 'artist:Heavy D & The Boyz track:Black Coffee', 'limit': 10, 'offset': 0, 'type': 'track', 'market': None} returned 401 due to The access token expired\n",
      "HTTP Error for GET to https://api.spotify.com/v1/search with Params: {'q': 'artist:Heavy D & The Boyz track:Got Me Waiting', 'limit': 10, 'offset': 0, 'type': 'track', 'market': None} returned 401 due to The access token expired\n",
      "HTTP Error for GET to https://api.spotify.com/v1/search with Params: {'q': 'artist:Heavy D & The Boyz track:Is It Good To You', 'limit': 10, 'offset': 0, 'type': 'track', 'market': None} returned 401 due to The access token expired\n",
      "HTTP Error for GET to https://api.spotify.com/v1/search with Params: {'q': 'artist:Heavy D & The Boyz track:Now That We Found Love', 'limit': 10, 'offset': 0, 'type': 'track', 'market': None} returned 401 due to The access token expired\n"
     ]
    },
    {
     "name": "stdout",
     "output_type": "stream",
     "text": [
      "ERROR:   Heavy D & The Boyz Black Coffee\n",
      "ERROR:   Heavy D & The Boyz Got Me Waiting\n",
      "10860  ERROR:   Heavy D & The Boyz Is It Good To You\n",
      "ERROR:   Heavy D & The Boyz Now That We Found Love\n"
     ]
    },
    {
     "name": "stderr",
     "output_type": "stream",
     "text": [
      "HTTP Error for GET to https://api.spotify.com/v1/search with Params: {'q': \"artist:Heavy D & The Boyz track:Nuttin' But Love\", 'limit': 10, 'offset': 0, 'type': 'track', 'market': None} returned 401 due to The access token expired\n",
      "HTTP Error for GET to https://api.spotify.com/v1/search with Params: {'q': \"artist:Hedgehoppers Anonymous track:It's Good News Week\", 'limit': 10, 'offset': 0, 'type': 'track', 'market': None} returned 401 due to The access token expired\n",
      "HTTP Error for GET to https://api.spotify.com/v1/search with Params: {'q': 'artist:Heidi Newfield track:Johnny & June', 'limit': 10, 'offset': 0, 'type': 'track', 'market': None} returned 401 due to The access token expired\n",
      "HTTP Error for GET to https://api.spotify.com/v1/search with Params: {'q': \"artist:Helen Reddy track:Ain't No Way To Treat A Lady\", 'limit': 10, 'offset': 0, 'type': 'track', 'market': None} returned 401 due to The access token expired\n"
     ]
    },
    {
     "name": "stdout",
     "output_type": "stream",
     "text": [
      "ERROR:   Heavy D & The Boyz Nuttin' But Love\n",
      "ERROR:   Hedgehoppers Anonymous It's Good News Week\n",
      "ERROR:   Heidi Newfield Johnny & June\n",
      "ERROR:   Helen Reddy Ain't No Way To Treat A Lady\n"
     ]
    },
    {
     "name": "stderr",
     "output_type": "stream",
     "text": [
      "HTTP Error for GET to https://api.spotify.com/v1/search with Params: {'q': 'artist:Helen Reddy track:Angie Baby', 'limit': 10, 'offset': 0, 'type': 'track', 'market': None} returned 401 due to The access token expired\n",
      "HTTP Error for GET to https://api.spotify.com/v1/search with Params: {'q': 'artist:Helen Reddy track:Bluebird', 'limit': 10, 'offset': 0, 'type': 'track', 'market': None} returned 401 due to The access token expired\n",
      "HTTP Error for GET to https://api.spotify.com/v1/search with Params: {'q': 'artist:Helen Reddy track:Crazy Love', 'limit': 10, 'offset': 0, 'type': 'track', 'market': None} returned 401 due to The access token expired\n",
      "HTTP Error for GET to https://api.spotify.com/v1/search with Params: {'q': 'artist:Helen Reddy track:Delta Dawn', 'limit': 10, 'offset': 0, 'type': 'track', 'market': None} returned 401 due to The access token expired\n"
     ]
    },
    {
     "name": "stdout",
     "output_type": "stream",
     "text": [
      "ERROR:   Helen Reddy Angie Baby\n",
      "ERROR:   Helen Reddy Bluebird\n",
      "ERROR:   Helen Reddy Crazy Love\n",
      "ERROR:   Helen Reddy Delta Dawn\n",
      "10870  "
     ]
    },
    {
     "name": "stderr",
     "output_type": "stream",
     "text": [
      "HTTP Error for GET to https://api.spotify.com/v1/search with Params: {'q': 'artist:Helen Reddy track:Emotion', 'limit': 10, 'offset': 0, 'type': 'track', 'market': None} returned 401 due to The access token expired\n",
      "HTTP Error for GET to https://api.spotify.com/v1/search with Params: {'q': 'artist:Helen Reddy track:I Am Woman', 'limit': 10, 'offset': 0, 'type': 'track', 'market': None} returned 401 due to The access token expired\n",
      "HTTP Error for GET to https://api.spotify.com/v1/search with Params: {'q': \"artist:Helen Reddy track:I Can't Hear You No More/Music Is My Life\", 'limit': 10, 'offset': 0, 'type': 'track', 'market': None} returned 401 due to The access token expired\n",
      "HTTP Error for GET to https://api.spotify.com/v1/search with Params: {'q': \"artist:Helen Reddy track:I Can't Say Goodbye To You\", 'limit': 10, 'offset': 0, 'type': 'track', 'market': None} returned 401 due to The access token expired\n"
     ]
    },
    {
     "name": "stdout",
     "output_type": "stream",
     "text": [
      "ERROR:   Helen Reddy Emotion\n",
      "ERROR:   Helen Reddy I Am Woman\n",
      "ERROR:   Helen Reddy I Can't Hear You No More/Music Is My Life\n",
      "ERROR:   Helen Reddy I Can't Say Goodbye To You\n"
     ]
    },
    {
     "name": "stderr",
     "output_type": "stream",
     "text": [
      "HTTP Error for GET to https://api.spotify.com/v1/search with Params: {'q': \"artist:Helen Reddy track:I Don't Know How To Love Him\", 'limit': 10, 'offset': 0, 'type': 'track', 'market': None} returned 401 due to The access token expired\n",
      "HTTP Error for GET to https://api.spotify.com/v1/search with Params: {'q': 'artist:Helen Reddy track:Keep On Singing', 'limit': 10, 'offset': 0, 'type': 'track', 'market': None} returned 401 due to The access token expired\n",
      "HTTP Error for GET to https://api.spotify.com/v1/search with Params: {'q': 'artist:Helen Reddy track:Leave Me Alone (ruby Red Dress)', 'limit': 10, 'offset': 0, 'type': 'track', 'market': None} returned 401 due to The access token expired\n",
      "HTTP Error for GET to https://api.spotify.com/v1/search with Params: {'q': 'artist:Helen Reddy track:Make Love To Me', 'limit': 10, 'offset': 0, 'type': 'track', 'market': None} returned 401 due to The access token expired\n"
     ]
    },
    {
     "name": "stdout",
     "output_type": "stream",
     "text": [
      "ERROR:   Helen Reddy I Don't Know How To Love Him\n",
      "ERROR:   Helen Reddy Keep On Singing\n",
      "ERROR:   Helen Reddy Leave Me Alone (ruby Red Dress)\n",
      "ERROR:   Helen Reddy Make Love To Me\n"
     ]
    },
    {
     "name": "stderr",
     "output_type": "stream",
     "text": [
      "HTTP Error for GET to https://api.spotify.com/v1/search with Params: {'q': 'artist:Helen Reddy track:No Sad Song', 'limit': 10, 'offset': 0, 'type': 'track', 'market': None} returned 401 due to The access token expired\n",
      "HTTP Error for GET to https://api.spotify.com/v1/search with Params: {'q': 'artist:Helen Reddy track:Peaceful', 'limit': 10, 'offset': 0, 'type': 'track', 'market': None} returned 401 due to The access token expired\n",
      "HTTP Error for GET to https://api.spotify.com/v1/search with Params: {'q': 'artist:Helen Reddy track:Ready Or Not', 'limit': 10, 'offset': 0, 'type': 'track', 'market': None} returned 401 due to The access token expired\n",
      "HTTP Error for GET to https://api.spotify.com/v1/search with Params: {'q': 'artist:Helen Reddy track:Somewhere In The Night', 'limit': 10, 'offset': 0, 'type': 'track', 'market': None} returned 401 due to The access token expired\n"
     ]
    },
    {
     "name": "stdout",
     "output_type": "stream",
     "text": [
      "ERROR:   Helen Reddy No Sad Song\n",
      "ERROR:   Helen Reddy Peaceful\n",
      "10880  ERROR:   Helen Reddy Ready Or Not\n",
      "ERROR:   Helen Reddy Somewhere In The Night\n"
     ]
    },
    {
     "name": "stderr",
     "output_type": "stream",
     "text": [
      "HTTP Error for GET to https://api.spotify.com/v1/search with Params: {'q': 'artist:Helen Reddy track:The Happy Girls', 'limit': 10, 'offset': 0, 'type': 'track', 'market': None} returned 401 due to The access token expired\n",
      "HTTP Error for GET to https://api.spotify.com/v1/search with Params: {'q': 'artist:Helen Reddy track:You And Me Against The World', 'limit': 10, 'offset': 0, 'type': 'track', 'market': None} returned 401 due to The access token expired\n",
      "HTTP Error for GET to https://api.spotify.com/v1/search with Params: {'q': \"artist:Helen Reddy track:You're My World\", 'limit': 10, 'offset': 0, 'type': 'track', 'market': None} returned 401 due to The access token expired\n",
      "HTTP Error for GET to https://api.spotify.com/v1/search with Params: {'q': \"artist:Helen Shapiro track:Walkin' Back To Happiness\", 'limit': 10, 'offset': 0, 'type': 'track', 'market': None} returned 401 due to The access token expired\n"
     ]
    },
    {
     "name": "stdout",
     "output_type": "stream",
     "text": [
      "ERROR:   Helen Reddy The Happy Girls\n",
      "ERROR:   Helen Reddy You And Me Against The World\n",
      "ERROR:   Helen Reddy You're My World\n",
      "ERROR:   Helen Shapiro Walkin' Back To Happiness\n"
     ]
    },
    {
     "name": "stderr",
     "output_type": "stream",
     "text": [
      "HTTP Error for GET to https://api.spotify.com/v1/search with Params: {'q': 'artist:Helena Ferguson track:Where Is The Party', 'limit': 10, 'offset': 0, 'type': 'track', 'market': None} returned 401 due to The access token expired\n",
      "HTTP Error for GET to https://api.spotify.com/v1/search with Params: {'q': 'artist:Hello People track:Future Shock', 'limit': 10, 'offset': 0, 'type': 'track', 'market': None} returned 401 due to The access token expired\n",
      "HTTP Error for GET to https://api.spotify.com/v1/search with Params: {'q': 'artist:Hellogoodbye track:Here (In Your Arms)', 'limit': 10, 'offset': 0, 'type': 'track', 'market': None} returned 401 due to The access token expired\n",
      "HTTP Error for GET to https://api.spotify.com/v1/search with Params: {'q': 'artist:Heltah Skeltah And O.G.C. As The Fab 5 track:Leflaur Leflah Eshkushka', 'limit': 10, 'offset': 0, 'type': 'track', 'market': None} returned 401 due to The access token expired\n",
      "HTTP Error for GET to https://api.spotify.com/v1/search with Params: {'q': \"artist:Heltah Skeltah Featuring Starang Wondah Of O.G.C. & Doc Holiday track:I Ain't Havin' That\", 'limit': 10, 'offset': 0, 'type': 'track', 'market': None} returned 401 due to The access token expired\n"
     ]
    },
    {
     "name": "stdout",
     "output_type": "stream",
     "text": [
      "ERROR:   Helena Ferguson Where Is The Party\n",
      "ERROR:   Hello People Future Shock\n",
      "ERROR:   Hellogoodbye Here (In Your Arms)\n",
      "ERROR:   Heltah Skeltah And O.G.C. As The Fab 5 Leflaur Leflah Eshkushka\n",
      "10890  "
     ]
    },
    {
     "name": "stderr",
     "output_type": "stream",
     "text": [
      "HTTP Error for GET to https://api.spotify.com/v1/search with Params: {'q': 'artist:Henhouse Five Plus Too track:In The Mood', 'limit': 10, 'offset': 0, 'type': 'track', 'market': None} returned 401 due to The access token expired\n",
      "HTTP Error for GET to https://api.spotify.com/v1/search with Params: {'q': 'artist:Henry Gross track:One More Tomorrow', 'limit': 10, 'offset': 0, 'type': 'track', 'market': None} returned 401 due to The access token expired\n",
      "HTTP Error for GET to https://api.spotify.com/v1/search with Params: {'q': 'artist:Henry Gross track:Shannon', 'limit': 10, 'offset': 0, 'type': 'track', 'market': None} returned 401 due to The access token expired\n",
      "HTTP Error for GET to https://api.spotify.com/v1/search with Params: {'q': \"artist:Henry Gross track:Someday (I Didn't Want To Have to be the One)\", 'limit': 10, 'offset': 0, 'type': 'track', 'market': None} returned 401 due to The access token expired\n"
     ]
    },
    {
     "name": "stdout",
     "output_type": "stream",
     "text": [
      "ERROR:   Heltah Skeltah Featuring Starang Wondah Of O.G.C. & Doc Holiday I Ain't Havin' That\n",
      "ERROR:   Henhouse Five Plus Too In The Mood\n",
      "ERROR:   Henry Gross One More Tomorrow\n",
      "ERROR:   Henry Gross Shannon\n"
     ]
    },
    {
     "name": "stderr",
     "output_type": "stream",
     "text": [
      "HTTP Error for GET to https://api.spotify.com/v1/search with Params: {'q': 'artist:Henry Gross track:Springtime Mama', 'limit': 10, 'offset': 0, 'type': 'track', 'market': None} returned 401 due to The access token expired\n",
      "HTTP Error for GET to https://api.spotify.com/v1/search with Params: {'q': \"artist:Henry Lee Summer track:Darlin' Danielle Don't\", 'limit': 10, 'offset': 0, 'type': 'track', 'market': None} returned 401 due to The access token expired\n",
      "HTTP Error for GET to https://api.spotify.com/v1/search with Params: {'q': 'artist:Henry Lee Summer track:Hands On The Radio', 'limit': 10, 'offset': 0, 'type': 'track', 'market': None} returned 401 due to The access token expired\n"
     ]
    },
    {
     "name": "stdout",
     "output_type": "stream",
     "text": [
      "ERROR:   Henry Gross Someday (I Didn't Want To Have to be the One)\n",
      "ERROR:   Henry Gross Springtime Mama\n",
      "ERROR:   Henry Lee Summer Darlin' Danielle Don't\n",
      "ERROR:   Henry Lee Summer Hands On The Radio\n"
     ]
    },
    {
     "name": "stderr",
     "output_type": "stream",
     "text": [
      "HTTP Error for GET to https://api.spotify.com/v1/search with Params: {'q': 'artist:Henry Lee Summer track:Hey Baby', 'limit': 10, 'offset': 0, 'type': 'track', 'market': None} returned 401 due to The access token expired\n",
      "HTTP Error for GET to https://api.spotify.com/v1/search with Params: {'q': 'artist:Henry Lee Summer track:I Wish I Had A Girl', 'limit': 10, 'offset': 0, 'type': 'track', 'market': None} returned 401 due to The access token expired\n",
      "HTTP Error for GET to https://api.spotify.com/v1/search with Params: {'q': 'artist:Henry Lee Summer track:Till Somebody Loves You', 'limit': 10, 'offset': 0, 'type': 'track', 'market': None} returned 401 due to The access token expired\n",
      "HTTP Error for GET to https://api.spotify.com/v1/search with Params: {'q': 'artist:Henry Mancini track:Mr. Lucky', 'limit': 10, 'offset': 0, 'type': 'track', 'market': None} returned 401 due to The access token expired\n"
     ]
    },
    {
     "name": "stdout",
     "output_type": "stream",
     "text": [
      "ERROR:   Henry Lee Summer Hey Baby\n",
      "ERROR:   Henry Lee Summer I Wish I Had A Girl\n",
      "10900  \n",
      "ERROR:   Henry Lee Summer Till Somebody Loves You\n",
      "ERROR:   Henry Mancini Mr. Lucky\n"
     ]
    },
    {
     "name": "stderr",
     "output_type": "stream",
     "text": [
      "HTTP Error for GET to https://api.spotify.com/v1/search with Params: {'q': 'artist:Henry Mancini And His Orchestra track:(Theme From) Love Story', 'limit': 10, 'offset': 0, 'type': 'track', 'market': None} returned 401 due to The access token expired\n",
      "HTTP Error for GET to https://api.spotify.com/v1/search with Params: {'q': \"artist:Henry Mancini And His Orchestra track:(Theme from) Charlie's Angels\", 'limit': 10, 'offset': 0, 'type': 'track', 'market': None} returned 401 due to The access token expired\n",
      "HTTP Error for GET to https://api.spotify.com/v1/search with Params: {'q': 'artist:Henry Mancini And His Orchestra track:(Theme from) The Great Impostor', 'limit': 10, 'offset': 0, 'type': 'track', 'market': None} returned 401 due to The access token expired\n",
      "HTTP Error for GET to https://api.spotify.com/v1/search with Params: {'q': 'artist:Henry Mancini And His Orchestra track:A Shot In The Dark', 'limit': 10, 'offset': 0, 'type': 'track', 'market': None} returned 401 due to The access token expired\n"
     ]
    },
    {
     "name": "stdout",
     "output_type": "stream",
     "text": [
      "ERROR:   Henry Mancini And His Orchestra (Theme From) Love Story\n",
      "ERROR:   Henry Mancini And His Orchestra (Theme from) Charlie's Angels\n",
      "ERROR:   Henry Mancini And His Orchestra (Theme from) The Great Impostor\n",
      "ERROR:   Henry Mancini And His Orchestra A Shot In The Dark\n"
     ]
    },
    {
     "name": "stderr",
     "output_type": "stream",
     "text": [
      "HTTP Error for GET to https://api.spotify.com/v1/search with Params: {'q': 'artist:Henry Mancini And His Orchestra track:Banzai Pipeline', 'limit': 10, 'offset': 0, 'type': 'track', 'market': None} returned 401 due to The access token expired\n",
      "HTTP Error for GET to https://api.spotify.com/v1/search with Params: {'q': 'artist:Henry Mancini And His Orchestra track:Charade', 'limit': 10, 'offset': 0, 'type': 'track', 'market': None} returned 401 due to The access token expired\n",
      "HTTP Error for GET to https://api.spotify.com/v1/search with Params: {'q': 'artist:Henry Mancini And His Orchestra track:Days Of Wine And Roses', 'limit': 10, 'offset': 0, 'type': 'track', 'market': None} returned 401 due to The access token expired\n",
      "HTTP Error for GET to https://api.spotify.com/v1/search with Params: {'q': 'artist:Henry Mancini And His Orchestra track:Dear Heart', 'limit': 10, 'offset': 0, 'type': 'track', 'market': None} returned 401 due to The access token expired\n",
      "HTTP Error for GET to https://api.spotify.com/v1/search with Params: {'q': 'artist:Henry Mancini And His Orchestra track:Love Theme From Romeo & Juliet', 'limit': 10, 'offset': 0, 'type': 'track', 'market': None} returned 401 due to The access token expired\n"
     ]
    },
    {
     "name": "stdout",
     "output_type": "stream",
     "text": [
      "ERROR:   Henry Mancini And His Orchestra Banzai Pipeline\n",
      "ERROR:   Henry Mancini And His Orchestra Charade\n",
      "ERROR:   Henry Mancini And His Orchestra Days Of Wine And Roses\n",
      "ERROR:   Henry Mancini And His Orchestra Dear Heart\n",
      "10910  "
     ]
    },
    {
     "name": "stderr",
     "output_type": "stream",
     "text": [
      "HTTP Error for GET to https://api.spotify.com/v1/search with Params: {'q': 'artist:Henry Mancini And His Orchestra track:Moon River', 'limit': 10, 'offset': 0, 'type': 'track', 'market': None} returned 401 due to The access token expired\n",
      "HTTP Error for GET to https://api.spotify.com/v1/search with Params: {'q': 'artist:Henry Mancini And His Orchestra track:Moonlight Sonata', 'limit': 10, 'offset': 0, 'type': 'track', 'market': None} returned 401 due to The access token expired\n",
      "HTTP Error for GET to https://api.spotify.com/v1/search with Params: {'q': 'artist:Henry Mancini And His Orchestra track:The Pink Panther Theme', 'limit': 10, 'offset': 0, 'type': 'track', 'market': None} returned 401 due to The access token expired\n"
     ]
    },
    {
     "name": "stdout",
     "output_type": "stream",
     "text": [
      "ERROR:   Henry Mancini And His Orchestra Love Theme From Romeo & Juliet\n",
      "ERROR:   Henry Mancini And His Orchestra Moon River\n",
      "ERROR:   Henry Mancini And His Orchestra Moonlight Sonata\n"
     ]
    },
    {
     "name": "stderr",
     "output_type": "stream",
     "text": [
      "HTTP Error for GET to https://api.spotify.com/v1/search with Params: {'q': 'artist:Henry Mancini And His Orchestra track:Theme From \"Hatari!\"', 'limit': 10, 'offset': 0, 'type': 'track', 'market': None} returned 401 due to The access token expired\n",
      "HTTP Error for GET to https://api.spotify.com/v1/search with Params: {'q': 'artist:Henry Paul Band track:Keeping Our Love Alive', 'limit': 10, 'offset': 0, 'type': 'track', 'market': None} returned 401 due to The access token expired\n",
      "HTTP Error for GET to https://api.spotify.com/v1/search with Params: {'q': 'artist:Henson Cargill track:Skip A Rope', 'limit': 10, 'offset': 0, 'type': 'track', 'market': None} returned 401 due to The access token expired\n"
     ]
    },
    {
     "name": "stdout",
     "output_type": "stream",
     "text": [
      "ERROR:   Henry Mancini And His Orchestra The Pink Panther Theme\n",
      "ERROR:   Henry Mancini And His Orchestra Theme From \"Hatari!\"\n",
      "ERROR:   Henry Paul Band Keeping Our Love Alive\n",
      "ERROR:   Henson Cargill Skip A Rope\n"
     ]
    },
    {
     "name": "stderr",
     "output_type": "stream",
     "text": [
      "HTTP Error for GET to https://api.spotify.com/v1/search with Params: {'q': 'artist:Herb Alpert track:Beyond', 'limit': 10, 'offset': 0, 'type': 'track', 'market': None} returned 401 due to The access token expired\n",
      "HTTP Error for GET to https://api.spotify.com/v1/search with Params: {'q': 'artist:Herb Alpert track:Diamonds', 'limit': 10, 'offset': 0, 'type': 'track', 'market': None} returned 401 due to The access token expired\n",
      "HTTP Error for GET to https://api.spotify.com/v1/search with Params: {'q': 'artist:Herb Alpert track:Garden Party', 'limit': 10, 'offset': 0, 'type': 'track', 'market': None} returned 401 due to The access token expired\n",
      "HTTP Error for GET to https://api.spotify.com/v1/search with Params: {'q': 'artist:Herb Alpert track:Keep Your Eye On Me', 'limit': 10, 'offset': 0, 'type': 'track', 'market': None} returned 401 due to The access token expired\n"
     ]
    },
    {
     "name": "stdout",
     "output_type": "stream",
     "text": [
      "ERROR:   Herb Alpert Beyond\n",
      "ERROR:   Herb Alpert Diamonds\n",
      "ERROR:   Herb Alpert Garden Party\n",
      "10920  ERROR:   Herb Alpert Keep Your Eye On Me\n"
     ]
    },
    {
     "name": "stderr",
     "output_type": "stream",
     "text": [
      "HTTP Error for GET to https://api.spotify.com/v1/search with Params: {'q': 'artist:Herb Alpert track:Magic Man', 'limit': 10, 'offset': 0, 'type': 'track', 'market': None} returned 401 due to The access token expired\n",
      "HTTP Error for GET to https://api.spotify.com/v1/search with Params: {'q': 'artist:Herb Alpert track:Making Love In The Rain', 'limit': 10, 'offset': 0, 'type': 'track', 'market': None} returned 401 due to The access token expired\n",
      "HTTP Error for GET to https://api.spotify.com/v1/search with Params: {'q': 'artist:Herb Alpert track:Red Hot', 'limit': 10, 'offset': 0, 'type': 'track', 'market': None} returned 401 due to The access token expired\n",
      "HTTP Error for GET to https://api.spotify.com/v1/search with Params: {'q': 'artist:Herb Alpert track:Rise', 'limit': 10, 'offset': 0, 'type': 'track', 'market': None} returned 401 due to The access token expired\n"
     ]
    },
    {
     "name": "stdout",
     "output_type": "stream",
     "text": [
      "ERROR:   Herb Alpert Magic Man\n",
      "ERROR:   Herb Alpert Making Love In The Rain\n",
      "ERROR:   Herb Alpert Red Hot\n",
      "ERROR:   Herb Alpert Rise\n"
     ]
    },
    {
     "name": "stderr",
     "output_type": "stream",
     "text": [
      "HTTP Error for GET to https://api.spotify.com/v1/search with Params: {'q': 'artist:Herb Alpert track:Rotation', 'limit': 10, 'offset': 0, 'type': 'track', 'market': None} returned 401 due to The access token expired\n",
      "HTTP Error for GET to https://api.spotify.com/v1/search with Params: {'q': 'artist:Herb Alpert track:Route 101', 'limit': 10, 'offset': 0, 'type': 'track', 'market': None} returned 401 due to The access token expired\n",
      "HTTP Error for GET to https://api.spotify.com/v1/search with Params: {'q': \"artist:Herb Alpert track:This Guy's In Love With You\", 'limit': 10, 'offset': 0, 'type': 'track', 'market': None} returned 401 due to The access token expired\n"
     ]
    },
    {
     "name": "stdout",
     "output_type": "stream",
     "text": [
      "ERROR:   Herb Alpert Rotation\n",
      "ERROR:   Herb Alpert Route 101\n",
      "ERROR:   Herb Alpert This Guy's In Love With You\n"
     ]
    },
    {
     "name": "stderr",
     "output_type": "stream",
     "text": [
      "HTTP Error for GET to https://api.spotify.com/v1/search with Params: {'q': 'artist:Herb Alpert track:To Wait For Love', 'limit': 10, 'offset': 0, 'type': 'track', 'market': None} returned 401 due to The access token expired\n",
      "HTTP Error for GET to https://api.spotify.com/v1/search with Params: {'q': 'artist:Herb Alpert track:Without Her', 'limit': 10, 'offset': 0, 'type': 'track', 'market': None} returned 401 due to The access token expired\n",
      "HTTP Error for GET to https://api.spotify.com/v1/search with Params: {'q': 'artist:Herb Alpert & The Tijuana Brass track:3rd Man Theme', 'limit': 10, 'offset': 0, 'type': 'track', 'market': None} returned 401 due to The access token expired\n",
      "HTTP Error for GET to https://api.spotify.com/v1/search with Params: {'q': 'artist:Herb Alpert & The Tijuana Brass track:A Banda (Ah Bahn-da)', 'limit': 10, 'offset': 0, 'type': 'track', 'market': None} returned 401 due to The access token expired\n"
     ]
    },
    {
     "name": "stdout",
     "output_type": "stream",
     "text": [
      "ERROR:   Herb Alpert To Wait For Love\n",
      "ERROR:   Herb Alpert Without Her\n",
      "10930  ERROR:   Herb Alpert & The Tijuana Brass 3rd Man Theme\n",
      "ERROR:   Herb Alpert & The Tijuana Brass A Banda (Ah Bahn-da)\n"
     ]
    },
    {
     "name": "stderr",
     "output_type": "stream",
     "text": [
      "HTTP Error for GET to https://api.spotify.com/v1/search with Params: {'q': 'artist:Herb Alpert & The Tijuana Brass track:Cabaret', 'limit': 10, 'offset': 0, 'type': 'track', 'market': None} returned 401 due to The access token expired\n",
      "HTTP Error for GET to https://api.spotify.com/v1/search with Params: {'q': 'artist:Herb Alpert & The Tijuana Brass track:Carmen', 'limit': 10, 'offset': 0, 'type': 'track', 'market': None} returned 401 due to The access token expired\n",
      "HTTP Error for GET to https://api.spotify.com/v1/search with Params: {'q': 'artist:Herb Alpert & The Tijuana Brass track:Casino Royale', 'limit': 10, 'offset': 0, 'type': 'track', 'market': None} returned 401 due to The access token expired\n",
      "HTTP Error for GET to https://api.spotify.com/v1/search with Params: {'q': 'artist:Herb Alpert & The Tijuana Brass track:Flamingo', 'limit': 10, 'offset': 0, 'type': 'track', 'market': None} returned 401 due to The access token expired\n",
      "HTTP Error for GET to https://api.spotify.com/v1/search with Params: {'q': 'artist:Herb Alpert & The Tijuana Brass track:Fox Hunt', 'limit': 10, 'offset': 0, 'type': 'track', 'market': None} returned 401 due to The access token expired\n"
     ]
    },
    {
     "name": "stdout",
     "output_type": "stream",
     "text": [
      "ERROR:   Herb Alpert & The Tijuana Brass Cabaret\n",
      "ERROR:   Herb Alpert & The Tijuana Brass Carmen\n",
      "ERROR:   Herb Alpert & The Tijuana Brass Casino Royale\n",
      "ERROR:   Herb Alpert & The Tijuana Brass Flamingo\n"
     ]
    },
    {
     "name": "stderr",
     "output_type": "stream",
     "text": [
      "HTTP Error for GET to https://api.spotify.com/v1/search with Params: {'q': 'artist:Herb Alpert & The Tijuana Brass track:Jerusalem', 'limit': 10, 'offset': 0, 'type': 'track', 'market': None} returned 401 due to The access token expired\n",
      "HTTP Error for GET to https://api.spotify.com/v1/search with Params: {'q': 'artist:Herb Alpert & The Tijuana Brass track:Last Tango In Paris', 'limit': 10, 'offset': 0, 'type': 'track', 'market': None} returned 401 due to The access token expired\n",
      "HTTP Error for GET to https://api.spotify.com/v1/search with Params: {'q': 'artist:Herb Alpert & The Tijuana Brass track:Mame', 'limit': 10, 'offset': 0, 'type': 'track', 'market': None} returned 401 due to The access token expired\n"
     ]
    },
    {
     "name": "stdout",
     "output_type": "stream",
     "text": [
      "ERROR:   Herb Alpert & The Tijuana Brass Fox Hunt\n",
      "ERROR:   Herb Alpert & The Tijuana Brass Jerusalem\n",
      "ERROR:   Herb Alpert & The Tijuana Brass Last Tango In Paris\n",
      "ERROR:   Herb Alpert & The Tijuana Brass Mame\n",
      "10940  "
     ]
    },
    {
     "name": "stderr",
     "output_type": "stream",
     "text": [
      "HTTP Error for GET to https://api.spotify.com/v1/search with Params: {'q': 'artist:Herb Alpert & The Tijuana Brass track:My Favorite Things', 'limit': 10, 'offset': 0, 'type': 'track', 'market': None} returned 401 due to The access token expired\n",
      "HTTP Error for GET to https://api.spotify.com/v1/search with Params: {'q': 'artist:Herb Alpert & The Tijuana Brass track:Spanish Flea', 'limit': 10, 'offset': 0, 'type': 'track', 'market': None} returned 401 due to The access token expired\n",
      "HTTP Error for GET to https://api.spotify.com/v1/search with Params: {'q': 'artist:Herb Alpert & The Tijuana Brass track:Taste Of Honey', 'limit': 10, 'offset': 0, 'type': 'track', 'market': None} returned 401 due to The access token expired\n",
      "HTTP Error for GET to https://api.spotify.com/v1/search with Params: {'q': 'artist:Herb Alpert & The Tijuana Brass track:The Happening', 'limit': 10, 'offset': 0, 'type': 'track', 'market': None} returned 401 due to The access token expired\n"
     ]
    },
    {
     "name": "stdout",
     "output_type": "stream",
     "text": [
      "ERROR:   Herb Alpert & The Tijuana Brass My Favorite Things\n",
      "ERROR:   Herb Alpert & The Tijuana Brass Spanish Flea\n",
      "ERROR:   Herb Alpert & The Tijuana Brass Taste Of Honey\n",
      "ERROR:   Herb Alpert & The Tijuana Brass The Happening\n"
     ]
    },
    {
     "name": "stderr",
     "output_type": "stream",
     "text": [
      "HTTP Error for GET to https://api.spotify.com/v1/search with Params: {'q': 'artist:Herb Alpert & The Tijuana Brass track:The Work Song', 'limit': 10, 'offset': 0, 'type': 'track', 'market': None} returned 401 due to The access token expired\n",
      "HTTP Error for GET to https://api.spotify.com/v1/search with Params: {'q': 'artist:Herb Alpert & The Tijuana Brass track:Tijuana Taxi', 'limit': 10, 'offset': 0, 'type': 'track', 'market': None} returned 401 due to The access token expired\n",
      "HTTP Error for GET to https://api.spotify.com/v1/search with Params: {'q': 'artist:Herb Alpert & The Tijuana Brass track:Wade In The Water', 'limit': 10, 'offset': 0, 'type': 'track', 'market': None} returned 401 due to The access token expired\n",
      "HTTP Error for GET to https://api.spotify.com/v1/search with Params: {'q': 'artist:Herb Alpert & The Tijuana Brass track:What Now My Love', 'limit': 10, 'offset': 0, 'type': 'track', 'market': None} returned 401 due to The access token expired\n"
     ]
    },
    {
     "name": "stdout",
     "output_type": "stream",
     "text": [
      "ERROR:   Herb Alpert & The Tijuana Brass The Work Song\n",
      "ERROR:   Herb Alpert & The Tijuana Brass Tijuana Taxi\n",
      "ERROR:   Herb Alpert & The Tijuana Brass Wade In The Water\n",
      "ERROR:   Herb Alpert & The Tijuana Brass What Now My Love\n"
     ]
    },
    {
     "name": "stderr",
     "output_type": "stream",
     "text": [
      "HTTP Error for GET to https://api.spotify.com/v1/search with Params: {'q': 'artist:Herb Alpert & The Tijuana Brass track:Zazueira (Za-zoo-wher-a)', 'limit': 10, 'offset': 0, 'type': 'track', 'market': None} returned 401 due to The access token expired\n",
      "HTTP Error for GET to https://api.spotify.com/v1/search with Params: {'q': 'artist:Herb Alpert & The Tijuana Brass track:Zorba The Greek', 'limit': 10, 'offset': 0, 'type': 'track', 'market': None} returned 401 due to The access token expired\n",
      "HTTP Error for GET to https://api.spotify.com/v1/search with Params: {'q': 'artist:Herb Alpert And Tijuana Brass track:The Lonely Bull (El Solo Torro)', 'limit': 10, 'offset': 0, 'type': 'track', 'market': None} returned 401 due to The access token expired\n",
      "HTTP Error for GET to https://api.spotify.com/v1/search with Params: {'q': \"artist:Herb Alpert's Tijuana Brass track:Bullish\", 'limit': 10, 'offset': 0, 'type': 'track', 'market': None} returned 401 due to The access token expired\n",
      "HTTP Error for GET to https://api.spotify.com/v1/search with Params: {'q': \"artist:Herb Alpert's Tijuana Brass track:Marching Thru Madrid\", 'limit': 10, 'offset': 0, 'type': 'track', 'market': None} returned 401 due to The access token expired\n"
     ]
    },
    {
     "name": "stdout",
     "output_type": "stream",
     "text": [
      "ERROR:   Herb Alpert & The Tijuana Brass Zazueira (Za-zoo-wher-a)\n",
      "ERROR:   Herb Alpert & The Tijuana Brass Zorba The Greek\n",
      "10950  ERROR:   Herb Alpert And Tijuana Brass The Lonely Bull (El Solo Torro)\n",
      "ERROR:   Herb Alpert's Tijuana Brass Bullish\n"
     ]
    },
    {
     "name": "stderr",
     "output_type": "stream",
     "text": [
      "HTTP Error for GET to https://api.spotify.com/v1/search with Params: {'q': \"artist:Herb Alpert's Tijuana Brass track:Mexican Drummer Man\", 'limit': 10, 'offset': 0, 'type': 'track', 'market': None} returned 401 due to The access token expired\n",
      "HTTP Error for GET to https://api.spotify.com/v1/search with Params: {'q': \"artist:Herb Alpert's Tijuana Brass track:The Mexican Shuffle\", 'limit': 10, 'offset': 0, 'type': 'track', 'market': None} returned 401 due to The access token expired\n",
      "HTTP Error for GET to https://api.spotify.com/v1/search with Params: {'q': \"artist:Herb Alpert's Tijuana Brass track:Whipped Cream\", 'limit': 10, 'offset': 0, 'type': 'track', 'market': None} returned 401 due to The access token expired\n"
     ]
    },
    {
     "name": "stdout",
     "output_type": "stream",
     "text": [
      "ERROR:   Herb Alpert's Tijuana Brass Marching Thru Madrid\n",
      "ERROR:   Herb Alpert's Tijuana Brass Mexican Drummer Man\n",
      "ERROR:   Herb Alpert's Tijuana Brass The Mexican Shuffle\n",
      "ERROR:   Herb Alpert's Tijuana Brass Whipped Cream\n"
     ]
    },
    {
     "name": "stderr",
     "output_type": "stream",
     "text": [
      "HTTP Error for GET to https://api.spotify.com/v1/search with Params: {'q': 'artist:Herb Lance & The Classics track:Blue Moon', 'limit': 10, 'offset': 0, 'type': 'track', 'market': None} returned 401 due to The access token expired\n",
      "HTTP Error for GET to https://api.spotify.com/v1/search with Params: {'q': 'artist:Herbie Hancock track:Chameleon', 'limit': 10, 'offset': 0, 'type': 'track', 'market': None} returned 401 due to The access token expired\n",
      "HTTP Error for GET to https://api.spotify.com/v1/search with Params: {'q': 'artist:Herbie Hancock track:Rockit', 'limit': 10, 'offset': 0, 'type': 'track', 'market': None} returned 401 due to The access token expired\n",
      "HTTP Error for GET to https://api.spotify.com/v1/search with Params: {'q': 'artist:Herbie Mann track:Hijack', 'limit': 10, 'offset': 0, 'type': 'track', 'market': None} returned 401 due to The access token expired\n",
      "HTTP Error for GET to https://api.spotify.com/v1/search with Params: {'q': \"artist:Herbie Mann track:It's A Funky Thing-Right On (Part 1)\", 'limit': 10, 'offset': 0, 'type': 'track', 'market': None} returned 401 due to The access token expired\n"
     ]
    },
    {
     "name": "stdout",
     "output_type": "stream",
     "text": [
      "ERROR:   Herb Lance & The Classics Blue Moon\n",
      "ERROR:   Herbie Hancock Chameleon\n",
      "ERROR:   Herbie Hancock Rockit\n",
      "ERROR:   Herbie Mann Hijack\n",
      "10960  "
     ]
    },
    {
     "name": "stderr",
     "output_type": "stream",
     "text": [
      "HTTP Error for GET to https://api.spotify.com/v1/search with Params: {'q': 'artist:Herbie Mann track:Memphis Underground', 'limit': 10, 'offset': 0, 'type': 'track', 'market': None} returned 401 due to The access token expired\n",
      "HTTP Error for GET to https://api.spotify.com/v1/search with Params: {'q': 'artist:Herbie Mann track:Philly Dog', 'limit': 10, 'offset': 0, 'type': 'track', 'market': None} returned 401 due to The access token expired\n",
      "HTTP Error for GET to https://api.spotify.com/v1/search with Params: {'q': 'artist:Herbie Mann track:Superman', 'limit': 10, 'offset': 0, 'type': 'track', 'market': None} returned 401 due to The access token expired\n"
     ]
    },
    {
     "name": "stdout",
     "output_type": "stream",
     "text": [
      "ERROR:   Herbie Mann It's A Funky Thing-Right On (Part 1)\n",
      "ERROR:   Herbie Mann Memphis Underground\n",
      "ERROR:   Herbie Mann Philly Dog\n",
      "ERROR:   Herbie Mann Superman\n"
     ]
    },
    {
     "name": "stderr",
     "output_type": "stream",
     "text": [
      "HTTP Error for GET to https://api.spotify.com/v1/search with Params: {'q': 'artist:Herbie Mann track:To Sir, With Love', 'limit': 10, 'offset': 0, 'type': 'track', 'market': None} returned 401 due to The access token expired\n",
      "HTTP Error for GET to https://api.spotify.com/v1/search with Params: {'q': 'artist:Herbie Mann track:Unchain My Heart', 'limit': 10, 'offset': 0, 'type': 'track', 'market': None} returned 401 due to The access token expired\n",
      "HTTP Error for GET to https://api.spotify.com/v1/search with Params: {'q': 'artist:Herman Brood track:Saturdaynight', 'limit': 10, 'offset': 0, 'type': 'track', 'market': None} returned 401 due to The access token expired\n",
      "HTTP Error for GET to https://api.spotify.com/v1/search with Params: {'q': \"artist:Herman's Hermits track:A Must To Avoid\", 'limit': 10, 'offset': 0, 'type': 'track', 'market': None} returned 401 due to The access token expired\n"
     ]
    },
    {
     "name": "stdout",
     "output_type": "stream",
     "text": [
      "ERROR:   Herbie Mann To Sir, With Love\n",
      "ERROR:   Herbie Mann Unchain My Heart\n",
      "ERROR:   Herman Brood Saturdaynight\n",
      "ERROR:   Herman's Hermits A Must To Avoid\n"
     ]
    },
    {
     "name": "stderr",
     "output_type": "stream",
     "text": [
      "HTTP Error for GET to https://api.spotify.com/v1/search with Params: {'q': \"artist:Herman's Hermits track:Can't You Hear My Heartbeat\", 'limit': 10, 'offset': 0, 'type': 'track', 'market': None} returned 401 due to The access token expired\n",
      "HTTP Error for GET to https://api.spotify.com/v1/search with Params: {'q': \"artist:Herman's Hermits track:Dandy\", 'limit': 10, 'offset': 0, 'type': 'track', 'market': None} returned 401 due to The access token expired\n",
      "HTTP Error for GET to https://api.spotify.com/v1/search with Params: {'q': \"artist:Herman's Hermits track:Don't Go Out Into The Rain (You're Going To Melt)\", 'limit': 10, 'offset': 0, 'type': 'track', 'market': None} returned 401 due to The access token expired\n",
      "HTTP Error for GET to https://api.spotify.com/v1/search with Params: {'q': \"artist:Herman's Hermits track:East West\", 'limit': 10, 'offset': 0, 'type': 'track', 'market': None} returned 401 due to The access token expired\n"
     ]
    },
    {
     "name": "stdout",
     "output_type": "stream",
     "text": [
      "ERROR:   Herman's Hermits Can't You Hear My Heartbeat\n",
      "ERROR:   Herman's Hermits Dandy\n",
      "10970  ERROR:   Herman's Hermits Don't Go Out Into The Rain (You're Going To Melt)\n",
      "ERROR:   Herman's Hermits East West\n"
     ]
    },
    {
     "name": "stderr",
     "output_type": "stream",
     "text": [
      "HTTP Error for GET to https://api.spotify.com/v1/search with Params: {'q': \"artist:Herman's Hermits track:I Can Take Or Leave Your Loving\", 'limit': 10, 'offset': 0, 'type': 'track', 'market': None} returned 401 due to The access token expired\n",
      "HTTP Error for GET to https://api.spotify.com/v1/search with Params: {'q': \"artist:Herman's Hermits track:I'm Henry VIII, I Am\", 'limit': 10, 'offset': 0, 'type': 'track', 'market': None} returned 401 due to The access token expired\n",
      "HTTP Error for GET to https://api.spotify.com/v1/search with Params: {'q': \"artist:Herman's Hermits track:I'm Into Something Good\", 'limit': 10, 'offset': 0, 'type': 'track', 'market': None} returned 401 due to The access token expired\n",
      "HTTP Error for GET to https://api.spotify.com/v1/search with Params: {'q': \"artist:Herman's Hermits track:Just A Little Bit Better\", 'limit': 10, 'offset': 0, 'type': 'track', 'market': None} returned 401 due to The access token expired\n"
     ]
    },
    {
     "name": "stdout",
     "output_type": "stream",
     "text": [
      "ERROR:   Herman's Hermits I Can Take Or Leave Your Loving\n",
      "ERROR:   Herman's Hermits I'm Henry VIII, I Am\n",
      "ERROR:   Herman's Hermits I'm Into Something Good\n",
      "ERROR:   Herman's Hermits Just A Little Bit Better\n"
     ]
    },
    {
     "name": "stderr",
     "output_type": "stream",
     "text": [
      "HTTP Error for GET to https://api.spotify.com/v1/search with Params: {'q': \"artist:Herman's Hermits track:Leaning On The Lamp Post\", 'limit': 10, 'offset': 0, 'type': 'track', 'market': None} returned 401 due to The access token expired\n",
      "HTTP Error for GET to https://api.spotify.com/v1/search with Params: {'q': \"artist:Herman's Hermits track:Listen People\", 'limit': 10, 'offset': 0, 'type': 'track', 'market': None} returned 401 due to The access token expired\n",
      "HTTP Error for GET to https://api.spotify.com/v1/search with Params: {'q': \"artist:Herman's Hermits track:Mrs. Brown You've Got A Lovely Daughter\", 'limit': 10, 'offset': 0, 'type': 'track', 'market': None} returned 401 due to The access token expired\n",
      "HTTP Error for GET to https://api.spotify.com/v1/search with Params: {'q': \"artist:Herman's Hermits track:Museum\", 'limit': 10, 'offset': 0, 'type': 'track', 'market': None} returned 401 due to The access token expired\n",
      "HTTP Error for GET to https://api.spotify.com/v1/search with Params: {'q': \"artist:Herman's Hermits track:No Milk Today\", 'limit': 10, 'offset': 0, 'type': 'track', 'market': None} returned 401 due to The access token expired\n"
     ]
    },
    {
     "name": "stdout",
     "output_type": "stream",
     "text": [
      "ERROR:   Herman's Hermits Leaning On The Lamp Post\n",
      "ERROR:   Herman's Hermits Listen People\n",
      "ERROR:   Herman's Hermits Mrs. Brown You've Got A Lovely Daughter\n",
      "ERROR:   Herman's Hermits Museum\n",
      "10980  "
     ]
    },
    {
     "name": "stderr",
     "output_type": "stream",
     "text": [
      "HTTP Error for GET to https://api.spotify.com/v1/search with Params: {'q': \"artist:Herman's Hermits track:Silhouettes\", 'limit': 10, 'offset': 0, 'type': 'track', 'market': None} returned 401 due to The access token expired\n",
      "HTTP Error for GET to https://api.spotify.com/v1/search with Params: {'q': \"artist:Herman's Hermits track:Sleepy Joe\", 'limit': 10, 'offset': 0, 'type': 'track', 'market': None} returned 401 due to The access token expired\n",
      "HTTP Error for GET to https://api.spotify.com/v1/search with Params: {'q': \"artist:Herman's Hermits track:There's A Kind Of Hush\", 'limit': 10, 'offset': 0, 'type': 'track', 'market': None} returned 401 due to The access token expired\n",
      "HTTP Error for GET to https://api.spotify.com/v1/search with Params: {'q': \"artist:Herman's Hermits track:This Door Swings Both Ways\", 'limit': 10, 'offset': 0, 'type': 'track', 'market': None} returned 401 due to The access token expired\n"
     ]
    },
    {
     "name": "stdout",
     "output_type": "stream",
     "text": [
      "ERROR:   Herman's Hermits No Milk Today\n",
      "ERROR:   Herman's Hermits Silhouettes\n",
      "ERROR:   Herman's Hermits Sleepy Joe\n",
      "ERROR:   Herman's Hermits There's A Kind Of Hush\n"
     ]
    },
    {
     "name": "stderr",
     "output_type": "stream",
     "text": [
      "HTTP Error for GET to https://api.spotify.com/v1/search with Params: {'q': \"artist:Herman's Hermits track:Wonderful World\", 'limit': 10, 'offset': 0, 'type': 'track', 'market': None} returned 401 due to The access token expired\n",
      "HTTP Error for GET to https://api.spotify.com/v1/search with Params: {'q': 'artist:Hev-D track:Big Daddy', 'limit': 10, 'offset': 0, 'type': 'track', 'market': None} returned 401 due to The access token expired\n",
      "HTTP Error for GET to https://api.spotify.com/v1/search with Params: {'q': 'artist:Hey Violet track:Guys My Age', 'limit': 10, 'offset': 0, 'type': 'track', 'market': None} returned 401 due to The access token expired\n"
     ]
    },
    {
     "name": "stdout",
     "output_type": "stream",
     "text": [
      "ERROR:   Herman's Hermits This Door Swings Both Ways\n",
      "ERROR:   Herman's Hermits Wonderful World\n",
      "ERROR:   Hev-D Big Daddy\n",
      "ERROR:   Hey Violet Guys My Age\n"
     ]
    },
    {
     "name": "stderr",
     "output_type": "stream",
     "text": [
      "HTTP Error for GET to https://api.spotify.com/v1/search with Params: {'q': 'artist:Hi Tek 3 Featuring Ya Kid K track:Spin That Wheel', 'limit': 10, 'offset': 0, 'type': 'track', 'market': None} returned 401 due to The access token expired\n",
      "HTTP Error for GET to https://api.spotify.com/v1/search with Params: {'q': \"artist:Hi-C track:I'm Not Your Puppet\", 'limit': 10, 'offset': 0, 'type': 'track', 'market': None} returned 401 due to The access token expired\n",
      "HTTP Error for GET to https://api.spotify.com/v1/search with Params: {'q': \"artist:Hi-Five track:I Can't Wait Another Minute\", 'limit': 10, 'offset': 0, 'type': 'track', 'market': None} returned 401 due to The access token expired\n",
      "HTTP Error for GET to https://api.spotify.com/v1/search with Params: {'q': 'artist:Hi-Five track:I Like The Way (The Kissing Game)', 'limit': 10, 'offset': 0, 'type': 'track', 'market': None} returned 401 due to The access token expired\n"
     ]
    },
    {
     "name": "stdout",
     "output_type": "stream",
     "text": [
      "ERROR:   Hi Tek 3 Featuring Ya Kid K Spin That Wheel\n",
      "ERROR:   Hi-C I'm Not Your Puppet\n",
      "10990  ERROR:   Hi-Five I Can't Wait Another Minute\n",
      "ERROR:   Hi-Five I Like The Way (The Kissing Game)\n"
     ]
    },
    {
     "name": "stderr",
     "output_type": "stream",
     "text": [
      "HTTP Error for GET to https://api.spotify.com/v1/search with Params: {'q': 'artist:Hi-Five track:Just Another Girlfriend', 'limit': 10, 'offset': 0, 'type': 'track', 'market': None} returned 401 due to The access token expired\n",
      "HTTP Error for GET to https://api.spotify.com/v1/search with Params: {'q': 'artist:Hi-Five track:Never Should\\'ve Let You Go (From \"Sister Act 2\")', 'limit': 10, 'offset': 0, 'type': 'track', 'market': None} returned 401 due to The access token expired\n",
      "HTTP Error for GET to https://api.spotify.com/v1/search with Params: {'q': 'artist:Hi-Five track:Quality Time', 'limit': 10, 'offset': 0, 'type': 'track', 'market': None} returned 401 due to The access token expired\n",
      "HTTP Error for GET to https://api.spotify.com/v1/search with Params: {'q': \"artist:Hi-Five track:She's Playing Hard To Get\", 'limit': 10, 'offset': 0, 'type': 'track', 'market': None} returned 401 due to The access token expired\n"
     ]
    },
    {
     "name": "stdout",
     "output_type": "stream",
     "text": [
      "ERROR:   Hi-Five Just Another Girlfriend\n",
      "ERROR:   Hi-Five Never Should've Let You Go (From \"Sister Act 2\")\n",
      "ERROR:   Hi-Five Quality Time\n",
      "ERROR:   Hi-Five She's Playing Hard To Get\n"
     ]
    },
    {
     "name": "stderr",
     "output_type": "stream",
     "text": [
      "HTTP Error for GET to https://api.spotify.com/v1/search with Params: {'q': 'artist:Hi-Five track:Unconditional Love (From \"Menace II Society\")', 'limit': 10, 'offset': 0, 'type': 'track', 'market': None} returned 401 due to The access token expired\n",
      "HTTP Error for GET to https://api.spotify.com/v1/search with Params: {'q': 'artist:Hi-Town DJs track:Ding-A-Ling', 'limit': 10, 'offset': 0, 'type': 'track', 'market': None} returned 401 due to The access token expired\n",
      "HTTP Error for GET to https://api.spotify.com/v1/search with Params: {'q': \"artist:High Inergy track:He's A Pretender\", 'limit': 10, 'offset': 0, 'type': 'track', 'market': None} returned 401 due to The access token expired\n",
      "HTTP Error for GET to https://api.spotify.com/v1/search with Params: {'q': 'artist:High Inergy track:Love Is All You Need', 'limit': 10, 'offset': 0, 'type': 'track', 'market': None} returned 401 due to The access token expired\n"
     ]
    },
    {
     "name": "stdout",
     "output_type": "stream",
     "text": [
      "ERROR:   Hi-Five Unconditional Love (From \"Menace II Society\")\n",
      "ERROR:   Hi-Town DJs Ding-A-Ling\n",
      "ERROR:   High Inergy He's A Pretender\n",
      "ERROR:   High Inergy Love Is All You Need\n",
      "11000  \n"
     ]
    },
    {
     "name": "stderr",
     "output_type": "stream",
     "text": [
      "HTTP Error for GET to https://api.spotify.com/v1/search with Params: {'q': \"artist:High Inergy track:You Can't Turn Me Off (In The Middle Of Turning Me On)\", 'limit': 10, 'offset': 0, 'type': 'track', 'market': None} returned 401 due to The access token expired\n",
      "HTTP Error for GET to https://api.spotify.com/v1/search with Params: {'q': 'artist:High School Musical 2 Cast track:All For One', 'limit': 10, 'offset': 0, 'type': 'track', 'market': None} returned 401 due to The access token expired\n",
      "HTTP Error for GET to https://api.spotify.com/v1/search with Params: {'q': 'artist:High School Musical 2 Cast track:What Time Is It', 'limit': 10, 'offset': 0, 'type': 'track', 'market': None} returned 401 due to The access token expired\n",
      "HTTP Error for GET to https://api.spotify.com/v1/search with Params: {'q': 'artist:High School Musical 3 Cast track:Now Or Never', 'limit': 10, 'offset': 0, 'type': 'track', 'market': None} returned 401 due to The access token expired\n"
     ]
    },
    {
     "name": "stdout",
     "output_type": "stream",
     "text": [
      "ERROR:   High Inergy You Can't Turn Me Off (In The Middle Of Turning Me On)\n",
      "ERROR:   High School Musical 2 Cast All For One\n",
      "ERROR:   High School Musical 2 Cast What Time Is It\n"
     ]
    },
    {
     "name": "stderr",
     "output_type": "stream",
     "text": [
      "HTTP Error for GET to https://api.spotify.com/v1/search with Params: {'q': 'artist:High School Musical Cast track:Stick To The Status Quo', 'limit': 10, 'offset': 0, 'type': 'track', 'market': None} returned 401 due to The access token expired\n",
      "HTTP Error for GET to https://api.spotify.com/v1/search with Params: {'q': \"artist:High School Musical Cast track:We're All In This Together\", 'limit': 10, 'offset': 0, 'type': 'track', 'market': None} returned 401 due to The access token expired\n",
      "HTTP Error for GET to https://api.spotify.com/v1/search with Params: {'q': \"artist:High Valley track:She's With Me\", 'limit': 10, 'offset': 0, 'type': 'track', 'market': None} returned 401 due to The access token expired\n"
     ]
    },
    {
     "name": "stdout",
     "output_type": "stream",
     "text": [
      "ERROR:   High School Musical 3 Cast Now Or Never\n",
      "ERROR:   High School Musical Cast Stick To The Status Quo\n",
      "ERROR:   High School Musical Cast We're All In This Together\n",
      "ERROR:   High Valley She's With Me\n"
     ]
    },
    {
     "name": "stderr",
     "output_type": "stream",
     "text": [
      "HTTP Error for GET to https://api.spotify.com/v1/search with Params: {'q': 'artist:Hikaru Utada & Skrillex track:Face My Fears', 'limit': 10, 'offset': 0, 'type': 'track', 'market': None} returned 401 due to The access token expired\n",
      "HTTP Error for GET to https://api.spotify.com/v1/search with Params: {'q': 'artist:Hilary Duff track:Chasing The Sun', 'limit': 10, 'offset': 0, 'type': 'track', 'market': None} returned 401 due to The access token expired\n",
      "HTTP Error for GET to https://api.spotify.com/v1/search with Params: {'q': 'artist:Hilary Duff track:Come Clean', 'limit': 10, 'offset': 0, 'type': 'track', 'market': None} returned 401 due to The access token expired\n",
      "HTTP Error for GET to https://api.spotify.com/v1/search with Params: {'q': 'artist:Hilary Duff track:So Yesterday', 'limit': 10, 'offset': 0, 'type': 'track', 'market': None} returned 401 due to The access token expired\n",
      "HTTP Error for GET to https://api.spotify.com/v1/search with Params: {'q': 'artist:Hilary Duff track:Sparks', 'limit': 10, 'offset': 0, 'type': 'track', 'market': None} returned 401 due to The access token expired\n"
     ]
    },
    {
     "name": "stdout",
     "output_type": "stream",
     "text": [
      "ERROR:   Hikaru Utada & Skrillex Face My Fears\n",
      "ERROR:   Hilary Duff Chasing The Sun\n",
      "ERROR:   Hilary Duff Come Clean\n",
      "11010  ERROR:   Hilary Duff So Yesterday\n"
     ]
    },
    {
     "name": "stderr",
     "output_type": "stream",
     "text": [
      "HTTP Error for GET to https://api.spotify.com/v1/search with Params: {'q': 'artist:Hilary Duff track:Stranger', 'limit': 10, 'offset': 0, 'type': 'track', 'market': None} returned 401 due to The access token expired\n",
      "HTTP Error for GET to https://api.spotify.com/v1/search with Params: {'q': 'artist:Hilary Duff track:Wake Up', 'limit': 10, 'offset': 0, 'type': 'track', 'market': None} returned 401 due to The access token expired\n",
      "HTTP Error for GET to https://api.spotify.com/v1/search with Params: {'q': 'artist:Hilary Duff track:With Love', 'limit': 10, 'offset': 0, 'type': 'track', 'market': None} returned 401 due to The access token expired\n"
     ]
    },
    {
     "name": "stdout",
     "output_type": "stream",
     "text": [
      "ERROR:   Hilary Duff Sparks\n",
      "ERROR:   Hilary Duff Stranger\n",
      "ERROR:   Hilary Duff Wake Up\n",
      "ERROR:   Hilary Duff With Love\n"
     ]
    },
    {
     "name": "stderr",
     "output_type": "stream",
     "text": [
      "HTTP Error for GET to https://api.spotify.com/v1/search with Params: {'q': 'artist:Hillsong UNITED track:Oceans (Where Feet May Fail)', 'limit': 10, 'offset': 0, 'type': 'track', 'market': None} returned 401 due to The access token expired\n",
      "HTTP Error for GET to https://api.spotify.com/v1/search with Params: {'q': 'artist:Hinder track:Better Than Me', 'limit': 10, 'offset': 0, 'type': 'track', 'market': None} returned 401 due to The access token expired\n",
      "HTTP Error for GET to https://api.spotify.com/v1/search with Params: {'q': 'artist:Hinder track:Lips Of An Angel', 'limit': 10, 'offset': 0, 'type': 'track', 'market': None} returned 401 due to The access token expired\n",
      "HTTP Error for GET to https://api.spotify.com/v1/search with Params: {'q': 'artist:Hinder track:Without You', 'limit': 10, 'offset': 0, 'type': 'track', 'market': None} returned 401 due to The access token expired\n",
      "HTTP Error for GET to https://api.spotify.com/v1/search with Params: {'q': 'artist:Hipsway track:The Honeythief', 'limit': 10, 'offset': 0, 'type': 'track', 'market': None} returned 401 due to The access token expired\n"
     ]
    },
    {
     "name": "stdout",
     "output_type": "stream",
     "text": [
      "ERROR:   Hillsong UNITED Oceans (Where Feet May Fail)\n",
      "ERROR:   Hinder Better Than Me\n",
      "ERROR:   Hinder Lips Of An Angel\n",
      "ERROR:   Hinder Without You\n"
     ]
    },
    {
     "name": "stderr",
     "output_type": "stream",
     "text": [
      "HTTP Error for GET to https://api.spotify.com/v1/search with Params: {'q': 'artist:Hit Masters track:All Summer Long', 'limit': 10, 'offset': 0, 'type': 'track', 'market': None} returned 401 due to The access token expired\n",
      "HTTP Error for GET to https://api.spotify.com/v1/search with Params: {'q': 'artist:Hitman Sammy Sam track:Step Daddy', 'limit': 10, 'offset': 0, 'type': 'track', 'market': None} returned 401 due to The access token expired\n",
      "HTTP Error for GET to https://api.spotify.com/v1/search with Params: {'q': \"artist:Hodges, James And Smith track:Since I Fell For You/I'm Falling In Love\", 'limit': 10, 'offset': 0, 'type': 'track', 'market': None} returned 401 due to The access token expired\n"
     ]
    },
    {
     "name": "stdout",
     "output_type": "stream",
     "text": [
      "ERROR:   Hipsway The Honeythief\n",
      "11020  ERROR:   Hit Masters All Summer Long\n",
      "ERROR:   Hitman Sammy Sam Step Daddy\n",
      "ERROR:   Hodges, James And Smith Since I Fell For You/I'm Falling In Love\n"
     ]
    },
    {
     "name": "stderr",
     "output_type": "stream",
     "text": [
      "HTTP Error for GET to https://api.spotify.com/v1/search with Params: {'q': 'artist:Hog Heaven track:Happy', 'limit': 10, 'offset': 0, 'type': 'track', 'market': None} returned 401 due to The access token expired\n",
      "HTTP Error for GET to https://api.spotify.com/v1/search with Params: {'q': 'artist:Hoku track:Another Dumb Blonde', 'limit': 10, 'offset': 0, 'type': 'track', 'market': None} returned 401 due to The access token expired\n",
      "HTTP Error for GET to https://api.spotify.com/v1/search with Params: {'q': 'artist:Hole track:Celebrity Skin', 'limit': 10, 'offset': 0, 'type': 'track', 'market': None} returned 401 due to The access token expired\n",
      "HTTP Error for GET to https://api.spotify.com/v1/search with Params: {'q': 'artist:Hole track:Doll Parts', 'limit': 10, 'offset': 0, 'type': 'track', 'market': None} returned 401 due to The access token expired\n"
     ]
    },
    {
     "name": "stdout",
     "output_type": "stream",
     "text": [
      "ERROR:   Hog Heaven Happy\n",
      "ERROR:   Hoku Another Dumb Blonde\n",
      "ERROR:   Hole Celebrity Skin\n",
      "ERROR:   Hole Doll Parts\n"
     ]
    },
    {
     "name": "stderr",
     "output_type": "stream",
     "text": [
      "HTTP Error for GET to https://api.spotify.com/v1/search with Params: {'q': 'artist:Hole track:Malibu', 'limit': 10, 'offset': 0, 'type': 'track', 'market': None} returned 401 due to The access token expired\n",
      "HTTP Error for GET to https://api.spotify.com/v1/search with Params: {'q': \"artist:Holland-Dozier track:Don't Leave Me Starvin' For Your Love (Part 1)\", 'limit': 10, 'offset': 0, 'type': 'track', 'market': None} returned 401 due to The access token expired\n",
      "HTTP Error for GET to https://api.spotify.com/v1/search with Params: {'q': \"artist:Holland-Dozier track:Why Can't We Be Lovers\", 'limit': 10, 'offset': 0, 'type': 'track', 'market': None} returned 401 due to The access token expired\n",
      "HTTP Error for GET to https://api.spotify.com/v1/search with Params: {'q': 'artist:Holly Johnson track:Love Train', 'limit': 10, 'offset': 0, 'type': 'track', 'market': None} returned 401 due to The access token expired\n",
      "HTTP Error for GET to https://api.spotify.com/v1/search with Params: {'q': \"artist:Holly Knight track:Heart Don't Fail Me Now\", 'limit': 10, 'offset': 0, 'type': 'track', 'market': None} returned 401 due to The access token expired\n"
     ]
    },
    {
     "name": "stdout",
     "output_type": "stream",
     "text": [
      "ERROR:   Hole Malibu\n",
      "ERROR:   Holland-Dozier Don't Leave Me Starvin' For Your Love (Part 1)\n",
      "ERROR:   Holland-Dozier Why Can't We Be Lovers\n",
      "11030  ERROR:   Holly Johnson Love Train\n"
     ]
    },
    {
     "name": "stderr",
     "output_type": "stream",
     "text": [
      "HTTP Error for GET to https://api.spotify.com/v1/search with Params: {'q': 'artist:Hollywood Argyles track:Alley-Oop', 'limit': 10, 'offset': 0, 'type': 'track', 'market': None} returned 401 due to The access token expired\n",
      "HTTP Error for GET to https://api.spotify.com/v1/search with Params: {'q': 'artist:Home Team track:Pick It Up', 'limit': 10, 'offset': 0, 'type': 'track', 'market': None} returned 401 due to The access token expired\n",
      "HTTP Error for GET to https://api.spotify.com/v1/search with Params: {'q': 'artist:Homer And Jethro track:The Battle Of Kookamonga', 'limit': 10, 'offset': 0, 'type': 'track', 'market': None} returned 401 due to The access token expired\n",
      "HTTP Error for GET to https://api.spotify.com/v1/search with Params: {'q': 'artist:Honeymoon Suite track:Feel It Again', 'limit': 10, 'offset': 0, 'type': 'track', 'market': None} returned 401 due to The access token expired\n"
     ]
    },
    {
     "name": "stdout",
     "output_type": "stream",
     "text": [
      "ERROR:   Holly Knight Heart Don't Fail Me Now\n",
      "ERROR:   Hollywood Argyles Alley-Oop\n",
      "ERROR:   Home Team Pick It Up\n",
      "ERROR:   Homer And Jethro The Battle Of Kookamonga\n"
     ]
    },
    {
     "name": "stderr",
     "output_type": "stream",
     "text": [
      "HTTP Error for GET to https://api.spotify.com/v1/search with Params: {'q': 'artist:Honeymoon Suite track:Love Changes Everything', 'limit': 10, 'offset': 0, 'type': 'track', 'market': None} returned 401 due to The access token expired\n",
      "HTTP Error for GET to https://api.spotify.com/v1/search with Params: {'q': 'artist:Honeymoon Suite track:New Girl Now', 'limit': 10, 'offset': 0, 'type': 'track', 'market': None} returned 401 due to The access token expired\n",
      "HTTP Error for GET to https://api.spotify.com/v1/search with Params: {'q': 'artist:Honeymoon Suite track:What Does It Take', 'limit': 10, 'offset': 0, 'type': 'track', 'market': None} returned 401 due to The access token expired\n"
     ]
    },
    {
     "name": "stdout",
     "output_type": "stream",
     "text": [
      "ERROR:   Honeymoon Suite Feel It Again\n",
      "ERROR:   Honeymoon Suite Love Changes Everything\n",
      "ERROR:   Honeymoon Suite New Girl Now\n",
      "ERROR:   Honeymoon Suite What Does It Take\n"
     ]
    },
    {
     "name": "stderr",
     "output_type": "stream",
     "text": [
      "HTTP Error for GET to https://api.spotify.com/v1/search with Params: {'q': 'artist:Hoobastank track:Crawling In The Dark', 'limit': 10, 'offset': 0, 'type': 'track', 'market': None} returned 401 due to The access token expired\n",
      "HTTP Error for GET to https://api.spotify.com/v1/search with Params: {'q': 'artist:Hoobastank track:Running Away', 'limit': 10, 'offset': 0, 'type': 'track', 'market': None} returned 401 due to The access token expired\n",
      "HTTP Error for GET to https://api.spotify.com/v1/search with Params: {'q': 'artist:Hoobastank track:The Reason', 'limit': 10, 'offset': 0, 'type': 'track', 'market': None} returned 401 due to The access token expired\n",
      "HTTP Error for GET to https://api.spotify.com/v1/search with Params: {'q': 'artist:Hoodie Allen Featuring Ed Sheeran track:All About It', 'limit': 10, 'offset': 0, 'type': 'track', 'market': None} returned 401 due to The access token expired\n",
      "HTTP Error for GET to https://api.spotify.com/v1/search with Params: {'q': 'artist:Hooters track:500 Miles', 'limit': 10, 'offset': 0, 'type': 'track', 'market': None} returned 401 due to The access token expired\n"
     ]
    },
    {
     "name": "stdout",
     "output_type": "stream",
     "text": [
      "ERROR:   Hoobastank Crawling In The Dark\n",
      "11040  ERROR:   Hoobastank Running Away\n",
      "ERROR:   Hoobastank The Reason\n",
      "ERROR:   Hoodie Allen Featuring Ed Sheeran All About It\n"
     ]
    },
    {
     "name": "stderr",
     "output_type": "stream",
     "text": [
      "HTTP Error for GET to https://api.spotify.com/v1/search with Params: {'q': 'artist:Hooters track:All You Zombies', 'limit': 10, 'offset': 0, 'type': 'track', 'market': None} returned 401 due to The access token expired\n",
      "HTTP Error for GET to https://api.spotify.com/v1/search with Params: {'q': 'artist:Hooters track:And We Danced', 'limit': 10, 'offset': 0, 'type': 'track', 'market': None} returned 401 due to The access token expired\n",
      "HTTP Error for GET to https://api.spotify.com/v1/search with Params: {'q': 'artist:Hooters track:Day By Day', 'limit': 10, 'offset': 0, 'type': 'track', 'market': None} returned 401 due to The access token expired\n"
     ]
    },
    {
     "name": "stdout",
     "output_type": "stream",
     "text": [
      "ERROR:   Hooters 500 Miles\n",
      "ERROR:   Hooters All You Zombies\n",
      "ERROR:   Hooters And We Danced\n",
      "ERROR:   Hooters Day By Day\n"
     ]
    },
    {
     "name": "stderr",
     "output_type": "stream",
     "text": [
      "HTTP Error for GET to https://api.spotify.com/v1/search with Params: {'q': 'artist:Hooters track:Johnny B', 'limit': 10, 'offset': 0, 'type': 'track', 'market': None} returned 401 due to The access token expired\n",
      "HTTP Error for GET to https://api.spotify.com/v1/search with Params: {'q': 'artist:Hooters track:Satellite', 'limit': 10, 'offset': 0, 'type': 'track', 'market': None} returned 401 due to The access token expired\n",
      "HTTP Error for GET to https://api.spotify.com/v1/search with Params: {'q': 'artist:Hooters track:Where Do The Children Go', 'limit': 10, 'offset': 0, 'type': 'track', 'market': None} returned 401 due to The access token expired\n",
      "HTTP Error for GET to https://api.spotify.com/v1/search with Params: {'q': 'artist:Hootie & The Blowfish track:Hold My Hand', 'limit': 10, 'offset': 0, 'type': 'track', 'market': None} returned 401 due to The access token expired\n",
      "HTTP Error for GET to https://api.spotify.com/v1/search with Params: {'q': 'artist:Hootie & The Blowfish track:Let Her Cry', 'limit': 10, 'offset': 0, 'type': 'track', 'market': None} returned 401 due to The access token expired\n"
     ]
    },
    {
     "name": "stdout",
     "output_type": "stream",
     "text": [
      "ERROR:   Hooters Johnny B\n",
      "ERROR:   Hooters Satellite\n",
      "ERROR:   Hooters Where Do The Children Go\n",
      "11050  ERROR:   Hootie & The Blowfish Hold My Hand\n"
     ]
    },
    {
     "name": "stderr",
     "output_type": "stream",
     "text": [
      "HTTP Error for GET to https://api.spotify.com/v1/search with Params: {'q': 'artist:Hootie & The Blowfish track:Old Man & Me (When I Get To Heaven)', 'limit': 10, 'offset': 0, 'type': 'track', 'market': None} returned 401 due to The access token expired\n",
      "HTTP Error for GET to https://api.spotify.com/v1/search with Params: {'q': 'artist:Hootie & The Blowfish track:Only Wanna Be With You', 'limit': 10, 'offset': 0, 'type': 'track', 'market': None} returned 401 due to The access token expired\n",
      "HTTP Error for GET to https://api.spotify.com/v1/search with Params: {'q': 'artist:Hootie & The Blowfish track:Time', 'limit': 10, 'offset': 0, 'type': 'track', 'market': None} returned 401 due to The access token expired\n"
     ]
    },
    {
     "name": "stdout",
     "output_type": "stream",
     "text": [
      "ERROR:   Hootie & The Blowfish Let Her Cry\n",
      "ERROR:   Hootie & The Blowfish Old Man & Me (When I Get To Heaven)\n",
      "ERROR:   Hootie & The Blowfish Only Wanna Be With You\n",
      "ERROR:   Hootie & The Blowfish Time\n"
     ]
    },
    {
     "name": "stderr",
     "output_type": "stream",
     "text": [
      "HTTP Error for GET to https://api.spotify.com/v1/search with Params: {'q': \"artist:Hootie & The Blowfish track:Tucker's Town\", 'limit': 10, 'offset': 0, 'type': 'track', 'market': None} returned 401 due to The access token expired\n",
      "HTTP Error for GET to https://api.spotify.com/v1/search with Params: {'q': 'artist:Horace Brown track:One For The Money', 'limit': 10, 'offset': 0, 'type': 'track', 'market': None} returned 401 due to The access token expired\n",
      "HTTP Error for GET to https://api.spotify.com/v1/search with Params: {'q': 'artist:Horace Brown track:Things We Do For Love', 'limit': 10, 'offset': 0, 'type': 'track', 'market': None} returned 401 due to The access token expired\n",
      "HTTP Error for GET to https://api.spotify.com/v1/search with Params: {'q': 'artist:Horst Jankowski track:A Walk In The Black Forest', 'limit': 10, 'offset': 0, 'type': 'track', 'market': None} returned 401 due to The access token expired\n"
     ]
    },
    {
     "name": "stdout",
     "output_type": "stream",
     "text": [
      "ERROR:   Hootie & The Blowfish Tucker's Town\n",
      "ERROR:   Horace Brown One For The Money\n",
      "ERROR:   Horace Brown Things We Do For Love\n",
      "ERROR:   Horst Jankowski A Walk In The Black Forest\n"
     ]
    },
    {
     "name": "stderr",
     "output_type": "stream",
     "text": [
      "HTTP Error for GET to https://api.spotify.com/v1/search with Params: {'q': 'artist:Horst Jankowski track:Simpel Gimpel', 'limit': 10, 'offset': 0, 'type': 'track', 'market': None} returned 401 due to The access token expired\n",
      "HTTP Error for GET to https://api.spotify.com/v1/search with Params: {'q': 'artist:Hot track:Angel In Your Arms', 'limit': 10, 'offset': 0, 'type': 'track', 'market': None} returned 401 due to The access token expired\n",
      "HTTP Error for GET to https://api.spotify.com/v1/search with Params: {'q': 'artist:Hot track:The Right Feeling At The Wrong Time', 'limit': 10, 'offset': 0, 'type': 'track', 'market': None} returned 401 due to The access token expired\n",
      "HTTP Error for GET to https://api.spotify.com/v1/search with Params: {'q': 'artist:Hot track:You Brought The Woman Out Of Me', 'limit': 10, 'offset': 0, 'type': 'track', 'market': None} returned 401 due to The access token expired\n"
     ]
    },
    {
     "name": "stdout",
     "output_type": "stream",
     "text": [
      "ERROR:   Horst Jankowski Simpel Gimpel\n",
      "11060  ERROR:   Hot Angel In Your Arms\n",
      "ERROR:   Hot The Right Feeling At The Wrong Time\n",
      "ERROR:   Hot You Brought The Woman Out Of Me\n"
     ]
    },
    {
     "name": "stderr",
     "output_type": "stream",
     "text": [
      "HTTP Error for GET to https://api.spotify.com/v1/search with Params: {'q': 'artist:Hot Boys track:I Need A Hot Girl', 'limit': 10, 'offset': 0, 'type': 'track', 'market': None} returned 401 due to The access token expired\n",
      "HTTP Error for GET to https://api.spotify.com/v1/search with Params: {'q': 'artist:Hot Butter track:Popcorn', 'limit': 10, 'offset': 0, 'type': 'track', 'market': None} returned 401 due to The access token expired\n",
      "HTTP Error for GET to https://api.spotify.com/v1/search with Params: {'q': 'artist:Hot Chelle Rae track:Tonight Tonight', 'limit': 10, 'offset': 0, 'type': 'track', 'market': None} returned 401 due to The access token expired\n",
      "HTTP Error for GET to https://api.spotify.com/v1/search with Params: {'q': 'artist:Hot Chelle Rae Featuring New Boyz track:I Like It Like That', 'limit': 10, 'offset': 0, 'type': 'track', 'market': None} returned 401 due to The access token expired\n",
      "HTTP Error for GET to https://api.spotify.com/v1/search with Params: {'q': 'artist:Hot Chocolate track:Are You Getting Enough Happiness', 'limit': 10, 'offset': 0, 'type': 'track', 'market': None} returned 401 due to The access token expired\n"
     ]
    },
    {
     "name": "stdout",
     "output_type": "stream",
     "text": [
      "ERROR:   Hot Boys I Need A Hot Girl\n",
      "ERROR:   Hot Butter Popcorn\n",
      "ERROR:   Hot Chelle Rae Tonight Tonight\n",
      "ERROR:   Hot Chelle Rae Featuring New Boyz I Like It Like That\n"
     ]
    },
    {
     "name": "stderr",
     "output_type": "stream",
     "text": [
      "HTTP Error for GET to https://api.spotify.com/v1/search with Params: {'q': 'artist:Hot Chocolate track:Disco Queen', 'limit': 10, 'offset': 0, 'type': 'track', 'market': None} returned 401 due to The access token expired\n",
      "HTTP Error for GET to https://api.spotify.com/v1/search with Params: {'q': \"artist:Hot Chocolate track:Don't Stop It Now\", 'limit': 10, 'offset': 0, 'type': 'track', 'market': None} returned 401 due to The access token expired\n",
      "HTTP Error for GET to https://api.spotify.com/v1/search with Params: {'q': 'artist:Hot Chocolate track:Emma', 'limit': 10, 'offset': 0, 'type': 'track', 'market': None} returned 401 due to The access token expired\n",
      "HTTP Error for GET to https://api.spotify.com/v1/search with Params: {'q': \"artist:Hot Chocolate track:Every 1's A Winner\", 'limit': 10, 'offset': 0, 'type': 'track', 'market': None} returned 401 due to The access token expired\n"
     ]
    },
    {
     "name": "stdout",
     "output_type": "stream",
     "text": [
      "ERROR:   Hot Chocolate Are You Getting Enough Happiness\n",
      "ERROR:   Hot Chocolate Disco Queen\n",
      "ERROR:   Hot Chocolate Don't Stop It Now\n",
      "11070  ERROR:   Hot Chocolate Emma\n"
     ]
    },
    {
     "name": "stderr",
     "output_type": "stream",
     "text": [
      "HTTP Error for GET to https://api.spotify.com/v1/search with Params: {'q': 'artist:Hot Chocolate track:Going Through The Motions', 'limit': 10, 'offset': 0, 'type': 'track', 'market': None} returned 401 due to The access token expired\n",
      "HTTP Error for GET to https://api.spotify.com/v1/search with Params: {'q': 'artist:Hot Chocolate track:So You Win Again', 'limit': 10, 'offset': 0, 'type': 'track', 'market': None} returned 401 due to The access token expired\n",
      "HTTP Error for GET to https://api.spotify.com/v1/search with Params: {'q': 'artist:Hot Chocolate track:You Sexy Thing', 'limit': 10, 'offset': 0, 'type': 'track', 'market': None} returned 401 due to The access token expired\n"
     ]
    },
    {
     "name": "stdout",
     "output_type": "stream",
     "text": [
      "ERROR:   Hot Chocolate Every 1's A Winner\n",
      "ERROR:   Hot Chocolate Going Through The Motions\n",
      "ERROR:   Hot Chocolate So You Win Again\n",
      "ERROR:   Hot Chocolate You Sexy Thing\n"
     ]
    },
    {
     "name": "stderr",
     "output_type": "stream",
     "text": [
      "HTTP Error for GET to https://api.spotify.com/v1/search with Params: {'q': 'artist:Hot Sauce track:Bring It Home (And Give It To Me)', 'limit': 10, 'offset': 0, 'type': 'track', 'market': None} returned 401 due to The access token expired\n",
      "HTTP Error for GET to https://api.spotify.com/v1/search with Params: {'q': 'artist:Hot Stylz Featuring Yung Joc track:Lookin Boy', 'limit': 10, 'offset': 0, 'type': 'track', 'market': None} returned 401 due to The access token expired\n",
      "HTTP Error for GET to https://api.spotify.com/v1/search with Params: {'q': \"artist:Hot-Toddys featuring Bill Pennell track:Rockin' Crickets\", 'limit': 10, 'offset': 0, 'type': 'track', 'market': None} returned 401 due to The access token expired\n",
      "HTTP Error for GET to https://api.spotify.com/v1/search with Params: {'q': 'artist:Hotel track:Half Moon Silver', 'limit': 10, 'offset': 0, 'type': 'track', 'market': None} returned 401 due to The access token expired\n"
     ]
    },
    {
     "name": "stdout",
     "output_type": "stream",
     "text": [
      "ERROR:   Hot Sauce Bring It Home (And Give It To Me)\n",
      "ERROR:   Hot Stylz Featuring Yung Joc Lookin Boy\n",
      "ERROR:   Hot-Toddys featuring Bill Pennell Rockin' Crickets\n",
      "ERROR:   Hotel Half Moon Silver\n"
     ]
    },
    {
     "name": "stderr",
     "output_type": "stream",
     "text": [
      "HTTP Error for GET to https://api.spotify.com/v1/search with Params: {'q': 'artist:Hotel track:Hold On To The Night', 'limit': 10, 'offset': 0, 'type': 'track', 'market': None} returned 401 due to The access token expired\n",
      "HTTP Error for GET to https://api.spotify.com/v1/search with Params: {'q': \"artist:Hotel track:You'll Love Again\", 'limit': 10, 'offset': 0, 'type': 'track', 'market': None} returned 401 due to The access token expired\n",
      "HTTP Error for GET to https://api.spotify.com/v1/search with Params: {'q': \"artist:Hotel track:You've Got Another Thing Coming\", 'limit': 10, 'offset': 0, 'type': 'track', 'market': None} returned 401 due to The access token expired\n",
      "HTTP Error for GET to https://api.spotify.com/v1/search with Params: {'q': 'artist:Hotlegs track:Neanderthal Man', 'limit': 10, 'offset': 0, 'type': 'track', 'market': None} returned 401 due to The access token expired\n",
      "HTTP Error for GET to https://api.spotify.com/v1/search with Params: {'q': 'artist:House Of Lords track:I Wanna Be Loved', 'limit': 10, 'offset': 0, 'type': 'track', 'market': None} returned 401 due to The access token expired\n"
     ]
    },
    {
     "name": "stdout",
     "output_type": "stream",
     "text": [
      "ERROR:   Hotel Hold On To The Night\n",
      "11080  ERROR:   Hotel You'll Love Again\n",
      "ERROR:   Hotel You've Got Another Thing Coming\n",
      "ERROR:   Hotlegs Neanderthal Man\n"
     ]
    },
    {
     "name": "stderr",
     "output_type": "stream",
     "text": [
      "HTTP Error for GET to https://api.spotify.com/v1/search with Params: {'q': 'artist:House Of Lords track:Remember My Name', 'limit': 10, 'offset': 0, 'type': 'track', 'market': None} returned 401 due to The access token expired\n",
      "HTTP Error for GET to https://api.spotify.com/v1/search with Params: {'q': 'artist:House Of Pain track:Jump Around', 'limit': 10, 'offset': 0, 'type': 'track', 'market': None} returned 401 due to The access token expired\n",
      "HTTP Error for GET to https://api.spotify.com/v1/search with Params: {'q': 'artist:House Of Pain track:On Point', 'limit': 10, 'offset': 0, 'type': 'track', 'market': None} returned 401 due to The access token expired\n"
     ]
    },
    {
     "name": "stdout",
     "output_type": "stream",
     "text": [
      "ERROR:   House Of Lords I Wanna Be Loved\n",
      "ERROR:   House Of Lords Remember My Name\n",
      "ERROR:   House Of Pain Jump Around\n",
      "ERROR:   House Of Pain On Point\n"
     ]
    },
    {
     "name": "stderr",
     "output_type": "stream",
     "text": [
      "HTTP Error for GET to https://api.spotify.com/v1/search with Params: {'q': 'artist:House Of Pain track:Shamrocks And Shenanigans (Boom Shalock Lock Boom)', 'limit': 10, 'offset': 0, 'type': 'track', 'market': None} returned 401 due to The access token expired\n",
      "HTTP Error for GET to https://api.spotify.com/v1/search with Params: {'q': 'artist:House Of Pain track:Who\\'s The Man? (From \"Who\\'s The Man\")', 'limit': 10, 'offset': 0, 'type': 'track', 'market': None} returned 401 due to The access token expired\n",
      "HTTP Error for GET to https://api.spotify.com/v1/search with Params: {'q': 'artist:Houston Featuring Chingy, Nate Dogg & I-20 track:I Like That', 'limit': 10, 'offset': 0, 'type': 'track', 'market': None} returned 401 due to The access token expired\n",
      "HTTP Error for GET to https://api.spotify.com/v1/search with Params: {'q': 'artist:Houston Person track:Disco Sax/for The Love Of You', 'limit': 10, 'offset': 0, 'type': 'track', 'market': None} returned 401 due to The access token expired\n"
     ]
    },
    {
     "name": "stdout",
     "output_type": "stream",
     "text": [
      "ERROR:   House Of Pain Shamrocks And Shenanigans (Boom Shalock Lock Boom)\n",
      "ERROR:   House Of Pain Who's The Man? (From \"Who's The Man\")\n",
      "ERROR:   Houston Featuring Chingy, Nate Dogg & I-20 I Like That\n",
      "11090  ERROR:   Houston Person Disco Sax/for The Love Of You\n"
     ]
    },
    {
     "name": "stderr",
     "output_type": "stream",
     "text": [
      "HTTP Error for GET to https://api.spotify.com/v1/search with Params: {'q': 'artist:How I Became The Bomb track:Ulay, Oh', 'limit': 10, 'offset': 0, 'type': 'track', 'market': None} returned 401 due to The access token expired\n",
      "HTTP Error for GET to https://api.spotify.com/v1/search with Params: {'q': \"artist:Howard Hewett track:I'm For Real\", 'limit': 10, 'offset': 0, 'type': 'track', 'market': None} returned 401 due to The access token expired\n",
      "HTTP Error for GET to https://api.spotify.com/v1/search with Params: {'q': 'artist:Howard Hewett track:Show Me', 'limit': 10, 'offset': 0, 'type': 'track', 'market': None} returned 401 due to The access token expired\n",
      "HTTP Error for GET to https://api.spotify.com/v1/search with Params: {'q': 'artist:Howard Jones track:All I Want', 'limit': 10, 'offset': 0, 'type': 'track', 'market': None} returned 401 due to The access token expired\n"
     ]
    },
    {
     "name": "stdout",
     "output_type": "stream",
     "text": [
      "ERROR:   How I Became The Bomb Ulay, Oh\n",
      "ERROR:   Howard Hewett I'm For Real\n",
      "ERROR:   Howard Hewett Show Me\n",
      "ERROR:   Howard Jones All I Want\n"
     ]
    },
    {
     "name": "stderr",
     "output_type": "stream",
     "text": [
      "HTTP Error for GET to https://api.spotify.com/v1/search with Params: {'q': 'artist:Howard Jones track:Everlasting Love', 'limit': 10, 'offset': 0, 'type': 'track', 'market': None} returned 401 due to The access token expired\n",
      "HTTP Error for GET to https://api.spotify.com/v1/search with Params: {'q': 'artist:Howard Jones track:Life In One Day', 'limit': 10, 'offset': 0, 'type': 'track', 'market': None} returned 401 due to The access token expired\n",
      "HTTP Error for GET to https://api.spotify.com/v1/search with Params: {'q': 'artist:Howard Jones track:Lift Me Up', 'limit': 10, 'offset': 0, 'type': 'track', 'market': None} returned 401 due to The access token expired\n",
      "HTTP Error for GET to https://api.spotify.com/v1/search with Params: {'q': 'artist:Howard Jones track:Like To Get To Know You Well', 'limit': 10, 'offset': 0, 'type': 'track', 'market': None} returned 401 due to The access token expired\n"
     ]
    },
    {
     "name": "stdout",
     "output_type": "stream",
     "text": [
      "ERROR:   Howard Jones Everlasting Love\n",
      "ERROR:   Howard Jones Life In One Day\n",
      "ERROR:   Howard Jones Lift Me Up\n",
      "ERROR:   Howard Jones Like To Get To Know You Well\n"
     ]
    },
    {
     "name": "stderr",
     "output_type": "stream",
     "text": [
      "HTTP Error for GET to https://api.spotify.com/v1/search with Params: {'q': 'artist:Howard Jones track:New Song', 'limit': 10, 'offset': 0, 'type': 'track', 'market': None} returned 401 due to The access token expired\n",
      "HTTP Error for GET to https://api.spotify.com/v1/search with Params: {'q': 'artist:Howard Jones track:No One Is To Blame', 'limit': 10, 'offset': 0, 'type': 'track', 'market': None} returned 401 due to The access token expired\n",
      "HTTP Error for GET to https://api.spotify.com/v1/search with Params: {'q': 'artist:Howard Jones track:The Prisoner', 'limit': 10, 'offset': 0, 'type': 'track', 'market': None} returned 401 due to The access token expired\n",
      "HTTP Error for GET to https://api.spotify.com/v1/search with Params: {'q': 'artist:Howard Jones track:Things Can Only Get Better', 'limit': 10, 'offset': 0, 'type': 'track', 'market': None} returned 401 due to The access token expired\n",
      "HTTP Error for GET to https://api.spotify.com/v1/search with Params: {'q': 'artist:Howard Jones track:What Is Love', 'limit': 10, 'offset': 0, 'type': 'track', 'market': None} returned 401 due to The access token expired\n"
     ]
    },
    {
     "name": "stdout",
     "output_type": "stream",
     "text": [
      "ERROR:   Howard Jones New Song\n",
      "11100  \n",
      "ERROR:   Howard Jones No One Is To Blame\n",
      "ERROR:   Howard Jones The Prisoner\n",
      "ERROR:   Howard Jones Things Can Only Get Better\n"
     ]
    },
    {
     "name": "stderr",
     "output_type": "stream",
     "text": [
      "HTTP Error for GET to https://api.spotify.com/v1/search with Params: {'q': \"artist:Howard Jones track:You Know I Love You ... Don't You?\", 'limit': 10, 'offset': 0, 'type': 'track', 'market': None} returned 401 due to The access token expired\n",
      "HTTP Error for GET to https://api.spotify.com/v1/search with Params: {'q': \"artist:Howard Tate track:Ain't Nobody Home\", 'limit': 10, 'offset': 0, 'type': 'track', 'market': None} returned 401 due to The access token expired\n",
      "HTTP Error for GET to https://api.spotify.com/v1/search with Params: {'q': 'artist:Howard Tate track:Look At Granny Run, Run', 'limit': 10, 'offset': 0, 'type': 'track', 'market': None} returned 401 due to The access token expired\n"
     ]
    },
    {
     "name": "stdout",
     "output_type": "stream",
     "text": [
      "ERROR:   Howard Jones What Is Love\n",
      "ERROR:   Howard Jones You Know I Love You ... Don't You?\n",
      "ERROR:   Howard Tate Ain't Nobody Home\n",
      "ERROR:   Howard Tate Look At Granny Run, Run\n"
     ]
    },
    {
     "name": "stderr",
     "output_type": "stream",
     "text": [
      "HTTP Error for GET to https://api.spotify.com/v1/search with Params: {'q': \"artist:Howard Tate track:My Soul's Got A Hole In It\", 'limit': 10, 'offset': 0, 'type': 'track', 'market': None} returned 401 due to The access token expired\n",
      "HTTP Error for GET to https://api.spotify.com/v1/search with Params: {'q': 'artist:Howard Tate track:Stop', 'limit': 10, 'offset': 0, 'type': 'track', 'market': None} returned 401 due to The access token expired\n",
      "HTTP Error for GET to https://api.spotify.com/v1/search with Params: {'q': 'artist:Howie Day track:Collide', 'limit': 10, 'offset': 0, 'type': 'track', 'market': None} returned 401 due to The access token expired\n",
      "HTTP Error for GET to https://api.spotify.com/v1/search with Params: {'q': 'artist:Hoyt Axton track:When The Morning Comes', 'limit': 10, 'offset': 0, 'type': 'track', 'market': None} returned 401 due to The access token expired\n",
      "HTTP Error for GET to https://api.spotify.com/v1/search with Params: {'q': 'artist:Hozier track:Take Me To Church', 'limit': 10, 'offset': 0, 'type': 'track', 'market': None} returned 401 due to The access token expired\n"
     ]
    },
    {
     "name": "stdout",
     "output_type": "stream",
     "text": [
      "ERROR:   Howard Tate My Soul's Got A Hole In It\n",
      "ERROR:   Howard Tate Stop\n",
      "ERROR:   Howie Day Collide\n",
      "11110  ERROR:   Hoyt Axton When The Morning Comes\n"
     ]
    },
    {
     "name": "stderr",
     "output_type": "stream",
     "text": [
      "HTTP Error for GET to https://api.spotify.com/v1/search with Params: {'q': 'artist:Hudson and Landry track:Ajax Airlines', 'limit': 10, 'offset': 0, 'type': 'track', 'market': None} returned 401 due to The access token expired\n",
      "HTTP Error for GET to https://api.spotify.com/v1/search with Params: {'q': 'artist:Hudson and Landry track:Ajax Liquor Store', 'limit': 10, 'offset': 0, 'type': 'track', 'market': None} returned 401 due to The access token expired\n",
      "HTTP Error for GET to https://api.spotify.com/v1/search with Params: {'q': 'artist:Huelyn Duvall track:Little Boy Blue', 'limit': 10, 'offset': 0, 'type': 'track', 'market': None} returned 401 due to The access token expired\n"
     ]
    },
    {
     "name": "stdout",
     "output_type": "stream",
     "text": [
      "ERROR:   Hozier Take Me To Church\n",
      "ERROR:   Hudson and Landry Ajax Airlines\n",
      "ERROR:   Hudson and Landry Ajax Liquor Store\n",
      "ERROR:   Huelyn Duvall Little Boy Blue\n"
     ]
    },
    {
     "name": "stderr",
     "output_type": "stream",
     "text": [
      "HTTP Error for GET to https://api.spotify.com/v1/search with Params: {'q': 'artist:Huey track:Pop, Lock & Drop It', 'limit': 10, 'offset': 0, 'type': 'track', 'market': None} returned 401 due to The access token expired\n",
      "HTTP Error for GET to https://api.spotify.com/v1/search with Params: {'q': 'artist:Huey \"piano\" Smith With His Clowns track:Don\\'t You Know Yockomo', 'limit': 10, 'offset': 0, 'type': 'track', 'market': None} returned 401 due to The access token expired\n",
      "HTTP Error for GET to https://api.spotify.com/v1/search with Params: {'q': \"artist:Huey Lewis & The News track:(She's) Some Kind Of Wonderful\", 'limit': 10, 'offset': 0, 'type': 'track', 'market': None} returned 401 due to The access token expired\n",
      "HTTP Error for GET to https://api.spotify.com/v1/search with Params: {'q': \"artist:Huey Lewis & The News track:But It's Alright\", 'limit': 10, 'offset': 0, 'type': 'track', 'market': None} returned 401 due to The access token expired\n"
     ]
    },
    {
     "name": "stdout",
     "output_type": "stream",
     "text": [
      "ERROR:   Huey Pop, Lock & Drop It\n",
      "ERROR:   Huey \"piano\" Smith With His Clowns Don't You Know Yockomo\n",
      "ERROR:   Huey Lewis & The News (She's) Some Kind Of Wonderful\n",
      "ERROR:   Huey Lewis & The News But It's Alright\n"
     ]
    },
    {
     "name": "stderr",
     "output_type": "stream",
     "text": [
      "HTTP Error for GET to https://api.spotify.com/v1/search with Params: {'q': 'artist:Huey Lewis & The News track:Couple Days Off', 'limit': 10, 'offset': 0, 'type': 'track', 'market': None} returned 401 due to The access token expired\n",
      "HTTP Error for GET to https://api.spotify.com/v1/search with Params: {'q': 'artist:Huey Lewis & The News track:Do You Believe In Love', 'limit': 10, 'offset': 0, 'type': 'track', 'market': None} returned 401 due to The access token expired\n",
      "HTTP Error for GET to https://api.spotify.com/v1/search with Params: {'q': 'artist:Huey Lewis & The News track:Doing It All For My Baby', 'limit': 10, 'offset': 0, 'type': 'track', 'market': None} returned 401 due to The access token expired\n",
      "HTTP Error for GET to https://api.spotify.com/v1/search with Params: {'q': \"artist:Huey Lewis & The News track:Give Me The Keys (And I'll Drive You Crazy)\", 'limit': 10, 'offset': 0, 'type': 'track', 'market': None} returned 401 due to The access token expired\n"
     ]
    },
    {
     "name": "stdout",
     "output_type": "stream",
     "text": [
      "ERROR:   Huey Lewis & The News Couple Days Off\n",
      "11120  ERROR:   Huey Lewis & The News Do You Believe In Love\n",
      "ERROR:   Huey Lewis & The News Doing It All For My Baby\n",
      "ERROR:   Huey Lewis & The News Give Me The Keys (And I'll Drive You Crazy)\n"
     ]
    },
    {
     "name": "stderr",
     "output_type": "stream",
     "text": [
      "HTTP Error for GET to https://api.spotify.com/v1/search with Params: {'q': 'artist:Huey Lewis & The News track:Heart And Soul', 'limit': 10, 'offset': 0, 'type': 'track', 'market': None} returned 401 due to The access token expired\n",
      "HTTP Error for GET to https://api.spotify.com/v1/search with Params: {'q': 'artist:Huey Lewis & The News track:Hip To Be Square', 'limit': 10, 'offset': 0, 'type': 'track', 'market': None} returned 401 due to The access token expired\n",
      "HTTP Error for GET to https://api.spotify.com/v1/search with Params: {'q': 'artist:Huey Lewis & The News track:Hope You Love Me Like You Say You Do', 'limit': 10, 'offset': 0, 'type': 'track', 'market': None} returned 401 due to The access token expired\n",
      "HTTP Error for GET to https://api.spotify.com/v1/search with Params: {'q': 'artist:Huey Lewis & The News track:I Know What I Like', 'limit': 10, 'offset': 0, 'type': 'track', 'market': None} returned 401 due to The access token expired\n",
      "HTTP Error for GET to https://api.spotify.com/v1/search with Params: {'q': 'artist:Huey Lewis & The News track:I Want A New Drug', 'limit': 10, 'offset': 0, 'type': 'track', 'market': None} returned 401 due to The access token expired\n"
     ]
    },
    {
     "name": "stdout",
     "output_type": "stream",
     "text": [
      "ERROR:   Huey Lewis & The News Heart And Soul\n",
      "ERROR:   Huey Lewis & The News Hip To Be Square\n",
      "ERROR:   Huey Lewis & The News Hope You Love Me Like You Say You Do\n",
      "ERROR:   Huey Lewis & The News I Know What I Like\n"
     ]
    },
    {
     "name": "stderr",
     "output_type": "stream",
     "text": [
      "HTTP Error for GET to https://api.spotify.com/v1/search with Params: {'q': 'artist:Huey Lewis & The News track:If This Is It', 'limit': 10, 'offset': 0, 'type': 'track', 'market': None} returned 401 due to The access token expired\n",
      "HTTP Error for GET to https://api.spotify.com/v1/search with Params: {'q': 'artist:Huey Lewis & The News track:It Hit Me Like A Hammer', 'limit': 10, 'offset': 0, 'type': 'track', 'market': None} returned 401 due to The access token expired\n",
      "HTTP Error for GET to https://api.spotify.com/v1/search with Params: {'q': \"artist:Huey Lewis & The News track:Jacob's Ladder\", 'limit': 10, 'offset': 0, 'type': 'track', 'market': None} returned 401 due to The access token expired\n"
     ]
    },
    {
     "name": "stdout",
     "output_type": "stream",
     "text": [
      "ERROR:   Huey Lewis & The News I Want A New Drug\n",
      "ERROR:   Huey Lewis & The News If This Is It\n",
      "ERROR:   Huey Lewis & The News It Hit Me Like A Hammer\n",
      "11130  ERROR:   Huey Lewis & The News Jacob's Ladder\n"
     ]
    },
    {
     "name": "stderr",
     "output_type": "stream",
     "text": [
      "HTTP Error for GET to https://api.spotify.com/v1/search with Params: {'q': 'artist:Huey Lewis & The News track:Perfect World', 'limit': 10, 'offset': 0, 'type': 'track', 'market': None} returned 401 due to The access token expired\n",
      "HTTP Error for GET to https://api.spotify.com/v1/search with Params: {'q': 'artist:Huey Lewis & The News track:Small World', 'limit': 10, 'offset': 0, 'type': 'track', 'market': None} returned 401 due to The access token expired\n",
      "HTTP Error for GET to https://api.spotify.com/v1/search with Params: {'q': 'artist:Huey Lewis & The News track:Stuck With You', 'limit': 10, 'offset': 0, 'type': 'track', 'market': None} returned 401 due to The access token expired\n",
      "HTTP Error for GET to https://api.spotify.com/v1/search with Params: {'q': 'artist:Huey Lewis & The News track:The Heart Of Rock & Roll', 'limit': 10, 'offset': 0, 'type': 'track', 'market': None} returned 401 due to The access token expired\n"
     ]
    },
    {
     "name": "stdout",
     "output_type": "stream",
     "text": [
      "ERROR:   Huey Lewis & The News Perfect World\n",
      "ERROR:   Huey Lewis & The News Small World\n",
      "ERROR:   Huey Lewis & The News Stuck With You\n",
      "ERROR:   Huey Lewis & The News The Heart Of Rock & Roll\n"
     ]
    },
    {
     "name": "stderr",
     "output_type": "stream",
     "text": [
      "HTTP Error for GET to https://api.spotify.com/v1/search with Params: {'q': 'artist:Huey Lewis & The News track:The Power Of Love', 'limit': 10, 'offset': 0, 'type': 'track', 'market': None} returned 401 due to The access token expired\n",
      "HTTP Error for GET to https://api.spotify.com/v1/search with Params: {'q': 'artist:Huey Lewis & The News track:Walking On A Thin Line', 'limit': 10, 'offset': 0, 'type': 'track', 'market': None} returned 401 due to The access token expired\n",
      "HTTP Error for GET to https://api.spotify.com/v1/search with Params: {'q': \"artist:Huey Lewis & The News track:Workin' For A Livin'\", 'limit': 10, 'offset': 0, 'type': 'track', 'market': None} returned 401 due to The access token expired\n",
      "HTTP Error for GET to https://api.spotify.com/v1/search with Params: {'q': 'artist:Huey Smith track:Pop-Eye', 'limit': 10, 'offset': 0, 'type': 'track', 'market': None} returned 401 due to The access token expired\n",
      "HTTP Error for GET to https://api.spotify.com/v1/search with Params: {'q': 'artist:Hugh Jackman, Keala Settle, Zac Efron, Zendaya & The Greatest Showman Ensemble track:The Greatest Show', 'limit': 10, 'offset': 0, 'type': 'track', 'market': None} returned 401 due to The access token expired\n"
     ]
    },
    {
     "name": "stdout",
     "output_type": "stream",
     "text": [
      "ERROR:   Huey Lewis & The News The Power Of Love\n",
      "ERROR:   Huey Lewis & The News Walking On A Thin Line\n",
      "ERROR:   Huey Lewis & The News Workin' For A Livin'\n",
      "ERROR:   Huey Smith Pop-Eye\n"
     ]
    },
    {
     "name": "stderr",
     "output_type": "stream",
     "text": [
      "HTTP Error for GET to https://api.spotify.com/v1/search with Params: {'q': 'artist:Hugh Laurie track:Police Dog Blues', 'limit': 10, 'offset': 0, 'type': 'track', 'market': None} returned 401 due to The access token expired\n",
      "HTTP Error for GET to https://api.spotify.com/v1/search with Params: {'q': 'artist:Hugh Masekela track:Grazing In The Grass', 'limit': 10, 'offset': 0, 'type': 'track', 'market': None} returned 401 due to The access token expired\n",
      "HTTP Error for GET to https://api.spotify.com/v1/search with Params: {'q': \"artist:Hugh Masekela track:Puffin' On Down The Track\", 'limit': 10, 'offset': 0, 'type': 'track', 'market': None} returned 401 due to The access token expired\n",
      "HTTP Error for GET to https://api.spotify.com/v1/search with Params: {'q': 'artist:Hugh Masekela track:Riot', 'limit': 10, 'offset': 0, 'type': 'track', 'market': None} returned 401 due to The access token expired\n"
     ]
    },
    {
     "name": "stdout",
     "output_type": "stream",
     "text": [
      "ERROR:   Hugh Jackman, Keala Settle, Zac Efron, Zendaya & The Greatest Showman Ensemble The Greatest Show\n",
      "11140  ERROR:   Hugh Laurie Police Dog Blues\n",
      "ERROR:   Hugh Masekela Grazing In The Grass\n",
      "ERROR:   Hugh Masekela Puffin' On Down The Track\n"
     ]
    },
    {
     "name": "stderr",
     "output_type": "stream",
     "text": [
      "HTTP Error for GET to https://api.spotify.com/v1/search with Params: {'q': 'artist:Hugh Masekela track:Up-Up And Away', 'limit': 10, 'offset': 0, 'type': 'track', 'market': None} returned 401 due to The access token expired\n",
      "HTTP Error for GET to https://api.spotify.com/v1/search with Params: {'q': 'artist:Hughes/Thrall track:Beg, Borrow Or Steal', 'limit': 10, 'offset': 0, 'type': 'track', 'market': None} returned 401 due to The access token expired\n",
      "HTTP Error for GET to https://api.spotify.com/v1/search with Params: {'q': 'artist:Hugo & Luigi track:Just Come Home', 'limit': 10, 'offset': 0, 'type': 'track', 'market': None} returned 401 due to The access token expired\n"
     ]
    },
    {
     "name": "stdout",
     "output_type": "stream",
     "text": [
      "ERROR:   Hugh Masekela Riot\n",
      "ERROR:   Hugh Masekela Up-Up And Away\n",
      "ERROR:   Hughes/Thrall Beg, Borrow Or Steal\n",
      "ERROR:   Hugo & Luigi Just Come Home\n"
     ]
    },
    {
     "name": "stderr",
     "output_type": "stream",
     "text": [
      "HTTP Error for GET to https://api.spotify.com/v1/search with Params: {'q': 'artist:Hugo & Luigi track:La Plume De Ma Tante', 'limit': 10, 'offset': 0, 'type': 'track', 'market': None} returned 401 due to The access token expired\n",
      "HTTP Error for GET to https://api.spotify.com/v1/search with Params: {'q': \"artist:Hugo Montenegro, His Orchestra And Chorus track:Hang 'Em High\", 'limit': 10, 'offset': 0, 'type': 'track', 'market': None} returned 401 due to The access token expired\n",
      "HTTP Error for GET to https://api.spotify.com/v1/search with Params: {'q': 'artist:Hugo Montenegro, His Orchestra And Chorus track:The Good, The Bad And The Ugly', 'limit': 10, 'offset': 0, 'type': 'track', 'market': None} returned 401 due to The access token expired\n",
      "HTTP Error for GET to https://api.spotify.com/v1/search with Params: {'q': 'artist:Humble Pie track:Fool For A Pretty Face (Hurt By Love)', 'limit': 10, 'offset': 0, 'type': 'track', 'market': None} returned 401 due to The access token expired\n",
      "HTTP Error for GET to https://api.spotify.com/v1/search with Params: {'q': \"artist:Humble Pie track:Hot 'N' Nasty\", 'limit': 10, 'offset': 0, 'type': 'track', 'market': None} returned 401 due to The access token expired\n"
     ]
    },
    {
     "name": "stdout",
     "output_type": "stream",
     "text": [
      "ERROR:   Hugo & Luigi La Plume De Ma Tante\n",
      "ERROR:   Hugo Montenegro, His Orchestra And Chorus Hang 'Em High\n",
      "ERROR:   Hugo Montenegro, His Orchestra And Chorus The Good, The Bad And The Ugly\n",
      "11150  ERROR:   Humble Pie Fool For A Pretty Face (Hurt By Love)\n"
     ]
    },
    {
     "name": "stderr",
     "output_type": "stream",
     "text": [
      "HTTP Error for GET to https://api.spotify.com/v1/search with Params: {'q': \"artist:Humble Pie track:I Don't Need No Doctor\", 'limit': 10, 'offset': 0, 'type': 'track', 'market': None} returned 401 due to The access token expired\n",
      "HTTP Error for GET to https://api.spotify.com/v1/search with Params: {'q': 'artist:Huncho Jack track:Black & Chinese', 'limit': 10, 'offset': 0, 'type': 'track', 'market': None} returned 401 due to The access token expired\n",
      "HTTP Error for GET to https://api.spotify.com/v1/search with Params: {'q': 'artist:Huncho Jack track:Huncho Jack', 'limit': 10, 'offset': 0, 'type': 'track', 'market': None} returned 401 due to The access token expired\n"
     ]
    },
    {
     "name": "stdout",
     "output_type": "stream",
     "text": [
      "ERROR:   Humble Pie Hot 'N' Nasty\n",
      "ERROR:   Humble Pie I Don't Need No Doctor\n",
      "ERROR:   Huncho Jack Black & Chinese\n",
      "ERROR:   Huncho Jack Huncho Jack\n"
     ]
    },
    {
     "name": "stderr",
     "output_type": "stream",
     "text": [
      "HTTP Error for GET to https://api.spotify.com/v1/search with Params: {'q': 'artist:Huncho Jack track:Modern Slavery', 'limit': 10, 'offset': 0, 'type': 'track', 'market': None} returned 401 due to The access token expired\n",
      "HTTP Error for GET to https://api.spotify.com/v1/search with Params: {'q': 'artist:Huncho Jack track:Motorcycle Patches', 'limit': 10, 'offset': 0, 'type': 'track', 'market': None} returned 401 due to The access token expired\n",
      "HTTP Error for GET to https://api.spotify.com/v1/search with Params: {'q': 'artist:Huncho Jack track:Saint', 'limit': 10, 'offset': 0, 'type': 'track', 'market': None} returned 401 due to The access token expired\n",
      "HTTP Error for GET to https://api.spotify.com/v1/search with Params: {'q': 'artist:Huncho Jack Featuring Offset track:Dubai Shit', 'limit': 10, 'offset': 0, 'type': 'track', 'market': None} returned 401 due to The access token expired\n"
     ]
    },
    {
     "name": "stdout",
     "output_type": "stream",
     "text": [
      "ERROR:   Huncho Jack Modern Slavery\n",
      "ERROR:   Huncho Jack Motorcycle Patches\n",
      "ERROR:   Huncho Jack Saint\n",
      "ERROR:   Huncho Jack Featuring Offset Dubai Shit\n"
     ]
    },
    {
     "name": "stderr",
     "output_type": "stream",
     "text": [
      "HTTP Error for GET to https://api.spotify.com/v1/search with Params: {'q': 'artist:Huncho Jack Featuring Takeoff track:Eye 2 Eye', 'limit': 10, 'offset': 0, 'type': 'track', 'market': None} returned 401 due to The access token expired\n",
      "HTTP Error for GET to https://api.spotify.com/v1/search with Params: {'q': 'artist:Hunter Hayes track:I Want Crazy', 'limit': 10, 'offset': 0, 'type': 'track', 'market': None} returned 401 due to The access token expired\n",
      "HTTP Error for GET to https://api.spotify.com/v1/search with Params: {'q': 'artist:Hunter Hayes track:Invisible', 'limit': 10, 'offset': 0, 'type': 'track', 'market': None} returned 401 due to The access token expired\n",
      "HTTP Error for GET to https://api.spotify.com/v1/search with Params: {'q': \"artist:Hunter Hayes track:Somebody's Heartbreak\", 'limit': 10, 'offset': 0, 'type': 'track', 'market': None} returned 401 due to The access token expired\n"
     ]
    },
    {
     "name": "stdout",
     "output_type": "stream",
     "text": [
      "ERROR:   Huncho Jack Featuring Takeoff Eye 2 Eye\n",
      "11160  ERROR:   Hunter Hayes I Want Crazy\n",
      "ERROR:   Hunter Hayes Invisible\n",
      "ERROR:   Hunter Hayes Somebody's Heartbreak\n"
     ]
    },
    {
     "name": "stderr",
     "output_type": "stream",
     "text": [
      "HTTP Error for GET to https://api.spotify.com/v1/search with Params: {'q': 'artist:Hunter Hayes track:Storm Warning', 'limit': 10, 'offset': 0, 'type': 'track', 'market': None} returned 401 due to The access token expired\n",
      "HTTP Error for GET to https://api.spotify.com/v1/search with Params: {'q': 'artist:Hunter Hayes track:Wanted', 'limit': 10, 'offset': 0, 'type': 'track', 'market': None} returned 401 due to The access token expired\n",
      "HTTP Error for GET to https://api.spotify.com/v1/search with Params: {'q': \"artist:Hunter Hayes Featuring Jason Mraz track:Everybody's Got Somebody But Me\", 'limit': 10, 'offset': 0, 'type': 'track', 'market': None} returned 401 due to The access token expired\n",
      "HTTP Error for GET to https://api.spotify.com/v1/search with Params: {'q': 'artist:Hurricane Chris track:A Bay Bay', 'limit': 10, 'offset': 0, 'type': 'track', 'market': None} returned 401 due to The access token expired\n",
      "HTTP Error for GET to https://api.spotify.com/v1/search with Params: {'q': 'artist:Hurricane Chris Featuring Big Poppa track:The Hand Clap', 'limit': 10, 'offset': 0, 'type': 'track', 'market': None} returned 401 due to The access token expired\n"
     ]
    },
    {
     "name": "stdout",
     "output_type": "stream",
     "text": [
      "ERROR:   Hunter Hayes Storm Warning\n",
      "ERROR:   Hunter Hayes Wanted\n",
      "ERROR:   Hunter Hayes Featuring Jason Mraz Everybody's Got Somebody But Me\n",
      "ERROR:   Hurricane Chris A Bay Bay\n"
     ]
    },
    {
     "name": "stderr",
     "output_type": "stream",
     "text": [
      "HTTP Error for GET to https://api.spotify.com/v1/search with Params: {'q': \"artist:Hurricane Chris Featuring SupaSTAAR track:Halle Berry (She's Fine)\", 'limit': 10, 'offset': 0, 'type': 'track', 'market': None} returned 401 due to The access token expired\n",
      "HTTP Error for GET to https://api.spotify.com/v1/search with Params: {'q': 'artist:Hurricane Smith track:Oh, Babe, What Would You Say?', 'limit': 10, 'offset': 0, 'type': 'track', 'market': None} returned 401 due to The access token expired\n",
      "HTTP Error for GET to https://api.spotify.com/v1/search with Params: {'q': 'artist:Hurricane Smith track:Who Was It?', 'limit': 10, 'offset': 0, 'type': 'track', 'market': None} returned 401 due to The access token expired\n"
     ]
    },
    {
     "name": "stdout",
     "output_type": "stream",
     "text": [
      "ERROR:   Hurricane Chris Featuring Big Poppa The Hand Clap\n",
      "ERROR:   Hurricane Chris Featuring SupaSTAAR Halle Berry (She's Fine)\n",
      "ERROR:   Hurricane Smith Oh, Babe, What Would You Say?\n",
      "11170  ERROR:   Hurricane Smith Who Was It?\n"
     ]
    },
    {
     "name": "stderr",
     "output_type": "stream",
     "text": [
      "HTTP Error for GET to https://api.spotify.com/v1/search with Params: {'q': 'artist:Hustle Gang Featuring T.I., B.o.B, Kendrick Lamar & Kris Stephens track:Memories Back Then', 'limit': 10, 'offset': 0, 'type': 'track', 'market': None} returned 401 due to The access token expired\n",
      "HTTP Error for GET to https://api.spotify.com/v1/search with Params: {'q': 'artist:I LOVE MAKONNEN Featuring Drake track:Tuesday', 'limit': 10, 'offset': 0, 'type': 'track', 'market': None} returned 401 due to The access token expired\n",
      "HTTP Error for GET to https://api.spotify.com/v1/search with Params: {'q': 'artist:I Prevail track:Blank Space', 'limit': 10, 'offset': 0, 'type': 'track', 'market': None} returned 401 due to The access token expired\n",
      "HTTP Error for GET to https://api.spotify.com/v1/search with Params: {'q': 'artist:I To I track:The Right Time (From \"Four Weddings And A Funeral\")', 'limit': 10, 'offset': 0, 'type': 'track', 'market': None} returned 401 due to The access token expired\n",
      "HTTP Error for GET to https://api.spotify.com/v1/search with Params: {'q': 'artist:I.A.P. Co. (the Italian Asphalt & Pavement Company) track:Check Yourself', 'limit': 10, 'offset': 0, 'type': 'track', 'market': None} returned 401 due to The access token expired\n"
     ]
    },
    {
     "name": "stdout",
     "output_type": "stream",
     "text": [
      "ERROR:   Hustle Gang Featuring T.I., B.o.B, Kendrick Lamar & Kris Stephens Memories Back Then\n",
      "ERROR:   I LOVE MAKONNEN Featuring Drake Tuesday\n",
      "ERROR:   I Prevail Blank Space\n",
      "ERROR:   I To I The Right Time (From \"Four Weddings And A Funeral\")\n"
     ]
    },
    {
     "name": "stderr",
     "output_type": "stream",
     "text": [
      "HTTP Error for GET to https://api.spotify.com/v1/search with Params: {'q': 'artist:II D Extreme track:Cry No More', 'limit': 10, 'offset': 0, 'type': 'track', 'market': None} returned 401 due to The access token expired\n",
      "HTTP Error for GET to https://api.spotify.com/v1/search with Params: {'q': 'artist:IMx track:Stay The Night', 'limit': 10, 'offset': 0, 'type': 'track', 'market': None} returned 401 due to The access token expired\n",
      "HTTP Error for GET to https://api.spotify.com/v1/search with Params: {'q': 'artist:INOJ/LATHUN track:Love You Down', 'limit': 10, 'offset': 0, 'type': 'track', 'market': None} returned 401 due to The access token expired\n"
     ]
    },
    {
     "name": "stdout",
     "output_type": "stream",
     "text": [
      "ERROR:   I.A.P. Co. (the Italian Asphalt & Pavement Company) Check Yourself\n",
      "ERROR:   II D Extreme Cry No More\n",
      "ERROR:   IMx Stay The Night\n",
      "ERROR:   INOJ/LATHUN Love You Down\n"
     ]
    },
    {
     "name": "stderr",
     "output_type": "stream",
     "text": [
      "HTTP Error for GET to https://api.spotify.com/v1/search with Params: {'q': 'artist:INXS track:Beautiful Girl', 'limit': 10, 'offset': 0, 'type': 'track', 'market': None} returned 401 due to The access token expired\n",
      "HTTP Error for GET to https://api.spotify.com/v1/search with Params: {'q': 'artist:INXS track:Bitter Tears', 'limit': 10, 'offset': 0, 'type': 'track', 'market': None} returned 401 due to The access token expired\n",
      "HTTP Error for GET to https://api.spotify.com/v1/search with Params: {'q': 'artist:INXS track:Devil Inside', 'limit': 10, 'offset': 0, 'type': 'track', 'market': None} returned 401 due to The access token expired\n",
      "HTTP Error for GET to https://api.spotify.com/v1/search with Params: {'q': 'artist:INXS track:Disappear', 'limit': 10, 'offset': 0, 'type': 'track', 'market': None} returned 401 due to The access token expired\n"
     ]
    },
    {
     "name": "stdout",
     "output_type": "stream",
     "text": [
      "ERROR:   INXS Beautiful Girl\n",
      "11180  ERROR:   INXS Bitter Tears\n",
      "ERROR:   INXS Devil Inside\n",
      "ERROR:   INXS Disappear\n"
     ]
    },
    {
     "name": "stderr",
     "output_type": "stream",
     "text": [
      "HTTP Error for GET to https://api.spotify.com/v1/search with Params: {'q': \"artist:INXS track:Don't Change\", 'limit': 10, 'offset': 0, 'type': 'track', 'market': None} returned 401 due to The access token expired\n",
      "HTTP Error for GET to https://api.spotify.com/v1/search with Params: {'q': 'artist:INXS track:I Send A Message', 'limit': 10, 'offset': 0, 'type': 'track', 'market': None} returned 401 due to The access token expired\n",
      "HTTP Error for GET to https://api.spotify.com/v1/search with Params: {'q': 'artist:INXS track:Listen Like Thieves', 'limit': 10, 'offset': 0, 'type': 'track', 'market': None} returned 401 due to The access token expired\n",
      "HTTP Error for GET to https://api.spotify.com/v1/search with Params: {'q': 'artist:INXS track:Need You Tonight', 'limit': 10, 'offset': 0, 'type': 'track', 'market': None} returned 401 due to The access token expired\n"
     ]
    },
    {
     "name": "stdout",
     "output_type": "stream",
     "text": [
      "ERROR:   INXS Don't Change\n",
      "ERROR:   INXS I Send A Message\n",
      "ERROR:   INXS Listen Like Thieves\n",
      "ERROR:   INXS Need You Tonight\n"
     ]
    },
    {
     "name": "stderr",
     "output_type": "stream",
     "text": [
      "HTTP Error for GET to https://api.spotify.com/v1/search with Params: {'q': 'artist:INXS track:Never Tear Us Apart', 'limit': 10, 'offset': 0, 'type': 'track', 'market': None} returned 401 due to The access token expired\n",
      "HTTP Error for GET to https://api.spotify.com/v1/search with Params: {'q': 'artist:INXS track:New Sensation', 'limit': 10, 'offset': 0, 'type': 'track', 'market': None} returned 401 due to The access token expired\n",
      "HTTP Error for GET to https://api.spotify.com/v1/search with Params: {'q': 'artist:INXS track:Not Enough Time', 'limit': 10, 'offset': 0, 'type': 'track', 'market': None} returned 401 due to The access token expired\n",
      "HTTP Error for GET to https://api.spotify.com/v1/search with Params: {'q': 'artist:INXS track:Original Sin', 'limit': 10, 'offset': 0, 'type': 'track', 'market': None} returned 401 due to The access token expired\n",
      "HTTP Error for GET to https://api.spotify.com/v1/search with Params: {'q': 'artist:INXS track:Pretty Vegas', 'limit': 10, 'offset': 0, 'type': 'track', 'market': None} returned 401 due to The access token expired\n"
     ]
    },
    {
     "name": "stdout",
     "output_type": "stream",
     "text": [
      "ERROR:   INXS Never Tear Us Apart\n",
      "ERROR:   INXS New Sensation\n",
      "ERROR:   INXS Not Enough Time\n",
      "11190  ERROR:   INXS Original Sin\n"
     ]
    },
    {
     "name": "stderr",
     "output_type": "stream",
     "text": [
      "HTTP Error for GET to https://api.spotify.com/v1/search with Params: {'q': 'artist:INXS track:Suicide Blonde', 'limit': 10, 'offset': 0, 'type': 'track', 'market': None} returned 401 due to The access token expired\n",
      "HTTP Error for GET to https://api.spotify.com/v1/search with Params: {'q': 'artist:INXS track:The One Thing', 'limit': 10, 'offset': 0, 'type': 'track', 'market': None} returned 401 due to The access token expired\n",
      "HTTP Error for GET to https://api.spotify.com/v1/search with Params: {'q': 'artist:INXS track:This Time', 'limit': 10, 'offset': 0, 'type': 'track', 'market': None} returned 401 due to The access token expired\n"
     ]
    },
    {
     "name": "stdout",
     "output_type": "stream",
     "text": [
      "ERROR:   INXS Pretty Vegas\n",
      "ERROR:   INXS Suicide Blonde\n",
      "ERROR:   INXS The One Thing\n",
      "ERROR:   INXS This Time\n"
     ]
    },
    {
     "name": "stderr",
     "output_type": "stream",
     "text": [
      "HTTP Error for GET to https://api.spotify.com/v1/search with Params: {'q': 'artist:INXS track:What You Need', 'limit': 10, 'offset': 0, 'type': 'track', 'market': None} returned 401 due to The access token expired\n",
      "HTTP Error for GET to https://api.spotify.com/v1/search with Params: {'q': 'artist:INXS & Jimmy Barnes track:Good Times (From \"The Lost Boys\")', 'limit': 10, 'offset': 0, 'type': 'track', 'market': None} returned 401 due to The access token expired\n",
      "HTTP Error for GET to https://api.spotify.com/v1/search with Params: {'q': \"artist:IV Xample track:I'd Rather Be Alone\", 'limit': 10, 'offset': 0, 'type': 'track', 'market': None} returned 401 due to The access token expired\n",
      "HTTP Error for GET to https://api.spotify.com/v1/search with Params: {'q': 'artist:Ian Gomm track:Hold On', 'limit': 10, 'offset': 0, 'type': 'track', 'market': None} returned 401 due to The access token expired\n"
     ]
    },
    {
     "name": "stdout",
     "output_type": "stream",
     "text": [
      "ERROR:   INXS What You Need\n",
      "ERROR:   INXS & Jimmy Barnes Good Times (From \"The Lost Boys\")\n",
      "ERROR:   IV Xample I'd Rather Be Alone\n",
      "ERROR:   Ian Gomm Hold On\n"
     ]
    },
    {
     "name": "stderr",
     "output_type": "stream",
     "text": [
      "HTTP Error for GET to https://api.spotify.com/v1/search with Params: {'q': 'artist:Ian Hunter track:Just Another Night', 'limit': 10, 'offset': 0, 'type': 'track', 'market': None} returned 401 due to The access token expired\n",
      "HTTP Error for GET to https://api.spotify.com/v1/search with Params: {'q': 'artist:Ian Lloyd track:Slip Away', 'limit': 10, 'offset': 0, 'type': 'track', 'market': None} returned 401 due to The access token expired\n",
      "HTTP Error for GET to https://api.spotify.com/v1/search with Params: {'q': 'artist:Ian Lloyd & Stories track:If It Feels Good, Do It', 'limit': 10, 'offset': 0, 'type': 'track', 'market': None} returned 401 due to The access token expired\n",
      "HTTP Error for GET to https://api.spotify.com/v1/search with Params: {'q': 'artist:Ian Matthews track:Da Doo Ron Ron (When He Walked Me Home)', 'limit': 10, 'offset': 0, 'type': 'track', 'market': None} returned 401 due to The access token expired\n",
      "HTTP Error for GET to https://api.spotify.com/v1/search with Params: {'q': 'artist:Ian Matthews track:Give Me An Inch', 'limit': 10, 'offset': 0, 'type': 'track', 'market': None} returned 401 due to The access token expired\n"
     ]
    },
    {
     "name": "stdout",
     "output_type": "stream",
     "text": [
      "ERROR:   Ian Hunter Just Another Night\n",
      "11200  \n",
      "ERROR:   Ian Lloyd Slip Away\n",
      "ERROR:   Ian Lloyd & Stories If It Feels Good, Do It\n",
      "ERROR:   Ian Matthews Da Doo Ron Ron (When He Walked Me Home)\n"
     ]
    },
    {
     "name": "stderr",
     "output_type": "stream",
     "text": [
      "HTTP Error for GET to https://api.spotify.com/v1/search with Params: {'q': 'artist:Ian Matthews track:Shake It', 'limit': 10, 'offset': 0, 'type': 'track', 'market': None} returned 401 due to The access token expired\n",
      "HTTP Error for GET to https://api.spotify.com/v1/search with Params: {'q': 'artist:Ian Thomas track:Painted Ladies', 'limit': 10, 'offset': 0, 'type': 'track', 'market': None} returned 401 due to The access token expired\n",
      "HTTP Error for GET to https://api.spotify.com/v1/search with Params: {'q': 'artist:Ian Van Dahl Featuring Marsha track:Castles In The Sky', 'limit': 10, 'offset': 0, 'type': 'track', 'market': None} returned 401 due to The access token expired\n"
     ]
    },
    {
     "name": "stdout",
     "output_type": "stream",
     "text": [
      "ERROR:   Ian Matthews Give Me An Inch\n",
      "ERROR:   Ian Matthews Shake It\n",
      "ERROR:   Ian Thomas Painted Ladies\n",
      "ERROR:   Ian Van Dahl Featuring Marsha Castles In The Sky\n"
     ]
    },
    {
     "name": "stderr",
     "output_type": "stream",
     "text": [
      "HTTP Error for GET to https://api.spotify.com/v1/search with Params: {'q': 'artist:Ian Whitcomb track:N-E-R-V-O-U-S!', 'limit': 10, 'offset': 0, 'type': 'track', 'market': None} returned 401 due to The access token expired\n",
      "HTTP Error for GET to https://api.spotify.com/v1/search with Params: {'q': 'artist:Ian Whitcomb And Bluesville track:This Sporting Life', 'limit': 10, 'offset': 0, 'type': 'track', 'market': None} returned 401 due to The access token expired\n",
      "HTTP Error for GET to https://api.spotify.com/v1/search with Params: {'q': 'artist:Ian Whitcomb And Bluesville track:You Turn Me On (Turn On Song)', 'limit': 10, 'offset': 0, 'type': 'track', 'market': None} returned 401 due to The access token expired\n",
      "HTTP Error for GET to https://api.spotify.com/v1/search with Params: {'q': 'artist:Ice Cube track:It Was A Good Day', 'limit': 10, 'offset': 0, 'type': 'track', 'market': None} returned 401 due to The access token expired\n"
     ]
    },
    {
     "name": "stdout",
     "output_type": "stream",
     "text": [
      "ERROR:   Ian Whitcomb N-E-R-V-O-U-S!\n",
      "ERROR:   Ian Whitcomb And Bluesville This Sporting Life\n",
      "ERROR:   Ian Whitcomb And Bluesville You Turn Me On (Turn On Song)\n",
      "11210  ERROR:   Ice Cube It Was A Good Day\n"
     ]
    },
    {
     "name": "stderr",
     "output_type": "stream",
     "text": [
      "HTTP Error for GET to https://api.spotify.com/v1/search with Params: {'q': 'artist:Ice Cube track:Really Doe', 'limit': 10, 'offset': 0, 'type': 'track', 'market': None} returned 401 due to The access token expired\n",
      "HTTP Error for GET to https://api.spotify.com/v1/search with Params: {'q': 'artist:Ice Cube track:Why We Thugs', 'limit': 10, 'offset': 0, 'type': 'track', 'market': None} returned 401 due to The access token expired\n",
      "HTTP Error for GET to https://api.spotify.com/v1/search with Params: {'q': 'artist:Ice Cube track:Wicked', 'limit': 10, 'offset': 0, 'type': 'track', 'market': None} returned 401 due to The access token expired\n",
      "HTTP Error for GET to https://api.spotify.com/v1/search with Params: {'q': 'artist:Ice Cube track:You Know How We Do It', 'limit': 10, 'offset': 0, 'type': 'track', 'market': None} returned 401 due to The access token expired\n",
      "HTTP Error for GET to https://api.spotify.com/v1/search with Params: {'q': 'artist:Ice Cube Featuring Das EFX track:Check Yo Self', 'limit': 10, 'offset': 0, 'type': 'track', 'market': None} returned 401 due to The access token expired\n"
     ]
    },
    {
     "name": "stdout",
     "output_type": "stream",
     "text": [
      "ERROR:   Ice Cube Really Doe\n",
      "ERROR:   Ice Cube Why We Thugs\n",
      "ERROR:   Ice Cube Wicked\n",
      "ERROR:   Ice Cube You Know How We Do It\n"
     ]
    },
    {
     "name": "stderr",
     "output_type": "stream",
     "text": [
      "HTTP Error for GET to https://api.spotify.com/v1/search with Params: {'q': 'artist:Ice Cube Featuring George Clinton track:Bop Gun (One Nation)', 'limit': 10, 'offset': 0, 'type': 'track', 'market': None} returned 401 due to The access token expired\n",
      "HTTP Error for GET to https://api.spotify.com/v1/search with Params: {'q': 'artist:Ice Cube Featuring Mack 10 & Ms. Toi track:You Can Do It', 'limit': 10, 'offset': 0, 'type': 'track', 'market': None} returned 401 due to The access token expired\n",
      "HTTP Error for GET to https://api.spotify.com/v1/search with Params: {'q': \"artist:Ice Cube Featuring Mr. Short Khop track:Pushin' Weight\", 'limit': 10, 'offset': 0, 'type': 'track', 'market': None} returned 401 due to The access token expired\n"
     ]
    },
    {
     "name": "stdout",
     "output_type": "stream",
     "text": [
      "ERROR:   Ice Cube Featuring Das EFX Check Yo Self\n",
      "ERROR:   Ice Cube Featuring George Clinton Bop Gun (One Nation)\n",
      "ERROR:   Ice Cube Featuring Mack 10 & Ms. Toi You Can Do It\n",
      "ERROR:   Ice Cube Featuring Mr. Short Khop Pushin' Weight\n"
     ]
    },
    {
     "name": "stderr",
     "output_type": "stream",
     "text": [
      "HTTP Error for GET to https://api.spotify.com/v1/search with Params: {'q': 'artist:Ice-T track:Colors', 'limit': 10, 'offset': 0, 'type': 'track', 'market': None} returned 401 due to The access token expired\n",
      "HTTP Error for GET to https://api.spotify.com/v1/search with Params: {'q': 'artist:Ice-T track:New Jack Hustler (Nino\\'s Theme) (From \"New Jack City\")', 'limit': 10, 'offset': 0, 'type': 'track', 'market': None} returned 401 due to The access token expired\n",
      "HTTP Error for GET to https://api.spotify.com/v1/search with Params: {'q': 'artist:Icehouse track:Crazy', 'limit': 10, 'offset': 0, 'type': 'track', 'market': None} returned 401 due to The access token expired\n",
      "HTTP Error for GET to https://api.spotify.com/v1/search with Params: {'q': 'artist:Icehouse track:Electric Blue', 'limit': 10, 'offset': 0, 'type': 'track', 'market': None} returned 401 due to The access token expired\n"
     ]
    },
    {
     "name": "stdout",
     "output_type": "stream",
     "text": [
      "ERROR:   Ice-T Colors\n",
      "11220  ERROR:   Ice-T New Jack Hustler (Nino's Theme) (From \"New Jack City\")\n",
      "ERROR:   Icehouse Crazy\n",
      "ERROR:   Icehouse Electric Blue\n"
     ]
    },
    {
     "name": "stderr",
     "output_type": "stream",
     "text": [
      "HTTP Error for GET to https://api.spotify.com/v1/search with Params: {'q': 'artist:Icehouse track:My Obsession', 'limit': 10, 'offset': 0, 'type': 'track', 'market': None} returned 401 due to The access token expired\n",
      "HTTP Error for GET to https://api.spotify.com/v1/search with Params: {'q': 'artist:Icehouse track:No Promises', 'limit': 10, 'offset': 0, 'type': 'track', 'market': None} returned 401 due to The access token expired\n",
      "HTTP Error for GET to https://api.spotify.com/v1/search with Params: {'q': 'artist:Icehouse track:Touch The Fire', 'limit': 10, 'offset': 0, 'type': 'track', 'market': None} returned 401 due to The access token expired\n",
      "HTTP Error for GET to https://api.spotify.com/v1/search with Params: {'q': 'artist:Icehouse track:We Can Get Together', 'limit': 10, 'offset': 0, 'type': 'track', 'market': None} returned 401 due to The access token expired\n",
      "HTTP Error for GET to https://api.spotify.com/v1/search with Params: {'q': 'artist:Icicle Works track:Whisper To A Scream (Birds Fly)', 'limit': 10, 'offset': 0, 'type': 'track', 'market': None} returned 401 due to The access token expired\n"
     ]
    },
    {
     "name": "stdout",
     "output_type": "stream",
     "text": [
      "ERROR:   Icehouse My Obsession\n",
      "ERROR:   Icehouse No Promises\n",
      "ERROR:   Icehouse Touch The Fire\n",
      "ERROR:   Icehouse We Can Get Together\n"
     ]
    },
    {
     "name": "stderr",
     "output_type": "stream",
     "text": [
      "HTTP Error for GET to https://api.spotify.com/v1/search with Params: {'q': 'artist:Icona Pop Featuring Charli XCX track:I Love It', 'limit': 10, 'offset': 0, 'type': 'track', 'market': None} returned 401 due to The access token expired\n",
      "HTTP Error for GET to https://api.spotify.com/v1/search with Params: {'q': 'artist:Iconz Featuring Tony Manshino track:Get Crunked Up', 'limit': 10, 'offset': 0, 'type': 'track', 'market': None} returned 401 due to The access token expired\n",
      "HTTP Error for GET to https://api.spotify.com/v1/search with Params: {'q': 'artist:Icy Blu track:I Wanna Be Your Girl', 'limit': 10, 'offset': 0, 'type': 'track', 'market': None} returned 401 due to The access token expired\n"
     ]
    },
    {
     "name": "stdout",
     "output_type": "stream",
     "text": [
      "ERROR:   Icicle Works Whisper To A Scream (Birds Fly)\n",
      "ERROR:   Icona Pop Featuring Charli XCX I Love It\n",
      "ERROR:   Iconz Featuring Tony Manshino Get Crunked Up\n",
      "11230  ERROR:   Icy Blu I Wanna Be Your Girl\n"
     ]
    },
    {
     "name": "stderr",
     "output_type": "stream",
     "text": [
      "HTTP Error for GET to https://api.spotify.com/v1/search with Params: {'q': \"artist:Icy Blu track:Pump It (Nice An' Hard)\", 'limit': 10, 'offset': 0, 'type': 'track', 'market': None} returned 401 due to The access token expired\n",
      "HTTP Error for GET to https://api.spotify.com/v1/search with Params: {'q': 'artist:Ideal track:Get Gone', 'limit': 10, 'offset': 0, 'type': 'track', 'market': None} returned 401 due to The access token expired\n",
      "HTTP Error for GET to https://api.spotify.com/v1/search with Params: {'q': \"artist:Ideal Featuring Lil' Mo track:Whatever\", 'limit': 10, 'offset': 0, 'type': 'track', 'market': None} returned 401 due to The access token expired\n",
      "HTTP Error for GET to https://api.spotify.com/v1/search with Params: {'q': 'artist:Idina Menzel track:Let It Go', 'limit': 10, 'offset': 0, 'type': 'track', 'market': None} returned 401 due to The access token expired\n"
     ]
    },
    {
     "name": "stdout",
     "output_type": "stream",
     "text": [
      "ERROR:   Icy Blu Pump It (Nice An' Hard)\n",
      "ERROR:   Ideal Get Gone\n",
      "ERROR:   Ideal Featuring Lil' Mo Whatever\n",
      "ERROR:   Idina Menzel Let It Go\n"
     ]
    },
    {
     "name": "stderr",
     "output_type": "stream",
     "text": [
      "HTTP Error for GET to https://api.spotify.com/v1/search with Params: {'q': 'artist:Idina Menzel & AURORA track:Into The Unknown', 'limit': 10, 'offset': 0, 'type': 'track', 'market': None} returned 401 due to The access token expired\n",
      "HTTP Error for GET to https://api.spotify.com/v1/search with Params: {'q': 'artist:Idina Menzel & Evan Rachel Wood track:Show Yourself', 'limit': 10, 'offset': 0, 'type': 'track', 'market': None} returned 401 due to The access token expired\n",
      "HTTP Error for GET to https://api.spotify.com/v1/search with Params: {'q': \"artist:Idina Menzel Duet With Michael Buble track:Baby It's Cold Outside\", 'limit': 10, 'offset': 0, 'type': 'track', 'market': None} returned 401 due to The access token expired\n",
      "HTTP Error for GET to https://api.spotify.com/v1/search with Params: {'q': 'artist:Idris Muhammad track:Could Heaven Ever Be Like This (Part 1)', 'limit': 10, 'offset': 0, 'type': 'track', 'market': None} returned 401 due to The access token expired\n"
     ]
    },
    {
     "name": "stdout",
     "output_type": "stream",
     "text": [
      "ERROR:   Idina Menzel & AURORA Into The Unknown\n",
      "ERROR:   Idina Menzel & Evan Rachel Wood Show Yourself\n",
      "ERROR:   Idina Menzel Duet With Michael Buble Baby It's Cold Outside\n",
      "ERROR:   Idris Muhammad Could Heaven Ever Be Like This (Part 1)\n"
     ]
    },
    {
     "name": "stderr",
     "output_type": "stream",
     "text": [
      "HTTP Error for GET to https://api.spotify.com/v1/search with Params: {'q': 'artist:Iggy Azalea track:Sally Walker', 'limit': 10, 'offset': 0, 'type': 'track', 'market': None} returned 401 due to The access token expired\n",
      "HTTP Error for GET to https://api.spotify.com/v1/search with Params: {'q': 'artist:Iggy Azalea track:Team', 'limit': 10, 'offset': 0, 'type': 'track', 'market': None} returned 401 due to The access token expired\n",
      "HTTP Error for GET to https://api.spotify.com/v1/search with Params: {'q': 'artist:Iggy Azalea track:Work', 'limit': 10, 'offset': 0, 'type': 'track', 'market': None} returned 401 due to The access token expired\n",
      "HTTP Error for GET to https://api.spotify.com/v1/search with Params: {'q': 'artist:Iggy Azalea Featuring Charli XCX track:Fancy', 'limit': 10, 'offset': 0, 'type': 'track', 'market': None} returned 401 due to The access token expired\n",
      "HTTP Error for GET to https://api.spotify.com/v1/search with Params: {'q': 'artist:Iggy Azalea Featuring Jennifer Hudson track:Trouble', 'limit': 10, 'offset': 0, 'type': 'track', 'market': None} returned 401 due to The access token expired\n"
     ]
    },
    {
     "name": "stdout",
     "output_type": "stream",
     "text": [
      "ERROR:   Iggy Azalea Sally Walker\n",
      "11240  ERROR:   Iggy Azalea Team\n",
      "ERROR:   Iggy Azalea Work\n",
      "ERROR:   Iggy Azalea Featuring Charli XCX Fancy\n"
     ]
    },
    {
     "name": "stderr",
     "output_type": "stream",
     "text": [
      "HTTP Error for GET to https://api.spotify.com/v1/search with Params: {'q': 'artist:Iggy Azalea Featuring M0 track:Beg For It', 'limit': 10, 'offset': 0, 'type': 'track', 'market': None} returned 401 due to The access token expired\n",
      "HTTP Error for GET to https://api.spotify.com/v1/search with Params: {'q': 'artist:Iggy Azalea Featuring Rita Ora track:Black Widow', 'limit': 10, 'offset': 0, 'type': 'track', 'market': None} returned 401 due to The access token expired\n",
      "HTTP Error for GET to https://api.spotify.com/v1/search with Params: {'q': 'artist:Iggy Azalea Feauring Tyga track:Kream', 'limit': 10, 'offset': 0, 'type': 'track', 'market': None} returned 401 due to The access token expired\n"
     ]
    },
    {
     "name": "stdout",
     "output_type": "stream",
     "text": [
      "ERROR:   Iggy Azalea Featuring Jennifer Hudson Trouble\n",
      "ERROR:   Iggy Azalea Featuring M0 Beg For It\n",
      "ERROR:   Iggy Azalea Featuring Rita Ora Black Widow\n",
      "ERROR:   Iggy Azalea Feauring Tyga Kream\n"
     ]
    },
    {
     "name": "stderr",
     "output_type": "stream",
     "text": [
      "HTTP Error for GET to https://api.spotify.com/v1/search with Params: {'q': 'artist:Iggy Pop With Kate Pierson track:Candy', 'limit': 10, 'offset': 0, 'type': 'track', 'market': None} returned 401 due to The access token expired\n",
      "HTTP Error for GET to https://api.spotify.com/v1/search with Params: {'q': 'artist:Ike & Tina Turner track:A Fool In Love', 'limit': 10, 'offset': 0, 'type': 'track', 'market': None} returned 401 due to The access token expired\n",
      "HTTP Error for GET to https://api.spotify.com/v1/search with Params: {'q': 'artist:Ike & Tina Turner track:Baby-Get It On', 'limit': 10, 'offset': 0, 'type': 'track', 'market': None} returned 401 due to The access token expired\n",
      "HTTP Error for GET to https://api.spotify.com/v1/search with Params: {'q': 'artist:Ike & Tina Turner track:Bold Soul Sister', 'limit': 10, 'offset': 0, 'type': 'track', 'market': None} returned 401 due to The access token expired\n"
     ]
    },
    {
     "name": "stdout",
     "output_type": "stream",
     "text": [
      "ERROR:   Iggy Pop With Kate Pierson Candy\n",
      "ERROR:   Ike & Tina Turner A Fool In Love\n",
      "ERROR:   Ike & Tina Turner Baby-Get It On\n",
      "11250  ERROR:   Ike & Tina Turner Bold Soul Sister\n"
     ]
    },
    {
     "name": "stderr",
     "output_type": "stream",
     "text": [
      "HTTP Error for GET to https://api.spotify.com/v1/search with Params: {'q': \"artist:Ike & Tina Turner track:I Can't Believe What You Say (For Seeing What You Do)\", 'limit': 10, 'offset': 0, 'type': 'track', 'market': None} returned 401 due to The access token expired\n",
      "HTTP Error for GET to https://api.spotify.com/v1/search with Params: {'q': 'artist:Ike & Tina Turner track:I Idolize You', 'limit': 10, 'offset': 0, 'type': 'track', 'market': None} returned 401 due to The access token expired\n",
      "HTTP Error for GET to https://api.spotify.com/v1/search with Params: {'q': \"artist:Ike & Tina Turner track:I'm Gonna Do All I Can (To Do Right By My Man)\", 'limit': 10, 'offset': 0, 'type': 'track', 'market': None} returned 401 due to The access token expired\n",
      "HTTP Error for GET to https://api.spotify.com/v1/search with Params: {'q': \"artist:Ike & Tina Turner track:I've Been Loving You Too Long\", 'limit': 10, 'offset': 0, 'type': 'track', 'market': None} returned 401 due to The access token expired\n"
     ]
    },
    {
     "name": "stdout",
     "output_type": "stream",
     "text": [
      "ERROR:   Ike & Tina Turner I Can't Believe What You Say (For Seeing What You Do)\n",
      "ERROR:   Ike & Tina Turner I Idolize You\n",
      "ERROR:   Ike & Tina Turner I'm Gonna Do All I Can (To Do Right By My Man)\n",
      "ERROR:   Ike & Tina Turner I've Been Loving You Too Long\n"
     ]
    },
    {
     "name": "stderr",
     "output_type": "stream",
     "text": [
      "HTTP Error for GET to https://api.spotify.com/v1/search with Params: {'q': \"artist:Ike & Tina Turner track:It's Gonna Work Out Fine\", 'limit': 10, 'offset': 0, 'type': 'track', 'market': None} returned 401 due to The access token expired\n",
      "HTTP Error for GET to https://api.spotify.com/v1/search with Params: {'q': 'artist:Ike & Tina Turner track:Nutbush City Limits', 'limit': 10, 'offset': 0, 'type': 'track', 'market': None} returned 401 due to The access token expired\n",
      "HTTP Error for GET to https://api.spotify.com/v1/search with Params: {'q': 'artist:Ike & Tina Turner track:Ooh Poo Pah Doo', 'limit': 10, 'offset': 0, 'type': 'track', 'market': None} returned 401 due to The access token expired\n",
      "HTTP Error for GET to https://api.spotify.com/v1/search with Params: {'q': 'artist:Ike & Tina Turner track:Poor Fool', 'limit': 10, 'offset': 0, 'type': 'track', 'market': None} returned 401 due to The access token expired\n"
     ]
    },
    {
     "name": "stdout",
     "output_type": "stream",
     "text": [
      "ERROR:   Ike & Tina Turner It's Gonna Work Out Fine\n",
      "ERROR:   Ike & Tina Turner Nutbush City Limits\n",
      "ERROR:   Ike & Tina Turner Ooh Poo Pah Doo\n",
      "ERROR:   Ike & Tina Turner Poor Fool\n"
     ]
    },
    {
     "name": "stderr",
     "output_type": "stream",
     "text": [
      "HTTP Error for GET to https://api.spotify.com/v1/search with Params: {'q': 'artist:Ike & Tina Turner track:Proud Mary', 'limit': 10, 'offset': 0, 'type': 'track', 'market': None} returned 401 due to The access token expired\n",
      "HTTP Error for GET to https://api.spotify.com/v1/search with Params: {'q': 'artist:Ike & Tina Turner track:Sexy Ida (Part 1)', 'limit': 10, 'offset': 0, 'type': 'track', 'market': None} returned 401 due to The access token expired\n",
      "HTTP Error for GET to https://api.spotify.com/v1/search with Params: {'q': 'artist:Ike & Tina Turner track:The Hunter', 'limit': 10, 'offset': 0, 'type': 'track', 'market': None} returned 401 due to The access token expired\n",
      "HTTP Error for GET to https://api.spotify.com/v1/search with Params: {'q': 'artist:Ike & Tina Turner track:Tra La La La La', 'limit': 10, 'offset': 0, 'type': 'track', 'market': None} returned 401 due to The access token expired\n",
      "HTTP Error for GET to https://api.spotify.com/v1/search with Params: {'q': 'artist:Ike & Tina Turner track:Up In Heah', 'limit': 10, 'offset': 0, 'type': 'track', 'market': None} returned 401 due to The access token expired\n"
     ]
    },
    {
     "name": "stdout",
     "output_type": "stream",
     "text": [
      "ERROR:   Ike & Tina Turner Proud Mary\n",
      "11260  ERROR:   Ike & Tina Turner Sexy Ida (Part 1)\n",
      "ERROR:   Ike & Tina Turner The Hunter\n",
      "ERROR:   Ike & Tina Turner Tra La La La La\n"
     ]
    },
    {
     "name": "stderr",
     "output_type": "stream",
     "text": [
      "HTTP Error for GET to https://api.spotify.com/v1/search with Params: {'q': \"artist:Ike & Tina Turner track:You Should'a Treated Me Right\", 'limit': 10, 'offset': 0, 'type': 'track', 'market': None} returned 401 due to The access token expired\n",
      "HTTP Error for GET to https://api.spotify.com/v1/search with Params: {'q': 'artist:Ike & Tina Turner & The Ikettes track:Come Together', 'limit': 10, 'offset': 0, 'type': 'track', 'market': None} returned 401 due to The access token expired\n",
      "HTTP Error for GET to https://api.spotify.com/v1/search with Params: {'q': 'artist:Ike & Tina Turner & The Ikettes track:I Want To Take You Higher', 'limit': 10, 'offset': 0, 'type': 'track', 'market': None} returned 401 due to The access token expired\n"
     ]
    },
    {
     "name": "stdout",
     "output_type": "stream",
     "text": [
      "ERROR:   Ike & Tina Turner Up In Heah\n",
      "ERROR:   Ike & Tina Turner You Should'a Treated Me Right\n",
      "ERROR:   Ike & Tina Turner & The Ikettes Come Together\n",
      "ERROR:   Ike & Tina Turner & The Ikettes I Want To Take You Higher\n"
     ]
    },
    {
     "name": "stderr",
     "output_type": "stream",
     "text": [
      "HTTP Error for GET to https://api.spotify.com/v1/search with Params: {'q': 'artist:Ike & Tina Turner Featuring Tina track:River Deep-Mountain High', 'limit': 10, 'offset': 0, 'type': 'track', 'market': None} returned 401 due to The access token expired\n",
      "HTTP Error for GET to https://api.spotify.com/v1/search with Params: {'q': 'artist:Ike Clanton track:Down The Aisle', 'limit': 10, 'offset': 0, 'type': 'track', 'market': None} returned 401 due to The access token expired\n",
      "HTTP Error for GET to https://api.spotify.com/v1/search with Params: {'q': 'artist:Ike Clanton track:Sugar Plum', 'limit': 10, 'offset': 0, 'type': 'track', 'market': None} returned 401 due to The access token expired\n",
      "HTTP Error for GET to https://api.spotify.com/v1/search with Params: {'q': \"artist:Ill Al Skratch Featuring Brian McKnight track:I'll Take Her\", 'limit': 10, 'offset': 0, 'type': 'track', 'market': None} returned 401 due to The access token expired\n"
     ]
    },
    {
     "name": "stdout",
     "output_type": "stream",
     "text": [
      "ERROR:   Ike & Tina Turner Featuring Tina River Deep-Mountain High\n",
      "ERROR:   Ike Clanton Down The Aisle\n",
      "ERROR:   Ike Clanton Sugar Plum\n",
      "11270  ERROR:   Ill Al Skratch Featuring Brian McKnight I'll Take Her\n"
     ]
    },
    {
     "name": "stderr",
     "output_type": "stream",
     "text": [
      "HTTP Error for GET to https://api.spotify.com/v1/search with Params: {'q': 'artist:Illegal track:We Getz Busy', 'limit': 10, 'offset': 0, 'type': 'track', 'market': None} returned 401 due to The access token expired\n",
      "HTTP Error for GET to https://api.spotify.com/v1/search with Params: {'q': 'artist:Imagine Dragons track:Bad Liar', 'limit': 10, 'offset': 0, 'type': 'track', 'market': None} returned 401 due to The access token expired\n",
      "HTTP Error for GET to https://api.spotify.com/v1/search with Params: {'q': 'artist:Imagine Dragons track:Believer', 'limit': 10, 'offset': 0, 'type': 'track', 'market': None} returned 401 due to The access token expired\n",
      "HTTP Error for GET to https://api.spotify.com/v1/search with Params: {'q': 'artist:Imagine Dragons track:Demons', 'limit': 10, 'offset': 0, 'type': 'track', 'market': None} returned 401 due to The access token expired\n"
     ]
    },
    {
     "name": "stdout",
     "output_type": "stream",
     "text": [
      "ERROR:   Illegal We Getz Busy\n",
      "ERROR:   Imagine Dragons Bad Liar\n",
      "ERROR:   Imagine Dragons Believer\n",
      "ERROR:   Imagine Dragons Demons\n"
     ]
    },
    {
     "name": "stderr",
     "output_type": "stream",
     "text": [
      "HTTP Error for GET to https://api.spotify.com/v1/search with Params: {'q': 'artist:Imagine Dragons track:Follow You', 'limit': 10, 'offset': 0, 'type': 'track', 'market': None} returned 401 due to The access token expired\n",
      "HTTP Error for GET to https://api.spotify.com/v1/search with Params: {'q': 'artist:Imagine Dragons track:I Bet My Life', 'limit': 10, 'offset': 0, 'type': 'track', 'market': None} returned 401 due to The access token expired\n",
      "HTTP Error for GET to https://api.spotify.com/v1/search with Params: {'q': \"artist:Imagine Dragons track:It's Time\", 'limit': 10, 'offset': 0, 'type': 'track', 'market': None} returned 401 due to The access token expired\n",
      "HTTP Error for GET to https://api.spotify.com/v1/search with Params: {'q': 'artist:Imagine Dragons track:Monster', 'limit': 10, 'offset': 0, 'type': 'track', 'market': None} returned 401 due to The access token expired\n",
      "HTTP Error for GET to https://api.spotify.com/v1/search with Params: {'q': 'artist:Imagine Dragons track:Natural', 'limit': 10, 'offset': 0, 'type': 'track', 'market': None} returned 401 due to The access token expired\n"
     ]
    },
    {
     "name": "stdout",
     "output_type": "stream",
     "text": [
      "ERROR:   Imagine Dragons Follow You\n",
      "ERROR:   Imagine Dragons I Bet My Life\n",
      "ERROR:   Imagine Dragons It's Time\n",
      "ERROR:   Imagine Dragons Monster\n"
     ]
    },
    {
     "name": "stderr",
     "output_type": "stream",
     "text": [
      "HTTP Error for GET to https://api.spotify.com/v1/search with Params: {'q': 'artist:Imagine Dragons track:On Top Of The World', 'limit': 10, 'offset': 0, 'type': 'track', 'market': None} returned 401 due to The access token expired\n",
      "HTTP Error for GET to https://api.spotify.com/v1/search with Params: {'q': 'artist:Imagine Dragons track:Radioactive', 'limit': 10, 'offset': 0, 'type': 'track', 'market': None} returned 401 due to The access token expired\n",
      "HTTP Error for GET to https://api.spotify.com/v1/search with Params: {'q': 'artist:Imagine Dragons track:Roots', 'limit': 10, 'offset': 0, 'type': 'track', 'market': None} returned 401 due to The access token expired\n"
     ]
    },
    {
     "name": "stdout",
     "output_type": "stream",
     "text": [
      "ERROR:   Imagine Dragons Natural\n",
      "11280  ERROR:   Imagine Dragons On Top Of The World\n",
      "ERROR:   Imagine Dragons Radioactive\n",
      "ERROR:   Imagine Dragons Roots\n"
     ]
    },
    {
     "name": "stderr",
     "output_type": "stream",
     "text": [
      "HTTP Error for GET to https://api.spotify.com/v1/search with Params: {'q': 'artist:Imagine Dragons track:Shots', 'limit': 10, 'offset': 0, 'type': 'track', 'market': None} returned 401 due to The access token expired\n",
      "HTTP Error for GET to https://api.spotify.com/v1/search with Params: {'q': 'artist:Imagine Dragons track:Thunder', 'limit': 10, 'offset': 0, 'type': 'track', 'market': None} returned 401 due to The access token expired\n",
      "HTTP Error for GET to https://api.spotify.com/v1/search with Params: {'q': 'artist:Imagine Dragons track:Whatever It Takes', 'limit': 10, 'offset': 0, 'type': 'track', 'market': None} returned 401 due to The access token expired\n",
      "HTTP Error for GET to https://api.spotify.com/v1/search with Params: {'q': 'artist:Imagine Dragons + Khalid track:Thunder/Young Dumb & Broke (Medley)', 'limit': 10, 'offset': 0, 'type': 'track', 'market': None} returned 401 due to The access token expired\n"
     ]
    },
    {
     "name": "stdout",
     "output_type": "stream",
     "text": [
      "ERROR:   Imagine Dragons Shots\n",
      "ERROR:   Imagine Dragons Thunder\n",
      "ERROR:   Imagine Dragons Whatever It Takes\n",
      "ERROR:   Imagine Dragons + Khalid Thunder/Young Dumb & Broke (Medley)\n"
     ]
    },
    {
     "name": "stderr",
     "output_type": "stream",
     "text": [
      "HTTP Error for GET to https://api.spotify.com/v1/search with Params: {'q': \"artist:Imajin Featuring Keith Murray track:Shorty (You Keep Playin' With My Mind)\", 'limit': 10, 'offset': 0, 'type': 'track', 'market': None} returned 401 due to The access token expired\n",
      "HTTP Error for GET to https://api.spotify.com/v1/search with Params: {'q': 'artist:Imani Coppola track:Legend Of A Cowgirl', 'limit': 10, 'offset': 0, 'type': 'track', 'market': None} returned 401 due to The access token expired\n",
      "HTTP Error for GET to https://api.spotify.com/v1/search with Params: {'q': 'artist:Immature track:Constantly', 'limit': 10, 'offset': 0, 'type': 'track', 'market': None} returned 401 due to The access token expired\n",
      "HTTP Error for GET to https://api.spotify.com/v1/search with Params: {'q': 'artist:Immature track:Feel The Funk (From \"Dangerous Minds\")', 'limit': 10, 'offset': 0, 'type': 'track', 'market': None} returned 401 due to The access token expired\n",
      "HTTP Error for GET to https://api.spotify.com/v1/search with Params: {'q': \"artist:Immature track:I Don't Mind\", 'limit': 10, 'offset': 0, 'type': 'track', 'market': None} returned 401 due to The access token expired\n"
     ]
    },
    {
     "name": "stdout",
     "output_type": "stream",
     "text": [
      "ERROR:   Imajin Featuring Keith Murray Shorty (You Keep Playin' With My Mind)\n",
      "ERROR:   Imani Coppola Legend Of A Cowgirl\n",
      "ERROR:   Immature Constantly\n",
      "11290  ERROR:   Immature Feel The Funk (From \"Dangerous Minds\")\n"
     ]
    },
    {
     "name": "stderr",
     "output_type": "stream",
     "text": [
      "HTTP Error for GET to https://api.spotify.com/v1/search with Params: {'q': \"artist:Immature track:I'm Not A Fool\", 'limit': 10, 'offset': 0, 'type': 'track', 'market': None} returned 401 due to The access token expired\n",
      "HTTP Error for GET to https://api.spotify.com/v1/search with Params: {'q': 'artist:Immature track:Never Lie', 'limit': 10, 'offset': 0, 'type': 'track', 'market': None} returned 401 due to The access token expired\n",
      "HTTP Error for GET to https://api.spotify.com/v1/search with Params: {'q': \"artist:Immature track:Please Don't Go\", 'limit': 10, 'offset': 0, 'type': 'track', 'market': None} returned 401 due to The access token expired\n"
     ]
    },
    {
     "name": "stdout",
     "output_type": "stream",
     "text": [
      "ERROR:   Immature I Don't Mind\n",
      "ERROR:   Immature I'm Not A Fool\n",
      "ERROR:   Immature Never Lie\n",
      "ERROR:   Immature Please Don't Go\n"
     ]
    },
    {
     "name": "stderr",
     "output_type": "stream",
     "text": [
      "HTTP Error for GET to https://api.spotify.com/v1/search with Params: {'q': 'artist:Immature (Featuring Smooth) track:We Got It', 'limit': 10, 'offset': 0, 'type': 'track', 'market': None} returned 401 due to The access token expired\n",
      "HTTP Error for GET to https://api.spotify.com/v1/search with Params: {'q': 'artist:Immature Featuring Smooth And Ed From Good Burger track:Watch Me Do My Thing (From \"All That\")', 'limit': 10, 'offset': 0, 'type': 'track', 'market': None} returned 401 due to The access token expired\n",
      "HTTP Error for GET to https://api.spotify.com/v1/search with Params: {'q': 'artist:Impact track:Happy Man (Pt. I)', 'limit': 10, 'offset': 0, 'type': 'track', 'market': None} returned 401 due to The access token expired\n",
      "HTTP Error for GET to https://api.spotify.com/v1/search with Params: {'q': 'artist:Incubus track:Anna-Molly', 'limit': 10, 'offset': 0, 'type': 'track', 'market': None} returned 401 due to The access token expired\n"
     ]
    },
    {
     "name": "stdout",
     "output_type": "stream",
     "text": [
      "ERROR:   Immature (Featuring Smooth) We Got It\n",
      "ERROR:   Immature Featuring Smooth And Ed From Good Burger Watch Me Do My Thing (From \"All That\")\n",
      "ERROR:   Impact Happy Man (Pt. I)\n",
      "ERROR:   Incubus Anna-Molly\n"
     ]
    },
    {
     "name": "stderr",
     "output_type": "stream",
     "text": [
      "HTTP Error for GET to https://api.spotify.com/v1/search with Params: {'q': 'artist:Incubus track:Dig', 'limit': 10, 'offset': 0, 'type': 'track', 'market': None} returned 401 due to The access token expired\n",
      "HTTP Error for GET to https://api.spotify.com/v1/search with Params: {'q': 'artist:Incubus track:Drive', 'limit': 10, 'offset': 0, 'type': 'track', 'market': None} returned 401 due to The access token expired\n",
      "HTTP Error for GET to https://api.spotify.com/v1/search with Params: {'q': 'artist:Incubus track:Megalomaniac', 'limit': 10, 'offset': 0, 'type': 'track', 'market': None} returned 401 due to The access token expired\n",
      "HTTP Error for GET to https://api.spotify.com/v1/search with Params: {'q': 'artist:Incubus track:Wish You Were Here', 'limit': 10, 'offset': 0, 'type': 'track', 'market': None} returned 401 due to The access token expired\n"
     ]
    },
    {
     "name": "stdout",
     "output_type": "stream",
     "text": [
      "ERROR:   Incubus Dig\n",
      "11300  \n",
      "ERROR:   Incubus Drive\n",
      "ERROR:   Incubus Megalomaniac\n",
      "ERROR:   Incubus Wish You Were Here\n"
     ]
    },
    {
     "name": "stderr",
     "output_type": "stream",
     "text": [
      "HTTP Error for GET to https://api.spotify.com/v1/search with Params: {'q': 'artist:Indecent Obsession track:Tell Me Something', 'limit': 10, 'offset': 0, 'type': 'track', 'market': None} returned 401 due to The access token expired\n",
      "HTTP Error for GET to https://api.spotify.com/v1/search with Params: {'q': 'artist:Independents track:Just As Long As You Need Me, Part I', 'limit': 10, 'offset': 0, 'type': 'track', 'market': None} returned 401 due to The access token expired\n",
      "HTTP Error for GET to https://api.spotify.com/v1/search with Params: {'q': 'artist:India.Arie track:Beautiful Flower', 'limit': 10, 'offset': 0, 'type': 'track', 'market': None} returned 401 due to The access token expired\n",
      "HTTP Error for GET to https://api.spotify.com/v1/search with Params: {'q': 'artist:India.Arie track:I Am Not My Hair', 'limit': 10, 'offset': 0, 'type': 'track', 'market': None} returned 401 due to The access token expired\n"
     ]
    },
    {
     "name": "stdout",
     "output_type": "stream",
     "text": [
      "ERROR:   Indecent Obsession Tell Me Something\n",
      "ERROR:   Independents Just As Long As You Need Me, Part I\n",
      "ERROR:   India.Arie Beautiful Flower\n",
      "ERROR:   India.Arie I Am Not My Hair\n"
     ]
    },
    {
     "name": "stderr",
     "output_type": "stream",
     "text": [
      "HTTP Error for GET to https://api.spotify.com/v1/search with Params: {'q': 'artist:India.Arie track:Little Things', 'limit': 10, 'offset': 0, 'type': 'track', 'market': None} returned 401 due to The access token expired\n",
      "HTTP Error for GET to https://api.spotify.com/v1/search with Params: {'q': 'artist:India.Arie track:Video', 'limit': 10, 'offset': 0, 'type': 'track', 'market': None} returned 401 due to The access token expired\n",
      "HTTP Error for GET to https://api.spotify.com/v1/search with Params: {'q': 'artist:Indigo Girls track:Closer To Fine', 'limit': 10, 'offset': 0, 'type': 'track', 'market': None} returned 401 due to The access token expired\n",
      "HTTP Error for GET to https://api.spotify.com/v1/search with Params: {'q': 'artist:Indigo Girls track:Galileo', 'limit': 10, 'offset': 0, 'type': 'track', 'market': None} returned 401 due to The access token expired\n"
     ]
    },
    {
     "name": "stdout",
     "output_type": "stream",
     "text": [
      "ERROR:   India.Arie Little Things\n",
      "ERROR:   India.Arie Video\n",
      "ERROR:   Indigo Girls Closer To Fine\n",
      "11310  ERROR:   Indigo Girls Galileo\n"
     ]
    },
    {
     "name": "stderr",
     "output_type": "stream",
     "text": [
      "HTTP Error for GET to https://api.spotify.com/v1/search with Params: {'q': 'artist:Industry track:State Of The Union', 'limit': 10, 'offset': 0, 'type': 'track', 'market': None} returned 401 due to The access token expired\n",
      "HTTP Error for GET to https://api.spotify.com/v1/search with Params: {'q': 'artist:Inez & Charlie Foxx track:(1-2-3-4-5-6-7) Count The Days', 'limit': 10, 'offset': 0, 'type': 'track', 'market': None} returned 401 due to The access token expired\n",
      "HTTP Error for GET to https://api.spotify.com/v1/search with Params: {'q': 'artist:Inez Foxx track:Ask Me', 'limit': 10, 'offset': 0, 'type': 'track', 'market': None} returned 401 due to The access token expired\n",
      "HTTP Error for GET to https://api.spotify.com/v1/search with Params: {'q': 'artist:Inez Foxx track:Hi Diddle Diddle', 'limit': 10, 'offset': 0, 'type': 'track', 'market': None} returned 401 due to The access token expired\n"
     ]
    },
    {
     "name": "stdout",
     "output_type": "stream",
     "text": [
      "ERROR:   Industry State Of The Union\n",
      "ERROR:   Inez & Charlie Foxx (1-2-3-4-5-6-7) Count The Days\n",
      "ERROR:   Inez Foxx Ask Me\n",
      "ERROR:   Inez Foxx Hi Diddle Diddle\n"
     ]
    },
    {
     "name": "stderr",
     "output_type": "stream",
     "text": [
      "HTTP Error for GET to https://api.spotify.com/v1/search with Params: {'q': 'artist:Inez Foxx track:Hurt By Love', 'limit': 10, 'offset': 0, 'type': 'track', 'market': None} returned 401 due to The access token expired\n",
      "HTTP Error for GET to https://api.spotify.com/v1/search with Params: {'q': 'artist:Inez Foxx with Charlie Foxx track:Mockingbird', 'limit': 10, 'offset': 0, 'type': 'track', 'market': None} returned 401 due to The access token expired\n",
      "HTTP Error for GET to https://api.spotify.com/v1/search with Params: {'q': 'artist:Information Society track:Lay All Your Love On Me', 'limit': 10, 'offset': 0, 'type': 'track', 'market': None} returned 401 due to The access token expired\n",
      "HTTP Error for GET to https://api.spotify.com/v1/search with Params: {'q': 'artist:Information Society track:Repetition', 'limit': 10, 'offset': 0, 'type': 'track', 'market': None} returned 401 due to The access token expired\n"
     ]
    },
    {
     "name": "stdout",
     "output_type": "stream",
     "text": [
      "ERROR:   Inez Foxx Hurt By Love\n",
      "ERROR:   Inez Foxx with Charlie Foxx Mockingbird\n",
      "ERROR:   Information Society Lay All Your Love On Me\n",
      "ERROR:   Information Society Repetition\n"
     ]
    },
    {
     "name": "stderr",
     "output_type": "stream",
     "text": [
      "HTTP Error for GET to https://api.spotify.com/v1/search with Params: {'q': 'artist:Information Society track:Think', 'limit': 10, 'offset': 0, 'type': 'track', 'market': None} returned 401 due to The access token expired\n",
      "HTTP Error for GET to https://api.spotify.com/v1/search with Params: {'q': 'artist:Information Society track:Walking Away', 'limit': 10, 'offset': 0, 'type': 'track', 'market': None} returned 401 due to The access token expired\n",
      "HTTP Error for GET to https://api.spotify.com/v1/search with Params: {'q': \"artist:Information Society track:What's On Your Mind (Pure Energy)\", 'limit': 10, 'offset': 0, 'type': 'track', 'market': None} returned 401 due to The access token expired\n",
      "HTTP Error for GET to https://api.spotify.com/v1/search with Params: {'q': 'artist:Ingrid Andress track:More Hearts Than Mine', 'limit': 10, 'offset': 0, 'type': 'track', 'market': None} returned 401 due to The access token expired\n"
     ]
    },
    {
     "name": "stdout",
     "output_type": "stream",
     "text": [
      "ERROR:   Information Society Think\n",
      "11320  ERROR:   Information Society Walking Away\n",
      "ERROR:   Information Society What's On Your Mind (Pure Energy)\n",
      "ERROR:   Ingrid Andress More Hearts Than Mine\n"
     ]
    },
    {
     "name": "stderr",
     "output_type": "stream",
     "text": [
      "HTTP Error for GET to https://api.spotify.com/v1/search with Params: {'q': 'artist:Ingrid Michaelson track:Be OK', 'limit': 10, 'offset': 0, 'type': 'track', 'market': None} returned 401 due to The access token expired\n",
      "HTTP Error for GET to https://api.spotify.com/v1/search with Params: {'q': 'artist:Ingrid Michaelson track:Girls Chase Boys', 'limit': 10, 'offset': 0, 'type': 'track', 'market': None} returned 401 due to The access token expired\n",
      "HTTP Error for GET to https://api.spotify.com/v1/search with Params: {'q': 'artist:Ingrid Michaelson track:The Way I Am', 'limit': 10, 'offset': 0, 'type': 'track', 'market': None} returned 401 due to The access token expired\n",
      "HTTP Error for GET to https://api.spotify.com/v1/search with Params: {'q': 'artist:Ini Kamoze track:Here Comes The Hotstepper (From \"Ready To Wear\")', 'limit': 10, 'offset': 0, 'type': 'track', 'market': None} returned 401 due to The access token expired\n"
     ]
    },
    {
     "name": "stdout",
     "output_type": "stream",
     "text": [
      "ERROR:   Ingrid Michaelson Be OK\n",
      "ERROR:   Ingrid Michaelson Girls Chase Boys\n",
      "ERROR:   Ingrid Michaelson The Way I Am\n",
      "ERROR:   Ini Kamoze Here Comes The Hotstepper (From \"Ready To Wear\")\n"
     ]
    },
    {
     "name": "stderr",
     "output_type": "stream",
     "text": [
      "HTTP Error for GET to https://api.spotify.com/v1/search with Params: {'q': 'artist:Ini Kamoze track:Listen Me Tic (Woyoi)', 'limit': 10, 'offset': 0, 'type': 'track', 'market': None} returned 401 due to The access token expired\n",
      "HTTP Error for GET to https://api.spotify.com/v1/search with Params: {'q': 'artist:Inner Circle track:Bad Boys (Theme From \"Cops\")', 'limit': 10, 'offset': 0, 'type': 'track', 'market': None} returned 401 due to The access token expired\n",
      "HTTP Error for GET to https://api.spotify.com/v1/search with Params: {'q': 'artist:Inner Circle track:Games People Play', 'limit': 10, 'offset': 0, 'type': 'track', 'market': None} returned 401 due to The access token expired\n",
      "HTTP Error for GET to https://api.spotify.com/v1/search with Params: {'q': 'artist:Inner Circle track:Not About Romance', 'limit': 10, 'offset': 0, 'type': 'track', 'market': None} returned 401 due to The access token expired\n"
     ]
    },
    {
     "name": "stdout",
     "output_type": "stream",
     "text": [
      "ERROR:   Ini Kamoze Listen Me Tic (Woyoi)\n",
      "ERROR:   Inner Circle Bad Boys (Theme From \"Cops\")\n",
      "ERROR:   Inner Circle Games People Play\n",
      "11330  ERROR:   Inner Circle Not About Romance\n"
     ]
    },
    {
     "name": "stderr",
     "output_type": "stream",
     "text": [
      "HTTP Error for GET to https://api.spotify.com/v1/search with Params: {'q': 'artist:Inner Circle track:Rock With You', 'limit': 10, 'offset': 0, 'type': 'track', 'market': None} returned 401 due to The access token expired\n",
      "HTTP Error for GET to https://api.spotify.com/v1/search with Params: {'q': 'artist:Inner Circle track:Sweat (A La La La La Long)', 'limit': 10, 'offset': 0, 'type': 'track', 'market': None} returned 401 due to The access token expired\n",
      "HTTP Error for GET to https://api.spotify.com/v1/search with Params: {'q': 'artist:Inner City track:Good Life', 'limit': 10, 'offset': 0, 'type': 'track', 'market': None} returned 401 due to The access token expired\n",
      "HTTP Error for GET to https://api.spotify.com/v1/search with Params: {'q': \"artist:Inner City track:Whatcha Gonna Do With My Lovin'\", 'limit': 10, 'offset': 0, 'type': 'track', 'market': None} returned 401 due to The access token expired\n"
     ]
    },
    {
     "name": "stdout",
     "output_type": "stream",
     "text": [
      "ERROR:   Inner Circle Rock With You\n",
      "ERROR:   Inner Circle Sweat (A La La La La Long)\n",
      "ERROR:   Inner City Good Life\n",
      "ERROR:   Inner City Whatcha Gonna Do With My Lovin'\n"
     ]
    },
    {
     "name": "stderr",
     "output_type": "stream",
     "text": [
      "HTTP Error for GET to https://api.spotify.com/v1/search with Params: {'q': \"artist:Innerlude track:I Don't Wanna Go On\", 'limit': 10, 'offset': 0, 'type': 'track', 'market': None} returned 401 due to The access token expired\n",
      "HTTP Error for GET to https://api.spotify.com/v1/search with Params: {'q': 'artist:Inoj track:Time After Time', 'limit': 10, 'offset': 0, 'type': 'track', 'market': None} returned 401 due to The access token expired\n",
      "HTTP Error for GET to https://api.spotify.com/v1/search with Params: {'q': \"artist:Insane Clown Posse track:Santa's A Fat Bitch\", 'limit': 10, 'offset': 0, 'type': 'track', 'market': None} returned 401 due to The access token expired\n",
      "HTTP Error for GET to https://api.spotify.com/v1/search with Params: {'q': 'artist:Instant Funk track:I Got My Mind Made Up (You Can Get It Girl)', 'limit': 10, 'offset': 0, 'type': 'track', 'market': None} returned 401 due to The access token expired\n"
     ]
    },
    {
     "name": "stdout",
     "output_type": "stream",
     "text": [
      "ERROR:   Innerlude I Don't Wanna Go On\n",
      "ERROR:   Inoj Time After Time\n",
      "ERROR:   Insane Clown Posse Santa's A Fat Bitch\n",
      "ERROR:   Instant Funk I Got My Mind Made Up (You Can Get It Girl)\n"
     ]
    },
    {
     "name": "stderr",
     "output_type": "stream",
     "text": [
      "HTTP Error for GET to https://api.spotify.com/v1/search with Params: {'q': 'artist:Internet Money & Gunna Featuring Don Toliver & NAV track:Lemonade', 'limit': 10, 'offset': 0, 'type': 'track', 'market': None} returned 401 due to The access token expired\n",
      "HTTP Error for GET to https://api.spotify.com/v1/search with Params: {'q': 'artist:Internet Money Featuring Juice WRLD & Trippie Redd track:Blastoff', 'limit': 10, 'offset': 0, 'type': 'track', 'market': None} returned 401 due to The access token expired\n",
      "HTTP Error for GET to https://api.spotify.com/v1/search with Params: {'q': 'artist:Internet Money, Don Toliver & Lil Uzi Vert Featuring Gunna track:His & Hers', 'limit': 10, 'offset': 0, 'type': 'track', 'market': None} returned 401 due to The access token expired\n",
      "HTTP Error for GET to https://api.spotify.com/v1/search with Params: {'q': 'artist:Internet Money, Lil Tecca & A Boogie Wit da Hoodie track:Somebody', 'limit': 10, 'offset': 0, 'type': 'track', 'market': None} returned 401 due to The access token expired\n"
     ]
    },
    {
     "name": "stdout",
     "output_type": "stream",
     "text": [
      "ERROR:   Internet Money & Gunna Featuring Don Toliver & NAV Lemonade\n",
      "11340  ERROR:   Internet Money Featuring Juice WRLD & Trippie Redd Blastoff\n",
      "ERROR:   Internet Money, Don Toliver & Lil Uzi Vert Featuring Gunna His & Hers\n",
      "ERROR:   Internet Money, Lil Tecca & A Boogie Wit da Hoodie Somebody\n"
     ]
    },
    {
     "name": "stderr",
     "output_type": "stream",
     "text": [
      "HTTP Error for GET to https://api.spotify.com/v1/search with Params: {'q': 'artist:Intonation Featuring Joee track:Died In Your Arms', 'limit': 10, 'offset': 0, 'type': 'track', 'market': None} returned 401 due to The access token expired\n",
      "HTTP Error for GET to https://api.spotify.com/v1/search with Params: {'q': 'artist:Intro track:Come Inside', 'limit': 10, 'offset': 0, 'type': 'track', 'market': None} returned 401 due to The access token expired\n",
      "HTTP Error for GET to https://api.spotify.com/v1/search with Params: {'q': 'artist:Intro track:Funny How Time Flies', 'limit': 10, 'offset': 0, 'type': 'track', 'market': None} returned 401 due to The access token expired\n",
      "HTTP Error for GET to https://api.spotify.com/v1/search with Params: {'q': 'artist:Irene Cara track:Anyone Can See', 'limit': 10, 'offset': 0, 'type': 'track', 'market': None} returned 401 due to The access token expired\n"
     ]
    },
    {
     "name": "stdout",
     "output_type": "stream",
     "text": [
      "ERROR:   Intonation Featuring Joee Died In Your Arms\n",
      "ERROR:   Intro Come Inside\n",
      "ERROR:   Intro Funny How Time Flies\n",
      "ERROR:   Irene Cara Anyone Can See\n"
     ]
    },
    {
     "name": "stderr",
     "output_type": "stream",
     "text": [
      "HTTP Error for GET to https://api.spotify.com/v1/search with Params: {'q': 'artist:Irene Cara track:Breakdance', 'limit': 10, 'offset': 0, 'type': 'track', 'market': None} returned 401 due to The access token expired\n",
      "HTTP Error for GET to https://api.spotify.com/v1/search with Params: {'q': 'artist:Irene Cara track:Fame', 'limit': 10, 'offset': 0, 'type': 'track', 'market': None} returned 401 due to The access token expired\n",
      "HTTP Error for GET to https://api.spotify.com/v1/search with Params: {'q': 'artist:Irene Cara track:Flashdance...What A Feeling', 'limit': 10, 'offset': 0, 'type': 'track', 'market': None} returned 401 due to The access token expired\n",
      "HTTP Error for GET to https://api.spotify.com/v1/search with Params: {'q': 'artist:Irene Cara track:Out Here On My Own', 'limit': 10, 'offset': 0, 'type': 'track', 'market': None} returned 401 due to The access token expired\n"
     ]
    },
    {
     "name": "stdout",
     "output_type": "stream",
     "text": [
      "ERROR:   Irene Cara Breakdance\n",
      "ERROR:   Irene Cara Fame\n",
      "ERROR:   Irene Cara Flashdance...What A Feeling\n",
      "11350  ERROR:   Irene Cara Out Here On My Own\n"
     ]
    },
    {
     "name": "stderr",
     "output_type": "stream",
     "text": [
      "HTTP Error for GET to https://api.spotify.com/v1/search with Params: {'q': 'artist:Irene Cara track:The Dream', 'limit': 10, 'offset': 0, 'type': 'track', 'market': None} returned 401 due to The access token expired\n",
      "HTTP Error for GET to https://api.spotify.com/v1/search with Params: {'q': 'artist:Irene Cara track:Why Me?', 'limit': 10, 'offset': 0, 'type': 'track', 'market': None} returned 401 due to The access token expired\n",
      "HTTP Error for GET to https://api.spotify.com/v1/search with Params: {'q': 'artist:Irene Cara track:You Were Made For Me', 'limit': 10, 'offset': 0, 'type': 'track', 'market': None} returned 401 due to The access token expired\n",
      "HTTP Error for GET to https://api.spotify.com/v1/search with Params: {'q': 'artist:Irma Thomas track:Anyone Who Knows What Love Is (will understand)', 'limit': 10, 'offset': 0, 'type': 'track', 'market': None} returned 401 due to The access token expired\n"
     ]
    },
    {
     "name": "stdout",
     "output_type": "stream",
     "text": [
      "ERROR:   Irene Cara The Dream\n",
      "ERROR:   Irene Cara Why Me?\n",
      "ERROR:   Irene Cara You Were Made For Me\n",
      "ERROR:   Irma Thomas Anyone Who Knows What Love Is (will understand)\n"
     ]
    },
    {
     "name": "stderr",
     "output_type": "stream",
     "text": [
      "HTTP Error for GET to https://api.spotify.com/v1/search with Params: {'q': \"artist:Irma Thomas track:He's My Guy\", 'limit': 10, 'offset': 0, 'type': 'track', 'market': None} returned 401 due to The access token expired\n",
      "HTTP Error for GET to https://api.spotify.com/v1/search with Params: {'q': 'artist:Irma Thomas track:Times Have Changed', 'limit': 10, 'offset': 0, 'type': 'track', 'market': None} returned 401 due to The access token expired\n",
      "HTTP Error for GET to https://api.spotify.com/v1/search with Params: {'q': 'artist:Irma Thomas track:Wish Someone Would Care', 'limit': 10, 'offset': 0, 'type': 'track', 'market': None} returned 401 due to The access token expired\n",
      "HTTP Error for GET to https://api.spotify.com/v1/search with Params: {'q': 'artist:Iron Butterfly track:Easy Rider (Let The Wind Pay The Way)', 'limit': 10, 'offset': 0, 'type': 'track', 'market': None} returned 401 due to The access token expired\n",
      "HTTP Error for GET to https://api.spotify.com/v1/search with Params: {'q': 'artist:Iron Butterfly track:In The Time Of Our Lives', 'limit': 10, 'offset': 0, 'type': 'track', 'market': None} returned 401 due to The access token expired\n"
     ]
    },
    {
     "name": "stdout",
     "output_type": "stream",
     "text": [
      "ERROR:   Irma Thomas He's My Guy\n",
      "ERROR:   Irma Thomas Times Have Changed\n",
      "ERROR:   Irma Thomas Wish Someone Would Care\n",
      "ERROR:   Iron Butterfly Easy Rider (Let The Wind Pay The Way)\n"
     ]
    },
    {
     "name": "stderr",
     "output_type": "stream",
     "text": [
      "HTTP Error for GET to https://api.spotify.com/v1/search with Params: {'q': 'artist:Iron Butterfly track:In-A-Gadda-Da-Vida', 'limit': 10, 'offset': 0, 'type': 'track', 'market': None} returned 401 due to The access token expired\n",
      "HTTP Error for GET to https://api.spotify.com/v1/search with Params: {'q': 'artist:Iron Butterfly track:Soul Experience', 'limit': 10, 'offset': 0, 'type': 'track', 'market': None} returned 401 due to The access token expired\n",
      "HTTP Error for GET to https://api.spotify.com/v1/search with Params: {'q': 'artist:Ironhorse track:Sweet Lui-Louise', 'limit': 10, 'offset': 0, 'type': 'track', 'market': None} returned 401 due to The access token expired\n"
     ]
    },
    {
     "name": "stdout",
     "output_type": "stream",
     "text": [
      "ERROR:   Iron Butterfly In The Time Of Our Lives\n",
      "11360  ERROR:   Iron Butterfly In-A-Gadda-Da-Vida\n",
      "ERROR:   Iron Butterfly Soul Experience\n",
      "ERROR:   Ironhorse Sweet Lui-Louise\n"
     ]
    },
    {
     "name": "stderr",
     "output_type": "stream",
     "text": [
      "HTTP Error for GET to https://api.spotify.com/v1/search with Params: {'q': \"artist:Ironhorse track:What's Your Hurry Darlin'\", 'limit': 10, 'offset': 0, 'type': 'track', 'market': None} returned 401 due to The access token expired\n",
      "HTTP Error for GET to https://api.spotify.com/v1/search with Params: {'q': 'artist:Irv Gotti Presents The Inc. Featuring Ja Rule, Ashanti, Charli Baltimore & Vita track:Down 4 U', 'limit': 10, 'offset': 0, 'type': 'track', 'market': None} returned 401 due to The access token expired\n",
      "HTTP Error for GET to https://api.spotify.com/v1/search with Params: {'q': 'artist:Isaac Hayes track:\"Joy\" Pt. I', 'limit': 10, 'offset': 0, 'type': 'track', 'market': None} returned 401 due to The access token expired\n",
      "HTTP Error for GET to https://api.spotify.com/v1/search with Params: {'q': 'artist:Isaac Hayes track:By The Time I Get To Phoenix', 'limit': 10, 'offset': 0, 'type': 'track', 'market': None} returned 401 due to The access token expired\n"
     ]
    },
    {
     "name": "stdout",
     "output_type": "stream",
     "text": [
      "ERROR:   Ironhorse What's Your Hurry Darlin'\n",
      "ERROR:   Irv Gotti Presents The Inc. Featuring Ja Rule, Ashanti, Charli Baltimore & Vita Down 4 U\n",
      "ERROR:   Isaac Hayes \"Joy\" Pt. I\n",
      "ERROR:   Isaac Hayes By The Time I Get To Phoenix\n"
     ]
    },
    {
     "name": "stderr",
     "output_type": "stream",
     "text": [
      "HTTP Error for GET to https://api.spotify.com/v1/search with Params: {'q': 'artist:Isaac Hayes track:Chocolate Chip', 'limit': 10, 'offset': 0, 'type': 'track', 'market': None} returned 401 due to The access token expired\n",
      "HTTP Error for GET to https://api.spotify.com/v1/search with Params: {'q': 'artist:Isaac Hayes track:Do Your Thing', 'limit': 10, 'offset': 0, 'type': 'track', 'market': None} returned 401 due to The access token expired\n",
      "HTTP Error for GET to https://api.spotify.com/v1/search with Params: {'q': \"artist:Isaac Hayes track:Don't Let Go\", 'limit': 10, 'offset': 0, 'type': 'track', 'market': None} returned 401 due to The access token expired\n",
      "HTTP Error for GET to https://api.spotify.com/v1/search with Params: {'q': 'artist:Isaac Hayes track:I Stand Accused', 'limit': 10, 'offset': 0, 'type': 'track', 'market': None} returned 401 due to The access token expired\n"
     ]
    },
    {
     "name": "stdout",
     "output_type": "stream",
     "text": [
      "ERROR:   Isaac Hayes Chocolate Chip\n",
      "ERROR:   Isaac Hayes Do Your Thing\n",
      "ERROR:   Isaac Hayes Don't Let Go\n",
      "11370  ERROR:   Isaac Hayes I Stand Accused\n"
     ]
    },
    {
     "name": "stderr",
     "output_type": "stream",
     "text": [
      "HTTP Error for GET to https://api.spotify.com/v1/search with Params: {'q': \"artist:Isaac Hayes track:Let's Stay Together\", 'limit': 10, 'offset': 0, 'type': 'track', 'market': None} returned 401 due to The access token expired\n",
      "HTTP Error for GET to https://api.spotify.com/v1/search with Params: {'q': 'artist:Isaac Hayes track:Never Can Say Goodbye', 'limit': 10, 'offset': 0, 'type': 'track', 'market': None} returned 401 due to The access token expired\n",
      "HTTP Error for GET to https://api.spotify.com/v1/search with Params: {'q': 'artist:Isaac Hayes track:The Look Of Love', 'limit': 10, 'offset': 0, 'type': 'track', 'market': None} returned 401 due to The access token expired\n",
      "HTTP Error for GET to https://api.spotify.com/v1/search with Params: {'q': 'artist:Isaac Hayes track:Theme From Shaft', 'limit': 10, 'offset': 0, 'type': 'track', 'market': None} returned 401 due to The access token expired\n",
      "HTTP Error for GET to https://api.spotify.com/v1/search with Params: {'q': 'artist:Isaac Hayes track:Theme From The Men', 'limit': 10, 'offset': 0, 'type': 'track', 'market': None} returned 401 due to The access token expired\n"
     ]
    },
    {
     "name": "stdout",
     "output_type": "stream",
     "text": [
      "ERROR:   Isaac Hayes Let's Stay Together\n",
      "ERROR:   Isaac Hayes Never Can Say Goodbye\n",
      "ERROR:   Isaac Hayes The Look Of Love\n",
      "ERROR:   Isaac Hayes Theme From Shaft\n"
     ]
    },
    {
     "name": "stderr",
     "output_type": "stream",
     "text": [
      "HTTP Error for GET to https://api.spotify.com/v1/search with Params: {'q': 'artist:Isaac Hayes track:Walk On By', 'limit': 10, 'offset': 0, 'type': 'track', 'market': None} returned 401 due to The access token expired\n",
      "HTTP Error for GET to https://api.spotify.com/v1/search with Params: {'q': 'artist:Isaac Hayes track:Wonderful', 'limit': 10, 'offset': 0, 'type': 'track', 'market': None} returned 401 due to The access token expired\n",
      "HTTP Error for GET to https://api.spotify.com/v1/search with Params: {'q': \"artist:Isaac Hayes & David Porter track:Ain't That Loving You (For More Reasons Than One)\", 'limit': 10, 'offset': 0, 'type': 'track', 'market': None} returned 401 due to The access token expired\n"
     ]
    },
    {
     "name": "stdout",
     "output_type": "stream",
     "text": [
      "ERROR:   Isaac Hayes Theme From The Men\n",
      "ERROR:   Isaac Hayes Walk On By\n",
      "ERROR:   Isaac Hayes Wonderful\n",
      "ERROR:   Isaac Hayes & David Porter Ain't That Loving You (For More Reasons Than One)\n"
     ]
    },
    {
     "name": "stderr",
     "output_type": "stream",
     "text": [
      "HTTP Error for GET to https://api.spotify.com/v1/search with Params: {'q': 'artist:Isaiah Rashad Featuring Lil Uzi Vert track:From The Garden', 'limit': 10, 'offset': 0, 'type': 'track', 'market': None} returned 401 due to The access token expired\n",
      "HTTP Error for GET to https://api.spotify.com/v1/search with Params: {'q': 'artist:Isle Of Man track:Am I Forgiven', 'limit': 10, 'offset': 0, 'type': 'track', 'market': None} returned 401 due to The access token expired\n",
      "HTTP Error for GET to https://api.spotify.com/v1/search with Params: {'q': 'artist:Isley, Jasper, Isley track:Caravan Of Love', 'limit': 10, 'offset': 0, 'type': 'track', 'market': None} returned 401 due to The access token expired\n",
      "HTTP Error for GET to https://api.spotify.com/v1/search with Params: {'q': 'artist:Isley, Jasper, Isley track:Kiss and Tell', 'limit': 10, 'offset': 0, 'type': 'track', 'market': None} returned 401 due to The access token expired\n",
      "HTTP Error for GET to https://api.spotify.com/v1/search with Params: {'q': 'artist:Israel \"Popper Stopper\" Tolbert track:Big Leg Woman (With A Short Short Mini Skirt)', 'limit': 10, 'offset': 0, 'type': 'track', 'market': None} returned 401 due to The access token expired\n"
     ]
    },
    {
     "name": "stdout",
     "output_type": "stream",
     "text": [
      "ERROR:   Isaiah Rashad Featuring Lil Uzi Vert From The Garden\n",
      "11380  ERROR:   Isle Of Man Am I Forgiven\n",
      "ERROR:   Isley, Jasper, Isley Caravan Of Love\n",
      "ERROR:   Isley, Jasper, Isley Kiss and Tell\n"
     ]
    },
    {
     "name": "stderr",
     "output_type": "stream",
     "text": [
      "HTTP Error for GET to https://api.spotify.com/v1/search with Params: {'q': 'artist:Isyss track:Single For The Rest Of My Life', 'limit': 10, 'offset': 0, 'type': 'track', 'market': None} returned 401 due to The access token expired\n",
      "HTTP Error for GET to https://api.spotify.com/v1/search with Params: {'q': 'artist:Isyss Featuring Jadakiss track:Day + Night', 'limit': 10, 'offset': 0, 'type': 'track', 'market': None} returned 401 due to The access token expired\n",
      "HTTP Error for GET to https://api.spotify.com/v1/search with Params: {'q': 'artist:Ivan track:Real Wild Child', 'limit': 10, 'offset': 0, 'type': 'track', 'market': None} returned 401 due to The access token expired\n",
      "HTTP Error for GET to https://api.spotify.com/v1/search with Params: {'q': 'artist:Ivan Cornejo track:Esta Danada', 'limit': 10, 'offset': 0, 'type': 'track', 'market': None} returned 401 due to The access token expired\n"
     ]
    },
    {
     "name": "stdout",
     "output_type": "stream",
     "text": [
      "ERROR:   Israel \"Popper Stopper\" Tolbert Big Leg Woman (With A Short Short Mini Skirt)\n",
      "ERROR:   Isyss Single For The Rest Of My Life\n",
      "ERROR:   Isyss Featuring Jadakiss Day + Night\n",
      "ERROR:   Ivan Real Wild Child\n"
     ]
    },
    {
     "name": "stderr",
     "output_type": "stream",
     "text": [
      "HTTP Error for GET to https://api.spotify.com/v1/search with Params: {'q': 'artist:Ivan Neville track:Falling Out Of Love', 'limit': 10, 'offset': 0, 'type': 'track', 'market': None} returned 401 due to The access token expired\n",
      "HTTP Error for GET to https://api.spotify.com/v1/search with Params: {'q': 'artist:Ivan Neville track:Not Just Another Girl', 'limit': 10, 'offset': 0, 'type': 'track', 'market': None} returned 401 due to The access token expired\n",
      "HTTP Error for GET to https://api.spotify.com/v1/search with Params: {'q': 'artist:Ivo Robic track:The Happy Muleteer', 'limit': 10, 'offset': 0, 'type': 'track', 'market': None} returned 401 due to The access token expired\n",
      "HTTP Error for GET to https://api.spotify.com/v1/search with Params: {'q': 'artist:Ivo Robic and The Song-Masters track:Morgen', 'limit': 10, 'offset': 0, 'type': 'track', 'market': None} returned 401 due to The access token expired\n"
     ]
    },
    {
     "name": "stdout",
     "output_type": "stream",
     "text": [
      "ERROR:   Ivan Cornejo Esta Danada\n",
      "ERROR:   Ivan Neville Falling Out Of Love\n",
      "ERROR:   Ivan Neville Not Just Another Girl\n",
      "11390  ERROR:   Ivo Robic The Happy Muleteer\n"
     ]
    },
    {
     "name": "stderr",
     "output_type": "stream",
     "text": [
      "HTTP Error for GET to https://api.spotify.com/v1/search with Params: {'q': 'artist:Ivory track:Relax & Party', 'limit': 10, 'offset': 0, 'type': 'track', 'market': None} returned 401 due to The access token expired\n",
      "HTTP Error for GET to https://api.spotify.com/v1/search with Params: {'q': 'artist:Ivory Joe Hunter track:City Lights', 'limit': 10, 'offset': 0, 'type': 'track', 'market': None} returned 401 due to The access token expired\n",
      "HTTP Error for GET to https://api.spotify.com/v1/search with Params: {'q': 'artist:Ivory Joe Hunter track:Yes I Want You', 'limit': 10, 'offset': 0, 'type': 'track', 'market': None} returned 401 due to The access token expired\n"
     ]
    },
    {
     "name": "stdout",
     "output_type": "stream",
     "text": [
      "ERROR:   Ivo Robic and The Song-Masters Morgen\n",
      "ERROR:   Ivory Relax & Party\n",
      "ERROR:   Ivory Joe Hunter City Lights\n",
      "ERROR:   Ivory Joe Hunter Yes I Want You\n"
     ]
    },
    {
     "name": "stderr",
     "output_type": "stream",
     "text": [
      "HTTP Error for GET to https://api.spotify.com/v1/search with Params: {'q': 'artist:Iyaz track:Replay', 'limit': 10, 'offset': 0, 'type': 'track', 'market': None} returned 401 due to The access token expired\n",
      "HTTP Error for GET to https://api.spotify.com/v1/search with Params: {'q': 'artist:Iyaz track:Solo', 'limit': 10, 'offset': 0, 'type': 'track', 'market': None} returned 401 due to The access token expired\n",
      "HTTP Error for GET to https://api.spotify.com/v1/search with Params: {'q': 'artist:Iyaz Featuring Travie McCoy track:Pretty Girls', 'limit': 10, 'offset': 0, 'type': 'track', 'market': None} returned 401 due to The access token expired\n",
      "HTTP Error for GET to https://api.spotify.com/v1/search with Params: {'q': 'artist:J Balvin track:Ginza', 'limit': 10, 'offset': 0, 'type': 'track', 'market': None} returned 401 due to The access token expired\n"
     ]
    },
    {
     "name": "stdout",
     "output_type": "stream",
     "text": [
      "ERROR:   Iyaz Replay\n",
      "ERROR:   Iyaz Solo\n",
      "ERROR:   Iyaz Featuring Travie McCoy Pretty Girls\n",
      "ERROR:   J Balvin Ginza\n"
     ]
    },
    {
     "name": "stderr",
     "output_type": "stream",
     "text": [
      "HTTP Error for GET to https://api.spotify.com/v1/search with Params: {'q': 'artist:J Balvin & Bad Bunny track:La Cancion', 'limit': 10, 'offset': 0, 'type': 'track', 'market': None} returned 401 due to The access token expired\n",
      "HTTP Error for GET to https://api.spotify.com/v1/search with Params: {'q': 'artist:J Balvin & Bad Bunny track:Que Pretendes', 'limit': 10, 'offset': 0, 'type': 'track', 'market': None} returned 401 due to The access token expired\n",
      "HTTP Error for GET to https://api.spotify.com/v1/search with Params: {'q': 'artist:J Balvin & Skrillex track:In Da Getto', 'limit': 10, 'offset': 0, 'type': 'track', 'market': None} returned 401 due to The access token expired\n",
      "HTTP Error for GET to https://api.spotify.com/v1/search with Params: {'q': 'artist:J Balvin & Willy William Featuring Beyonce track:Mi Gente', 'limit': 10, 'offset': 0, 'type': 'track', 'market': None} returned 401 due to The access token expired\n",
      "HTTP Error for GET to https://api.spotify.com/v1/search with Params: {'q': 'artist:J Balvin, Dua Lipa, Bad Bunny & Tainy track:Un Dia (One Day)', 'limit': 10, 'offset': 0, 'type': 'track', 'market': None} returned 401 due to The access token expired\n"
     ]
    },
    {
     "name": "stdout",
     "output_type": "stream",
     "text": [
      "ERROR:   J Balvin & Bad Bunny La Cancion\n",
      "11400  \n",
      "ERROR:   J Balvin & Bad Bunny Que Pretendes\n",
      "ERROR:   J Balvin & Skrillex In Da Getto\n",
      "ERROR:   J Balvin & Willy William Featuring Beyonce Mi Gente\n"
     ]
    },
    {
     "name": "stderr",
     "output_type": "stream",
     "text": [
      "HTTP Error for GET to https://api.spotify.com/v1/search with Params: {'q': \"artist:J'Son track:I Should Cheat On You\", 'limit': 10, 'offset': 0, 'type': 'track', 'market': None} returned 401 due to The access token expired\n",
      "HTTP Error for GET to https://api.spotify.com/v1/search with Params: {'q': \"artist:J'Son track:I'll Never Stop Loving You\", 'limit': 10, 'offset': 0, 'type': 'track', 'market': None} returned 401 due to The access token expired\n",
      "HTTP Error for GET to https://api.spotify.com/v1/search with Params: {'q': \"artist:J'Son track:Take A Look\", 'limit': 10, 'offset': 0, 'type': 'track', 'market': None} returned 401 due to The access token expired\n",
      "HTTP Error for GET to https://api.spotify.com/v1/search with Params: {'q': 'artist:J-Kwon track:Tipsy', 'limit': 10, 'offset': 0, 'type': 'track', 'market': None} returned 401 due to The access token expired\n"
     ]
    },
    {
     "name": "stdout",
     "output_type": "stream",
     "text": [
      "ERROR:   J Balvin, Dua Lipa, Bad Bunny & Tainy Un Dia (One Day)\n",
      "ERROR:   J'Son I Should Cheat On You\n",
      "ERROR:   J'Son I'll Never Stop Loving You\n",
      "ERROR:   J'Son Take A Look\n"
     ]
    },
    {
     "name": "stderr",
     "output_type": "stream",
     "text": [
      "HTTP Error for GET to https://api.spotify.com/v1/search with Params: {'q': 'artist:J-Kwon Featuring Sadiyyah track:You & Me', 'limit': 10, 'offset': 0, 'type': 'track', 'market': None} returned 401 due to The access token expired\n",
      "HTTP Error for GET to https://api.spotify.com/v1/search with Params: {'q': 'artist:J-Shin Featuring LaTocha Scott track:One Night Stand', 'limit': 10, 'offset': 0, 'type': 'track', 'market': None} returned 401 due to The access token expired\n",
      "HTTP Error for GET to https://api.spotify.com/v1/search with Params: {'q': 'artist:J. Blackfoot track:Taxi', 'limit': 10, 'offset': 0, 'type': 'track', 'market': None} returned 401 due to The access token expired\n"
     ]
    },
    {
     "name": "stdout",
     "output_type": "stream",
     "text": [
      "ERROR:   J-Kwon Tipsy\n",
      "ERROR:   J-Kwon Featuring Sadiyyah You & Me\n",
      "ERROR:   J-Shin Featuring LaTocha Scott One Night Stand\n",
      "11410  ERROR:   J. Blackfoot Taxi\n"
     ]
    },
    {
     "name": "stderr",
     "output_type": "stream",
     "text": [
      "HTTP Error for GET to https://api.spotify.com/v1/search with Params: {'q': 'artist:J. Cole track:1985 (Intro To The Fall Off)', 'limit': 10, 'offset': 0, 'type': 'track', 'market': None} returned 401 due to The access token expired\n",
      "HTTP Error for GET to https://api.spotify.com/v1/search with Params: {'q': 'artist:J. Cole track:4 Your Eyez Only', 'limit': 10, 'offset': 0, 'type': 'track', 'market': None} returned 401 due to The access token expired\n",
      "HTTP Error for GET to https://api.spotify.com/v1/search with Params: {'q': 'artist:J. Cole track:95.south', 'limit': 10, 'offset': 0, 'type': 'track', 'market': None} returned 401 due to The access token expired\n",
      "HTTP Error for GET to https://api.spotify.com/v1/search with Params: {'q': 'artist:J. Cole track:ATM', 'limit': 10, 'offset': 0, 'type': 'track', 'market': None} returned 401 due to The access token expired\n",
      "HTTP Error for GET to https://api.spotify.com/v1/search with Params: {'q': 'artist:J. Cole track:Album Of The Year (Freestyle)', 'limit': 10, 'offset': 0, 'type': 'track', 'market': None} returned 401 due to The access token expired\n"
     ]
    },
    {
     "name": "stdout",
     "output_type": "stream",
     "text": [
      "ERROR:   J. Cole 1985 (Intro To The Fall Off)\n",
      "ERROR:   J. Cole 4 Your Eyez Only\n",
      "ERROR:   J. Cole 95.south\n",
      "ERROR:   J. Cole ATM\n"
     ]
    },
    {
     "name": "stderr",
     "output_type": "stream",
     "text": [
      "HTTP Error for GET to https://api.spotify.com/v1/search with Params: {'q': 'artist:J. Cole track:Apparently', 'limit': 10, 'offset': 0, 'type': 'track', 'market': None} returned 401 due to The access token expired\n",
      "HTTP Error for GET to https://api.spotify.com/v1/search with Params: {'q': 'artist:J. Cole track:Brackets', 'limit': 10, 'offset': 0, 'type': 'track', 'market': None} returned 401 due to The access token expired\n",
      "HTTP Error for GET to https://api.spotify.com/v1/search with Params: {'q': 'artist:J. Cole track:Change', 'limit': 10, 'offset': 0, 'type': 'track', 'market': None} returned 401 due to The access token expired\n"
     ]
    },
    {
     "name": "stdout",
     "output_type": "stream",
     "text": [
      "ERROR:   J. Cole Album Of The Year (Freestyle)\n",
      "ERROR:   J. Cole Apparently\n",
      "ERROR:   J. Cole Brackets\n",
      "ERROR:   J. Cole Change\n"
     ]
    },
    {
     "name": "stderr",
     "output_type": "stream",
     "text": [
      "HTTP Error for GET to https://api.spotify.com/v1/search with Params: {'q': 'artist:J. Cole track:Deja Vu', 'limit': 10, 'offset': 0, 'type': 'track', 'market': None} returned 401 due to The access token expired\n",
      "HTTP Error for GET to https://api.spotify.com/v1/search with Params: {'q': 'artist:J. Cole track:Everybody Dies', 'limit': 10, 'offset': 0, 'type': 'track', 'market': None} returned 401 due to The access token expired\n",
      "HTTP Error for GET to https://api.spotify.com/v1/search with Params: {'q': 'artist:J. Cole track:False Prophets', 'limit': 10, 'offset': 0, 'type': 'track', 'market': None} returned 401 due to The access token expired\n",
      "HTTP Error for GET to https://api.spotify.com/v1/search with Params: {'q': 'artist:J. Cole track:Foldin Clothes', 'limit': 10, 'offset': 0, 'type': 'track', 'market': None} returned 401 due to The access token expired\n"
     ]
    },
    {
     "name": "stdout",
     "output_type": "stream",
     "text": [
      "ERROR:   J. Cole Deja Vu\n",
      "11420  ERROR:   J. Cole Everybody Dies\n",
      "ERROR:   J. Cole False Prophets\n",
      "ERROR:   J. Cole Foldin Clothes\n"
     ]
    },
    {
     "name": "stderr",
     "output_type": "stream",
     "text": [
      "HTTP Error for GET to https://api.spotify.com/v1/search with Params: {'q': 'artist:J. Cole track:For Whom The Bell Tolls', 'limit': 10, 'offset': 0, 'type': 'track', 'market': None} returned 401 due to The access token expired\n",
      "HTTP Error for GET to https://api.spotify.com/v1/search with Params: {'q': 'artist:J. Cole track:Immortal', 'limit': 10, 'offset': 0, 'type': 'track', 'market': None} returned 401 due to The access token expired\n",
      "HTTP Error for GET to https://api.spotify.com/v1/search with Params: {'q': 'artist:J. Cole track:Intro', 'limit': 10, 'offset': 0, 'type': 'track', 'market': None} returned 401 due to The access token expired\n",
      "HTTP Error for GET to https://api.spotify.com/v1/search with Params: {'q': 'artist:J. Cole track:KOD', 'limit': 10, 'offset': 0, 'type': 'track', 'market': None} returned 401 due to The access token expired\n"
     ]
    },
    {
     "name": "stdout",
     "output_type": "stream",
     "text": [
      "ERROR:   J. Cole For Whom The Bell Tolls\n",
      "ERROR:   J. Cole Immortal\n",
      "ERROR:   J. Cole Intro\n",
      "ERROR:   J. Cole KOD\n"
     ]
    },
    {
     "name": "stderr",
     "output_type": "stream",
     "text": [
      "HTTP Error for GET to https://api.spotify.com/v1/search with Params: {'q': \"artist:J. Cole track:Kevin's Heart\", 'limit': 10, 'offset': 0, 'type': 'track', 'market': None} returned 401 due to The access token expired\n",
      "HTTP Error for GET to https://api.spotify.com/v1/search with Params: {'q': 'artist:J. Cole track:Lion King On Ice', 'limit': 10, 'offset': 0, 'type': 'track', 'market': None} returned 401 due to The access token expired\n",
      "HTTP Error for GET to https://api.spotify.com/v1/search with Params: {'q': 'artist:J. Cole track:Middle Child', 'limit': 10, 'offset': 0, 'type': 'track', 'market': None} returned 401 due to The access token expired\n",
      "HTTP Error for GET to https://api.spotify.com/v1/search with Params: {'q': 'artist:J. Cole track:Motiv8', 'limit': 10, 'offset': 0, 'type': 'track', 'market': None} returned 401 due to The access token expired\n"
     ]
    },
    {
     "name": "stdout",
     "output_type": "stream",
     "text": [
      "ERROR:   J. Cole Kevin's Heart\n",
      "ERROR:   J. Cole Lion King On Ice\n",
      "ERROR:   J. Cole Middle Child\n",
      "11430  ERROR:   J. Cole Motiv8\n"
     ]
    },
    {
     "name": "stderr",
     "output_type": "stream",
     "text": [
      "HTTP Error for GET to https://api.spotify.com/v1/search with Params: {'q': 'artist:J. Cole track:Neighbors', 'limit': 10, 'offset': 0, 'type': 'track', 'market': None} returned 401 due to The access token expired\n",
      "HTTP Error for GET to https://api.spotify.com/v1/search with Params: {'q': 'artist:J. Cole track:No Role Modelz', 'limit': 10, 'offset': 0, 'type': 'track', 'market': None} returned 401 due to The access token expired\n",
      "HTTP Error for GET to https://api.spotify.com/v1/search with Params: {'q': 'artist:J. Cole track:Once An Addict (Interlude)', 'limit': 10, 'offset': 0, 'type': 'track', 'market': None} returned 401 due to The access token expired\n",
      "HTTP Error for GET to https://api.spotify.com/v1/search with Params: {'q': 'artist:J. Cole track:Photograph', 'limit': 10, 'offset': 0, 'type': 'track', 'market': None} returned 401 due to The access token expired\n"
     ]
    },
    {
     "name": "stdout",
     "output_type": "stream",
     "text": [
      "ERROR:   J. Cole Neighbors\n",
      "ERROR:   J. Cole No Role Modelz\n",
      "ERROR:   J. Cole Once An Addict (Interlude)\n",
      "ERROR:   J. Cole Photograph\n"
     ]
    },
    {
     "name": "stderr",
     "output_type": "stream",
     "text": [
      "HTTP Error for GET to https://api.spotify.com/v1/search with Params: {'q': \"artist:J. Cole track:She's Mine Pt. 1\", 'limit': 10, 'offset': 0, 'type': 'track', 'market': None} returned 401 due to The access token expired\n",
      "HTTP Error for GET to https://api.spotify.com/v1/search with Params: {'q': \"artist:J. Cole track:She's Mine Pt. 2\", 'limit': 10, 'offset': 0, 'type': 'track', 'market': None} returned 401 due to The access token expired\n",
      "HTTP Error for GET to https://api.spotify.com/v1/search with Params: {'q': 'artist:J. Cole track:Snow On Tha Bluff', 'limit': 10, 'offset': 0, 'type': 'track', 'market': None} returned 401 due to The access token expired\n",
      "HTTP Error for GET to https://api.spotify.com/v1/search with Params: {'q': 'artist:J. Cole track:The Climb Back', 'limit': 10, 'offset': 0, 'type': 'track', 'market': None} returned 401 due to The access token expired\n"
     ]
    },
    {
     "name": "stdout",
     "output_type": "stream",
     "text": [
      "ERROR:   J. Cole She's Mine Pt. 1\n",
      "ERROR:   J. Cole She's Mine Pt. 2\n",
      "ERROR:   J. Cole Snow On Tha Bluff\n",
      "ERROR:   J. Cole The Climb Back\n"
     ]
    },
    {
     "name": "stderr",
     "output_type": "stream",
     "text": [
      "HTTP Error for GET to https://api.spotify.com/v1/search with Params: {'q': 'artist:J. Cole track:Ville Mentality', 'limit': 10, 'offset': 0, 'type': 'track', 'market': None} returned 401 due to The access token expired\n",
      "HTTP Error for GET to https://api.spotify.com/v1/search with Params: {'q': 'artist:J. Cole track:Wet Dreamz', 'limit': 10, 'offset': 0, 'type': 'track', 'market': None} returned 401 due to The access token expired\n",
      "HTTP Error for GET to https://api.spotify.com/v1/search with Params: {'q': 'artist:J. Cole track:Who Dat', 'limit': 10, 'offset': 0, 'type': 'track', 'market': None} returned 401 due to The access token expired\n",
      "HTTP Error for GET to https://api.spotify.com/v1/search with Params: {'q': 'artist:J. Cole track:Window Pain (Outro)', 'limit': 10, 'offset': 0, 'type': 'track', 'market': None} returned 401 due to The access token expired\n",
      "HTTP Error for GET to https://api.spotify.com/v1/search with Params: {'q': 'artist:J. Cole track:Work Out', 'limit': 10, 'offset': 0, 'type': 'track', 'market': None} returned 401 due to The access token expired\n"
     ]
    },
    {
     "name": "stdout",
     "output_type": "stream",
     "text": [
      "ERROR:   J. Cole Ville Mentality\n",
      "11440  ERROR:   J. Cole Wet Dreamz\n",
      "ERROR:   J. Cole Who Dat\n",
      "ERROR:   J. Cole Window Pain (Outro)\n"
     ]
    },
    {
     "name": "stderr",
     "output_type": "stream",
     "text": [
      "HTTP Error for GET to https://api.spotify.com/v1/search with Params: {'q': 'artist:J. Cole track:amari', 'limit': 10, 'offset': 0, 'type': 'track', 'market': None} returned 401 due to The access token expired\n",
      "HTTP Error for GET to https://api.spotify.com/v1/search with Params: {'q': 'artist:J. Cole track:applying.pressure', 'limit': 10, 'offset': 0, 'type': 'track', 'market': None} returned 401 due to The access token expired\n",
      "HTTP Error for GET to https://api.spotify.com/v1/search with Params: {'q': 'artist:J. Cole track:close', 'limit': 10, 'offset': 0, 'type': 'track', 'market': None} returned 401 due to The access token expired\n"
     ]
    },
    {
     "name": "stdout",
     "output_type": "stream",
     "text": [
      "ERROR:   J. Cole Work Out\n",
      "ERROR:   J. Cole amari\n",
      "ERROR:   J. Cole applying.pressure\n",
      "ERROR:   J. Cole close\n"
     ]
    },
    {
     "name": "stderr",
     "output_type": "stream",
     "text": [
      "HTTP Error for GET to https://api.spotify.com/v1/search with Params: {'q': 'artist:J. Cole track:interlude', 'limit': 10, 'offset': 0, 'type': 'track', 'market': None} returned 401 due to The access token expired\n",
      "HTTP Error for GET to https://api.spotify.com/v1/search with Params: {'q': \"artist:J. Cole track:punchin'.the.clock\", 'limit': 10, 'offset': 0, 'type': 'track', 'market': None} returned 401 due to The access token expired\n",
      "HTTP Error for GET to https://api.spotify.com/v1/search with Params: {'q': 'artist:J. Cole track:the.climb.back', 'limit': 10, 'offset': 0, 'type': 'track', 'market': None} returned 401 due to The access token expired\n",
      "HTTP Error for GET to https://api.spotify.com/v1/search with Params: {'q': \"artist:J. Cole & Bas track:100.mil'\", 'limit': 10, 'offset': 0, 'type': 'track', 'market': None} returned 401 due to The access token expired\n"
     ]
    },
    {
     "name": "stdout",
     "output_type": "stream",
     "text": [
      "ERROR:   J. Cole interlude\n",
      "ERROR:   J. Cole punchin'.the.clock\n",
      "ERROR:   J. Cole the.climb.back\n",
      "11450  ERROR:   J. Cole & Bas 100.mil'\n"
     ]
    },
    {
     "name": "stderr",
     "output_type": "stream",
     "text": [
      "HTTP Error for GET to https://api.spotify.com/v1/search with Params: {'q': 'artist:J. Cole & Bas track:hunger.on.hillside', 'limit': 10, 'offset': 0, 'type': 'track', 'market': None} returned 401 due to The access token expired\n",
      "HTTP Error for GET to https://api.spotify.com/v1/search with Params: {'q': 'artist:J. Cole & Lil Baby track:pride.is.the.devil', 'limit': 10, 'offset': 0, 'type': 'track', 'market': None} returned 401 due to The access token expired\n",
      "HTTP Error for GET to https://api.spotify.com/v1/search with Params: {'q': 'artist:J. Cole Featuring Amber Coffman & The Cults track:She Knows', 'limit': 10, 'offset': 0, 'type': 'track', 'market': None} returned 401 due to The access token expired\n",
      "HTTP Error for GET to https://api.spotify.com/v1/search with Params: {'q': 'artist:J. Cole Featuring Miguel track:Power Trip', 'limit': 10, 'offset': 0, 'type': 'track', 'market': None} returned 401 due to The access token expired\n",
      "HTTP Error for GET to https://api.spotify.com/v1/search with Params: {'q': \"artist:J. Cole Featuring Missy Elliott track:Nobody's Perfect\", 'limit': 10, 'offset': 0, 'type': 'track', 'market': None} returned 401 due to The access token expired\n"
     ]
    },
    {
     "name": "stdout",
     "output_type": "stream",
     "text": [
      "ERROR:   J. Cole & Bas hunger.on.hillside\n",
      "ERROR:   J. Cole & Lil Baby pride.is.the.devil\n",
      "ERROR:   J. Cole Featuring Amber Coffman & The Cults She Knows\n",
      "ERROR:   J. Cole Featuring Miguel Power Trip\n"
     ]
    },
    {
     "name": "stderr",
     "output_type": "stream",
     "text": [
      "HTTP Error for GET to https://api.spotify.com/v1/search with Params: {'q': 'artist:J. Cole Featuring TLC track:Crooked Smile', 'limit': 10, 'offset': 0, 'type': 'track', 'market': None} returned 401 due to The access token expired\n",
      "HTTP Error for GET to https://api.spotify.com/v1/search with Params: {'q': \"artist:J. Cole Featuring Trey Songz track:Can't Get Enough\", 'limit': 10, 'offset': 0, 'type': 'track', 'market': None} returned 401 due to The access token expired\n",
      "HTTP Error for GET to https://api.spotify.com/v1/search with Params: {'q': 'artist:J. Cole Featuring kiLL edward track:Friends', 'limit': 10, 'offset': 0, 'type': 'track', 'market': None} returned 401 due to The access token expired\n"
     ]
    },
    {
     "name": "stdout",
     "output_type": "stream",
     "text": [
      "ERROR:   J. Cole Featuring Missy Elliott Nobody's Perfect\n",
      "ERROR:   J. Cole Featuring TLC Crooked Smile\n",
      "ERROR:   J. Cole Featuring Trey Songz Can't Get Enough\n",
      "ERROR:   J. Cole Featuring kiLL edward Friends\n"
     ]
    },
    {
     "name": "stderr",
     "output_type": "stream",
     "text": [
      "HTTP Error for GET to https://api.spotify.com/v1/search with Params: {'q': 'artist:J. Cole Featuring kiLL edward track:The Cut Off', 'limit': 10, 'offset': 0, 'type': 'track', 'market': None} returned 401 due to The access token expired\n",
      "HTTP Error for GET to https://api.spotify.com/v1/search with Params: {'q': 'artist:J. Cole, 21 Savage & Morray track:my.life', 'limit': 10, 'offset': 0, 'type': 'track', 'market': None} returned 401 due to The access token expired\n",
      "HTTP Error for GET to https://api.spotify.com/v1/search with Params: {'q': 'artist:J. Cole, Bas & 6LACK track:let.go.my.hand', 'limit': 10, 'offset': 0, 'type': 'track', 'market': None} returned 401 due to The access token expired\n",
      "HTTP Error for GET to https://api.spotify.com/v1/search with Params: {'q': 'artist:J. Dash track:Wop', 'limit': 10, 'offset': 0, 'type': 'track', 'market': None} returned 401 due to The access token expired\n",
      "HTTP Error for GET to https://api.spotify.com/v1/search with Params: {'q': 'artist:J. Frank Wilson and The Cavaliers track:Hey Little One', 'limit': 10, 'offset': 0, 'type': 'track', 'market': None} returned 401 due to The access token expired\n"
     ]
    },
    {
     "name": "stdout",
     "output_type": "stream",
     "text": [
      "ERROR:   J. Cole Featuring kiLL edward The Cut Off\n",
      "11460  ERROR:   J. Cole, 21 Savage & Morray my.life\n",
      "ERROR:   J. Cole, Bas & 6LACK let.go.my.hand\n",
      "ERROR:   J. Dash Wop\n"
     ]
    },
    {
     "name": "stderr",
     "output_type": "stream",
     "text": [
      "HTTP Error for GET to https://api.spotify.com/v1/search with Params: {'q': 'artist:J. Frank Wilson and The Cavaliers track:Last Kiss', 'limit': 10, 'offset': 0, 'type': 'track', 'market': None} returned 401 due to The access token expired\n",
      "HTTP Error for GET to https://api.spotify.com/v1/search with Params: {'q': 'artist:J. Holiday track:Bed', 'limit': 10, 'offset': 0, 'type': 'track', 'market': None} returned 401 due to The access token expired\n",
      "HTTP Error for GET to https://api.spotify.com/v1/search with Params: {'q': 'artist:J. Holiday track:Suffocate', 'limit': 10, 'offset': 0, 'type': 'track', 'market': None} returned 401 due to The access token expired\n"
     ]
    },
    {
     "name": "stdout",
     "output_type": "stream",
     "text": [
      "ERROR:   J. Frank Wilson and The Cavaliers Hey Little One\n",
      "ERROR:   J. Frank Wilson and The Cavaliers Last Kiss\n",
      "ERROR:   J. Holiday Bed\n",
      "ERROR:   J. Holiday Suffocate\n"
     ]
    },
    {
     "name": "stderr",
     "output_type": "stream",
     "text": [
      "HTTP Error for GET to https://api.spotify.com/v1/search with Params: {'q': \"artist:J.D. Drews track:Don't Want No-Body\", 'limit': 10, 'offset': 0, 'type': 'track', 'market': None} returned 401 due to The access token expired\n",
      "HTTP Error for GET to https://api.spotify.com/v1/search with Params: {'q': \"artist:J.D. Souther track:You're Only Lonely\", 'limit': 10, 'offset': 0, 'type': 'track', 'market': None} returned 401 due to The access token expired\n",
      "HTTP Error for GET to https://api.spotify.com/v1/search with Params: {'q': 'artist:J.I The Prince Of N.Y track:Need Me', 'limit': 10, 'offset': 0, 'type': 'track', 'market': None} returned 401 due to The access token expired\n",
      "HTTP Error for GET to https://api.spotify.com/v1/search with Params: {'q': 'artist:J.J. Barnes track:Baby Please Come Back Home', 'limit': 10, 'offset': 0, 'type': 'track', 'market': None} returned 401 due to The access token expired\n"
     ]
    },
    {
     "name": "stdout",
     "output_type": "stream",
     "text": [
      "ERROR:   J.D. Drews Don't Want No-Body\n",
      "ERROR:   J.D. Souther You're Only Lonely\n",
      "ERROR:   J.I The Prince Of N.Y Need Me\n",
      "11470  ERROR:   J.J. Barnes Baby Please Come Back Home\n"
     ]
    },
    {
     "name": "stderr",
     "output_type": "stream",
     "text": [
      "HTTP Error for GET to https://api.spotify.com/v1/search with Params: {'q': 'artist:J.J. Barnes track:Real Humdinger', 'limit': 10, 'offset': 0, 'type': 'track', 'market': None} returned 401 due to The access token expired\n",
      "HTTP Error for GET to https://api.spotify.com/v1/search with Params: {'q': 'artist:J.J. Cale track:After Midnight', 'limit': 10, 'offset': 0, 'type': 'track', 'market': None} returned 401 due to The access token expired\n",
      "HTTP Error for GET to https://api.spotify.com/v1/search with Params: {'q': 'artist:J.J. Cale track:Crazy Mama', 'limit': 10, 'offset': 0, 'type': 'track', 'market': None} returned 401 due to The access token expired\n",
      "HTTP Error for GET to https://api.spotify.com/v1/search with Params: {'q': 'artist:J.J. Cale track:Hey Baby', 'limit': 10, 'offset': 0, 'type': 'track', 'market': None} returned 401 due to The access token expired\n"
     ]
    },
    {
     "name": "stdout",
     "output_type": "stream",
     "text": [
      "ERROR:   J.J. Barnes Real Humdinger\n",
      "ERROR:   J.J. Cale After Midnight\n",
      "ERROR:   J.J. Cale Crazy Mama\n",
      "ERROR:   J.J. Cale Hey Baby\n"
     ]
    },
    {
     "name": "stderr",
     "output_type": "stream",
     "text": [
      "HTTP Error for GET to https://api.spotify.com/v1/search with Params: {'q': 'artist:J.J. Cale track:Lies', 'limit': 10, 'offset': 0, 'type': 'track', 'market': None} returned 401 due to The access token expired\n",
      "HTTP Error for GET to https://api.spotify.com/v1/search with Params: {'q': 'artist:J.J. Fad track:Is It Love', 'limit': 10, 'offset': 0, 'type': 'track', 'market': None} returned 401 due to The access token expired\n",
      "HTTP Error for GET to https://api.spotify.com/v1/search with Params: {'q': 'artist:J.J. Fad track:Supersonic', 'limit': 10, 'offset': 0, 'type': 'track', 'market': None} returned 401 due to The access token expired\n",
      "HTTP Error for GET to https://api.spotify.com/v1/search with Params: {'q': 'artist:J.J. Fad track:Way Out', 'limit': 10, 'offset': 0, 'type': 'track', 'market': None} returned 401 due to The access token expired\n",
      "HTTP Error for GET to https://api.spotify.com/v1/search with Params: {'q': \"artist:J.J. Jackson track:But It's Alright\", 'limit': 10, 'offset': 0, 'type': 'track', 'market': None} returned 401 due to The access token expired\n"
     ]
    },
    {
     "name": "stdout",
     "output_type": "stream",
     "text": [
      "ERROR:   J.J. Cale Lies\n",
      "ERROR:   J.J. Fad Is It Love\n",
      "ERROR:   J.J. Fad Supersonic\n",
      "ERROR:   J.J. Fad Way Out\n"
     ]
    },
    {
     "name": "stderr",
     "output_type": "stream",
     "text": [
      "HTTP Error for GET to https://api.spotify.com/v1/search with Params: {'q': 'artist:J.J. Jackson track:I Dig Girls', 'limit': 10, 'offset': 0, 'type': 'track', 'market': None} returned 401 due to The access token expired\n",
      "HTTP Error for GET to https://api.spotify.com/v1/search with Params: {'q': 'artist:JACKBOYS & Sheck Wes track:GANG GANG', 'limit': 10, 'offset': 0, 'type': 'track', 'market': None} returned 401 due to The access token expired\n",
      "HTTP Error for GET to https://api.spotify.com/v1/search with Params: {'q': 'artist:JACKBOYS Featuring Don Toliver track:WHAT TO DO?', 'limit': 10, 'offset': 0, 'type': 'track', 'market': None} returned 401 due to The access token expired\n"
     ]
    },
    {
     "name": "stdout",
     "output_type": "stream",
     "text": [
      "ERROR:   J.J. Jackson But It's Alright\n",
      "11480  ERROR:   J.J. Jackson I Dig Girls\n",
      "ERROR:   JACKBOYS & Sheck Wes GANG GANG\n",
      "ERROR:   JACKBOYS Featuring Don Toliver WHAT TO DO?\n"
     ]
    },
    {
     "name": "stderr",
     "output_type": "stream",
     "text": [
      "HTTP Error for GET to https://api.spotify.com/v1/search with Params: {'q': 'artist:JACKBOYS Featuring Young Thug track:Out West', 'limit': 10, 'offset': 0, 'type': 'track', 'market': None} returned 401 due to The access token expired\n",
      "HTTP Error for GET to https://api.spotify.com/v1/search with Params: {'q': 'artist:JACKBOYS, Pop Smoke & Travis Scott track:GATTI', 'limit': 10, 'offset': 0, 'type': 'track', 'market': None} returned 401 due to The access token expired\n",
      "HTTP Error for GET to https://api.spotify.com/v1/search with Params: {'q': 'artist:JAY-Z track:4:44', 'limit': 10, 'offset': 0, 'type': 'track', 'market': None} returned 401 due to The access token expired\n",
      "HTTP Error for GET to https://api.spotify.com/v1/search with Params: {'q': 'artist:JAY-Z track:99 Problems', 'limit': 10, 'offset': 0, 'type': 'track', 'market': None} returned 401 due to The access token expired\n",
      "HTTP Error for GET to https://api.spotify.com/v1/search with Params: {'q': 'artist:JAY-Z track:Anything', 'limit': 10, 'offset': 0, 'type': 'track', 'market': None} returned 401 due to The access token expired\n"
     ]
    },
    {
     "name": "stdout",
     "output_type": "stream",
     "text": [
      "ERROR:   JACKBOYS Featuring Young Thug Out West\n",
      "ERROR:   JACKBOYS, Pop Smoke & Travis Scott GATTI\n",
      "ERROR:   JAY-Z 4:44\n",
      "ERROR:   JAY-Z 99 Problems\n"
     ]
    },
    {
     "name": "stderr",
     "output_type": "stream",
     "text": [
      "HTTP Error for GET to https://api.spotify.com/v1/search with Params: {'q': 'artist:JAY-Z track:Blue Magic', 'limit': 10, 'offset': 0, 'type': 'track', 'market': None} returned 401 due to The access token expired\n",
      "HTTP Error for GET to https://api.spotify.com/v1/search with Params: {'q': \"artist:JAY-Z track:Can't Knock The Hustle\", 'limit': 10, 'offset': 0, 'type': 'track', 'market': None} returned 401 due to The access token expired\n",
      "HTTP Error for GET to https://api.spotify.com/v1/search with Params: {'q': 'artist:JAY-Z track:Change Clothes', 'limit': 10, 'offset': 0, 'type': 'track', 'market': None} returned 401 due to The access token expired\n",
      "HTTP Error for GET to https://api.spotify.com/v1/search with Params: {'q': 'artist:JAY-Z track:Crown', 'limit': 10, 'offset': 0, 'type': 'track', 'market': None} returned 401 due to The access token expired\n"
     ]
    },
    {
     "name": "stdout",
     "output_type": "stream",
     "text": [
      "ERROR:   JAY-Z Anything\n",
      "ERROR:   JAY-Z Blue Magic\n",
      "ERROR:   JAY-Z Can't Knock The Hustle\n",
      "11490  ERROR:   JAY-Z Change Clothes\n"
     ]
    },
    {
     "name": "stderr",
     "output_type": "stream",
     "text": [
      "HTTP Error for GET to https://api.spotify.com/v1/search with Params: {'q': 'artist:JAY-Z track:D.O.A. (Death Of Auto-Tune)', 'limit': 10, 'offset': 0, 'type': 'track', 'market': None} returned 401 due to The access token expired\n",
      "HTTP Error for GET to https://api.spotify.com/v1/search with Params: {'q': 'artist:JAY-Z track:Dirt Off Your Shoulder', 'limit': 10, 'offset': 0, 'type': 'track', 'market': None} returned 401 due to The access token expired\n",
      "HTTP Error for GET to https://api.spotify.com/v1/search with Params: {'q': 'artist:JAY-Z track:Excuse Me Miss', 'limit': 10, 'offset': 0, 'type': 'track', 'market': None} returned 401 due to The access token expired\n"
     ]
    },
    {
     "name": "stdout",
     "output_type": "stream",
     "text": [
      "ERROR:   JAY-Z Crown\n",
      "ERROR:   JAY-Z D.O.A. (Death Of Auto-Tune)\n",
      "ERROR:   JAY-Z Dirt Off Your Shoulder\n",
      "ERROR:   JAY-Z Excuse Me Miss\n"
     ]
    },
    {
     "name": "stderr",
     "output_type": "stream",
     "text": [
      "HTTP Error for GET to https://api.spotify.com/v1/search with Params: {'q': \"artist:JAY-Z track:Feelin' It\", 'limit': 10, 'offset': 0, 'type': 'track', 'market': None} returned 401 due to The access token expired\n",
      "HTTP Error for GET to https://api.spotify.com/v1/search with Params: {'q': \"artist:JAY-Z track:Girls' Best Friend\", 'limit': 10, 'offset': 0, 'type': 'track', 'market': None} returned 401 due to The access token expired\n",
      "HTTP Error for GET to https://api.spotify.com/v1/search with Params: {'q': 'artist:JAY-Z track:Girls, Girls, Girls', 'limit': 10, 'offset': 0, 'type': 'track', 'market': None} returned 401 due to The access token expired\n",
      "HTTP Error for GET to https://api.spotify.com/v1/search with Params: {'q': 'artist:JAY-Z track:Hard Knock Life (Ghetto Anthem)', 'limit': 10, 'offset': 0, 'type': 'track', 'market': None} returned 401 due to The access token expired\n"
     ]
    },
    {
     "name": "stdout",
     "output_type": "stream",
     "text": [
      "ERROR:   JAY-Z Feelin' It\n",
      "ERROR:   JAY-Z Girls' Best Friend\n",
      "ERROR:   JAY-Z Girls, Girls, Girls\n",
      "ERROR:   JAY-Z Hard Knock Life (Ghetto Anthem)\n"
     ]
    },
    {
     "name": "stderr",
     "output_type": "stream",
     "text": [
      "HTTP Error for GET to https://api.spotify.com/v1/search with Params: {'q': 'artist:JAY-Z track:I Just Wanna Love U (Give It 2 Me)', 'limit': 10, 'offset': 0, 'type': 'track', 'market': None} returned 401 due to The access token expired\n",
      "HTTP Error for GET to https://api.spotify.com/v1/search with Params: {'q': 'artist:JAY-Z track:Izzo (H.O.V.A.)', 'limit': 10, 'offset': 0, 'type': 'track', 'market': None} returned 401 due to The access token expired\n",
      "HTTP Error for GET to https://api.spotify.com/v1/search with Params: {'q': 'artist:JAY-Z track:Jigga', 'limit': 10, 'offset': 0, 'type': 'track', 'market': None} returned 401 due to The access token expired\n",
      "HTTP Error for GET to https://api.spotify.com/v1/search with Params: {'q': 'artist:JAY-Z track:Jigga My N****', 'limit': 10, 'offset': 0, 'type': 'track', 'market': None} returned 401 due to The access token expired\n",
      "HTTP Error for GET to https://api.spotify.com/v1/search with Params: {'q': 'artist:JAY-Z track:Kill Jay Z', 'limit': 10, 'offset': 0, 'type': 'track', 'market': None} returned 401 due to The access token expired\n"
     ]
    },
    {
     "name": "stdout",
     "output_type": "stream",
     "text": [
      "ERROR:   JAY-Z I Just Wanna Love U (Give It 2 Me)\n",
      "11500  \n",
      "ERROR:   JAY-Z Izzo (H.O.V.A.)\n",
      "ERROR:   JAY-Z Jigga\n",
      "ERROR:   JAY-Z Jigga My N****\n"
     ]
    },
    {
     "name": "stderr",
     "output_type": "stream",
     "text": [
      "HTTP Error for GET to https://api.spotify.com/v1/search with Params: {'q': 'artist:JAY-Z track:Kingdom Come', 'limit': 10, 'offset': 0, 'type': 'track', 'market': None} returned 401 due to The access token expired\n",
      "HTTP Error for GET to https://api.spotify.com/v1/search with Params: {'q': 'artist:JAY-Z track:Marcy Me', 'limit': 10, 'offset': 0, 'type': 'track', 'market': None} returned 401 due to The access token expired\n",
      "HTTP Error for GET to https://api.spotify.com/v1/search with Params: {'q': 'artist:JAY-Z track:Moonlight', 'limit': 10, 'offset': 0, 'type': 'track', 'market': None} returned 401 due to The access token expired\n"
     ]
    },
    {
     "name": "stdout",
     "output_type": "stream",
     "text": [
      "ERROR:   JAY-Z Kill Jay Z\n",
      "ERROR:   JAY-Z Kingdom Come\n",
      "ERROR:   JAY-Z Marcy Me\n",
      "ERROR:   JAY-Z Moonlight\n"
     ]
    },
    {
     "name": "stderr",
     "output_type": "stream",
     "text": [
      "HTTP Error for GET to https://api.spotify.com/v1/search with Params: {'q': 'artist:JAY-Z track:Picasso Baby', 'limit': 10, 'offset': 0, 'type': 'track', 'market': None} returned 401 due to The access token expired\n",
      "HTTP Error for GET to https://api.spotify.com/v1/search with Params: {'q': 'artist:JAY-Z track:Roc Boys (And The Winner Is)...', 'limit': 10, 'offset': 0, 'type': 'track', 'market': None} returned 401 due to The access token expired\n",
      "HTTP Error for GET to https://api.spotify.com/v1/search with Params: {'q': 'artist:JAY-Z track:Show Me What You Got', 'limit': 10, 'offset': 0, 'type': 'track', 'market': None} returned 401 due to The access token expired\n",
      "HTTP Error for GET to https://api.spotify.com/v1/search with Params: {'q': 'artist:JAY-Z track:The Story Of O.J.', 'limit': 10, 'offset': 0, 'type': 'track', 'market': None} returned 401 due to The access token expired\n"
     ]
    },
    {
     "name": "stdout",
     "output_type": "stream",
     "text": [
      "ERROR:   JAY-Z Picasso Baby\n",
      "ERROR:   JAY-Z Roc Boys (And The Winner Is)...\n",
      "ERROR:   JAY-Z Show Me What You Got\n",
      "11510  ERROR:   JAY-Z The Story Of O.J.\n"
     ]
    },
    {
     "name": "stderr",
     "output_type": "stream",
     "text": [
      "HTTP Error for GET to https://api.spotify.com/v1/search with Params: {'q': 'artist:JAY-Z track:Tom Ford', 'limit': 10, 'offset': 0, 'type': 'track', 'market': None} returned 401 due to The access token expired\n",
      "HTTP Error for GET to https://api.spotify.com/v1/search with Params: {'q': 'artist:JAY-Z track:Who You Wit (From \"Sprung\")', 'limit': 10, 'offset': 0, 'type': 'track', 'market': None} returned 401 due to The access token expired\n",
      "HTTP Error for GET to https://api.spotify.com/v1/search with Params: {'q': 'artist:JAY-Z Featuring Beyonce track:Family Feud', 'limit': 10, 'offset': 0, 'type': 'track', 'market': None} returned 401 due to The access token expired\n",
      "HTTP Error for GET to https://api.spotify.com/v1/search with Params: {'q': 'artist:JAY-Z Featuring Damian \"Jr. Gong\" Marely track:Bam', 'limit': 10, 'offset': 0, 'type': 'track', 'market': None} returned 401 due to The access token expired\n"
     ]
    },
    {
     "name": "stdout",
     "output_type": "stream",
     "text": [
      "ERROR:   JAY-Z Tom Ford\n",
      "ERROR:   JAY-Z Who You Wit (From \"Sprung\")\n",
      "ERROR:   JAY-Z Featuring Beyonce Family Feud\n",
      "ERROR:   JAY-Z Featuring Damian \"Jr. Gong\" Marely Bam\n"
     ]
    },
    {
     "name": "stderr",
     "output_type": "stream",
     "text": [
      "HTTP Error for GET to https://api.spotify.com/v1/search with Params: {'q': 'artist:JAY-Z Featuring Frank Ocean track:Caught Their Eyes', 'limit': 10, 'offset': 0, 'type': 'track', 'market': None} returned 401 due to The access token expired\n",
      "HTTP Error for GET to https://api.spotify.com/v1/search with Params: {'q': 'artist:JAY-Z Featuring Gloria Carter track:Smile', 'limit': 10, 'offset': 0, 'type': 'track', 'market': None} returned 401 due to The access token expired\n",
      "HTTP Error for GET to https://api.spotify.com/v1/search with Params: {'q': \"artist:JC Chasez track:Blowin' Me Up (With Her Love)\", 'limit': 10, 'offset': 0, 'type': 'track', 'market': None} returned 401 due to The access token expired\n",
      "HTTP Error for GET to https://api.spotify.com/v1/search with Params: {'q': 'artist:JC Chasez Featuring Dirt McGirt track:Some Girls (Dance With Women)', 'limit': 10, 'offset': 0, 'type': 'track', 'market': None} returned 401 due to The access token expired\n"
     ]
    },
    {
     "name": "stdout",
     "output_type": "stream",
     "text": [
      "ERROR:   JAY-Z Featuring Frank Ocean Caught Their Eyes\n",
      "ERROR:   JAY-Z Featuring Gloria Carter Smile\n",
      "ERROR:   JC Chasez Blowin' Me Up (With Her Love)\n",
      "ERROR:   JC Chasez Featuring Dirt McGirt Some Girls (Dance With Women)\n"
     ]
    },
    {
     "name": "stderr",
     "output_type": "stream",
     "text": [
      "HTTP Error for GET to https://api.spotify.com/v1/search with Params: {'q': 'artist:JD Featuring Da Brat track:The Party Continues', 'limit': 10, 'offset': 0, 'type': 'track', 'market': None} returned 401 due to The access token expired\n",
      "HTTP Error for GET to https://api.spotify.com/v1/search with Params: {'q': \"artist:JD Featuring Jay-Z track:Money Ain't A Thang\", 'limit': 10, 'offset': 0, 'type': 'track', 'market': None} returned 401 due to The access token expired\n",
      "HTTP Error for GET to https://api.spotify.com/v1/search with Params: {'q': 'artist:JP Saxe Featuring Julia Michaels track:If The World Was Ending', 'limit': 10, 'offset': 0, 'type': 'track', 'market': None} returned 401 due to The access token expired\n",
      "HTTP Error for GET to https://api.spotify.com/v1/search with Params: {'q': 'artist:JT Money Featuring Sole track:Who Dat', 'limit': 10, 'offset': 0, 'type': 'track', 'market': None} returned 401 due to The access token expired\n",
      "HTTP Error for GET to https://api.spotify.com/v1/search with Params: {'q': 'artist:Ja Rule track:Clap Back', 'limit': 10, 'offset': 0, 'type': 'track', 'market': None} returned 401 due to The access token expired\n"
     ]
    },
    {
     "name": "stdout",
     "output_type": "stream",
     "text": [
      "ERROR:   JD Featuring Da Brat The Party Continues\n",
      "11520  ERROR:   JD Featuring Jay-Z Money Ain't A Thang\n",
      "ERROR:   JP Saxe Featuring Julia Michaels If The World Was Ending\n",
      "ERROR:   JT Money Featuring Sole Who Dat\n"
     ]
    },
    {
     "name": "stderr",
     "output_type": "stream",
     "text": [
      "HTTP Error for GET to https://api.spotify.com/v1/search with Params: {'q': 'artist:Ja Rule track:Holla Holla', 'limit': 10, 'offset': 0, 'type': 'track', 'market': None} returned 401 due to The access token expired\n",
      "HTTP Error for GET to https://api.spotify.com/v1/search with Params: {'q': 'artist:Ja Rule Featuring Ashanti track:Always On Time', 'limit': 10, 'offset': 0, 'type': 'track', 'market': None} returned 401 due to The access token expired\n"
     ]
    },
    {
     "name": "stdout",
     "output_type": "stream",
     "text": [
      "ERROR:   Ja Rule Clap Back\n",
      "ERROR:   Ja Rule Holla Holla\n",
      "ERROR:   Ja Rule Featuring Ashanti Always On Time\n"
     ]
    },
    {
     "name": "stderr",
     "output_type": "stream",
     "text": [
      "HTTP Error for GET to https://api.spotify.com/v1/search with Params: {'q': 'artist:Ja Rule Featuring Ashanti track:Mesmerize', 'limit': 10, 'offset': 0, 'type': 'track', 'market': None} returned 401 due to The access token expired\n",
      "HTTP Error for GET to https://api.spotify.com/v1/search with Params: {'q': \"artist:Ja Rule Featuring Bobby Brown track:Thug Lovin'\", 'limit': 10, 'offset': 0, 'type': 'track', 'market': None} returned 401 due to The access token expired\n",
      "HTTP Error for GET to https://api.spotify.com/v1/search with Params: {'q': \"artist:Ja Rule Featuring Case track:Livin' It Up\", 'limit': 10, 'offset': 0, 'type': 'track', 'market': None} returned 401 due to The access token expired\n",
      "HTTP Error for GET to https://api.spotify.com/v1/search with Params: {'q': 'artist:Ja Rule Featuring Charli \"Chuck\" Baltimore track:Down A** Chick', 'limit': 10, 'offset': 0, 'type': 'track', 'market': None} returned 401 due to The access token expired\n"
     ]
    },
    {
     "name": "stdout",
     "output_type": "stream",
     "text": [
      "ERROR:   Ja Rule Featuring Ashanti Mesmerize\n",
      "ERROR:   Ja Rule Featuring Bobby Brown Thug Lovin'\n",
      "ERROR:   Ja Rule Featuring Case Livin' It Up\n",
      "ERROR:   Ja Rule Featuring Charli \"Chuck\" Baltimore Down A** Chick\n",
      "11530  "
     ]
    },
    {
     "name": "stderr",
     "output_type": "stream",
     "text": [
      "HTTP Error for GET to https://api.spotify.com/v1/search with Params: {'q': 'artist:Ja Rule Featuring Christina Milian track:Between Me And You', 'limit': 10, 'offset': 0, 'type': 'track', 'market': None} returned 401 due to The access token expired\n",
      "HTTP Error for GET to https://api.spotify.com/v1/search with Params: {'q': 'artist:Ja Rule Featuring Fat Joe & Jadakiss track:New York', 'limit': 10, 'offset': 0, 'type': 'track', 'market': None} returned 401 due to The access token expired\n",
      "HTTP Error for GET to https://api.spotify.com/v1/search with Params: {'q': \"artist:Ja Rule Featuring Lil' Mo track:I Cry\", 'limit': 10, 'offset': 0, 'type': 'track', 'market': None} returned 401 due to The access token expired\n"
     ]
    },
    {
     "name": "stdout",
     "output_type": "stream",
     "text": [
      "ERROR:   Ja Rule Featuring Christina Milian Between Me And You\n",
      "ERROR:   Ja Rule Featuring Fat Joe & Jadakiss New York\n"
     ]
    },
    {
     "name": "stderr",
     "output_type": "stream",
     "text": [
      "HTTP Error for GET to https://api.spotify.com/v1/search with Params: {'q': \"artist:Ja Rule Featuring Lil' Mo & Vita track:Put It On Me\", 'limit': 10, 'offset': 0, 'type': 'track', 'market': None} returned 401 due to The access token expired\n"
     ]
    },
    {
     "name": "stdout",
     "output_type": "stream",
     "text": [
      "ERROR:   Ja Rule Featuring Lil' Mo I Cry\n",
      "ERROR:   Ja Rule Featuring Lil' Mo & Vita Put It On Me\n"
     ]
    },
    {
     "name": "stderr",
     "output_type": "stream",
     "text": [
      "HTTP Error for GET to https://api.spotify.com/v1/search with Params: {'q': 'artist:Ja Rule Featuring R. Kelly & Ashanti track:Wonderful', 'limit': 10, 'offset': 0, 'type': 'track', 'market': None} returned 401 due to The access token expired\n",
      "HTTP Error for GET to https://api.spotify.com/v1/search with Params: {'q': 'artist:Ja-Kki track:Sun...Sun...Sun...Pt. I', 'limit': 10, 'offset': 0, 'type': 'track', 'market': None} returned 401 due to The access token expired\n"
     ]
    },
    {
     "name": "stdout",
     "output_type": "stream",
     "text": [
      "ERROR:   Ja Rule Featuring R. Kelly & Ashanti Wonderful\n",
      "ERROR:   Ja-Kki Sun...Sun...Sun...Pt. I\n"
     ]
    },
    {
     "name": "stderr",
     "output_type": "stream",
     "text": [
      "HTTP Error for GET to https://api.spotify.com/v1/search with Params: {'q': 'artist:Jack & Jack track:Wild Life', 'limit': 10, 'offset': 0, 'type': 'track', 'market': None} returned 401 due to The access token expired\n",
      "HTTP Error for GET to https://api.spotify.com/v1/search with Params: {'q': 'artist:Jack Blanchard & Misty Morgan track:Humphrey The Camel', 'limit': 10, 'offset': 0, 'type': 'track', 'market': None} returned 401 due to The access token expired\n"
     ]
    },
    {
     "name": "stdout",
     "output_type": "stream",
     "text": [
      "ERROR:   Jack & Jack Wild Life\n",
      "ERROR:   Jack Blanchard & Misty Morgan Humphrey The Camel\n",
      "ERROR:   Jack Blanchard & Misty Morgan Tennessee Bird Walk\n"
     ]
    },
    {
     "name": "stderr",
     "output_type": "stream",
     "text": [
      "HTTP Error for GET to https://api.spotify.com/v1/search with Params: {'q': 'artist:Jack Eubanks track:Searching', 'limit': 10, 'offset': 0, 'type': 'track', 'market': None} returned 401 due to The access token expired\n",
      "HTTP Error for GET to https://api.spotify.com/v1/search with Params: {'q': 'artist:Jack Greene track:There Goes My Everything', 'limit': 10, 'offset': 0, 'type': 'track', 'market': None} returned 401 due to The access token expired\n",
      "HTTP Error for GET to https://api.spotify.com/v1/search with Params: {'q': 'artist:Jack Harlow track:Tyler Herro', 'limit': 10, 'offset': 0, 'type': 'track', 'market': None} returned 401 due to The access token expired\n",
      "HTTP Error for GET to https://api.spotify.com/v1/search with Params: {'q': 'artist:Jack Harlow & Pooh Shiesty track:SUVs (Black On Black)', 'limit': 10, 'offset': 0, 'type': 'track', 'market': None} returned 401 due to The access token expired\n"
     ]
    },
    {
     "name": "stdout",
     "output_type": "stream",
     "text": [
      "ERROR:   Jack Eubanks Searching\n",
      "11540  ERROR:   Jack Greene There Goes My Everything\n",
      "ERROR:   Jack Harlow Tyler Herro\n",
      "ERROR:   Jack Harlow & Pooh Shiesty SUVs (Black On Black)\n"
     ]
    },
    {
     "name": "stderr",
     "output_type": "stream",
     "text": [
      "HTTP Error for GET to https://api.spotify.com/v1/search with Params: {'q': 'artist:Jack Harlow Featuring Big Sean track:Way Out', 'limit': 10, 'offset': 0, 'type': 'track', 'market': None} returned 401 due to The access token expired\n",
      "HTTP Error for GET to https://api.spotify.com/v1/search with Params: {'q': 'artist:Jack Harlow Featuring DaBaby, Tory Lanez & Lil Wayne track:Whats Poppin', 'limit': 10, 'offset': 0, 'type': 'track', 'market': None} returned 401 due to The access token expired\n",
      "HTTP Error for GET to https://api.spotify.com/v1/search with Params: {'q': 'artist:Jack Ingram track:Barefoot And Crazy', 'limit': 10, 'offset': 0, 'type': 'track', 'market': None} returned 401 due to The access token expired\n",
      "HTTP Error for GET to https://api.spotify.com/v1/search with Params: {'q': 'artist:Jack Ingram track:Lips Of An Angel', 'limit': 10, 'offset': 0, 'type': 'track', 'market': None} returned 401 due to The access token expired\n"
     ]
    },
    {
     "name": "stdout",
     "output_type": "stream",
     "text": [
      "ERROR:   Jack Harlow Featuring Big Sean Way Out\n",
      "ERROR:   Jack Harlow Featuring DaBaby, Tory Lanez & Lil Wayne Whats Poppin\n",
      "ERROR:   Jack Ingram Barefoot And Crazy\n",
      "ERROR:   Jack Ingram Lips Of An Angel\n"
     ]
    },
    {
     "name": "stderr",
     "output_type": "stream",
     "text": [
      "HTTP Error for GET to https://api.spotify.com/v1/search with Params: {'q': 'artist:Jack Ingram track:Love You', 'limit': 10, 'offset': 0, 'type': 'track', 'market': None} returned 401 due to The access token expired\n",
      "HTTP Error for GET to https://api.spotify.com/v1/search with Params: {'q': 'artist:Jack Ingram track:Wherever You Are', 'limit': 10, 'offset': 0, 'type': 'track', 'market': None} returned 401 due to The access token expired\n",
      "HTTP Error for GET to https://api.spotify.com/v1/search with Params: {'q': 'artist:Jack Johnson track:Flake', 'limit': 10, 'offset': 0, 'type': 'track', 'market': None} returned 401 due to The access token expired\n",
      "HTTP Error for GET to https://api.spotify.com/v1/search with Params: {'q': 'artist:Jack Johnson track:I Got You', 'limit': 10, 'offset': 0, 'type': 'track', 'market': None} returned 401 due to The access token expired\n",
      "HTTP Error for GET to https://api.spotify.com/v1/search with Params: {'q': 'artist:Jack Johnson track:If I Had Eyes', 'limit': 10, 'offset': 0, 'type': 'track', 'market': None} returned 401 due to The access token expired\n"
     ]
    },
    {
     "name": "stdout",
     "output_type": "stream",
     "text": [
      "ERROR:   Jack Ingram Love You\n",
      "ERROR:   Jack Ingram Wherever You Are\n",
      "ERROR:   Jack Johnson Flake\n",
      "11550  ERROR:   Jack Johnson I Got You\n"
     ]
    },
    {
     "name": "stderr",
     "output_type": "stream",
     "text": [
      "HTTP Error for GET to https://api.spotify.com/v1/search with Params: {'q': 'artist:Jack Johnson track:Imagine', 'limit': 10, 'offset': 0, 'type': 'track', 'market': None} returned 401 due to The access token expired\n",
      "HTTP Error for GET to https://api.spotify.com/v1/search with Params: {'q': 'artist:Jack Johnson track:Sitting, Waiting, Wishing', 'limit': 10, 'offset': 0, 'type': 'track', 'market': None} returned 401 due to The access token expired\n",
      "HTTP Error for GET to https://api.spotify.com/v1/search with Params: {'q': 'artist:Jack Johnson track:Upside Down', 'limit': 10, 'offset': 0, 'type': 'track', 'market': None} returned 401 due to The access token expired\n"
     ]
    },
    {
     "name": "stdout",
     "output_type": "stream",
     "text": [
      "ERROR:   Jack Johnson If I Had Eyes\n",
      "ERROR:   Jack Johnson Imagine\n",
      "ERROR:   Jack Johnson Sitting, Waiting, Wishing\n",
      "ERROR:   Jack Johnson Upside Down\n"
     ]
    },
    {
     "name": "stderr",
     "output_type": "stream",
     "text": [
      "HTTP Error for GET to https://api.spotify.com/v1/search with Params: {'q': 'artist:Jack Johnson track:You And Your Heart', 'limit': 10, 'offset': 0, 'type': 'track', 'market': None} returned 401 due to The access token expired\n",
      "HTTP Error for GET to https://api.spotify.com/v1/search with Params: {'q': 'artist:Jack Jones track:A Day In The Life Of A Fool', 'limit': 10, 'offset': 0, 'type': 'track', 'market': None} returned 401 due to The access token expired\n",
      "HTTP Error for GET to https://api.spotify.com/v1/search with Params: {'q': 'artist:Jack Jones track:Call Me Irresponsible', 'limit': 10, 'offset': 0, 'type': 'track', 'market': None} returned 401 due to The access token expired\n",
      "HTTP Error for GET to https://api.spotify.com/v1/search with Params: {'q': 'artist:Jack Jones track:Dear Heart', 'limit': 10, 'offset': 0, 'type': 'track', 'market': None} returned 401 due to The access token expired\n"
     ]
    },
    {
     "name": "stdout",
     "output_type": "stream",
     "text": [
      "ERROR:   Jack Johnson You And Your Heart\n",
      "ERROR:   Jack Jones A Day In The Life Of A Fool\n",
      "ERROR:   Jack Jones Call Me Irresponsible\n",
      "ERROR:   Jack Jones Dear Heart\n"
     ]
    },
    {
     "name": "stderr",
     "output_type": "stream",
     "text": [
      "HTTP Error for GET to https://api.spotify.com/v1/search with Params: {'q': \"artist:Jack Jones track:I'm Indestructible\", 'limit': 10, 'offset': 0, 'type': 'track', 'market': None} returned 401 due to The access token expired\n",
      "HTTP Error for GET to https://api.spotify.com/v1/search with Params: {'q': 'artist:Jack Jones track:If You Ever Leave Me', 'limit': 10, 'offset': 0, 'type': 'track', 'market': None} returned 401 due to The access token expired\n",
      "HTTP Error for GET to https://api.spotify.com/v1/search with Params: {'q': 'artist:Jack Jones track:Just Yesterday', 'limit': 10, 'offset': 0, 'type': 'track', 'market': None} returned 401 due to The access token expired\n",
      "HTTP Error for GET to https://api.spotify.com/v1/search with Params: {'q': 'artist:Jack Jones track:Lady', 'limit': 10, 'offset': 0, 'type': 'track', 'market': None} returned 401 due to The access token expired\n"
     ]
    },
    {
     "name": "stdout",
     "output_type": "stream",
     "text": [
      "ERROR:   Jack Jones I'm Indestructible\n",
      "11560  ERROR:   Jack Jones If You Ever Leave Me\n",
      "ERROR:   Jack Jones Just Yesterday\n"
     ]
    },
    {
     "name": "stderr",
     "output_type": "stream",
     "text": [
      "HTTP Error for GET to https://api.spotify.com/v1/search with Params: {'q': 'artist:Jack Jones track:Live For Life', 'limit': 10, 'offset': 0, 'type': 'track', 'market': None} returned 401 due to The access token expired\n",
      "HTTP Error for GET to https://api.spotify.com/v1/search with Params: {'q': 'artist:Jack Jones track:Lollipops And Roses', 'limit': 10, 'offset': 0, 'type': 'track', 'market': None} returned 401 due to The access token expired\n",
      "HTTP Error for GET to https://api.spotify.com/v1/search with Params: {'q': 'artist:Jack Jones track:Love Bug', 'limit': 10, 'offset': 0, 'type': 'track', 'market': None} returned 401 due to The access token expired\n"
     ]
    },
    {
     "name": "stdout",
     "output_type": "stream",
     "text": [
      "ERROR:   Jack Jones Lady\n",
      "ERROR:   Jack Jones Live For Life\n",
      "ERROR:   Jack Jones Lollipops And Roses\n",
      "ERROR:   Jack Jones Love Bug\n"
     ]
    },
    {
     "name": "stderr",
     "output_type": "stream",
     "text": [
      "HTTP Error for GET to https://api.spotify.com/v1/search with Params: {'q': 'artist:Jack Jones track:Love With The Proper Stranger', 'limit': 10, 'offset': 0, 'type': 'track', 'market': None} returned 401 due to The access token expired\n",
      "HTTP Error for GET to https://api.spotify.com/v1/search with Params: {'q': 'artist:Jack Jones track:Now I Know', 'limit': 10, 'offset': 0, 'type': 'track', 'market': None} returned 401 due to The access token expired\n",
      "HTTP Error for GET to https://api.spotify.com/v1/search with Params: {'q': 'artist:Jack Jones track:Our Song', 'limit': 10, 'offset': 0, 'type': 'track', 'market': None} returned 401 due to The access token expired\n",
      "HTTP Error for GET to https://api.spotify.com/v1/search with Params: {'q': \"artist:Jack Jones track:Seein' The Right Love Go Wrong\", 'limit': 10, 'offset': 0, 'type': 'track', 'market': None} returned 401 due to The access token expired\n"
     ]
    },
    {
     "name": "stdout",
     "output_type": "stream",
     "text": [
      "ERROR:   Jack Jones Love With The Proper Stranger\n",
      "ERROR:   Jack Jones Now I Know\n",
      "ERROR:   Jack Jones Our Song\n",
      "ERROR:   Jack Jones Seein' The Right Love Go Wrong\n",
      "11570  "
     ]
    },
    {
     "name": "stderr",
     "output_type": "stream",
     "text": [
      "HTTP Error for GET to https://api.spotify.com/v1/search with Params: {'q': 'artist:Jack Jones track:The First Night Of The Full Moon', 'limit': 10, 'offset': 0, 'type': 'track', 'market': None} returned 401 due to The access token expired\n",
      "HTTP Error for GET to https://api.spotify.com/v1/search with Params: {'q': 'artist:Jack Jones track:The Impossible Dream (The Quest)', 'limit': 10, 'offset': 0, 'type': 'track', 'market': None} returned 401 due to The access token expired\n",
      "HTTP Error for GET to https://api.spotify.com/v1/search with Params: {'q': 'artist:Jack Jones track:The Race Is On', 'limit': 10, 'offset': 0, 'type': 'track', 'market': None} returned 401 due to The access token expired\n",
      "HTTP Error for GET to https://api.spotify.com/v1/search with Params: {'q': 'artist:Jack Jones track:Toys In The Attic', 'limit': 10, 'offset': 0, 'type': 'track', 'market': None} returned 401 due to The access token expired\n",
      "HTTP Error for GET to https://api.spotify.com/v1/search with Params: {'q': 'artist:Jack Jones track:Where Love Has Gone', 'limit': 10, 'offset': 0, 'type': 'track', 'market': None} returned 401 due to The access token expired\n"
     ]
    },
    {
     "name": "stdout",
     "output_type": "stream",
     "text": [
      "ERROR:   Jack Jones The First Night Of The Full Moon\n",
      "ERROR:   Jack Jones The Impossible Dream (The Quest)\n",
      "ERROR:   Jack Jones The Race Is On\n",
      "ERROR:   Jack Jones Toys In The Attic\n"
     ]
    },
    {
     "name": "stderr",
     "output_type": "stream",
     "text": [
      "HTTP Error for GET to https://api.spotify.com/v1/search with Params: {'q': 'artist:Jack Jones track:Wives And Lovers', 'limit': 10, 'offset': 0, 'type': 'track', 'market': None} returned 401 due to The access token expired\n",
      "HTTP Error for GET to https://api.spotify.com/v1/search with Params: {'q': 'artist:Jack Laforge His Piano and Orchestra track:Goldfinger', 'limit': 10, 'offset': 0, 'type': 'track', 'market': None} returned 401 due to The access token expired\n",
      "HTTP Error for GET to https://api.spotify.com/v1/search with Params: {'q': 'artist:Jack Nitzsche track:Rumble', 'limit': 10, 'offset': 0, 'type': 'track', 'market': None} returned 401 due to The access token expired\n",
      "HTTP Error for GET to https://api.spotify.com/v1/search with Params: {'q': 'artist:Jack Nitzsche track:The Lonely Surfer', 'limit': 10, 'offset': 0, 'type': 'track', 'market': None} returned 401 due to The access token expired\n"
     ]
    },
    {
     "name": "stdout",
     "output_type": "stream",
     "text": [
      "ERROR:   Jack Jones Where Love Has Gone\n",
      "ERROR:   Jack Jones Wives And Lovers\n",
      "ERROR:   Jack Laforge His Piano and Orchestra Goldfinger\n",
      "ERROR:   Jack Nitzsche Rumble\n"
     ]
    },
    {
     "name": "stderr",
     "output_type": "stream",
     "text": [
      "HTTP Error for GET to https://api.spotify.com/v1/search with Params: {'q': 'artist:Jack Ross track:Cinderella', 'limit': 10, 'offset': 0, 'type': 'track', 'market': None} returned 401 due to The access token expired\n",
      "HTTP Error for GET to https://api.spotify.com/v1/search with Params: {'q': 'artist:Jack Ross track:Happy Jose (Ching-Ching)', 'limit': 10, 'offset': 0, 'type': 'track', 'market': None} returned 401 due to The access token expired\n",
      "HTTP Error for GET to https://api.spotify.com/v1/search with Params: {'q': 'artist:Jack Scott track:A Little Feeling (Called Love)', 'limit': 10, 'offset': 0, 'type': 'track', 'market': None} returned 401 due to The access token expired\n",
      "HTTP Error for GET to https://api.spotify.com/v1/search with Params: {'q': 'artist:Jack Scott track:Burning Bridges', 'limit': 10, 'offset': 0, 'type': 'track', 'market': None} returned 401 due to The access token expired\n"
     ]
    },
    {
     "name": "stdout",
     "output_type": "stream",
     "text": [
      "ERROR:   Jack Nitzsche The Lonely Surfer\n",
      "ERROR:   Jack Ross Cinderella\n",
      "11580  ERROR:   Jack Ross Happy Jose (Ching-Ching)\n",
      "ERROR:   Jack Scott A Little Feeling (Called Love)\n"
     ]
    },
    {
     "name": "stderr",
     "output_type": "stream",
     "text": [
      "HTTP Error for GET to https://api.spotify.com/v1/search with Params: {'q': 'artist:Jack Scott track:Cool Water', 'limit': 10, 'offset': 0, 'type': 'track', 'market': None} returned 401 due to The access token expired\n",
      "HTTP Error for GET to https://api.spotify.com/v1/search with Params: {'q': 'artist:Jack Scott track:Geraldine', 'limit': 10, 'offset': 0, 'type': 'track', 'market': None} returned 401 due to The access token expired\n",
      "HTTP Error for GET to https://api.spotify.com/v1/search with Params: {'q': 'artist:Jack Scott track:Goodbye Baby', 'limit': 10, 'offset': 0, 'type': 'track', 'market': None} returned 401 due to The access token expired\n"
     ]
    },
    {
     "name": "stdout",
     "output_type": "stream",
     "text": [
      "ERROR:   Jack Scott Burning Bridges\n",
      "ERROR:   Jack Scott Cool Water\n",
      "ERROR:   Jack Scott Geraldine\n",
      "ERROR:   Jack Scott Goodbye Baby\n"
     ]
    },
    {
     "name": "stderr",
     "output_type": "stream",
     "text": [
      "HTTP Error for GET to https://api.spotify.com/v1/search with Params: {'q': 'artist:Jack Scott track:I Never Felt Like This', 'limit': 10, 'offset': 0, 'type': 'track', 'market': None} returned 401 due to The access token expired\n",
      "HTTP Error for GET to https://api.spotify.com/v1/search with Params: {'q': 'artist:Jack Scott track:Is There Something On Your Mind', 'limit': 10, 'offset': 0, 'type': 'track', 'market': None} returned 401 due to The access token expired\n",
      "HTTP Error for GET to https://api.spotify.com/v1/search with Params: {'q': 'artist:Jack Scott track:It Only Happened Yesterday', 'limit': 10, 'offset': 0, 'type': 'track', 'market': None} returned 401 due to The access token expired\n",
      "HTTP Error for GET to https://api.spotify.com/v1/search with Params: {'q': 'artist:Jack Scott track:Leroy', 'limit': 10, 'offset': 0, 'type': 'track', 'market': None} returned 401 due to The access token expired\n"
     ]
    },
    {
     "name": "stdout",
     "output_type": "stream",
     "text": [
      "ERROR:   Jack Scott I Never Felt Like This\n",
      "ERROR:   Jack Scott Is There Something On Your Mind\n",
      "ERROR:   Jack Scott It Only Happened Yesterday\n",
      "ERROR:   Jack Scott Leroy\n",
      "11590  "
     ]
    },
    {
     "name": "stderr",
     "output_type": "stream",
     "text": [
      "HTTP Error for GET to https://api.spotify.com/v1/search with Params: {'q': 'artist:Jack Scott track:My Dream Come True', 'limit': 10, 'offset': 0, 'type': 'track', 'market': None} returned 401 due to The access token expired\n",
      "HTTP Error for GET to https://api.spotify.com/v1/search with Params: {'q': 'artist:Jack Scott track:My True Love', 'limit': 10, 'offset': 0, 'type': 'track', 'market': None} returned 401 due to The access token expired\n",
      "HTTP Error for GET to https://api.spotify.com/v1/search with Params: {'q': 'artist:Jack Scott track:Oh, Little One', 'limit': 10, 'offset': 0, 'type': 'track', 'market': None} returned 401 due to The access token expired\n",
      "HTTP Error for GET to https://api.spotify.com/v1/search with Params: {'q': 'artist:Jack Scott track:Patsy', 'limit': 10, 'offset': 0, 'type': 'track', 'market': None} returned 401 due to The access token expired\n",
      "HTTP Error for GET to https://api.spotify.com/v1/search with Params: {'q': 'artist:Jack Scott track:Save My Soul', 'limit': 10, 'offset': 0, 'type': 'track', 'market': None} returned 401 due to The access token expired\n"
     ]
    },
    {
     "name": "stdout",
     "output_type": "stream",
     "text": [
      "ERROR:   Jack Scott My Dream Come True\n",
      "ERROR:   Jack Scott My True Love\n",
      "ERROR:   Jack Scott Oh, Little One\n",
      "ERROR:   Jack Scott Patsy\n"
     ]
    },
    {
     "name": "stderr",
     "output_type": "stream",
     "text": [
      "HTTP Error for GET to https://api.spotify.com/v1/search with Params: {'q': 'artist:Jack Scott track:Steps 1 And 2', 'limit': 10, 'offset': 0, 'type': 'track', 'market': None} returned 401 due to The access token expired\n",
      "HTTP Error for GET to https://api.spotify.com/v1/search with Params: {'q': 'artist:Jack Scott track:The Way I Walk', 'limit': 10, 'offset': 0, 'type': 'track', 'market': None} returned 401 due to The access token expired\n",
      "HTTP Error for GET to https://api.spotify.com/v1/search with Params: {'q': 'artist:Jack Scott track:There Comes A Time', 'limit': 10, 'offset': 0, 'type': 'track', 'market': None} returned 401 due to The access token expired\n",
      "HTTP Error for GET to https://api.spotify.com/v1/search with Params: {'q': \"artist:Jack Scott track:What In The World's Come Over You\", 'limit': 10, 'offset': 0, 'type': 'track', 'market': None} returned 401 due to The access token expired\n"
     ]
    },
    {
     "name": "stdout",
     "output_type": "stream",
     "text": [
      "ERROR:   Jack Scott Save My Soul\n",
      "ERROR:   Jack Scott Steps 1 And 2\n",
      "ERROR:   Jack Scott The Way I Walk\n",
      "ERROR:   Jack Scott There Comes A Time\n"
     ]
    },
    {
     "name": "stderr",
     "output_type": "stream",
     "text": [
      "HTTP Error for GET to https://api.spotify.com/v1/search with Params: {'q': 'artist:Jack Scott track:With Your Love', 'limit': 10, 'offset': 0, 'type': 'track', 'market': None} returned 401 due to The access token expired\n",
      "HTTP Error for GET to https://api.spotify.com/v1/search with Params: {'q': 'artist:Jack Wagner track:All I Need', 'limit': 10, 'offset': 0, 'type': 'track', 'market': None} returned 401 due to The access token expired\n",
      "HTTP Error for GET to https://api.spotify.com/v1/search with Params: {'q': 'artist:Jack Wagner track:The Lady Of My Heart', 'limit': 10, 'offset': 0, 'type': 'track', 'market': None} returned 401 due to The access token expired\n",
      "HTTP Error for GET to https://api.spotify.com/v1/search with Params: {'q': 'artist:Jack Wagner track:Too Young', 'limit': 10, 'offset': 0, 'type': 'track', 'market': None} returned 401 due to The access token expired\n"
     ]
    },
    {
     "name": "stdout",
     "output_type": "stream",
     "text": [
      "ERROR:   Jack Scott What In The World's Come Over You\n",
      "ERROR:   Jack Scott With Your Love\n",
      "11600  \n",
      "ERROR:   Jack Wagner All I Need\n",
      "ERROR:   Jack Wagner The Lady Of My Heart\n"
     ]
    },
    {
     "name": "stderr",
     "output_type": "stream",
     "text": [
      "HTTP Error for GET to https://api.spotify.com/v1/search with Params: {'q': 'artist:Jack Wagner track:Weatherman Says', 'limit': 10, 'offset': 0, 'type': 'track', 'market': None} returned 401 due to The access token expired\n",
      "HTTP Error for GET to https://api.spotify.com/v1/search with Params: {'q': 'artist:Jack White & Alicia Keys track:Another Way to Die', 'limit': 10, 'offset': 0, 'type': 'track', 'market': None} returned 401 due to The access token expired\n",
      "HTTP Error for GET to https://api.spotify.com/v1/search with Params: {'q': 'artist:Jack Wild track:Some Beautiful', 'limit': 10, 'offset': 0, 'type': 'track', 'market': None} returned 401 due to The access token expired\n"
     ]
    },
    {
     "name": "stdout",
     "output_type": "stream",
     "text": [
      "ERROR:   Jack Wagner Too Young\n",
      "ERROR:   Jack Wagner Weatherman Says\n",
      "ERROR:   Jack White & Alicia Keys Another Way to Die\n",
      "ERROR:   Jack Wild Some Beautiful\n"
     ]
    },
    {
     "name": "stderr",
     "output_type": "stream",
     "text": [
      "HTTP Error for GET to https://api.spotify.com/v1/search with Params: {'q': 'artist:Jackie DeShannon track:A Lifetime Of Loneliness', 'limit': 10, 'offset': 0, 'type': 'track', 'market': None} returned 401 due to The access token expired\n",
      "HTTP Error for GET to https://api.spotify.com/v1/search with Params: {'q': 'artist:Jackie DeShannon track:Brighton Hill', 'limit': 10, 'offset': 0, 'type': 'track', 'market': None} returned 401 due to The access token expired\n",
      "HTTP Error for GET to https://api.spotify.com/v1/search with Params: {'q': 'artist:Jackie DeShannon track:Come And Get Me', 'limit': 10, 'offset': 0, 'type': 'track', 'market': None} returned 401 due to The access token expired\n",
      "HTTP Error for GET to https://api.spotify.com/v1/search with Params: {'q': \"artist:Jackie DeShannon track:Don't Let The Flame Burn Out\", 'limit': 10, 'offset': 0, 'type': 'track', 'market': None} returned 401 due to The access token expired\n"
     ]
    },
    {
     "name": "stdout",
     "output_type": "stream",
     "text": [
      "ERROR:   Jackie DeShannon A Lifetime Of Loneliness\n",
      "ERROR:   Jackie DeShannon Brighton Hill\n",
      "ERROR:   Jackie DeShannon Come And Get Me\n",
      "ERROR:   Jackie DeShannon Don't Let The Flame Burn Out\n",
      "11610  "
     ]
    },
    {
     "name": "stderr",
     "output_type": "stream",
     "text": [
      "HTTP Error for GET to https://api.spotify.com/v1/search with Params: {'q': 'artist:Jackie DeShannon track:Faded Love', 'limit': 10, 'offset': 0, 'type': 'track', 'market': None} returned 401 due to The access token expired\n",
      "HTTP Error for GET to https://api.spotify.com/v1/search with Params: {'q': 'artist:Jackie DeShannon track:I Can Make It With You', 'limit': 10, 'offset': 0, 'type': 'track', 'market': None} returned 401 due to The access token expired\n",
      "HTTP Error for GET to https://api.spotify.com/v1/search with Params: {'q': \"artist:Jackie DeShannon track:It's So Nice\", 'limit': 10, 'offset': 0, 'type': 'track', 'market': None} returned 401 due to The access token expired\n",
      "HTTP Error for GET to https://api.spotify.com/v1/search with Params: {'q': 'artist:Jackie DeShannon track:Love Will Find A Way', 'limit': 10, 'offset': 0, 'type': 'track', 'market': None} returned 401 due to The access token expired\n",
      "HTTP Error for GET to https://api.spotify.com/v1/search with Params: {'q': 'artist:Jackie DeShannon track:Needles And Pins', 'limit': 10, 'offset': 0, 'type': 'track', 'market': None} returned 401 due to The access token expired\n"
     ]
    },
    {
     "name": "stdout",
     "output_type": "stream",
     "text": [
      "ERROR:   Jackie DeShannon Faded Love\n",
      "ERROR:   Jackie DeShannon I Can Make It With You\n",
      "ERROR:   Jackie DeShannon It's So Nice\n",
      "ERROR:   Jackie DeShannon Love Will Find A Way\n"
     ]
    },
    {
     "name": "stderr",
     "output_type": "stream",
     "text": [
      "HTTP Error for GET to https://api.spotify.com/v1/search with Params: {'q': 'artist:Jackie DeShannon track:Put A Little Love In Your Heart', 'limit': 10, 'offset': 0, 'type': 'track', 'market': None} returned 401 due to The access token expired\n",
      "HTTP Error for GET to https://api.spotify.com/v1/search with Params: {'q': 'artist:Jackie DeShannon track:The Weight', 'limit': 10, 'offset': 0, 'type': 'track', 'market': None} returned 401 due to The access token expired\n",
      "HTTP Error for GET to https://api.spotify.com/v1/search with Params: {'q': 'artist:Jackie DeShannon track:Vanilla Ólay', 'limit': 10, 'offset': 0, 'type': 'track', 'market': None} returned 401 due to The access token expired\n",
      "HTTP Error for GET to https://api.spotify.com/v1/search with Params: {'q': 'artist:Jackie DeShannon track:What The World Needs Now Is Love', 'limit': 10, 'offset': 0, 'type': 'track', 'market': None} returned 401 due to The access token expired\n"
     ]
    },
    {
     "name": "stdout",
     "output_type": "stream",
     "text": [
      "ERROR:   Jackie DeShannon Needles And Pins\n",
      "ERROR:   Jackie DeShannon Put A Little Love In Your Heart\n",
      "ERROR:   Jackie DeShannon The Weight\n",
      "ERROR:   Jackie DeShannon Vanilla Ólay\n"
     ]
    },
    {
     "name": "stderr",
     "output_type": "stream",
     "text": [
      "HTTP Error for GET to https://api.spotify.com/v1/search with Params: {'q': 'artist:Jackie DeShannon track:When You Walk In The Room', 'limit': 10, 'offset': 0, 'type': 'track', 'market': None} returned 401 due to The access token expired\n",
      "HTTP Error for GET to https://api.spotify.com/v1/search with Params: {'q': \"artist:Jackie DeShannon track:You Keep Me Hangin' On/Hurt So Bad\", 'limit': 10, 'offset': 0, 'type': 'track', 'market': None} returned 401 due to The access token expired\n",
      "HTTP Error for GET to https://api.spotify.com/v1/search with Params: {'q': 'artist:Jackie English track:Once A Night', 'limit': 10, 'offset': 0, 'type': 'track', 'market': None} returned 401 due to The access token expired\n",
      "HTTP Error for GET to https://api.spotify.com/v1/search with Params: {'q': 'artist:Jackie Lee track:Happy Vacation', 'limit': 10, 'offset': 0, 'type': 'track', 'market': None} returned 401 due to The access token expired\n"
     ]
    },
    {
     "name": "stdout",
     "output_type": "stream",
     "text": [
      "ERROR:   Jackie DeShannon What The World Needs Now Is Love\n",
      "ERROR:   Jackie DeShannon When You Walk In The Room\n",
      "11620  ERROR:   Jackie DeShannon You Keep Me Hangin' On/Hurt So Bad\n",
      "ERROR:   Jackie English Once A Night\n"
     ]
    },
    {
     "name": "stderr",
     "output_type": "stream",
     "text": [
      "HTTP Error for GET to https://api.spotify.com/v1/search with Params: {'q': 'artist:Jackie Lee track:The Duck', 'limit': 10, 'offset': 0, 'type': 'track', 'market': None} returned 401 due to The access token expired\n",
      "HTTP Error for GET to https://api.spotify.com/v1/search with Params: {'q': 'artist:Jackie Moore track:Precious, Precious', 'limit': 10, 'offset': 0, 'type': 'track', 'market': None} returned 401 due to The access token expired\n",
      "HTTP Error for GET to https://api.spotify.com/v1/search with Params: {'q': 'artist:Jackie Moore track:Sweet Charlie Babe', 'limit': 10, 'offset': 0, 'type': 'track', 'market': None} returned 401 due to The access token expired\n",
      "HTTP Error for GET to https://api.spotify.com/v1/search with Params: {'q': \"artist:Jackie Ross track:I've Got The Skill\", 'limit': 10, 'offset': 0, 'type': 'track', 'market': None} returned 401 due to The access token expired\n"
     ]
    },
    {
     "name": "stdout",
     "output_type": "stream",
     "text": [
      "ERROR:   Jackie Lee Happy Vacation\n",
      "ERROR:   Jackie Lee The Duck\n",
      "ERROR:   Jackie Moore Precious, Precious\n",
      "ERROR:   Jackie Moore Sweet Charlie Babe\n"
     ]
    },
    {
     "name": "stderr",
     "output_type": "stream",
     "text": [
      "HTTP Error for GET to https://api.spotify.com/v1/search with Params: {'q': 'artist:Jackie Ross track:Jerk And Twine', 'limit': 10, 'offset': 0, 'type': 'track', 'market': None} returned 401 due to The access token expired\n",
      "HTTP Error for GET to https://api.spotify.com/v1/search with Params: {'q': 'artist:Jackie Ross track:Selfish One', 'limit': 10, 'offset': 0, 'type': 'track', 'market': None} returned 401 due to The access token expired\n",
      "HTTP Error for GET to https://api.spotify.com/v1/search with Params: {'q': 'artist:Jackie Wilson track:(I Can Feel Those Vibrations) This Love Is Real', 'limit': 10, 'offset': 0, 'type': 'track', 'market': None} returned 401 due to The access token expired\n",
      "HTTP Error for GET to https://api.spotify.com/v1/search with Params: {'q': 'artist:Jackie Wilson track:(You Were Made For) All My Love', 'limit': 10, 'offset': 0, 'type': 'track', 'market': None} returned 401 due to The access token expired\n"
     ]
    },
    {
     "name": "stdout",
     "output_type": "stream",
     "text": [
      "ERROR:   Jackie Ross I've Got The Skill\n",
      "ERROR:   Jackie Ross Jerk And Twine\n",
      "ERROR:   Jackie Ross Selfish One\n",
      "ERROR:   Jackie Wilson (I Can Feel Those Vibrations) This Love Is Real\n",
      "11630  "
     ]
    },
    {
     "name": "stderr",
     "output_type": "stream",
     "text": [
      "HTTP Error for GET to https://api.spotify.com/v1/search with Params: {'q': 'artist:Jackie Wilson track:(Your Love Keeps Lifting Me) Higher And Higher', 'limit': 10, 'offset': 0, 'type': 'track', 'market': None} returned 401 due to The access token expired\n",
      "HTTP Error for GET to https://api.spotify.com/v1/search with Params: {'q': 'artist:Jackie Wilson track:A Woman, A Lover, A Friend', 'limit': 10, 'offset': 0, 'type': 'track', 'market': None} returned 401 due to The access token expired\n",
      "HTTP Error for GET to https://api.spotify.com/v1/search with Params: {'q': 'artist:Jackie Wilson track:Alone At Last', 'limit': 10, 'offset': 0, 'type': 'track', 'market': None} returned 401 due to The access token expired\n"
     ]
    },
    {
     "name": "stdout",
     "output_type": "stream",
     "text": [
      "ERROR:   Jackie Wilson (You Were Made For) All My Love\n",
      "ERROR:   Jackie Wilson (Your Love Keeps Lifting Me) Higher And Higher\n",
      "ERROR:   Jackie Wilson A Woman, A Lover, A Friend\n",
      "ERROR:   Jackie Wilson Alone At Last\n"
     ]
    },
    {
     "name": "stderr",
     "output_type": "stream",
     "text": [
      "HTTP Error for GET to https://api.spotify.com/v1/search with Params: {'q': 'artist:Jackie Wilson track:Am I The Man', 'limit': 10, 'offset': 0, 'type': 'track', 'market': None} returned 401 due to The access token expired\n",
      "HTTP Error for GET to https://api.spotify.com/v1/search with Params: {'q': \"artist:Jackie Wilson track:Baby Get It (And Don't Quit It)\", 'limit': 10, 'offset': 0, 'type': 'track', 'market': None} returned 401 due to The access token expired\n",
      "HTTP Error for GET to https://api.spotify.com/v1/search with Params: {'q': 'artist:Jackie Wilson track:Baby Workout', 'limit': 10, 'offset': 0, 'type': 'track', 'market': None} returned 401 due to The access token expired\n",
      "HTTP Error for GET to https://api.spotify.com/v1/search with Params: {'q': 'artist:Jackie Wilson track:Big Boss Line', 'limit': 10, 'offset': 0, 'type': 'track', 'market': None} returned 401 due to The access token expired\n"
     ]
    },
    {
     "name": "stdout",
     "output_type": "stream",
     "text": [
      "ERROR:   Jackie Wilson Am I The Man\n",
      "ERROR:   Jackie Wilson Baby Get It (And Don't Quit It)\n",
      "ERROR:   Jackie Wilson Baby Workout\n",
      "ERROR:   Jackie Wilson Big Boss Line\n"
     ]
    },
    {
     "name": "stderr",
     "output_type": "stream",
     "text": [
      "HTTP Error for GET to https://api.spotify.com/v1/search with Params: {'q': 'artist:Jackie Wilson track:Danny Boy', 'limit': 10, 'offset': 0, 'type': 'track', 'market': None} returned 401 due to The access token expired\n",
      "HTTP Error for GET to https://api.spotify.com/v1/search with Params: {'q': \"artist:Jackie Wilson track:Doggin' Around\", 'limit': 10, 'offset': 0, 'type': 'track', 'market': None} returned 401 due to The access token expired\n",
      "HTTP Error for GET to https://api.spotify.com/v1/search with Params: {'q': 'artist:Jackie Wilson track:For Once In My Life', 'limit': 10, 'offset': 0, 'type': 'track', 'market': None} returned 401 due to The access token expired\n",
      "HTTP Error for GET to https://api.spotify.com/v1/search with Params: {'q': 'artist:Jackie Wilson track:Forever And A Day', 'limit': 10, 'offset': 0, 'type': 'track', 'market': None} returned 401 due to The access token expired\n"
     ]
    },
    {
     "name": "stdout",
     "output_type": "stream",
     "text": [
      "ERROR:   Jackie Wilson Danny Boy\n",
      "ERROR:   Jackie Wilson Doggin' Around\n",
      "11640  ERROR:   Jackie Wilson For Once In My Life\n",
      "ERROR:   Jackie Wilson Forever And A Day\n"
     ]
    },
    {
     "name": "stderr",
     "output_type": "stream",
     "text": [
      "HTTP Error for GET to https://api.spotify.com/v1/search with Params: {'q': 'artist:Jackie Wilson track:Hearts', 'limit': 10, 'offset': 0, 'type': 'track', 'market': None} returned 401 due to The access token expired\n",
      "HTTP Error for GET to https://api.spotify.com/v1/search with Params: {'q': \"artist:Jackie Wilson track:I Believe I'll Love On\", 'limit': 10, 'offset': 0, 'type': 'track', 'market': None} returned 401 due to The access token expired\n",
      "HTTP Error for GET to https://api.spotify.com/v1/search with Params: {'q': \"artist:Jackie Wilson track:I Don't Want To Lose You\", 'limit': 10, 'offset': 0, 'type': 'track', 'market': None} returned 401 due to The access token expired\n",
      "HTTP Error for GET to https://api.spotify.com/v1/search with Params: {'q': 'artist:Jackie Wilson track:I Get The Sweetest Feeling', 'limit': 10, 'offset': 0, 'type': 'track', 'market': None} returned 401 due to The access token expired\n",
      "HTTP Error for GET to https://api.spotify.com/v1/search with Params: {'q': \"artist:Jackie Wilson track:I Just Can't Help It\", 'limit': 10, 'offset': 0, 'type': 'track', 'market': None} returned 401 due to The access token expired\n"
     ]
    },
    {
     "name": "stdout",
     "output_type": "stream",
     "text": [
      "ERROR:   Jackie Wilson Hearts\n",
      "ERROR:   Jackie Wilson I Believe I'll Love On\n",
      "ERROR:   Jackie Wilson I Don't Want To Lose You\n",
      "ERROR:   Jackie Wilson I Get The Sweetest Feeling\n"
     ]
    },
    {
     "name": "stderr",
     "output_type": "stream",
     "text": [
      "HTTP Error for GET to https://api.spotify.com/v1/search with Params: {'q': \"artist:Jackie Wilson track:I'll Be Satisfied\", 'limit': 10, 'offset': 0, 'type': 'track', 'market': None} returned 401 due to The access token expired\n",
      "HTTP Error for GET to https://api.spotify.com/v1/search with Params: {'q': \"artist:Jackie Wilson track:I'm Comin' On On Back To You\", 'limit': 10, 'offset': 0, 'type': 'track', 'market': None} returned 401 due to The access token expired\n",
      "HTTP Error for GET to https://api.spotify.com/v1/search with Params: {'q': \"artist:Jackie Wilson track:I've Lost You\", 'limit': 10, 'offset': 0, 'type': 'track', 'market': None} returned 401 due to The access token expired\n",
      "HTTP Error for GET to https://api.spotify.com/v1/search with Params: {'q': 'artist:Jackie Wilson track:Just Be Sincere', 'limit': 10, 'offset': 0, 'type': 'track', 'market': None} returned 401 due to The access token expired\n"
     ]
    },
    {
     "name": "stdout",
     "output_type": "stream",
     "text": [
      "ERROR:   Jackie Wilson I Just Can't Help It\n",
      "ERROR:   Jackie Wilson I'll Be Satisfied\n",
      "ERROR:   Jackie Wilson I'm Comin' On On Back To You\n",
      "ERROR:   Jackie Wilson I've Lost You\n",
      "11650  "
     ]
    },
    {
     "name": "stderr",
     "output_type": "stream",
     "text": [
      "HTTP Error for GET to https://api.spotify.com/v1/search with Params: {'q': 'artist:Jackie Wilson track:Let This Be A Letter (To My Baby)', 'limit': 10, 'offset': 0, 'type': 'track', 'market': None} returned 401 due to The access token expired\n",
      "HTTP Error for GET to https://api.spotify.com/v1/search with Params: {'q': 'artist:Jackie Wilson track:Lonely Life', 'limit': 10, 'offset': 0, 'type': 'track', 'market': None} returned 401 due to The access token expired\n",
      "HTTP Error for GET to https://api.spotify.com/v1/search with Params: {'q': 'artist:Jackie Wilson track:Lonely Teardrops', 'limit': 10, 'offset': 0, 'type': 'track', 'market': None} returned 401 due to The access token expired\n"
     ]
    },
    {
     "name": "stdout",
     "output_type": "stream",
     "text": [
      "ERROR:   Jackie Wilson Just Be Sincere\n",
      "ERROR:   Jackie Wilson Let This Be A Letter (To My Baby)\n",
      "ERROR:   Jackie Wilson Lonely Life\n",
      "ERROR:   Jackie Wilson Lonely Teardrops\n"
     ]
    },
    {
     "name": "stderr",
     "output_type": "stream",
     "text": [
      "HTTP Error for GET to https://api.spotify.com/v1/search with Params: {'q': 'artist:Jackie Wilson track:Love Is Funny That Way', 'limit': 10, 'offset': 0, 'type': 'track', 'market': None} returned 401 due to The access token expired\n",
      "HTTP Error for GET to https://api.spotify.com/v1/search with Params: {'q': 'artist:Jackie Wilson track:My Empty Arms', 'limit': 10, 'offset': 0, 'type': 'track', 'market': None} returned 401 due to The access token expired\n",
      "HTTP Error for GET to https://api.spotify.com/v1/search with Params: {'q': 'artist:Jackie Wilson track:My Heart Belongs To Only You', 'limit': 10, 'offset': 0, 'type': 'track', 'market': None} returned 401 due to The access token expired\n",
      "HTTP Error for GET to https://api.spotify.com/v1/search with Params: {'q': 'artist:Jackie Wilson track:Night', 'limit': 10, 'offset': 0, 'type': 'track', 'market': None} returned 401 due to The access token expired\n"
     ]
    },
    {
     "name": "stdout",
     "output_type": "stream",
     "text": [
      "ERROR:   Jackie Wilson Love Is Funny That Way\n",
      "ERROR:   Jackie Wilson My Empty Arms\n",
      "ERROR:   Jackie Wilson My Heart Belongs To Only You\n",
      "ERROR:   Jackie Wilson Night\n"
     ]
    },
    {
     "name": "stderr",
     "output_type": "stream",
     "text": [
      "HTTP Error for GET to https://api.spotify.com/v1/search with Params: {'q': 'artist:Jackie Wilson track:No Pity (In The Naked City)', 'limit': 10, 'offset': 0, 'type': 'track', 'market': None} returned 401 due to The access token expired\n",
      "HTTP Error for GET to https://api.spotify.com/v1/search with Params: {'q': 'artist:Jackie Wilson track:Please Tell Me Why', 'limit': 10, 'offset': 0, 'type': 'track', 'market': None} returned 401 due to The access token expired\n",
      "HTTP Error for GET to https://api.spotify.com/v1/search with Params: {'q': 'artist:Jackie Wilson track:Shake! Shake! Shake!', 'limit': 10, 'offset': 0, 'type': 'track', 'market': None} returned 401 due to The access token expired\n",
      "HTTP Error for GET to https://api.spotify.com/v1/search with Params: {'q': 'artist:Jackie Wilson track:Since You Showed Me How To Be Happy', 'limit': 10, 'offset': 0, 'type': 'track', 'market': None} returned 401 due to The access token expired\n"
     ]
    },
    {
     "name": "stdout",
     "output_type": "stream",
     "text": [
      "ERROR:   Jackie Wilson No Pity (In The Naked City)\n",
      "ERROR:   Jackie Wilson Please Tell Me Why\n",
      "11660  ERROR:   Jackie Wilson Shake! Shake! Shake!\n",
      "ERROR:   Jackie Wilson Since You Showed Me How To Be Happy\n"
     ]
    },
    {
     "name": "stderr",
     "output_type": "stream",
     "text": [
      "HTTP Error for GET to https://api.spotify.com/v1/search with Params: {'q': 'artist:Jackie Wilson track:Squeeze Her-Tease Her (But Love Her)', 'limit': 10, 'offset': 0, 'type': 'track', 'market': None} returned 401 due to The access token expired\n",
      "HTTP Error for GET to https://api.spotify.com/v1/search with Params: {'q': 'artist:Jackie Wilson track:Talk That Talk', 'limit': 10, 'offset': 0, 'type': 'track', 'market': None} returned 401 due to The access token expired\n",
      "HTTP Error for GET to https://api.spotify.com/v1/search with Params: {'q': \"artist:Jackie Wilson track:That's Why (I Love You So)\", 'limit': 10, 'offset': 0, 'type': 'track', 'market': None} returned 401 due to The access token expired\n",
      "HTTP Error for GET to https://api.spotify.com/v1/search with Params: {'q': 'artist:Jackie Wilson track:The Greatest Hurt', 'limit': 10, 'offset': 0, 'type': 'track', 'market': None} returned 401 due to The access token expired\n",
      "HTTP Error for GET to https://api.spotify.com/v1/search with Params: {'q': 'artist:Jackie Wilson track:The Tear Of The Year', 'limit': 10, 'offset': 0, 'type': 'track', 'market': None} returned 401 due to The access token expired\n"
     ]
    },
    {
     "name": "stdout",
     "output_type": "stream",
     "text": [
      "ERROR:   Jackie Wilson Squeeze Her-Tease Her (But Love Her)\n",
      "ERROR:   Jackie Wilson Talk That Talk\n",
      "ERROR:   Jackie Wilson That's Why (I Love You So)\n",
      "ERROR:   Jackie Wilson The Greatest Hurt\n"
     ]
    },
    {
     "name": "stderr",
     "output_type": "stream",
     "text": [
      "HTTP Error for GET to https://api.spotify.com/v1/search with Params: {'q': 'artist:Jackie Wilson track:The Way I Am', 'limit': 10, 'offset': 0, 'type': 'track', 'market': None} returned 401 due to The access token expired\n",
      "HTTP Error for GET to https://api.spotify.com/v1/search with Params: {'q': \"artist:Jackie Wilson track:There'll Be No Next Time\", 'limit': 10, 'offset': 0, 'type': 'track', 'market': None} returned 401 due to The access token expired\n",
      "HTTP Error for GET to https://api.spotify.com/v1/search with Params: {'q': 'artist:Jackie Wilson track:To Be Loved', 'limit': 10, 'offset': 0, 'type': 'track', 'market': None} returned 401 due to The access token expired\n"
     ]
    },
    {
     "name": "stdout",
     "output_type": "stream",
     "text": [
      "ERROR:   Jackie Wilson The Tear Of The Year\n",
      "ERROR:   Jackie Wilson The Way I Am\n",
      "ERROR:   Jackie Wilson There'll Be No Next Time\n",
      "ERROR:   Jackie Wilson To Be Loved\n",
      "11670  "
     ]
    },
    {
     "name": "stderr",
     "output_type": "stream",
     "text": [
      "HTTP Error for GET to https://api.spotify.com/v1/search with Params: {'q': 'artist:Jackie Wilson track:We Have Love', 'limit': 10, 'offset': 0, 'type': 'track', 'market': None} returned 401 due to The access token expired\n",
      "HTTP Error for GET to https://api.spotify.com/v1/search with Params: {'q': \"artist:Jackie Wilson track:Whispers (Gettin' Louder)\", 'limit': 10, 'offset': 0, 'type': 'track', 'market': None} returned 401 due to The access token expired\n",
      "HTTP Error for GET to https://api.spotify.com/v1/search with Params: {'q': 'artist:Jackie Wilson track:Years From Now', 'limit': 10, 'offset': 0, 'type': 'track', 'market': None} returned 401 due to The access token expired\n",
      "HTTP Error for GET to https://api.spotify.com/v1/search with Params: {'q': 'artist:Jackie Wilson track:You Better Know It', 'limit': 10, 'offset': 0, 'type': 'track', 'market': None} returned 401 due to The access token expired\n"
     ]
    },
    {
     "name": "stdout",
     "output_type": "stream",
     "text": [
      "ERROR:   Jackie Wilson We Have Love\n",
      "ERROR:   Jackie Wilson Whispers (Gettin' Louder)\n",
      "ERROR:   Jackie Wilson Years From Now\n",
      "ERROR:   Jackie Wilson You Better Know It\n"
     ]
    },
    {
     "name": "stderr",
     "output_type": "stream",
     "text": [
      "HTTP Error for GET to https://api.spotify.com/v1/search with Params: {'q': \"artist:Jackie Wilson track:You Don't Know What It Means\", 'limit': 10, 'offset': 0, 'type': 'track', 'market': None} returned 401 due to The access token expired\n",
      "HTTP Error for GET to https://api.spotify.com/v1/search with Params: {'q': 'artist:Jackie Wilson track:You Got Me Walking', 'limit': 10, 'offset': 0, 'type': 'track', 'market': None} returned 401 due to The access token expired\n",
      "HTTP Error for GET to https://api.spotify.com/v1/search with Params: {'q': 'artist:Jackie Wilson track:Your One And Only Love', 'limit': 10, 'offset': 0, 'type': 'track', 'market': None} returned 401 due to The access token expired\n",
      "HTTP Error for GET to https://api.spotify.com/v1/search with Params: {'q': 'artist:Jackie Wilson & Count Basie track:Chain Gang', 'limit': 10, 'offset': 0, 'type': 'track', 'market': None} returned 401 due to The access token expired\n"
     ]
    },
    {
     "name": "stdout",
     "output_type": "stream",
     "text": [
      "ERROR:   Jackie Wilson You Don't Know What It Means\n",
      "ERROR:   Jackie Wilson You Got Me Walking\n",
      "ERROR:   Jackie Wilson Your One And Only Love\n",
      "ERROR:   Jackie Wilson & Count Basie Chain Gang\n"
     ]
    },
    {
     "name": "stderr",
     "output_type": "stream",
     "text": [
      "HTTP Error for GET to https://api.spotify.com/v1/search with Params: {'q': 'artist:Jackie Wilson & Count Basie track:For Your Precious Love', 'limit': 10, 'offset': 0, 'type': 'track', 'market': None} returned 401 due to The access token expired\n",
      "HTTP Error for GET to https://api.spotify.com/v1/search with Params: {'q': 'artist:Jackie Wilson & Linda Hopkins track:I Found Love', 'limit': 10, 'offset': 0, 'type': 'track', 'market': None} returned 401 due to The access token expired\n",
      "HTTP Error for GET to https://api.spotify.com/v1/search with Params: {'q': 'artist:Jackie Wilson & Linda Hopkins track:Shake A Hand', 'limit': 10, 'offset': 0, 'type': 'track', 'market': None} returned 401 due to The access token expired\n",
      "HTTP Error for GET to https://api.spotify.com/v1/search with Params: {'q': 'artist:Jackie Wilson And LaVern Baker track:Think Twice', 'limit': 10, 'offset': 0, 'type': 'track', 'market': None} returned 401 due to The access token expired\n"
     ]
    },
    {
     "name": "stdout",
     "output_type": "stream",
     "text": [
      "ERROR:   Jackie Wilson & Count Basie For Your Precious Love\n",
      "ERROR:   Jackie Wilson & Linda Hopkins I Found Love\n",
      "11680  ERROR:   Jackie Wilson & Linda Hopkins Shake A Hand\n",
      "ERROR:   Jackie Wilson And LaVern Baker Think Twice\n"
     ]
    },
    {
     "name": "stderr",
     "output_type": "stream",
     "text": [
      "HTTP Error for GET to https://api.spotify.com/v1/search with Params: {'q': 'artist:Jackson 5 track:ABC', 'limit': 10, 'offset': 0, 'type': 'track', 'market': None} returned 401 due to The access token expired\n",
      "HTTP Error for GET to https://api.spotify.com/v1/search with Params: {'q': 'artist:Jackson 5 track:Corner Of The Sky', 'limit': 10, 'offset': 0, 'type': 'track', 'market': None} returned 401 due to The access token expired\n",
      "HTTP Error for GET to https://api.spotify.com/v1/search with Params: {'q': 'artist:Jackson 5 track:Dancing Machine', 'limit': 10, 'offset': 0, 'type': 'track', 'market': None} returned 401 due to The access token expired\n",
      "HTTP Error for GET to https://api.spotify.com/v1/search with Params: {'q': 'artist:Jackson 5 track:Forever Came Today', 'limit': 10, 'offset': 0, 'type': 'track', 'market': None} returned 401 due to The access token expired\n"
     ]
    },
    {
     "name": "stdout",
     "output_type": "stream",
     "text": [
      "ERROR:   Jackson 5 ABC\n",
      "ERROR:   Jackson 5 Corner Of The Sky\n",
      "ERROR:   Jackson 5 Dancing Machine\n",
      "ERROR:   Jackson 5 Forever Came Today\n"
     ]
    },
    {
     "name": "stderr",
     "output_type": "stream",
     "text": [
      "HTTP Error for GET to https://api.spotify.com/v1/search with Params: {'q': 'artist:Jackson 5 track:Get It Together', 'limit': 10, 'offset': 0, 'type': 'track', 'market': None} returned 401 due to The access token expired\n",
      "HTTP Error for GET to https://api.spotify.com/v1/search with Params: {'q': 'artist:Jackson 5 track:Hallelujah Day', 'limit': 10, 'offset': 0, 'type': 'track', 'market': None} returned 401 due to The access token expired\n",
      "HTTP Error for GET to https://api.spotify.com/v1/search with Params: {'q': 'artist:Jackson 5 track:I Am Love (Parts I & II)', 'limit': 10, 'offset': 0, 'type': 'track', 'market': None} returned 401 due to The access token expired\n",
      "HTTP Error for GET to https://api.spotify.com/v1/search with Params: {'q': 'artist:Jackson 5 track:I Want You Back', 'limit': 10, 'offset': 0, 'type': 'track', 'market': None} returned 401 due to The access token expired\n"
     ]
    },
    {
     "name": "stdout",
     "output_type": "stream",
     "text": [
      "ERROR:   Jackson 5 Get It Together\n",
      "ERROR:   Jackson 5 Hallelujah Day\n",
      "ERROR:   Jackson 5 I Am Love (Parts I & II)\n",
      "ERROR:   Jackson 5 I Want You Back\n",
      "11690  "
     ]
    },
    {
     "name": "stderr",
     "output_type": "stream",
     "text": [
      "HTTP Error for GET to https://api.spotify.com/v1/search with Params: {'q': \"artist:Jackson 5 track:I'll Be There\", 'limit': 10, 'offset': 0, 'type': 'track', 'market': None} returned 401 due to The access token expired\n",
      "HTTP Error for GET to https://api.spotify.com/v1/search with Params: {'q': 'artist:Jackson 5 track:Little Bitty Pretty One', 'limit': 10, 'offset': 0, 'type': 'track', 'market': None} returned 401 due to The access token expired\n",
      "HTTP Error for GET to https://api.spotify.com/v1/search with Params: {'q': \"artist:Jackson 5 track:Lookin' Through The Windows\", 'limit': 10, 'offset': 0, 'type': 'track', 'market': None} returned 401 due to The access token expired\n",
      "HTTP Error for GET to https://api.spotify.com/v1/search with Params: {'q': \"artist:Jackson 5 track:Mama's Pearl\", 'limit': 10, 'offset': 0, 'type': 'track', 'market': None} returned 401 due to The access token expired\n"
     ]
    },
    {
     "name": "stdout",
     "output_type": "stream",
     "text": [
      "ERROR:   Jackson 5 I'll Be There\n",
      "ERROR:   Jackson 5 Little Bitty Pretty One\n",
      "ERROR:   Jackson 5 Lookin' Through The Windows\n",
      "ERROR:   Jackson 5 Mama's Pearl\n"
     ]
    },
    {
     "name": "stderr",
     "output_type": "stream",
     "text": [
      "HTTP Error for GET to https://api.spotify.com/v1/search with Params: {'q': 'artist:Jackson 5 track:Maybe Tomorrow', 'limit': 10, 'offset': 0, 'type': 'track', 'market': None} returned 401 due to The access token expired\n",
      "HTTP Error for GET to https://api.spotify.com/v1/search with Params: {'q': 'artist:Jackson 5 track:Never Can Say Goodbye', 'limit': 10, 'offset': 0, 'type': 'track', 'market': None} returned 401 due to The access token expired\n",
      "HTTP Error for GET to https://api.spotify.com/v1/search with Params: {'q': \"artist:Jackson 5 track:Santa Claus Is Comin' To Town\", 'limit': 10, 'offset': 0, 'type': 'track', 'market': None} returned 401 due to The access token expired\n",
      "HTTP Error for GET to https://api.spotify.com/v1/search with Params: {'q': 'artist:Jackson 5 track:Sugar Daddy', 'limit': 10, 'offset': 0, 'type': 'track', 'market': None} returned 401 due to The access token expired\n",
      "HTTP Error for GET to https://api.spotify.com/v1/search with Params: {'q': 'artist:Jackson 5 track:The Love You Save/I Found That Girl', 'limit': 10, 'offset': 0, 'type': 'track', 'market': None} returned 401 due to The access token expired\n"
     ]
    },
    {
     "name": "stdout",
     "output_type": "stream",
     "text": [
      "ERROR:   Jackson 5 Maybe Tomorrow\n",
      "ERROR:   Jackson 5 Never Can Say Goodbye\n",
      "ERROR:   Jackson 5 Santa Claus Is Comin' To Town\n",
      "ERROR:   Jackson 5 Sugar Daddy\n"
     ]
    },
    {
     "name": "stderr",
     "output_type": "stream",
     "text": [
      "HTTP Error for GET to https://api.spotify.com/v1/search with Params: {'q': 'artist:Jackson 5 track:Whatever You Got, I Want', 'limit': 10, 'offset': 0, 'type': 'track', 'market': None} returned 401 due to The access token expired\n",
      "HTTP Error for GET to https://api.spotify.com/v1/search with Params: {'q': 'artist:Jackson Browne track:Boulevard', 'limit': 10, 'offset': 0, 'type': 'track', 'market': None} returned 401 due to The access token expired\n",
      "HTTP Error for GET to https://api.spotify.com/v1/search with Params: {'q': 'artist:Jackson Browne track:Doctor My Eyes', 'limit': 10, 'offset': 0, 'type': 'track', 'market': None} returned 401 due to The access token expired\n",
      "HTTP Error for GET to https://api.spotify.com/v1/search with Params: {'q': 'artist:Jackson Browne track:For A Rocker', 'limit': 10, 'offset': 0, 'type': 'track', 'market': None} returned 401 due to The access token expired\n"
     ]
    },
    {
     "name": "stdout",
     "output_type": "stream",
     "text": [
      "ERROR:   Jackson 5 The Love You Save/I Found That Girl\n",
      "ERROR:   Jackson 5 Whatever You Got, I Want\n",
      "11700  \n",
      "ERROR:   Jackson Browne Boulevard\n",
      "ERROR:   Jackson Browne Doctor My Eyes\n"
     ]
    },
    {
     "name": "stderr",
     "output_type": "stream",
     "text": [
      "HTTP Error for GET to https://api.spotify.com/v1/search with Params: {'q': 'artist:Jackson Browne track:For America', 'limit': 10, 'offset': 0, 'type': 'track', 'market': None} returned 401 due to The access token expired\n",
      "HTTP Error for GET to https://api.spotify.com/v1/search with Params: {'q': 'artist:Jackson Browne track:Here Come Those Tears Again', 'limit': 10, 'offset': 0, 'type': 'track', 'market': None} returned 401 due to The access token expired\n",
      "HTTP Error for GET to https://api.spotify.com/v1/search with Params: {'q': 'artist:Jackson Browne track:In The Shape Of A Heart', 'limit': 10, 'offset': 0, 'type': 'track', 'market': None} returned 401 due to The access token expired\n"
     ]
    },
    {
     "name": "stdout",
     "output_type": "stream",
     "text": [
      "ERROR:   Jackson Browne For A Rocker\n",
      "ERROR:   Jackson Browne For America\n",
      "ERROR:   Jackson Browne Here Come Those Tears Again\n",
      "ERROR:   Jackson Browne In The Shape Of A Heart\n"
     ]
    },
    {
     "name": "stderr",
     "output_type": "stream",
     "text": [
      "HTTP Error for GET to https://api.spotify.com/v1/search with Params: {'q': 'artist:Jackson Browne track:Lawyers In Love', 'limit': 10, 'offset': 0, 'type': 'track', 'market': None} returned 401 due to The access token expired\n",
      "HTTP Error for GET to https://api.spotify.com/v1/search with Params: {'q': 'artist:Jackson Browne track:Redneck Friend', 'limit': 10, 'offset': 0, 'type': 'track', 'market': None} returned 401 due to The access token expired\n",
      "HTTP Error for GET to https://api.spotify.com/v1/search with Params: {'q': 'artist:Jackson Browne track:Rock Me On The Water', 'limit': 10, 'offset': 0, 'type': 'track', 'market': None} returned 401 due to The access token expired\n",
      "HTTP Error for GET to https://api.spotify.com/v1/search with Params: {'q': 'artist:Jackson Browne track:Running On Empty', 'limit': 10, 'offset': 0, 'type': 'track', 'market': None} returned 401 due to The access token expired\n"
     ]
    },
    {
     "name": "stdout",
     "output_type": "stream",
     "text": [
      "ERROR:   Jackson Browne Lawyers In Love\n",
      "ERROR:   Jackson Browne Redneck Friend\n",
      "ERROR:   Jackson Browne Rock Me On The Water\n",
      "ERROR:  "
     ]
    },
    {
     "name": "stderr",
     "output_type": "stream",
     "text": [
      "HTTP Error for GET to https://api.spotify.com/v1/search with Params: {'q': \"artist:Jackson Browne track:Somebody's Baby\", 'limit': 10, 'offset': 0, 'type': 'track', 'market': None} returned 401 due to The access token expired\n",
      "HTTP Error for GET to https://api.spotify.com/v1/search with Params: {'q': 'artist:Jackson Browne track:Stay/The Load-Out', 'limit': 10, 'offset': 0, 'type': 'track', 'market': None} returned 401 due to The access token expired\n",
      "HTTP Error for GET to https://api.spotify.com/v1/search with Params: {'q': 'artist:Jackson Browne track:Tender Is The Night', 'limit': 10, 'offset': 0, 'type': 'track', 'market': None} returned 401 due to The access token expired\n",
      "HTTP Error for GET to https://api.spotify.com/v1/search with Params: {'q': 'artist:Jackson Browne track:That Girl Could Sing', 'limit': 10, 'offset': 0, 'type': 'track', 'market': None} returned 401 due to The access token expired\n",
      "HTTP Error for GET to https://api.spotify.com/v1/search with Params: {'q': 'artist:Jackson Browne track:The Pretender', 'limit': 10, 'offset': 0, 'type': 'track', 'market': None} returned 401 due to The access token expired\n"
     ]
    },
    {
     "name": "stdout",
     "output_type": "stream",
     "text": [
      " Jackson Browne Running On Empty\n",
      "11710  ERROR:   Jackson Browne Somebody's Baby\n",
      "ERROR:   Jackson Browne Stay/The Load-Out\n",
      "ERROR:   Jackson Browne Tender Is The Night\n",
      "ERROR:   Jackson Browne That Girl Could Sing\n"
     ]
    },
    {
     "name": "stderr",
     "output_type": "stream",
     "text": [
      "HTTP Error for GET to https://api.spotify.com/v1/search with Params: {'q': 'artist:Jacky Noguez And His Musette Orchestra track:Ciao, Ciao Bambina', 'limit': 10, 'offset': 0, 'type': 'track', 'market': None} returned 401 due to The access token expired\n",
      "HTTP Error for GET to https://api.spotify.com/v1/search with Params: {'q': 'artist:Jacky Noguez And His Orchestra track:Amapola', 'limit': 10, 'offset': 0, 'type': 'track', 'market': None} returned 401 due to The access token expired\n",
      "HTTP Error for GET to https://api.spotify.com/v1/search with Params: {'q': 'artist:Jacky Noguez And His Orchestra track:Marina', 'limit': 10, 'offset': 0, 'type': 'track', 'market': None} returned 401 due to The access token expired\n"
     ]
    },
    {
     "name": "stdout",
     "output_type": "stream",
     "text": [
      "ERROR:   Jackson Browne The Pretender\n",
      "ERROR:   Jacky Noguez And His Musette Orchestra Ciao, Ciao Bambina\n",
      "ERROR:   Jacky Noguez And His Orchestra Amapola\n",
      "ERROR:   Jacky Noguez And His Orchestra Marina\n"
     ]
    },
    {
     "name": "stderr",
     "output_type": "stream",
     "text": [
      "HTTP Error for GET to https://api.spotify.com/v1/search with Params: {'q': 'artist:Jacob Sartorius track:Hit Or Miss', 'limit': 10, 'offset': 0, 'type': 'track', 'market': None} returned 401 due to The access token expired\n",
      "HTTP Error for GET to https://api.spotify.com/v1/search with Params: {'q': 'artist:Jacob Sartorius track:Sweatshirt', 'limit': 10, 'offset': 0, 'type': 'track', 'market': None} returned 401 due to The access token expired\n",
      "HTTP Error for GET to https://api.spotify.com/v1/search with Params: {'q': 'artist:Jacquees track:B.E.D.', 'limit': 10, 'offset': 0, 'type': 'track', 'market': None} returned 401 due to The access token expired\n",
      "HTTP Error for GET to https://api.spotify.com/v1/search with Params: {'q': 'artist:Jacquees track:You', 'limit': 10, 'offset': 0, 'type': 'track', 'market': None} returned 401 due to The access token expired\n"
     ]
    }
   ],
   "source": [
    "# populate df_billboard_songs with ids, where available\n",
    "for i, row in df_billboard_songs.iterrows():\n",
    "    \n",
    "    # show status\n",
    "    if i%10 == 0:\n",
    "        print(i, end='  ')\n",
    "    if i%100 == 0:\n",
    "        print()\n",
    "        \n",
    "    # start over where we finished\n",
    "    if df_billboard_songs['id'].iloc[i] != \"\":  \n",
    "        continue\n",
    "    # append id, NONE, or 'ERROR'\n",
    "    else:\n",
    "        artist = row[1]\n",
    "        song = row[0]\n",
    "        try:\n",
    "            # unless there is an error, will append the id or None\n",
    "            df_billboard_songs['id'].iloc[i] = find_id(song, artist, metadata_ids)\n",
    "        except:  # any error needs to be dealt with manually\n",
    "            # if there is an error, change id to 'ERROR'\n",
    "            df_billboard_songs['id'].iloc[i] = 'ERROR'\n",
    "            print('ERROR:  ', artist, song)\n",
    "        # save every 1000 rows, if new\n",
    "        if i%1000 == 0:\n",
    "            df_billboard_songs.to_csv('df_billboard_songs.csv', index=False)\n",
    "        \n",
    "# save final dataframe\n",
    "df_billboard_songs.to_csv('df_billboard_songs.csv', index=False)"
   ]
  },
  {
   "cell_type": "code",
   "execution_count": null,
   "id": "7a5d9c35",
   "metadata": {},
   "outputs": [],
   "source": [
    "# how many id have we added\n",
    "sum(df_billboard_songs.id != \"\")"
   ]
  },
  {
   "cell_type": "code",
   "execution_count": null,
   "id": "61456231",
   "metadata": {},
   "outputs": [],
   "source": []
  },
  {
   "cell_type": "code",
   "execution_count": null,
   "id": "bc5b3071",
   "metadata": {},
   "outputs": [],
   "source": []
  },
  {
   "cell_type": "code",
   "execution_count": null,
   "id": "fec8a795",
   "metadata": {},
   "outputs": [],
   "source": [
    "# now merge with entire billboard list\n",
    "\n"
   ]
  },
  {
   "cell_type": "markdown",
   "id": "2e30aa88",
   "metadata": {},
   "source": [
    "### 1.2M Songs with Metadata (csv)\n",
    "https://www.kaggle.com/datasets/rodolfofigueroa/spotify-12m-songs"
   ]
  },
  {
   "cell_type": "code",
   "execution_count": 9,
   "id": "87b1cea3",
   "metadata": {},
   "outputs": [],
   "source": [
    "# there are ~30k songs on the Billboard 100 list\n",
    "# let's see how many are here:\n",
    "# https://www.kaggle.com/datasets/rodolfofigueroa/spotify-12m-songs\n",
    "# via:  https://www.kaggle.com/datasets/\n",
    "# Spotify 1.2M+ Songs\n",
    "url_1M_songs = r'D:\\RYERSON\\820\\Datasets\\Spotify 1.2M+ Songs\\tracks_features.csv'\n",
    "\n",
    "# create the dataframe with the large number of songs metadata\n",
    "df_1M_songs = pd.read_csv(url_1M_songs)\n",
    "\n",
    "# make a list of song ids from the 1M dataset\n",
    "metadata_ids = list(df_1M_songs.id)"
   ]
  },
  {
   "cell_type": "code",
   "execution_count": null,
   "id": "3c86fd18",
   "metadata": {},
   "outputs": [],
   "source": [
    "# check how many matches in 1.2M songs, what percent? SQL dataset? manual scraping?\n",
    "\n"
   ]
  },
  {
   "cell_type": "code",
   "execution_count": null,
   "id": "4eb6774d",
   "metadata": {},
   "outputs": [],
   "source": []
  },
  {
   "cell_type": "markdown",
   "id": "f2f99608",
   "metadata": {},
   "source": [
    "### 8+ M. Spotify Tracks, Genre, Audio Features (SQLite)\n",
    "https://www.kaggle.com/datasets/maltegrosse/8-m-spotify-tracks-genre-audio-features"
   ]
  },
  {
   "cell_type": "code",
   "execution_count": null,
   "id": "ee495f3b",
   "metadata": {},
   "outputs": [],
   "source": [
    "url_8M_sql = 'D:\\RYERSON\\820\\Datasets\\8+ M. Spotify Tracks, Genre, Audio Features\\spotify.sqlite'\n",
    "\n"
   ]
  },
  {
   "cell_type": "code",
   "execution_count": null,
   "id": "dadd7df4",
   "metadata": {},
   "outputs": [],
   "source": []
  },
  {
   "cell_type": "code",
   "execution_count": null,
   "id": "762e11d4",
   "metadata": {},
   "outputs": [],
   "source": []
  }
 ],
 "metadata": {
  "kernelspec": {
   "display_name": "Python 3 (ipykernel)",
   "language": "python",
   "name": "python3"
  },
  "language_info": {
   "codemirror_mode": {
    "name": "ipython",
    "version": 3
   },
   "file_extension": ".py",
   "mimetype": "text/x-python",
   "name": "python",
   "nbconvert_exporter": "python",
   "pygments_lexer": "ipython3",
   "version": "3.9.7"
  }
 },
 "nbformat": 4,
 "nbformat_minor": 5
}
