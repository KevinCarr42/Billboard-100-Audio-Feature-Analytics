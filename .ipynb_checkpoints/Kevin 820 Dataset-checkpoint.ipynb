{
 "cells": [
  {
   "cell_type": "code",
   "execution_count": null,
   "id": "b92fb833",
   "metadata": {},
   "outputs": [],
   "source": [
    "# import modules\n",
    "import pandas as pd\n",
    "import numpy as np\n",
    "import spotipy\n",
    "\n",
    "# full-width display\n",
    "from IPython.core.display import display, HTML\n",
    "display(HTML(\"<style>.container { width:100% !important; }</style>\"))\n",
    "\n",
    "# pandas format\n",
    "pd.set_option('display.float_format', '{:_.0f}'.format)\n",
    "# NOTE: underscore separaters ('_') are better than commas (',') because \n",
    "# numbers with underscores work in Python without any extra effort.\n",
    "pd.set_option('display.max_columns', None)\n",
    "pd.set_option('display.max_rows', 100)\n",
    "\n",
    "# spotipy\n",
    "import spotipy\n",
    "from spotipy.oauth2 import SpotifyClientCredentials\n",
    "\n",
    "# CONFIDENTIAL.py included in .gitignore, contains private API key\n",
    "# use link above to get a client_id and client_secret from developer.spotify.com\n",
    "from CONFIDENTIAL import client_id, client_secret"
   ]
  },
  {
   "cell_type": "code",
   "execution_count": null,
   "id": "8249bd06",
   "metadata": {},
   "outputs": [],
   "source": [
    "spotify = spotipy.Spotify(\n",
    "    client_credentials_manager=SpotifyClientCredentials(\n",
    "        client_id = client_id,\n",
    "        client_secret = client_secret\n",
    "    )\n",
    ")"
   ]
  },
  {
   "cell_type": "code",
   "execution_count": null,
   "id": "8993088f",
   "metadata": {},
   "outputs": [],
   "source": [
    "track_title, artist_name = 'Tearin Up My Heart', 'N Sync'\n",
    "spotify.search(q='artist:' + artist_name + ' track:' + track_title, type='track')"
   ]
  },
  {
   "cell_type": "markdown",
   "id": "f6c8526b",
   "metadata": {},
   "source": [
    "### The Billboard 100"
   ]
  },
  {
   "cell_type": "code",
   "execution_count": null,
   "id": "c5a90136",
   "metadata": {},
   "outputs": [],
   "source": [
    "# Billboard Top 100 Historical Data\n",
    "# link:  https://www.kaggle.com/datasets/dhruvildave/billboard-the-hot-100-songs\n",
    "# via:  https://toolbox.google.com/datasetsearch\n",
    "url_billboard = r'D:\\RYERSON\\820\\Datasets\\Billboard The Hot 100 Songs\\charts.csv'"
   ]
  },
  {
   "cell_type": "code",
   "execution_count": null,
   "id": "83dd3fd3",
   "metadata": {},
   "outputs": [],
   "source": [
    "df_billboard = pd.read_csv(url_billboard)\n",
    "df_billboard['date'] = pd.to_datetime(df_billboard['date'])\n",
    "df_billboard.head(10)"
   ]
  },
  {
   "cell_type": "code",
   "execution_count": null,
   "id": "c16ea6aa",
   "metadata": {},
   "outputs": [],
   "source": [
    "# date range for data\n",
    "df_billboard.date.min(), df_billboard.date.max()"
   ]
  },
  {
   "cell_type": "markdown",
   "id": "c34c3dd5",
   "metadata": {},
   "source": [
    "### Unique Songs from The Billboard 100"
   ]
  },
  {
   "cell_type": "code",
   "execution_count": null,
   "id": "a8a0584e",
   "metadata": {},
   "outputs": [],
   "source": [
    "# just the songs on the billboard 100, once per song\n",
    "df_billboard_songs = df_billboard[['song', 'artist']].drop_duplicates().sort_values(['artist', 'song']).reset_index(drop=True)\n",
    "\n",
    "# add a blank id column\n",
    "df_billboard_songs['id'] = \"\"\n",
    "\n",
    "df_billboard_songs.shape"
   ]
  },
  {
   "cell_type": "markdown",
   "id": "2e30aa88",
   "metadata": {},
   "source": [
    "### 1.2M songs with Metadata"
   ]
  },
  {
   "cell_type": "code",
   "execution_count": null,
   "id": "87b1cea3",
   "metadata": {},
   "outputs": [],
   "source": [
    "# there are ~30k songs on the Billboard 100 list\n",
    "# let's see how many are here:\n",
    "# https://www.kaggle.com/datasets/rodolfofigueroa/spotify-12m-songs\n",
    "# via:  https://www.kaggle.com/datasets/\n",
    "# Spotify 1.2M+ Songs\n",
    "url_1M_songs = r'D:\\RYERSON\\820\\Datasets\\Spotify 1.2M+ Songs\\tracks_features.csv'\n",
    "\n",
    "# create the dataframe with the large number of songs metadata\n",
    "df_1M_songs = pd.read_csv(url_1M_songs)\n",
    "\n",
    "# make a list of song ids from the 1M dataset\n",
    "metadata_ids = list(df_1M_songs.id)"
   ]
  },
  {
   "cell_type": "markdown",
   "id": "e7b3b605",
   "metadata": {},
   "source": [
    "### Spotify API setup"
   ]
  },
  {
   "cell_type": "markdown",
   "id": "150fbd51",
   "metadata": {},
   "source": [
    "https://developer.spotify.com/terms/\n",
    "\n",
    "https://developer.spotify.com/dashboard/applications/cd5ce2cb690543ff9967e817d4665543"
   ]
  },
  {
   "cell_type": "markdown",
   "id": "3861ef53",
   "metadata": {},
   "source": [
    "##### Useful Spotify API Features\n",
    "\n",
    "https://developer.spotify.com/documentation/web-api/reference/#/operations/get-several-audio-features\n",
    "\n",
    "https://developer.spotify.com/documentation/web-api/reference/#/operations/get-recommendations"
   ]
  },
  {
   "cell_type": "code",
   "execution_count": null,
   "id": "418a133f",
   "metadata": {},
   "outputs": [],
   "source": [
    "spotify = spotipy.Spotify(\n",
    "    client_credentials_manager=SpotifyClientCredentials(\n",
    "        client_id = client_id,\n",
    "        client_secret = client_secret\n",
    "    )\n",
    ")"
   ]
  },
  {
   "cell_type": "code",
   "execution_count": null,
   "id": "02ca23a2",
   "metadata": {},
   "outputs": [],
   "source": [
    "track_title, artist_name = 'Tearin Up My Heart', 'N Sync'\n",
    "\n",
    "spotify.search(q='artist:' + artist_name + ' track:' + track_title, type='track')"
   ]
  },
  {
   "cell_type": "code",
   "execution_count": null,
   "id": "f8d8d6bf",
   "metadata": {},
   "outputs": [],
   "source": [
    "def find_id(track_title, artist_name, metadata_ids):\n",
    "    \"\"\" \n",
    "    for searches with multiple results, all id were identical for the test cases I ran \n",
    "    some searches return no results, in this case the song is not on spotify\n",
    "        confirmed by spot checks in the spotify music player\n",
    "    some tracks give a 404 error, \n",
    "        these seem to exist in Spotify but 404 anyway\n",
    "        not sure why the API does this but \n",
    "    \"\"\"\n",
    "    track_info = spotify.search(q='artist:' + artist_name + ' track:' + track_title, type='track')\n",
    "    \n",
    "    if track_info['tracks']['items'] == []:  # if track doesn't exist on Spotify\n",
    "        return None\n",
    "    else:\n",
    "        # set the id to the first result\n",
    "        track_id = track_info['tracks']['items'][0]['id']\n",
    "        \n",
    "        # check if there is a better match\n",
    "        number_of_results = len(track_info['tracks']['items'])\n",
    "        \n",
    "        for i in range(number_of_results):\n",
    "            alt_track_id = track_info['tracks']['items'][i]['id']\n",
    "            if alt_track_id in metadata_ids:\n",
    "                track_id = track_info['tracks']['items'][i]['id']\n",
    "        \n",
    "        return track_id"
   ]
  },
  {
   "cell_type": "code",
   "execution_count": null,
   "id": "2f92e09f",
   "metadata": {},
   "outputs": [],
   "source": [
    "find_id('Tearin Up My Heart', 'N Sync', metadata_ids)"
   ]
  },
  {
   "cell_type": "markdown",
   "id": "3432b777",
   "metadata": {},
   "source": [
    "### Add Spotify IDs to billboard songs"
   ]
  },
  {
   "cell_type": "code",
   "execution_count": null,
   "id": "f3d205ef",
   "metadata": {},
   "outputs": [],
   "source": [
    "# df_billboard_songs.loc[df_billboard_songs.song == 'This Is For The Lover In You']"
   ]
  },
  {
   "cell_type": "code",
   "execution_count": null,
   "id": "e5f0b372",
   "metadata": {},
   "outputs": [],
   "source": [
    "# # add troublesome songs manually\n",
    "# df_billboard_songs.loc[df_billboard_songs.song == 'Jai Ho! (You Are My Destiny)', 'id'] = '7Kpqjspw4Y7HrvItIRcBiW'\n",
    "# df_billboard_songs.loc[df_billboard_songs.song == 'Wholy Holy', 'id'] = '0E9JjpG9gVNPcb8cTjRqBo'  # multiple versions, none match perfectly\n",
    "# df_billboard_songs.loc[df_billboard_songs.song == 'This Is For The Lover In You', 'id'] = '1blZP5x1XQSqQFpTy12rFh'"
   ]
  },
  {
   "cell_type": "code",
   "execution_count": null,
   "id": "46839b4e",
   "metadata": {
    "scrolled": true
   },
   "outputs": [],
   "source": [
    "# populate df_billboard_songs with ids, where available\n",
    "for i, row in df_billboard_songs.head(200).iterrows():\n",
    "    \n",
    "    # show status\n",
    "    if i%10 == 0:\n",
    "        print(i, end='  ')\n",
    "    if i%100 == 0:\n",
    "        print()\n",
    "    \n",
    "    # save every 1000 rows\n",
    "    if i%1000 == 0:\n",
    "        df_billboard_songs.to_csv('df_billboard_songs.csv', index=False)\n",
    "        \n",
    "    # start over where we finished\n",
    "    if df_billboard_songs['id'].iloc[i] != \"\":  \n",
    "        continue\n",
    "    # append id, NONE, or 'ERROR'\n",
    "    else:\n",
    "        artist = row[1]\n",
    "        song = row[0]\n",
    "        try:\n",
    "            # unless there is an error, will append the id or None\n",
    "            df_billboard_songs['id'].iloc[i] = find_id(song, artist, metadata_ids)\n",
    "        except:  # any error needs to be dealt with manually\n",
    "            # if there is an error, change id to 'ERROR'\n",
    "            df_billboard_songs['id'].iloc[i] = 'ERROR'\n",
    "            print('ERROR:  ', artist, song)\n",
    "            \n",
    "# save final dataframe\n",
    "df_billboard_songs.to_csv('df_billboard_songs.csv', index=False)"
   ]
  },
  {
   "cell_type": "code",
   "execution_count": null,
   "id": "7a5d9c35",
   "metadata": {},
   "outputs": [],
   "source": [
    "# how many id have we added\n",
    "sum(df_billboard_songs.id != \"\")"
   ]
  },
  {
   "cell_type": "code",
   "execution_count": null,
   "id": "e3681b8b",
   "metadata": {},
   "outputs": [],
   "source": [
    "for i in range(10000):\n",
    "    \n",
    "    # show status\n",
    "    if i%10 == 0:\n",
    "        print(i, end='  ')\n",
    "    if i%100 == 0:\n",
    "        print()"
   ]
  },
  {
   "cell_type": "code",
   "execution_count": null,
   "id": "61456231",
   "metadata": {},
   "outputs": [],
   "source": []
  },
  {
   "cell_type": "code",
   "execution_count": null,
   "id": "bc5b3071",
   "metadata": {},
   "outputs": [],
   "source": []
  },
  {
   "cell_type": "code",
   "execution_count": null,
   "id": "fec8a795",
   "metadata": {},
   "outputs": [],
   "source": [
    "# now merge with entire billboard list\n",
    "\n"
   ]
  },
  {
   "cell_type": "code",
   "execution_count": null,
   "id": "3c86fd18",
   "metadata": {},
   "outputs": [],
   "source": [
    "# check how many matches in 1.2M songs, what percent? SQL dataset? manual scraping?\n",
    "\n"
   ]
  },
  {
   "cell_type": "code",
   "execution_count": null,
   "id": "4eb6774d",
   "metadata": {},
   "outputs": [],
   "source": []
  },
  {
   "cell_type": "code",
   "execution_count": null,
   "id": "311bf6e4",
   "metadata": {},
   "outputs": [],
   "source": []
  },
  {
   "cell_type": "code",
   "execution_count": null,
   "id": "ee495f3b",
   "metadata": {},
   "outputs": [],
   "source": []
  },
  {
   "cell_type": "code",
   "execution_count": null,
   "id": "dadd7df4",
   "metadata": {},
   "outputs": [],
   "source": []
  },
  {
   "cell_type": "code",
   "execution_count": null,
   "id": "762e11d4",
   "metadata": {},
   "outputs": [],
   "source": []
  },
  {
   "cell_type": "code",
   "execution_count": null,
   "id": "0004d2c8",
   "metadata": {},
   "outputs": [],
   "source": []
  },
  {
   "cell_type": "code",
   "execution_count": null,
   "id": "24cfc675",
   "metadata": {},
   "outputs": [],
   "source": []
  },
  {
   "cell_type": "code",
   "execution_count": null,
   "id": "84a8cf7b",
   "metadata": {},
   "outputs": [],
   "source": []
  },
  {
   "cell_type": "code",
   "execution_count": null,
   "id": "b399bf20",
   "metadata": {},
   "outputs": [],
   "source": []
  },
  {
   "cell_type": "code",
   "execution_count": null,
   "id": "8508f91d",
   "metadata": {},
   "outputs": [],
   "source": []
  },
  {
   "cell_type": "code",
   "execution_count": null,
   "id": "afe32569",
   "metadata": {},
   "outputs": [],
   "source": []
  },
  {
   "cell_type": "code",
   "execution_count": null,
   "id": "1ca41084",
   "metadata": {},
   "outputs": [],
   "source": []
  },
  {
   "cell_type": "code",
   "execution_count": null,
   "id": "176205cf",
   "metadata": {},
   "outputs": [],
   "source": []
  },
  {
   "cell_type": "code",
   "execution_count": null,
   "id": "876cbccc",
   "metadata": {},
   "outputs": [],
   "source": []
  },
  {
   "cell_type": "markdown",
   "id": "02202c97",
   "metadata": {},
   "source": [
    "### merging without spotify id is not working flawlessly, use API to get id, and check how many matches"
   ]
  },
  {
   "cell_type": "code",
   "execution_count": null,
   "id": "0c4c0a41",
   "metadata": {},
   "outputs": [],
   "source": [
    "# many indirect matches, need be clever to merge\n",
    "# match artist, look for billboard.song in 1M.name.str"
   ]
  },
  {
   "cell_type": "code",
   "execution_count": null,
   "id": "76859ee1",
   "metadata": {},
   "outputs": [],
   "source": [
    "# change merging fields to lowercase with matching names\n",
    "df_billboard_songs['artist_lower'] = df_billboard_songs['artist'].str.lower()\n",
    "df_billboard_songs['track_lower'] = df_billboard_songs['song'].str.lower()\n",
    "\n",
    "df_billboard_songs = df_billboard_songs[['artist_lower', 'track_lower']]"
   ]
  },
  {
   "cell_type": "code",
   "execution_count": null,
   "id": "171f0b96",
   "metadata": {},
   "outputs": [],
   "source": [
    "df_1M_songs['artists_lower'] = df_1M_songs['artists'].str.lower()\n",
    "df_1M_songs['track_lower'] = df_1M_songs['name'].str.lower()"
   ]
  },
  {
   "cell_type": "code",
   "execution_count": null,
   "id": "c253c518",
   "metadata": {},
   "outputs": [],
   "source": [
    "# now check if df_billboard_songs entries match 1M_songs entries\n",
    "\n",
    "billboard_tracks = list(df_billboard_songs.track_lower)\n",
    "\n",
    "# df_billboard_songs['ID'] = df_1M_songs[(df_billboard_songs.track_lower in df_1M_songs.track_lower) & (df_billboard_songs.artist_lower in df_1M_songs.artists_lower)]\n"
   ]
  },
  {
   "cell_type": "code",
   "execution_count": null,
   "id": "16785aca",
   "metadata": {},
   "outputs": [],
   "source": [
    "df_1M_songs.head(0)"
   ]
  },
  {
   "cell_type": "code",
   "execution_count": null,
   "id": "d26f80c2",
   "metadata": {},
   "outputs": [],
   "source": [
    "df_temp = df_billboard_songs.sample(100)"
   ]
  },
  {
   "cell_type": "code",
   "execution_count": null,
   "id": "a508bdb8",
   "metadata": {},
   "outputs": [],
   "source": []
  },
  {
   "cell_type": "code",
   "execution_count": null,
   "id": "50840ea7",
   "metadata": {},
   "outputs": [],
   "source": []
  },
  {
   "cell_type": "code",
   "execution_count": null,
   "id": "4ef55d66",
   "metadata": {},
   "outputs": [],
   "source": []
  },
  {
   "cell_type": "markdown",
   "id": "0eb1a2a0",
   "metadata": {},
   "source": [
    "### regex method only takes first artist, doesn't work properly misses out of order artists"
   ]
  },
  {
   "cell_type": "code",
   "execution_count": null,
   "id": "5615fefa",
   "metadata": {},
   "outputs": [],
   "source": [
    "# formatting in df_1M_songs is difficult to parse\n",
    "# need to extract list-style formatting using Regex:\n",
    "\"\"\"\n",
    "https://stackoverflow.com/questions/71469808/how-to-replace-a-list-with-first-element-of-list-in-pandas-dataframe-column\n",
    "regex:\n",
    "(             # start capturing\n",
    "(?<=\\[[\"\\'])  # if preceded by [\" or ['\n",
    "[^\"\\']*       # get all text until \" or '\n",
    "|             # OR\n",
    "^[^\"\\']+$     # get whole string if it doesn't contain \" or '\n",
    ")             # stop capturing\n",
    "\"\"\"\n",
    "df_1M_songs['artist_lower'] = df_1M_songs['artists'].str.extract('((?<=\\[[\"\\'])[^\"\\']*|^[^\"\\']+$)')\n",
    "df_1M_songs['artist_lower'] = df_1M_songs['artist_lower'].str.lower()\n",
    "df_1M_songs['track_lower'] = df_1M_songs['name'].str.lower()"
   ]
  },
  {
   "cell_type": "code",
   "execution_count": null,
   "id": "f25b9bc8",
   "metadata": {},
   "outputs": [],
   "source": [
    "# now, let's see how many id matches we can get with the billboard tracks\n",
    "merge_on = ['artist_lower']\n",
    "\n",
    "df_temp = pd.merge(df_billboard_songs, df_1M_songs, how='left', on=merge_on, indicator=True)\n",
    "df_temp.shape"
   ]
  },
  {
   "cell_type": "code",
   "execution_count": null,
   "id": "ad525794",
   "metadata": {},
   "outputs": [],
   "source": [
    "df_temp.head()"
   ]
  },
  {
   "cell_type": "code",
   "execution_count": null,
   "id": "429944af",
   "metadata": {
    "scrolled": false
   },
   "outputs": [],
   "source": [
    "df_1M_songs[df_1M_songs.artist_lower.str.contains('yankovic')].shape"
   ]
  },
  {
   "cell_type": "code",
   "execution_count": null,
   "id": "2e25db2d",
   "metadata": {},
   "outputs": [],
   "source": [
    "df_1M_songs[df_1M_songs.artists.str.contains('Yankovic')].shape"
   ]
  },
  {
   "cell_type": "code",
   "execution_count": null,
   "id": "aee046ef",
   "metadata": {},
   "outputs": [],
   "source": []
  },
  {
   "cell_type": "code",
   "execution_count": null,
   "id": "88113fd2",
   "metadata": {},
   "outputs": [],
   "source": []
  },
  {
   "cell_type": "code",
   "execution_count": null,
   "id": "7f8f877e",
   "metadata": {},
   "outputs": [],
   "source": []
  },
  {
   "cell_type": "code",
   "execution_count": null,
   "id": "c85b3183",
   "metadata": {},
   "outputs": [],
   "source": []
  },
  {
   "cell_type": "code",
   "execution_count": null,
   "id": "c13e8a5d",
   "metadata": {},
   "outputs": [],
   "source": []
  },
  {
   "cell_type": "code",
   "execution_count": null,
   "id": "e6b7d133",
   "metadata": {},
   "outputs": [],
   "source": []
  },
  {
   "cell_type": "code",
   "execution_count": null,
   "id": "bc15fe64",
   "metadata": {},
   "outputs": [],
   "source": [
    "# merge billboard 100 with 1.2M songs\n",
    "\n",
    "# change merging fields to lowercase with matching names\n",
    "df_billboard['artist_lower'] = df_billboard['artist'].str.lower()\n",
    "df_billboard['track_lower'] = df_billboard['song'].str.lower()\n",
    "\n",
    "# need to extract list-style formatting using Regex:\n",
    "\"\"\"\n",
    "https://stackoverflow.com/questions/71469808/how-to-replace-a-list-with-first-element-of-list-in-pandas-dataframe-column\n",
    "regex:\n",
    "(             # start capturing\n",
    "(?<=\\[[\"\\'])  # if preceded by [\" or ['\n",
    "[^\"\\']*       # get all text until \" or '\n",
    "|             # OR\n",
    "^[^\"\\']+$     # get whole string if it doesn't contain \" or '\n",
    ")             # stop capturing\n",
    "\"\"\"\n",
    "df_1M_songs['artist_lower'] = df_1M_songs['artists'].str.extract('((?<=\\[[\"\\'])[^\"\\']*|^[^\"\\']+$)')\n",
    "df_1M_songs['artist_lower'] = df_1M_songs['artist_lower'].str.lower()\n",
    "df_1M_songs['track_lower'] = df_1M_songs['name'].str.lower()\n",
    "\n",
    "# join tables\n",
    "df = pd.merge(df_billboard, df_1M_songs, how='outer', on=['artist_lower', 'track_lower'], indicator=True)\n",
    "df.shape, df[df._merge=='both'].shape"
   ]
  },
  {
   "cell_type": "code",
   "execution_count": null,
   "id": "1a81b734",
   "metadata": {},
   "outputs": [],
   "source": [
    "# how many missing songs?\n",
    "df[df._merge == 'left_only'].drop_duplicates(['artist_lower', 'track_lower']).reset_index().shape"
   ]
  },
  {
   "cell_type": "code",
   "execution_count": null,
   "id": "b6278213",
   "metadata": {},
   "outputs": [],
   "source": [
    "# how many found songs?\n",
    "df[df._merge == 'both'].drop_duplicates(['artist_lower', 'track_lower']).reset_index().shape\n",
    "# lame"
   ]
  },
  {
   "cell_type": "code",
   "execution_count": null,
   "id": "2a28ba31",
   "metadata": {},
   "outputs": [],
   "source": []
  },
  {
   "cell_type": "code",
   "execution_count": null,
   "id": "82784403",
   "metadata": {},
   "outputs": [],
   "source": [
    "missing_songs = df[df._merge == 'left_only'].drop_duplicates(['artist_lower', 'track_lower']).sort_values(['artist_lower', 'track_lower']).reset_index()[['artist_lower', 'track_lower']]\n",
    "missing_songs"
   ]
  },
  {
   "cell_type": "code",
   "execution_count": null,
   "id": "226bff0c",
   "metadata": {},
   "outputs": [],
   "source": [
    "# manually check database for these\n",
    "manual_check = df_1M_songs[['artist_lower', 'track_lower', 'album']]"
   ]
  },
  {
   "cell_type": "code",
   "execution_count": null,
   "id": "a0d36e7d",
   "metadata": {},
   "outputs": [],
   "source": [
    "manual_check[manual_check.track_lower == 'velcro fly']"
   ]
  },
  {
   "cell_type": "code",
   "execution_count": null,
   "id": "a77fbc06",
   "metadata": {},
   "outputs": [],
   "source": [
    "# can i use this to join?\n",
    "manual_check[manual_check.track_lower.str.contains('velcro fly')]\n",
    "\n",
    "# don't like this solution, it will be humongous\n",
    "# https://stackoverflow.com/questions/58011182/pandas-merge-a-dataframe-on-an-exact-and-partial-match"
   ]
  },
  {
   "cell_type": "code",
   "execution_count": null,
   "id": "5837004e",
   "metadata": {
    "scrolled": false
   },
   "outputs": [],
   "source": [
    "manual_check[manual_check.artist_lower=='zz top'].sort_values('track_lower')\n",
    "# they're all in there, maybe we need a partial match for the merge?"
   ]
  },
  {
   "cell_type": "code",
   "execution_count": null,
   "id": "3e0399b0",
   "metadata": {},
   "outputs": [],
   "source": []
  },
  {
   "cell_type": "code",
   "execution_count": null,
   "id": "4ebd0845",
   "metadata": {},
   "outputs": [],
   "source": [
    "# which songs were not matched to billboard 100?\n",
    "unmatched = df[df._merge == 'right_only'].drop_duplicates(['artist_lower', 'track_lower'])[['artists', 'artist_lower', 'track_lower']].sort_values(['artist_lower', 'track_lower']).reset_index()"
   ]
  },
  {
   "cell_type": "code",
   "execution_count": null,
   "id": "c8b480b1",
   "metadata": {},
   "outputs": [],
   "source": [
    "unmatched.sample(20)"
   ]
  },
  {
   "cell_type": "code",
   "execution_count": null,
   "id": "88e8686d",
   "metadata": {},
   "outputs": [],
   "source": []
  },
  {
   "cell_type": "code",
   "execution_count": null,
   "id": "4b3d608e",
   "metadata": {},
   "outputs": [],
   "source": []
  },
  {
   "cell_type": "code",
   "execution_count": null,
   "id": "d4da518d",
   "metadata": {},
   "outputs": [],
   "source": []
  },
  {
   "cell_type": "markdown",
   "id": "476bc98e",
   "metadata": {},
   "source": [
    "### Can we merge Billboard 100 with Song Metadata?\n",
    "### not well (~90% missing)\n",
    "### NLP section only\n",
    "    * we could use this merge for NLP\n",
    "    * this could be a representative sample\n",
    "    * discard for now because it would be nice to use the entire Billboard 100 dataset"
   ]
  },
  {
   "cell_type": "code",
   "execution_count": null,
   "id": "3bbc0f7a",
   "metadata": {},
   "outputs": [],
   "source": [
    "# Billboard Top 100 Historical Data\n",
    "# link:  https://www.kaggle.com/datasets/dhruvildave/billboard-the-hot-100-songs\n",
    "# via:  https://toolbox.google.com/datasetsearch\n",
    "url_billboard = r'D:\\RYERSON\\820\\Datasets\\Billboard The Hot 100 Songs\\charts.csv'\n",
    "\n",
    "# Music Dataset: Lyrics and Metadata from 1950 to 2019\n",
    "# link:  https://www.kaggle.com/datasets/dhruvildave/billboard-the-hot-100-songs\n",
    "# via:  https://toolbox.google.com/datasetsearch\n",
    "# info re metadata:  https://developer.spotify.com/documentation/web-api/reference/#/operations/get-several-audio-features\n",
    "# also available via Spotify web API:\n",
    "    # link:  https://developer.spotify.com/documentation/web-api/\n",
    "url_songdata = r'D:\\RYERSON\\820\\Datasets\\Music Dataset Lyrics and Metadata from 1950 to 2019\\tcc_ceds_music.csv'\n"
   ]
  },
  {
   "cell_type": "code",
   "execution_count": null,
   "id": "a9deb950",
   "metadata": {},
   "outputs": [],
   "source": [
    "df_billboard = pd.read_csv(url_billboard)\n",
    "\n",
    "# lowercase for joining datasets\n",
    "# these match the names in the other dataframe, and are lowercase, as the other dataset is\n",
    "df_billboard['artist_name'] = df_billboard['artist'].str.lower()\n",
    "df_billboard['track_name'] = df_billboard['song'].str.lower()\n",
    "\n",
    "df_billboard.head(1)"
   ]
  },
  {
   "cell_type": "code",
   "execution_count": null,
   "id": "6fa5304b",
   "metadata": {},
   "outputs": [],
   "source": [
    "df_songdata = pd.read_csv(url_songdata)\n",
    "# df_songdata.rename(columns={'artist_name': 'artist', 'track_name': 'song'}, inplace=True)\n",
    "df_songdata.head(1)"
   ]
  },
  {
   "cell_type": "code",
   "execution_count": null,
   "id": "a960808e",
   "metadata": {},
   "outputs": [],
   "source": [
    "df_billboard.shape, df_songdata.shape"
   ]
  },
  {
   "cell_type": "code",
   "execution_count": null,
   "id": "ca880ee7",
   "metadata": {},
   "outputs": [],
   "source": [
    "df = pd.merge(df_billboard, df_songdata, how='left', on=['artist_name', 'track_name'], indicator=True)\n",
    "df.shape, df[df._merge=='both'].shape"
   ]
  },
  {
   "cell_type": "code",
   "execution_count": null,
   "id": "fbbd4e71",
   "metadata": {},
   "outputs": [],
   "source": [
    "# lots of missing hits, let's check what's up\n",
    "temp_columns = ['artist_name', 'track_name', '_merge']\n",
    "temp = df[temp_columns]"
   ]
  },
  {
   "cell_type": "code",
   "execution_count": null,
   "id": "a113e502",
   "metadata": {},
   "outputs": [],
   "source": [
    "temp.sample(10)"
   ]
  },
  {
   "cell_type": "code",
   "execution_count": null,
   "id": "9aa4a91e",
   "metadata": {},
   "outputs": [],
   "source": [
    "df_songdata[df_songdata.artist_name=='vikki carr']"
   ]
  },
  {
   "cell_type": "code",
   "execution_count": null,
   "id": "ff58b127",
   "metadata": {},
   "outputs": [],
   "source": [
    "df_songdata[df_songdata.artist_name=='walk the moon']"
   ]
  },
  {
   "cell_type": "code",
   "execution_count": null,
   "id": "9ea6bd0f",
   "metadata": {},
   "outputs": [],
   "source": [
    "# ok, how many songs are missing? should we use the spotify API instead?\n",
    "\n",
    "# missing tracks\n",
    "missing = temp[temp._merge=='left_only'].drop_duplicates(keep='first')\n",
    "\n",
    "# total tracks\n",
    "all_tracks = df_billboard[['song', 'artist']].drop_duplicates(keep='first')"
   ]
  },
  {
   "cell_type": "code",
   "execution_count": null,
   "id": "e077dede",
   "metadata": {},
   "outputs": [],
   "source": [
    "missing.shape[0] / all_tracks.shape[0]\n",
    "# 90% of songs are missing"
   ]
  }
 ],
 "metadata": {
  "kernelspec": {
   "display_name": "Python 3 (ipykernel)",
   "language": "python",
   "name": "python3"
  },
  "language_info": {
   "codemirror_mode": {
    "name": "ipython",
    "version": 3
   },
   "file_extension": ".py",
   "mimetype": "text/x-python",
   "name": "python",
   "nbconvert_exporter": "python",
   "pygments_lexer": "ipython3",
   "version": "3.9.7"
  }
 },
 "nbformat": 4,
 "nbformat_minor": 5
}
