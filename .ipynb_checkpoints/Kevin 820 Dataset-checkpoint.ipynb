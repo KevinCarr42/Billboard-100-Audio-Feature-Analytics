{
 "cells": [
  {
   "cell_type": "code",
   "execution_count": 1,
   "id": "b92fb833",
   "metadata": {},
   "outputs": [
    {
     "data": {
      "text/html": [
       "<style>.container { width:100% !important; }</style>"
      ],
      "text/plain": [
       "<IPython.core.display.HTML object>"
      ]
     },
     "metadata": {},
     "output_type": "display_data"
    }
   ],
   "source": [
    "# import modules\n",
    "import pandas as pd\n",
    "import numpy as np\n",
    "import spotipy\n",
    "\n",
    "# jupyter notebook full-width display\n",
    "from IPython.core.display import display, HTML\n",
    "display(HTML(\"<style>.container { width:100% !important; }</style>\"))\n",
    "\n",
    "# pandas formatting\n",
    "pd.set_option('display.float_format', '{:_.0f}'.format)\n",
    "# NOTE: underscore separaters ('_') are better than commas (',') because \n",
    "# numbers with underscores work in Python without any extra effort.\n",
    "pd.set_option('display.max_columns', None)\n",
    "pd.set_option('display.max_rows', 100)"
   ]
  },
  {
   "cell_type": "markdown",
   "id": "f6c8526b",
   "metadata": {},
   "source": [
    "### The Billboard 100\n",
    "https://www.kaggle.com/datasets/dhruvildave/billboard-the-hot-100-songs"
   ]
  },
  {
   "cell_type": "code",
   "execution_count": 4,
   "id": "c5a90136",
   "metadata": {},
   "outputs": [],
   "source": [
    "# Billboard Top 100 Historical Data\n",
    "# via:  https://toolbox.google.com/datasetsearch\n",
    "url_billboard = r'D:\\RYERSON\\820\\Datasets\\Billboard The Hot 100 Songs\\charts.csv'\n",
    "\n",
    "df_billboard = pd.read_csv(url_billboard)\n",
    "df_billboard['date'] = pd.to_datetime(df_billboard['date'])"
   ]
  },
  {
   "cell_type": "markdown",
   "id": "c34c3dd5",
   "metadata": {},
   "source": [
    "### Unique Songs from The Billboard 100 Dataset"
   ]
  },
  {
   "cell_type": "code",
   "execution_count": 5,
   "id": "a8a0584e",
   "metadata": {},
   "outputs": [
    {
     "data": {
      "text/plain": [
       "(29681, 3)"
      ]
     },
     "execution_count": 5,
     "metadata": {},
     "output_type": "execute_result"
    }
   ],
   "source": [
    "# just the songs on the billboard 100, once per song\n",
    "df_billboard_songs = df_billboard[['song', 'artist']].drop_duplicates().sort_values(['artist', 'song']).reset_index(drop=True)\n",
    "\n",
    "# add a blank id column\n",
    "df_billboard_songs['id'] = ''\n",
    "\n",
    "df_billboard_songs.shape"
   ]
  },
  {
   "cell_type": "markdown",
   "id": "2e30aa88",
   "metadata": {},
   "source": [
    "### ID Scraping STEP 1. 1.2M Songs with Metadata (csv)\n",
    "https://www.kaggle.com/datasets/rodolfofigueroa/spotify-12m-songs"
   ]
  },
  {
   "cell_type": "code",
   "execution_count": 6,
   "id": "87b1cea3",
   "metadata": {},
   "outputs": [],
   "source": [
    "# Spotify 1.2M+ Songs\n",
    "# via:  https://www.kaggle.com/datasets/\n",
    "url_1M_songs = r'D:\\RYERSON\\820\\Datasets\\Spotify 1.2M+ Songs\\tracks_features.csv'\n",
    "\n",
    "# create the dataframe with the large number of songs metadata\n",
    "df_1M_songs = pd.read_csv(url_1M_songs)\n",
    "\n",
    "# make a list of song ids from the 1M dataset\n",
    "metadata_ids = list(df_1M_songs.id)"
   ]
  },
  {
   "cell_type": "markdown",
   "id": "e7b3b605",
   "metadata": {},
   "source": [
    "### Get Spotify IDs using API\n",
    "(to join with large datasets)"
   ]
  },
  {
   "cell_type": "markdown",
   "id": "150fbd51",
   "metadata": {},
   "source": [
    "https://developer.spotify.com/terms/\n",
    "\n",
    "##### Useful Spotify API Features\n",
    "\n",
    "https://developer.spotify.com/documentation/web-api/reference/#/operations/get-several-audio-features\n",
    "\n",
    "https://developer.spotify.com/documentation/web-api/reference/#/operations/get-recommendations\n",
    "\n",
    "##### Other Links\n",
    "\n",
    "my app:\n",
    "https://developer.spotify.com/dashboard/applications/cd5ce2cb690543ff9967e817d4665543\n",
    "\n",
    "a tutorial: \n",
    "https://www.youtube.com/watch?v=cU8YH2rhN6A&ab_channel=Elbert"
   ]
  },
  {
   "cell_type": "markdown",
   "id": "79ea6389",
   "metadata": {},
   "source": [
    "### TEMPORARY TOKEN WORKFLOW\n",
    "\n",
    "##### get a temporary authorization token from: https://developer.spotify.com/console/get-search-item"
   ]
  },
  {
   "cell_type": "code",
   "execution_count": null,
   "id": "418a133f",
   "metadata": {},
   "outputs": [],
   "source": [
    "# input the temporary token\n",
    "TEMP_TOKEN = input('Enter token: ')\n",
    "\n",
    "# create a spotify object\n",
    "spotify = spotipy.Spotify(auth=TEMP_TOKEN)"
   ]
  },
  {
   "cell_type": "code",
   "execution_count": null,
   "id": "f8d8d6bf",
   "metadata": {},
   "outputs": [],
   "source": [
    "# helper function\n",
    "def find_id(track_title, artist_name, metadata_ids):\n",
    "    \"\"\" \n",
    "    for searches with multiple results, all id were identical for the test cases I ran \n",
    "    some searches return no results, in this case the song is not on spotify\n",
    "        confirmed by spot checks in the spotify music player\n",
    "    some tracks give a 404 error, \n",
    "        these seem to exist in Spotify but 404 anyway\n",
    "        not sure why the API does this but \n",
    "    \"\"\"\n",
    "    track_info = spotify.search(q='artist:' + artist_name + ' track:' + track_title, type='track')\n",
    "    \n",
    "    if track_info['tracks']['items'] == []:  # if track doesn't exist on Spotify\n",
    "        return None\n",
    "    else:\n",
    "        # set the id to the first result\n",
    "        track_id = track_info['tracks']['items'][0]['id']\n",
    "        \n",
    "        # check if there is a better match\n",
    "        number_of_results = len(track_info['tracks']['items'])\n",
    "        \n",
    "        for i in range(number_of_results):\n",
    "            alt_track_id = track_info['tracks']['items'][i]['id']\n",
    "            if alt_track_id in metadata_ids:\n",
    "                track_id = track_info['tracks']['items'][i]['id']\n",
    "        \n",
    "        return track_id"
   ]
  },
  {
   "cell_type": "code",
   "execution_count": null,
   "id": "f8f39645",
   "metadata": {},
   "outputs": [],
   "source": [
    "# TEST\n",
    "find_id(\"You Can't Turn Me Off (In The Middle Of Turning Me On)\", 'High Inergy', metadata_ids)"
   ]
  },
  {
   "cell_type": "markdown",
   "id": "3432b777",
   "metadata": {},
   "source": [
    "### Add Spotify IDs to billboard songs using the 1.2M song dataset"
   ]
  },
  {
   "cell_type": "code",
   "execution_count": null,
   "id": "42dfe9c3",
   "metadata": {},
   "outputs": [],
   "source": [
    "# # load saved csv if required\n",
    "# df_billboard_songs = pd.read_csv('df_billboard_songs.csv', keep_default_na=False)\n",
    "# df_billboard_songs.id.nunique()"
   ]
  },
  {
   "cell_type": "code",
   "execution_count": null,
   "id": "46839b4e",
   "metadata": {},
   "outputs": [],
   "source": [
    "# start over at\n",
    "start_over_at = 22953\n",
    "\n",
    "# populate df_billboard_songs with ids, where available\n",
    "for i, row in df_billboard_songs.iterrows():\n",
    "    \n",
    "    # start over at\n",
    "    if i < start_over_at-1:\n",
    "        continue\n",
    "    \n",
    "    # show status\n",
    "    if i%10 == 0:\n",
    "        print(i, end='  ')\n",
    "    if i%100 == 0:\n",
    "        print()\n",
    "        \n",
    "    # start over where we finished\n",
    "    if df_billboard_songs['id'].iloc[i] != '':  \n",
    "        continue\n",
    "    # append id, NONE, or 'ERROR'\n",
    "    else:\n",
    "        artist = row[1]\n",
    "        song = row[0]\n",
    "        try:\n",
    "            # unless there is an error, will append the id or None\n",
    "            df_billboard_songs['id'].iloc[i] = find_id(song, artist, metadata_ids)\n",
    "        except:  # any error needs to be dealt with manually\n",
    "            # if there is an error, change id to 'ERROR'\n",
    "            print('ERROR:  ', artist, song)\n",
    "            df_billboard_songs['id'].iloc[i] = 'ERROR'\n",
    "        # save every 1000 rows, if new\n",
    "        if i%1000 == 0:\n",
    "            df_billboard_songs.to_csv('df_billboard_songs_TEMP.csv', index=False)\n",
    "        \n",
    "# save final dataframe\n",
    "df_billboard_songs.to_csv('df_billboard_songs.csv', index=False)"
   ]
  },
  {
   "cell_type": "code",
   "execution_count": null,
   "id": "7a5d9c35",
   "metadata": {},
   "outputs": [],
   "source": [
    "# how many id have we added\n",
    "sum(df_billboard_songs.id != \"\")"
   ]
  },
  {
   "cell_type": "code",
   "execution_count": null,
   "id": "61456231",
   "metadata": {},
   "outputs": [],
   "source": [
    "# check how many id match the metadata_ids\n",
    "sum(df_billboard_songs.id.isin(metadata_ids))\n",
    "\n",
    "# which have spotify ids, but don't match metadata_ids?\n",
    "# consider rechecking with metadata_ids_SQL"
   ]
  },
  {
   "cell_type": "markdown",
   "id": "87297f5a",
   "metadata": {},
   "source": [
    "### ID Scraping STEP 2.  Add Spotify IDs to billboard songs using the 8.7M song SQL database"
   ]
  },
  {
   "cell_type": "code",
   "execution_count": 10,
   "id": "5b881884",
   "metadata": {},
   "outputs": [],
   "source": [
    "df_billboard_songs = pd.read_csv('df_billboard_songs.csv', keep_default_na=False)"
   ]
  },
  {
   "cell_type": "code",
   "execution_count": 7,
   "id": "bc5b3071",
   "metadata": {},
   "outputs": [
    {
     "data": {
      "text/plain": [
       "(8741672, 1)"
      ]
     },
     "execution_count": 7,
     "metadata": {},
     "output_type": "execute_result"
    }
   ],
   "source": [
    "# check how many id match the ids from the SQLite database\n",
    "metadata_ids_SQL = pd.read_csv('all_ids_sql.csv', header=None, names=['id'])\n",
    "metadata_ids_SQL.shape"
   ]
  },
  {
   "cell_type": "code",
   "execution_count": 8,
   "id": "70e57f2b",
   "metadata": {},
   "outputs": [],
   "source": [
    "metadata_ids_SQL = list(metadata_ids_SQL.id)"
   ]
  },
  {
   "cell_type": "code",
   "execution_count": 11,
   "id": "d9ce45e3",
   "metadata": {},
   "outputs": [
    {
     "data": {
      "text/plain": [
       "14313"
      ]
     },
     "execution_count": 11,
     "metadata": {},
     "output_type": "execute_result"
    }
   ],
   "source": [
    "# check how many id match the metadata_ids_SQL\n",
    "sum(df_billboard_songs.id.isin(metadata_ids_SQL))"
   ]
  },
  {
   "cell_type": "code",
   "execution_count": 14,
   "id": "7a949747",
   "metadata": {},
   "outputs": [
    {
     "data": {
      "text/plain": [
       "(8040, 4)"
      ]
     },
     "execution_count": 14,
     "metadata": {},
     "output_type": "execute_result"
    }
   ],
   "source": [
    "# isolate songs on spotify which aren't in either dataset\n",
    "df_missing = df_billboard_songs[~df_billboard_songs.id.isin(metadata_ids_SQL)]\n",
    "df_missing = df_missing[~df_missing.id.isin(metadata_ids)]  # if in metadata_ids, we have it from step 1\n",
    "df_missing = df_missing[(df_missing.id!='') & (df_missing.id!='ERROR')].reset_index() # keep old index for merging later\n",
    "df_missing.shape"
   ]
  },
  {
   "cell_type": "code",
   "execution_count": 13,
   "id": "062c19f3",
   "metadata": {},
   "outputs": [
    {
     "data": {
      "text/html": [
       "<div>\n",
       "<style scoped>\n",
       "    .dataframe tbody tr th:only-of-type {\n",
       "        vertical-align: middle;\n",
       "    }\n",
       "\n",
       "    .dataframe tbody tr th {\n",
       "        vertical-align: top;\n",
       "    }\n",
       "\n",
       "    .dataframe thead th {\n",
       "        text-align: right;\n",
       "    }\n",
       "</style>\n",
       "<table border=\"1\" class=\"dataframe\">\n",
       "  <thead>\n",
       "    <tr style=\"text-align: right;\">\n",
       "      <th></th>\n",
       "      <th>index</th>\n",
       "      <th>song</th>\n",
       "      <th>artist</th>\n",
       "      <th>id</th>\n",
       "    </tr>\n",
       "  </thead>\n",
       "  <tbody>\n",
       "    <tr>\n",
       "      <th>0</th>\n",
       "      <td>1</td>\n",
       "      <td>What Now My Love</td>\n",
       "      <td>\"Groove\" Holmes</td>\n",
       "      <td>11Aldbvo6UCcVhBzv4oUdw</td>\n",
       "    </tr>\n",
       "    <tr>\n",
       "      <th>1</th>\n",
       "      <td>24</td>\n",
       "      <td>Music Of My Heart</td>\n",
       "      <td>'N Sync &amp; Gloria Estefan</td>\n",
       "      <td>5smPCwVq1pp9b9mnhKRxQj</td>\n",
       "    </tr>\n",
       "    <tr>\n",
       "      <th>2</th>\n",
       "      <td>78</td>\n",
       "      <td>Watch Out</td>\n",
       "      <td>2 Chainz</td>\n",
       "      <td>0w2MsTyHDjPxNqqXY5o8wb</td>\n",
       "    </tr>\n",
       "    <tr>\n",
       "      <th>3</th>\n",
       "      <td>95</td>\n",
       "      <td>El Trago (The Drink)</td>\n",
       "      <td>2 In A Room</td>\n",
       "      <td>14gC7IS8BFlzabcoqR1iNW</td>\n",
       "    </tr>\n",
       "    <tr>\n",
       "      <th>4</th>\n",
       "      <td>97</td>\n",
       "      <td>Walk Tall</td>\n",
       "      <td>2 Of Clubs</td>\n",
       "      <td>6byQuxXOHoos4pB8AnzuM3</td>\n",
       "    </tr>\n",
       "  </tbody>\n",
       "</table>\n",
       "</div>"
      ],
      "text/plain": [
       "   index                  song                    artist  \\\n",
       "0      1      What Now My Love           \"Groove\" Holmes   \n",
       "1     24     Music Of My Heart  'N Sync & Gloria Estefan   \n",
       "2     78             Watch Out                  2 Chainz   \n",
       "3     95  El Trago (The Drink)               2 In A Room   \n",
       "4     97             Walk Tall                2 Of Clubs   \n",
       "\n",
       "                       id  \n",
       "0  11Aldbvo6UCcVhBzv4oUdw  \n",
       "1  5smPCwVq1pp9b9mnhKRxQj  \n",
       "2  0w2MsTyHDjPxNqqXY5o8wb  \n",
       "3  14gC7IS8BFlzabcoqR1iNW  \n",
       "4  6byQuxXOHoos4pB8AnzuM3  "
      ]
     },
     "execution_count": 13,
     "metadata": {},
     "output_type": "execute_result"
    }
   ],
   "source": [
    "df_missing.head()"
   ]
  },
  {
   "cell_type": "code",
   "execution_count": null,
   "id": "614060a0",
   "metadata": {},
   "outputs": [],
   "source": [
    "# new helper function\n",
    "# search again for df_missing using metadata_ids_SQL\n",
    "\n",
    "def find_exact_id(track_title, artist_name, metadata_ids):\n",
    "    \"\"\" \n",
    "    same as above, but returns 'MISSING' if not found in metadata_ids\n",
    "    \"\"\"\n",
    "    track_info = spotify.search(q='artist:' + artist_name + ' track:' + track_title, type='track')\n",
    "    \n",
    "    if track_info['tracks']['items'] == []:  # if track doesn't exist on Spotify\n",
    "        return 'MISSING'\n",
    "    else:\n",
    "        # check if there is a match\n",
    "        number_of_results = len(track_info['tracks']['items'])\n",
    "        \n",
    "        for i in range(number_of_results):\n",
    "            track_id = track_info['tracks']['items'][i]['id']\n",
    "            if track_id in metadata_ids:\n",
    "                return track_id\n",
    "        \n",
    "        # if we haven't returned a match, return 'MISSING'\n",
    "        return 'MISSING'\n"
   ]
  },
  {
   "cell_type": "code",
   "execution_count": null,
   "id": "c2f4b2bd",
   "metadata": {},
   "outputs": [],
   "source": [
    "# TEST\n",
    "find_id(\"You Can't Turn Me Off (In The Middle Of Turning Me On)\", 'High Inergy', metadata_ids)"
   ]
  },
  {
   "cell_type": "code",
   "execution_count": null,
   "id": "6d8e8117",
   "metadata": {},
   "outputs": [],
   "source": [
    "# TEST\n",
    "find_exact_id(\"You Can't Turn Me Off (In The Middle Of Turning Me On)\", 'High Inergy', metadata_ids_SQL)"
   ]
  },
  {
   "cell_type": "code",
   "execution_count": null,
   "id": "a9be98be",
   "metadata": {},
   "outputs": [],
   "source": [
    "# TEST\n",
    "find_exact_id(\"You can't find this song\", 'not real artist', metadata_ids_SQL)"
   ]
  },
  {
   "cell_type": "code",
   "execution_count": null,
   "id": "2be940a0",
   "metadata": {},
   "outputs": [],
   "source": [
    "# start over at\n",
    "start_over_at = 0\n",
    "\n",
    "# populate df_missing with ids, where available, 'MISSING' otherwise\n",
    "for i, row in df_missing.iterrows():\n",
    "        \n",
    "    # start over at\n",
    "    if i < start_over_at-1:\n",
    "        continue\n",
    "        \n",
    "    # show status\n",
    "    if i%10 == 0:\n",
    "        print(i, end='  ')\n",
    "    if i%100 == 0:\n",
    "        print()\n",
    "        \n",
    "    # UPDATE THIS IF DROP INDEX IN RESET INDEX\n",
    "    artist = row[2]\n",
    "    song = row[1]\n",
    "    \n",
    "    try:\n",
    "        # unless there is an error, will append the id or None\n",
    "        df_missing['id'].iloc[i] = find_exact_id(song, artist, metadata_ids_SQL)\n",
    "    except:  # any error needs to be dealt with manually\n",
    "        # if there is an error, change id to 'ERROR'\n",
    "        print('ERROR:  ', artist, song)\n",
    "        df_missing['id'].iloc[i] = 'ERROR'\n",
    "    \n",
    "    # save every 1000 rows\n",
    "    if i%1000 == 0:\n",
    "        df_missing.to_csv('df_missing_TEMP.csv', index=False)\n",
    "        \n",
    "# save final dataframe\n",
    "df_missing.to_csv('df_missing.csv', index=False)"
   ]
  },
  {
   "cell_type": "markdown",
   "id": "973c0eca",
   "metadata": {},
   "source": [
    "### Check Data and Find out What is Still Missing"
   ]
  },
  {
   "cell_type": "code",
   "execution_count": null,
   "id": "5c033681",
   "metadata": {},
   "outputs": [],
   "source": [
    "# number of tracks missing from both datasets, but on Spotify\n",
    "sum(df_missing.id == 'MISSING')\n",
    "\n",
    "# OPTIONAL: could use API to get these sound features"
   ]
  },
  {
   "cell_type": "code",
   "execution_count": null,
   "id": "f3c7a96f",
   "metadata": {},
   "outputs": [],
   "source": [
    "sum(df_missing.id == 'MISSING'), sum(df_missing.id != 'MISSING')\n",
    "# there are 1940 better ids to be updated in df_billboard_songs\n",
    "# there are 5188 songs on Spotify, that we don't have audio feature data for yet"
   ]
  },
  {
   "cell_type": "code",
   "execution_count": null,
   "id": "ae47567f",
   "metadata": {},
   "outputs": [],
   "source": [
    "# revised_ids includes better ids than df_billboard_songs\n",
    "# update df_billboard_songs with this, match using the index column\n",
    "revised_ids = df_missing[df_missing.id != 'MISSING']\n",
    "revised_ids.to_csv('revised_ids.csv', index=False)\n",
    "revised_ids.head()"
   ]
  },
  {
   "cell_type": "markdown",
   "id": "53ef8d02",
   "metadata": {},
   "source": [
    "### merging data"
   ]
  },
  {
   "cell_type": "code",
   "execution_count": null,
   "id": "bbd33e4f",
   "metadata": {},
   "outputs": [],
   "source": [
    "metadata_ids_SQL = pd.read_csv('all_ids_sql.csv', header=None, names=['id'])"
   ]
  },
  {
   "cell_type": "code",
   "execution_count": null,
   "id": "19367f68",
   "metadata": {},
   "outputs": [],
   "source": [
    "# recombine df_missing with df_billboard_songs\n",
    "\n",
    "# reload from csv\n",
    "temp_missing = pd.read_csv('df_missing.csv', keep_default_na=False)\n",
    "temp_missing = temp_missing[temp_missing.id == 'MISSING']\n",
    "temp_revised = pd.read_csv('revised_ids.csv', keep_default_na=False)\n",
    "temp_billboard = pd.read_csv('df_billboard_songs.csv', keep_default_na=False)\n",
    "\n",
    "df_billboard_songs = temp_billboard.copy()\n",
    "df_billboard_songs['MISSING'] = ''\n",
    "\n",
    "temp_missing.shape, temp_revised.shape, temp_billboard.shape"
   ]
  },
  {
   "cell_type": "code",
   "execution_count": null,
   "id": "98df96ed",
   "metadata": {},
   "outputs": [],
   "source": [
    "# isolate songs on spotify which aren't in either dataset\n",
    "df_missing = df_billboard_songs[~df_billboard_songs.id.isin(metadata_ids_SQL)]\n",
    "df_missing = df_missing[~df_missing.id.isin(metadata_ids)]  # 9650 without this, 7128 with (2500 in smaller dataset)\n",
    "df_missing = df_missing[(df_missing.id!='') & (df_missing.id!='ERROR')].reset_index() # keep old index for merging later\n",
    "df_missing.shape"
   ]
  },
  {
   "cell_type": "code",
   "execution_count": null,
   "id": "918ff44c",
   "metadata": {},
   "outputs": [],
   "source": [
    "df_missing.sample(10)"
   ]
  },
  {
   "cell_type": "code",
   "execution_count": null,
   "id": "b17eb057",
   "metadata": {},
   "outputs": [],
   "source": []
  },
  {
   "cell_type": "code",
   "execution_count": null,
   "id": "fe614267",
   "metadata": {},
   "outputs": [],
   "source": [
    "missing = temp_missing.iloc[:,0].tolist()\n",
    "revised = temp_revised.iloc[:,0].tolist()\n",
    "\n",
    "len(missing), len(revised), len(missing) + len(revised)"
   ]
  },
  {
   "cell_type": "code",
   "execution_count": null,
   "id": "292714ab",
   "metadata": {},
   "outputs": [],
   "source": [
    "df_billboard_songs.iloc[1]['MISSING']"
   ]
  },
  {
   "cell_type": "code",
   "execution_count": null,
   "id": "6f0ae1d4",
   "metadata": {},
   "outputs": [],
   "source": [
    "# revise id based on index\n",
    "# probably wrong, check index vs column named 'index'\n",
    "for i, row in df_billboard_songs.iterrows():\n",
    "    \n",
    "    current_id = df_billboard_songs.iloc[i].id\n",
    "    \n",
    "    if i in missing:\n",
    "        df_billboard_songs.iloc[i]['MISSING'] = 'MISSING'\n",
    "    elif i in revised:\n",
    "        df_billboard_songs.iloc[i]['id'] = current_id\n",
    "        df_billboard_songs.iloc[i]['MISSING'] = 'revised'\n"
   ]
  },
  {
   "cell_type": "code",
   "execution_count": null,
   "id": "12752bee",
   "metadata": {},
   "outputs": [],
   "source": [
    "error_check = df_billboard_songs[df_billboard_songs.MISSING == 'MISSING']"
   ]
  },
  {
   "cell_type": "code",
   "execution_count": null,
   "id": "7d08197b",
   "metadata": {},
   "outputs": [],
   "source": [
    "error_check[error_check.id == '']"
   ]
  },
  {
   "cell_type": "code",
   "execution_count": null,
   "id": "21ca9b51",
   "metadata": {},
   "outputs": [],
   "source": [
    "# separate songs into\n",
    "    # not on spotify (no id)\n",
    "    # on spotify, but not either dataset (not in either metadata set)\n",
    "    # matched with dataset (could distinguish using temp_revised)\n",
    "    \n",
    "    \n",
    " "
   ]
  },
  {
   "cell_type": "code",
   "execution_count": null,
   "id": "797cd347",
   "metadata": {},
   "outputs": [],
   "source": [
    "# how many tracks are in spotify, but don't have data?\n",
    "\n",
    "\n"
   ]
  },
  {
   "cell_type": "code",
   "execution_count": null,
   "id": "d363e8e3",
   "metadata": {},
   "outputs": [],
   "source": [
    "# check the percentage of songs accounted for\n",
    "\n",
    "\n"
   ]
  },
  {
   "cell_type": "code",
   "execution_count": null,
   "id": "fec8a795",
   "metadata": {},
   "outputs": [],
   "source": [
    "# now merge with entire billboard list\n",
    "\n",
    "\n",
    "\n",
    "# re-count the percentage of songs accounted for in the entire set"
   ]
  },
  {
   "cell_type": "code",
   "execution_count": null,
   "id": "4eb6774d",
   "metadata": {},
   "outputs": [],
   "source": []
  },
  {
   "cell_type": "markdown",
   "id": "88011271",
   "metadata": {},
   "source": [
    "### 8+ M. Spotify Tracks, Genre, Audio Features (SQLite)\n",
    "https://www.kaggle.com/datasets/maltegrosse/8-m-spotify-tracks-genre-audio-features"
   ]
  },
  {
   "cell_type": "code",
   "execution_count": null,
   "id": "ee495f3b",
   "metadata": {},
   "outputs": [],
   "source": [
    "url_8M_sql = 'D:\\RYERSON\\820\\Datasets\\8+ M. Spotify Tracks, Genre, Audio Features\\spotify.sqlite'\n",
    "url_8M_csv = 'all_audio_features_sql.csv'  # .gitignore (very big)\n"
   ]
  },
  {
   "cell_type": "code",
   "execution_count": null,
   "id": "dadd7df4",
   "metadata": {},
   "outputs": [],
   "source": []
  },
  {
   "cell_type": "code",
   "execution_count": null,
   "id": "762e11d4",
   "metadata": {},
   "outputs": [],
   "source": []
  },
  {
   "cell_type": "code",
   "execution_count": null,
   "id": "3554c618",
   "metadata": {},
   "outputs": [],
   "source": []
  },
  {
   "cell_type": "markdown",
   "id": "df673bd9",
   "metadata": {},
   "source": [
    "### Merge all Datasets into Billboard Features, \n",
    "export Billboard Features and All Features"
   ]
  },
  {
   "cell_type": "code",
   "execution_count": null,
   "id": "7d227d12",
   "metadata": {},
   "outputs": [],
   "source": []
  },
  {
   "cell_type": "code",
   "execution_count": null,
   "id": "097b524b",
   "metadata": {},
   "outputs": [],
   "source": []
  },
  {
   "cell_type": "code",
   "execution_count": null,
   "id": "3e91a68b",
   "metadata": {},
   "outputs": [],
   "source": []
  },
  {
   "cell_type": "code",
   "execution_count": null,
   "id": "5f83b900",
   "metadata": {},
   "outputs": [],
   "source": []
  }
 ],
 "metadata": {
  "kernelspec": {
   "display_name": "Python 3 (ipykernel)",
   "language": "python",
   "name": "python3"
  },
  "language_info": {
   "codemirror_mode": {
    "name": "ipython",
    "version": 3
   },
   "file_extension": ".py",
   "mimetype": "text/x-python",
   "name": "python",
   "nbconvert_exporter": "python",
   "pygments_lexer": "ipython3",
   "version": "3.9.7"
  }
 },
 "nbformat": 4,
 "nbformat_minor": 5
}
