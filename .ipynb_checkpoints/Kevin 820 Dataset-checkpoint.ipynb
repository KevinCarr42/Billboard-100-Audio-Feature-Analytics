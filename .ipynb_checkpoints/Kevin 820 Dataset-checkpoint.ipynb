{
 "cells": [
  {
   "cell_type": "code",
   "execution_count": 1,
   "id": "b92fb833",
   "metadata": {},
   "outputs": [
    {
     "data": {
      "text/html": [
       "<style>.container { width:100% !important; }</style>"
      ],
      "text/plain": [
       "<IPython.core.display.HTML object>"
      ]
     },
     "metadata": {},
     "output_type": "display_data"
    }
   ],
   "source": [
    "# import modules\n",
    "import pandas as pd\n",
    "import numpy as np\n",
    "import spotipy\n",
    "\n",
    "# full-width display\n",
    "from IPython.core.display import display, HTML\n",
    "display(HTML(\"<style>.container { width:100% !important; }</style>\"))\n",
    "\n",
    "# pandas format\n",
    "pd.set_option('display.float_format', '{:_.0f}'.format)\n",
    "# NOTE: underscore separaters ('_') are better than commas (',') because \n",
    "# numbers with underscores work in Python without any extra effort.\n",
    "pd.set_option('display.max_columns', None)\n",
    "pd.set_option('display.max_rows', 100)"
   ]
  },
  {
   "cell_type": "markdown",
   "id": "f6c8526b",
   "metadata": {},
   "source": [
    "### Can we find Metadata for The Billboard 100?"
   ]
  },
  {
   "cell_type": "code",
   "execution_count": 2,
   "id": "c5a90136",
   "metadata": {},
   "outputs": [],
   "source": [
    "# Billboard Top 100 Historical Data\n",
    "# link:  https://www.kaggle.com/datasets/dhruvildave/billboard-the-hot-100-songs\n",
    "# via:  https://toolbox.google.com/datasetsearch\n",
    "url_billboard = r'D:\\RYERSON\\820\\Datasets\\Billboard The Hot 100 Songs\\charts.csv'"
   ]
  },
  {
   "cell_type": "code",
   "execution_count": 3,
   "id": "83dd3fd3",
   "metadata": {},
   "outputs": [
    {
     "data": {
      "text/html": [
       "<div>\n",
       "<style scoped>\n",
       "    .dataframe tbody tr th:only-of-type {\n",
       "        vertical-align: middle;\n",
       "    }\n",
       "\n",
       "    .dataframe tbody tr th {\n",
       "        vertical-align: top;\n",
       "    }\n",
       "\n",
       "    .dataframe thead th {\n",
       "        text-align: right;\n",
       "    }\n",
       "</style>\n",
       "<table border=\"1\" class=\"dataframe\">\n",
       "  <thead>\n",
       "    <tr style=\"text-align: right;\">\n",
       "      <th></th>\n",
       "      <th>date</th>\n",
       "      <th>rank</th>\n",
       "      <th>song</th>\n",
       "      <th>artist</th>\n",
       "      <th>last-week</th>\n",
       "      <th>peak-rank</th>\n",
       "      <th>weeks-on-board</th>\n",
       "    </tr>\n",
       "  </thead>\n",
       "  <tbody>\n",
       "    <tr>\n",
       "      <th>0</th>\n",
       "      <td>2021-11-06</td>\n",
       "      <td>1</td>\n",
       "      <td>Easy On Me</td>\n",
       "      <td>Adele</td>\n",
       "      <td>1</td>\n",
       "      <td>1</td>\n",
       "      <td>3</td>\n",
       "    </tr>\n",
       "  </tbody>\n",
       "</table>\n",
       "</div>"
      ],
      "text/plain": [
       "        date  rank        song artist  last-week  peak-rank  weeks-on-board\n",
       "0 2021-11-06     1  Easy On Me  Adele          1          1               3"
      ]
     },
     "execution_count": 3,
     "metadata": {},
     "output_type": "execute_result"
    }
   ],
   "source": [
    "df_billboard = pd.read_csv(url_billboard)\n",
    "df_billboard['date'] = pd.to_datetime(df_billboard['date'])\n",
    "df_billboard.head(1)"
   ]
  },
  {
   "cell_type": "code",
   "execution_count": 4,
   "id": "1f0716ce",
   "metadata": {},
   "outputs": [
    {
     "data": {
      "text/plain": [
       "(Timestamp('1958-08-04 00:00:00'), Timestamp('2021-11-06 00:00:00'))"
      ]
     },
     "execution_count": 4,
     "metadata": {},
     "output_type": "execute_result"
    }
   ],
   "source": [
    "# date range for data\n",
    "df_billboard.date.min(), df_billboard.date.max()"
   ]
  },
  {
   "cell_type": "code",
   "execution_count": 8,
   "id": "a8a0584e",
   "metadata": {},
   "outputs": [
    {
     "data": {
      "text/plain": [
       "(29681, 2)"
      ]
     },
     "execution_count": 8,
     "metadata": {},
     "output_type": "execute_result"
    }
   ],
   "source": [
    "# just the songs on the billboard 100\n",
    "df_billboard_songs = df_billboard[['song', 'artist']].drop_duplicates().sort_values(['artist', 'song']).reset_index(drop=True)\n",
    "df_billboard_songs.shape"
   ]
  },
  {
   "cell_type": "code",
   "execution_count": 9,
   "id": "ecf31ec0",
   "metadata": {},
   "outputs": [
    {
     "data": {
      "text/html": [
       "<div>\n",
       "<style scoped>\n",
       "    .dataframe tbody tr th:only-of-type {\n",
       "        vertical-align: middle;\n",
       "    }\n",
       "\n",
       "    .dataframe tbody tr th {\n",
       "        vertical-align: top;\n",
       "    }\n",
       "\n",
       "    .dataframe thead th {\n",
       "        text-align: right;\n",
       "    }\n",
       "</style>\n",
       "<table border=\"1\" class=\"dataframe\">\n",
       "  <thead>\n",
       "    <tr style=\"text-align: right;\">\n",
       "      <th></th>\n",
       "      <th>song</th>\n",
       "      <th>artist</th>\n",
       "    </tr>\n",
       "  </thead>\n",
       "  <tbody>\n",
       "    <tr>\n",
       "      <th>29508</th>\n",
       "      <td>My Window</td>\n",
       "      <td>YoungBoy Never Broke Again Featuring Lil Wayne</td>\n",
       "    </tr>\n",
       "    <tr>\n",
       "      <th>13930</th>\n",
       "      <td>Back That Thang Up</td>\n",
       "      <td>Juvenile Featuring Mannie Fresh &amp; Lil' Wayne</td>\n",
       "    </tr>\n",
       "    <tr>\n",
       "      <th>2287</th>\n",
       "      <td>Upgrade U</td>\n",
       "      <td>Beyonce Featuring Jay Z</td>\n",
       "    </tr>\n",
       "    <tr>\n",
       "      <th>15408</th>\n",
       "      <td>No Sucker</td>\n",
       "      <td>Lil Baby &amp; Moneybagg Yo</td>\n",
       "    </tr>\n",
       "    <tr>\n",
       "      <th>16097</th>\n",
       "      <td>Ringo</td>\n",
       "      <td>Lorne Greene</td>\n",
       "    </tr>\n",
       "    <tr>\n",
       "      <th>23005</th>\n",
       "      <td>Beat Patrol</td>\n",
       "      <td>Starship</td>\n",
       "    </tr>\n",
       "    <tr>\n",
       "      <th>4972</th>\n",
       "      <td>High On Emotion</td>\n",
       "      <td>Chris de Burgh</td>\n",
       "    </tr>\n",
       "    <tr>\n",
       "      <th>9901</th>\n",
       "      <td>Praying For Time</td>\n",
       "      <td>George Michael</td>\n",
       "    </tr>\n",
       "    <tr>\n",
       "      <th>22323</th>\n",
       "      <td>Foolish Heart</td>\n",
       "      <td>Sharon Bryant</td>\n",
       "    </tr>\n",
       "    <tr>\n",
       "      <th>874</th>\n",
       "      <td>The Philly Freeze</td>\n",
       "      <td>Alvin Cash &amp; The Registers</td>\n",
       "    </tr>\n",
       "  </tbody>\n",
       "</table>\n",
       "</div>"
      ],
      "text/plain": [
       "                     song                                          artist\n",
       "29508           My Window  YoungBoy Never Broke Again Featuring Lil Wayne\n",
       "13930  Back That Thang Up    Juvenile Featuring Mannie Fresh & Lil' Wayne\n",
       "2287            Upgrade U                         Beyonce Featuring Jay Z\n",
       "15408           No Sucker                         Lil Baby & Moneybagg Yo\n",
       "16097               Ringo                                    Lorne Greene\n",
       "23005         Beat Patrol                                        Starship\n",
       "4972      High On Emotion                                  Chris de Burgh\n",
       "9901     Praying For Time                                  George Michael\n",
       "22323       Foolish Heart                                   Sharon Bryant\n",
       "874     The Philly Freeze                      Alvin Cash & The Registers"
      ]
     },
     "execution_count": 9,
     "metadata": {},
     "output_type": "execute_result"
    }
   ],
   "source": [
    "df_billboard_songs.sample(10)"
   ]
  },
  {
   "cell_type": "code",
   "execution_count": 10,
   "id": "87b1cea3",
   "metadata": {},
   "outputs": [],
   "source": [
    "# there are ~30k songs on the Billboard 100 list\n",
    "# let's see how many are here:\n",
    "# https://www.kaggle.com/datasets/rodolfofigueroa/spotify-12m-songs\n",
    "# via:  https://www.kaggle.com/datasets/\n",
    "# Spotify 1.2M+ Songs\n",
    "url_1M_songs = r'D:\\RYERSON\\820\\Datasets\\Spotify 1.2M+ Songs\\tracks_features.csv'\n",
    "\n",
    "df_1M_songs = pd.read_csv(url_1M_songs)"
   ]
  },
  {
   "cell_type": "code",
   "execution_count": null,
   "id": "7308402d",
   "metadata": {},
   "outputs": [],
   "source": [
    "# many indirect matches, need be clever to merge\n",
    "# match artist, look for billboard.song in 1M.name.str\n"
   ]
  },
  {
   "cell_type": "code",
   "execution_count": 15,
   "id": "570ef7f9",
   "metadata": {},
   "outputs": [],
   "source": [
    "# change merging fields to lowercase with matching names\n",
    "df_billboard_songs['artist_lower'] = df_billboard_songs['artist'].str.lower()\n",
    "df_billboard_songs['track_lower'] = df_billboard_songs['song'].str.lower()\n",
    "\n",
    "df_billboard_songs = df_billboard_songs[['artist_lower', 'track_lower']]"
   ]
  },
  {
   "cell_type": "code",
   "execution_count": 17,
   "id": "97c1e6b8",
   "metadata": {},
   "outputs": [],
   "source": [
    "# formatting in df_1M_songs is difficult to parse\n",
    "# need to extract list-style formatting using Regex:\n",
    "\"\"\"\n",
    "https://stackoverflow.com/questions/71469808/how-to-replace-a-list-with-first-element-of-list-in-pandas-dataframe-column\n",
    "regex:\n",
    "(             # start capturing\n",
    "(?<=\\[[\"\\'])  # if preceded by [\" or ['\n",
    "[^\"\\']*       # get all text until \" or '\n",
    "|             # OR\n",
    "^[^\"\\']+$     # get whole string if it doesn't contain \" or '\n",
    ")             # stop capturing\n",
    "\"\"\"\n",
    "df_1M_songs['artist_lower'] = df_1M_songs['artists'].str.extract('((?<=\\[[\"\\'])[^\"\\']*|^[^\"\\']+$)')\n",
    "df_1M_songs['artist_lower'] = df_1M_songs['artist_lower'].str.lower()\n",
    "df_1M_songs['track_lower'] = df_1M_songs['name'].str.lower()"
   ]
  },
  {
   "cell_type": "code",
   "execution_count": 23,
   "id": "79e8e7b9",
   "metadata": {},
   "outputs": [
    {
     "data": {
      "text/plain": [
       "(1216426, 28)"
      ]
     },
     "execution_count": 23,
     "metadata": {},
     "output_type": "execute_result"
    }
   ],
   "source": [
    "# now, let's see how many id matches we can get with the billboard tracks\n",
    "merge_on = ['artist_lower']\n",
    "\n",
    "df_temp = pd.merge(df_billboard_songs, df_1M_songs, how='left', on=merge_on, indicator=True)\n",
    "df_temp.shape"
   ]
  },
  {
   "cell_type": "code",
   "execution_count": 24,
   "id": "dbffe8e0",
   "metadata": {},
   "outputs": [
    {
     "data": {
      "text/html": [
       "<div>\n",
       "<style scoped>\n",
       "    .dataframe tbody tr th:only-of-type {\n",
       "        vertical-align: middle;\n",
       "    }\n",
       "\n",
       "    .dataframe tbody tr th {\n",
       "        vertical-align: top;\n",
       "    }\n",
       "\n",
       "    .dataframe thead th {\n",
       "        text-align: right;\n",
       "    }\n",
       "</style>\n",
       "<table border=\"1\" class=\"dataframe\">\n",
       "  <thead>\n",
       "    <tr style=\"text-align: right;\">\n",
       "      <th></th>\n",
       "      <th>artist_lower</th>\n",
       "      <th>track_lower_x</th>\n",
       "      <th>id</th>\n",
       "      <th>name</th>\n",
       "      <th>album</th>\n",
       "      <th>album_id</th>\n",
       "      <th>artists</th>\n",
       "      <th>artist_ids</th>\n",
       "      <th>track_number</th>\n",
       "      <th>disc_number</th>\n",
       "      <th>explicit</th>\n",
       "      <th>danceability</th>\n",
       "      <th>energy</th>\n",
       "      <th>key</th>\n",
       "      <th>loudness</th>\n",
       "      <th>mode</th>\n",
       "      <th>speechiness</th>\n",
       "      <th>acousticness</th>\n",
       "      <th>instrumentalness</th>\n",
       "      <th>liveness</th>\n",
       "      <th>valence</th>\n",
       "      <th>tempo</th>\n",
       "      <th>duration_ms</th>\n",
       "      <th>time_signature</th>\n",
       "      <th>year</th>\n",
       "      <th>release_date</th>\n",
       "      <th>track_lower_y</th>\n",
       "      <th>_merge</th>\n",
       "    </tr>\n",
       "  </thead>\n",
       "  <tbody>\n",
       "    <tr>\n",
       "      <th>0</th>\n",
       "      <td>\"groove\" holmes</td>\n",
       "      <td>misty</td>\n",
       "      <td>NaN</td>\n",
       "      <td>NaN</td>\n",
       "      <td>NaN</td>\n",
       "      <td>NaN</td>\n",
       "      <td>NaN</td>\n",
       "      <td>NaN</td>\n",
       "      <td>NaN</td>\n",
       "      <td>NaN</td>\n",
       "      <td>NaN</td>\n",
       "      <td>NaN</td>\n",
       "      <td>NaN</td>\n",
       "      <td>NaN</td>\n",
       "      <td>NaN</td>\n",
       "      <td>NaN</td>\n",
       "      <td>NaN</td>\n",
       "      <td>NaN</td>\n",
       "      <td>NaN</td>\n",
       "      <td>NaN</td>\n",
       "      <td>NaN</td>\n",
       "      <td>NaN</td>\n",
       "      <td>NaN</td>\n",
       "      <td>NaN</td>\n",
       "      <td>NaN</td>\n",
       "      <td>NaN</td>\n",
       "      <td>NaN</td>\n",
       "      <td>left_only</td>\n",
       "    </tr>\n",
       "    <tr>\n",
       "      <th>1</th>\n",
       "      <td>\"groove\" holmes</td>\n",
       "      <td>what now my love</td>\n",
       "      <td>NaN</td>\n",
       "      <td>NaN</td>\n",
       "      <td>NaN</td>\n",
       "      <td>NaN</td>\n",
       "      <td>NaN</td>\n",
       "      <td>NaN</td>\n",
       "      <td>NaN</td>\n",
       "      <td>NaN</td>\n",
       "      <td>NaN</td>\n",
       "      <td>NaN</td>\n",
       "      <td>NaN</td>\n",
       "      <td>NaN</td>\n",
       "      <td>NaN</td>\n",
       "      <td>NaN</td>\n",
       "      <td>NaN</td>\n",
       "      <td>NaN</td>\n",
       "      <td>NaN</td>\n",
       "      <td>NaN</td>\n",
       "      <td>NaN</td>\n",
       "      <td>NaN</td>\n",
       "      <td>NaN</td>\n",
       "      <td>NaN</td>\n",
       "      <td>NaN</td>\n",
       "      <td>NaN</td>\n",
       "      <td>NaN</td>\n",
       "      <td>left_only</td>\n",
       "    </tr>\n",
       "    <tr>\n",
       "      <th>2</th>\n",
       "      <td>\"little\" jimmy dickens</td>\n",
       "      <td>may the bird of paradise fly up your nose</td>\n",
       "      <td>NaN</td>\n",
       "      <td>NaN</td>\n",
       "      <td>NaN</td>\n",
       "      <td>NaN</td>\n",
       "      <td>NaN</td>\n",
       "      <td>NaN</td>\n",
       "      <td>NaN</td>\n",
       "      <td>NaN</td>\n",
       "      <td>NaN</td>\n",
       "      <td>NaN</td>\n",
       "      <td>NaN</td>\n",
       "      <td>NaN</td>\n",
       "      <td>NaN</td>\n",
       "      <td>NaN</td>\n",
       "      <td>NaN</td>\n",
       "      <td>NaN</td>\n",
       "      <td>NaN</td>\n",
       "      <td>NaN</td>\n",
       "      <td>NaN</td>\n",
       "      <td>NaN</td>\n",
       "      <td>NaN</td>\n",
       "      <td>NaN</td>\n",
       "      <td>NaN</td>\n",
       "      <td>NaN</td>\n",
       "      <td>NaN</td>\n",
       "      <td>left_only</td>\n",
       "    </tr>\n",
       "    <tr>\n",
       "      <th>3</th>\n",
       "      <td>\"pookie\" hudson</td>\n",
       "      <td>i know i know</td>\n",
       "      <td>NaN</td>\n",
       "      <td>NaN</td>\n",
       "      <td>NaN</td>\n",
       "      <td>NaN</td>\n",
       "      <td>NaN</td>\n",
       "      <td>NaN</td>\n",
       "      <td>NaN</td>\n",
       "      <td>NaN</td>\n",
       "      <td>NaN</td>\n",
       "      <td>NaN</td>\n",
       "      <td>NaN</td>\n",
       "      <td>NaN</td>\n",
       "      <td>NaN</td>\n",
       "      <td>NaN</td>\n",
       "      <td>NaN</td>\n",
       "      <td>NaN</td>\n",
       "      <td>NaN</td>\n",
       "      <td>NaN</td>\n",
       "      <td>NaN</td>\n",
       "      <td>NaN</td>\n",
       "      <td>NaN</td>\n",
       "      <td>NaN</td>\n",
       "      <td>NaN</td>\n",
       "      <td>NaN</td>\n",
       "      <td>NaN</td>\n",
       "      <td>left_only</td>\n",
       "    </tr>\n",
       "    <tr>\n",
       "      <th>4</th>\n",
       "      <td>\"weird al\" yankovic</td>\n",
       "      <td>amish paradise</td>\n",
       "      <td>NaN</td>\n",
       "      <td>NaN</td>\n",
       "      <td>NaN</td>\n",
       "      <td>NaN</td>\n",
       "      <td>NaN</td>\n",
       "      <td>NaN</td>\n",
       "      <td>NaN</td>\n",
       "      <td>NaN</td>\n",
       "      <td>NaN</td>\n",
       "      <td>NaN</td>\n",
       "      <td>NaN</td>\n",
       "      <td>NaN</td>\n",
       "      <td>NaN</td>\n",
       "      <td>NaN</td>\n",
       "      <td>NaN</td>\n",
       "      <td>NaN</td>\n",
       "      <td>NaN</td>\n",
       "      <td>NaN</td>\n",
       "      <td>NaN</td>\n",
       "      <td>NaN</td>\n",
       "      <td>NaN</td>\n",
       "      <td>NaN</td>\n",
       "      <td>NaN</td>\n",
       "      <td>NaN</td>\n",
       "      <td>NaN</td>\n",
       "      <td>left_only</td>\n",
       "    </tr>\n",
       "  </tbody>\n",
       "</table>\n",
       "</div>"
      ],
      "text/plain": [
       "             artist_lower                              track_lower_x   id  \\\n",
       "0         \"groove\" holmes                                      misty  NaN   \n",
       "1         \"groove\" holmes                           what now my love  NaN   \n",
       "2  \"little\" jimmy dickens  may the bird of paradise fly up your nose  NaN   \n",
       "3         \"pookie\" hudson                              i know i know  NaN   \n",
       "4     \"weird al\" yankovic                             amish paradise  NaN   \n",
       "\n",
       "  name album album_id artists artist_ids  track_number  disc_number explicit  \\\n",
       "0  NaN   NaN      NaN     NaN        NaN           NaN          NaN      NaN   \n",
       "1  NaN   NaN      NaN     NaN        NaN           NaN          NaN      NaN   \n",
       "2  NaN   NaN      NaN     NaN        NaN           NaN          NaN      NaN   \n",
       "3  NaN   NaN      NaN     NaN        NaN           NaN          NaN      NaN   \n",
       "4  NaN   NaN      NaN     NaN        NaN           NaN          NaN      NaN   \n",
       "\n",
       "   danceability  energy  key  loudness  mode  speechiness  acousticness  \\\n",
       "0           NaN     NaN  NaN       NaN   NaN          NaN           NaN   \n",
       "1           NaN     NaN  NaN       NaN   NaN          NaN           NaN   \n",
       "2           NaN     NaN  NaN       NaN   NaN          NaN           NaN   \n",
       "3           NaN     NaN  NaN       NaN   NaN          NaN           NaN   \n",
       "4           NaN     NaN  NaN       NaN   NaN          NaN           NaN   \n",
       "\n",
       "   instrumentalness  liveness  valence  tempo  duration_ms  time_signature  \\\n",
       "0               NaN       NaN      NaN    NaN          NaN             NaN   \n",
       "1               NaN       NaN      NaN    NaN          NaN             NaN   \n",
       "2               NaN       NaN      NaN    NaN          NaN             NaN   \n",
       "3               NaN       NaN      NaN    NaN          NaN             NaN   \n",
       "4               NaN       NaN      NaN    NaN          NaN             NaN   \n",
       "\n",
       "   year release_date track_lower_y     _merge  \n",
       "0   NaN          NaN           NaN  left_only  \n",
       "1   NaN          NaN           NaN  left_only  \n",
       "2   NaN          NaN           NaN  left_only  \n",
       "3   NaN          NaN           NaN  left_only  \n",
       "4   NaN          NaN           NaN  left_only  "
      ]
     },
     "execution_count": 24,
     "metadata": {},
     "output_type": "execute_result"
    }
   ],
   "source": [
    "df_temp.head()"
   ]
  },
  {
   "cell_type": "code",
   "execution_count": 27,
   "id": "90105c33",
   "metadata": {
    "scrolled": false
   },
   "outputs": [
    {
     "data": {
      "text/plain": [
       "(76, 26)"
      ]
     },
     "execution_count": 27,
     "metadata": {},
     "output_type": "execute_result"
    }
   ],
   "source": [
    "df_1M_songs[df_1M_songs.artist_lower.str.contains('yankovic')].shape"
   ]
  },
  {
   "cell_type": "code",
   "execution_count": 31,
   "id": "ebe5aca1",
   "metadata": {},
   "outputs": [
    {
     "data": {
      "text/plain": [
       "(362, 26)"
      ]
     },
     "execution_count": 31,
     "metadata": {},
     "output_type": "execute_result"
    }
   ],
   "source": [
    "df_1M_songs[df_1M_songs.artists.str.contains('Yankovic')].shape"
   ]
  },
  {
   "cell_type": "code",
   "execution_count": null,
   "id": "b48c016f",
   "metadata": {},
   "outputs": [],
   "source": []
  },
  {
   "cell_type": "code",
   "execution_count": null,
   "id": "ef95feb4",
   "metadata": {},
   "outputs": [],
   "source": []
  },
  {
   "cell_type": "code",
   "execution_count": null,
   "id": "0bb46a29",
   "metadata": {},
   "outputs": [],
   "source": []
  },
  {
   "cell_type": "code",
   "execution_count": null,
   "id": "1308bb29",
   "metadata": {},
   "outputs": [],
   "source": []
  },
  {
   "cell_type": "code",
   "execution_count": null,
   "id": "c955dbed",
   "metadata": {},
   "outputs": [],
   "source": []
  },
  {
   "cell_type": "code",
   "execution_count": null,
   "id": "e9d1d8fb",
   "metadata": {},
   "outputs": [],
   "source": []
  },
  {
   "cell_type": "code",
   "execution_count": null,
   "id": "bc15fe64",
   "metadata": {},
   "outputs": [],
   "source": [
    "# merge billboard 100 with 1.2M songs\n",
    "\n",
    "# change merging fields to lowercase with matching names\n",
    "df_billboard['artist_lower'] = df_billboard['artist'].str.lower()\n",
    "df_billboard['track_lower'] = df_billboard['song'].str.lower()\n",
    "\n",
    "# need to extract list-style formatting using Regex:\n",
    "\"\"\"\n",
    "https://stackoverflow.com/questions/71469808/how-to-replace-a-list-with-first-element-of-list-in-pandas-dataframe-column\n",
    "regex:\n",
    "(             # start capturing\n",
    "(?<=\\[[\"\\'])  # if preceded by [\" or ['\n",
    "[^\"\\']*       # get all text until \" or '\n",
    "|             # OR\n",
    "^[^\"\\']+$     # get whole string if it doesn't contain \" or '\n",
    ")             # stop capturing\n",
    "\"\"\"\n",
    "df_1M_songs['artist_lower'] = df_1M_songs['artists'].str.extract('((?<=\\[[\"\\'])[^\"\\']*|^[^\"\\']+$)')\n",
    "df_1M_songs['artist_lower'] = df_1M_songs['artist_lower'].str.lower()\n",
    "df_1M_songs['track_lower'] = df_1M_songs['name'].str.lower()\n",
    "\n",
    "# join tables\n",
    "df = pd.merge(df_billboard, df_1M_songs, how='outer', on=['artist_lower', 'track_lower'], indicator=True)\n",
    "df.shape, df[df._merge=='both'].shape"
   ]
  },
  {
   "cell_type": "code",
   "execution_count": null,
   "id": "1a81b734",
   "metadata": {},
   "outputs": [],
   "source": [
    "# how many missing songs?\n",
    "df[df._merge == 'left_only'].drop_duplicates(['artist_lower', 'track_lower']).reset_index().shape"
   ]
  },
  {
   "cell_type": "code",
   "execution_count": null,
   "id": "b6278213",
   "metadata": {},
   "outputs": [],
   "source": [
    "# how many found songs?\n",
    "df[df._merge == 'both'].drop_duplicates(['artist_lower', 'track_lower']).reset_index().shape\n",
    "# lame"
   ]
  },
  {
   "cell_type": "code",
   "execution_count": null,
   "id": "2a28ba31",
   "metadata": {},
   "outputs": [],
   "source": []
  },
  {
   "cell_type": "code",
   "execution_count": null,
   "id": "82784403",
   "metadata": {},
   "outputs": [],
   "source": [
    "missing_songs = df[df._merge == 'left_only'].drop_duplicates(['artist_lower', 'track_lower']).sort_values(['artist_lower', 'track_lower']).reset_index()[['artist_lower', 'track_lower']]\n",
    "missing_songs"
   ]
  },
  {
   "cell_type": "code",
   "execution_count": null,
   "id": "226bff0c",
   "metadata": {},
   "outputs": [],
   "source": [
    "# manually check database for these\n",
    "manual_check = df_1M_songs[['artist_lower', 'track_lower', 'album']]"
   ]
  },
  {
   "cell_type": "code",
   "execution_count": null,
   "id": "a0d36e7d",
   "metadata": {},
   "outputs": [],
   "source": [
    "manual_check[manual_check.track_lower == 'velcro fly']"
   ]
  },
  {
   "cell_type": "code",
   "execution_count": null,
   "id": "a77fbc06",
   "metadata": {},
   "outputs": [],
   "source": [
    "# can i use this to join?\n",
    "manual_check[manual_check.track_lower.str.contains('velcro fly')]\n",
    "\n",
    "# don't like this solution, it will be humongous\n",
    "# https://stackoverflow.com/questions/58011182/pandas-merge-a-dataframe-on-an-exact-and-partial-match"
   ]
  },
  {
   "cell_type": "code",
   "execution_count": null,
   "id": "5837004e",
   "metadata": {
    "scrolled": false
   },
   "outputs": [],
   "source": [
    "manual_check[manual_check.artist_lower=='zz top'].sort_values('track_lower')\n",
    "# they're all in there, maybe we need a partial match for the merge?"
   ]
  },
  {
   "cell_type": "code",
   "execution_count": null,
   "id": "3e0399b0",
   "metadata": {},
   "outputs": [],
   "source": []
  },
  {
   "cell_type": "code",
   "execution_count": null,
   "id": "4ebd0845",
   "metadata": {},
   "outputs": [],
   "source": [
    "# which songs were not matched to billboard 100?\n",
    "unmatched = df[df._merge == 'right_only'].drop_duplicates(['artist_lower', 'track_lower'])[['artists', 'artist_lower', 'track_lower']].sort_values(['artist_lower', 'track_lower']).reset_index()"
   ]
  },
  {
   "cell_type": "code",
   "execution_count": null,
   "id": "c8b480b1",
   "metadata": {},
   "outputs": [],
   "source": [
    "unmatched.sample(20)"
   ]
  },
  {
   "cell_type": "code",
   "execution_count": null,
   "id": "88e8686d",
   "metadata": {},
   "outputs": [],
   "source": []
  },
  {
   "cell_type": "code",
   "execution_count": null,
   "id": "4b3d608e",
   "metadata": {},
   "outputs": [],
   "source": []
  },
  {
   "cell_type": "code",
   "execution_count": null,
   "id": "d4da518d",
   "metadata": {},
   "outputs": [],
   "source": []
  },
  {
   "cell_type": "markdown",
   "id": "476bc98e",
   "metadata": {},
   "source": [
    "### Can we merge Billboard 100 with Song Metadata?\n",
    "### not well (~90% missing)\n",
    "### NLP section only\n",
    "    * we could use this merge for NLP\n",
    "    * this could be a representative sample\n",
    "    * discard for now because it would be nice to use the entire Billboard 100 dataset"
   ]
  },
  {
   "cell_type": "code",
   "execution_count": null,
   "id": "3bbc0f7a",
   "metadata": {},
   "outputs": [],
   "source": [
    "# Billboard Top 100 Historical Data\n",
    "# link:  https://www.kaggle.com/datasets/dhruvildave/billboard-the-hot-100-songs\n",
    "# via:  https://toolbox.google.com/datasetsearch\n",
    "url_billboard = r'D:\\RYERSON\\820\\Datasets\\Billboard The Hot 100 Songs\\charts.csv'\n",
    "\n",
    "# Music Dataset: Lyrics and Metadata from 1950 to 2019\n",
    "# link:  https://www.kaggle.com/datasets/dhruvildave/billboard-the-hot-100-songs\n",
    "# via:  https://toolbox.google.com/datasetsearch\n",
    "# info re metadata:  https://developer.spotify.com/documentation/web-api/reference/#/operations/get-several-audio-features\n",
    "# also available via Spotify web API:\n",
    "    # link:  https://developer.spotify.com/documentation/web-api/\n",
    "url_songdata = r'D:\\RYERSON\\820\\Datasets\\Music Dataset Lyrics and Metadata from 1950 to 2019\\tcc_ceds_music.csv'\n"
   ]
  },
  {
   "cell_type": "code",
   "execution_count": null,
   "id": "a9deb950",
   "metadata": {},
   "outputs": [],
   "source": [
    "df_billboard = pd.read_csv(url_billboard)\n",
    "\n",
    "# lowercase for joining datasets\n",
    "# these match the names in the other dataframe, and are lowercase, as the other dataset is\n",
    "df_billboard['artist_name'] = df_billboard['artist'].str.lower()\n",
    "df_billboard['track_name'] = df_billboard['song'].str.lower()\n",
    "\n",
    "df_billboard.head(1)"
   ]
  },
  {
   "cell_type": "code",
   "execution_count": null,
   "id": "6fa5304b",
   "metadata": {},
   "outputs": [],
   "source": [
    "df_songdata = pd.read_csv(url_songdata)\n",
    "# df_songdata.rename(columns={'artist_name': 'artist', 'track_name': 'song'}, inplace=True)\n",
    "df_songdata.head(1)"
   ]
  },
  {
   "cell_type": "code",
   "execution_count": null,
   "id": "a960808e",
   "metadata": {},
   "outputs": [],
   "source": [
    "df_billboard.shape, df_songdata.shape"
   ]
  },
  {
   "cell_type": "code",
   "execution_count": null,
   "id": "ca880ee7",
   "metadata": {},
   "outputs": [],
   "source": [
    "df = pd.merge(df_billboard, df_songdata, how='left', on=['artist_name', 'track_name'], indicator=True)\n",
    "df.shape, df[df._merge=='both'].shape"
   ]
  },
  {
   "cell_type": "code",
   "execution_count": null,
   "id": "fbbd4e71",
   "metadata": {},
   "outputs": [],
   "source": [
    "# lots of missing hits, let's check what's up\n",
    "temp_columns = ['artist_name', 'track_name', '_merge']\n",
    "temp = df[temp_columns]"
   ]
  },
  {
   "cell_type": "code",
   "execution_count": null,
   "id": "a113e502",
   "metadata": {},
   "outputs": [],
   "source": [
    "temp.sample(10)"
   ]
  },
  {
   "cell_type": "code",
   "execution_count": null,
   "id": "9aa4a91e",
   "metadata": {},
   "outputs": [],
   "source": [
    "df_songdata[df_songdata.artist_name=='vikki carr']"
   ]
  },
  {
   "cell_type": "code",
   "execution_count": null,
   "id": "ff58b127",
   "metadata": {},
   "outputs": [],
   "source": [
    "df_songdata[df_songdata.artist_name=='walk the moon']"
   ]
  },
  {
   "cell_type": "code",
   "execution_count": null,
   "id": "9ea6bd0f",
   "metadata": {},
   "outputs": [],
   "source": [
    "# ok, how many songs are missing? should we use the spotify API instead?\n",
    "\n",
    "# missing tracks\n",
    "missing = temp[temp._merge=='left_only'].drop_duplicates(keep='first')\n",
    "\n",
    "# total tracks\n",
    "all_tracks = df_billboard[['song', 'artist']].drop_duplicates(keep='first')"
   ]
  },
  {
   "cell_type": "code",
   "execution_count": null,
   "id": "e077dede",
   "metadata": {},
   "outputs": [],
   "source": [
    "missing.shape[0] / all_tracks.shape[0]\n",
    "# 90% of songs are missing"
   ]
  }
 ],
 "metadata": {
  "kernelspec": {
   "display_name": "Python 3 (ipykernel)",
   "language": "python",
   "name": "python3"
  },
  "language_info": {
   "codemirror_mode": {
    "name": "ipython",
    "version": 3
   },
   "file_extension": ".py",
   "mimetype": "text/x-python",
   "name": "python",
   "nbconvert_exporter": "python",
   "pygments_lexer": "ipython3",
   "version": "3.9.7"
  }
 },
 "nbformat": 4,
 "nbformat_minor": 5
}
