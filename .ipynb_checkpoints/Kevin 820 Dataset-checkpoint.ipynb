{
 "cells": [
  {
   "cell_type": "code",
   "execution_count": 1,
   "id": "b92fb833",
   "metadata": {},
   "outputs": [
    {
     "data": {
      "text/html": [
       "<style>.container { width:100% !important; }</style>"
      ],
      "text/plain": [
       "<IPython.core.display.HTML object>"
      ]
     },
     "metadata": {},
     "output_type": "display_data"
    }
   ],
   "source": [
    "# import modules\n",
    "import pandas as pd\n",
    "import numpy as np\n",
    "import spotipy\n",
    "\n",
    "# full-width display\n",
    "from IPython.core.display import display, HTML\n",
    "display(HTML(\"<style>.container { width:100% !important; }</style>\"))\n",
    "\n",
    "# pandas format\n",
    "pd.set_option('display.float_format', '{:_.0f}'.format)\n",
    "# NOTE: underscore separaters ('_') are better than commas (',') because \n",
    "# numbers with underscores work in Python without any extra effort.\n",
    "pd.set_option('display.max_columns', None)\n",
    "pd.set_option('display.max_rows', 100)\n",
    "\n",
    "# spotipy\n",
    "import spotipy\n",
    "from spotipy.oauth2 import SpotifyClientCredentials\n",
    "\n",
    "# CONFIDENTIAL.py included in .gitignore, contains private API key\n",
    "# use link above to get a client_id and client_secret from developer.spotify.com\n",
    "from CONFIDENTIAL import client_id, client_secret"
   ]
  },
  {
   "cell_type": "markdown",
   "id": "f6c8526b",
   "metadata": {},
   "source": [
    "### The Billboard 100"
   ]
  },
  {
   "cell_type": "code",
   "execution_count": 2,
   "id": "c5a90136",
   "metadata": {},
   "outputs": [],
   "source": [
    "# Billboard Top 100 Historical Data\n",
    "# link:  https://www.kaggle.com/datasets/dhruvildave/billboard-the-hot-100-songs\n",
    "# via:  https://toolbox.google.com/datasetsearch\n",
    "url_billboard = r'D:\\RYERSON\\820\\Datasets\\Billboard The Hot 100 Songs\\charts.csv'"
   ]
  },
  {
   "cell_type": "code",
   "execution_count": 3,
   "id": "83dd3fd3",
   "metadata": {},
   "outputs": [
    {
     "data": {
      "text/html": [
       "<div>\n",
       "<style scoped>\n",
       "    .dataframe tbody tr th:only-of-type {\n",
       "        vertical-align: middle;\n",
       "    }\n",
       "\n",
       "    .dataframe tbody tr th {\n",
       "        vertical-align: top;\n",
       "    }\n",
       "\n",
       "    .dataframe thead th {\n",
       "        text-align: right;\n",
       "    }\n",
       "</style>\n",
       "<table border=\"1\" class=\"dataframe\">\n",
       "  <thead>\n",
       "    <tr style=\"text-align: right;\">\n",
       "      <th></th>\n",
       "      <th>date</th>\n",
       "      <th>rank</th>\n",
       "      <th>song</th>\n",
       "      <th>artist</th>\n",
       "      <th>last-week</th>\n",
       "      <th>peak-rank</th>\n",
       "      <th>weeks-on-board</th>\n",
       "    </tr>\n",
       "  </thead>\n",
       "  <tbody>\n",
       "    <tr>\n",
       "      <th>0</th>\n",
       "      <td>2021-11-06</td>\n",
       "      <td>1</td>\n",
       "      <td>Easy On Me</td>\n",
       "      <td>Adele</td>\n",
       "      <td>1</td>\n",
       "      <td>1</td>\n",
       "      <td>3</td>\n",
       "    </tr>\n",
       "    <tr>\n",
       "      <th>1</th>\n",
       "      <td>2021-11-06</td>\n",
       "      <td>2</td>\n",
       "      <td>Stay</td>\n",
       "      <td>The Kid LAROI &amp; Justin Bieber</td>\n",
       "      <td>2</td>\n",
       "      <td>1</td>\n",
       "      <td>16</td>\n",
       "    </tr>\n",
       "    <tr>\n",
       "      <th>2</th>\n",
       "      <td>2021-11-06</td>\n",
       "      <td>3</td>\n",
       "      <td>Industry Baby</td>\n",
       "      <td>Lil Nas X &amp; Jack Harlow</td>\n",
       "      <td>3</td>\n",
       "      <td>1</td>\n",
       "      <td>14</td>\n",
       "    </tr>\n",
       "    <tr>\n",
       "      <th>3</th>\n",
       "      <td>2021-11-06</td>\n",
       "      <td>4</td>\n",
       "      <td>Fancy Like</td>\n",
       "      <td>Walker Hayes</td>\n",
       "      <td>4</td>\n",
       "      <td>3</td>\n",
       "      <td>19</td>\n",
       "    </tr>\n",
       "    <tr>\n",
       "      <th>4</th>\n",
       "      <td>2021-11-06</td>\n",
       "      <td>5</td>\n",
       "      <td>Bad Habits</td>\n",
       "      <td>Ed Sheeran</td>\n",
       "      <td>5</td>\n",
       "      <td>2</td>\n",
       "      <td>18</td>\n",
       "    </tr>\n",
       "    <tr>\n",
       "      <th>5</th>\n",
       "      <td>2021-11-06</td>\n",
       "      <td>6</td>\n",
       "      <td>Way 2 Sexy</td>\n",
       "      <td>Drake Featuring Future &amp; Young Thug</td>\n",
       "      <td>6</td>\n",
       "      <td>1</td>\n",
       "      <td>8</td>\n",
       "    </tr>\n",
       "    <tr>\n",
       "      <th>6</th>\n",
       "      <td>2021-11-06</td>\n",
       "      <td>7</td>\n",
       "      <td>Shivers</td>\n",
       "      <td>Ed Sheeran</td>\n",
       "      <td>9</td>\n",
       "      <td>7</td>\n",
       "      <td>7</td>\n",
       "    </tr>\n",
       "    <tr>\n",
       "      <th>7</th>\n",
       "      <td>2021-11-06</td>\n",
       "      <td>8</td>\n",
       "      <td>Good 4 U</td>\n",
       "      <td>Olivia Rodrigo</td>\n",
       "      <td>7</td>\n",
       "      <td>1</td>\n",
       "      <td>24</td>\n",
       "    </tr>\n",
       "    <tr>\n",
       "      <th>8</th>\n",
       "      <td>2021-11-06</td>\n",
       "      <td>9</td>\n",
       "      <td>Need To Know</td>\n",
       "      <td>Doja Cat</td>\n",
       "      <td>11</td>\n",
       "      <td>9</td>\n",
       "      <td>20</td>\n",
       "    </tr>\n",
       "    <tr>\n",
       "      <th>9</th>\n",
       "      <td>2021-11-06</td>\n",
       "      <td>10</td>\n",
       "      <td>Levitating</td>\n",
       "      <td>Dua Lipa</td>\n",
       "      <td>8</td>\n",
       "      <td>2</td>\n",
       "      <td>56</td>\n",
       "    </tr>\n",
       "  </tbody>\n",
       "</table>\n",
       "</div>"
      ],
      "text/plain": [
       "        date  rank           song                               artist  \\\n",
       "0 2021-11-06     1     Easy On Me                                Adele   \n",
       "1 2021-11-06     2           Stay        The Kid LAROI & Justin Bieber   \n",
       "2 2021-11-06     3  Industry Baby              Lil Nas X & Jack Harlow   \n",
       "3 2021-11-06     4     Fancy Like                         Walker Hayes   \n",
       "4 2021-11-06     5     Bad Habits                           Ed Sheeran   \n",
       "5 2021-11-06     6     Way 2 Sexy  Drake Featuring Future & Young Thug   \n",
       "6 2021-11-06     7        Shivers                           Ed Sheeran   \n",
       "7 2021-11-06     8       Good 4 U                       Olivia Rodrigo   \n",
       "8 2021-11-06     9   Need To Know                             Doja Cat   \n",
       "9 2021-11-06    10     Levitating                             Dua Lipa   \n",
       "\n",
       "   last-week  peak-rank  weeks-on-board  \n",
       "0          1          1               3  \n",
       "1          2          1              16  \n",
       "2          3          1              14  \n",
       "3          4          3              19  \n",
       "4          5          2              18  \n",
       "5          6          1               8  \n",
       "6          9          7               7  \n",
       "7          7          1              24  \n",
       "8         11          9              20  \n",
       "9          8          2              56  "
      ]
     },
     "execution_count": 3,
     "metadata": {},
     "output_type": "execute_result"
    }
   ],
   "source": [
    "df_billboard = pd.read_csv(url_billboard)\n",
    "df_billboard['date'] = pd.to_datetime(df_billboard['date'])\n",
    "df_billboard.head(10)"
   ]
  },
  {
   "cell_type": "code",
   "execution_count": 4,
   "id": "7900b36a",
   "metadata": {},
   "outputs": [
    {
     "data": {
      "text/plain": [
       "(Timestamp('1958-08-04 00:00:00'), Timestamp('2021-11-06 00:00:00'))"
      ]
     },
     "execution_count": 4,
     "metadata": {},
     "output_type": "execute_result"
    }
   ],
   "source": [
    "# date range for data\n",
    "df_billboard.date.min(), df_billboard.date.max()"
   ]
  },
  {
   "cell_type": "markdown",
   "id": "712ffcaa",
   "metadata": {},
   "source": [
    "### Unique Songs from The Billboard 100"
   ]
  },
  {
   "cell_type": "code",
   "execution_count": 71,
   "id": "a8a0584e",
   "metadata": {},
   "outputs": [
    {
     "data": {
      "text/plain": [
       "(29681, 3)"
      ]
     },
     "execution_count": 71,
     "metadata": {},
     "output_type": "execute_result"
    }
   ],
   "source": [
    "# just the songs on the billboard 100, once per song\n",
    "df_billboard_songs = df_billboard[['song', 'artist']].drop_duplicates().sort_values(['artist', 'song']).reset_index(drop=True)\n",
    "\n",
    "# add a blank id column\n",
    "df_billboard_songs['id'] = \"\"\n",
    "\n",
    "df_billboard_songs.shape"
   ]
  },
  {
   "cell_type": "markdown",
   "id": "ba93e2eb",
   "metadata": {},
   "source": [
    "### 1.2M songs with Metadata"
   ]
  },
  {
   "cell_type": "code",
   "execution_count": 100,
   "id": "87b1cea3",
   "metadata": {},
   "outputs": [],
   "source": [
    "# there are ~30k songs on the Billboard 100 list\n",
    "# let's see how many are here:\n",
    "# https://www.kaggle.com/datasets/rodolfofigueroa/spotify-12m-songs\n",
    "# via:  https://www.kaggle.com/datasets/\n",
    "# Spotify 1.2M+ Songs\n",
    "url_1M_songs = r'D:\\RYERSON\\820\\Datasets\\Spotify 1.2M+ Songs\\tracks_features.csv'\n",
    "\n",
    "# create the dataframe with the large number of songs metadata\n",
    "df_1M_songs = pd.read_csv(url_1M_songs)\n",
    "\n",
    "# make a list of song ids from the 1M dataset\n",
    "metadata_ids = list(df_1M_songs.id)"
   ]
  },
  {
   "cell_type": "markdown",
   "id": "a7748156",
   "metadata": {},
   "source": [
    "### Spotify API setup"
   ]
  },
  {
   "cell_type": "markdown",
   "id": "cc3cbdd6",
   "metadata": {},
   "source": [
    "https://developer.spotify.com/terms/\n",
    "\n",
    "https://developer.spotify.com/dashboard/applications/cd5ce2cb690543ff9967e817d4665543"
   ]
  },
  {
   "cell_type": "markdown",
   "id": "b04e5e9a",
   "metadata": {},
   "source": [
    "##### Useful Spotify API Features\n",
    "\n",
    "https://developer.spotify.com/documentation/web-api/reference/#/operations/get-several-audio-features\n",
    "\n",
    "https://developer.spotify.com/documentation/web-api/reference/#/operations/get-recommendations"
   ]
  },
  {
   "cell_type": "code",
   "execution_count": 27,
   "id": "62c80eaf",
   "metadata": {},
   "outputs": [],
   "source": [
    "spotify = spotipy.Spotify(\n",
    "    client_credentials_manager=SpotifyClientCredentials(\n",
    "        client_id = client_id,\n",
    "        client_secret = client_secret\n",
    "    )\n",
    ")"
   ]
  },
  {
   "cell_type": "code",
   "execution_count": 105,
   "id": "47e1129e",
   "metadata": {},
   "outputs": [],
   "source": [
    "def find_id(track_title, artist_name, metadata_ids):\n",
    "    \"\"\" \n",
    "    for searches with multiple results, all id were identical for the test cases I ran \n",
    "    some searches return no results, in this case the song is not on spotify\n",
    "        confirmed by spot checks in the spotify music player\n",
    "    some tracks give a 404 error, \n",
    "        these seem to exist in Spotify but 404 anyway\n",
    "        not sure why the API does this but \n",
    "    \"\"\"\n",
    "    track_info = spotify.search(q='artist:' + artist_name + ' track:' + track_title, type='track')\n",
    "    \n",
    "    if track_info['tracks']['items'] == []:  # if track doesn't exist on Spotify\n",
    "        return None\n",
    "    else:\n",
    "        # set the id to the first result\n",
    "        track_id = track_info['tracks']['items'][0]['id']\n",
    "        \n",
    "        # check if there is a better match\n",
    "        number_of_results = len(track_info['tracks']['items'])\n",
    "        \n",
    "        for i in range(number_of_results):\n",
    "            alt_track_id = track_info['tracks']['items'][i]['id']\n",
    "            if alt_track_id in metadata_ids:\n",
    "                track_id = track_info['tracks']['items'][i]['id']\n",
    "        \n",
    "        return track_id"
   ]
  },
  {
   "cell_type": "code",
   "execution_count": 106,
   "id": "75f32a27",
   "metadata": {},
   "outputs": [
    {
     "data": {
      "text/plain": [
       "'6i0V12jOa3mr6uu4WYhUBr'"
      ]
     },
     "execution_count": 106,
     "metadata": {},
     "output_type": "execute_result"
    }
   ],
   "source": [
    "track_title = 'Heathens'\n",
    "artist_name = 'twenty one pilots'\n",
    "find_id(track_title, artist_name, metadata_ids)"
   ]
  },
  {
   "cell_type": "code",
   "execution_count": 107,
   "id": "a7b40f99",
   "metadata": {},
   "outputs": [
    {
     "data": {
      "text/html": [
       "<div>\n",
       "<style scoped>\n",
       "    .dataframe tbody tr th:only-of-type {\n",
       "        vertical-align: middle;\n",
       "    }\n",
       "\n",
       "    .dataframe tbody tr th {\n",
       "        vertical-align: top;\n",
       "    }\n",
       "\n",
       "    .dataframe thead th {\n",
       "        text-align: right;\n",
       "    }\n",
       "</style>\n",
       "<table border=\"1\" class=\"dataframe\">\n",
       "  <thead>\n",
       "    <tr style=\"text-align: right;\">\n",
       "      <th></th>\n",
       "      <th>id</th>\n",
       "      <th>name</th>\n",
       "      <th>album</th>\n",
       "      <th>album_id</th>\n",
       "      <th>artists</th>\n",
       "      <th>artist_ids</th>\n",
       "      <th>track_number</th>\n",
       "      <th>disc_number</th>\n",
       "      <th>explicit</th>\n",
       "      <th>danceability</th>\n",
       "      <th>energy</th>\n",
       "      <th>key</th>\n",
       "      <th>loudness</th>\n",
       "      <th>mode</th>\n",
       "      <th>speechiness</th>\n",
       "      <th>acousticness</th>\n",
       "      <th>instrumentalness</th>\n",
       "      <th>liveness</th>\n",
       "      <th>valence</th>\n",
       "      <th>tempo</th>\n",
       "      <th>duration_ms</th>\n",
       "      <th>time_signature</th>\n",
       "      <th>year</th>\n",
       "      <th>release_date</th>\n",
       "    </tr>\n",
       "  </thead>\n",
       "  <tbody>\n",
       "    <tr>\n",
       "      <th>959826</th>\n",
       "      <td>6i0V12jOa3mr6uu4WYhUBr</td>\n",
       "      <td>Heathens</td>\n",
       "      <td>Heathens</td>\n",
       "      <td>3J8W9AOjQhnBLCX33m3atT</td>\n",
       "      <td>['Twenty One Pilots']</td>\n",
       "      <td>['3YQKmKGau1PzlVlkL1iodx']</td>\n",
       "      <td>1</td>\n",
       "      <td>1</td>\n",
       "      <td>False</td>\n",
       "      <td>1</td>\n",
       "      <td>0</td>\n",
       "      <td>4</td>\n",
       "      <td>-9</td>\n",
       "      <td>0</td>\n",
       "      <td>0</td>\n",
       "      <td>0</td>\n",
       "      <td>0</td>\n",
       "      <td>0</td>\n",
       "      <td>1</td>\n",
       "      <td>90</td>\n",
       "      <td>195920</td>\n",
       "      <td>4</td>\n",
       "      <td>2016</td>\n",
       "      <td>2016-06-16</td>\n",
       "    </tr>\n",
       "  </tbody>\n",
       "</table>\n",
       "</div>"
      ],
      "text/plain": [
       "                            id      name     album                album_id  \\\n",
       "959826  6i0V12jOa3mr6uu4WYhUBr  Heathens  Heathens  3J8W9AOjQhnBLCX33m3atT   \n",
       "\n",
       "                      artists                  artist_ids  track_number  \\\n",
       "959826  ['Twenty One Pilots']  ['3YQKmKGau1PzlVlkL1iodx']             1   \n",
       "\n",
       "        disc_number  explicit  danceability  energy  key  loudness  mode  \\\n",
       "959826            1     False             1       0    4        -9     0   \n",
       "\n",
       "        speechiness  acousticness  instrumentalness  liveness  valence  tempo  \\\n",
       "959826            0             0                 0         0        1     90   \n",
       "\n",
       "        duration_ms  time_signature  year release_date  \n",
       "959826       195920               4  2016   2016-06-16  "
      ]
     },
     "execution_count": 107,
     "metadata": {},
     "output_type": "execute_result"
    }
   ],
   "source": [
    "df_1M_songs[df_1M_songs.id=='6i0V12jOa3mr6uu4WYhUBr']"
   ]
  },
  {
   "cell_type": "code",
   "execution_count": null,
   "id": "403e6f85",
   "metadata": {},
   "outputs": [],
   "source": []
  },
  {
   "cell_type": "code",
   "execution_count": null,
   "id": "b7f921a5",
   "metadata": {},
   "outputs": [],
   "source": []
  },
  {
   "cell_type": "code",
   "execution_count": 82,
   "id": "42cfcf22",
   "metadata": {},
   "outputs": [],
   "source": [
    "track_title = 'Heathens'\n",
    "artist_name = 'twenty one pilots'\n",
    "\n",
    "track_info = spotify.search(q='artist:' + artist_name + ' track:' + track_title, type='track')"
   ]
  },
  {
   "cell_type": "code",
   "execution_count": 98,
   "id": "d1378baf",
   "metadata": {},
   "outputs": [
    {
     "name": "stdout",
     "output_type": "stream",
     "text": [
      "6i0V12jOa3mr6uu4WYhUBr\n",
      "match\n",
      "3JP0pKp18uaz66YdMpQQDf\n",
      "3vZM2544ETmOCCHuBPZRzm\n",
      "2N68XdwQ97tF145Ska3g44\n",
      "3MIlaQrNHVh4mWROnr42Xp\n",
      "5pyyN3d68eSFbwJRT0SIYO\n",
      "4JpyiVLXZMX1JocLO4MQiu\n",
      "0uB0a0FmuW3DZmfzG0ORlT\n",
      "7LmyQJQrEsLq8YDnGieT6g\n",
      "53unsqxbbaoznkaxaNk6eP\n"
     ]
    }
   ],
   "source": [
    "no_results = len(track_info['tracks']['items'])\n",
    "\n",
    "for i in range(no_results):\n",
    "    track_id = track_info['tracks']['items'][i]['id']\n",
    "    print(track_id)\n",
    "    if track_id in metadata_ids:\n",
    "        print('match')\n",
    "    \n",
    "# maybe make a function that returns the match or if not available, the first entry"
   ]
  },
  {
   "cell_type": "code",
   "execution_count": 96,
   "id": "2d1eb460",
   "metadata": {},
   "outputs": [],
   "source": []
  },
  {
   "cell_type": "code",
   "execution_count": null,
   "id": "08a9abe9",
   "metadata": {},
   "outputs": [],
   "source": []
  },
  {
   "cell_type": "markdown",
   "id": "d30b56cd",
   "metadata": {},
   "source": [
    "### Add Spotify IDs to billboard songs"
   ]
  },
  {
   "cell_type": "code",
   "execution_count": 78,
   "id": "b68f8817",
   "metadata": {},
   "outputs": [],
   "source": [
    "# artist id, oops\n",
    "# # add troublesome songs manually\n",
    "# df_billboard_songs.loc[df_billboard_songs.song == 'Jai Ho! (You Are My Destiny)', 'id'] = '7Kpqjspw4Y7HrvItIRcBiW'\n",
    "# df_billboard_songs.loc[df_billboard_songs.song == 'Wholy Holy', 'id'] = '0E9JjpG9gVNPcb8cTjRqBo'  # multiple versions, none match perfectly\n"
   ]
  },
  {
   "cell_type": "code",
   "execution_count": 76,
   "id": "364a8f32",
   "metadata": {
    "collapsed": true
   },
   "outputs": [
    {
     "name": "stdout",
     "output_type": "stream",
     "text": [
      "0\n",
      "100\n",
      "200\n",
      "300\n",
      "400\n",
      "500\n",
      "600\n",
      "700\n",
      "800\n",
      "900\n",
      "1000\n",
      "1100\n",
      "1200\n"
     ]
    },
    {
     "name": "stderr",
     "output_type": "stream",
     "text": [
      "HTTP Error for GET to https://api.spotify.com/v1/search with Params: {'q': 'artist:Aretha Franklin With James Cleveland & The Southern California Community Choir track:Wholy Holy', 'limit': 10, 'offset': 0, 'type': 'track', 'market': None} returned 404 due to Not found.\n"
     ]
    },
    {
     "ename": "SpotifyException",
     "evalue": "http status: 404, code:-1 - https://api.spotify.com/v1/search?q=artist%3AAretha+Franklin+With+James+Cleveland+%26+The+Southern+California+Community+Choir+track%3AWholy+Holy&limit=10&offset=0&type=track:\n Not found., reason: None",
     "output_type": "error",
     "traceback": [
      "\u001b[1;31m---------------------------------------------------------------------------\u001b[0m",
      "\u001b[1;31mHTTPError\u001b[0m                                 Traceback (most recent call last)",
      "\u001b[1;32m~\\anaconda3\\lib\\site-packages\\spotipy\\client.py\u001b[0m in \u001b[0;36m_internal_call\u001b[1;34m(self, method, url, payload, params)\u001b[0m\n\u001b[0;32m    244\u001b[0m \u001b[1;33m\u001b[0m\u001b[0m\n\u001b[1;32m--> 245\u001b[1;33m             \u001b[0mresponse\u001b[0m\u001b[1;33m.\u001b[0m\u001b[0mraise_for_status\u001b[0m\u001b[1;33m(\u001b[0m\u001b[1;33m)\u001b[0m\u001b[1;33m\u001b[0m\u001b[1;33m\u001b[0m\u001b[0m\n\u001b[0m\u001b[0;32m    246\u001b[0m             \u001b[0mresults\u001b[0m \u001b[1;33m=\u001b[0m \u001b[0mresponse\u001b[0m\u001b[1;33m.\u001b[0m\u001b[0mjson\u001b[0m\u001b[1;33m(\u001b[0m\u001b[1;33m)\u001b[0m\u001b[1;33m\u001b[0m\u001b[1;33m\u001b[0m\u001b[0m\n",
      "\u001b[1;32m~\\anaconda3\\lib\\site-packages\\requests\\models.py\u001b[0m in \u001b[0;36mraise_for_status\u001b[1;34m(self)\u001b[0m\n\u001b[0;32m    952\u001b[0m         \u001b[1;32mif\u001b[0m \u001b[0mhttp_error_msg\u001b[0m\u001b[1;33m:\u001b[0m\u001b[1;33m\u001b[0m\u001b[1;33m\u001b[0m\u001b[0m\n\u001b[1;32m--> 953\u001b[1;33m             \u001b[1;32mraise\u001b[0m \u001b[0mHTTPError\u001b[0m\u001b[1;33m(\u001b[0m\u001b[0mhttp_error_msg\u001b[0m\u001b[1;33m,\u001b[0m \u001b[0mresponse\u001b[0m\u001b[1;33m=\u001b[0m\u001b[0mself\u001b[0m\u001b[1;33m)\u001b[0m\u001b[1;33m\u001b[0m\u001b[1;33m\u001b[0m\u001b[0m\n\u001b[0m\u001b[0;32m    954\u001b[0m \u001b[1;33m\u001b[0m\u001b[0m\n",
      "\u001b[1;31mHTTPError\u001b[0m: 404 Client Error: Not Found for url: https://api.spotify.com/v1/search?q=artist%3AAretha+Franklin+With+James+Cleveland+%26+The+Southern+California+Community+Choir+track%3AWholy+Holy&limit=10&offset=0&type=track",
      "\nDuring handling of the above exception, another exception occurred:\n",
      "\u001b[1;31mSpotifyException\u001b[0m                          Traceback (most recent call last)",
      "\u001b[1;32m<timed exec>\u001b[0m in \u001b[0;36m<module>\u001b[1;34m\u001b[0m\n",
      "\u001b[1;32m~\\AppData\\Local\\Temp/ipykernel_2376/2371159559.py\u001b[0m in \u001b[0;36mfind_id\u001b[1;34m(track_title, artist_name)\u001b[0m\n\u001b[0;32m      5\u001b[0m         \u001b[0mconfirmed\u001b[0m \u001b[0mby\u001b[0m \u001b[0mspot\u001b[0m \u001b[0mchecks\u001b[0m \u001b[1;32min\u001b[0m \u001b[0mthe\u001b[0m \u001b[0mspotify\u001b[0m \u001b[0mmusic\u001b[0m \u001b[0mplayer\u001b[0m\u001b[1;33m\u001b[0m\u001b[1;33m\u001b[0m\u001b[0m\n\u001b[0;32m      6\u001b[0m     \"\"\"\n\u001b[1;32m----> 7\u001b[1;33m     \u001b[0mtrack_info\u001b[0m \u001b[1;33m=\u001b[0m \u001b[0mspotify\u001b[0m\u001b[1;33m.\u001b[0m\u001b[0msearch\u001b[0m\u001b[1;33m(\u001b[0m\u001b[0mq\u001b[0m\u001b[1;33m=\u001b[0m\u001b[1;34m'artist:'\u001b[0m \u001b[1;33m+\u001b[0m \u001b[0martist_name\u001b[0m \u001b[1;33m+\u001b[0m \u001b[1;34m' track:'\u001b[0m \u001b[1;33m+\u001b[0m \u001b[0mtrack_title\u001b[0m\u001b[1;33m,\u001b[0m \u001b[0mtype\u001b[0m\u001b[1;33m=\u001b[0m\u001b[1;34m'track'\u001b[0m\u001b[1;33m)\u001b[0m\u001b[1;33m\u001b[0m\u001b[1;33m\u001b[0m\u001b[0m\n\u001b[0m\u001b[0;32m      8\u001b[0m \u001b[1;33m\u001b[0m\u001b[0m\n\u001b[0;32m      9\u001b[0m     \u001b[1;32mif\u001b[0m \u001b[0mtrack_info\u001b[0m\u001b[1;33m[\u001b[0m\u001b[1;34m'tracks'\u001b[0m\u001b[1;33m]\u001b[0m\u001b[1;33m[\u001b[0m\u001b[1;34m'items'\u001b[0m\u001b[1;33m]\u001b[0m \u001b[1;33m==\u001b[0m \u001b[1;33m[\u001b[0m\u001b[1;33m]\u001b[0m\u001b[1;33m:\u001b[0m  \u001b[1;31m# if track doesn't exist on Spotify\u001b[0m\u001b[1;33m\u001b[0m\u001b[1;33m\u001b[0m\u001b[0m\n",
      "\u001b[1;32m~\\anaconda3\\lib\\site-packages\\spotipy\\client.py\u001b[0m in \u001b[0;36msearch\u001b[1;34m(self, q, limit, offset, type, market)\u001b[0m\n\u001b[0;32m    551\u001b[0m                            \u001b[0mfrom_token\u001b[0m\u001b[1;33m.\u001b[0m\u001b[1;33m\u001b[0m\u001b[1;33m\u001b[0m\u001b[0m\n\u001b[0;32m    552\u001b[0m         \"\"\"\n\u001b[1;32m--> 553\u001b[1;33m         return self._get(\n\u001b[0m\u001b[0;32m    554\u001b[0m             \u001b[1;34m\"search\"\u001b[0m\u001b[1;33m,\u001b[0m \u001b[0mq\u001b[0m\u001b[1;33m=\u001b[0m\u001b[0mq\u001b[0m\u001b[1;33m,\u001b[0m \u001b[0mlimit\u001b[0m\u001b[1;33m=\u001b[0m\u001b[0mlimit\u001b[0m\u001b[1;33m,\u001b[0m \u001b[0moffset\u001b[0m\u001b[1;33m=\u001b[0m\u001b[0moffset\u001b[0m\u001b[1;33m,\u001b[0m \u001b[0mtype\u001b[0m\u001b[1;33m=\u001b[0m\u001b[0mtype\u001b[0m\u001b[1;33m,\u001b[0m \u001b[0mmarket\u001b[0m\u001b[1;33m=\u001b[0m\u001b[0mmarket\u001b[0m\u001b[1;33m\u001b[0m\u001b[1;33m\u001b[0m\u001b[0m\n\u001b[0;32m    555\u001b[0m         )\n",
      "\u001b[1;32m~\\anaconda3\\lib\\site-packages\\spotipy\\client.py\u001b[0m in \u001b[0;36m_get\u001b[1;34m(self, url, args, payload, **kwargs)\u001b[0m\n\u001b[0;32m    295\u001b[0m             \u001b[0mkwargs\u001b[0m\u001b[1;33m.\u001b[0m\u001b[0mupdate\u001b[0m\u001b[1;33m(\u001b[0m\u001b[0margs\u001b[0m\u001b[1;33m)\u001b[0m\u001b[1;33m\u001b[0m\u001b[1;33m\u001b[0m\u001b[0m\n\u001b[0;32m    296\u001b[0m \u001b[1;33m\u001b[0m\u001b[0m\n\u001b[1;32m--> 297\u001b[1;33m         \u001b[1;32mreturn\u001b[0m \u001b[0mself\u001b[0m\u001b[1;33m.\u001b[0m\u001b[0m_internal_call\u001b[0m\u001b[1;33m(\u001b[0m\u001b[1;34m\"GET\"\u001b[0m\u001b[1;33m,\u001b[0m \u001b[0murl\u001b[0m\u001b[1;33m,\u001b[0m \u001b[0mpayload\u001b[0m\u001b[1;33m,\u001b[0m \u001b[0mkwargs\u001b[0m\u001b[1;33m)\u001b[0m\u001b[1;33m\u001b[0m\u001b[1;33m\u001b[0m\u001b[0m\n\u001b[0m\u001b[0;32m    298\u001b[0m \u001b[1;33m\u001b[0m\u001b[0m\n\u001b[0;32m    299\u001b[0m     \u001b[1;32mdef\u001b[0m \u001b[0m_post\u001b[0m\u001b[1;33m(\u001b[0m\u001b[0mself\u001b[0m\u001b[1;33m,\u001b[0m \u001b[0murl\u001b[0m\u001b[1;33m,\u001b[0m \u001b[0margs\u001b[0m\u001b[1;33m=\u001b[0m\u001b[1;32mNone\u001b[0m\u001b[1;33m,\u001b[0m \u001b[0mpayload\u001b[0m\u001b[1;33m=\u001b[0m\u001b[1;32mNone\u001b[0m\u001b[1;33m,\u001b[0m \u001b[1;33m**\u001b[0m\u001b[0mkwargs\u001b[0m\u001b[1;33m)\u001b[0m\u001b[1;33m:\u001b[0m\u001b[1;33m\u001b[0m\u001b[1;33m\u001b[0m\u001b[0m\n",
      "\u001b[1;32m~\\anaconda3\\lib\\site-packages\\spotipy\\client.py\u001b[0m in \u001b[0;36m_internal_call\u001b[1;34m(self, method, url, payload, params)\u001b[0m\n\u001b[0;32m    265\u001b[0m             )\n\u001b[0;32m    266\u001b[0m \u001b[1;33m\u001b[0m\u001b[0m\n\u001b[1;32m--> 267\u001b[1;33m             raise SpotifyException(\n\u001b[0m\u001b[0;32m    268\u001b[0m                 \u001b[0mresponse\u001b[0m\u001b[1;33m.\u001b[0m\u001b[0mstatus_code\u001b[0m\u001b[1;33m,\u001b[0m\u001b[1;33m\u001b[0m\u001b[1;33m\u001b[0m\u001b[0m\n\u001b[0;32m    269\u001b[0m                 \u001b[1;33m-\u001b[0m\u001b[1;36m1\u001b[0m\u001b[1;33m,\u001b[0m\u001b[1;33m\u001b[0m\u001b[1;33m\u001b[0m\u001b[0m\n",
      "\u001b[1;31mSpotifyException\u001b[0m: http status: 404, code:-1 - https://api.spotify.com/v1/search?q=artist%3AAretha+Franklin+With+James+Cleveland+%26+The+Southern+California+Community+Choir+track%3AWholy+Holy&limit=10&offset=0&type=track:\n Not found., reason: None"
     ]
    }
   ],
   "source": [
    "%%time\n",
    "# populate with ids, where available\n",
    "for i, row in df_billboard_songs.iterrows():\n",
    "    if i%100 == 0:\n",
    "        print(i)\n",
    "    if df_billboard_songs['id'].iloc[i] != \"\":  # start over where we finished\n",
    "        continue\n",
    "    else:\n",
    "        artist = row[1]\n",
    "        song = row[0]\n",
    "        df_billboard_songs['id'].iloc[i] = find_id(song, artist)"
   ]
  },
  {
   "cell_type": "code",
   "execution_count": 79,
   "id": "77745114",
   "metadata": {},
   "outputs": [
    {
     "data": {
      "text/plain": [
       "1283"
      ]
     },
     "execution_count": 79,
     "metadata": {},
     "output_type": "execute_result"
    }
   ],
   "source": [
    "# how many id have we added\n",
    "sum(df_billboard_songs.id != \"\")"
   ]
  },
  {
   "cell_type": "code",
   "execution_count": null,
   "id": "06668d45",
   "metadata": {},
   "outputs": [],
   "source": []
  },
  {
   "cell_type": "code",
   "execution_count": 80,
   "id": "83e910bd",
   "metadata": {},
   "outputs": [],
   "source": [
    "# save progress so far\n",
    "df_billboard_songs.to_csv('df_billboard_songs.csv', index=False)"
   ]
  },
  {
   "cell_type": "code",
   "execution_count": null,
   "id": "2d513196",
   "metadata": {},
   "outputs": [],
   "source": []
  },
  {
   "cell_type": "code",
   "execution_count": null,
   "id": "485a68c0",
   "metadata": {},
   "outputs": [],
   "source": []
  },
  {
   "cell_type": "code",
   "execution_count": null,
   "id": "af63e895",
   "metadata": {},
   "outputs": [],
   "source": [
    "# now merge with entire billboard list\n",
    "\n"
   ]
  },
  {
   "cell_type": "code",
   "execution_count": null,
   "id": "c647996e",
   "metadata": {},
   "outputs": [],
   "source": [
    "# check how many matches in 1.2M songs, what percent? SQL dataset? manual scraping?\n",
    "\n"
   ]
  },
  {
   "cell_type": "code",
   "execution_count": null,
   "id": "a6b298e9",
   "metadata": {},
   "outputs": [],
   "source": []
  },
  {
   "cell_type": "code",
   "execution_count": null,
   "id": "7dfeab3d",
   "metadata": {},
   "outputs": [],
   "source": []
  },
  {
   "cell_type": "code",
   "execution_count": null,
   "id": "b02522f4",
   "metadata": {},
   "outputs": [],
   "source": []
  },
  {
   "cell_type": "code",
   "execution_count": null,
   "id": "71d02ef1",
   "metadata": {},
   "outputs": [],
   "source": []
  },
  {
   "cell_type": "code",
   "execution_count": null,
   "id": "a54618de",
   "metadata": {},
   "outputs": [],
   "source": []
  },
  {
   "cell_type": "code",
   "execution_count": null,
   "id": "b79a000f",
   "metadata": {},
   "outputs": [],
   "source": []
  },
  {
   "cell_type": "code",
   "execution_count": null,
   "id": "52fe5f8b",
   "metadata": {},
   "outputs": [],
   "source": []
  },
  {
   "cell_type": "code",
   "execution_count": null,
   "id": "26d856ca",
   "metadata": {},
   "outputs": [],
   "source": []
  },
  {
   "cell_type": "code",
   "execution_count": null,
   "id": "46539549",
   "metadata": {},
   "outputs": [],
   "source": []
  },
  {
   "cell_type": "code",
   "execution_count": null,
   "id": "1c24a710",
   "metadata": {},
   "outputs": [],
   "source": []
  },
  {
   "cell_type": "code",
   "execution_count": null,
   "id": "a481586d",
   "metadata": {},
   "outputs": [],
   "source": []
  },
  {
   "cell_type": "code",
   "execution_count": null,
   "id": "d949028c",
   "metadata": {},
   "outputs": [],
   "source": []
  },
  {
   "cell_type": "code",
   "execution_count": null,
   "id": "bffad896",
   "metadata": {},
   "outputs": [],
   "source": []
  },
  {
   "cell_type": "code",
   "execution_count": null,
   "id": "7f9747d4",
   "metadata": {},
   "outputs": [],
   "source": []
  },
  {
   "cell_type": "markdown",
   "id": "909e3e15",
   "metadata": {},
   "source": [
    "### merging without spotify id is not working flawlessly, use API to get id, and check how many matches"
   ]
  },
  {
   "cell_type": "code",
   "execution_count": null,
   "id": "48b4931c",
   "metadata": {},
   "outputs": [],
   "source": [
    "# many indirect matches, need be clever to merge\n",
    "# match artist, look for billboard.song in 1M.name.str"
   ]
  },
  {
   "cell_type": "code",
   "execution_count": null,
   "id": "76ce6c33",
   "metadata": {},
   "outputs": [],
   "source": [
    "# change merging fields to lowercase with matching names\n",
    "df_billboard_songs['artist_lower'] = df_billboard_songs['artist'].str.lower()\n",
    "df_billboard_songs['track_lower'] = df_billboard_songs['song'].str.lower()\n",
    "\n",
    "df_billboard_songs = df_billboard_songs[['artist_lower', 'track_lower']]"
   ]
  },
  {
   "cell_type": "code",
   "execution_count": null,
   "id": "58b0e691",
   "metadata": {},
   "outputs": [],
   "source": [
    "df_1M_songs['artists_lower'] = df_1M_songs['artists'].str.lower()\n",
    "df_1M_songs['track_lower'] = df_1M_songs['name'].str.lower()"
   ]
  },
  {
   "cell_type": "code",
   "execution_count": null,
   "id": "be5055a2",
   "metadata": {},
   "outputs": [],
   "source": [
    "# now check if df_billboard_songs entries match 1M_songs entries\n",
    "\n",
    "billboard_tracks = list(df_billboard_songs.track_lower)\n",
    "\n",
    "# df_billboard_songs['ID'] = df_1M_songs[(df_billboard_songs.track_lower in df_1M_songs.track_lower) & (df_billboard_songs.artist_lower in df_1M_songs.artists_lower)]\n"
   ]
  },
  {
   "cell_type": "code",
   "execution_count": null,
   "id": "6ee86383",
   "metadata": {},
   "outputs": [],
   "source": [
    "df_1M_songs.head(0)"
   ]
  },
  {
   "cell_type": "code",
   "execution_count": null,
   "id": "29ef7fbb",
   "metadata": {},
   "outputs": [],
   "source": [
    "df_temp = df_billboard_songs.sample(100)"
   ]
  },
  {
   "cell_type": "code",
   "execution_count": null,
   "id": "59d3d8f6",
   "metadata": {},
   "outputs": [],
   "source": []
  },
  {
   "cell_type": "code",
   "execution_count": null,
   "id": "a8f07c58",
   "metadata": {},
   "outputs": [],
   "source": []
  },
  {
   "cell_type": "code",
   "execution_count": null,
   "id": "77bbe95e",
   "metadata": {},
   "outputs": [],
   "source": []
  },
  {
   "cell_type": "markdown",
   "id": "94bdbe1d",
   "metadata": {},
   "source": [
    "### regex method only takes first artist, doesn't work properly misses out of order artists"
   ]
  },
  {
   "cell_type": "code",
   "execution_count": null,
   "id": "b2e5cd00",
   "metadata": {},
   "outputs": [],
   "source": [
    "# formatting in df_1M_songs is difficult to parse\n",
    "# need to extract list-style formatting using Regex:\n",
    "\"\"\"\n",
    "https://stackoverflow.com/questions/71469808/how-to-replace-a-list-with-first-element-of-list-in-pandas-dataframe-column\n",
    "regex:\n",
    "(             # start capturing\n",
    "(?<=\\[[\"\\'])  # if preceded by [\" or ['\n",
    "[^\"\\']*       # get all text until \" or '\n",
    "|             # OR\n",
    "^[^\"\\']+$     # get whole string if it doesn't contain \" or '\n",
    ")             # stop capturing\n",
    "\"\"\"\n",
    "df_1M_songs['artist_lower'] = df_1M_songs['artists'].str.extract('((?<=\\[[\"\\'])[^\"\\']*|^[^\"\\']+$)')\n",
    "df_1M_songs['artist_lower'] = df_1M_songs['artist_lower'].str.lower()\n",
    "df_1M_songs['track_lower'] = df_1M_songs['name'].str.lower()"
   ]
  },
  {
   "cell_type": "code",
   "execution_count": null,
   "id": "ce905531",
   "metadata": {},
   "outputs": [],
   "source": [
    "# now, let's see how many id matches we can get with the billboard tracks\n",
    "merge_on = ['artist_lower']\n",
    "\n",
    "df_temp = pd.merge(df_billboard_songs, df_1M_songs, how='left', on=merge_on, indicator=True)\n",
    "df_temp.shape"
   ]
  },
  {
   "cell_type": "code",
   "execution_count": null,
   "id": "d21493ef",
   "metadata": {},
   "outputs": [],
   "source": [
    "df_temp.head()"
   ]
  },
  {
   "cell_type": "code",
   "execution_count": null,
   "id": "0425909d",
   "metadata": {
    "scrolled": false
   },
   "outputs": [],
   "source": [
    "df_1M_songs[df_1M_songs.artist_lower.str.contains('yankovic')].shape"
   ]
  },
  {
   "cell_type": "code",
   "execution_count": null,
   "id": "d8dfa0df",
   "metadata": {},
   "outputs": [],
   "source": [
    "df_1M_songs[df_1M_songs.artists.str.contains('Yankovic')].shape"
   ]
  },
  {
   "cell_type": "code",
   "execution_count": null,
   "id": "e85b2174",
   "metadata": {},
   "outputs": [],
   "source": []
  },
  {
   "cell_type": "code",
   "execution_count": null,
   "id": "551fad5d",
   "metadata": {},
   "outputs": [],
   "source": []
  },
  {
   "cell_type": "code",
   "execution_count": null,
   "id": "1e87376e",
   "metadata": {},
   "outputs": [],
   "source": []
  },
  {
   "cell_type": "code",
   "execution_count": null,
   "id": "f4c03b16",
   "metadata": {},
   "outputs": [],
   "source": []
  },
  {
   "cell_type": "code",
   "execution_count": null,
   "id": "e7d05e7d",
   "metadata": {},
   "outputs": [],
   "source": []
  },
  {
   "cell_type": "code",
   "execution_count": null,
   "id": "4fa5110b",
   "metadata": {},
   "outputs": [],
   "source": []
  },
  {
   "cell_type": "code",
   "execution_count": null,
   "id": "bc15fe64",
   "metadata": {},
   "outputs": [],
   "source": [
    "# merge billboard 100 with 1.2M songs\n",
    "\n",
    "# change merging fields to lowercase with matching names\n",
    "df_billboard['artist_lower'] = df_billboard['artist'].str.lower()\n",
    "df_billboard['track_lower'] = df_billboard['song'].str.lower()\n",
    "\n",
    "# need to extract list-style formatting using Regex:\n",
    "\"\"\"\n",
    "https://stackoverflow.com/questions/71469808/how-to-replace-a-list-with-first-element-of-list-in-pandas-dataframe-column\n",
    "regex:\n",
    "(             # start capturing\n",
    "(?<=\\[[\"\\'])  # if preceded by [\" or ['\n",
    "[^\"\\']*       # get all text until \" or '\n",
    "|             # OR\n",
    "^[^\"\\']+$     # get whole string if it doesn't contain \" or '\n",
    ")             # stop capturing\n",
    "\"\"\"\n",
    "df_1M_songs['artist_lower'] = df_1M_songs['artists'].str.extract('((?<=\\[[\"\\'])[^\"\\']*|^[^\"\\']+$)')\n",
    "df_1M_songs['artist_lower'] = df_1M_songs['artist_lower'].str.lower()\n",
    "df_1M_songs['track_lower'] = df_1M_songs['name'].str.lower()\n",
    "\n",
    "# join tables\n",
    "df = pd.merge(df_billboard, df_1M_songs, how='outer', on=['artist_lower', 'track_lower'], indicator=True)\n",
    "df.shape, df[df._merge=='both'].shape"
   ]
  },
  {
   "cell_type": "code",
   "execution_count": null,
   "id": "1a81b734",
   "metadata": {},
   "outputs": [],
   "source": [
    "# how many missing songs?\n",
    "df[df._merge == 'left_only'].drop_duplicates(['artist_lower', 'track_lower']).reset_index().shape"
   ]
  },
  {
   "cell_type": "code",
   "execution_count": null,
   "id": "b6278213",
   "metadata": {},
   "outputs": [],
   "source": [
    "# how many found songs?\n",
    "df[df._merge == 'both'].drop_duplicates(['artist_lower', 'track_lower']).reset_index().shape\n",
    "# lame"
   ]
  },
  {
   "cell_type": "code",
   "execution_count": null,
   "id": "2a28ba31",
   "metadata": {},
   "outputs": [],
   "source": []
  },
  {
   "cell_type": "code",
   "execution_count": null,
   "id": "82784403",
   "metadata": {},
   "outputs": [],
   "source": [
    "missing_songs = df[df._merge == 'left_only'].drop_duplicates(['artist_lower', 'track_lower']).sort_values(['artist_lower', 'track_lower']).reset_index()[['artist_lower', 'track_lower']]\n",
    "missing_songs"
   ]
  },
  {
   "cell_type": "code",
   "execution_count": null,
   "id": "226bff0c",
   "metadata": {},
   "outputs": [],
   "source": [
    "# manually check database for these\n",
    "manual_check = df_1M_songs[['artist_lower', 'track_lower', 'album']]"
   ]
  },
  {
   "cell_type": "code",
   "execution_count": null,
   "id": "a0d36e7d",
   "metadata": {},
   "outputs": [],
   "source": [
    "manual_check[manual_check.track_lower == 'velcro fly']"
   ]
  },
  {
   "cell_type": "code",
   "execution_count": null,
   "id": "a77fbc06",
   "metadata": {},
   "outputs": [],
   "source": [
    "# can i use this to join?\n",
    "manual_check[manual_check.track_lower.str.contains('velcro fly')]\n",
    "\n",
    "# don't like this solution, it will be humongous\n",
    "# https://stackoverflow.com/questions/58011182/pandas-merge-a-dataframe-on-an-exact-and-partial-match"
   ]
  },
  {
   "cell_type": "code",
   "execution_count": null,
   "id": "5837004e",
   "metadata": {
    "scrolled": false
   },
   "outputs": [],
   "source": [
    "manual_check[manual_check.artist_lower=='zz top'].sort_values('track_lower')\n",
    "# they're all in there, maybe we need a partial match for the merge?"
   ]
  },
  {
   "cell_type": "code",
   "execution_count": null,
   "id": "3e0399b0",
   "metadata": {},
   "outputs": [],
   "source": []
  },
  {
   "cell_type": "code",
   "execution_count": null,
   "id": "4ebd0845",
   "metadata": {},
   "outputs": [],
   "source": [
    "# which songs were not matched to billboard 100?\n",
    "unmatched = df[df._merge == 'right_only'].drop_duplicates(['artist_lower', 'track_lower'])[['artists', 'artist_lower', 'track_lower']].sort_values(['artist_lower', 'track_lower']).reset_index()"
   ]
  },
  {
   "cell_type": "code",
   "execution_count": null,
   "id": "c8b480b1",
   "metadata": {},
   "outputs": [],
   "source": [
    "unmatched.sample(20)"
   ]
  },
  {
   "cell_type": "code",
   "execution_count": null,
   "id": "88e8686d",
   "metadata": {},
   "outputs": [],
   "source": []
  },
  {
   "cell_type": "code",
   "execution_count": null,
   "id": "4b3d608e",
   "metadata": {},
   "outputs": [],
   "source": []
  },
  {
   "cell_type": "code",
   "execution_count": null,
   "id": "d4da518d",
   "metadata": {},
   "outputs": [],
   "source": []
  },
  {
   "cell_type": "markdown",
   "id": "476bc98e",
   "metadata": {},
   "source": [
    "### Can we merge Billboard 100 with Song Metadata?\n",
    "### not well (~90% missing)\n",
    "### NLP section only\n",
    "    * we could use this merge for NLP\n",
    "    * this could be a representative sample\n",
    "    * discard for now because it would be nice to use the entire Billboard 100 dataset"
   ]
  },
  {
   "cell_type": "code",
   "execution_count": null,
   "id": "3bbc0f7a",
   "metadata": {},
   "outputs": [],
   "source": [
    "# Billboard Top 100 Historical Data\n",
    "# link:  https://www.kaggle.com/datasets/dhruvildave/billboard-the-hot-100-songs\n",
    "# via:  https://toolbox.google.com/datasetsearch\n",
    "url_billboard = r'D:\\RYERSON\\820\\Datasets\\Billboard The Hot 100 Songs\\charts.csv'\n",
    "\n",
    "# Music Dataset: Lyrics and Metadata from 1950 to 2019\n",
    "# link:  https://www.kaggle.com/datasets/dhruvildave/billboard-the-hot-100-songs\n",
    "# via:  https://toolbox.google.com/datasetsearch\n",
    "# info re metadata:  https://developer.spotify.com/documentation/web-api/reference/#/operations/get-several-audio-features\n",
    "# also available via Spotify web API:\n",
    "    # link:  https://developer.spotify.com/documentation/web-api/\n",
    "url_songdata = r'D:\\RYERSON\\820\\Datasets\\Music Dataset Lyrics and Metadata from 1950 to 2019\\tcc_ceds_music.csv'\n"
   ]
  },
  {
   "cell_type": "code",
   "execution_count": null,
   "id": "a9deb950",
   "metadata": {},
   "outputs": [],
   "source": [
    "df_billboard = pd.read_csv(url_billboard)\n",
    "\n",
    "# lowercase for joining datasets\n",
    "# these match the names in the other dataframe, and are lowercase, as the other dataset is\n",
    "df_billboard['artist_name'] = df_billboard['artist'].str.lower()\n",
    "df_billboard['track_name'] = df_billboard['song'].str.lower()\n",
    "\n",
    "df_billboard.head(1)"
   ]
  },
  {
   "cell_type": "code",
   "execution_count": null,
   "id": "6fa5304b",
   "metadata": {},
   "outputs": [],
   "source": [
    "df_songdata = pd.read_csv(url_songdata)\n",
    "# df_songdata.rename(columns={'artist_name': 'artist', 'track_name': 'song'}, inplace=True)\n",
    "df_songdata.head(1)"
   ]
  },
  {
   "cell_type": "code",
   "execution_count": null,
   "id": "a960808e",
   "metadata": {},
   "outputs": [],
   "source": [
    "df_billboard.shape, df_songdata.shape"
   ]
  },
  {
   "cell_type": "code",
   "execution_count": null,
   "id": "ca880ee7",
   "metadata": {},
   "outputs": [],
   "source": [
    "df = pd.merge(df_billboard, df_songdata, how='left', on=['artist_name', 'track_name'], indicator=True)\n",
    "df.shape, df[df._merge=='both'].shape"
   ]
  },
  {
   "cell_type": "code",
   "execution_count": null,
   "id": "fbbd4e71",
   "metadata": {},
   "outputs": [],
   "source": [
    "# lots of missing hits, let's check what's up\n",
    "temp_columns = ['artist_name', 'track_name', '_merge']\n",
    "temp = df[temp_columns]"
   ]
  },
  {
   "cell_type": "code",
   "execution_count": null,
   "id": "a113e502",
   "metadata": {},
   "outputs": [],
   "source": [
    "temp.sample(10)"
   ]
  },
  {
   "cell_type": "code",
   "execution_count": null,
   "id": "9aa4a91e",
   "metadata": {},
   "outputs": [],
   "source": [
    "df_songdata[df_songdata.artist_name=='vikki carr']"
   ]
  },
  {
   "cell_type": "code",
   "execution_count": null,
   "id": "ff58b127",
   "metadata": {},
   "outputs": [],
   "source": [
    "df_songdata[df_songdata.artist_name=='walk the moon']"
   ]
  },
  {
   "cell_type": "code",
   "execution_count": null,
   "id": "9ea6bd0f",
   "metadata": {},
   "outputs": [],
   "source": [
    "# ok, how many songs are missing? should we use the spotify API instead?\n",
    "\n",
    "# missing tracks\n",
    "missing = temp[temp._merge=='left_only'].drop_duplicates(keep='first')\n",
    "\n",
    "# total tracks\n",
    "all_tracks = df_billboard[['song', 'artist']].drop_duplicates(keep='first')"
   ]
  },
  {
   "cell_type": "code",
   "execution_count": null,
   "id": "e077dede",
   "metadata": {},
   "outputs": [],
   "source": [
    "missing.shape[0] / all_tracks.shape[0]\n",
    "# 90% of songs are missing"
   ]
  }
 ],
 "metadata": {
  "kernelspec": {
   "display_name": "Python 3 (ipykernel)",
   "language": "python",
   "name": "python3"
  },
  "language_info": {
   "codemirror_mode": {
    "name": "ipython",
    "version": 3
   },
   "file_extension": ".py",
   "mimetype": "text/x-python",
   "name": "python",
   "nbconvert_exporter": "python",
   "pygments_lexer": "ipython3",
   "version": "3.9.7"
  }
 },
 "nbformat": 4,
 "nbformat_minor": 5
}
