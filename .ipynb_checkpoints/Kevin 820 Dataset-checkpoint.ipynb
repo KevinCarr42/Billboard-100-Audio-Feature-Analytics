{
 "cells": [
  {
   "cell_type": "code",
   "execution_count": 1,
   "id": "b92fb833",
   "metadata": {},
   "outputs": [
    {
     "data": {
      "text/html": [
       "<style>.container { width:100% !important; }</style>"
      ],
      "text/plain": [
       "<IPython.core.display.HTML object>"
      ]
     },
     "metadata": {},
     "output_type": "display_data"
    }
   ],
   "source": [
    "# import modules\n",
    "import pandas as pd\n",
    "import numpy as np\n",
    "import spotipy\n",
    "\n",
    "# full-width display\n",
    "from IPython.core.display import display, HTML\n",
    "display(HTML(\"<style>.container { width:100% !important; }</style>\"))\n",
    "\n",
    "# pandas format\n",
    "pd.set_option('display.float_format', '{:_.0f}'.format)\n",
    "# NOTE: underscore separaters ('_') are better than commas (',') because \n",
    "# numbers with underscores work in Python without any extra effort.\n",
    "pd.set_option('display.max_columns', None)\n",
    "pd.set_option('display.max_rows', 100)"
   ]
  },
  {
   "cell_type": "markdown",
   "id": "f6c8526b",
   "metadata": {},
   "source": [
    "### Can we find Metadata for The Billboard 100?"
   ]
  },
  {
   "cell_type": "code",
   "execution_count": 2,
   "id": "c5a90136",
   "metadata": {},
   "outputs": [],
   "source": [
    "# Billboard Top 100 Historical Data\n",
    "# link:  https://www.kaggle.com/datasets/dhruvildave/billboard-the-hot-100-songs\n",
    "# via:  https://toolbox.google.com/datasetsearch\n",
    "url_billboard = r'D:\\RYERSON\\820\\Datasets\\Billboard The Hot 100 Songs\\charts.csv'"
   ]
  },
  {
   "cell_type": "code",
   "execution_count": 3,
   "id": "83dd3fd3",
   "metadata": {},
   "outputs": [
    {
     "data": {
      "text/html": [
       "<div>\n",
       "<style scoped>\n",
       "    .dataframe tbody tr th:only-of-type {\n",
       "        vertical-align: middle;\n",
       "    }\n",
       "\n",
       "    .dataframe tbody tr th {\n",
       "        vertical-align: top;\n",
       "    }\n",
       "\n",
       "    .dataframe thead th {\n",
       "        text-align: right;\n",
       "    }\n",
       "</style>\n",
       "<table border=\"1\" class=\"dataframe\">\n",
       "  <thead>\n",
       "    <tr style=\"text-align: right;\">\n",
       "      <th></th>\n",
       "      <th>date</th>\n",
       "      <th>rank</th>\n",
       "      <th>song</th>\n",
       "      <th>artist</th>\n",
       "      <th>last-week</th>\n",
       "      <th>peak-rank</th>\n",
       "      <th>weeks-on-board</th>\n",
       "    </tr>\n",
       "  </thead>\n",
       "  <tbody>\n",
       "    <tr>\n",
       "      <th>0</th>\n",
       "      <td>2021-11-06</td>\n",
       "      <td>1</td>\n",
       "      <td>Easy On Me</td>\n",
       "      <td>Adele</td>\n",
       "      <td>1</td>\n",
       "      <td>1</td>\n",
       "      <td>3</td>\n",
       "    </tr>\n",
       "  </tbody>\n",
       "</table>\n",
       "</div>"
      ],
      "text/plain": [
       "        date  rank        song artist  last-week  peak-rank  weeks-on-board\n",
       "0 2021-11-06     1  Easy On Me  Adele          1          1               3"
      ]
     },
     "execution_count": 3,
     "metadata": {},
     "output_type": "execute_result"
    }
   ],
   "source": [
    "df_billboard = pd.read_csv(url_billboard)\n",
    "df_billboard['date'] = pd.to_datetime(df_billboard['date'])\n",
    "df_billboard.head(1)"
   ]
  },
  {
   "cell_type": "code",
   "execution_count": 4,
   "id": "1f0716ce",
   "metadata": {},
   "outputs": [
    {
     "data": {
      "text/plain": [
       "(Timestamp('1958-08-04 00:00:00'), Timestamp('2021-11-06 00:00:00'))"
      ]
     },
     "execution_count": 4,
     "metadata": {},
     "output_type": "execute_result"
    }
   ],
   "source": [
    "# date range for data\n",
    "df_billboard.date.min(), df_billboard.date.max()"
   ]
  },
  {
   "cell_type": "code",
   "execution_count": 5,
   "id": "a8a0584e",
   "metadata": {},
   "outputs": [
    {
     "data": {
      "text/plain": [
       "(29681, 2)"
      ]
     },
     "execution_count": 5,
     "metadata": {},
     "output_type": "execute_result"
    }
   ],
   "source": [
    "# just the songs on the billboard 100\n",
    "df_billboard_songs = df_billboard[['song', 'artist']].drop_duplicates().sort_values(['artist', 'song']).reset_index(drop=True)\n",
    "df_billboard_songs.shape"
   ]
  },
  {
   "cell_type": "code",
   "execution_count": 6,
   "id": "681e04ad",
   "metadata": {},
   "outputs": [
    {
     "data": {
      "text/html": [
       "<div>\n",
       "<style scoped>\n",
       "    .dataframe tbody tr th:only-of-type {\n",
       "        vertical-align: middle;\n",
       "    }\n",
       "\n",
       "    .dataframe tbody tr th {\n",
       "        vertical-align: top;\n",
       "    }\n",
       "\n",
       "    .dataframe thead th {\n",
       "        text-align: right;\n",
       "    }\n",
       "</style>\n",
       "<table border=\"1\" class=\"dataframe\">\n",
       "  <thead>\n",
       "    <tr style=\"text-align: right;\">\n",
       "      <th></th>\n",
       "      <th>song</th>\n",
       "      <th>artist</th>\n",
       "    </tr>\n",
       "  </thead>\n",
       "  <tbody>\n",
       "    <tr>\n",
       "      <th>25820</th>\n",
       "      <td>Who'll Be The Next In Line</td>\n",
       "      <td>The Kinks</td>\n",
       "    </tr>\n",
       "    <tr>\n",
       "      <th>12720</th>\n",
       "      <td>Big Boss Man</td>\n",
       "      <td>Jimmy Reed</td>\n",
       "    </tr>\n",
       "    <tr>\n",
       "      <th>26721</th>\n",
       "      <td>Snoopy For President</td>\n",
       "      <td>The Royal Guardsmen</td>\n",
       "    </tr>\n",
       "    <tr>\n",
       "      <th>7328</th>\n",
       "      <td>Roland The Roadie And Gertrude The Groupie</td>\n",
       "      <td>Dr. Hook And The Medicine Show</td>\n",
       "    </tr>\n",
       "    <tr>\n",
       "      <th>28593</th>\n",
       "      <td>Easy Livin</td>\n",
       "      <td>Uriah Heep</td>\n",
       "    </tr>\n",
       "    <tr>\n",
       "      <th>1533</th>\n",
       "      <td>When You're Gone</td>\n",
       "      <td>Avril Lavigne</td>\n",
       "    </tr>\n",
       "    <tr>\n",
       "      <th>27362</th>\n",
       "      <td>A Lonely Night</td>\n",
       "      <td>The Weeknd</td>\n",
       "    </tr>\n",
       "    <tr>\n",
       "      <th>4166</th>\n",
       "      <td>You Make Me Work</td>\n",
       "      <td>Cameo</td>\n",
       "    </tr>\n",
       "    <tr>\n",
       "      <th>22812</th>\n",
       "      <td>Black Pearl</td>\n",
       "      <td>Sonny Charles And The Checkmates, Ltd.</td>\n",
       "    </tr>\n",
       "    <tr>\n",
       "      <th>18118</th>\n",
       "      <td>The Search</td>\n",
       "      <td>NF</td>\n",
       "    </tr>\n",
       "  </tbody>\n",
       "</table>\n",
       "</div>"
      ],
      "text/plain": [
       "                                             song  \\\n",
       "25820                  Who'll Be The Next In Line   \n",
       "12720                                Big Boss Man   \n",
       "26721                        Snoopy For President   \n",
       "7328   Roland The Roadie And Gertrude The Groupie   \n",
       "28593                                  Easy Livin   \n",
       "1533                             When You're Gone   \n",
       "27362                              A Lonely Night   \n",
       "4166                             You Make Me Work   \n",
       "22812                                 Black Pearl   \n",
       "18118                                  The Search   \n",
       "\n",
       "                                       artist  \n",
       "25820                               The Kinks  \n",
       "12720                              Jimmy Reed  \n",
       "26721                     The Royal Guardsmen  \n",
       "7328           Dr. Hook And The Medicine Show  \n",
       "28593                              Uriah Heep  \n",
       "1533                            Avril Lavigne  \n",
       "27362                              The Weeknd  \n",
       "4166                                    Cameo  \n",
       "22812  Sonny Charles And The Checkmates, Ltd.  \n",
       "18118                                      NF  "
      ]
     },
     "execution_count": 6,
     "metadata": {},
     "output_type": "execute_result"
    }
   ],
   "source": [
    "df_billboard_songs.sample(10)"
   ]
  },
  {
   "cell_type": "code",
   "execution_count": 7,
   "id": "87b1cea3",
   "metadata": {},
   "outputs": [],
   "source": [
    "# there are ~30k songs on the Billboard 100 list\n",
    "# let's see how many are here:\n",
    "# https://www.kaggle.com/datasets/rodolfofigueroa/spotify-12m-songs\n",
    "# via:  https://www.kaggle.com/datasets/\n",
    "# Spotify 1.2M+ Songs\n",
    "url_1M_songs = r'D:\\RYERSON\\820\\Datasets\\Spotify 1.2M+ Songs\\tracks_features.csv'\n",
    "\n",
    "df_1M_songs = pd.read_csv(url_1M_songs)"
   ]
  },
  {
   "cell_type": "code",
   "execution_count": null,
   "id": "99e244c3",
   "metadata": {},
   "outputs": [],
   "source": [
    "# many indirect matches, need be clever to merge\n",
    "# match artist, look for billboard.song in 1M.name.str"
   ]
  },
  {
   "cell_type": "code",
   "execution_count": 8,
   "id": "22af1208",
   "metadata": {},
   "outputs": [],
   "source": [
    "# change merging fields to lowercase with matching names\n",
    "df_billboard_songs['artist_lower'] = df_billboard_songs['artist'].str.lower()\n",
    "df_billboard_songs['track_lower'] = df_billboard_songs['song'].str.lower()\n",
    "\n",
    "df_billboard_songs = df_billboard_songs[['artist_lower', 'track_lower']]"
   ]
  },
  {
   "cell_type": "code",
   "execution_count": 9,
   "id": "55e1a32c",
   "metadata": {},
   "outputs": [],
   "source": [
    "df_1M_songs['artists_lower'] = df_1M_songs['artists'].str.lower()\n",
    "df_1M_songs['track_lower'] = df_1M_songs['name'].str.lower()"
   ]
  },
  {
   "cell_type": "code",
   "execution_count": 19,
   "id": "f8d1dc73",
   "metadata": {},
   "outputs": [
    {
     "ename": "TypeError",
     "evalue": "unhashable type: 'Series'",
     "output_type": "error",
     "traceback": [
      "\u001b[1;31m---------------------------------------------------------------------------\u001b[0m",
      "\u001b[1;31mTypeError\u001b[0m                                 Traceback (most recent call last)",
      "\u001b[1;32m~\\AppData\\Local\\Temp/ipykernel_5028/833725763.py\u001b[0m in \u001b[0;36m<module>\u001b[1;34m\u001b[0m\n\u001b[0;32m      2\u001b[0m \u001b[1;33m\u001b[0m\u001b[0m\n\u001b[0;32m      3\u001b[0m \u001b[1;31m# df_billboard_songs['ID'] = df_1M_songs[(df_billboard_songs.track_lower in df_1M_songs.track_lower) & (df_billboard_songs.artist_lower in df_1M_songs.artists_lower)]\u001b[0m\u001b[1;33m\u001b[0m\u001b[1;33m\u001b[0m\u001b[0m\n\u001b[1;32m----> 4\u001b[1;33m \u001b[0mdf_1M_songs\u001b[0m\u001b[1;33m[\u001b[0m\u001b[1;33m(\u001b[0m\u001b[0mdf_billboard_songs\u001b[0m\u001b[1;33m.\u001b[0m\u001b[0mtrack_lower\u001b[0m \u001b[1;32min\u001b[0m \u001b[0mdf_1M_songs\u001b[0m\u001b[1;33m.\u001b[0m\u001b[0mtrack_lower\u001b[0m\u001b[1;33m)\u001b[0m \u001b[1;33m&\u001b[0m \u001b[1;33m(\u001b[0m\u001b[0mdf_billboard_songs\u001b[0m\u001b[1;33m.\u001b[0m\u001b[0martist_lower\u001b[0m \u001b[1;32min\u001b[0m \u001b[0mdf_1M_songs\u001b[0m\u001b[1;33m.\u001b[0m\u001b[0martists_lower\u001b[0m\u001b[1;33m)\u001b[0m\u001b[1;33m]\u001b[0m\u001b[1;33m.\u001b[0m\u001b[0mhead\u001b[0m\u001b[1;33m(\u001b[0m\u001b[1;33m)\u001b[0m\u001b[1;33m\u001b[0m\u001b[1;33m\u001b[0m\u001b[0m\n\u001b[0m",
      "\u001b[1;32m~\\anaconda3\\lib\\site-packages\\pandas\\core\\generic.py\u001b[0m in \u001b[0;36m__contains__\u001b[1;34m(self, key)\u001b[0m\n\u001b[0;32m   1931\u001b[0m     \u001b[1;32mdef\u001b[0m \u001b[0m__contains__\u001b[0m\u001b[1;33m(\u001b[0m\u001b[0mself\u001b[0m\u001b[1;33m,\u001b[0m \u001b[0mkey\u001b[0m\u001b[1;33m)\u001b[0m \u001b[1;33m->\u001b[0m \u001b[0mbool_t\u001b[0m\u001b[1;33m:\u001b[0m\u001b[1;33m\u001b[0m\u001b[1;33m\u001b[0m\u001b[0m\n\u001b[0;32m   1932\u001b[0m         \u001b[1;34m\"\"\"True if the key is in the info axis\"\"\"\u001b[0m\u001b[1;33m\u001b[0m\u001b[1;33m\u001b[0m\u001b[0m\n\u001b[1;32m-> 1933\u001b[1;33m         \u001b[1;32mreturn\u001b[0m \u001b[0mkey\u001b[0m \u001b[1;32min\u001b[0m \u001b[0mself\u001b[0m\u001b[1;33m.\u001b[0m\u001b[0m_info_axis\u001b[0m\u001b[1;33m\u001b[0m\u001b[1;33m\u001b[0m\u001b[0m\n\u001b[0m\u001b[0;32m   1934\u001b[0m \u001b[1;33m\u001b[0m\u001b[0m\n\u001b[0;32m   1935\u001b[0m     \u001b[1;33m@\u001b[0m\u001b[0mproperty\u001b[0m\u001b[1;33m\u001b[0m\u001b[1;33m\u001b[0m\u001b[0m\n",
      "\u001b[1;32m~\\anaconda3\\lib\\site-packages\\pandas\\core\\indexes\\range.py\u001b[0m in \u001b[0;36m__contains__\u001b[1;34m(self, key)\u001b[0m\n\u001b[0;32m    363\u001b[0m \u001b[1;33m\u001b[0m\u001b[0m\n\u001b[0;32m    364\u001b[0m     \u001b[1;32mdef\u001b[0m \u001b[0m__contains__\u001b[0m\u001b[1;33m(\u001b[0m\u001b[0mself\u001b[0m\u001b[1;33m,\u001b[0m \u001b[0mkey\u001b[0m\u001b[1;33m:\u001b[0m \u001b[0mAny\u001b[0m\u001b[1;33m)\u001b[0m \u001b[1;33m->\u001b[0m \u001b[0mbool\u001b[0m\u001b[1;33m:\u001b[0m\u001b[1;33m\u001b[0m\u001b[1;33m\u001b[0m\u001b[0m\n\u001b[1;32m--> 365\u001b[1;33m         \u001b[0mhash\u001b[0m\u001b[1;33m(\u001b[0m\u001b[0mkey\u001b[0m\u001b[1;33m)\u001b[0m\u001b[1;33m\u001b[0m\u001b[1;33m\u001b[0m\u001b[0m\n\u001b[0m\u001b[0;32m    366\u001b[0m         \u001b[1;32mtry\u001b[0m\u001b[1;33m:\u001b[0m\u001b[1;33m\u001b[0m\u001b[1;33m\u001b[0m\u001b[0m\n\u001b[0;32m    367\u001b[0m             \u001b[0mkey\u001b[0m \u001b[1;33m=\u001b[0m \u001b[0mensure_python_int\u001b[0m\u001b[1;33m(\u001b[0m\u001b[0mkey\u001b[0m\u001b[1;33m)\u001b[0m\u001b[1;33m\u001b[0m\u001b[1;33m\u001b[0m\u001b[0m\n",
      "\u001b[1;31mTypeError\u001b[0m: unhashable type: 'Series'"
     ]
    }
   ],
   "source": [
    "# now check if df_billboard_songs entries match 1M_songs entries\n",
    "\n",
    "# df_billboard_songs['ID'] = df_1M_songs[(df_billboard_songs.track_lower in df_1M_songs.track_lower) & (df_billboard_songs.artist_lower in df_1M_songs.artists_lower)]\n",
    "df_1M_songs[(df_billboard_songs.track_lower in df_1M_songs.track_lower) & (df_billboard_songs.artist_lower in df_1M_songs.artists_lower)].head()"
   ]
  },
  {
   "cell_type": "code",
   "execution_count": null,
   "id": "8fa4ad70",
   "metadata": {},
   "outputs": [],
   "source": []
  },
  {
   "cell_type": "code",
   "execution_count": null,
   "id": "53c20328",
   "metadata": {},
   "outputs": [],
   "source": []
  },
  {
   "cell_type": "code",
   "execution_count": null,
   "id": "63bfe093",
   "metadata": {},
   "outputs": [],
   "source": []
  },
  {
   "cell_type": "code",
   "execution_count": null,
   "id": "0e7a6684",
   "metadata": {},
   "outputs": [],
   "source": []
  },
  {
   "cell_type": "code",
   "execution_count": null,
   "id": "3b2860f3",
   "metadata": {},
   "outputs": [],
   "source": []
  },
  {
   "cell_type": "code",
   "execution_count": null,
   "id": "01d92d65",
   "metadata": {},
   "outputs": [],
   "source": []
  },
  {
   "cell_type": "code",
   "execution_count": null,
   "id": "07813984",
   "metadata": {},
   "outputs": [],
   "source": []
  },
  {
   "cell_type": "markdown",
   "id": "c785261f",
   "metadata": {},
   "source": [
    "### regex method only takes first artist, doesn't work properly misses out of order artists"
   ]
  },
  {
   "cell_type": "code",
   "execution_count": null,
   "id": "1c989409",
   "metadata": {},
   "outputs": [],
   "source": [
    "# formatting in df_1M_songs is difficult to parse\n",
    "# need to extract list-style formatting using Regex:\n",
    "\"\"\"\n",
    "https://stackoverflow.com/questions/71469808/how-to-replace-a-list-with-first-element-of-list-in-pandas-dataframe-column\n",
    "regex:\n",
    "(             # start capturing\n",
    "(?<=\\[[\"\\'])  # if preceded by [\" or ['\n",
    "[^\"\\']*       # get all text until \" or '\n",
    "|             # OR\n",
    "^[^\"\\']+$     # get whole string if it doesn't contain \" or '\n",
    ")             # stop capturing\n",
    "\"\"\"\n",
    "df_1M_songs['artist_lower'] = df_1M_songs['artists'].str.extract('((?<=\\[[\"\\'])[^\"\\']*|^[^\"\\']+$)')\n",
    "df_1M_songs['artist_lower'] = df_1M_songs['artist_lower'].str.lower()\n",
    "df_1M_songs['track_lower'] = df_1M_songs['name'].str.lower()"
   ]
  },
  {
   "cell_type": "code",
   "execution_count": null,
   "id": "6f43cf56",
   "metadata": {},
   "outputs": [],
   "source": [
    "# now, let's see how many id matches we can get with the billboard tracks\n",
    "merge_on = ['artist_lower']\n",
    "\n",
    "df_temp = pd.merge(df_billboard_songs, df_1M_songs, how='left', on=merge_on, indicator=True)\n",
    "df_temp.shape"
   ]
  },
  {
   "cell_type": "code",
   "execution_count": null,
   "id": "81497efb",
   "metadata": {},
   "outputs": [],
   "source": [
    "df_temp.head()"
   ]
  },
  {
   "cell_type": "code",
   "execution_count": null,
   "id": "1322c23f",
   "metadata": {
    "scrolled": false
   },
   "outputs": [],
   "source": [
    "df_1M_songs[df_1M_songs.artist_lower.str.contains('yankovic')].shape"
   ]
  },
  {
   "cell_type": "code",
   "execution_count": null,
   "id": "3dff103d",
   "metadata": {},
   "outputs": [],
   "source": [
    "df_1M_songs[df_1M_songs.artists.str.contains('Yankovic')].shape"
   ]
  },
  {
   "cell_type": "code",
   "execution_count": null,
   "id": "2935caa3",
   "metadata": {},
   "outputs": [],
   "source": []
  },
  {
   "cell_type": "code",
   "execution_count": null,
   "id": "d916a4d6",
   "metadata": {},
   "outputs": [],
   "source": []
  },
  {
   "cell_type": "code",
   "execution_count": null,
   "id": "f4336117",
   "metadata": {},
   "outputs": [],
   "source": []
  },
  {
   "cell_type": "code",
   "execution_count": null,
   "id": "fd1e213b",
   "metadata": {},
   "outputs": [],
   "source": []
  },
  {
   "cell_type": "code",
   "execution_count": null,
   "id": "106cb622",
   "metadata": {},
   "outputs": [],
   "source": []
  },
  {
   "cell_type": "code",
   "execution_count": null,
   "id": "477b97c4",
   "metadata": {},
   "outputs": [],
   "source": []
  },
  {
   "cell_type": "code",
   "execution_count": null,
   "id": "bc15fe64",
   "metadata": {},
   "outputs": [],
   "source": [
    "# merge billboard 100 with 1.2M songs\n",
    "\n",
    "# change merging fields to lowercase with matching names\n",
    "df_billboard['artist_lower'] = df_billboard['artist'].str.lower()\n",
    "df_billboard['track_lower'] = df_billboard['song'].str.lower()\n",
    "\n",
    "# need to extract list-style formatting using Regex:\n",
    "\"\"\"\n",
    "https://stackoverflow.com/questions/71469808/how-to-replace-a-list-with-first-element-of-list-in-pandas-dataframe-column\n",
    "regex:\n",
    "(             # start capturing\n",
    "(?<=\\[[\"\\'])  # if preceded by [\" or ['\n",
    "[^\"\\']*       # get all text until \" or '\n",
    "|             # OR\n",
    "^[^\"\\']+$     # get whole string if it doesn't contain \" or '\n",
    ")             # stop capturing\n",
    "\"\"\"\n",
    "df_1M_songs['artist_lower'] = df_1M_songs['artists'].str.extract('((?<=\\[[\"\\'])[^\"\\']*|^[^\"\\']+$)')\n",
    "df_1M_songs['artist_lower'] = df_1M_songs['artist_lower'].str.lower()\n",
    "df_1M_songs['track_lower'] = df_1M_songs['name'].str.lower()\n",
    "\n",
    "# join tables\n",
    "df = pd.merge(df_billboard, df_1M_songs, how='outer', on=['artist_lower', 'track_lower'], indicator=True)\n",
    "df.shape, df[df._merge=='both'].shape"
   ]
  },
  {
   "cell_type": "code",
   "execution_count": null,
   "id": "1a81b734",
   "metadata": {},
   "outputs": [],
   "source": [
    "# how many missing songs?\n",
    "df[df._merge == 'left_only'].drop_duplicates(['artist_lower', 'track_lower']).reset_index().shape"
   ]
  },
  {
   "cell_type": "code",
   "execution_count": null,
   "id": "b6278213",
   "metadata": {},
   "outputs": [],
   "source": [
    "# how many found songs?\n",
    "df[df._merge == 'both'].drop_duplicates(['artist_lower', 'track_lower']).reset_index().shape\n",
    "# lame"
   ]
  },
  {
   "cell_type": "code",
   "execution_count": null,
   "id": "2a28ba31",
   "metadata": {},
   "outputs": [],
   "source": []
  },
  {
   "cell_type": "code",
   "execution_count": null,
   "id": "82784403",
   "metadata": {},
   "outputs": [],
   "source": [
    "missing_songs = df[df._merge == 'left_only'].drop_duplicates(['artist_lower', 'track_lower']).sort_values(['artist_lower', 'track_lower']).reset_index()[['artist_lower', 'track_lower']]\n",
    "missing_songs"
   ]
  },
  {
   "cell_type": "code",
   "execution_count": null,
   "id": "226bff0c",
   "metadata": {},
   "outputs": [],
   "source": [
    "# manually check database for these\n",
    "manual_check = df_1M_songs[['artist_lower', 'track_lower', 'album']]"
   ]
  },
  {
   "cell_type": "code",
   "execution_count": null,
   "id": "a0d36e7d",
   "metadata": {},
   "outputs": [],
   "source": [
    "manual_check[manual_check.track_lower == 'velcro fly']"
   ]
  },
  {
   "cell_type": "code",
   "execution_count": null,
   "id": "a77fbc06",
   "metadata": {},
   "outputs": [],
   "source": [
    "# can i use this to join?\n",
    "manual_check[manual_check.track_lower.str.contains('velcro fly')]\n",
    "\n",
    "# don't like this solution, it will be humongous\n",
    "# https://stackoverflow.com/questions/58011182/pandas-merge-a-dataframe-on-an-exact-and-partial-match"
   ]
  },
  {
   "cell_type": "code",
   "execution_count": null,
   "id": "5837004e",
   "metadata": {
    "scrolled": false
   },
   "outputs": [],
   "source": [
    "manual_check[manual_check.artist_lower=='zz top'].sort_values('track_lower')\n",
    "# they're all in there, maybe we need a partial match for the merge?"
   ]
  },
  {
   "cell_type": "code",
   "execution_count": null,
   "id": "3e0399b0",
   "metadata": {},
   "outputs": [],
   "source": []
  },
  {
   "cell_type": "code",
   "execution_count": null,
   "id": "4ebd0845",
   "metadata": {},
   "outputs": [],
   "source": [
    "# which songs were not matched to billboard 100?\n",
    "unmatched = df[df._merge == 'right_only'].drop_duplicates(['artist_lower', 'track_lower'])[['artists', 'artist_lower', 'track_lower']].sort_values(['artist_lower', 'track_lower']).reset_index()"
   ]
  },
  {
   "cell_type": "code",
   "execution_count": null,
   "id": "c8b480b1",
   "metadata": {},
   "outputs": [],
   "source": [
    "unmatched.sample(20)"
   ]
  },
  {
   "cell_type": "code",
   "execution_count": null,
   "id": "88e8686d",
   "metadata": {},
   "outputs": [],
   "source": []
  },
  {
   "cell_type": "code",
   "execution_count": null,
   "id": "4b3d608e",
   "metadata": {},
   "outputs": [],
   "source": []
  },
  {
   "cell_type": "code",
   "execution_count": null,
   "id": "d4da518d",
   "metadata": {},
   "outputs": [],
   "source": []
  },
  {
   "cell_type": "markdown",
   "id": "476bc98e",
   "metadata": {},
   "source": [
    "### Can we merge Billboard 100 with Song Metadata?\n",
    "### not well (~90% missing)\n",
    "### NLP section only\n",
    "    * we could use this merge for NLP\n",
    "    * this could be a representative sample\n",
    "    * discard for now because it would be nice to use the entire Billboard 100 dataset"
   ]
  },
  {
   "cell_type": "code",
   "execution_count": null,
   "id": "3bbc0f7a",
   "metadata": {},
   "outputs": [],
   "source": [
    "# Billboard Top 100 Historical Data\n",
    "# link:  https://www.kaggle.com/datasets/dhruvildave/billboard-the-hot-100-songs\n",
    "# via:  https://toolbox.google.com/datasetsearch\n",
    "url_billboard = r'D:\\RYERSON\\820\\Datasets\\Billboard The Hot 100 Songs\\charts.csv'\n",
    "\n",
    "# Music Dataset: Lyrics and Metadata from 1950 to 2019\n",
    "# link:  https://www.kaggle.com/datasets/dhruvildave/billboard-the-hot-100-songs\n",
    "# via:  https://toolbox.google.com/datasetsearch\n",
    "# info re metadata:  https://developer.spotify.com/documentation/web-api/reference/#/operations/get-several-audio-features\n",
    "# also available via Spotify web API:\n",
    "    # link:  https://developer.spotify.com/documentation/web-api/\n",
    "url_songdata = r'D:\\RYERSON\\820\\Datasets\\Music Dataset Lyrics and Metadata from 1950 to 2019\\tcc_ceds_music.csv'\n"
   ]
  },
  {
   "cell_type": "code",
   "execution_count": null,
   "id": "a9deb950",
   "metadata": {},
   "outputs": [],
   "source": [
    "df_billboard = pd.read_csv(url_billboard)\n",
    "\n",
    "# lowercase for joining datasets\n",
    "# these match the names in the other dataframe, and are lowercase, as the other dataset is\n",
    "df_billboard['artist_name'] = df_billboard['artist'].str.lower()\n",
    "df_billboard['track_name'] = df_billboard['song'].str.lower()\n",
    "\n",
    "df_billboard.head(1)"
   ]
  },
  {
   "cell_type": "code",
   "execution_count": null,
   "id": "6fa5304b",
   "metadata": {},
   "outputs": [],
   "source": [
    "df_songdata = pd.read_csv(url_songdata)\n",
    "# df_songdata.rename(columns={'artist_name': 'artist', 'track_name': 'song'}, inplace=True)\n",
    "df_songdata.head(1)"
   ]
  },
  {
   "cell_type": "code",
   "execution_count": null,
   "id": "a960808e",
   "metadata": {},
   "outputs": [],
   "source": [
    "df_billboard.shape, df_songdata.shape"
   ]
  },
  {
   "cell_type": "code",
   "execution_count": null,
   "id": "ca880ee7",
   "metadata": {},
   "outputs": [],
   "source": [
    "df = pd.merge(df_billboard, df_songdata, how='left', on=['artist_name', 'track_name'], indicator=True)\n",
    "df.shape, df[df._merge=='both'].shape"
   ]
  },
  {
   "cell_type": "code",
   "execution_count": null,
   "id": "fbbd4e71",
   "metadata": {},
   "outputs": [],
   "source": [
    "# lots of missing hits, let's check what's up\n",
    "temp_columns = ['artist_name', 'track_name', '_merge']\n",
    "temp = df[temp_columns]"
   ]
  },
  {
   "cell_type": "code",
   "execution_count": null,
   "id": "a113e502",
   "metadata": {},
   "outputs": [],
   "source": [
    "temp.sample(10)"
   ]
  },
  {
   "cell_type": "code",
   "execution_count": null,
   "id": "9aa4a91e",
   "metadata": {},
   "outputs": [],
   "source": [
    "df_songdata[df_songdata.artist_name=='vikki carr']"
   ]
  },
  {
   "cell_type": "code",
   "execution_count": null,
   "id": "ff58b127",
   "metadata": {},
   "outputs": [],
   "source": [
    "df_songdata[df_songdata.artist_name=='walk the moon']"
   ]
  },
  {
   "cell_type": "code",
   "execution_count": null,
   "id": "9ea6bd0f",
   "metadata": {},
   "outputs": [],
   "source": [
    "# ok, how many songs are missing? should we use the spotify API instead?\n",
    "\n",
    "# missing tracks\n",
    "missing = temp[temp._merge=='left_only'].drop_duplicates(keep='first')\n",
    "\n",
    "# total tracks\n",
    "all_tracks = df_billboard[['song', 'artist']].drop_duplicates(keep='first')"
   ]
  },
  {
   "cell_type": "code",
   "execution_count": null,
   "id": "e077dede",
   "metadata": {},
   "outputs": [],
   "source": [
    "missing.shape[0] / all_tracks.shape[0]\n",
    "# 90% of songs are missing"
   ]
  }
 ],
 "metadata": {
  "kernelspec": {
   "display_name": "Python 3 (ipykernel)",
   "language": "python",
   "name": "python3"
  },
  "language_info": {
   "codemirror_mode": {
    "name": "ipython",
    "version": 3
   },
   "file_extension": ".py",
   "mimetype": "text/x-python",
   "name": "python",
   "nbconvert_exporter": "python",
   "pygments_lexer": "ipython3",
   "version": "3.9.7"
  }
 },
 "nbformat": 4,
 "nbformat_minor": 5
}
