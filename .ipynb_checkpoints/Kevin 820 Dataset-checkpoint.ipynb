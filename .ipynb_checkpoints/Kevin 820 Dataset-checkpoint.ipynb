{
 "cells": [
  {
   "cell_type": "code",
   "execution_count": 1,
   "id": "b92fb833",
   "metadata": {},
   "outputs": [
    {
     "data": {
      "text/html": [
       "<style>.container { width:100% !important; }</style>"
      ],
      "text/plain": [
       "<IPython.core.display.HTML object>"
      ]
     },
     "metadata": {},
     "output_type": "display_data"
    }
   ],
   "source": [
    "# import modules\n",
    "import pandas as pd\n",
    "import numpy as np\n",
    "import spotipy\n",
    "\n",
    "# full-width display\n",
    "from IPython.core.display import display, HTML\n",
    "display(HTML(\"<style>.container { width:100% !important; }</style>\"))\n",
    "\n",
    "# pandas format\n",
    "pd.set_option('display.float_format', '{:_.0f}'.format)\n",
    "# NOTE: underscore separaters ('_') are better than commas (',') because \n",
    "# numbers with underscores work in Python without any extra effort.\n",
    "pd.set_option('display.max_columns', None)\n",
    "pd.set_option('display.max_rows', 100)\n",
    "\n",
    "# spotipy\n",
    "import spotipy\n",
    "from spotipy.oauth2 import SpotifyClientCredentials\n",
    "\n",
    "# used for AUTHORIZATION WORKFLOW (abandoned)\n",
    "# CONFIDENTIAL.py included in .gitignore, contains private API key\n",
    "# use link above to get a client_id and client_secret from developer.spotify.com\n",
    "from CONFIDENTIAL import client_id, client_secret, redirect_uri"
   ]
  },
  {
   "cell_type": "markdown",
   "id": "f6c8526b",
   "metadata": {},
   "source": [
    "### The Billboard 100"
   ]
  },
  {
   "cell_type": "code",
   "execution_count": 2,
   "id": "c5a90136",
   "metadata": {},
   "outputs": [],
   "source": [
    "# Billboard Top 100 Historical Data\n",
    "# link:  https://www.kaggle.com/datasets/dhruvildave/billboard-the-hot-100-songs\n",
    "# via:  https://toolbox.google.com/datasetsearch\n",
    "url_billboard = r'D:\\RYERSON\\820\\Datasets\\Billboard The Hot 100 Songs\\charts.csv'\n",
    "\n",
    "df_billboard = pd.read_csv(url_billboard)\n",
    "df_billboard['date'] = pd.to_datetime(df_billboard['date'])"
   ]
  },
  {
   "cell_type": "markdown",
   "id": "c34c3dd5",
   "metadata": {},
   "source": [
    "### Unique Songs from The Billboard 100 Dataset"
   ]
  },
  {
   "cell_type": "code",
   "execution_count": 27,
   "id": "a8a0584e",
   "metadata": {},
   "outputs": [
    {
     "data": {
      "text/plain": [
       "(29681, 3)"
      ]
     },
     "execution_count": 27,
     "metadata": {},
     "output_type": "execute_result"
    }
   ],
   "source": [
    "# just the songs on the billboard 100, once per song\n",
    "df_billboard_songs = df_billboard[['song', 'artist']].drop_duplicates().sort_values(['artist', 'song']).reset_index(drop=True)\n",
    "\n",
    "# add a blank id column\n",
    "df_billboard_songs['id'] = ''\n",
    "\n",
    "df_billboard_songs.shape"
   ]
  },
  {
   "cell_type": "code",
   "execution_count": 28,
   "id": "98b1580f",
   "metadata": {},
   "outputs": [
    {
     "data": {
      "text/html": [
       "<div>\n",
       "<style scoped>\n",
       "    .dataframe tbody tr th:only-of-type {\n",
       "        vertical-align: middle;\n",
       "    }\n",
       "\n",
       "    .dataframe tbody tr th {\n",
       "        vertical-align: top;\n",
       "    }\n",
       "\n",
       "    .dataframe thead th {\n",
       "        text-align: right;\n",
       "    }\n",
       "</style>\n",
       "<table border=\"1\" class=\"dataframe\">\n",
       "  <thead>\n",
       "    <tr style=\"text-align: right;\">\n",
       "      <th></th>\n",
       "      <th>song</th>\n",
       "      <th>artist</th>\n",
       "      <th>id</th>\n",
       "    </tr>\n",
       "  </thead>\n",
       "  <tbody>\n",
       "    <tr>\n",
       "      <th>3695</th>\n",
       "      <td>Tarkio Road</td>\n",
       "      <td>Brewer And Shipley</td>\n",
       "      <td></td>\n",
       "    </tr>\n",
       "    <tr>\n",
       "      <th>21851</th>\n",
       "      <td>Somebody Have Mercy</td>\n",
       "      <td>Sam Cooke</td>\n",
       "      <td></td>\n",
       "    </tr>\n",
       "    <tr>\n",
       "      <th>20127</th>\n",
       "      <td>Louisiana Man</td>\n",
       "      <td>Pozo Seco Singers</td>\n",
       "      <td></td>\n",
       "    </tr>\n",
       "    <tr>\n",
       "      <th>26073</th>\n",
       "      <td>(You Can't Let The Boy Overpower) The Man In You</td>\n",
       "      <td>The Miracles</td>\n",
       "      <td></td>\n",
       "    </tr>\n",
       "    <tr>\n",
       "      <th>5120</th>\n",
       "      <td>Land Of Make Believe</td>\n",
       "      <td>Chuck Mangione With The Hamilton Philharmonic ...</td>\n",
       "      <td></td>\n",
       "    </tr>\n",
       "    <tr>\n",
       "      <th>27899</th>\n",
       "      <td>Walls (From \"She's The One\")</td>\n",
       "      <td>Tom Petty And The Heartbreakers</td>\n",
       "      <td></td>\n",
       "    </tr>\n",
       "    <tr>\n",
       "      <th>25944</th>\n",
       "      <td>Glad To Be Unhappy</td>\n",
       "      <td>The Mamas &amp; The Papas</td>\n",
       "      <td></td>\n",
       "    </tr>\n",
       "    <tr>\n",
       "      <th>10249</th>\n",
       "      <td>Teenage Dream</td>\n",
       "      <td>Glee Cast</td>\n",
       "      <td></td>\n",
       "    </tr>\n",
       "    <tr>\n",
       "      <th>25657</th>\n",
       "      <td>Land Of A Thousand Dances</td>\n",
       "      <td>The J. Geils Band</td>\n",
       "      <td></td>\n",
       "    </tr>\n",
       "    <tr>\n",
       "      <th>2850</th>\n",
       "      <td>Hush/I'm Alive</td>\n",
       "      <td>Blue Swede</td>\n",
       "      <td></td>\n",
       "    </tr>\n",
       "  </tbody>\n",
       "</table>\n",
       "</div>"
      ],
      "text/plain": [
       "                                                   song  \\\n",
       "3695                                        Tarkio Road   \n",
       "21851                               Somebody Have Mercy   \n",
       "20127                                     Louisiana Man   \n",
       "26073  (You Can't Let The Boy Overpower) The Man In You   \n",
       "5120                               Land Of Make Believe   \n",
       "27899                      Walls (From \"She's The One\")   \n",
       "25944                                Glad To Be Unhappy   \n",
       "10249                                     Teenage Dream   \n",
       "25657                         Land Of A Thousand Dances   \n",
       "2850                                     Hush/I'm Alive   \n",
       "\n",
       "                                                  artist id  \n",
       "3695                                  Brewer And Shipley     \n",
       "21851                                          Sam Cooke     \n",
       "20127                                  Pozo Seco Singers     \n",
       "26073                                       The Miracles     \n",
       "5120   Chuck Mangione With The Hamilton Philharmonic ...     \n",
       "27899                    Tom Petty And The Heartbreakers     \n",
       "25944                              The Mamas & The Papas     \n",
       "10249                                          Glee Cast     \n",
       "25657                                  The J. Geils Band     \n",
       "2850                                          Blue Swede     "
      ]
     },
     "execution_count": 28,
     "metadata": {},
     "output_type": "execute_result"
    }
   ],
   "source": [
    "df_billboard_songs.sample(10)"
   ]
  },
  {
   "cell_type": "markdown",
   "id": "2e30aa88",
   "metadata": {},
   "source": [
    "### 1.2M Songs with Metadata (csv)\n",
    "https://www.kaggle.com/datasets/rodolfofigueroa/spotify-12m-songs"
   ]
  },
  {
   "cell_type": "code",
   "execution_count": 4,
   "id": "87b1cea3",
   "metadata": {},
   "outputs": [],
   "source": [
    "# there are ~30k songs on the Billboard 100 list\n",
    "# let's see how many are here:\n",
    "# https://www.kaggle.com/datasets/rodolfofigueroa/spotify-12m-songs\n",
    "# via:  https://www.kaggle.com/datasets/\n",
    "# Spotify 1.2M+ Songs\n",
    "url_1M_songs = r'D:\\RYERSON\\820\\Datasets\\Spotify 1.2M+ Songs\\tracks_features.csv'\n",
    "\n",
    "# create the dataframe with the large number of songs metadata\n",
    "df_1M_songs = pd.read_csv(url_1M_songs)\n",
    "\n",
    "# make a list of song ids from the 1M dataset\n",
    "metadata_ids = list(df_1M_songs.id)"
   ]
  },
  {
   "cell_type": "markdown",
   "id": "e7b3b605",
   "metadata": {},
   "source": [
    "### Get Spotify IDs using API\n",
    "(to join with large datasets)"
   ]
  },
  {
   "cell_type": "markdown",
   "id": "150fbd51",
   "metadata": {},
   "source": [
    "https://developer.spotify.com/terms/\n",
    "\n",
    "##### Useful Spotify API Features\n",
    "\n",
    "https://developer.spotify.com/documentation/web-api/reference/#/operations/get-several-audio-features\n",
    "\n",
    "https://developer.spotify.com/documentation/web-api/reference/#/operations/get-recommendations\n",
    "\n",
    "##### Other Links\n",
    "\n",
    "my app:\n",
    "https://developer.spotify.com/dashboard/applications/cd5ce2cb690543ff9967e817d4665543\n",
    "\n",
    "a tutorial: \n",
    "https://www.youtube.com/watch?v=cU8YH2rhN6A&ab_channel=Elbert"
   ]
  },
  {
   "cell_type": "code",
   "execution_count": null,
   "id": "8249bd06",
   "metadata": {},
   "outputs": [],
   "source": [
    "# # AUTHORIZATION WORKFLOW \n",
    "# # (doens't work anymore, I think I was throttled, but can't get any error messages)\n",
    "\n",
    "# # https://developer.spotify.com/documentation/general/guides/authorization/scopes/\n",
    "# # i think this is the right scope, but nothing works when I connect to my app\n",
    "# scope = 'user-read-private'\n",
    "\n",
    "# oauth = spotipy.SpotifyOAuth(\n",
    "#     client_id=client_id,\n",
    "#     client_secret=client_secret,\n",
    "#     redirect_uri=redirect_uri,\n",
    "#     scope=scope\n",
    "# )\n",
    "\n",
    "# oauth = spotipy.SpotifyOAuth(\n",
    "#     client_id=client_id,\n",
    "#     client_secret=client_secret,\n",
    "#     redirect_uri=redirect_uri\n",
    "# )\n",
    "\n",
    "# cached_token = oauth.get_cached_token()\n",
    "\n",
    "# # create a spotify object\n",
    "# spotify = spotipy.Spotify(auth=cached_token['access_token'])"
   ]
  },
  {
   "cell_type": "markdown",
   "id": "3a6d4950",
   "metadata": {},
   "source": [
    "### TEMPORARY TOKEN WORKFLOW\n",
    "\n",
    "##### get a temporary authorization token from: https://developer.spotify.com/console/get-search-item"
   ]
  },
  {
   "cell_type": "code",
   "execution_count": 42,
   "id": "418a133f",
   "metadata": {},
   "outputs": [
    {
     "name": "stdout",
     "output_type": "stream",
     "text": [
      "Enter token: BQBxsT2o9vloIRLQrEiska2Sz1dCO00H80SVkca2SeTLsrkATp-lxc5bCJaZn9N2TW3GWGpLshN8c5VPAPVVb9181NTikUiyro5B59evnN9H_9G_YMvhF6tQneD8HUTYxAdE_f-3EOz8UUVorkBaoqleC0BlsWJgTo7YTQoBTz7v\n"
     ]
    }
   ],
   "source": [
    "# input the temporary token\n",
    "TEMP_TOKEN = input('Enter token: ')"
   ]
  },
  {
   "cell_type": "code",
   "execution_count": 43,
   "id": "a9ddc6ff",
   "metadata": {},
   "outputs": [],
   "source": [
    "# create a spotify object\n",
    "spotify = spotipy.Spotify(auth=TEMP_TOKEN)"
   ]
  },
  {
   "cell_type": "code",
   "execution_count": 6,
   "id": "f8d8d6bf",
   "metadata": {},
   "outputs": [],
   "source": [
    "def find_id(track_title, artist_name, metadata_ids):\n",
    "    \"\"\" \n",
    "    for searches with multiple results, all id were identical for the test cases I ran \n",
    "    some searches return no results, in this case the song is not on spotify\n",
    "        confirmed by spot checks in the spotify music player\n",
    "    some tracks give a 404 error, \n",
    "        these seem to exist in Spotify but 404 anyway\n",
    "        not sure why the API does this but \n",
    "    \"\"\"\n",
    "    track_info = spotify.search(q='artist:' + artist_name + ' track:' + track_title, type='track')\n",
    "    \n",
    "    if track_info['tracks']['items'] == []:  # if track doesn't exist on Spotify\n",
    "        return None\n",
    "    else:\n",
    "        # set the id to the first result\n",
    "        track_id = track_info['tracks']['items'][0]['id']\n",
    "        \n",
    "        # check if there is a better match\n",
    "        number_of_results = len(track_info['tracks']['items'])\n",
    "        \n",
    "        for i in range(number_of_results):\n",
    "            alt_track_id = track_info['tracks']['items'][i]['id']\n",
    "            if alt_track_id in metadata_ids:\n",
    "                track_id = track_info['tracks']['items'][i]['id']\n",
    "        \n",
    "        return track_id"
   ]
  },
  {
   "cell_type": "code",
   "execution_count": 44,
   "id": "abdfbef7",
   "metadata": {},
   "outputs": [
    {
     "data": {
      "text/plain": [
       "'7CfCUjAZFndcpAWLogl9J3'"
      ]
     },
     "execution_count": 44,
     "metadata": {},
     "output_type": "execute_result"
    }
   ],
   "source": [
    "# TEST\n",
    "find_id(\"You Can't Turn Me Off (In The Middle Of Turning Me On)\", 'High Inergy', metadata_ids)"
   ]
  },
  {
   "cell_type": "markdown",
   "id": "3432b777",
   "metadata": {},
   "source": [
    "### Add Spotify IDs to billboard songs"
   ]
  },
  {
   "cell_type": "code",
   "execution_count": 32,
   "id": "5c8b67a2",
   "metadata": {},
   "outputs": [
    {
     "data": {
      "text/html": [
       "<div>\n",
       "<style scoped>\n",
       "    .dataframe tbody tr th:only-of-type {\n",
       "        vertical-align: middle;\n",
       "    }\n",
       "\n",
       "    .dataframe tbody tr th {\n",
       "        vertical-align: top;\n",
       "    }\n",
       "\n",
       "    .dataframe thead th {\n",
       "        text-align: right;\n",
       "    }\n",
       "</style>\n",
       "<table border=\"1\" class=\"dataframe\">\n",
       "  <thead>\n",
       "    <tr style=\"text-align: right;\">\n",
       "      <th></th>\n",
       "      <th>song</th>\n",
       "      <th>artist</th>\n",
       "      <th>id</th>\n",
       "    </tr>\n",
       "  </thead>\n",
       "  <tbody>\n",
       "    <tr>\n",
       "      <th>0</th>\n",
       "      <td>Misty</td>\n",
       "      <td>\"Groove\" Holmes</td>\n",
       "      <td>7DZsH0df0GuULl0FGwXMfd</td>\n",
       "    </tr>\n",
       "    <tr>\n",
       "      <th>1</th>\n",
       "      <td>What Now My Love</td>\n",
       "      <td>\"Groove\" Holmes</td>\n",
       "      <td>11Aldbvo6UCcVhBzv4oUdw</td>\n",
       "    </tr>\n",
       "    <tr>\n",
       "      <th>2</th>\n",
       "      <td>May The Bird Of Paradise Fly Up Your Nose</td>\n",
       "      <td>\"Little\" Jimmy Dickens</td>\n",
       "      <td>1WpoMGLjlEUHlWhilsOkJA</td>\n",
       "    </tr>\n",
       "    <tr>\n",
       "      <th>3</th>\n",
       "      <td>I Know I Know</td>\n",
       "      <td>\"Pookie\" Hudson</td>\n",
       "      <td></td>\n",
       "    </tr>\n",
       "    <tr>\n",
       "      <th>4</th>\n",
       "      <td>Amish Paradise</td>\n",
       "      <td>\"Weird Al\" Yankovic</td>\n",
       "      <td>6nofbMbadUdrtZmIsBHyYE</td>\n",
       "    </tr>\n",
       "  </tbody>\n",
       "</table>\n",
       "</div>"
      ],
      "text/plain": [
       "                                        song                  artist  \\\n",
       "0                                      Misty         \"Groove\" Holmes   \n",
       "1                           What Now My Love         \"Groove\" Holmes   \n",
       "2  May The Bird Of Paradise Fly Up Your Nose  \"Little\" Jimmy Dickens   \n",
       "3                              I Know I Know         \"Pookie\" Hudson   \n",
       "4                             Amish Paradise     \"Weird Al\" Yankovic   \n",
       "\n",
       "                       id  \n",
       "0  7DZsH0df0GuULl0FGwXMfd  \n",
       "1  11Aldbvo6UCcVhBzv4oUdw  \n",
       "2  1WpoMGLjlEUHlWhilsOkJA  \n",
       "3                          \n",
       "4  6nofbMbadUdrtZmIsBHyYE  "
      ]
     },
     "execution_count": 32,
     "metadata": {},
     "output_type": "execute_result"
    }
   ],
   "source": [
    "# load saved csv as df\n",
    "df_billboard_songs = pd.read_csv('df_billboard_songs.csv', keep_default_na=False)\n",
    "\n",
    "df_billboard_songs.head()"
   ]
  },
  {
   "cell_type": "code",
   "execution_count": 8,
   "id": "a26c1730",
   "metadata": {},
   "outputs": [
    {
     "data": {
      "text/plain": [
       "8124"
      ]
     },
     "execution_count": 8,
     "metadata": {},
     "output_type": "execute_result"
    }
   ],
   "source": [
    "df_billboard_songs.id.nunique()"
   ]
  },
  {
   "cell_type": "code",
   "execution_count": null,
   "id": "46839b4e",
   "metadata": {},
   "outputs": [],
   "source": [
    "# start over at\n",
    "start_over_at = 10767\n",
    "\n",
    "# populate df_billboard_songs with ids, where available\n",
    "for i, row in df_billboard_songs.iterrows():\n",
    "    \n",
    "    # start over at\n",
    "    if i < start_over_at-1:\n",
    "        continue\n",
    "    \n",
    "    # show status\n",
    "    if i%10 == 0:\n",
    "        print(i, end='  ')\n",
    "    if i%100 == 0:\n",
    "        print()\n",
    "        \n",
    "    # start over where we finished\n",
    "    if df_billboard_songs['id'].iloc[i] != '':  \n",
    "        continue\n",
    "    # append id, NONE, or 'ERROR'\n",
    "    else:\n",
    "        artist = row[1]\n",
    "        song = row[0]\n",
    "        try:\n",
    "            # unless there is an error, will append the id or None\n",
    "            df_billboard_songs['id'].iloc[i] = find_id(song, artist, metadata_ids)\n",
    "        except:  # any error needs to be dealt with manually\n",
    "            # if there is an error, change id to 'ERROR'\n",
    "            print('ERROR:  ', artist, song)\n",
    "            df_billboard_songs['id'].iloc[i] = 'ERROR'\n",
    "        # save every 1000 rows, if new\n",
    "        if i%1000 == 0:\n",
    "            df_billboard_songs.to_csv('df_billboard_songs_TEMP.csv', index=False)\n",
    "        \n",
    "# save final dataframe\n",
    "df_billboard_songs.to_csv('df_billboard_songs.csv', index=False)"
   ]
  },
  {
   "cell_type": "code",
   "execution_count": null,
   "id": "7a5d9c35",
   "metadata": {},
   "outputs": [],
   "source": [
    "# how many id have we added\n",
    "sum(df_billboard_songs.id != \"\")"
   ]
  },
  {
   "cell_type": "code",
   "execution_count": null,
   "id": "61456231",
   "metadata": {},
   "outputs": [],
   "source": []
  },
  {
   "cell_type": "code",
   "execution_count": null,
   "id": "bc5b3071",
   "metadata": {},
   "outputs": [],
   "source": []
  },
  {
   "cell_type": "code",
   "execution_count": null,
   "id": "fec8a795",
   "metadata": {},
   "outputs": [],
   "source": [
    "# now merge with entire billboard list\n",
    "\n"
   ]
  },
  {
   "cell_type": "code",
   "execution_count": null,
   "id": "3c86fd18",
   "metadata": {},
   "outputs": [],
   "source": [
    "# check how many matches in 1.2M songs, what percent? SQL dataset? manual scraping?\n",
    "\n"
   ]
  },
  {
   "cell_type": "code",
   "execution_count": null,
   "id": "4eb6774d",
   "metadata": {},
   "outputs": [],
   "source": []
  },
  {
   "cell_type": "markdown",
   "id": "d9bd9c59",
   "metadata": {},
   "source": [
    "### 8+ M. Spotify Tracks, Genre, Audio Features (SQLite)\n",
    "https://www.kaggle.com/datasets/maltegrosse/8-m-spotify-tracks-genre-audio-features"
   ]
  },
  {
   "cell_type": "code",
   "execution_count": null,
   "id": "ee495f3b",
   "metadata": {},
   "outputs": [],
   "source": [
    "url_8M_sql = 'D:\\RYERSON\\820\\Datasets\\8+ M. Spotify Tracks, Genre, Audio Features\\spotify.sqlite'\n",
    "\n"
   ]
  },
  {
   "cell_type": "code",
   "execution_count": null,
   "id": "dadd7df4",
   "metadata": {},
   "outputs": [],
   "source": []
  },
  {
   "cell_type": "code",
   "execution_count": null,
   "id": "762e11d4",
   "metadata": {},
   "outputs": [],
   "source": []
  }
 ],
 "metadata": {
  "kernelspec": {
   "display_name": "Python 3 (ipykernel)",
   "language": "python",
   "name": "python3"
  },
  "language_info": {
   "codemirror_mode": {
    "name": "ipython",
    "version": 3
   },
   "file_extension": ".py",
   "mimetype": "text/x-python",
   "name": "python",
   "nbconvert_exporter": "python",
   "pygments_lexer": "ipython3",
   "version": "3.9.7"
  }
 },
 "nbformat": 4,
 "nbformat_minor": 5
}
