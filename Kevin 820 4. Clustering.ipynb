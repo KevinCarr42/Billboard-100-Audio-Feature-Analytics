{
 "cells": [
  {
   "cell_type": "code",
   "execution_count": 3,
   "id": "5760121e",
   "metadata": {},
   "outputs": [
    {
     "data": {
      "text/html": [
       "<style>.container { width:100% !important; }</style>"
      ],
      "text/plain": [
       "<IPython.core.display.HTML object>"
      ]
     },
     "metadata": {},
     "output_type": "display_data"
    }
   ],
   "source": [
    "# math and dataframes\n",
    "import pandas as pd\n",
    "import numpy as np\n",
    "\n",
    "# machine learning\n",
    "from sklearn.cluster import KMeans, DBSCAN\n",
    "from sklearn.metrics import silhouette_score\n",
    "from sklearn.model_selection import GridSearchCV\n",
    "\n",
    "# jupyter notebook full-width display\n",
    "from IPython.core.display import display, HTML\n",
    "display(HTML(\"<style>.container { width:100% !important; }</style>\"))\n",
    "\n",
    "# pandas formatting\n",
    "pd.set_option('display.float_format', '{:.3f}'.format)\n",
    "pd.set_option('display.max_columns', None)\n",
    "pd.set_option('display.max_rows', 200)\n",
    "\n",
    "# plotting\n",
    "import matplotlib.pyplot as plt"
   ]
  },
  {
   "cell_type": "code",
   "execution_count": 4,
   "id": "f97de424",
   "metadata": {},
   "outputs": [],
   "source": [
    "# import data \n",
    "# all songs with audio features\n",
    "df_10M = pd.read_pickle('df_10M.pickle')"
   ]
  },
  {
   "cell_type": "markdown",
   "id": "f99998f9",
   "metadata": {},
   "source": [
    "### PIPELINE OUTLINE\n",
    "\n",
    "* remove outliers\n",
    "    * sets that aren't music\n",
    "    * by inspection using songs less than 1min or more than 10min (+ more extreme)\n",
    "* OPTIONAL: encode \n",
    "    * alt: drop when clustering\n",
    "* transform data using min max scaler\n",
    "* cluster based on AF (not genre)\n",
    "    * optimise based on silhouette \n",
    "* examine clusters by inspecting genres and popularity"
   ]
  },
  {
   "cell_type": "markdown",
   "id": "c723703b",
   "metadata": {},
   "source": [
    "### OUTLIERS"
   ]
  },
  {
   "cell_type": "code",
   "execution_count": 5,
   "id": "2bb2c079",
   "metadata": {},
   "outputs": [
    {
     "name": "stdout",
     "output_type": "stream",
     "text": [
      "Wall time: 4.15 s\n"
     ]
    }
   ],
   "source": [
    "%%time\n",
    "# REMOVE OUTLIERS\n",
    "# based on details in outlier analysis\n",
    "\n",
    "# add cluster column to df_10M and add 'outliers' as a cluster\n",
    "df_10M['cluster'] = pd.NA\n",
    "\n",
    "# extrema to exclude (domain knowledge + inspection of percentiles)\n",
    "dur_min = df_10M.duration_ms < 60_000\n",
    "dur_max = df_10M.duration_ms > 600_000\n",
    "val_0 = df_10M.valence == 0\n",
    "sp_min = df_10M.speechiness > 0.947000\n",
    "tempo_0 = df_10M.tempo == 0\n",
    "loud_min = df_10M.loudness < -34.668999\n",
    "dance_min = df_10M.danceability < 0.064400\n",
    "\n",
    "df_10M.loc[(dur_min | dur_max | val_0 | sp_min | tempo_0 | loud_min | dance_min), 'cluster'] = 'outlier'\n",
    "\n",
    "# genres that aren't music\n",
    "genres_to_exclude = set([\n",
    "    'sleep', 'football', 'halloween', 'birthday', 'lullaby', 'ringtone', 'fan chant',\n",
    "    'sound effects', 'spoken word', 'bible', 'prank', 'wrestling', 'language', 'oratory',\n",
    "    'erotica', 'tone', 'vintage radio show', 'sound', 'quran', 'islamic recitation',\n",
    "    'reading', 'asmr', 'mindfulness', 'meditation', 'guided meditation', 'workout product',\n",
    "    'theme', 'environmental', 'motivation'    \n",
    "])\n",
    "\n",
    "df_10M.loc[df_10M.genre.isin(genres_to_exclude), 'cluster'] = 'outlier'\n",
    "\n",
    "# create a feature set to cluster on\n",
    "X = df_10M[df_10M.cluster != 'outlier'].reset_index(drop=True)"
   ]
  },
  {
   "cell_type": "code",
   "execution_count": 6,
   "id": "502163e7",
   "metadata": {},
   "outputs": [
    {
     "data": {
      "text/plain": [
       "(8827719, 6.404280009393792)"
      ]
     },
     "execution_count": 6,
     "metadata": {},
     "output_type": "execute_result"
    }
   ],
   "source": [
    "# 6% of data dropped as outliers\n",
    "X.shape[0], (1 - X.shape[0] / df_10M.shape[0])*100"
   ]
  },
  {
   "cell_type": "markdown",
   "id": "c421c14d",
   "metadata": {},
   "source": [
    "### DROP AND ENCODE COLUMNS"
   ]
  },
  {
   "cell_type": "code",
   "execution_count": 7,
   "id": "28c4aae4",
   "metadata": {},
   "outputs": [],
   "source": [
    "# encode and/or drop columns\n",
    "drop_columns = ['song', 'artist', 'genre', 'release_date', 'cluster', 'in_B100']\n",
    "encode_columns = ['key', 'mode', 'time_signature']\n",
    "X = X.drop(drop_columns, axis=1).drop(encode_columns, axis=1).set_index('id')"
   ]
  },
  {
   "cell_type": "markdown",
   "id": "7348f33f",
   "metadata": {},
   "source": [
    "### TRANSFORM DATA"
   ]
  },
  {
   "cell_type": "code",
   "execution_count": 8,
   "id": "ec85d1f9",
   "metadata": {},
   "outputs": [],
   "source": [
    "## transform data to range from 0 to 1\n",
    "attributes_to_transform = ['duration_ms', 'loudness', 'tempo']\n",
    "\n",
    "for attribute in attributes_to_transform:\n",
    "    X[attribute] = (X[attribute] - X[attribute].min()) / (X[attribute].max() - X[attribute].min())"
   ]
  },
  {
   "cell_type": "code",
   "execution_count": null,
   "id": "b91e25d2",
   "metadata": {},
   "outputs": [],
   "source": [
    "# X.to_pickle('X_precluster.pickle')"
   ]
  },
  {
   "cell_type": "markdown",
   "id": "ef43d2fb",
   "metadata": {},
   "source": [
    "### CLUSTER DATA"
   ]
  },
  {
   "cell_type": "markdown",
   "id": "aaea3c88",
   "metadata": {},
   "source": [
    "##### Choose k: Silhouette Method"
   ]
  },
  {
   "cell_type": "code",
   "execution_count": 26,
   "id": "00d8250d",
   "metadata": {},
   "outputs": [
    {
     "name": "stdout",
     "output_type": "stream",
     "text": [
      "Wall time: 13min 27s\n"
     ]
    },
    {
     "data": {
      "text/plain": [
       "{3: 0.2821724751018356,\n",
       " 4: 0.2939383278460177,\n",
       " 5: 0.23304552754496116,\n",
       " 6: 0.2176436030028089,\n",
       " 8: 0.2096411079563615,\n",
       " 10: 0.20141793272826253,\n",
       " 15: 0.16660631033595052,\n",
       " 20: 0.14102224497793467}"
      ]
     },
     "execution_count": 26,
     "metadata": {},
     "output_type": "execute_result"
    }
   ],
   "source": [
    "%%time\n",
    "# time per n: \n",
    "\n",
    "# setup\n",
    "n_clusters = [3, 4, 5, 6, 8, 10, 15, 20]\n",
    "results = {}\n",
    "\n",
    "# loop\n",
    "for n in n_clusters:\n",
    "    kmeans = KMeans(n).fit(X)\n",
    "    score = silhouette_score(X, kmeans.labels_, sample_size=50_000)\n",
    "    results[n] = score\n",
    "\n",
    "# display results\n",
    "results"
   ]
  },
  {
   "cell_type": "code",
   "execution_count": 27,
   "id": "4d626706",
   "metadata": {},
   "outputs": [
    {
     "name": "stdout",
     "output_type": "stream",
     "text": [
      "Wall time: 1h 1min 21s\n"
     ]
    },
    {
     "data": {
      "text/plain": [
       "{3: 0.28418687162139655,\n",
       " 4: 0.2937472857044909,\n",
       " 5: 0.23345142491189227,\n",
       " 6: 0.21839763822682923,\n",
       " 8: 0.20987825401326532,\n",
       " 10: 0.19002569873477773,\n",
       " 15: 0.1640299274836951,\n",
       " 20: 0.15314680377584255}"
      ]
     },
     "execution_count": 27,
     "metadata": {},
     "output_type": "execute_result"
    }
   ],
   "source": [
    "%%time\n",
    "# time per n: \n",
    "\n",
    "# setup\n",
    "n_clusters = [3, 4, 5, 6, 8, 10, 15, 20]\n",
    "sample_size = 200_000\n",
    "results = {}\n",
    "\n",
    "# loop\n",
    "for n in n_clusters:\n",
    "    kmeans = KMeans(n).fit(X)\n",
    "    score = silhouette_score(X, kmeans.labels_, sample_size=sample_size)\n",
    "    results[n] = score\n",
    "\n",
    "# display results\n",
    "results"
   ]
  },
  {
   "cell_type": "code",
   "execution_count": 70,
   "id": "94ced5ff",
   "metadata": {},
   "outputs": [
    {
     "data": {
      "image/png": "[encoded data removed]",
      "text/plain": [
       "<Figure size 720x432 with 1 Axes>"
      ]
     },
     "metadata": {
      "needs_background": "light"
     },
     "output_type": "display_data"
    }
   ],
   "source": [
    "df_silhouette_results = pd.DataFrame(results.items(), columns=['k', 'score'])\n",
    "df_silhouette_results.plot(x='k', y='score',figsize=(10, 6), title='Score vs k', ylabel='silhouette');\n",
    "plt.xticks(range(3, 21))\n",
    "plt.show()"
   ]
  },
  {
   "cell_type": "code",
   "execution_count": null,
   "id": "0e0e020f",
   "metadata": {},
   "outputs": [],
   "source": [
    "# looks like very similar results\n",
    "# k = 4 is optimal using the silhouette method"
   ]
  },
  {
   "cell_type": "markdown",
   "id": "d13a55df",
   "metadata": {},
   "source": [
    "##### Choose k: Elbow Method"
   ]
  },
  {
   "cell_type": "code",
   "execution_count": 30,
   "id": "d54b7eeb",
   "metadata": {},
   "outputs": [
    {
     "name": "stdout",
     "output_type": "stream",
     "text": [
      "Wall time: 10min 12s\n"
     ]
    },
    {
     "data": {
      "text/plain": [
       "{3: -2846513.221138529,\n",
       " 4: -2333667.7577719083,\n",
       " 5: -2103607.005861436,\n",
       " 6: -1940477.7070383092,\n",
       " 8: -1750942.2205866904,\n",
       " 10: -1606817.5040655455,\n",
       " 15: -1404414.0579733923,\n",
       " 20: -1273836.771174847}"
      ]
     },
     "execution_count": 30,
     "metadata": {},
     "output_type": "execute_result"
    }
   ],
   "source": [
    "%%time\n",
    "# time per n: \n",
    "\n",
    "# setup\n",
    "n_clusters = [3, 4, 5, 6, 8, 10, 15, 20]\n",
    "sample_size = 200_000\n",
    "elbow_results = {}\n",
    "\n",
    "# loop\n",
    "for n in n_clusters:\n",
    "    kmeans = KMeans(n).fit(X)\n",
    "    score = kmeans.score(X)\n",
    "    elbow_results[n] = score\n",
    "\n",
    "# display results\n",
    "elbow_results"
   ]
  },
  {
   "cell_type": "code",
   "execution_count": 68,
   "id": "3a5eaad2",
   "metadata": {},
   "outputs": [
    {
     "data": {
      "image/png": "[encoded data removed]",
      "text/plain": [
       "<Figure size 720x432 with 1 Axes>"
      ]
     },
     "metadata": {
      "needs_background": "light"
     },
     "output_type": "display_data"
    }
   ],
   "source": [
    "df_elbow_results = pd.DataFrame(elbow_results.items(), columns=['k', 'score'])\n",
    "\n",
    "plot = df_elbow_results.plot(x='k', y='score',figsize=(10, 6), title='Score vs k', ylabel='inertia')\n",
    "plot.get_yaxis().get_major_formatter().set_scientific(False)\n",
    "plt.xticks(range(3, 21))\n",
    "plt.show()"
   ]
  },
  {
   "cell_type": "code",
   "execution_count": null,
   "id": "2860c049",
   "metadata": {},
   "outputs": [],
   "source": [
    "# no obvious choice for k"
   ]
  },
  {
   "cell_type": "code",
   "execution_count": null,
   "id": "3158616d",
   "metadata": {},
   "outputs": [],
   "source": []
  },
  {
   "cell_type": "markdown",
   "id": "80016131",
   "metadata": {},
   "source": [
    "##### examine performance by inspecting genres and popularity"
   ]
  },
  {
   "cell_type": "code",
   "execution_count": null,
   "id": "6febca72",
   "metadata": {},
   "outputs": [],
   "source": []
  }
 ],
 "metadata": {
  "kernelspec": {
   "display_name": "Python 3 (ipykernel)",
   "language": "python",
   "name": "python3"
  },
  "language_info": {
   "codemirror_mode": {
    "name": "ipython",
    "version": 3
   },
   "file_extension": ".py",
   "mimetype": "text/x-python",
   "name": "python",
   "nbconvert_exporter": "python",
   "pygments_lexer": "ipython3",
   "version": "3.9.7"
  }
 },
 "nbformat": 4,
 "nbformat_minor": 5
}
