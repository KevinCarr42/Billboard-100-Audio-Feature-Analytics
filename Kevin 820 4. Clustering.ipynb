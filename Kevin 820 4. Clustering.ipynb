{
 "cells": [
  {
   "cell_type": "code",
   "execution_count": 3,
   "id": "5760121e",
   "metadata": {},
   "outputs": [
    {
     "data": {
      "text/html": [
       "<style>.container { width:100% !important; }</style>"
      ],
      "text/plain": [
       "<IPython.core.display.HTML object>"
      ]
     },
     "metadata": {},
     "output_type": "display_data"
    }
   ],
   "source": [
    "# math and dataframes\n",
    "import pandas as pd\n",
    "import numpy as np\n",
    "\n",
    "# machine learning\n",
    "from sklearn.cluster import KMeans, DBSCAN\n",
    "from sklearn.metrics import silhouette_score\n",
    "from sklearn.model_selection import GridSearchCV\n",
    "\n",
    "# jupyter notebook full-width display\n",
    "from IPython.core.display import display, HTML\n",
    "display(HTML(\"<style>.container { width:100% !important; }</style>\"))\n",
    "\n",
    "# pandas formatting\n",
    "pd.set_option('display.float_format', '{:.3f}'.format)\n",
    "pd.set_option('display.max_columns', None)\n",
    "pd.set_option('display.max_rows', 200)"
   ]
  },
  {
   "cell_type": "code",
   "execution_count": 4,
   "id": "a69eed65",
   "metadata": {},
   "outputs": [],
   "source": [
    "# import data \n",
    "# all songs with audio features\n",
    "df_10M = pd.read_pickle('df_10M.pickle')"
   ]
  },
  {
   "cell_type": "markdown",
   "id": "381080be",
   "metadata": {},
   "source": [
    "### PIPELINE OUTLINE\n",
    "\n",
    "* remove outliers\n",
    "    * sets that aren't music\n",
    "    * by inspection using songs less than 1min or more than 10min (+ more extreme)\n",
    "* OPTIONAL: encode \n",
    "    * alt: drop when clustering\n",
    "* transform data using min max scaler\n",
    "* cluster based on AF (not genre)\n",
    "    * optimise based on silhouette \n",
    "* examine clusters by inspecting genres and popularity"
   ]
  },
  {
   "cell_type": "markdown",
   "id": "5af26935",
   "metadata": {},
   "source": [
    "### OUTLIERS"
   ]
  },
  {
   "cell_type": "code",
   "execution_count": 5,
   "id": "0a0a14d0",
   "metadata": {},
   "outputs": [
    {
     "name": "stdout",
     "output_type": "stream",
     "text": [
      "Wall time: 4.15 s\n"
     ]
    }
   ],
   "source": [
    "%%time\n",
    "# REMOVE OUTLIERS\n",
    "# based on details in outlier analysis\n",
    "\n",
    "# add cluster column to df_10M and add 'outliers' as a cluster\n",
    "df_10M['cluster'] = pd.NA\n",
    "\n",
    "# extrema to exclude (domain knowledge + inspection of percentiles)\n",
    "dur_min = df_10M.duration_ms < 60_000\n",
    "dur_max = df_10M.duration_ms > 600_000\n",
    "val_0 = df_10M.valence == 0\n",
    "sp_min = df_10M.speechiness > 0.947000\n",
    "tempo_0 = df_10M.tempo == 0\n",
    "loud_min = df_10M.loudness < -34.668999\n",
    "dance_min = df_10M.danceability < 0.064400\n",
    "\n",
    "df_10M.loc[(dur_min | dur_max | val_0 | sp_min | tempo_0 | loud_min | dance_min), 'cluster'] = 'outlier'\n",
    "\n",
    "# genres that aren't music\n",
    "genres_to_exclude = set([\n",
    "    'sleep', 'football', 'halloween', 'birthday', 'lullaby', 'ringtone', 'fan chant',\n",
    "    'sound effects', 'spoken word', 'bible', 'prank', 'wrestling', 'language', 'oratory',\n",
    "    'erotica', 'tone', 'vintage radio show', 'sound', 'quran', 'islamic recitation',\n",
    "    'reading', 'asmr', 'mindfulness', 'meditation', 'guided meditation', 'workout product',\n",
    "    'theme', 'environmental', 'motivation'    \n",
    "])\n",
    "\n",
    "df_10M.loc[df_10M.genre.isin(genres_to_exclude), 'cluster'] = 'outlier'\n",
    "\n",
    "# create a feature set to cluster on\n",
    "X = df_10M[df_10M.cluster != 'outlier'].reset_index(drop=True)"
   ]
  },
  {
   "cell_type": "code",
   "execution_count": 6,
   "id": "a6b05067",
   "metadata": {},
   "outputs": [
    {
     "data": {
      "text/plain": [
       "(8827719, 6.404280009393792)"
      ]
     },
     "execution_count": 6,
     "metadata": {},
     "output_type": "execute_result"
    }
   ],
   "source": [
    "# 6% of data dropped as outliers\n",
    "X.shape[0], (1 - X.shape[0] / df_10M.shape[0])*100"
   ]
  },
  {
   "cell_type": "markdown",
   "id": "93366b0a",
   "metadata": {},
   "source": [
    "### DROP AND ENCODE COLUMNS"
   ]
  },
  {
   "cell_type": "code",
   "execution_count": 7,
   "id": "cb873af2",
   "metadata": {},
   "outputs": [],
   "source": [
    "# encode and/or drop columns\n",
    "drop_columns = ['song', 'artist', 'genre', 'release_date', 'cluster', 'in_B100']\n",
    "encode_columns = ['key', 'mode', 'time_signature']\n",
    "X = X.drop(drop_columns, axis=1).drop(encode_columns, axis=1).set_index('id')"
   ]
  },
  {
   "cell_type": "markdown",
   "id": "7e3f039c",
   "metadata": {},
   "source": [
    "### TRANSFORM DATA"
   ]
  },
  {
   "cell_type": "code",
   "execution_count": 8,
   "id": "bf80e9bf",
   "metadata": {},
   "outputs": [],
   "source": [
    "## transform data to range from 0 to 1\n",
    "attributes_to_transform = ['duration_ms', 'loudness', 'tempo']\n",
    "\n",
    "for attribute in attributes_to_transform:\n",
    "    X[attribute] = (X[attribute] - X[attribute].min()) / (X[attribute].max() - X[attribute].min())"
   ]
  },
  {
   "cell_type": "code",
   "execution_count": null,
   "id": "1ce8b48d",
   "metadata": {},
   "outputs": [],
   "source": [
    "# X.to_pickle('X_precluster.pickle')"
   ]
  },
  {
   "cell_type": "markdown",
   "id": "529a84ac",
   "metadata": {},
   "source": [
    "### CLUSTER DATA"
   ]
  },
  {
   "cell_type": "code",
   "execution_count": 2,
   "id": "41d850c5",
   "metadata": {},
   "outputs": [
    {
     "data": {
      "text/plain": [
       "'1.1.3'"
      ]
     },
     "execution_count": 2,
     "metadata": {},
     "output_type": "execute_result"
    }
   ],
   "source": [
    "# need to update sklearn? nonsense errors\n",
    "# '0.24.2' my current version\n",
    "import sklearn \n",
    "sklearn.__version__"
   ]
  },
  {
   "cell_type": "code",
   "execution_count": 1,
   "id": "36c50ac7",
   "metadata": {},
   "outputs": [
    {
     "data": {
      "text/plain": [
       "'3.1.0'"
      ]
     },
     "execution_count": 1,
     "metadata": {},
     "output_type": "execute_result"
    }
   ],
   "source": [
    "# more errors\n",
    "# need to upgrade this too\n",
    "import threadpoolctl\n",
    "threadpoolctl.__version__"
   ]
  },
  {
   "cell_type": "code",
   "execution_count": 9,
   "id": "5d7c960b",
   "metadata": {},
   "outputs": [
    {
     "name": "stdout",
     "output_type": "stream",
     "text": [
      "Wall time: 142 ms\n"
     ]
    }
   ],
   "source": [
    "%%time\n",
    "# yay, it works now\n",
    "X_small = X.head(10000)\n",
    "\n",
    "n_clusters = [2, 4, 6, 8, 10, 15, 20]\n",
    "results = {}\n",
    "\n",
    "kmeans = KMeans(2).fit(X_small)\n"
   ]
  },
  {
   "cell_type": "code",
   "execution_count": null,
   "id": "bd2e53c8",
   "metadata": {},
   "outputs": [],
   "source": []
  },
  {
   "cell_type": "code",
   "execution_count": 10,
   "id": "00a5655a",
   "metadata": {},
   "outputs": [
    {
     "name": "stdout",
     "output_type": "stream",
     "text": [
      "Wall time: 11.1 s\n"
     ]
    }
   ],
   "source": [
    "%%time\n",
    "X_small = X.head(10000)\n",
    "\n",
    "n_clusters = [2, 4, 6, 8, 10, 15, 20]\n",
    "results = {}\n",
    "\n",
    "for n in n_clusters:\n",
    "    kmeans = KMeans(n).fit(X_small)\n",
    "    score = silhouette_score(X_small, kmeans.labels_)\n",
    "    results[n] = score"
   ]
  },
  {
   "cell_type": "code",
   "execution_count": 11,
   "id": "f0415a07",
   "metadata": {},
   "outputs": [
    {
     "data": {
      "text/plain": [
       "{2: 0.3507026408894679,\n",
       " 4: 0.3031840804271992,\n",
       " 6: 0.2111607965642215,\n",
       " 8: 0.2017013530402336,\n",
       " 10: 0.1987264503297648,\n",
       " 15: 0.15470800079119035,\n",
       " 20: 0.1426658514993804}"
      ]
     },
     "execution_count": 11,
     "metadata": {},
     "output_type": "execute_result"
    }
   ],
   "source": [
    "results"
   ]
  },
  {
   "cell_type": "code",
   "execution_count": null,
   "id": "6f789ab5",
   "metadata": {},
   "outputs": [],
   "source": []
  },
  {
   "cell_type": "code",
   "execution_count": null,
   "id": "94e7a84e",
   "metadata": {},
   "outputs": [],
   "source": [
    "%%time\n",
    "\n",
    "X_small = X.head(10000)\n",
    "\n",
    "n_clusters = [2, 4, 6, 8, 10, 15, 20]\n",
    "n = n_clusters[0]\n",
    "kmeans = KMeans(n_clusters=n).fit(X_small)"
   ]
  },
  {
   "cell_type": "code",
   "execution_count": null,
   "id": "762fb957",
   "metadata": {},
   "outputs": [],
   "source": [
    "silhouette_score(X_small, kmeans.labels_)"
   ]
  },
  {
   "cell_type": "code",
   "execution_count": null,
   "id": "ee52481a",
   "metadata": {},
   "outputs": [],
   "source": [
    "## cluster based on AF (not genre)\n",
    "## optimise based on silhouette \n",
    "\n",
    "# initial clusters to try, refine in steps\n",
    "params = {\n",
    "    'n_clusters': [2, 4, 6, 8, 10, 15, 20]\n",
    "}\n",
    "\n",
    "kmeans = KMeans()\n",
    "grid = GridSearchCV(\n",
    "    estimator=kmeans,\n",
    "    param_grid=params, \n",
    "    scoring=silhouette_score\n",
    ")\n",
    "\n"
   ]
  },
  {
   "cell_type": "code",
   "execution_count": null,
   "id": "97feb7bf",
   "metadata": {},
   "outputs": [],
   "source": [
    "## examine performance by inspecting genres and popularity\n",
    "\n"
   ]
  },
  {
   "cell_type": "code",
   "execution_count": null,
   "id": "173e107d",
   "metadata": {},
   "outputs": [],
   "source": []
  }
 ],
 "metadata": {
  "kernelspec": {
   "display_name": "Python 3 (ipykernel)",
   "language": "python",
   "name": "python3"
  },
  "language_info": {
   "codemirror_mode": {
    "name": "ipython",
    "version": 3
   },
   "file_extension": ".py",
   "mimetype": "text/x-python",
   "name": "python",
   "nbconvert_exporter": "python",
   "pygments_lexer": "ipython3",
   "version": "3.9.7"
  }
 },
 "nbformat": 4,
 "nbformat_minor": 5
}
