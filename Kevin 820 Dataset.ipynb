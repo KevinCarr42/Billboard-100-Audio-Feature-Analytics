{
 "cells": [
  {
   "cell_type": "code",
   "execution_count": 22,
   "id": "b92fb833",
   "metadata": {},
   "outputs": [
    {
     "data": {
      "text/html": [
       "<style>.container { width:100% !important; }</style>"
      ],
      "text/plain": [
       "<IPython.core.display.HTML object>"
      ]
     },
     "metadata": {},
     "output_type": "display_data"
    }
   ],
   "source": [
    "# import modules\n",
    "import pandas as pd\n",
    "import numpy as np\n",
    "import spotipy\n",
    "\n",
    "# full-width display\n",
    "from IPython.core.display import display, HTML\n",
    "display(HTML(\"<style>.container { width:100% !important; }</style>\"))\n",
    "\n",
    "# pandas format\n",
    "pd.set_option('display.float_format', '{:_.0f}'.format)\n",
    "# NOTE: underscore separaters ('_') are better than commas (',') because \n",
    "# numbers with underscores work in Python without any extra effort.\n",
    "pd.set_option('display.max_columns', None)\n",
    "pd.set_option('display.max_rows', 100)"
   ]
  },
  {
   "cell_type": "markdown",
   "id": "f6c8526b",
   "metadata": {},
   "source": [
    "### The Billboard 100"
   ]
  },
  {
   "cell_type": "code",
   "execution_count": 23,
   "id": "c5a90136",
   "metadata": {},
   "outputs": [],
   "source": [
    "# Billboard Top 100 Historical Data\n",
    "# link:  https://www.kaggle.com/datasets/dhruvildave/billboard-the-hot-100-songs\n",
    "# via:  https://toolbox.google.com/datasetsearch\n",
    "url_billboard = r'D:\\RYERSON\\820\\Datasets\\Billboard The Hot 100 Songs\\charts.csv'"
   ]
  },
  {
   "cell_type": "code",
   "execution_count": 24,
   "id": "83dd3fd3",
   "metadata": {},
   "outputs": [
    {
     "data": {
      "text/html": [
       "<div>\n",
       "<style scoped>\n",
       "    .dataframe tbody tr th:only-of-type {\n",
       "        vertical-align: middle;\n",
       "    }\n",
       "\n",
       "    .dataframe tbody tr th {\n",
       "        vertical-align: top;\n",
       "    }\n",
       "\n",
       "    .dataframe thead th {\n",
       "        text-align: right;\n",
       "    }\n",
       "</style>\n",
       "<table border=\"1\" class=\"dataframe\">\n",
       "  <thead>\n",
       "    <tr style=\"text-align: right;\">\n",
       "      <th></th>\n",
       "      <th>date</th>\n",
       "      <th>rank</th>\n",
       "      <th>song</th>\n",
       "      <th>artist</th>\n",
       "      <th>last-week</th>\n",
       "      <th>peak-rank</th>\n",
       "      <th>weeks-on-board</th>\n",
       "    </tr>\n",
       "  </thead>\n",
       "  <tbody>\n",
       "    <tr>\n",
       "      <th>0</th>\n",
       "      <td>2021-11-06</td>\n",
       "      <td>1</td>\n",
       "      <td>Easy On Me</td>\n",
       "      <td>Adele</td>\n",
       "      <td>1</td>\n",
       "      <td>1</td>\n",
       "      <td>3</td>\n",
       "    </tr>\n",
       "    <tr>\n",
       "      <th>1</th>\n",
       "      <td>2021-11-06</td>\n",
       "      <td>2</td>\n",
       "      <td>Stay</td>\n",
       "      <td>The Kid LAROI &amp; Justin Bieber</td>\n",
       "      <td>2</td>\n",
       "      <td>1</td>\n",
       "      <td>16</td>\n",
       "    </tr>\n",
       "    <tr>\n",
       "      <th>2</th>\n",
       "      <td>2021-11-06</td>\n",
       "      <td>3</td>\n",
       "      <td>Industry Baby</td>\n",
       "      <td>Lil Nas X &amp; Jack Harlow</td>\n",
       "      <td>3</td>\n",
       "      <td>1</td>\n",
       "      <td>14</td>\n",
       "    </tr>\n",
       "    <tr>\n",
       "      <th>3</th>\n",
       "      <td>2021-11-06</td>\n",
       "      <td>4</td>\n",
       "      <td>Fancy Like</td>\n",
       "      <td>Walker Hayes</td>\n",
       "      <td>4</td>\n",
       "      <td>3</td>\n",
       "      <td>19</td>\n",
       "    </tr>\n",
       "    <tr>\n",
       "      <th>4</th>\n",
       "      <td>2021-11-06</td>\n",
       "      <td>5</td>\n",
       "      <td>Bad Habits</td>\n",
       "      <td>Ed Sheeran</td>\n",
       "      <td>5</td>\n",
       "      <td>2</td>\n",
       "      <td>18</td>\n",
       "    </tr>\n",
       "    <tr>\n",
       "      <th>5</th>\n",
       "      <td>2021-11-06</td>\n",
       "      <td>6</td>\n",
       "      <td>Way 2 Sexy</td>\n",
       "      <td>Drake Featuring Future &amp; Young Thug</td>\n",
       "      <td>6</td>\n",
       "      <td>1</td>\n",
       "      <td>8</td>\n",
       "    </tr>\n",
       "    <tr>\n",
       "      <th>6</th>\n",
       "      <td>2021-11-06</td>\n",
       "      <td>7</td>\n",
       "      <td>Shivers</td>\n",
       "      <td>Ed Sheeran</td>\n",
       "      <td>9</td>\n",
       "      <td>7</td>\n",
       "      <td>7</td>\n",
       "    </tr>\n",
       "    <tr>\n",
       "      <th>7</th>\n",
       "      <td>2021-11-06</td>\n",
       "      <td>8</td>\n",
       "      <td>Good 4 U</td>\n",
       "      <td>Olivia Rodrigo</td>\n",
       "      <td>7</td>\n",
       "      <td>1</td>\n",
       "      <td>24</td>\n",
       "    </tr>\n",
       "    <tr>\n",
       "      <th>8</th>\n",
       "      <td>2021-11-06</td>\n",
       "      <td>9</td>\n",
       "      <td>Need To Know</td>\n",
       "      <td>Doja Cat</td>\n",
       "      <td>11</td>\n",
       "      <td>9</td>\n",
       "      <td>20</td>\n",
       "    </tr>\n",
       "    <tr>\n",
       "      <th>9</th>\n",
       "      <td>2021-11-06</td>\n",
       "      <td>10</td>\n",
       "      <td>Levitating</td>\n",
       "      <td>Dua Lipa</td>\n",
       "      <td>8</td>\n",
       "      <td>2</td>\n",
       "      <td>56</td>\n",
       "    </tr>\n",
       "  </tbody>\n",
       "</table>\n",
       "</div>"
      ],
      "text/plain": [
       "        date  rank           song                               artist  \\\n",
       "0 2021-11-06     1     Easy On Me                                Adele   \n",
       "1 2021-11-06     2           Stay        The Kid LAROI & Justin Bieber   \n",
       "2 2021-11-06     3  Industry Baby              Lil Nas X & Jack Harlow   \n",
       "3 2021-11-06     4     Fancy Like                         Walker Hayes   \n",
       "4 2021-11-06     5     Bad Habits                           Ed Sheeran   \n",
       "5 2021-11-06     6     Way 2 Sexy  Drake Featuring Future & Young Thug   \n",
       "6 2021-11-06     7        Shivers                           Ed Sheeran   \n",
       "7 2021-11-06     8       Good 4 U                       Olivia Rodrigo   \n",
       "8 2021-11-06     9   Need To Know                             Doja Cat   \n",
       "9 2021-11-06    10     Levitating                             Dua Lipa   \n",
       "\n",
       "   last-week  peak-rank  weeks-on-board  \n",
       "0          1          1               3  \n",
       "1          2          1              16  \n",
       "2          3          1              14  \n",
       "3          4          3              19  \n",
       "4          5          2              18  \n",
       "5          6          1               8  \n",
       "6          9          7               7  \n",
       "7          7          1              24  \n",
       "8         11          9              20  \n",
       "9          8          2              56  "
      ]
     },
     "execution_count": 24,
     "metadata": {},
     "output_type": "execute_result"
    }
   ],
   "source": [
    "df_billboard = pd.read_csv(url_billboard)\n",
    "df_billboard['date'] = pd.to_datetime(df_billboard['date'])\n",
    "df_billboard.head(10)"
   ]
  },
  {
   "cell_type": "code",
   "execution_count": 25,
   "id": "0a1fd556",
   "metadata": {},
   "outputs": [
    {
     "data": {
      "text/plain": [
       "(Timestamp('1958-08-04 00:00:00'), Timestamp('2021-11-06 00:00:00'))"
      ]
     },
     "execution_count": 25,
     "metadata": {},
     "output_type": "execute_result"
    }
   ],
   "source": [
    "# date range for data\n",
    "df_billboard.date.min(), df_billboard.date.max()"
   ]
  },
  {
   "cell_type": "markdown",
   "id": "fcda8747",
   "metadata": {},
   "source": [
    "### Unique Songs from The Billboard 100"
   ]
  },
  {
   "cell_type": "code",
   "execution_count": 26,
   "id": "a8a0584e",
   "metadata": {},
   "outputs": [
    {
     "data": {
      "text/plain": [
       "(29681, 2)"
      ]
     },
     "execution_count": 26,
     "metadata": {},
     "output_type": "execute_result"
    }
   ],
   "source": [
    "# just the songs on the billboard 100, once per song\n",
    "df_billboard_songs = df_billboard[['song', 'artist']].drop_duplicates().sort_values(['artist', 'song']).reset_index(drop=True)\n",
    "df_billboard_songs.shape"
   ]
  },
  {
   "cell_type": "markdown",
   "id": "dda165a6",
   "metadata": {},
   "source": [
    "### 1.2M songs with Metadata"
   ]
  },
  {
   "cell_type": "code",
   "execution_count": 27,
   "id": "87b1cea3",
   "metadata": {},
   "outputs": [],
   "source": [
    "# there are ~30k songs on the Billboard 100 list\n",
    "# let's see how many are here:\n",
    "# https://www.kaggle.com/datasets/rodolfofigueroa/spotify-12m-songs\n",
    "# via:  https://www.kaggle.com/datasets/\n",
    "# Spotify 1.2M+ Songs\n",
    "url_1M_songs = r'D:\\RYERSON\\820\\Datasets\\Spotify 1.2M+ Songs\\tracks_features.csv'\n",
    "\n",
    "df_1M_songs = pd.read_csv(url_1M_songs)"
   ]
  },
  {
   "cell_type": "markdown",
   "id": "a6ab9eb0",
   "metadata": {},
   "source": [
    "### Spotify API setup"
   ]
  },
  {
   "cell_type": "markdown",
   "id": "f35439db",
   "metadata": {},
   "source": [
    "https://developer.spotify.com/terms/\n",
    "\n",
    "https://developer.spotify.com/dashboard/applications/cd5ce2cb690543ff9967e817d4665543"
   ]
  },
  {
   "cell_type": "markdown",
   "id": "256c601a",
   "metadata": {},
   "source": [
    "##### Useful Spotify API Features\n",
    "\n",
    "https://developer.spotify.com/documentation/web-api/reference/#/operations/get-several-audio-features\n",
    "\n",
    "https://developer.spotify.com/documentation/web-api/reference/#/operations/get-recommendations"
   ]
  },
  {
   "cell_type": "code",
   "execution_count": 6,
   "id": "8b9539b7",
   "metadata": {},
   "outputs": [],
   "source": [
    "import spotipy\n",
    "from spotipy.oauth2 import SpotifyClientCredentials\n",
    "import json\n",
    "\n",
    "# CONFIDENTIAL.py included in .gitignore, contains private API key\n",
    "# use link above to get a client_id and client_secret from developer.spotify.com\n",
    "from CONFIDENTIAL import client_id, client_secret\n",
    "\n",
    "spotify = spotipy.Spotify(\n",
    "    client_credentials_manager=SpotifyClientCredentials(\n",
    "        client_id = client_id,\n",
    "        client_secret = client_secret\n",
    "    )\n",
    ")"
   ]
  },
  {
   "cell_type": "code",
   "execution_count": 28,
   "id": "cddfa695",
   "metadata": {},
   "outputs": [],
   "source": [
    "def find_id(track_title, artist_name):\n",
    "    \"\"\" for searches with multiple results, all id were identical for the test cases I ran \"\"\"\n",
    "    track_info = spotify.search(q='artist:' + artist_name + ' track:' + track_title, type='track')\n",
    "    return track_info['tracks']['items'][0]['artists'][0]['id']"
   ]
  },
  {
   "cell_type": "markdown",
   "id": "dcbc17e2",
   "metadata": {},
   "source": [
    "### Add Spotify IDs to billboard songs"
   ]
  },
  {
   "cell_type": "code",
   "execution_count": 49,
   "id": "c6abf28b",
   "metadata": {},
   "outputs": [
    {
     "data": {
      "text/html": [
       "<div>\n",
       "<style scoped>\n",
       "    .dataframe tbody tr th:only-of-type {\n",
       "        vertical-align: middle;\n",
       "    }\n",
       "\n",
       "    .dataframe tbody tr th {\n",
       "        vertical-align: top;\n",
       "    }\n",
       "\n",
       "    .dataframe thead th {\n",
       "        text-align: right;\n",
       "    }\n",
       "</style>\n",
       "<table border=\"1\" class=\"dataframe\">\n",
       "  <thead>\n",
       "    <tr style=\"text-align: right;\">\n",
       "      <th></th>\n",
       "      <th>song</th>\n",
       "      <th>artist</th>\n",
       "      <th>id</th>\n",
       "    </tr>\n",
       "  </thead>\n",
       "  <tbody>\n",
       "    <tr>\n",
       "      <th>0</th>\n",
       "      <td>Misty</td>\n",
       "      <td>\"Groove\" Holmes</td>\n",
       "      <td>\"Groove\" Holmes\"Groove\" HolmesMisty</td>\n",
       "    </tr>\n",
       "    <tr>\n",
       "      <th>1</th>\n",
       "      <td>What Now My Love</td>\n",
       "      <td>\"Groove\" Holmes</td>\n",
       "      <td>\"Groove\" Holmes\"Groove\" HolmesWhat Now My Love</td>\n",
       "    </tr>\n",
       "    <tr>\n",
       "      <th>2</th>\n",
       "      <td>May The Bird Of Paradise Fly Up Your Nose</td>\n",
       "      <td>\"Little\" Jimmy Dickens</td>\n",
       "      <td>\"Little\" Jimmy Dickens\"Little\" Jimmy DickensMa...</td>\n",
       "    </tr>\n",
       "    <tr>\n",
       "      <th>3</th>\n",
       "      <td>I Know I Know</td>\n",
       "      <td>\"Pookie\" Hudson</td>\n",
       "      <td>\"Pookie\" Hudson\"Pookie\" HudsonI Know I Know</td>\n",
       "    </tr>\n",
       "    <tr>\n",
       "      <th>4</th>\n",
       "      <td>Amish Paradise</td>\n",
       "      <td>\"Weird Al\" Yankovic</td>\n",
       "      <td>\"Weird Al\" Yankovic\"Weird Al\" YankovicAmish Pa...</td>\n",
       "    </tr>\n",
       "  </tbody>\n",
       "</table>\n",
       "</div>"
      ],
      "text/plain": [
       "                                        song                  artist  \\\n",
       "0                                      Misty         \"Groove\" Holmes   \n",
       "1                           What Now My Love         \"Groove\" Holmes   \n",
       "2  May The Bird Of Paradise Fly Up Your Nose  \"Little\" Jimmy Dickens   \n",
       "3                              I Know I Know         \"Pookie\" Hudson   \n",
       "4                             Amish Paradise     \"Weird Al\" Yankovic   \n",
       "\n",
       "                                                  id  \n",
       "0                \"Groove\" Holmes\"Groove\" HolmesMisty  \n",
       "1     \"Groove\" Holmes\"Groove\" HolmesWhat Now My Love  \n",
       "2  \"Little\" Jimmy Dickens\"Little\" Jimmy DickensMa...  \n",
       "3        \"Pookie\" Hudson\"Pookie\" HudsonI Know I Know  \n",
       "4  \"Weird Al\" Yankovic\"Weird Al\" YankovicAmish Pa...  "
      ]
     },
     "execution_count": 49,
     "metadata": {},
     "output_type": "execute_result"
    }
   ],
   "source": [
    "for i, row in df_billboard_songs.head().iterrows():\n",
    "    artist = row[1]\n",
    "    song = row[0]\n",
    "    df_billboard_songs['id'].iloc[i] = artist + artist + song\n",
    "\n",
    "df_billboard_songs.head()"
   ]
  },
  {
   "cell_type": "code",
   "execution_count": 45,
   "id": "298cf87e",
   "metadata": {},
   "outputs": [
    {
     "data": {
      "text/plain": [
       "'\"Weird Al\" Yankovic'"
      ]
     },
     "execution_count": 45,
     "metadata": {},
     "output_type": "execute_result"
    }
   ],
   "source": [
    "df_billboard_songs.iloc[4]['id']"
   ]
  },
  {
   "cell_type": "code",
   "execution_count": null,
   "id": "022a9688",
   "metadata": {},
   "outputs": [],
   "source": [
    "# now merge with entire billboard list\n",
    "\n"
   ]
  },
  {
   "cell_type": "code",
   "execution_count": null,
   "id": "c1e8488a",
   "metadata": {},
   "outputs": [],
   "source": [
    "# check how many matches in 1.2M songs, what percent? SQL dataset? manual scraping?\n",
    "\n"
   ]
  },
  {
   "cell_type": "code",
   "execution_count": null,
   "id": "9edd91ee",
   "metadata": {},
   "outputs": [],
   "source": []
  },
  {
   "cell_type": "code",
   "execution_count": null,
   "id": "b601131a",
   "metadata": {},
   "outputs": [],
   "source": []
  },
  {
   "cell_type": "code",
   "execution_count": null,
   "id": "b5a6c8b2",
   "metadata": {},
   "outputs": [],
   "source": []
  },
  {
   "cell_type": "code",
   "execution_count": null,
   "id": "f83c9d36",
   "metadata": {},
   "outputs": [],
   "source": []
  },
  {
   "cell_type": "code",
   "execution_count": null,
   "id": "f8bcc159",
   "metadata": {},
   "outputs": [],
   "source": []
  },
  {
   "cell_type": "code",
   "execution_count": null,
   "id": "16d08b37",
   "metadata": {},
   "outputs": [],
   "source": []
  },
  {
   "cell_type": "code",
   "execution_count": null,
   "id": "5a6ae7ad",
   "metadata": {},
   "outputs": [],
   "source": []
  },
  {
   "cell_type": "code",
   "execution_count": null,
   "id": "ef8b58aa",
   "metadata": {},
   "outputs": [],
   "source": []
  },
  {
   "cell_type": "code",
   "execution_count": null,
   "id": "c87020df",
   "metadata": {},
   "outputs": [],
   "source": []
  },
  {
   "cell_type": "code",
   "execution_count": null,
   "id": "31966170",
   "metadata": {},
   "outputs": [],
   "source": []
  },
  {
   "cell_type": "code",
   "execution_count": null,
   "id": "c1761d9e",
   "metadata": {},
   "outputs": [],
   "source": []
  },
  {
   "cell_type": "code",
   "execution_count": null,
   "id": "d3423e74",
   "metadata": {},
   "outputs": [],
   "source": []
  },
  {
   "cell_type": "code",
   "execution_count": null,
   "id": "5343e8b1",
   "metadata": {},
   "outputs": [],
   "source": []
  },
  {
   "cell_type": "code",
   "execution_count": null,
   "id": "b525d470",
   "metadata": {},
   "outputs": [],
   "source": []
  },
  {
   "cell_type": "markdown",
   "id": "b9738a35",
   "metadata": {},
   "source": [
    "### merging without spotify id is not working flawlessly, use API to get id, and check how many matches"
   ]
  },
  {
   "cell_type": "code",
   "execution_count": null,
   "id": "dc9f5fe5",
   "metadata": {},
   "outputs": [],
   "source": [
    "# many indirect matches, need be clever to merge\n",
    "# match artist, look for billboard.song in 1M.name.str"
   ]
  },
  {
   "cell_type": "code",
   "execution_count": null,
   "id": "3e5c0f10",
   "metadata": {},
   "outputs": [],
   "source": [
    "# change merging fields to lowercase with matching names\n",
    "df_billboard_songs['artist_lower'] = df_billboard_songs['artist'].str.lower()\n",
    "df_billboard_songs['track_lower'] = df_billboard_songs['song'].str.lower()\n",
    "\n",
    "df_billboard_songs = df_billboard_songs[['artist_lower', 'track_lower']]"
   ]
  },
  {
   "cell_type": "code",
   "execution_count": null,
   "id": "ebb75062",
   "metadata": {},
   "outputs": [],
   "source": [
    "df_1M_songs['artists_lower'] = df_1M_songs['artists'].str.lower()\n",
    "df_1M_songs['track_lower'] = df_1M_songs['name'].str.lower()"
   ]
  },
  {
   "cell_type": "code",
   "execution_count": null,
   "id": "a7d39a23",
   "metadata": {},
   "outputs": [],
   "source": [
    "# now check if df_billboard_songs entries match 1M_songs entries\n",
    "\n",
    "billboard_tracks = list(df_billboard_songs.track_lower)\n",
    "\n",
    "# df_billboard_songs['ID'] = df_1M_songs[(df_billboard_songs.track_lower in df_1M_songs.track_lower) & (df_billboard_songs.artist_lower in df_1M_songs.artists_lower)]\n"
   ]
  },
  {
   "cell_type": "code",
   "execution_count": null,
   "id": "cf6b25c5",
   "metadata": {},
   "outputs": [],
   "source": [
    "df_1M_songs.head(0)"
   ]
  },
  {
   "cell_type": "code",
   "execution_count": null,
   "id": "98c2e2a3",
   "metadata": {},
   "outputs": [],
   "source": [
    "df_temp = df_billboard_songs.sample(100)"
   ]
  },
  {
   "cell_type": "code",
   "execution_count": null,
   "id": "1b559300",
   "metadata": {},
   "outputs": [],
   "source": []
  },
  {
   "cell_type": "code",
   "execution_count": null,
   "id": "856d2116",
   "metadata": {},
   "outputs": [],
   "source": []
  },
  {
   "cell_type": "code",
   "execution_count": null,
   "id": "53eed64d",
   "metadata": {},
   "outputs": [],
   "source": []
  },
  {
   "cell_type": "markdown",
   "id": "76d2cc06",
   "metadata": {},
   "source": [
    "### regex method only takes first artist, doesn't work properly misses out of order artists"
   ]
  },
  {
   "cell_type": "code",
   "execution_count": null,
   "id": "07f5d04b",
   "metadata": {},
   "outputs": [],
   "source": [
    "# formatting in df_1M_songs is difficult to parse\n",
    "# need to extract list-style formatting using Regex:\n",
    "\"\"\"\n",
    "https://stackoverflow.com/questions/71469808/how-to-replace-a-list-with-first-element-of-list-in-pandas-dataframe-column\n",
    "regex:\n",
    "(             # start capturing\n",
    "(?<=\\[[\"\\'])  # if preceded by [\" or ['\n",
    "[^\"\\']*       # get all text until \" or '\n",
    "|             # OR\n",
    "^[^\"\\']+$     # get whole string if it doesn't contain \" or '\n",
    ")             # stop capturing\n",
    "\"\"\"\n",
    "df_1M_songs['artist_lower'] = df_1M_songs['artists'].str.extract('((?<=\\[[\"\\'])[^\"\\']*|^[^\"\\']+$)')\n",
    "df_1M_songs['artist_lower'] = df_1M_songs['artist_lower'].str.lower()\n",
    "df_1M_songs['track_lower'] = df_1M_songs['name'].str.lower()"
   ]
  },
  {
   "cell_type": "code",
   "execution_count": null,
   "id": "0a940633",
   "metadata": {},
   "outputs": [],
   "source": [
    "# now, let's see how many id matches we can get with the billboard tracks\n",
    "merge_on = ['artist_lower']\n",
    "\n",
    "df_temp = pd.merge(df_billboard_songs, df_1M_songs, how='left', on=merge_on, indicator=True)\n",
    "df_temp.shape"
   ]
  },
  {
   "cell_type": "code",
   "execution_count": null,
   "id": "a329a127",
   "metadata": {},
   "outputs": [],
   "source": [
    "df_temp.head()"
   ]
  },
  {
   "cell_type": "code",
   "execution_count": null,
   "id": "148aae46",
   "metadata": {
    "scrolled": false
   },
   "outputs": [],
   "source": [
    "df_1M_songs[df_1M_songs.artist_lower.str.contains('yankovic')].shape"
   ]
  },
  {
   "cell_type": "code",
   "execution_count": null,
   "id": "89c2abec",
   "metadata": {},
   "outputs": [],
   "source": [
    "df_1M_songs[df_1M_songs.artists.str.contains('Yankovic')].shape"
   ]
  },
  {
   "cell_type": "code",
   "execution_count": null,
   "id": "d2908143",
   "metadata": {},
   "outputs": [],
   "source": []
  },
  {
   "cell_type": "code",
   "execution_count": null,
   "id": "f356e64c",
   "metadata": {},
   "outputs": [],
   "source": []
  },
  {
   "cell_type": "code",
   "execution_count": null,
   "id": "2544dcdd",
   "metadata": {},
   "outputs": [],
   "source": []
  },
  {
   "cell_type": "code",
   "execution_count": null,
   "id": "e3594d0e",
   "metadata": {},
   "outputs": [],
   "source": []
  },
  {
   "cell_type": "code",
   "execution_count": null,
   "id": "931f6e69",
   "metadata": {},
   "outputs": [],
   "source": []
  },
  {
   "cell_type": "code",
   "execution_count": null,
   "id": "23c8e069",
   "metadata": {},
   "outputs": [],
   "source": []
  },
  {
   "cell_type": "code",
   "execution_count": null,
   "id": "bc15fe64",
   "metadata": {},
   "outputs": [],
   "source": [
    "# merge billboard 100 with 1.2M songs\n",
    "\n",
    "# change merging fields to lowercase with matching names\n",
    "df_billboard['artist_lower'] = df_billboard['artist'].str.lower()\n",
    "df_billboard['track_lower'] = df_billboard['song'].str.lower()\n",
    "\n",
    "# need to extract list-style formatting using Regex:\n",
    "\"\"\"\n",
    "https://stackoverflow.com/questions/71469808/how-to-replace-a-list-with-first-element-of-list-in-pandas-dataframe-column\n",
    "regex:\n",
    "(             # start capturing\n",
    "(?<=\\[[\"\\'])  # if preceded by [\" or ['\n",
    "[^\"\\']*       # get all text until \" or '\n",
    "|             # OR\n",
    "^[^\"\\']+$     # get whole string if it doesn't contain \" or '\n",
    ")             # stop capturing\n",
    "\"\"\"\n",
    "df_1M_songs['artist_lower'] = df_1M_songs['artists'].str.extract('((?<=\\[[\"\\'])[^\"\\']*|^[^\"\\']+$)')\n",
    "df_1M_songs['artist_lower'] = df_1M_songs['artist_lower'].str.lower()\n",
    "df_1M_songs['track_lower'] = df_1M_songs['name'].str.lower()\n",
    "\n",
    "# join tables\n",
    "df = pd.merge(df_billboard, df_1M_songs, how='outer', on=['artist_lower', 'track_lower'], indicator=True)\n",
    "df.shape, df[df._merge=='both'].shape"
   ]
  },
  {
   "cell_type": "code",
   "execution_count": null,
   "id": "1a81b734",
   "metadata": {},
   "outputs": [],
   "source": [
    "# how many missing songs?\n",
    "df[df._merge == 'left_only'].drop_duplicates(['artist_lower', 'track_lower']).reset_index().shape"
   ]
  },
  {
   "cell_type": "code",
   "execution_count": null,
   "id": "b6278213",
   "metadata": {},
   "outputs": [],
   "source": [
    "# how many found songs?\n",
    "df[df._merge == 'both'].drop_duplicates(['artist_lower', 'track_lower']).reset_index().shape\n",
    "# lame"
   ]
  },
  {
   "cell_type": "code",
   "execution_count": null,
   "id": "2a28ba31",
   "metadata": {},
   "outputs": [],
   "source": []
  },
  {
   "cell_type": "code",
   "execution_count": null,
   "id": "82784403",
   "metadata": {},
   "outputs": [],
   "source": [
    "missing_songs = df[df._merge == 'left_only'].drop_duplicates(['artist_lower', 'track_lower']).sort_values(['artist_lower', 'track_lower']).reset_index()[['artist_lower', 'track_lower']]\n",
    "missing_songs"
   ]
  },
  {
   "cell_type": "code",
   "execution_count": null,
   "id": "226bff0c",
   "metadata": {},
   "outputs": [],
   "source": [
    "# manually check database for these\n",
    "manual_check = df_1M_songs[['artist_lower', 'track_lower', 'album']]"
   ]
  },
  {
   "cell_type": "code",
   "execution_count": null,
   "id": "a0d36e7d",
   "metadata": {},
   "outputs": [],
   "source": [
    "manual_check[manual_check.track_lower == 'velcro fly']"
   ]
  },
  {
   "cell_type": "code",
   "execution_count": null,
   "id": "a77fbc06",
   "metadata": {},
   "outputs": [],
   "source": [
    "# can i use this to join?\n",
    "manual_check[manual_check.track_lower.str.contains('velcro fly')]\n",
    "\n",
    "# don't like this solution, it will be humongous\n",
    "# https://stackoverflow.com/questions/58011182/pandas-merge-a-dataframe-on-an-exact-and-partial-match"
   ]
  },
  {
   "cell_type": "code",
   "execution_count": null,
   "id": "5837004e",
   "metadata": {
    "scrolled": false
   },
   "outputs": [],
   "source": [
    "manual_check[manual_check.artist_lower=='zz top'].sort_values('track_lower')\n",
    "# they're all in there, maybe we need a partial match for the merge?"
   ]
  },
  {
   "cell_type": "code",
   "execution_count": null,
   "id": "3e0399b0",
   "metadata": {},
   "outputs": [],
   "source": []
  },
  {
   "cell_type": "code",
   "execution_count": null,
   "id": "4ebd0845",
   "metadata": {},
   "outputs": [],
   "source": [
    "# which songs were not matched to billboard 100?\n",
    "unmatched = df[df._merge == 'right_only'].drop_duplicates(['artist_lower', 'track_lower'])[['artists', 'artist_lower', 'track_lower']].sort_values(['artist_lower', 'track_lower']).reset_index()"
   ]
  },
  {
   "cell_type": "code",
   "execution_count": null,
   "id": "c8b480b1",
   "metadata": {},
   "outputs": [],
   "source": [
    "unmatched.sample(20)"
   ]
  },
  {
   "cell_type": "code",
   "execution_count": null,
   "id": "88e8686d",
   "metadata": {},
   "outputs": [],
   "source": []
  },
  {
   "cell_type": "code",
   "execution_count": null,
   "id": "4b3d608e",
   "metadata": {},
   "outputs": [],
   "source": []
  },
  {
   "cell_type": "code",
   "execution_count": null,
   "id": "d4da518d",
   "metadata": {},
   "outputs": [],
   "source": []
  },
  {
   "cell_type": "markdown",
   "id": "476bc98e",
   "metadata": {},
   "source": [
    "### Can we merge Billboard 100 with Song Metadata?\n",
    "### not well (~90% missing)\n",
    "### NLP section only\n",
    "    * we could use this merge for NLP\n",
    "    * this could be a representative sample\n",
    "    * discard for now because it would be nice to use the entire Billboard 100 dataset"
   ]
  },
  {
   "cell_type": "code",
   "execution_count": null,
   "id": "3bbc0f7a",
   "metadata": {},
   "outputs": [],
   "source": [
    "# Billboard Top 100 Historical Data\n",
    "# link:  https://www.kaggle.com/datasets/dhruvildave/billboard-the-hot-100-songs\n",
    "# via:  https://toolbox.google.com/datasetsearch\n",
    "url_billboard = r'D:\\RYERSON\\820\\Datasets\\Billboard The Hot 100 Songs\\charts.csv'\n",
    "\n",
    "# Music Dataset: Lyrics and Metadata from 1950 to 2019\n",
    "# link:  https://www.kaggle.com/datasets/dhruvildave/billboard-the-hot-100-songs\n",
    "# via:  https://toolbox.google.com/datasetsearch\n",
    "# info re metadata:  https://developer.spotify.com/documentation/web-api/reference/#/operations/get-several-audio-features\n",
    "# also available via Spotify web API:\n",
    "    # link:  https://developer.spotify.com/documentation/web-api/\n",
    "url_songdata = r'D:\\RYERSON\\820\\Datasets\\Music Dataset Lyrics and Metadata from 1950 to 2019\\tcc_ceds_music.csv'\n"
   ]
  },
  {
   "cell_type": "code",
   "execution_count": null,
   "id": "a9deb950",
   "metadata": {},
   "outputs": [],
   "source": [
    "df_billboard = pd.read_csv(url_billboard)\n",
    "\n",
    "# lowercase for joining datasets\n",
    "# these match the names in the other dataframe, and are lowercase, as the other dataset is\n",
    "df_billboard['artist_name'] = df_billboard['artist'].str.lower()\n",
    "df_billboard['track_name'] = df_billboard['song'].str.lower()\n",
    "\n",
    "df_billboard.head(1)"
   ]
  },
  {
   "cell_type": "code",
   "execution_count": null,
   "id": "6fa5304b",
   "metadata": {},
   "outputs": [],
   "source": [
    "df_songdata = pd.read_csv(url_songdata)\n",
    "# df_songdata.rename(columns={'artist_name': 'artist', 'track_name': 'song'}, inplace=True)\n",
    "df_songdata.head(1)"
   ]
  },
  {
   "cell_type": "code",
   "execution_count": null,
   "id": "a960808e",
   "metadata": {},
   "outputs": [],
   "source": [
    "df_billboard.shape, df_songdata.shape"
   ]
  },
  {
   "cell_type": "code",
   "execution_count": null,
   "id": "ca880ee7",
   "metadata": {},
   "outputs": [],
   "source": [
    "df = pd.merge(df_billboard, df_songdata, how='left', on=['artist_name', 'track_name'], indicator=True)\n",
    "df.shape, df[df._merge=='both'].shape"
   ]
  },
  {
   "cell_type": "code",
   "execution_count": null,
   "id": "fbbd4e71",
   "metadata": {},
   "outputs": [],
   "source": [
    "# lots of missing hits, let's check what's up\n",
    "temp_columns = ['artist_name', 'track_name', '_merge']\n",
    "temp = df[temp_columns]"
   ]
  },
  {
   "cell_type": "code",
   "execution_count": null,
   "id": "a113e502",
   "metadata": {},
   "outputs": [],
   "source": [
    "temp.sample(10)"
   ]
  },
  {
   "cell_type": "code",
   "execution_count": null,
   "id": "9aa4a91e",
   "metadata": {},
   "outputs": [],
   "source": [
    "df_songdata[df_songdata.artist_name=='vikki carr']"
   ]
  },
  {
   "cell_type": "code",
   "execution_count": null,
   "id": "ff58b127",
   "metadata": {},
   "outputs": [],
   "source": [
    "df_songdata[df_songdata.artist_name=='walk the moon']"
   ]
  },
  {
   "cell_type": "code",
   "execution_count": null,
   "id": "9ea6bd0f",
   "metadata": {},
   "outputs": [],
   "source": [
    "# ok, how many songs are missing? should we use the spotify API instead?\n",
    "\n",
    "# missing tracks\n",
    "missing = temp[temp._merge=='left_only'].drop_duplicates(keep='first')\n",
    "\n",
    "# total tracks\n",
    "all_tracks = df_billboard[['song', 'artist']].drop_duplicates(keep='first')"
   ]
  },
  {
   "cell_type": "code",
   "execution_count": null,
   "id": "e077dede",
   "metadata": {},
   "outputs": [],
   "source": [
    "missing.shape[0] / all_tracks.shape[0]\n",
    "# 90% of songs are missing"
   ]
  }
 ],
 "metadata": {
  "kernelspec": {
   "display_name": "Python 3 (ipykernel)",
   "language": "python",
   "name": "python3"
  },
  "language_info": {
   "codemirror_mode": {
    "name": "ipython",
    "version": 3
   },
   "file_extension": ".py",
   "mimetype": "text/x-python",
   "name": "python",
   "nbconvert_exporter": "python",
   "pygments_lexer": "ipython3",
   "version": "3.9.7"
  }
 },
 "nbformat": 4,
 "nbformat_minor": 5
}
