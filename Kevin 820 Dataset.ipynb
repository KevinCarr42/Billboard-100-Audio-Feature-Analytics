{
 "cells": [
  {
   "cell_type": "code",
   "execution_count": 1,
   "id": "b92fb833",
   "metadata": {},
   "outputs": [
    {
     "data": {
      "text/html": [
       "<style>.container { width:100% !important; }</style>"
      ],
      "text/plain": [
       "<IPython.core.display.HTML object>"
      ]
     },
     "metadata": {},
     "output_type": "display_data"
    }
   ],
   "source": [
    "# import modules\n",
    "import pandas as pd\n",
    "import numpy as np\n",
    "import spotipy\n",
    "\n",
    "# full-width display\n",
    "from IPython.core.display import display, HTML\n",
    "display(HTML(\"<style>.container { width:100% !important; }</style>\"))\n",
    "\n",
    "# pandas format\n",
    "pd.set_option('display.float_format', '{:_.0f}'.format)\n",
    "# NOTE: underscore separaters ('_') are better than commas (',') because \n",
    "# numbers with underscores work in Python without any extra effort.\n",
    "pd.set_option('display.max_columns', None)\n",
    "pd.set_option('display.max_rows', 100)\n",
    "\n",
    "# spotipy\n",
    "import spotipy\n",
    "from spotipy.oauth2 import SpotifyClientCredentials\n",
    "\n",
    "# used for AUTHORIZATION WORKFLOW (abandoned)\n",
    "# CONFIDENTIAL.py included in .gitignore, contains private API key\n",
    "# use link above to get a client_id and client_secret from developer.spotify.com\n",
    "from CONFIDENTIAL import client_id, client_secret, redirect_uri"
   ]
  },
  {
   "cell_type": "markdown",
   "id": "f6c8526b",
   "metadata": {},
   "source": [
    "### The Billboard 100"
   ]
  },
  {
   "cell_type": "code",
   "execution_count": 2,
   "id": "c5a90136",
   "metadata": {},
   "outputs": [],
   "source": [
    "# Billboard Top 100 Historical Data\n",
    "# link:  https://www.kaggle.com/datasets/dhruvildave/billboard-the-hot-100-songs\n",
    "# via:  https://toolbox.google.com/datasetsearch\n",
    "url_billboard = r'D:\\RYERSON\\820\\Datasets\\Billboard The Hot 100 Songs\\charts.csv'\n",
    "\n",
    "df_billboard = pd.read_csv(url_billboard)\n",
    "df_billboard['date'] = pd.to_datetime(df_billboard['date'])"
   ]
  },
  {
   "cell_type": "markdown",
   "id": "c34c3dd5",
   "metadata": {},
   "source": [
    "### Unique Songs from The Billboard 100 Dataset"
   ]
  },
  {
   "cell_type": "code",
   "execution_count": 3,
   "id": "a8a0584e",
   "metadata": {},
   "outputs": [
    {
     "data": {
      "text/plain": [
       "(29681, 3)"
      ]
     },
     "execution_count": 3,
     "metadata": {},
     "output_type": "execute_result"
    }
   ],
   "source": [
    "# just the songs on the billboard 100, once per song\n",
    "df_billboard_songs = df_billboard[['song', 'artist']].drop_duplicates().sort_values(['artist', 'song']).reset_index(drop=True)\n",
    "\n",
    "# add a blank id column\n",
    "df_billboard_songs['id'] = ''\n",
    "\n",
    "df_billboard_songs.shape"
   ]
  },
  {
   "cell_type": "markdown",
   "id": "2e30aa88",
   "metadata": {},
   "source": [
    "### 1.2M Songs with Metadata (csv)\n",
    "https://www.kaggle.com/datasets/rodolfofigueroa/spotify-12m-songs"
   ]
  },
  {
   "cell_type": "code",
   "execution_count": 5,
   "id": "87b1cea3",
   "metadata": {},
   "outputs": [],
   "source": [
    "# there are ~30k songs on the Billboard 100 list\n",
    "# let's see how many are here:\n",
    "# https://www.kaggle.com/datasets/rodolfofigueroa/spotify-12m-songs\n",
    "# via:  https://www.kaggle.com/datasets/\n",
    "# Spotify 1.2M+ Songs\n",
    "url_1M_songs = r'D:\\RYERSON\\820\\Datasets\\Spotify 1.2M+ Songs\\tracks_features.csv'\n",
    "\n",
    "# create the dataframe with the large number of songs metadata\n",
    "df_1M_songs = pd.read_csv(url_1M_songs)\n",
    "\n",
    "# make a list of song ids from the 1M dataset\n",
    "metadata_ids = list(df_1M_songs.id)"
   ]
  },
  {
   "cell_type": "markdown",
   "id": "e7b3b605",
   "metadata": {},
   "source": [
    "### Get Spotify IDs using API\n",
    "(to join with large datasets)"
   ]
  },
  {
   "cell_type": "markdown",
   "id": "150fbd51",
   "metadata": {},
   "source": [
    "https://developer.spotify.com/terms/\n",
    "\n",
    "##### Useful Spotify API Features\n",
    "\n",
    "https://developer.spotify.com/documentation/web-api/reference/#/operations/get-several-audio-features\n",
    "\n",
    "https://developer.spotify.com/documentation/web-api/reference/#/operations/get-recommendations\n",
    "\n",
    "##### Other Links\n",
    "\n",
    "my app:\n",
    "https://developer.spotify.com/dashboard/applications/cd5ce2cb690543ff9967e817d4665543\n",
    "\n",
    "a tutorial: \n",
    "https://www.youtube.com/watch?v=cU8YH2rhN6A&ab_channel=Elbert"
   ]
  },
  {
   "cell_type": "code",
   "execution_count": null,
   "id": "8249bd06",
   "metadata": {},
   "outputs": [],
   "source": [
    "# # AUTHORIZATION WORKFLOW \n",
    "# # (doens't work anymore, I think I was throttled, but can't get any error messages)\n",
    "\n",
    "# # https://developer.spotify.com/documentation/general/guides/authorization/scopes/\n",
    "# # i think this is the right scope, but nothing works when I connect to my app\n",
    "# scope = 'user-read-private'\n",
    "\n",
    "# oauth = spotipy.SpotifyOAuth(\n",
    "#     client_id=client_id,\n",
    "#     client_secret=client_secret,\n",
    "#     redirect_uri=redirect_uri,\n",
    "#     scope=scope\n",
    "# )\n",
    "\n",
    "# cached_token = oauth.get_cached_token()\n",
    "\n",
    "# # create a spotify object\n",
    "# spotify = spotipy.Spotify(auth=cached_token['access_token'])"
   ]
  },
  {
   "cell_type": "markdown",
   "id": "589f15cb",
   "metadata": {},
   "source": [
    "### TEMPORARY TOKEN WORKFLOW\n",
    "\n",
    "##### get a temporary authorization token from: https://developer.spotify.com/console/get-search-item"
   ]
  },
  {
   "cell_type": "code",
   "execution_count": 90,
   "id": "418a133f",
   "metadata": {},
   "outputs": [
    {
     "name": "stdout",
     "output_type": "stream",
     "text": [
      "Enter token: BQCGN3A6E1VE_V1reluA4eouLmf8gP0h0SOufnJP4eOJdPNxANR45RBLeJNoz8Nur6LxL4Fct7e0eSkdhKxWmBbK12S5RWL2Katsejj5cW3rQJ-4H8-3HS0zoiF71rMjkxRzqaWZmeaeuuV3XdhxGjl6P1nWP9lWrWlum6c050gq\n"
     ]
    }
   ],
   "source": [
    "# input the temporary token\n",
    "TEMP_TOKEN = input('Enter token: ')"
   ]
  },
  {
   "cell_type": "code",
   "execution_count": 91,
   "id": "fc43cc04",
   "metadata": {},
   "outputs": [],
   "source": [
    "# create a spotify object\n",
    "spotify = spotipy.Spotify(auth=TEMP_TOKEN)"
   ]
  },
  {
   "cell_type": "code",
   "execution_count": 8,
   "id": "f8d8d6bf",
   "metadata": {},
   "outputs": [],
   "source": [
    "def find_id(track_title, artist_name, metadata_ids):\n",
    "    \"\"\" \n",
    "    for searches with multiple results, all id were identical for the test cases I ran \n",
    "    some searches return no results, in this case the song is not on spotify\n",
    "        confirmed by spot checks in the spotify music player\n",
    "    some tracks give a 404 error, \n",
    "        these seem to exist in Spotify but 404 anyway\n",
    "        not sure why the API does this but \n",
    "    \"\"\"\n",
    "    track_info = spotify.search(q='artist:' + artist_name + ' track:' + track_title, type='track')\n",
    "    \n",
    "    if track_info['tracks']['items'] == []:  # if track doesn't exist on Spotify\n",
    "        return None\n",
    "    else:\n",
    "        # set the id to the first result\n",
    "        track_id = track_info['tracks']['items'][0]['id']\n",
    "        \n",
    "        # check if there is a better match\n",
    "        number_of_results = len(track_info['tracks']['items'])\n",
    "        \n",
    "        for i in range(number_of_results):\n",
    "            alt_track_id = track_info['tracks']['items'][i]['id']\n",
    "            if alt_track_id in metadata_ids:\n",
    "                track_id = track_info['tracks']['items'][i]['id']\n",
    "        \n",
    "        return track_id"
   ]
  },
  {
   "cell_type": "code",
   "execution_count": 9,
   "id": "6b355d8a",
   "metadata": {},
   "outputs": [
    {
     "data": {
      "text/plain": [
       "'7CfCUjAZFndcpAWLogl9J3'"
      ]
     },
     "execution_count": 9,
     "metadata": {},
     "output_type": "execute_result"
    }
   ],
   "source": [
    "# TEST\n",
    "find_id(\"You Can't Turn Me Off (In The Middle Of Turning Me On)\", 'High Inergy', metadata_ids)"
   ]
  },
  {
   "cell_type": "markdown",
   "id": "3432b777",
   "metadata": {},
   "source": [
    "### Add Spotify IDs to billboard songs"
   ]
  },
  {
   "cell_type": "code",
   "execution_count": 10,
   "id": "5c8b67a2",
   "metadata": {},
   "outputs": [
    {
     "data": {
      "text/html": [
       "<div>\n",
       "<style scoped>\n",
       "    .dataframe tbody tr th:only-of-type {\n",
       "        vertical-align: middle;\n",
       "    }\n",
       "\n",
       "    .dataframe tbody tr th {\n",
       "        vertical-align: top;\n",
       "    }\n",
       "\n",
       "    .dataframe thead th {\n",
       "        text-align: right;\n",
       "    }\n",
       "</style>\n",
       "<table border=\"1\" class=\"dataframe\">\n",
       "  <thead>\n",
       "    <tr style=\"text-align: right;\">\n",
       "      <th></th>\n",
       "      <th>song</th>\n",
       "      <th>artist</th>\n",
       "      <th>id</th>\n",
       "    </tr>\n",
       "  </thead>\n",
       "  <tbody>\n",
       "    <tr>\n",
       "      <th>0</th>\n",
       "      <td>Misty</td>\n",
       "      <td>\"Groove\" Holmes</td>\n",
       "      <td>7DZsH0df0GuULl0FGwXMfd</td>\n",
       "    </tr>\n",
       "    <tr>\n",
       "      <th>1</th>\n",
       "      <td>What Now My Love</td>\n",
       "      <td>\"Groove\" Holmes</td>\n",
       "      <td>11Aldbvo6UCcVhBzv4oUdw</td>\n",
       "    </tr>\n",
       "    <tr>\n",
       "      <th>2</th>\n",
       "      <td>May The Bird Of Paradise Fly Up Your Nose</td>\n",
       "      <td>\"Little\" Jimmy Dickens</td>\n",
       "      <td>1WpoMGLjlEUHlWhilsOkJA</td>\n",
       "    </tr>\n",
       "    <tr>\n",
       "      <th>3</th>\n",
       "      <td>I Know I Know</td>\n",
       "      <td>\"Pookie\" Hudson</td>\n",
       "      <td></td>\n",
       "    </tr>\n",
       "    <tr>\n",
       "      <th>4</th>\n",
       "      <td>Amish Paradise</td>\n",
       "      <td>\"Weird Al\" Yankovic</td>\n",
       "      <td>6nofbMbadUdrtZmIsBHyYE</td>\n",
       "    </tr>\n",
       "  </tbody>\n",
       "</table>\n",
       "</div>"
      ],
      "text/plain": [
       "                                        song                  artist  \\\n",
       "0                                      Misty         \"Groove\" Holmes   \n",
       "1                           What Now My Love         \"Groove\" Holmes   \n",
       "2  May The Bird Of Paradise Fly Up Your Nose  \"Little\" Jimmy Dickens   \n",
       "3                              I Know I Know         \"Pookie\" Hudson   \n",
       "4                             Amish Paradise     \"Weird Al\" Yankovic   \n",
       "\n",
       "                       id  \n",
       "0  7DZsH0df0GuULl0FGwXMfd  \n",
       "1  11Aldbvo6UCcVhBzv4oUdw  \n",
       "2  1WpoMGLjlEUHlWhilsOkJA  \n",
       "3                          \n",
       "4  6nofbMbadUdrtZmIsBHyYE  "
      ]
     },
     "execution_count": 10,
     "metadata": {},
     "output_type": "execute_result"
    }
   ],
   "source": [
    "# load saved csv as df\n",
    "df_billboard_songs = pd.read_csv('df_billboard_songs.csv', keep_default_na=False)"
   ]
  },
  {
   "cell_type": "code",
   "execution_count": 11,
   "id": "2c29221e",
   "metadata": {},
   "outputs": [
    {
     "data": {
      "text/plain": [
       "17180"
      ]
     },
     "execution_count": 11,
     "metadata": {},
     "output_type": "execute_result"
    }
   ],
   "source": [
    "df_billboard_songs.id.nunique()"
   ]
  },
  {
   "cell_type": "code",
   "execution_count": 12,
   "id": "46839b4e",
   "metadata": {
    "collapsed": true
   },
   "outputs": [
    {
     "name": "stdout",
     "output_type": "stream",
     "text": [
      "22960  22970  22980  22990  23000  \n",
      "23010  23020  23030  23040  23050  23060  23070  23080  23090  "
     ]
    },
    {
     "name": "stderr",
     "output_type": "stream",
     "text": [
      "HTTP Error for GET to https://api.spotify.com/v1/search with Params: {'q': 'artist:Steve Allen and His Orchestra with The Copacabana Trio track:Cuando Calienta El Sol (When The Sun Is Hot)', 'limit': 10, 'offset': 0, 'type': 'track', 'market': None} returned 404 due to Not found.\n"
     ]
    },
    {
     "name": "stdout",
     "output_type": "stream",
     "text": [
      "23100  \n",
      "ERROR:   Steve Allen and His Orchestra with The Copacabana Trio Cuando Calienta El Sol (When The Sun Is Hot)\n",
      "23110  23120  23130  23140  23150  23160  23170  23180  23190  23200  \n",
      "23210  23220  23230  23240  23250  23260  23270  23280  23290  23300  \n",
      "23310  23320  23330  23340  23350  23360  23370  23380  23390  23400  \n",
      "23410  23420  23430  23440  23450  23460  23470  23480  23490  23500  \n",
      "23510  23520  23530  23540  23550  23560  23570  23580  23590  23600  \n",
      "23610  23620  23630  "
     ]
    },
    {
     "name": "stderr",
     "output_type": "stream",
     "text": [
      "HTTP Error for GET to https://api.spotify.com/v1/search with Params: {'q': \"artist:Talking Heads track:Life During Wartime (This Ain't No Party...This Ain't No Disco...This Ain't\", 'limit': 10, 'offset': 0, 'type': 'track', 'market': None} returned 404 due to Not found.\n"
     ]
    },
    {
     "name": "stdout",
     "output_type": "stream",
     "text": [
      "ERROR:   Talking Heads Life During Wartime (This Ain't No Party...This Ain't No Disco...This Ain't\n",
      "23640  23650  23660  23670  23680  23690  23700  \n",
      "23710  23720  23730  23740  23750  23760  23770  23780  23790  23800  \n",
      "23810  23820  23830  23840  23850  23860  23870  23880  23890  23900  \n",
      "23910  23920  23930  23940  23950  23960  23970  23980  23990  24000  \n",
      "24010  24020  24030  24040  24050  24060  24070  24080  24090  24100  \n",
      "24110  24120  24130  24140  24150  24160  24170  24180  24190  24200  \n",
      "24210  24220  24230  24240  24250  "
     ]
    },
    {
     "name": "stderr",
     "output_type": "stream",
     "text": [
      "HTTP Error for GET to https://api.spotify.com/v1/search with Params: {'q': 'artist:The Barden Bellas, The Treblemakers & The BU Harmonics track:Riff Off: Mickey / Like A Virgin / Hit Me With Your Best Shot...', 'limit': 10, 'offset': 0, 'type': 'track', 'market': None} returned 404 due to Not found.\n"
     ]
    },
    {
     "name": "stdout",
     "output_type": "stream",
     "text": [
      "24260  ERROR:   The Barden Bellas, The Treblemakers & The BU Harmonics Riff Off: Mickey / Like A Virgin / Hit Me With Your Best Shot...\n",
      "24270  24280  24290  24300  \n",
      "24310  24320  24330  24340  24350  24360  24370  24380  24390  24400  \n",
      "24410  24420  24430  24440  24450  24460  24470  24480  24490  24500  \n",
      "24510  24520  24530  24540  24550  24560  24570  24580  24590  24600  \n",
      "24610  24620  24630  24640  24650  24660  24670  "
     ]
    },
    {
     "name": "stderr",
     "output_type": "stream",
     "text": [
      "HTTP Error for GET to https://api.spotify.com/v1/search with Params: {'q': 'artist:The Chi-lites track:There Will Never Be Any Peace (Until God Is Seated At The Conference Table)', 'limit': 10, 'offset': 0, 'type': 'track', 'market': None} returned 404 due to Not found.\n"
     ]
    },
    {
     "name": "stdout",
     "output_type": "stream",
     "text": [
      "ERROR:   The Chi-lites There Will Never Be Any Peace (Until God Is Seated At The Conference Table)\n",
      "24680  24690  24700  \n",
      "24710  24720  24730  24740  24750  24760  24770  24780  24790  24800  \n",
      "24810  24820  24830  24840  24850  24860  24870  24880  24890  24900  \n",
      "24910  24920  24930  24940  24950  24960  24970  24980  24990  25000  \n",
      "25010  25020  25030  25040  25050  25060  25070  25080  25090  25100  \n",
      "25110  25120  25130  25140  25150  25160  25170  25180  25190  25200  \n",
      "25210  25220  25230  25240  25250  25260  25270  25280  25290  25300  \n",
      "25310  25320  25330  25340  25350  25360  25370  25380  25390  25400  \n",
      "25410  25420  25430  25440  25450  25460  25470  25480  25490  25500  \n",
      "25510  25520  25530  25540  25550  25560  25570  25580  25590  25600  \n",
      "25610  25620  25630  25640  25650  25660  25670  25680  25690  25700  \n",
      "25710  25720  25730  25740  25750  25760  25770  25780  25790  25800  \n",
      "25810  25820  25830  25840  25850  25860  25870  25880  25890  25900  \n",
      "25910  25920  25930  25940  25950  25960  25970  25980  25990  26000  \n",
      "26010  26020  26030  26040  26050  26060  26070  26080  26090  26100  \n",
      "26110  26120  26130  26140  26150  26160  26170  26180  26190  26200  \n",
      "26210  26220  26230  26240  26250  26260  26270  26280  26290  26300  \n",
      "26310  26320  26330  26340  26350  26360  "
     ]
    },
    {
     "name": "stderr",
     "output_type": "stream",
     "text": [
      "HTTP Error for GET to https://api.spotify.com/v1/search with Params: {'q': 'artist:The Partridge Family Starring Shirley Jones Featuring David Cassidy track:Breaking Up Is Hard To Do', 'limit': 10, 'offset': 0, 'type': 'track', 'market': None} returned 404 due to Not found.\n",
      "HTTP Error for GET to https://api.spotify.com/v1/search with Params: {'q': \"artist:The Partridge Family Starring Shirley Jones Featuring David Cassidy track:Doesn't Somebody Want To Be Wanted\", 'limit': 10, 'offset': 0, 'type': 'track', 'market': None} returned 404 due to Not found.\n"
     ]
    },
    {
     "name": "stdout",
     "output_type": "stream",
     "text": [
      "ERROR:   The Partridge Family Starring Shirley Jones Featuring David Cassidy Breaking Up Is Hard To Do\n",
      "ERROR:   The Partridge Family Starring Shirley Jones Featuring David Cassidy Doesn't Somebody Want To Be Wanted\n"
     ]
    },
    {
     "name": "stderr",
     "output_type": "stream",
     "text": [
      "HTTP Error for GET to https://api.spotify.com/v1/search with Params: {'q': 'artist:The Partridge Family Starring Shirley Jones Featuring David Cassidy track:I Woke Up In Love This Morning', 'limit': 10, 'offset': 0, 'type': 'track', 'market': None} returned 404 due to Not found.\n",
      "HTTP Error for GET to https://api.spotify.com/v1/search with Params: {'q': \"artist:The Partridge Family Starring Shirley Jones Featuring David Cassidy track:I'll Meet You Halfway\", 'limit': 10, 'offset': 0, 'type': 'track', 'market': None} returned 404 due to Not found.\n",
      "HTTP Error for GET to https://api.spotify.com/v1/search with Params: {'q': \"artist:The Partridge Family Starring Shirley Jones Featuring David Cassidy track:It's One Of Those Nights (Yes Love)\", 'limit': 10, 'offset': 0, 'type': 'track', 'market': None} returned 404 due to Not found.\n"
     ]
    },
    {
     "name": "stdout",
     "output_type": "stream",
     "text": [
      "ERROR:   The Partridge Family Starring Shirley Jones Featuring David Cassidy I Woke Up In Love This Morning\n",
      "26370  ERROR:   The Partridge Family Starring Shirley Jones Featuring David Cassidy I'll Meet You Halfway\n",
      "ERROR:   The Partridge Family Starring Shirley Jones Featuring David Cassidy It's One Of Those Nights (Yes Love)\n"
     ]
    },
    {
     "name": "stderr",
     "output_type": "stream",
     "text": [
      "HTTP Error for GET to https://api.spotify.com/v1/search with Params: {'q': 'artist:The Partridge Family Starring Shirley Jones Featuring David Cassidy track:Looking Through The Eyes Of Love', 'limit': 10, 'offset': 0, 'type': 'track', 'market': None} returned 404 due to Not found.\n"
     ]
    },
    {
     "name": "stdout",
     "output_type": "stream",
     "text": [
      "ERROR:   The Partridge Family Starring Shirley Jones Featuring David Cassidy Looking Through The Eyes Of Love\n",
      "26380  26390  "
     ]
    },
    {
     "name": "stderr",
     "output_type": "stream",
     "text": [
      "HTTP Error for GET to https://api.spotify.com/v1/search with Params: {'q': 'artist:The Pipes And Drums And The Military Band Of The Royal Scots Dragoon Guards track:Amazing Grace', 'limit': 10, 'offset': 0, 'type': 'track', 'market': None} returned 404 due to Not found.\n"
     ]
    },
    {
     "name": "stdout",
     "output_type": "stream",
     "text": [
      "26400  \n",
      "ERROR:   The Pipes And Drums And The Military Band Of The Royal Scots Dragoon Guards Amazing Grace\n",
      "26410  26420  26430  26440  26450  26460  26470  26480  26490  26500  \n",
      "26510  26520  26530  26540  26550  26560  26570  26580  26590  26600  \n",
      "26610  26620  26630  26640  26650  26660  26670  26680  26690  26700  \n",
      "26710  26720  26730  26740  26750  26760  26770  26780  26790  26800  \n",
      "26810  26820  26830  26840  26850  26860  26870  26880  26890  26900  \n",
      "26910  26920  26930  26940  26950  "
     ]
    },
    {
     "name": "stderr",
     "output_type": "stream",
     "text": [
      "HTTP Error for GET to https://api.spotify.com/v1/search with Params: {'q': 'artist:The Star Wars Intergalactic Droid Choir & Chorale track:What Can You Get A Wookiee For Christmas (When He Already Owns A Comb?)', 'limit': 10, 'offset': 0, 'type': 'track', 'market': None} returned 404 due to Not found.\n"
     ]
    },
    {
     "name": "stdout",
     "output_type": "stream",
     "text": [
      "ERROR:   The Star Wars Intergalactic Droid Choir & Chorale What Can You Get A Wookiee For Christmas (When He Already Owns A Comb?)\n",
      "26960  26970  26980  26990  27000  \n",
      "27010  27020  27030  27040  27050  27060  27070  27080  27090  27100  \n",
      "27110  27120  27130  27140  27150  27160  27170  27180  27190  27200  \n",
      "27210  27220  27230  27240  27250  27260  27270  27280  27290  27300  \n",
      "27310  27320  27330  27340  27350  27360  27370  27380  27390  27400  \n",
      "27410  27420  27430  27440  27450  27460  27470  27480  27490  27500  \n",
      "27510  27520  27530  27540  27550  27560  27570  "
     ]
    },
    {
     "name": "stderr",
     "output_type": "stream",
     "text": [
      "HTTP Error for GET to https://api.spotify.com/v1/search with Params: {'q': 'artist:Thomas Rhett Featuring Reba McEntire, Hillary Scott, Chris Tomlin & Keith Urban track:Be A Light', 'limit': 10, 'offset': 0, 'type': 'track', 'market': None} returned 404 due to Not found.\n"
     ]
    },
    {
     "name": "stdout",
     "output_type": "stream",
     "text": [
      "ERROR:   Thomas Rhett Featuring Reba McEntire, Hillary Scott, Chris Tomlin & Keith Urban Be A Light\n",
      "27580  27590  27600  \n",
      "27610  27620  27630  27640  27650  27660  27670  27680  27690  27700  \n",
      "27710  27720  27730  27740  27750  27760  27770  27780  27790  27800  \n",
      "27810  27820  27830  27840  27850  27860  27870  27880  27890  27900  \n",
      "27910  27920  27930  27940  27950  27960  27970  27980  27990  28000  \n",
      "28010  28020  28030  28040  28050  28060  28070  28080  28090  28100  \n",
      "28110  28120  28130  28140  28150  28160  28170  28180  28190  28200  \n",
      "28210  28220  28230  28240  28250  28260  28270  28280  28290  28300  \n",
      "28310  28320  28330  28340  28350  28360  28370  28380  28390  28400  \n",
      "28410  28420  28430  28440  28450  28460  28470  28480  "
     ]
    },
    {
     "name": "stderr",
     "output_type": "stream",
     "text": [
      "HTTP Error for GET to https://api.spotify.com/v1/search with Params: {'q': 'artist:Tyler, The Creator Featuring Brent Faiyaz & Fana Hues track:Sweet / I Thought You Wanted To Dance', 'limit': 10, 'offset': 0, 'type': 'track', 'market': None} returned 404 due to Not found.\n"
     ]
    },
    {
     "name": "stdout",
     "output_type": "stream",
     "text": [
      "ERROR:   Tyler, The Creator Featuring Brent Faiyaz & Fana Hues Sweet / I Thought You Wanted To Dance\n",
      "28490  28500  \n",
      "28510  28520  28530  28540  28550  28560  28570  28580  28590  28600  \n",
      "28610  28620  28630  28640  28650  28660  28670  28680  28690  28700  \n",
      "28710  28720  28730  28740  28750  28760  28770  28780  28790  28800  \n",
      "28810  28820  28830  28840  28850  28860  28870  28880  28890  28900  \n",
      "28910  28920  28930  28940  28950  28960  28970  28980  28990  29000  \n",
      "29010  29020  29030  29040  29050  29060  29070  29080  29090  29100  \n",
      "29110  29120  29130  29140  29150  29160  29170  29180  29190  29200  \n",
      "29210  29220  29230  29240  29250  29260  29270  29280  29290  29300  \n",
      "29310  29320  29330  29340  29350  29360  29370  29380  29390  29400  \n",
      "29410  29420  29430  29440  29450  29460  29470  29480  29490  29500  \n",
      "29510  29520  29530  29540  29550  29560  29570  29580  29590  29600  \n",
      "29610  29620  29630  29640  29650  29660  29670  "
     ]
    },
    {
     "name": "stderr",
     "output_type": "stream",
     "text": [
      "HTTP Error for GET to https://api.spotify.com/v1/search with Params: {'q': \"artist:will.i.am Featuring Miley Cyrus, French Montana, Wiz Khalifa & DJ Mustard track:Feelin' Myself\", 'limit': 10, 'offset': 0, 'type': 'track', 'market': None} returned 404 due to Not found.\n"
     ]
    },
    {
     "name": "stdout",
     "output_type": "stream",
     "text": [
      "29680  ERROR:   will.i.am Featuring Miley Cyrus, French Montana, Wiz Khalifa & DJ Mustard Feelin' Myself\n"
     ]
    }
   ],
   "source": [
    "# start over at\n",
    "start_over_at = 22953\n",
    "\n",
    "# populate df_billboard_songs with ids, where available\n",
    "for i, row in df_billboard_songs.iterrows():\n",
    "    \n",
    "    # start over at\n",
    "    if i < start_over_at-1:\n",
    "        continue\n",
    "    \n",
    "    # show status\n",
    "    if i%10 == 0:\n",
    "        print(i, end='  ')\n",
    "    if i%100 == 0:\n",
    "        print()\n",
    "        \n",
    "    # start over where we finished\n",
    "    if df_billboard_songs['id'].iloc[i] != '':  \n",
    "        continue\n",
    "    # append id, NONE, or 'ERROR'\n",
    "    else:\n",
    "        artist = row[1]\n",
    "        song = row[0]\n",
    "        try:\n",
    "            # unless there is an error, will append the id or None\n",
    "            df_billboard_songs['id'].iloc[i] = find_id(song, artist, metadata_ids)\n",
    "        except:  # any error needs to be dealt with manually\n",
    "            # if there is an error, change id to 'ERROR'\n",
    "            print('ERROR:  ', artist, song)\n",
    "            df_billboard_songs['id'].iloc[i] = 'ERROR'\n",
    "        # save every 1000 rows, if new\n",
    "        if i%1000 == 0:\n",
    "            df_billboard_songs.to_csv('df_billboard_songs_TEMP.csv', index=False)\n",
    "        \n",
    "# save final dataframe\n",
    "df_billboard_songs.to_csv('df_billboard_songs.csv', index=False)"
   ]
  },
  {
   "cell_type": "code",
   "execution_count": 13,
   "id": "7a5d9c35",
   "metadata": {},
   "outputs": [
    {
     "data": {
      "text/plain": [
       "24019"
      ]
     },
     "execution_count": 13,
     "metadata": {},
     "output_type": "execute_result"
    }
   ],
   "source": [
    "# how many id have we added\n",
    "sum(df_billboard_songs.id != \"\")"
   ]
  },
  {
   "cell_type": "code",
   "execution_count": 17,
   "id": "61456231",
   "metadata": {},
   "outputs": [
    {
     "data": {
      "text/plain": [
       "5694"
      ]
     },
     "execution_count": 17,
     "metadata": {},
     "output_type": "execute_result"
    }
   ],
   "source": [
    "# check how many id match the metadata_ids\n",
    "sum(df_billboard_songs.id.isin(metadata_ids))\n",
    "\n",
    "# which have spotify ids, but don't match metadata_ids?\n",
    "# consider rechecking with metadata_ids_SQL"
   ]
  },
  {
   "cell_type": "code",
   "execution_count": 33,
   "id": "bc5b3071",
   "metadata": {},
   "outputs": [
    {
     "data": {
      "text/plain": [
       "(8741672, 1)"
      ]
     },
     "execution_count": 33,
     "metadata": {},
     "output_type": "execute_result"
    }
   ],
   "source": [
    "# check how many id match the ids from the SQLite database\n",
    "metadata_ids_SQL = pd.read_csv('all_ids_sql.csv', header=None, names=['id'])\n",
    "metadata_ids_SQL.shape"
   ]
  },
  {
   "cell_type": "code",
   "execution_count": 35,
   "id": "f32a65c0",
   "metadata": {},
   "outputs": [],
   "source": [
    "metadata_ids_SQL = list(metadata_ids_SQL.id)"
   ]
  },
  {
   "cell_type": "code",
   "execution_count": 37,
   "id": "b2bc3a51",
   "metadata": {},
   "outputs": [
    {
     "data": {
      "text/plain": [
       "14313"
      ]
     },
     "execution_count": 37,
     "metadata": {},
     "output_type": "execute_result"
    }
   ],
   "source": [
    "sum(df_billboard_songs.id.isin(metadata_ids_SQL))"
   ]
  },
  {
   "cell_type": "code",
   "execution_count": 86,
   "id": "9467fd75",
   "metadata": {},
   "outputs": [
    {
     "data": {
      "text/plain": [
       "(7128, 4)"
      ]
     },
     "execution_count": 86,
     "metadata": {},
     "output_type": "execute_result"
    }
   ],
   "source": [
    "# separate matching from non-matching dataframes\n",
    "df_missing = df_billboard_songs[~df_billboard_songs.id.isin(metadata_ids_SQL)]\n",
    "df_missing = df_missing[~df_missing.id.isin(metadata_ids)]  # 9650 without this, 7128 with (2500 in smaller dataset)\n",
    "df_missing = df_missing[(df_missing.id!='') & (df_missing.id!='ERROR')].reset_index() # keep old index for merging later\n",
    "df_missing.shape"
   ]
  },
  {
   "cell_type": "code",
   "execution_count": 87,
   "id": "548c113a",
   "metadata": {},
   "outputs": [
    {
     "data": {
      "text/html": [
       "<div>\n",
       "<style scoped>\n",
       "    .dataframe tbody tr th:only-of-type {\n",
       "        vertical-align: middle;\n",
       "    }\n",
       "\n",
       "    .dataframe tbody tr th {\n",
       "        vertical-align: top;\n",
       "    }\n",
       "\n",
       "    .dataframe thead th {\n",
       "        text-align: right;\n",
       "    }\n",
       "</style>\n",
       "<table border=\"1\" class=\"dataframe\">\n",
       "  <thead>\n",
       "    <tr style=\"text-align: right;\">\n",
       "      <th></th>\n",
       "      <th>index</th>\n",
       "      <th>song</th>\n",
       "      <th>artist</th>\n",
       "      <th>id</th>\n",
       "    </tr>\n",
       "  </thead>\n",
       "  <tbody>\n",
       "    <tr>\n",
       "      <th>0</th>\n",
       "      <td>1</td>\n",
       "      <td>What Now My Love</td>\n",
       "      <td>\"Groove\" Holmes</td>\n",
       "      <td>11Aldbvo6UCcVhBzv4oUdw</td>\n",
       "    </tr>\n",
       "    <tr>\n",
       "      <th>1</th>\n",
       "      <td>24</td>\n",
       "      <td>Music Of My Heart</td>\n",
       "      <td>'N Sync &amp; Gloria Estefan</td>\n",
       "      <td>5smPCwVq1pp9b9mnhKRxQj</td>\n",
       "    </tr>\n",
       "    <tr>\n",
       "      <th>2</th>\n",
       "      <td>78</td>\n",
       "      <td>Watch Out</td>\n",
       "      <td>2 Chainz</td>\n",
       "      <td>0w2MsTyHDjPxNqqXY5o8wb</td>\n",
       "    </tr>\n",
       "    <tr>\n",
       "      <th>3</th>\n",
       "      <td>95</td>\n",
       "      <td>El Trago (The Drink)</td>\n",
       "      <td>2 In A Room</td>\n",
       "      <td>14gC7IS8BFlzabcoqR1iNW</td>\n",
       "    </tr>\n",
       "    <tr>\n",
       "      <th>4</th>\n",
       "      <td>97</td>\n",
       "      <td>Walk Tall</td>\n",
       "      <td>2 Of Clubs</td>\n",
       "      <td>6byQuxXOHoos4pB8AnzuM3</td>\n",
       "    </tr>\n",
       "  </tbody>\n",
       "</table>\n",
       "</div>"
      ],
      "text/plain": [
       "   index                  song                    artist  \\\n",
       "0      1      What Now My Love           \"Groove\" Holmes   \n",
       "1     24     Music Of My Heart  'N Sync & Gloria Estefan   \n",
       "2     78             Watch Out                  2 Chainz   \n",
       "3     95  El Trago (The Drink)               2 In A Room   \n",
       "4     97             Walk Tall                2 Of Clubs   \n",
       "\n",
       "                       id  \n",
       "0  11Aldbvo6UCcVhBzv4oUdw  \n",
       "1  5smPCwVq1pp9b9mnhKRxQj  \n",
       "2  0w2MsTyHDjPxNqqXY5o8wb  \n",
       "3  14gC7IS8BFlzabcoqR1iNW  \n",
       "4  6byQuxXOHoos4pB8AnzuM3  "
      ]
     },
     "execution_count": 87,
     "metadata": {},
     "output_type": "execute_result"
    }
   ],
   "source": [
    "df_missing.head()"
   ]
  },
  {
   "cell_type": "code",
   "execution_count": 45,
   "id": "32aa32d2",
   "metadata": {},
   "outputs": [],
   "source": [
    "# search again for df_missing using metadata_ids_SQL\n",
    "\n",
    "def find_exact_id(track_title, artist_name, metadata_ids):\n",
    "    \"\"\" \n",
    "    same as above, but returns 'MISSING' if not found in metadata_ids\n",
    "    \"\"\"\n",
    "    track_info = spotify.search(q='artist:' + artist_name + ' track:' + track_title, type='track')\n",
    "    \n",
    "    if track_info['tracks']['items'] == []:  # if track doesn't exist on Spotify\n",
    "        return 'MISSING'\n",
    "    else:\n",
    "        # check if there is a match\n",
    "        number_of_results = len(track_info['tracks']['items'])\n",
    "        \n",
    "        for i in range(number_of_results):\n",
    "            track_id = track_info['tracks']['items'][i]['id']\n",
    "            if track_id in metadata_ids:\n",
    "                return track_id\n",
    "        \n",
    "        # if we haven't returned a match, return 'MISSING'\n",
    "        return 'MISSING'\n"
   ]
  },
  {
   "cell_type": "code",
   "execution_count": 88,
   "id": "92adf1b8",
   "metadata": {},
   "outputs": [
    {
     "data": {
      "text/plain": [
       "'7CfCUjAZFndcpAWLogl9J3'"
      ]
     },
     "execution_count": 88,
     "metadata": {},
     "output_type": "execute_result"
    }
   ],
   "source": [
    "# TEST\n",
    "find_id(\"You Can't Turn Me Off (In The Middle Of Turning Me On)\", 'High Inergy', metadata_ids)"
   ]
  },
  {
   "cell_type": "code",
   "execution_count": 93,
   "id": "56a4903d",
   "metadata": {},
   "outputs": [
    {
     "data": {
      "text/plain": [
       "'7CfCUjAZFndcpAWLogl9J3'"
      ]
     },
     "execution_count": 93,
     "metadata": {},
     "output_type": "execute_result"
    }
   ],
   "source": [
    "# TEST\n",
    "find_exact_id(\"You Can't Turn Me Off (In The Middle Of Turning Me On)\", 'High Inergy', metadata_ids_SQL)"
   ]
  },
  {
   "cell_type": "code",
   "execution_count": 89,
   "id": "81fce28a",
   "metadata": {},
   "outputs": [
    {
     "data": {
      "text/plain": [
       "'MISSING'"
      ]
     },
     "execution_count": 89,
     "metadata": {},
     "output_type": "execute_result"
    }
   ],
   "source": [
    "# TEST\n",
    "find_exact_id(\"You can't find this song\", 'not real artist', metadata_ids_SQL)"
   ]
  },
  {
   "cell_type": "code",
   "execution_count": 94,
   "id": "d0e252ab",
   "metadata": {},
   "outputs": [
    {
     "name": "stdout",
     "output_type": "stream",
     "text": [
      "0  \n",
      "10  20  30  40  50  60  70  80  90  100  \n",
      "110  120  130  140  150  160  170  180  190  200  \n",
      "210  220  230  240  250  260  270  280  290  300  \n",
      "310  320  330  340  350  360  370  380  390  400  \n",
      "410  420  430  440  450  460  470  480  490  500  \n",
      "510  520  530  540  550  560  570  580  590  600  \n",
      "610  620  630  640  650  660  670  680  690  700  \n",
      "710  720  730  740  750  760  770  780  790  800  \n",
      "810  820  830  840  850  860  870  880  890  900  \n",
      "910  920  930  940  950  960  970  980  990  1000  \n",
      "1010  1020  1030  1040  1050  1060  1070  1080  1090  1100  \n",
      "1110  1120  1130  1140  1150  1160  1170  1180  1190  1200  \n",
      "1210  1220  1230  1240  1250  1260  1270  1280  1290  1300  \n",
      "1310  1320  1330  1340  1350  1360  1370  1380  1390  1400  \n",
      "1410  1420  1430  1440  1450  1460  1470  1480  1490  1500  \n",
      "1510  1520  1530  1540  1550  1560  1570  1580  1590  1600  \n",
      "1610  1620  1630  1640  1650  1660  1670  1680  1690  1700  \n",
      "1710  1720  1730  1740  1750  1760  1770  1780  1790  1800  \n",
      "1810  1820  1830  1840  1850  1860  1870  1880  1890  1900  \n",
      "1910  1920  1930  1940  1950  1960  1970  1980  1990  2000  \n",
      "2010  2020  2030  2040  2050  2060  2070  2080  2090  2100  \n",
      "2110  2120  2130  2140  2150  2160  2170  2180  2190  2200  \n",
      "2210  2220  2230  2240  2250  2260  2270  2280  2290  2300  \n",
      "2310  2320  2330  2340  2350  2360  2370  2380  2390  2400  \n",
      "2410  2420  2430  2440  2450  2460  2470  2480  2490  2500  \n",
      "2510  2520  2530  2540  2550  2560  2570  2580  2590  2600  \n",
      "2610  2620  2630  2640  2650  2660  2670  2680  2690  2700  \n",
      "2710  2720  2730  2740  2750  2760  2770  2780  2790  2800  \n",
      "2810  2820  2830  2840  2850  2860  2870  2880  2890  2900  \n",
      "2910  2920  2930  2940  2950  2960  2970  2980  2990  3000  \n",
      "3010  3020  3030  3040  3050  3060  3070  3080  3090  3100  \n",
      "3110  3120  3130  3140  3150  3160  3170  3180  3190  3200  \n",
      "3210  3220  3230  3240  3250  3260  3270  3280  3290  3300  \n",
      "3310  3320  3330  3340  3350  3360  3370  3380  3390  3400  \n",
      "3410  3420  3430  3440  3450  3460  3470  3480  3490  3500  \n",
      "3510  3520  3530  3540  3550  3560  3570  3580  3590  3600  \n",
      "3610  3620  3630  3640  3650  3660  3670  3680  3690  3700  \n",
      "3710  3720  3730  3740  3750  3760  3770  3780  3790  3800  \n",
      "3810  3820  3830  3840  3850  3860  3870  3880  3890  3900  \n",
      "3910  3920  3930  3940  3950  3960  3970  3980  3990  4000  \n",
      "4010  4020  4030  4040  4050  4060  4070  4080  4090  4100  \n",
      "4110  4120  4130  4140  4150  4160  4170  4180  4190  4200  \n",
      "4210  4220  4230  4240  4250  4260  4270  4280  4290  4300  \n",
      "4310  4320  4330  4340  4350  4360  4370  4380  4390  4400  \n",
      "4410  4420  4430  4440  4450  4460  4470  4480  4490  4500  \n",
      "4510  4520  4530  4540  4550  4560  4570  4580  4590  4600  \n",
      "4610  4620  4630  4640  4650  4660  4670  4680  4690  4700  \n",
      "4710  4720  4730  4740  4750  4760  4770  4780  4790  4800  \n",
      "4810  4820  4830  4840  4850  4860  4870  4880  4890  4900  \n",
      "4910  4920  4930  4940  4950  4960  4970  4980  4990  5000  \n",
      "5010  5020  5030  5040  5050  5060  5070  5080  5090  5100  \n",
      "5110  5120  5130  5140  5150  5160  5170  5180  5190  5200  \n",
      "5210  5220  5230  5240  5250  5260  5270  5280  5290  5300  \n",
      "5310  5320  5330  5340  5350  5360  5370  5380  5390  5400  \n",
      "5410  5420  5430  5440  5450  5460  5470  5480  5490  5500  \n",
      "5510  5520  5530  5540  5550  5560  5570  5580  5590  5600  \n",
      "5610  5620  5630  5640  5650  5660  5670  5680  5690  5700  \n",
      "5710  5720  5730  5740  5750  5760  5770  5780  5790  5800  \n",
      "5810  5820  5830  5840  5850  5860  5870  5880  5890  5900  \n",
      "5910  5920  5930  5940  5950  5960  5970  5980  5990  6000  \n",
      "6010  6020  6030  6040  6050  6060  6070  6080  6090  6100  \n",
      "6110  6120  6130  6140  6150  6160  6170  6180  6190  6200  \n",
      "6210  6220  6230  6240  6250  6260  6270  6280  6290  6300  \n",
      "6310  6320  6330  6340  6350  6360  6370  6380  6390  6400  \n",
      "6410  6420  6430  6440  6450  6460  6470  6480  6490  6500  \n",
      "6510  6520  6530  6540  6550  6560  6570  6580  6590  6600  \n",
      "6610  6620  6630  6640  6650  6660  6670  6680  6690  6700  \n",
      "6710  6720  6730  6740  6750  6760  6770  6780  6790  6800  \n",
      "6810  6820  6830  6840  6850  6860  6870  6880  6890  6900  \n",
      "6910  6920  6930  6940  6950  6960  6970  6980  6990  7000  \n",
      "7010  7020  7030  7040  7050  7060  7070  7080  7090  7100  \n",
      "7110  7120  "
     ]
    }
   ],
   "source": [
    "# start over at\n",
    "start_over_at = 0\n",
    "\n",
    "# populate df_missing with ids, where available, 'MISSING' otherwise\n",
    "for i, row in df_missing.iterrows():\n",
    "        \n",
    "    # start over at\n",
    "    if i < start_over_at-1:\n",
    "        continue\n",
    "        \n",
    "    # show status\n",
    "    if i%10 == 0:\n",
    "        print(i, end='  ')\n",
    "    if i%100 == 0:\n",
    "        print()\n",
    "        \n",
    "    # UPDATE THIS IF DROP INDEX IN RESET INDEX\n",
    "    artist = row[2]\n",
    "    song = row[1]\n",
    "    \n",
    "    try:\n",
    "        # unless there is an error, will append the id or None\n",
    "        df_missing['id'].iloc[i] = find_exact_id(song, artist, metadata_ids_SQL)\n",
    "    except:  # any error needs to be dealt with manually\n",
    "        # if there is an error, change id to 'ERROR'\n",
    "        print('ERROR:  ', artist, song)\n",
    "        df_missing['id'].iloc[i] = 'ERROR'\n",
    "    \n",
    "    # save every 1000 rows\n",
    "    if i%1000 == 0:\n",
    "        df_missing.to_csv('df_missing_TEMP.csv', index=False)\n",
    "        \n",
    "# save final dataframe\n",
    "df_missing.to_csv('df_missing.csv', index=False)"
   ]
  },
  {
   "cell_type": "markdown",
   "id": "158a1c97",
   "metadata": {},
   "source": [
    "### RE-RUN BELOW (load csv first)"
   ]
  },
  {
   "cell_type": "code",
   "execution_count": null,
   "id": "c3f23bd5",
   "metadata": {},
   "outputs": [],
   "source": [
    "# RELOAD FROM CSV\n",
    "\n",
    "df_missing = pd.read_csv('df_missing.csv', keep_default_na=False)\n",
    "df_missing.head()"
   ]
  },
  {
   "cell_type": "code",
   "execution_count": 56,
   "id": "64c3121c",
   "metadata": {},
   "outputs": [
    {
     "data": {
      "text/plain": [
       "1265"
      ]
     },
     "execution_count": 56,
     "metadata": {},
     "output_type": "execute_result"
    }
   ],
   "source": [
    "# number of tracks missing from both datasets, but on Spotify\n",
    "sum(df_missing.id == 'MISSING')\n",
    "\n",
    "# OPTIONAL: could use API to get these sound features"
   ]
  },
  {
   "cell_type": "code",
   "execution_count": 65,
   "id": "3d937468",
   "metadata": {},
   "outputs": [
    {
     "data": {
      "text/plain": [
       "(9650, 9650)"
      ]
     },
     "execution_count": 65,
     "metadata": {},
     "output_type": "execute_result"
    }
   ],
   "source": [
    "df_missing.shape[0], sum(df_missing.id == 'MISSING') + sum(df_missing.id != 'MISSING')"
   ]
  },
  {
   "cell_type": "code",
   "execution_count": null,
   "id": "a21d2382",
   "metadata": {},
   "outputs": [],
   "source": [
    "# revised_ids = \n",
    "df_missing[(df_missing.id != 'MISSING') & (df_missing.id != '')]"
   ]
  },
  {
   "cell_type": "code",
   "execution_count": 55,
   "id": "9d406441",
   "metadata": {},
   "outputs": [
    {
     "data": {
      "text/plain": [
       "1265"
      ]
     },
     "execution_count": 55,
     "metadata": {},
     "output_type": "execute_result"
    }
   ],
   "source": [
    "# how many tracks are in 1.2M but not 8M?\n",
    "\n",
    "\n",
    "\n",
    "# what about from the billboard 100?\n",
    "\n",
    "\n"
   ]
  },
  {
   "cell_type": "code",
   "execution_count": null,
   "id": "f8471982",
   "metadata": {},
   "outputs": [],
   "source": []
  },
  {
   "cell_type": "code",
   "execution_count": null,
   "id": "785ad520",
   "metadata": {},
   "outputs": [],
   "source": []
  },
  {
   "cell_type": "code",
   "execution_count": null,
   "id": "aa76a699",
   "metadata": {},
   "outputs": [],
   "source": [
    "# recombine df_missing with df_billboard_songs\n",
    "# separate songs still missing\n",
    "    # not on spotify \n",
    "    # on spotify, but not either dataset\n",
    "\n"
   ]
  },
  {
   "cell_type": "code",
   "execution_count": null,
   "id": "e6866c60",
   "metadata": {},
   "outputs": [],
   "source": [
    "# check the percentage of songs accounted for\n",
    "\n"
   ]
  },
  {
   "cell_type": "code",
   "execution_count": null,
   "id": "fec8a795",
   "metadata": {},
   "outputs": [],
   "source": [
    "# now merge with entire billboard list\n",
    "\n",
    "\n",
    "\n",
    "# count the percentage of songs accounted for in the entire set"
   ]
  },
  {
   "cell_type": "code",
   "execution_count": null,
   "id": "4eb6774d",
   "metadata": {},
   "outputs": [],
   "source": []
  },
  {
   "cell_type": "markdown",
   "id": "de01a700",
   "metadata": {},
   "source": [
    "### 8+ M. Spotify Tracks, Genre, Audio Features (SQLite)\n",
    "https://www.kaggle.com/datasets/maltegrosse/8-m-spotify-tracks-genre-audio-features"
   ]
  },
  {
   "cell_type": "code",
   "execution_count": null,
   "id": "ee495f3b",
   "metadata": {},
   "outputs": [],
   "source": [
    "url_8M_sql = 'D:\\RYERSON\\820\\Datasets\\8+ M. Spotify Tracks, Genre, Audio Features\\spotify.sqlite'\n",
    "url_8M_csv = 'all_audio_features_sql.csv'  # .gitignore (very big)\n"
   ]
  },
  {
   "cell_type": "code",
   "execution_count": null,
   "id": "dadd7df4",
   "metadata": {},
   "outputs": [],
   "source": []
  },
  {
   "cell_type": "code",
   "execution_count": null,
   "id": "762e11d4",
   "metadata": {},
   "outputs": [],
   "source": []
  },
  {
   "cell_type": "code",
   "execution_count": null,
   "id": "c2ad9f46",
   "metadata": {},
   "outputs": [],
   "source": []
  },
  {
   "cell_type": "markdown",
   "id": "400e6167",
   "metadata": {},
   "source": [
    "### Merge all Datasets into Billboard Features, \n",
    "export Billboard Features and All Features"
   ]
  },
  {
   "cell_type": "code",
   "execution_count": null,
   "id": "9bc0f838",
   "metadata": {},
   "outputs": [],
   "source": []
  },
  {
   "cell_type": "code",
   "execution_count": null,
   "id": "0cb47a45",
   "metadata": {},
   "outputs": [],
   "source": []
  },
  {
   "cell_type": "code",
   "execution_count": null,
   "id": "cd3bfcb3",
   "metadata": {},
   "outputs": [],
   "source": []
  },
  {
   "cell_type": "code",
   "execution_count": null,
   "id": "bcee2d59",
   "metadata": {},
   "outputs": [],
   "source": []
  }
 ],
 "metadata": {
  "kernelspec": {
   "display_name": "Python 3 (ipykernel)",
   "language": "python",
   "name": "python3"
  },
  "language_info": {
   "codemirror_mode": {
    "name": "ipython",
    "version": 3
   },
   "file_extension": ".py",
   "mimetype": "text/x-python",
   "name": "python",
   "nbconvert_exporter": "python",
   "pygments_lexer": "ipython3",
   "version": "3.9.7"
  }
 },
 "nbformat": 4,
 "nbformat_minor": 5
}
