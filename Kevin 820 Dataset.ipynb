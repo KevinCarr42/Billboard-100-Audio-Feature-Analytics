{
 "cells": [
  {
   "cell_type": "code",
   "execution_count": 1,
   "id": "b92fb833",
   "metadata": {},
   "outputs": [
    {
     "data": {
      "text/html": [
       "<style>.container { width:100% !important; }</style>"
      ],
      "text/plain": [
       "<IPython.core.display.HTML object>"
      ]
     },
     "metadata": {},
     "output_type": "display_data"
    }
   ],
   "source": [
    "# import modules\n",
    "import pandas as pd\n",
    "import numpy as np\n",
    "import spotipy\n",
    "\n",
    "# full-width display\n",
    "from IPython.core.display import display, HTML\n",
    "display(HTML(\"<style>.container { width:100% !important; }</style>\"))\n",
    "\n",
    "# pandas format\n",
    "pd.set_option('display.float_format', '{:_.0f}'.format)\n",
    "# NOTE: underscore separaters ('_') are better than commas (',') because \n",
    "# numbers with underscores work in Python without any extra effort.\n",
    "pd.set_option('display.max_columns', None)\n",
    "pd.set_option('display.max_rows', 100)\n",
    "\n",
    "# spotipy\n",
    "import spotipy\n",
    "from spotipy.oauth2 import SpotifyClientCredentials\n",
    "\n",
    "# used for AUTHORIZATION WORKFLOW (abandoned)\n",
    "# CONFIDENTIAL.py included in .gitignore, contains private API key\n",
    "# use link above to get a client_id and client_secret from developer.spotify.com\n",
    "from CONFIDENTIAL import client_id, client_secret, redirect_uri"
   ]
  },
  {
   "cell_type": "markdown",
   "id": "f6c8526b",
   "metadata": {},
   "source": [
    "### The Billboard 100"
   ]
  },
  {
   "cell_type": "code",
   "execution_count": 2,
   "id": "c5a90136",
   "metadata": {},
   "outputs": [],
   "source": [
    "# Billboard Top 100 Historical Data\n",
    "# link:  https://www.kaggle.com/datasets/dhruvildave/billboard-the-hot-100-songs\n",
    "# via:  https://toolbox.google.com/datasetsearch\n",
    "url_billboard = r'D:\\RYERSON\\820\\Datasets\\Billboard The Hot 100 Songs\\charts.csv'\n",
    "\n",
    "df_billboard = pd.read_csv(url_billboard)\n",
    "df_billboard['date'] = pd.to_datetime(df_billboard['date'])"
   ]
  },
  {
   "cell_type": "markdown",
   "id": "c34c3dd5",
   "metadata": {},
   "source": [
    "### Unique Songs from The Billboard 100 Dataset"
   ]
  },
  {
   "cell_type": "code",
   "execution_count": 3,
   "id": "a8a0584e",
   "metadata": {},
   "outputs": [
    {
     "data": {
      "text/plain": [
       "(29681, 3)"
      ]
     },
     "execution_count": 3,
     "metadata": {},
     "output_type": "execute_result"
    }
   ],
   "source": [
    "# just the songs on the billboard 100, once per song\n",
    "df_billboard_songs = df_billboard[['song', 'artist']].drop_duplicates().sort_values(['artist', 'song']).reset_index(drop=True)\n",
    "\n",
    "# add a blank id column\n",
    "df_billboard_songs['id'] = ''\n",
    "\n",
    "df_billboard_songs.shape"
   ]
  },
  {
   "cell_type": "markdown",
   "id": "2e30aa88",
   "metadata": {},
   "source": [
    "### 1.2M Songs with Metadata (csv)\n",
    "https://www.kaggle.com/datasets/rodolfofigueroa/spotify-12m-songs"
   ]
  },
  {
   "cell_type": "code",
   "execution_count": 5,
   "id": "87b1cea3",
   "metadata": {},
   "outputs": [],
   "source": [
    "# there are ~30k songs on the Billboard 100 list\n",
    "# let's see how many are here:\n",
    "# https://www.kaggle.com/datasets/rodolfofigueroa/spotify-12m-songs\n",
    "# via:  https://www.kaggle.com/datasets/\n",
    "# Spotify 1.2M+ Songs\n",
    "url_1M_songs = r'D:\\RYERSON\\820\\Datasets\\Spotify 1.2M+ Songs\\tracks_features.csv'\n",
    "\n",
    "# create the dataframe with the large number of songs metadata\n",
    "df_1M_songs = pd.read_csv(url_1M_songs)\n",
    "\n",
    "# make a list of song ids from the 1M dataset\n",
    "metadata_ids = list(df_1M_songs.id)"
   ]
  },
  {
   "cell_type": "markdown",
   "id": "e7b3b605",
   "metadata": {},
   "source": [
    "### Get Spotify IDs using API\n",
    "(to join with large datasets)"
   ]
  },
  {
   "cell_type": "markdown",
   "id": "150fbd51",
   "metadata": {},
   "source": [
    "https://developer.spotify.com/terms/\n",
    "\n",
    "##### Useful Spotify API Features\n",
    "\n",
    "https://developer.spotify.com/documentation/web-api/reference/#/operations/get-several-audio-features\n",
    "\n",
    "https://developer.spotify.com/documentation/web-api/reference/#/operations/get-recommendations\n",
    "\n",
    "##### Other Links\n",
    "\n",
    "my app:\n",
    "https://developer.spotify.com/dashboard/applications/cd5ce2cb690543ff9967e817d4665543\n",
    "\n",
    "a tutorial: \n",
    "https://www.youtube.com/watch?v=cU8YH2rhN6A&ab_channel=Elbert"
   ]
  },
  {
   "cell_type": "code",
   "execution_count": null,
   "id": "8249bd06",
   "metadata": {},
   "outputs": [],
   "source": [
    "# # AUTHORIZATION WORKFLOW \n",
    "# # (doens't work anymore, I think I was throttled, but can't get any error messages)\n",
    "\n",
    "# # https://developer.spotify.com/documentation/general/guides/authorization/scopes/\n",
    "# # i think this is the right scope, but nothing works when I connect to my app\n",
    "# scope = 'user-read-private'\n",
    "\n",
    "# oauth = spotipy.SpotifyOAuth(\n",
    "#     client_id=client_id,\n",
    "#     client_secret=client_secret,\n",
    "#     redirect_uri=redirect_uri,\n",
    "#     scope=scope\n",
    "# )\n",
    "\n",
    "# oauth = spotipy.SpotifyOAuth(\n",
    "#     client_id=client_id,\n",
    "#     client_secret=client_secret,\n",
    "#     redirect_uri=redirect_uri\n",
    "# )\n",
    "\n",
    "# cached_token = oauth.get_cached_token()\n",
    "\n",
    "# # create a spotify object\n",
    "# spotify = spotipy.Spotify(auth=cached_token['access_token'])"
   ]
  },
  {
   "cell_type": "markdown",
   "id": "707d9605",
   "metadata": {},
   "source": [
    "### TEMPORARY TOKEN WORKFLOW\n",
    "\n",
    "##### get a temporary authorization token from: https://developer.spotify.com/console/get-search-item"
   ]
  },
  {
   "cell_type": "code",
   "execution_count": 48,
   "id": "418a133f",
   "metadata": {},
   "outputs": [
    {
     "name": "stdout",
     "output_type": "stream",
     "text": [
      "Enter token: BQAQQ8tBekmiEmil6S3FiqdL_vosBNEm7fH2wow7izhFYQ6wcn-z8baA6VtQp-47KcOUN5izYuJllx9lqaTuyqcQaLALtS0lbVomikxHwF41cLM-eGTKPWdHdzSqxndBeTyS9m93KnPeurMwjxzT5Q-LJx8VtuhD7BSrwHisEIf9\n"
     ]
    }
   ],
   "source": [
    "# input the temporary token\n",
    "TEMP_TOKEN = input('Enter token: ')"
   ]
  },
  {
   "cell_type": "code",
   "execution_count": 49,
   "id": "c69df7c2",
   "metadata": {},
   "outputs": [],
   "source": [
    "# create a spotify object\n",
    "spotify = spotipy.Spotify(auth=TEMP_TOKEN)"
   ]
  },
  {
   "cell_type": "code",
   "execution_count": 8,
   "id": "f8d8d6bf",
   "metadata": {},
   "outputs": [],
   "source": [
    "def find_id(track_title, artist_name, metadata_ids):\n",
    "    \"\"\" \n",
    "    for searches with multiple results, all id were identical for the test cases I ran \n",
    "    some searches return no results, in this case the song is not on spotify\n",
    "        confirmed by spot checks in the spotify music player\n",
    "    some tracks give a 404 error, \n",
    "        these seem to exist in Spotify but 404 anyway\n",
    "        not sure why the API does this but \n",
    "    \"\"\"\n",
    "    track_info = spotify.search(q='artist:' + artist_name + ' track:' + track_title, type='track')\n",
    "    \n",
    "    if track_info['tracks']['items'] == []:  # if track doesn't exist on Spotify\n",
    "        return None\n",
    "    else:\n",
    "        # set the id to the first result\n",
    "        track_id = track_info['tracks']['items'][0]['id']\n",
    "        \n",
    "        # check if there is a better match\n",
    "        number_of_results = len(track_info['tracks']['items'])\n",
    "        \n",
    "        for i in range(number_of_results):\n",
    "            alt_track_id = track_info['tracks']['items'][i]['id']\n",
    "            if alt_track_id in metadata_ids:\n",
    "                track_id = track_info['tracks']['items'][i]['id']\n",
    "        \n",
    "        return track_id"
   ]
  },
  {
   "cell_type": "code",
   "execution_count": 9,
   "id": "35d16c46",
   "metadata": {},
   "outputs": [
    {
     "data": {
      "text/plain": [
       "'7CfCUjAZFndcpAWLogl9J3'"
      ]
     },
     "execution_count": 9,
     "metadata": {},
     "output_type": "execute_result"
    }
   ],
   "source": [
    "# TEST\n",
    "find_id(\"You Can't Turn Me Off (In The Middle Of Turning Me On)\", 'High Inergy', metadata_ids)"
   ]
  },
  {
   "cell_type": "markdown",
   "id": "3432b777",
   "metadata": {},
   "source": [
    "### Add Spotify IDs to billboard songs"
   ]
  },
  {
   "cell_type": "code",
   "execution_count": 10,
   "id": "5c8b67a2",
   "metadata": {},
   "outputs": [
    {
     "data": {
      "text/html": [
       "<div>\n",
       "<style scoped>\n",
       "    .dataframe tbody tr th:only-of-type {\n",
       "        vertical-align: middle;\n",
       "    }\n",
       "\n",
       "    .dataframe tbody tr th {\n",
       "        vertical-align: top;\n",
       "    }\n",
       "\n",
       "    .dataframe thead th {\n",
       "        text-align: right;\n",
       "    }\n",
       "</style>\n",
       "<table border=\"1\" class=\"dataframe\">\n",
       "  <thead>\n",
       "    <tr style=\"text-align: right;\">\n",
       "      <th></th>\n",
       "      <th>song</th>\n",
       "      <th>artist</th>\n",
       "      <th>id</th>\n",
       "    </tr>\n",
       "  </thead>\n",
       "  <tbody>\n",
       "    <tr>\n",
       "      <th>0</th>\n",
       "      <td>Misty</td>\n",
       "      <td>\"Groove\" Holmes</td>\n",
       "      <td>7DZsH0df0GuULl0FGwXMfd</td>\n",
       "    </tr>\n",
       "    <tr>\n",
       "      <th>1</th>\n",
       "      <td>What Now My Love</td>\n",
       "      <td>\"Groove\" Holmes</td>\n",
       "      <td>11Aldbvo6UCcVhBzv4oUdw</td>\n",
       "    </tr>\n",
       "    <tr>\n",
       "      <th>2</th>\n",
       "      <td>May The Bird Of Paradise Fly Up Your Nose</td>\n",
       "      <td>\"Little\" Jimmy Dickens</td>\n",
       "      <td>1WpoMGLjlEUHlWhilsOkJA</td>\n",
       "    </tr>\n",
       "    <tr>\n",
       "      <th>3</th>\n",
       "      <td>I Know I Know</td>\n",
       "      <td>\"Pookie\" Hudson</td>\n",
       "      <td></td>\n",
       "    </tr>\n",
       "    <tr>\n",
       "      <th>4</th>\n",
       "      <td>Amish Paradise</td>\n",
       "      <td>\"Weird Al\" Yankovic</td>\n",
       "      <td>6nofbMbadUdrtZmIsBHyYE</td>\n",
       "    </tr>\n",
       "  </tbody>\n",
       "</table>\n",
       "</div>"
      ],
      "text/plain": [
       "                                        song                  artist  \\\n",
       "0                                      Misty         \"Groove\" Holmes   \n",
       "1                           What Now My Love         \"Groove\" Holmes   \n",
       "2  May The Bird Of Paradise Fly Up Your Nose  \"Little\" Jimmy Dickens   \n",
       "3                              I Know I Know         \"Pookie\" Hudson   \n",
       "4                             Amish Paradise     \"Weird Al\" Yankovic   \n",
       "\n",
       "                       id  \n",
       "0  7DZsH0df0GuULl0FGwXMfd  \n",
       "1  11Aldbvo6UCcVhBzv4oUdw  \n",
       "2  1WpoMGLjlEUHlWhilsOkJA  \n",
       "3                          \n",
       "4  6nofbMbadUdrtZmIsBHyYE  "
      ]
     },
     "execution_count": 10,
     "metadata": {},
     "output_type": "execute_result"
    }
   ],
   "source": [
    "# load saved csv as df\n",
    "df_billboard_songs = pd.read_csv('df_billboard_songs.csv', keep_default_na=False)"
   ]
  },
  {
   "cell_type": "code",
   "execution_count": 11,
   "id": "d0b6deb7",
   "metadata": {},
   "outputs": [
    {
     "data": {
      "text/plain": [
       "17180"
      ]
     },
     "execution_count": 11,
     "metadata": {},
     "output_type": "execute_result"
    }
   ],
   "source": [
    "df_billboard_songs.id.nunique()"
   ]
  },
  {
   "cell_type": "code",
   "execution_count": 12,
   "id": "46839b4e",
   "metadata": {
    "collapsed": true
   },
   "outputs": [
    {
     "name": "stdout",
     "output_type": "stream",
     "text": [
      "22960  22970  22980  22990  23000  \n",
      "23010  23020  23030  23040  23050  23060  23070  23080  23090  "
     ]
    },
    {
     "name": "stderr",
     "output_type": "stream",
     "text": [
      "HTTP Error for GET to https://api.spotify.com/v1/search with Params: {'q': 'artist:Steve Allen and His Orchestra with The Copacabana Trio track:Cuando Calienta El Sol (When The Sun Is Hot)', 'limit': 10, 'offset': 0, 'type': 'track', 'market': None} returned 404 due to Not found.\n"
     ]
    },
    {
     "name": "stdout",
     "output_type": "stream",
     "text": [
      "23100  \n",
      "ERROR:   Steve Allen and His Orchestra with The Copacabana Trio Cuando Calienta El Sol (When The Sun Is Hot)\n",
      "23110  23120  23130  23140  23150  23160  23170  23180  23190  23200  \n",
      "23210  23220  23230  23240  23250  23260  23270  23280  23290  23300  \n",
      "23310  23320  23330  23340  23350  23360  23370  23380  23390  23400  \n",
      "23410  23420  23430  23440  23450  23460  23470  23480  23490  23500  \n",
      "23510  23520  23530  23540  23550  23560  23570  23580  23590  23600  \n",
      "23610  23620  23630  "
     ]
    },
    {
     "name": "stderr",
     "output_type": "stream",
     "text": [
      "HTTP Error for GET to https://api.spotify.com/v1/search with Params: {'q': \"artist:Talking Heads track:Life During Wartime (This Ain't No Party...This Ain't No Disco...This Ain't\", 'limit': 10, 'offset': 0, 'type': 'track', 'market': None} returned 404 due to Not found.\n"
     ]
    },
    {
     "name": "stdout",
     "output_type": "stream",
     "text": [
      "ERROR:   Talking Heads Life During Wartime (This Ain't No Party...This Ain't No Disco...This Ain't\n",
      "23640  23650  23660  23670  23680  23690  23700  \n",
      "23710  23720  23730  23740  23750  23760  23770  23780  23790  23800  \n",
      "23810  23820  23830  23840  23850  23860  23870  23880  23890  23900  \n",
      "23910  23920  23930  23940  23950  23960  23970  23980  23990  24000  \n",
      "24010  24020  24030  24040  24050  24060  24070  24080  24090  24100  \n",
      "24110  24120  24130  24140  24150  24160  24170  24180  24190  24200  \n",
      "24210  24220  24230  24240  24250  "
     ]
    },
    {
     "name": "stderr",
     "output_type": "stream",
     "text": [
      "HTTP Error for GET to https://api.spotify.com/v1/search with Params: {'q': 'artist:The Barden Bellas, The Treblemakers & The BU Harmonics track:Riff Off: Mickey / Like A Virgin / Hit Me With Your Best Shot...', 'limit': 10, 'offset': 0, 'type': 'track', 'market': None} returned 404 due to Not found.\n"
     ]
    },
    {
     "name": "stdout",
     "output_type": "stream",
     "text": [
      "24260  ERROR:   The Barden Bellas, The Treblemakers & The BU Harmonics Riff Off: Mickey / Like A Virgin / Hit Me With Your Best Shot...\n",
      "24270  24280  24290  24300  \n",
      "24310  24320  24330  24340  24350  24360  24370  24380  24390  24400  \n",
      "24410  24420  24430  24440  24450  24460  24470  24480  24490  24500  \n",
      "24510  24520  24530  24540  24550  24560  24570  24580  24590  24600  \n",
      "24610  24620  24630  24640  24650  24660  24670  "
     ]
    },
    {
     "name": "stderr",
     "output_type": "stream",
     "text": [
      "HTTP Error for GET to https://api.spotify.com/v1/search with Params: {'q': 'artist:The Chi-lites track:There Will Never Be Any Peace (Until God Is Seated At The Conference Table)', 'limit': 10, 'offset': 0, 'type': 'track', 'market': None} returned 404 due to Not found.\n"
     ]
    },
    {
     "name": "stdout",
     "output_type": "stream",
     "text": [
      "ERROR:   The Chi-lites There Will Never Be Any Peace (Until God Is Seated At The Conference Table)\n",
      "24680  24690  24700  \n",
      "24710  24720  24730  24740  24750  24760  24770  24780  24790  24800  \n",
      "24810  24820  24830  24840  24850  24860  24870  24880  24890  24900  \n",
      "24910  24920  24930  24940  24950  24960  24970  24980  24990  25000  \n",
      "25010  25020  25030  25040  25050  25060  25070  25080  25090  25100  \n",
      "25110  25120  25130  25140  25150  25160  25170  25180  25190  25200  \n",
      "25210  25220  25230  25240  25250  25260  25270  25280  25290  25300  \n",
      "25310  25320  25330  25340  25350  25360  25370  25380  25390  25400  \n",
      "25410  25420  25430  25440  25450  25460  25470  25480  25490  25500  \n",
      "25510  25520  25530  25540  25550  25560  25570  25580  25590  25600  \n",
      "25610  25620  25630  25640  25650  25660  25670  25680  25690  25700  \n",
      "25710  25720  25730  25740  25750  25760  25770  25780  25790  25800  \n",
      "25810  25820  25830  25840  25850  25860  25870  25880  25890  25900  \n",
      "25910  25920  25930  25940  25950  25960  25970  25980  25990  26000  \n",
      "26010  26020  26030  26040  26050  26060  26070  26080  26090  26100  \n",
      "26110  26120  26130  26140  26150  26160  26170  26180  26190  26200  \n",
      "26210  26220  26230  26240  26250  26260  26270  26280  26290  26300  \n",
      "26310  26320  26330  26340  26350  26360  "
     ]
    },
    {
     "name": "stderr",
     "output_type": "stream",
     "text": [
      "HTTP Error for GET to https://api.spotify.com/v1/search with Params: {'q': 'artist:The Partridge Family Starring Shirley Jones Featuring David Cassidy track:Breaking Up Is Hard To Do', 'limit': 10, 'offset': 0, 'type': 'track', 'market': None} returned 404 due to Not found.\n",
      "HTTP Error for GET to https://api.spotify.com/v1/search with Params: {'q': \"artist:The Partridge Family Starring Shirley Jones Featuring David Cassidy track:Doesn't Somebody Want To Be Wanted\", 'limit': 10, 'offset': 0, 'type': 'track', 'market': None} returned 404 due to Not found.\n"
     ]
    },
    {
     "name": "stdout",
     "output_type": "stream",
     "text": [
      "ERROR:   The Partridge Family Starring Shirley Jones Featuring David Cassidy Breaking Up Is Hard To Do\n",
      "ERROR:   The Partridge Family Starring Shirley Jones Featuring David Cassidy Doesn't Somebody Want To Be Wanted\n"
     ]
    },
    {
     "name": "stderr",
     "output_type": "stream",
     "text": [
      "HTTP Error for GET to https://api.spotify.com/v1/search with Params: {'q': 'artist:The Partridge Family Starring Shirley Jones Featuring David Cassidy track:I Woke Up In Love This Morning', 'limit': 10, 'offset': 0, 'type': 'track', 'market': None} returned 404 due to Not found.\n",
      "HTTP Error for GET to https://api.spotify.com/v1/search with Params: {'q': \"artist:The Partridge Family Starring Shirley Jones Featuring David Cassidy track:I'll Meet You Halfway\", 'limit': 10, 'offset': 0, 'type': 'track', 'market': None} returned 404 due to Not found.\n",
      "HTTP Error for GET to https://api.spotify.com/v1/search with Params: {'q': \"artist:The Partridge Family Starring Shirley Jones Featuring David Cassidy track:It's One Of Those Nights (Yes Love)\", 'limit': 10, 'offset': 0, 'type': 'track', 'market': None} returned 404 due to Not found.\n"
     ]
    },
    {
     "name": "stdout",
     "output_type": "stream",
     "text": [
      "ERROR:   The Partridge Family Starring Shirley Jones Featuring David Cassidy I Woke Up In Love This Morning\n",
      "26370  ERROR:   The Partridge Family Starring Shirley Jones Featuring David Cassidy I'll Meet You Halfway\n",
      "ERROR:   The Partridge Family Starring Shirley Jones Featuring David Cassidy It's One Of Those Nights (Yes Love)\n"
     ]
    },
    {
     "name": "stderr",
     "output_type": "stream",
     "text": [
      "HTTP Error for GET to https://api.spotify.com/v1/search with Params: {'q': 'artist:The Partridge Family Starring Shirley Jones Featuring David Cassidy track:Looking Through The Eyes Of Love', 'limit': 10, 'offset': 0, 'type': 'track', 'market': None} returned 404 due to Not found.\n"
     ]
    },
    {
     "name": "stdout",
     "output_type": "stream",
     "text": [
      "ERROR:   The Partridge Family Starring Shirley Jones Featuring David Cassidy Looking Through The Eyes Of Love\n",
      "26380  26390  "
     ]
    },
    {
     "name": "stderr",
     "output_type": "stream",
     "text": [
      "HTTP Error for GET to https://api.spotify.com/v1/search with Params: {'q': 'artist:The Pipes And Drums And The Military Band Of The Royal Scots Dragoon Guards track:Amazing Grace', 'limit': 10, 'offset': 0, 'type': 'track', 'market': None} returned 404 due to Not found.\n"
     ]
    },
    {
     "name": "stdout",
     "output_type": "stream",
     "text": [
      "26400  \n",
      "ERROR:   The Pipes And Drums And The Military Band Of The Royal Scots Dragoon Guards Amazing Grace\n",
      "26410  26420  26430  26440  26450  26460  26470  26480  26490  26500  \n",
      "26510  26520  26530  26540  26550  26560  26570  26580  26590  26600  \n",
      "26610  26620  26630  26640  26650  26660  26670  26680  26690  26700  \n",
      "26710  26720  26730  26740  26750  26760  26770  26780  26790  26800  \n",
      "26810  26820  26830  26840  26850  26860  26870  26880  26890  26900  \n",
      "26910  26920  26930  26940  26950  "
     ]
    },
    {
     "name": "stderr",
     "output_type": "stream",
     "text": [
      "HTTP Error for GET to https://api.spotify.com/v1/search with Params: {'q': 'artist:The Star Wars Intergalactic Droid Choir & Chorale track:What Can You Get A Wookiee For Christmas (When He Already Owns A Comb?)', 'limit': 10, 'offset': 0, 'type': 'track', 'market': None} returned 404 due to Not found.\n"
     ]
    },
    {
     "name": "stdout",
     "output_type": "stream",
     "text": [
      "ERROR:   The Star Wars Intergalactic Droid Choir & Chorale What Can You Get A Wookiee For Christmas (When He Already Owns A Comb?)\n",
      "26960  26970  26980  26990  27000  \n",
      "27010  27020  27030  27040  27050  27060  27070  27080  27090  27100  \n",
      "27110  27120  27130  27140  27150  27160  27170  27180  27190  27200  \n",
      "27210  27220  27230  27240  27250  27260  27270  27280  27290  27300  \n",
      "27310  27320  27330  27340  27350  27360  27370  27380  27390  27400  \n",
      "27410  27420  27430  27440  27450  27460  27470  27480  27490  27500  \n",
      "27510  27520  27530  27540  27550  27560  27570  "
     ]
    },
    {
     "name": "stderr",
     "output_type": "stream",
     "text": [
      "HTTP Error for GET to https://api.spotify.com/v1/search with Params: {'q': 'artist:Thomas Rhett Featuring Reba McEntire, Hillary Scott, Chris Tomlin & Keith Urban track:Be A Light', 'limit': 10, 'offset': 0, 'type': 'track', 'market': None} returned 404 due to Not found.\n"
     ]
    },
    {
     "name": "stdout",
     "output_type": "stream",
     "text": [
      "ERROR:   Thomas Rhett Featuring Reba McEntire, Hillary Scott, Chris Tomlin & Keith Urban Be A Light\n",
      "27580  27590  27600  \n",
      "27610  27620  27630  27640  27650  27660  27670  27680  27690  27700  \n",
      "27710  27720  27730  27740  27750  27760  27770  27780  27790  27800  \n",
      "27810  27820  27830  27840  27850  27860  27870  27880  27890  27900  \n",
      "27910  27920  27930  27940  27950  27960  27970  27980  27990  28000  \n",
      "28010  28020  28030  28040  28050  28060  28070  28080  28090  28100  \n",
      "28110  28120  28130  28140  28150  28160  28170  28180  28190  28200  \n",
      "28210  28220  28230  28240  28250  28260  28270  28280  28290  28300  \n",
      "28310  28320  28330  28340  28350  28360  28370  28380  28390  28400  \n",
      "28410  28420  28430  28440  28450  28460  28470  28480  "
     ]
    },
    {
     "name": "stderr",
     "output_type": "stream",
     "text": [
      "HTTP Error for GET to https://api.spotify.com/v1/search with Params: {'q': 'artist:Tyler, The Creator Featuring Brent Faiyaz & Fana Hues track:Sweet / I Thought You Wanted To Dance', 'limit': 10, 'offset': 0, 'type': 'track', 'market': None} returned 404 due to Not found.\n"
     ]
    },
    {
     "name": "stdout",
     "output_type": "stream",
     "text": [
      "ERROR:   Tyler, The Creator Featuring Brent Faiyaz & Fana Hues Sweet / I Thought You Wanted To Dance\n",
      "28490  28500  \n",
      "28510  28520  28530  28540  28550  28560  28570  28580  28590  28600  \n",
      "28610  28620  28630  28640  28650  28660  28670  28680  28690  28700  \n",
      "28710  28720  28730  28740  28750  28760  28770  28780  28790  28800  \n",
      "28810  28820  28830  28840  28850  28860  28870  28880  28890  28900  \n",
      "28910  28920  28930  28940  28950  28960  28970  28980  28990  29000  \n",
      "29010  29020  29030  29040  29050  29060  29070  29080  29090  29100  \n",
      "29110  29120  29130  29140  29150  29160  29170  29180  29190  29200  \n",
      "29210  29220  29230  29240  29250  29260  29270  29280  29290  29300  \n",
      "29310  29320  29330  29340  29350  29360  29370  29380  29390  29400  \n",
      "29410  29420  29430  29440  29450  29460  29470  29480  29490  29500  \n",
      "29510  29520  29530  29540  29550  29560  29570  29580  29590  29600  \n",
      "29610  29620  29630  29640  29650  29660  29670  "
     ]
    },
    {
     "name": "stderr",
     "output_type": "stream",
     "text": [
      "HTTP Error for GET to https://api.spotify.com/v1/search with Params: {'q': \"artist:will.i.am Featuring Miley Cyrus, French Montana, Wiz Khalifa & DJ Mustard track:Feelin' Myself\", 'limit': 10, 'offset': 0, 'type': 'track', 'market': None} returned 404 due to Not found.\n"
     ]
    },
    {
     "name": "stdout",
     "output_type": "stream",
     "text": [
      "29680  ERROR:   will.i.am Featuring Miley Cyrus, French Montana, Wiz Khalifa & DJ Mustard Feelin' Myself\n"
     ]
    }
   ],
   "source": [
    "# start over at\n",
    "start_over_at = 22953\n",
    "\n",
    "# populate df_billboard_songs with ids, where available\n",
    "for i, row in df_billboard_songs.iterrows():\n",
    "    \n",
    "    # start over at\n",
    "    if i < start_over_at-1:\n",
    "        continue\n",
    "    \n",
    "    # show status\n",
    "    if i%10 == 0:\n",
    "        print(i, end='  ')\n",
    "    if i%100 == 0:\n",
    "        print()\n",
    "        \n",
    "    # start over where we finished\n",
    "    if df_billboard_songs['id'].iloc[i] != '':  \n",
    "        continue\n",
    "    # append id, NONE, or 'ERROR'\n",
    "    else:\n",
    "        artist = row[1]\n",
    "        song = row[0]\n",
    "        try:\n",
    "            # unless there is an error, will append the id or None\n",
    "            df_billboard_songs['id'].iloc[i] = find_id(song, artist, metadata_ids)\n",
    "        except:  # any error needs to be dealt with manually\n",
    "            # if there is an error, change id to 'ERROR'\n",
    "            print('ERROR:  ', artist, song)\n",
    "            df_billboard_songs['id'].iloc[i] = 'ERROR'\n",
    "        # save every 1000 rows, if new\n",
    "        if i%1000 == 0:\n",
    "            df_billboard_songs.to_csv('df_billboard_songs_TEMP.csv', index=False)\n",
    "        \n",
    "# save final dataframe\n",
    "df_billboard_songs.to_csv('df_billboard_songs.csv', index=False)"
   ]
  },
  {
   "cell_type": "code",
   "execution_count": 13,
   "id": "7a5d9c35",
   "metadata": {},
   "outputs": [
    {
     "data": {
      "text/plain": [
       "24019"
      ]
     },
     "execution_count": 13,
     "metadata": {},
     "output_type": "execute_result"
    }
   ],
   "source": [
    "# how many id have we added\n",
    "sum(df_billboard_songs.id != \"\")"
   ]
  },
  {
   "cell_type": "code",
   "execution_count": 17,
   "id": "61456231",
   "metadata": {},
   "outputs": [
    {
     "data": {
      "text/plain": [
       "5694"
      ]
     },
     "execution_count": 17,
     "metadata": {},
     "output_type": "execute_result"
    }
   ],
   "source": [
    "# check how many id match the metadata_ids\n",
    "sum(df_billboard_songs.id.isin(metadata_ids))\n",
    "\n",
    "# which have spotify ids, but don't match metadata_ids?\n",
    "# consider rechecking with metadata_ids_SQL"
   ]
  },
  {
   "cell_type": "code",
   "execution_count": 33,
   "id": "bc5b3071",
   "metadata": {},
   "outputs": [
    {
     "data": {
      "text/plain": [
       "(8741672, 1)"
      ]
     },
     "execution_count": 33,
     "metadata": {},
     "output_type": "execute_result"
    }
   ],
   "source": [
    "# check how many id match the ids from the SQLite database\n",
    "metadata_ids_SQL = pd.read_csv('all_ids_sql.csv', header=None, names=['id'])\n",
    "metadata_ids_SQL.shape"
   ]
  },
  {
   "cell_type": "code",
   "execution_count": 35,
   "id": "44709345",
   "metadata": {},
   "outputs": [],
   "source": [
    "metadata_ids_SQL = list(metadata_ids_SQL.id)"
   ]
  },
  {
   "cell_type": "code",
   "execution_count": 37,
   "id": "b73b297f",
   "metadata": {},
   "outputs": [
    {
     "data": {
      "text/plain": [
       "14313"
      ]
     },
     "execution_count": 37,
     "metadata": {},
     "output_type": "execute_result"
    }
   ],
   "source": [
    "sum(df_billboard_songs.id.isin(metadata_ids_SQL))"
   ]
  },
  {
   "cell_type": "code",
   "execution_count": 42,
   "id": "e543d65b",
   "metadata": {},
   "outputs": [
    {
     "data": {
      "text/html": [
       "<div>\n",
       "<style scoped>\n",
       "    .dataframe tbody tr th:only-of-type {\n",
       "        vertical-align: middle;\n",
       "    }\n",
       "\n",
       "    .dataframe tbody tr th {\n",
       "        vertical-align: top;\n",
       "    }\n",
       "\n",
       "    .dataframe thead th {\n",
       "        text-align: right;\n",
       "    }\n",
       "</style>\n",
       "<table border=\"1\" class=\"dataframe\">\n",
       "  <thead>\n",
       "    <tr style=\"text-align: right;\">\n",
       "      <th></th>\n",
       "      <th>song</th>\n",
       "      <th>artist</th>\n",
       "      <th>id</th>\n",
       "    </tr>\n",
       "  </thead>\n",
       "  <tbody>\n",
       "    <tr>\n",
       "      <th>1</th>\n",
       "      <td>What Now My Love</td>\n",
       "      <td>\"Groove\" Holmes</td>\n",
       "      <td>11Aldbvo6UCcVhBzv4oUdw</td>\n",
       "    </tr>\n",
       "    <tr>\n",
       "      <th>4</th>\n",
       "      <td>Amish Paradise</td>\n",
       "      <td>\"Weird Al\" Yankovic</td>\n",
       "      <td>6nofbMbadUdrtZmIsBHyYE</td>\n",
       "    </tr>\n",
       "    <tr>\n",
       "      <th>5</th>\n",
       "      <td>Canadian Idiot</td>\n",
       "      <td>\"Weird Al\" Yankovic</td>\n",
       "      <td>77lZ5O8fojbuYiEskfqJpP</td>\n",
       "    </tr>\n",
       "    <tr>\n",
       "      <th>6</th>\n",
       "      <td>Eat It</td>\n",
       "      <td>\"Weird Al\" Yankovic</td>\n",
       "      <td>1jq2FwGP2nctKdPO0mHqMv</td>\n",
       "    </tr>\n",
       "    <tr>\n",
       "      <th>7</th>\n",
       "      <td>Fat</td>\n",
       "      <td>\"Weird Al\" Yankovic</td>\n",
       "      <td>0vftDsKyQN36cI2gfh2opK</td>\n",
       "    </tr>\n",
       "  </tbody>\n",
       "</table>\n",
       "</div>"
      ],
      "text/plain": [
       "               song               artist                      id\n",
       "1  What Now My Love      \"Groove\" Holmes  11Aldbvo6UCcVhBzv4oUdw\n",
       "4    Amish Paradise  \"Weird Al\" Yankovic  6nofbMbadUdrtZmIsBHyYE\n",
       "5    Canadian Idiot  \"Weird Al\" Yankovic  77lZ5O8fojbuYiEskfqJpP\n",
       "6            Eat It  \"Weird Al\" Yankovic  1jq2FwGP2nctKdPO0mHqMv\n",
       "7               Fat  \"Weird Al\" Yankovic  0vftDsKyQN36cI2gfh2opK"
      ]
     },
     "execution_count": 42,
     "metadata": {},
     "output_type": "execute_result"
    }
   ],
   "source": [
    "# separate matching from non-matching dataframes\n",
    "df_missing = df_billboard_songs[~df_billboard_songs.id.isin(metadata_ids_SQL)]\n",
    "df_missing = df_missing[(df_missing.id!='') & (df_missing.id!='ERROR')]\n",
    "df_missing.head()"
   ]
  },
  {
   "cell_type": "code",
   "execution_count": 43,
   "id": "0fdf9849",
   "metadata": {},
   "outputs": [
    {
     "data": {
      "text/html": [
       "<div>\n",
       "<style scoped>\n",
       "    .dataframe tbody tr th:only-of-type {\n",
       "        vertical-align: middle;\n",
       "    }\n",
       "\n",
       "    .dataframe tbody tr th {\n",
       "        vertical-align: top;\n",
       "    }\n",
       "\n",
       "    .dataframe thead th {\n",
       "        text-align: right;\n",
       "    }\n",
       "</style>\n",
       "<table border=\"1\" class=\"dataframe\">\n",
       "  <thead>\n",
       "    <tr style=\"text-align: right;\">\n",
       "      <th></th>\n",
       "      <th>song</th>\n",
       "      <th>artist</th>\n",
       "      <th>id</th>\n",
       "    </tr>\n",
       "  </thead>\n",
       "  <tbody>\n",
       "    <tr>\n",
       "      <th>count</th>\n",
       "      <td>9650</td>\n",
       "      <td>9650</td>\n",
       "      <td>8040</td>\n",
       "    </tr>\n",
       "    <tr>\n",
       "      <th>unique</th>\n",
       "      <td>8936</td>\n",
       "      <td>4424</td>\n",
       "      <td>8009</td>\n",
       "    </tr>\n",
       "    <tr>\n",
       "      <th>top</th>\n",
       "      <td>I Need You</td>\n",
       "      <td>Glee Cast</td>\n",
       "      <td>1E8NzDXkY6X1ipKUzXrgFW</td>\n",
       "    </tr>\n",
       "    <tr>\n",
       "      <th>freq</th>\n",
       "      <td>8</td>\n",
       "      <td>43</td>\n",
       "      <td>2</td>\n",
       "    </tr>\n",
       "  </tbody>\n",
       "</table>\n",
       "</div>"
      ],
      "text/plain": [
       "              song     artist                      id\n",
       "count         9650       9650                    8040\n",
       "unique        8936       4424                    8009\n",
       "top     I Need You  Glee Cast  1E8NzDXkY6X1ipKUzXrgFW\n",
       "freq             8         43                       2"
      ]
     },
     "execution_count": 43,
     "metadata": {},
     "output_type": "execute_result"
    }
   ],
   "source": [
    "df_missing.describe()"
   ]
  },
  {
   "cell_type": "code",
   "execution_count": 45,
   "id": "8d124315",
   "metadata": {},
   "outputs": [],
   "source": [
    "# search again for df_missing using metadata_ids_SQL\n",
    "\n",
    "def find_exact_id(track_title, artist_name, metadata_ids):\n",
    "    \"\"\" \n",
    "    same as above, but returns 'MISSING' if not found in metadata_ids\n",
    "    \"\"\"\n",
    "    track_info = spotify.search(q='artist:' + artist_name + ' track:' + track_title, type='track')\n",
    "    \n",
    "    if track_info['tracks']['items'] == []:  # if track doesn't exist on Spotify\n",
    "        return 'MISSING'\n",
    "    else:\n",
    "        # check if there is a match\n",
    "        number_of_results = len(track_info['tracks']['items'])\n",
    "        \n",
    "        for i in range(number_of_results):\n",
    "            track_id = track_info['tracks']['items'][i]['id']\n",
    "            if track_id in metadata_ids:\n",
    "                return track_id\n",
    "        \n",
    "        # if we haven't returned a match, return 'MISSING'\n",
    "        return 'MISSING'\n"
   ]
  },
  {
   "cell_type": "code",
   "execution_count": 44,
   "id": "7ce28c3e",
   "metadata": {},
   "outputs": [
    {
     "data": {
      "text/plain": [
       "'7CfCUjAZFndcpAWLogl9J3'"
      ]
     },
     "execution_count": 44,
     "metadata": {},
     "output_type": "execute_result"
    }
   ],
   "source": [
    "# TEST\n",
    "find_id(\"You Can't Turn Me Off (In The Middle Of Turning Me On)\", 'High Inergy', metadata_ids)"
   ]
  },
  {
   "cell_type": "code",
   "execution_count": 47,
   "id": "e330b649",
   "metadata": {},
   "outputs": [
    {
     "data": {
      "text/plain": [
       "'MISSING'"
      ]
     },
     "execution_count": 47,
     "metadata": {},
     "output_type": "execute_result"
    }
   ],
   "source": [
    "# TEST\n",
    "find_exact_id(\"You can't find this song\", 'not real artist', metadata_ids_SQL)"
   ]
  },
  {
   "cell_type": "code",
   "execution_count": 50,
   "id": "e1146671",
   "metadata": {},
   "outputs": [
    {
     "name": "stdout",
     "output_type": "stream",
     "text": [
      "10  40  110  150  170  280  300  \n",
      "330  410  450  490  510  630  690  710  720  780  790  800  \n",
      "820  890  910  930  980  1010  1090  1120  1140  1160  1180  1190  1200  \n",
      "1230  1260  1270  1360  1370  1390  1430  1470  1530  1590  1600  \n",
      "1620  1640  1670  1690  1700  \n",
      "1810  1850  1940  1950  1960  1970  2020  2110  2160  2190  2200  \n",
      "2230  2250  2270  2300  \n",
      "2330  2390  2420  2430  2510  2520  2670  2690  2790  2880  2930  3050  3070  3100  \n",
      "3110  3120  3160  3180  3190  3200  \n",
      "3220  3300  \n",
      "3320  3350  3360  3390  3430  3460  3520  3540  3570  3600  \n",
      "3660  3710  3730  3740  3790  3800  \n",
      "3810  3820  3890  3910  3920  3930  4010  4020  4060  4120  4130  4160  4230  4250  4260  4290  4370  4490  4500  \n",
      "4510  4570  4610  4620  4630  4670  4710  4740  4820  4900  \n",
      "4940  4980  5060  5070  5110  5160  5200  \n",
      "5220  5260  5270  5330  5340  5360  5370  5510  5530  5590  5600  \n",
      "5640  5760  5780  5830  5920  5930  5950  5980  6000  \n",
      "6020  6110  6150  6180  6190  6240  6280  6310  6320  6360  6380  6410  6450  6480  6490  6550  6570  6590  6610  6620  6630  6640  6690  6760  6770  6780  6850  6910  6920  6940  6950  6970  7000  \n",
      "7070  7100  \n",
      "7130  7150  7160  7190  7200  \n",
      "7250  7260  7280  7290  7300  \n",
      "7330  7410  7430  7540  7560  7660  7680  7690  7700  \n",
      "7720  7860  7910  7930  7940  8030  8100  \n",
      "8120  8160  8180  8310  8340  8430  8440  8480  8500  \n",
      "8520  8580  8600  \n",
      "8610  8630  8650  8660  8690  8780  8810  8820  8870  8930  8940  8950  8970  9100  \n",
      "9110  9120  9170  9180  9210  9290  9410  9420  9450  9470  9490  9500  \n",
      "9560  9610  9630  9640  ERROR:   Gary Glitter I Didn't Know I Loved You (Till I Saw You Rock And Roll)\n"
     ]
    },
    {
     "ename": "IndexError",
     "evalue": "iloc cannot enlarge its target object",
     "output_type": "error",
     "traceback": [
      "\u001b[1;31m---------------------------------------------------------------------------\u001b[0m",
      "\u001b[1;31mIndexError\u001b[0m                                Traceback (most recent call last)",
      "\u001b[1;32m~\\AppData\\Local\\Temp/ipykernel_2248/2139943993.py\u001b[0m in \u001b[0;36m<module>\u001b[1;34m\u001b[0m\n\u001b[0;32m     13\u001b[0m         \u001b[1;31m# unless there is an error, will append the id or None\u001b[0m\u001b[1;33m\u001b[0m\u001b[1;33m\u001b[0m\u001b[0m\n\u001b[1;32m---> 14\u001b[1;33m         \u001b[0mdf_missing\u001b[0m\u001b[1;33m[\u001b[0m\u001b[1;34m'id'\u001b[0m\u001b[1;33m]\u001b[0m\u001b[1;33m.\u001b[0m\u001b[0miloc\u001b[0m\u001b[1;33m[\u001b[0m\u001b[0mi\u001b[0m\u001b[1;33m]\u001b[0m \u001b[1;33m=\u001b[0m \u001b[0mfind_exact_id\u001b[0m\u001b[1;33m(\u001b[0m\u001b[0msong\u001b[0m\u001b[1;33m,\u001b[0m \u001b[0martist\u001b[0m\u001b[1;33m,\u001b[0m \u001b[0mmetadata_ids_SQL\u001b[0m\u001b[1;33m)\u001b[0m\u001b[1;33m\u001b[0m\u001b[1;33m\u001b[0m\u001b[0m\n\u001b[0m\u001b[0;32m     15\u001b[0m     \u001b[1;32mexcept\u001b[0m\u001b[1;33m:\u001b[0m  \u001b[1;31m# any error needs to be dealt with manually\u001b[0m\u001b[1;33m\u001b[0m\u001b[1;33m\u001b[0m\u001b[0m\n",
      "\u001b[1;32m~\\anaconda3\\lib\\site-packages\\pandas\\core\\indexing.py\u001b[0m in \u001b[0;36m__setitem__\u001b[1;34m(self, key, value)\u001b[0m\n\u001b[0;32m    719\u001b[0m         \u001b[0mindexer\u001b[0m \u001b[1;33m=\u001b[0m \u001b[0mself\u001b[0m\u001b[1;33m.\u001b[0m\u001b[0m_get_setitem_indexer\u001b[0m\u001b[1;33m(\u001b[0m\u001b[0mkey\u001b[0m\u001b[1;33m)\u001b[0m\u001b[1;33m\u001b[0m\u001b[1;33m\u001b[0m\u001b[0m\n\u001b[1;32m--> 720\u001b[1;33m         \u001b[0mself\u001b[0m\u001b[1;33m.\u001b[0m\u001b[0m_has_valid_setitem_indexer\u001b[0m\u001b[1;33m(\u001b[0m\u001b[0mkey\u001b[0m\u001b[1;33m)\u001b[0m\u001b[1;33m\u001b[0m\u001b[1;33m\u001b[0m\u001b[0m\n\u001b[0m\u001b[0;32m    721\u001b[0m \u001b[1;33m\u001b[0m\u001b[0m\n",
      "\u001b[1;32m~\\anaconda3\\lib\\site-packages\\pandas\\core\\indexing.py\u001b[0m in \u001b[0;36m_has_valid_setitem_indexer\u001b[1;34m(self, indexer)\u001b[0m\n\u001b[0;32m   1460\u001b[0m                 \u001b[1;32mif\u001b[0m \u001b[0mi\u001b[0m \u001b[1;33m>=\u001b[0m \u001b[0mlen\u001b[0m\u001b[1;33m(\u001b[0m\u001b[0max\u001b[0m\u001b[1;33m)\u001b[0m\u001b[1;33m:\u001b[0m\u001b[1;33m\u001b[0m\u001b[1;33m\u001b[0m\u001b[0m\n\u001b[1;32m-> 1461\u001b[1;33m                     \u001b[1;32mraise\u001b[0m \u001b[0mIndexError\u001b[0m\u001b[1;33m(\u001b[0m\u001b[1;34m\"iloc cannot enlarge its target object\"\u001b[0m\u001b[1;33m)\u001b[0m\u001b[1;33m\u001b[0m\u001b[1;33m\u001b[0m\u001b[0m\n\u001b[0m\u001b[0;32m   1462\u001b[0m             \u001b[1;32melif\u001b[0m \u001b[0misinstance\u001b[0m\u001b[1;33m(\u001b[0m\u001b[0mi\u001b[0m\u001b[1;33m,\u001b[0m \u001b[0mdict\u001b[0m\u001b[1;33m)\u001b[0m\u001b[1;33m:\u001b[0m\u001b[1;33m\u001b[0m\u001b[1;33m\u001b[0m\u001b[0m\n",
      "\u001b[1;31mIndexError\u001b[0m: iloc cannot enlarge its target object",
      "\nDuring handling of the above exception, another exception occurred:\n",
      "\u001b[1;31mIndexError\u001b[0m                                Traceback (most recent call last)",
      "\u001b[1;32m~\\AppData\\Local\\Temp/ipykernel_2248/2139943993.py\u001b[0m in \u001b[0;36m<module>\u001b[1;34m\u001b[0m\n\u001b[0;32m     16\u001b[0m         \u001b[1;31m# if there is an error, change id to 'ERROR'\u001b[0m\u001b[1;33m\u001b[0m\u001b[1;33m\u001b[0m\u001b[0m\n\u001b[0;32m     17\u001b[0m         \u001b[0mprint\u001b[0m\u001b[1;33m(\u001b[0m\u001b[1;34m'ERROR:  '\u001b[0m\u001b[1;33m,\u001b[0m \u001b[0martist\u001b[0m\u001b[1;33m,\u001b[0m \u001b[0msong\u001b[0m\u001b[1;33m)\u001b[0m\u001b[1;33m\u001b[0m\u001b[1;33m\u001b[0m\u001b[0m\n\u001b[1;32m---> 18\u001b[1;33m         \u001b[0mdf_missing\u001b[0m\u001b[1;33m[\u001b[0m\u001b[1;34m'id'\u001b[0m\u001b[1;33m]\u001b[0m\u001b[1;33m.\u001b[0m\u001b[0miloc\u001b[0m\u001b[1;33m[\u001b[0m\u001b[0mi\u001b[0m\u001b[1;33m]\u001b[0m \u001b[1;33m=\u001b[0m \u001b[1;34m'ERROR'\u001b[0m\u001b[1;33m\u001b[0m\u001b[1;33m\u001b[0m\u001b[0m\n\u001b[0m\u001b[0;32m     19\u001b[0m     \u001b[1;31m# save every 1000 rows, if new\u001b[0m\u001b[1;33m\u001b[0m\u001b[1;33m\u001b[0m\u001b[0m\n\u001b[0;32m     20\u001b[0m     \u001b[1;32mif\u001b[0m \u001b[0mi\u001b[0m\u001b[1;33m%\u001b[0m\u001b[1;36m1000\u001b[0m \u001b[1;33m==\u001b[0m \u001b[1;36m0\u001b[0m\u001b[1;33m:\u001b[0m\u001b[1;33m\u001b[0m\u001b[1;33m\u001b[0m\u001b[0m\n",
      "\u001b[1;32m~\\anaconda3\\lib\\site-packages\\pandas\\core\\indexing.py\u001b[0m in \u001b[0;36m__setitem__\u001b[1;34m(self, key, value)\u001b[0m\n\u001b[0;32m    718\u001b[0m             \u001b[0mkey\u001b[0m \u001b[1;33m=\u001b[0m \u001b[0mcom\u001b[0m\u001b[1;33m.\u001b[0m\u001b[0mapply_if_callable\u001b[0m\u001b[1;33m(\u001b[0m\u001b[0mkey\u001b[0m\u001b[1;33m,\u001b[0m \u001b[0mself\u001b[0m\u001b[1;33m.\u001b[0m\u001b[0mobj\u001b[0m\u001b[1;33m)\u001b[0m\u001b[1;33m\u001b[0m\u001b[1;33m\u001b[0m\u001b[0m\n\u001b[0;32m    719\u001b[0m         \u001b[0mindexer\u001b[0m \u001b[1;33m=\u001b[0m \u001b[0mself\u001b[0m\u001b[1;33m.\u001b[0m\u001b[0m_get_setitem_indexer\u001b[0m\u001b[1;33m(\u001b[0m\u001b[0mkey\u001b[0m\u001b[1;33m)\u001b[0m\u001b[1;33m\u001b[0m\u001b[1;33m\u001b[0m\u001b[0m\n\u001b[1;32m--> 720\u001b[1;33m         \u001b[0mself\u001b[0m\u001b[1;33m.\u001b[0m\u001b[0m_has_valid_setitem_indexer\u001b[0m\u001b[1;33m(\u001b[0m\u001b[0mkey\u001b[0m\u001b[1;33m)\u001b[0m\u001b[1;33m\u001b[0m\u001b[1;33m\u001b[0m\u001b[0m\n\u001b[0m\u001b[0;32m    721\u001b[0m \u001b[1;33m\u001b[0m\u001b[0m\n\u001b[0;32m    722\u001b[0m         \u001b[0miloc\u001b[0m \u001b[1;33m=\u001b[0m \u001b[0mself\u001b[0m \u001b[1;32mif\u001b[0m \u001b[0mself\u001b[0m\u001b[1;33m.\u001b[0m\u001b[0mname\u001b[0m \u001b[1;33m==\u001b[0m \u001b[1;34m\"iloc\"\u001b[0m \u001b[1;32melse\u001b[0m \u001b[0mself\u001b[0m\u001b[1;33m.\u001b[0m\u001b[0mobj\u001b[0m\u001b[1;33m.\u001b[0m\u001b[0miloc\u001b[0m\u001b[1;33m\u001b[0m\u001b[1;33m\u001b[0m\u001b[0m\n",
      "\u001b[1;32m~\\anaconda3\\lib\\site-packages\\pandas\\core\\indexing.py\u001b[0m in \u001b[0;36m_has_valid_setitem_indexer\u001b[1;34m(self, indexer)\u001b[0m\n\u001b[0;32m   1459\u001b[0m             \u001b[1;32melif\u001b[0m \u001b[0mis_integer\u001b[0m\u001b[1;33m(\u001b[0m\u001b[0mi\u001b[0m\u001b[1;33m)\u001b[0m\u001b[1;33m:\u001b[0m\u001b[1;33m\u001b[0m\u001b[1;33m\u001b[0m\u001b[0m\n\u001b[0;32m   1460\u001b[0m                 \u001b[1;32mif\u001b[0m \u001b[0mi\u001b[0m \u001b[1;33m>=\u001b[0m \u001b[0mlen\u001b[0m\u001b[1;33m(\u001b[0m\u001b[0max\u001b[0m\u001b[1;33m)\u001b[0m\u001b[1;33m:\u001b[0m\u001b[1;33m\u001b[0m\u001b[1;33m\u001b[0m\u001b[0m\n\u001b[1;32m-> 1461\u001b[1;33m                     \u001b[1;32mraise\u001b[0m \u001b[0mIndexError\u001b[0m\u001b[1;33m(\u001b[0m\u001b[1;34m\"iloc cannot enlarge its target object\"\u001b[0m\u001b[1;33m)\u001b[0m\u001b[1;33m\u001b[0m\u001b[1;33m\u001b[0m\u001b[0m\n\u001b[0m\u001b[0;32m   1462\u001b[0m             \u001b[1;32melif\u001b[0m \u001b[0misinstance\u001b[0m\u001b[1;33m(\u001b[0m\u001b[0mi\u001b[0m\u001b[1;33m,\u001b[0m \u001b[0mdict\u001b[0m\u001b[1;33m)\u001b[0m\u001b[1;33m:\u001b[0m\u001b[1;33m\u001b[0m\u001b[1;33m\u001b[0m\u001b[0m\n\u001b[0;32m   1463\u001b[0m                 \u001b[1;32mraise\u001b[0m \u001b[0mIndexError\u001b[0m\u001b[1;33m(\u001b[0m\u001b[1;34m\"iloc cannot enlarge its target object\"\u001b[0m\u001b[1;33m)\u001b[0m\u001b[1;33m\u001b[0m\u001b[1;33m\u001b[0m\u001b[0m\n",
      "\u001b[1;31mIndexError\u001b[0m: iloc cannot enlarge its target object"
     ]
    }
   ],
   "source": [
    "# populate df_missing with ids, where available, 'MISSING' otherwise\n",
    "for i, row in df_missing.iterrows():\n",
    "    \n",
    "    # show status\n",
    "    if i%10 == 0:\n",
    "        print(i, end='  ')\n",
    "    if i%100 == 0:\n",
    "        print()\n",
    "        \n",
    "    artist = row[1]\n",
    "    song = row[0]\n",
    "    try:\n",
    "        # unless there is an error, will append the id or None\n",
    "        df_missing['id'].iloc[i] = find_exact_id(song, artist, metadata_ids_SQL)\n",
    "    except:  # any error needs to be dealt with manually\n",
    "        # if there is an error, change id to 'ERROR'\n",
    "        print('ERROR:  ', artist, song)\n",
    "        df_missing['id'].iloc[i] = 'ERROR'\n",
    "    # save every 1000 rows, if new\n",
    "    if i%1000 == 0:  # less useful without reindexing (oops)\n",
    "        df_missing.to_csv('df_missing_TEMP.csv', index=False)\n",
    "        \n",
    "# save final dataframe\n",
    "df_missing.to_csv('df_missing.csv', index=False)"
   ]
  },
  {
   "cell_type": "code",
   "execution_count": 53,
   "id": "cc335385",
   "metadata": {},
   "outputs": [
    {
     "data": {
      "text/plain": [
       "'MISSING'"
      ]
     },
     "execution_count": 53,
     "metadata": {},
     "output_type": "execute_result"
    }
   ],
   "source": [
    "# confirm that it complete, maybe need to reindex\n"
   ]
  },
  {
   "cell_type": "code",
   "execution_count": 56,
   "id": "0a04efd3",
   "metadata": {},
   "outputs": [
    {
     "data": {
      "text/plain": [
       "1265"
      ]
     },
     "execution_count": 56,
     "metadata": {},
     "output_type": "execute_result"
    }
   ],
   "source": [
    "# number of tracks missing from both datasets, but on Spotify\n",
    "sum(df_missing.id == 'MISSING')"
   ]
  },
  {
   "cell_type": "code",
   "execution_count": 65,
   "id": "61542bfd",
   "metadata": {},
   "outputs": [
    {
     "data": {
      "text/plain": [
       "(9650, 9650)"
      ]
     },
     "execution_count": 65,
     "metadata": {},
     "output_type": "execute_result"
    }
   ],
   "source": [
    "df_missing.shape[0], sum(df_missing.id == 'MISSING') + sum(df_missing.id != 'MISSING')"
   ]
  },
  {
   "cell_type": "code",
   "execution_count": null,
   "id": "b812bdd4",
   "metadata": {},
   "outputs": [],
   "source": [
    "# revised_ids = \n",
    "df_missing[(df_missing.id != 'MISSING') & (df_missing.id != '')]"
   ]
  },
  {
   "cell_type": "code",
   "execution_count": 55,
   "id": "fba9e4f1",
   "metadata": {},
   "outputs": [
    {
     "data": {
      "text/plain": [
       "1265"
      ]
     },
     "execution_count": 55,
     "metadata": {},
     "output_type": "execute_result"
    }
   ],
   "source": [
    "# how many tracks are in 1.2M but not 8M?\n",
    "\n",
    "\n",
    "\n",
    "# what about from the billboard 100?\n",
    "\n",
    "\n"
   ]
  },
  {
   "cell_type": "code",
   "execution_count": null,
   "id": "484baf4c",
   "metadata": {},
   "outputs": [],
   "source": []
  },
  {
   "cell_type": "code",
   "execution_count": null,
   "id": "807e68c1",
   "metadata": {},
   "outputs": [],
   "source": []
  },
  {
   "cell_type": "code",
   "execution_count": null,
   "id": "ebeb1b2f",
   "metadata": {},
   "outputs": [],
   "source": []
  },
  {
   "cell_type": "code",
   "execution_count": null,
   "id": "8a96f85b",
   "metadata": {},
   "outputs": [],
   "source": []
  },
  {
   "cell_type": "code",
   "execution_count": null,
   "id": "fec8a795",
   "metadata": {},
   "outputs": [],
   "source": [
    "# now merge with entire billboard list\n",
    "\n"
   ]
  },
  {
   "cell_type": "code",
   "execution_count": null,
   "id": "3c86fd18",
   "metadata": {},
   "outputs": [],
   "source": [
    "# check how many matches in 1.2M songs, what percent? SQL dataset? manual scraping?\n",
    "\n"
   ]
  },
  {
   "cell_type": "code",
   "execution_count": null,
   "id": "4eb6774d",
   "metadata": {},
   "outputs": [],
   "source": []
  },
  {
   "cell_type": "markdown",
   "id": "653e4d53",
   "metadata": {},
   "source": [
    "### 8+ M. Spotify Tracks, Genre, Audio Features (SQLite)\n",
    "https://www.kaggle.com/datasets/maltegrosse/8-m-spotify-tracks-genre-audio-features"
   ]
  },
  {
   "cell_type": "code",
   "execution_count": null,
   "id": "ee495f3b",
   "metadata": {},
   "outputs": [],
   "source": [
    "url_8M_sql = 'D:\\RYERSON\\820\\Datasets\\8+ M. Spotify Tracks, Genre, Audio Features\\spotify.sqlite'\n",
    "url_8M_csv = 'all_audio_features_sql.csv'  # .gitignore (very big)\n"
   ]
  },
  {
   "cell_type": "code",
   "execution_count": null,
   "id": "dadd7df4",
   "metadata": {},
   "outputs": [],
   "source": []
  },
  {
   "cell_type": "code",
   "execution_count": null,
   "id": "762e11d4",
   "metadata": {},
   "outputs": [],
   "source": []
  }
 ],
 "metadata": {
  "kernelspec": {
   "display_name": "Python 3 (ipykernel)",
   "language": "python",
   "name": "python3"
  },
  "language_info": {
   "codemirror_mode": {
    "name": "ipython",
    "version": 3
   },
   "file_extension": ".py",
   "mimetype": "text/x-python",
   "name": "python",
   "nbconvert_exporter": "python",
   "pygments_lexer": "ipython3",
   "version": "3.9.7"
  }
 },
 "nbformat": 4,
 "nbformat_minor": 5
}
