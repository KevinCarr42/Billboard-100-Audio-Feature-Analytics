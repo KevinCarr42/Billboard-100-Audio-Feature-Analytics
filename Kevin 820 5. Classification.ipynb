{
 "cells": [
  {
   "cell_type": "markdown",
   "id": "f379970c",
   "metadata": {},
   "source": [
    "# Import"
   ]
  },
  {
   "cell_type": "code",
   "execution_count": 11,
   "id": "1a36765e",
   "metadata": {},
   "outputs": [
    {
     "data": {
      "text/html": [
       "<style>.container { width:100% !important; }</style>"
      ],
      "text/plain": [
       "<IPython.core.display.HTML object>"
      ]
     },
     "metadata": {},
     "output_type": "display_data"
    }
   ],
   "source": [
    "# math and dataframes\n",
    "import pandas as pd\n",
    "import numpy as np\n",
    "\n",
    "# machine learning\n",
    "from sklearn.linear_model import LogisticRegression\n",
    "from sklearn.tree import DecisionTreeClassifier\n",
    "from sklearn.svm import SVC\n",
    "from sklearn.ensemble import RandomForestClassifier, AdaBoostClassifier, GradientBoostingClassifier, VotingClassifier\n",
    "\n",
    "# Pipeline and Evaluation\n",
    "from sklearn.metrics import classification_report, confusion_matrix\n",
    "from sklearn.model_selection import GridSearchCV, cross_val_score, cross_val_predict\n",
    "from sklearn.tree import plot_tree\n",
    "from imblearn.pipeline import Pipeline\n",
    "\n",
    "# Undersampling \n",
    "# Note: undersampling was used in at least 1 paper predicting popularity (Gao 2021)\n",
    "from sklearn.model_selection import StratifiedKFold\n",
    "from imblearn.under_sampling import RandomUnderSampler\n",
    "\n",
    "# jupyter notebook full-width display\n",
    "from IPython.core.display import display, HTML\n",
    "display(HTML(\"<style>.container { width:100% !important; }</style>\"))\n",
    "\n",
    "# pandas formatting\n",
    "pd.set_option('display.float_format', '{:.3f}'.format)\n",
    "pd.set_option('display.max_columns', None)\n",
    "pd.set_option('display.max_rows', 200)\n",
    "\n",
    "# plotting\n",
    "import matplotlib.pyplot as plt\n",
    "import matplotlib as mpl\n",
    "import time\n",
    "import seaborn as sns\n",
    "sns.set_theme()"
   ]
  },
  {
   "cell_type": "code",
   "execution_count": 2,
   "id": "5cbcb793",
   "metadata": {},
   "outputs": [],
   "source": [
    "df_10M = pd.read_pickle('df_10M_clustered.pickle')\n",
    "X_all = pd.read_pickle('X_clustered.pickle')"
   ]
  },
  {
   "cell_type": "markdown",
   "id": "0ed65dd3",
   "metadata": {},
   "source": [
    "# Create Datasets for Prediction"
   ]
  },
  {
   "cell_type": "code",
   "execution_count": 3,
   "id": "065df1b5",
   "metadata": {},
   "outputs": [],
   "source": [
    "y_column = 'in_B100'\n",
    "X_columns = [\n",
    "    'mode', 'acousticness', 'danceability', 'duration_ms', 'energy',\n",
    "    'instrumentalness', 'liveness', 'loudness', 'speechiness', 'tempo', 'valence'\n",
    "]\n",
    "genre_columns = [\n",
    "    'is_Adult_Standard', 'is_Rock', 'is_R&B', 'is_Country', 'is_Pop',\n",
    "    'is_Rap', 'is_Alternative', 'is_EDM', 'is_Metal'\n",
    "]\n",
    "cluster_columns = ['cluster', 'cluster2']\n",
    "other_columns = ['key', 'time_signature', 'genre', 'release_date']\n"
   ]
  },
  {
   "cell_type": "code",
   "execution_count": 4,
   "id": "d64aee47",
   "metadata": {},
   "outputs": [],
   "source": [
    "# create a dict with all 'name': (X, y) key match pairs\n",
    "clusters = {}\n",
    "\n",
    "# entire predictive dataset\n",
    "clusters['All'] = (X_all[X_columns], X_all[y_column])\n",
    "\n",
    "# add genres\n",
    "for genre in genre_columns:\n",
    "    title = genre[3:]\n",
    "    clusters[title] = (X_all[X_all[genre]][X_columns], X_all[X_all[genre]][y_column])\n",
    "    \n",
    "# add clusters\n",
    "for n in sorted(X_all['cluster'].unique()):\n",
    "    title = genre[3:]\n",
    "    clusters['cluster1_' + str(n)] = (X_all[X_all['cluster'] == n][X_columns], X_all[X_all['cluster'] == n][y_column])\n",
    "    \n",
    "for n in sorted(X_all['cluster2'].unique()):\n",
    "    title = genre[3:]\n",
    "    clusters['cluster2_' + str(n)] = (X_all[X_all['cluster2'] == n][X_columns], X_all[X_all['cluster2'] == n][y_column])\n",
    "    \n",
    "# OPTIONAL IF TIME PERMITS: consider adding decades or eras of music"
   ]
  },
  {
   "cell_type": "code",
   "execution_count": 5,
   "id": "9af53181",
   "metadata": {},
   "outputs": [],
   "source": [
    "# main non-clustered predictive dataset (all data)\n",
    "X, y = clusters['All']"
   ]
  },
  {
   "cell_type": "code",
   "execution_count": 10,
   "id": "ab4f4817",
   "metadata": {},
   "outputs": [],
   "source": [
    "# X.head()"
   ]
  },
  {
   "cell_type": "code",
   "execution_count": 8,
   "id": "aa61b043",
   "metadata": {},
   "outputs": [
    {
     "data": {
      "text/plain": [
       "dict_keys(['All', 'Adult_Standard', 'Rock', 'R&B', 'Country', 'Pop', 'Rap', 'Alternative', 'EDM', 'Metal', 'cluster1_0', 'cluster1_1', 'cluster1_2', 'cluster1_3', 'cluster2_0', 'cluster2_1', 'cluster2_2', 'cluster2_3', 'cluster2_4', 'cluster2_5', 'cluster2_6', 'cluster2_7', 'cluster2_8', 'cluster2_9'])"
      ]
     },
     "execution_count": 8,
     "metadata": {},
     "output_type": "execute_result"
    }
   ],
   "source": [
    "clusters.keys()"
   ]
  },
  {
   "cell_type": "markdown",
   "id": "8a98d9ab",
   "metadata": {},
   "source": [
    "# Make Predictions Using Default ML Settings\n",
    "### COMPARE ALGORITHMS"
   ]
  },
  {
   "cell_type": "code",
   "execution_count": 7,
   "id": "f4863568",
   "metadata": {},
   "outputs": [],
   "source": [
    "ML_algorithms = [\n",
    "    LogisticRegression,\n",
    "    DecisionTreeClassifier,\n",
    "#     SVC,  # WAY too slow, would take days/months\n",
    "    RandomForestClassifier,\n",
    "    AdaBoostClassifier,\n",
    "    GradientBoostingClassifier\n",
    "]"
   ]
  },
  {
   "cell_type": "code",
   "execution_count": 8,
   "id": "c26f7ef4",
   "metadata": {},
   "outputs": [],
   "source": [
    "# these are slow, even the simlest models\n",
    "# let's see how long they take with a small and medium dataset\n",
    "# then we can estimate how long each algorithm will take to run\n",
    "\n",
    "small = X_all.sample(10_000)\n",
    "y_small = small[y_column]\n",
    "X_small = small[X_columns]\n",
    "\n",
    "medium = X_all.sample(100_000)\n",
    "y_medium = medium[y_column]\n",
    "X_medium = medium[X_columns]\n",
    "\n",
    "large = X_all.sample(1_000_000)\n",
    "y_large = large[y_column]\n",
    "X_large = large[X_columns]"
   ]
  },
  {
   "cell_type": "code",
   "execution_count": 9,
   "id": "8f606e62",
   "metadata": {},
   "outputs": [],
   "source": [
    "def ml_time(X, y, ml_n):\n",
    "    \"\"\"testing how long each algorithm takes\"\"\"\n",
    "    grid = GridSearchCV(\n",
    "        estimator=ML_algorithms[ml_n](),\n",
    "        param_grid={},\n",
    "        cv=5\n",
    "    )\n",
    "    %time grid.fit(X, y)"
   ]
  },
  {
   "cell_type": "code",
   "execution_count": 10,
   "id": "ee37c040",
   "metadata": {},
   "outputs": [
    {
     "name": "stdout",
     "output_type": "stream",
     "text": [
      "LogisticRegression: Wall time: 131 ms\n",
      "DecisionTreeClassifier: Wall time: 228 ms\n",
      "RandomForestClassifier: Wall time: 3.69 s\n",
      "AdaBoostClassifier: Wall time: 2.33 s\n",
      "GradientBoostingClassifier: Wall time: 9.35 s\n"
     ]
    }
   ],
   "source": [
    "# small datasets\n",
    "for i in range(len(ML_algorithms)):\n",
    "    print(str(ML_algorithms[i])[:-2].split('.')[-1], end=': ')\n",
    "    ml_time(X_small, y_small, i)"
   ]
  },
  {
   "cell_type": "code",
   "execution_count": 11,
   "id": "3277448f",
   "metadata": {},
   "outputs": [
    {
     "name": "stdout",
     "output_type": "stream",
     "text": [
      "LogisticRegression: Wall time: 981 ms\n",
      "DecisionTreeClassifier: Wall time: 3.74 s\n",
      "RandomForestClassifier: Wall time: 1min 2s\n",
      "AdaBoostClassifier: Wall time: 21.4 s\n",
      "GradientBoostingClassifier: Wall time: 1min 38s\n"
     ]
    }
   ],
   "source": [
    "# medium datasets\n",
    "for i in range(len(ML_algorithms)):\n",
    "    print(str(ML_algorithms[i])[:-2].split('.')[-1], end=': ')\n",
    "    ml_time(X_medium, y_medium, i)"
   ]
  },
  {
   "cell_type": "code",
   "execution_count": 12,
   "id": "d191f127",
   "metadata": {},
   "outputs": [
    {
     "name": "stdout",
     "output_type": "stream",
     "text": [
      "LogisticRegression: Wall time: 11.8 s\n",
      "DecisionTreeClassifier: Wall time: 1min 3s\n",
      "RandomForestClassifier: Wall time: 25min 24s\n",
      "AdaBoostClassifier: Wall time: 6min 8s\n",
      "GradientBoostingClassifier: Wall time: 21min 36s\n"
     ]
    }
   ],
   "source": [
    "# medium datasets\n",
    "for i in range(len(ML_algorithms)):\n",
    "    print(str(ML_algorithms[i])[:-2].split('.')[-1], end=': ')\n",
    "    ml_time(X_large, y_large, i)"
   ]
  },
  {
   "cell_type": "markdown",
   "id": "020249a8",
   "metadata": {},
   "source": [
    "Time Complexity Notes:\n",
    "* Naive Bayes: O(n*d)\n",
    "* Logistic Regression: O(n*d)\n",
    "* Decision Tree: O(n*log(n))\n",
    "* SVC: O(n^2)\n",
    "    * Note from medium.com: \"if n is large, avoid using SVM.\"\n",
    "* Random Forest: O(n*log(n)*k)\n",
    "    * i assume other boosted trees are similar\n",
    "    \n",
    "    \n",
    "REFERENCE:\n",
    "https://medium.com/analytics-vidhya/time-complexity-of-ml-models-4ec39fad2770\n",
    "\n",
    "* based on the above times, it will take about this long to calculate without resampling:\n",
    "    * LogisticRegression: 1 minute\n",
    "    * DecisionTreeClassifier: Wall time: 15 minutes\n",
    "    * RandomForestClassifier: Wall time: 7 hours\n",
    "    * AdaBoostClassifier: Wall time: 58 minutes\n",
    "    * GradientBoostingClassifier: Wall time: 4 hours\n",
    "    \n",
    "Note: could take less time if undersampled"
   ]
  },
  {
   "cell_type": "markdown",
   "id": "cf2ec058",
   "metadata": {},
   "source": [
    "### let's try logistic regression and decision tree to see if we're right"
   ]
  },
  {
   "cell_type": "code",
   "execution_count": 18,
   "id": "aa0e6251",
   "metadata": {},
   "outputs": [
    {
     "name": "stdout",
     "output_type": "stream",
     "text": [
      "Wall time: 2min 4s\n"
     ]
    },
    {
     "data": {
      "text/plain": [
       "{'mean_fit_time': array([18.24480934]),\n",
       " 'std_fit_time': array([2.34020124]),\n",
       " 'mean_score_time': array([0.8958056]),\n",
       " 'std_score_time': array([0.00415563]),\n",
       " 'params': [{}],\n",
       " 'split0_test_score': array([0.99759508]),\n",
       " 'split1_test_score': array([0.99759508]),\n",
       " 'split2_test_score': array([0.99759508]),\n",
       " 'split3_test_score': array([0.99759508]),\n",
       " 'split4_test_score': array([0.99759564]),\n",
       " 'mean_test_score': array([0.99759519]),\n",
       " 'std_test_score': array([2.26014337e-07]),\n",
       " 'rank_test_score': array([1])}"
      ]
     },
     "execution_count": 18,
     "metadata": {},
     "output_type": "execute_result"
    }
   ],
   "source": [
    "%%time\n",
    "# test logistic regression\n",
    "\n",
    "grid = GridSearchCV(\n",
    "    estimator=ML_algorithms[0](),\n",
    "    param_grid={},\n",
    "    cv=5\n",
    ")\n",
    "grid.fit(X, y)\n",
    "\n",
    "grid.cv_results_"
   ]
  },
  {
   "cell_type": "code",
   "execution_count": 19,
   "id": "069c2d35",
   "metadata": {},
   "outputs": [
    {
     "data": {
      "text/plain": [
       "0.997595188519254"
      ]
     },
     "execution_count": 19,
     "metadata": {},
     "output_type": "execute_result"
    }
   ],
   "source": [
    "# almost 100% accurate by predicting no songs are hits\n",
    "# need to deal with unbalanced data, but for now, it looks like it's working\n",
    "1 - sum(y) / y.shape[0]"
   ]
  },
  {
   "cell_type": "code",
   "execution_count": 20,
   "id": "afcad892",
   "metadata": {},
   "outputs": [
    {
     "name": "stdout",
     "output_type": "stream",
     "text": [
      "Wall time: 13min 25s\n"
     ]
    },
    {
     "data": {
      "text/plain": [
       "0.9943485966896315"
      ]
     },
     "execution_count": 20,
     "metadata": {},
     "output_type": "execute_result"
    }
   ],
   "source": [
    "%%time\n",
    "# check decision tree, different method, just the score\n",
    "cross_val_score(ML_algorithms[1](), X, y, cv=5, scoring='accuracy').mean()"
   ]
  },
  {
   "cell_type": "markdown",
   "id": "6e89094a",
   "metadata": {},
   "source": [
    "# STRATIFIED CROSSVALIDATION / UNDERSAMPLING\n",
    "\n",
    "https://scikit-learn.org/stable/modules/cross_validation.html\n",
    "\n",
    "https://imbalanced-learn.org/stable/under_sampling.html"
   ]
  },
  {
   "cell_type": "code",
   "execution_count": 14,
   "id": "9de32763",
   "metadata": {},
   "outputs": [
    {
     "name": "stdout",
     "output_type": "stream",
     "text": [
      "MSE: 0.6841349098513496\n",
      "stdev Error: 0.004227062155749545\n",
      "Wall time: 2.31 s\n"
     ]
    }
   ],
   "source": [
    "%%time\n",
    "# undersample method\n",
    "undersample = RandomUnderSampler()\n",
    "Xu, yu = undersample.fit_resample(X, y)\n",
    "\n",
    "# stratified sampling\n",
    "cv = StratifiedKFold(n_splits=5, shuffle=True)\n",
    "lr_model = LogisticRegression()\n",
    "scores = cross_val_score(lr_model, Xu, yu, cv=cv, n_jobs=-1)\n",
    "\n",
    "# print results\n",
    "print(f'MSE: {np.mean(scores)}\\nstdev Error: {np.std(scores)}')"
   ]
  },
  {
   "cell_type": "code",
   "execution_count": 13,
   "id": "08114cde",
   "metadata": {},
   "outputs": [
    {
     "name": "stdout",
     "output_type": "stream",
     "text": [
      "MSE: 0.5679228120642473\n",
      "stdev Error: 0.0008606708889569441\n",
      "Wall time: 1min 12s\n"
     ]
    }
   ],
   "source": [
    "%%time\n",
    "# balanced class weights\n",
    "\n",
    "# stratified sampling\n",
    "cv = StratifiedKFold(n_splits=5, shuffle=True)\n",
    "lr_model = LogisticRegression(class_weight='balanced')\n",
    "scores = cross_val_score(lr_model, X, y, cv=cv, n_jobs=-1)\n",
    "\n",
    "# print results\n",
    "print(f'MSE: {np.mean(scores)}\\nstdev Error: {np.std(scores)}')"
   ]
  },
  {
   "cell_type": "code",
   "execution_count": null,
   "id": "36e9a0dc",
   "metadata": {},
   "outputs": [],
   "source": []
  },
  {
   "cell_type": "code",
   "execution_count": null,
   "id": "1da84379",
   "metadata": {},
   "outputs": [],
   "source": [
    "# NOTE: recall is probably most important \n",
    "# (predict all hit songs, don't worry about false positives)"
   ]
  }
 ],
 "metadata": {
  "kernelspec": {
   "display_name": "Python 3 (ipykernel)",
   "language": "python",
   "name": "python3"
  },
  "language_info": {
   "codemirror_mode": {
    "name": "ipython",
    "version": 3
   },
   "file_extension": ".py",
   "mimetype": "text/x-python",
   "name": "python",
   "nbconvert_exporter": "python",
   "pygments_lexer": "ipython3",
   "version": "3.9.7"
  }
 },
 "nbformat": 4,
 "nbformat_minor": 5
}
