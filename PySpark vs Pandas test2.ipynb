{
 "cells": [
  {
   "cell_type": "code",
   "execution_count": 1,
   "id": "3af2dffd",
   "metadata": {},
   "outputs": [
    {
     "data": {
      "text/html": [
       "<style>.container { width:100% !important; }</style>"
      ],
      "text/plain": [
       "<IPython.core.display.HTML object>"
      ]
     },
     "metadata": {},
     "output_type": "display_data"
    }
   ],
   "source": [
    "from pyspark.sql import SparkSession\n",
    "import pandas as pd\n",
    "\n",
    "# jupyter notebook full-width display\n",
    "from IPython.core.display import display, HTML\n",
    "display(HTML(\"<style>.container { width:100% !important; }</style>\"))\n",
    "\n",
    "# pandas formatting\n",
    "pd.set_option('display.float_format', '{:.2f}'.format)\n",
    "# NOTE: underscore separaters ('_') are better than commas (',') because \n",
    "# numbers with underscores work in Python without any extra effort.\n",
    "pd.set_option('display.max_columns', None)\n",
    "pd.set_option('display.max_rows', 200)"
   ]
  },
  {
   "cell_type": "code",
   "execution_count": 2,
   "id": "cbe4bc64",
   "metadata": {},
   "outputs": [],
   "source": [
    "# spark = SparkSession.builder.appName('PySparkPandas').getOrCreate()\n",
    "# needs more memory\n",
    "spark = SparkSession.builder.appName(\"PySparkPandas\").config(\"spark.driver.memory\", \"32g\").getOrCreate()\n",
    "# spark.sparkContext.getConf().getAll()"
   ]
  },
  {
   "cell_type": "code",
   "execution_count": 3,
   "id": "5c0a1691",
   "metadata": {},
   "outputs": [
    {
     "name": "stdout",
     "output_type": "stream",
     "text": [
      "root\n",
      " |-- id: string (nullable = true)\n",
      " |-- song: string (nullable = true)\n",
      " |-- artist: string (nullable = true)\n",
      " |-- acousticness: float (nullable = true)\n",
      " |-- danceability: float (nullable = true)\n",
      " |-- duration_ms: integer (nullable = true)\n",
      " |-- energy: float (nullable = true)\n",
      " |-- instrumentalness: float (nullable = true)\n",
      " |-- key: integer (nullable = true)\n",
      " |-- liveness: float (nullable = true)\n",
      " |-- loudness: float (nullable = true)\n",
      " |-- mode: integer (nullable = true)\n",
      " |-- speechiness: float (nullable = true)\n",
      " |-- tempo: float (nullable = true)\n",
      " |-- time_signature: integer (nullable = true)\n",
      " |-- valence: float (nullable = true)\n",
      "\n"
     ]
    }
   ],
   "source": [
    "# fix filetypes\n",
    "from pyspark.sql.types import *\n",
    "\n",
    "schema = StructType([\n",
    "    StructField('id', StringType(), True),\n",
    "    StructField('song', StringType(), True),\n",
    "    StructField('artist', StringType(), True),\n",
    "    StructField('acousticness', FloatType(), True),\n",
    "    StructField('danceability', FloatType(), True),\n",
    "    StructField('duration_ms', IntegerType(), True),\n",
    "    StructField('energy', FloatType(), True),\n",
    "    StructField('instrumentalness', FloatType(), True),\n",
    "    StructField('key', IntegerType(), True),\n",
    "    StructField('liveness', FloatType(), True),\n",
    "    StructField('loudness', FloatType(), True),\n",
    "    StructField('mode', IntegerType(), True),\n",
    "    StructField('speechiness', FloatType(), True),\n",
    "    StructField('tempo', FloatType(), True),\n",
    "    StructField('time_signature', IntegerType(), True),\n",
    "    StructField('valence', FloatType(), True)\n",
    "])\n",
    "\n",
    "# this is not importing correctly - it is utf-8, not sure why i can't get it to work...\n",
    "# https://spark.apache.org/docs/3.1.1/api/python/reference/api/pyspark.sql.DataFrameReader.csv.html\n",
    "df_pyspark = spark.read.csv('all_audio_features_sql.csv', header=True, schema=schema, encoding='utf-8')\n",
    "df_pyspark.printSchema()"
   ]
  },
  {
   "cell_type": "code",
   "execution_count": 4,
   "id": "34f14550",
   "metadata": {},
   "outputs": [],
   "source": [
    "df_pandas = pd.read_csv('all_audio_features_sql.csv')"
   ]
  },
  {
   "cell_type": "code",
   "execution_count": 5,
   "id": "f91174c1",
   "metadata": {},
   "outputs": [
    {
     "data": {
      "text/plain": [
       "id                   object\n",
       "name                 object\n",
       "name:1               object\n",
       "acousticness        float64\n",
       "danceability        float64\n",
       "duration              int64\n",
       "energy              float64\n",
       "instrumentalness    float64\n",
       "key                   int64\n",
       "liveness            float64\n",
       "loudness            float64\n",
       "mode                  int64\n",
       "speechiness         float64\n",
       "tempo               float64\n",
       "time_signature        int64\n",
       "valence             float64\n",
       "dtype: object"
      ]
     },
     "execution_count": 5,
     "metadata": {},
     "output_type": "execute_result"
    }
   ],
   "source": [
    "df_pandas.dtypes"
   ]
  },
  {
   "cell_type": "code",
   "execution_count": 6,
   "id": "e4ae0a68",
   "metadata": {},
   "outputs": [
    {
     "data": {
      "text/html": [
       "<div>\n",
       "<style scoped>\n",
       "    .dataframe tbody tr th:only-of-type {\n",
       "        vertical-align: middle;\n",
       "    }\n",
       "\n",
       "    .dataframe tbody tr th {\n",
       "        vertical-align: top;\n",
       "    }\n",
       "\n",
       "    .dataframe thead th {\n",
       "        text-align: right;\n",
       "    }\n",
       "</style>\n",
       "<table border=\"1\" class=\"dataframe\">\n",
       "  <thead>\n",
       "    <tr style=\"text-align: right;\">\n",
       "      <th></th>\n",
       "      <th>id</th>\n",
       "      <th>name</th>\n",
       "      <th>name:1</th>\n",
       "      <th>acousticness</th>\n",
       "      <th>danceability</th>\n",
       "      <th>duration</th>\n",
       "      <th>energy</th>\n",
       "      <th>instrumentalness</th>\n",
       "      <th>key</th>\n",
       "      <th>liveness</th>\n",
       "      <th>loudness</th>\n",
       "      <th>mode</th>\n",
       "      <th>speechiness</th>\n",
       "      <th>tempo</th>\n",
       "      <th>time_signature</th>\n",
       "      <th>valence</th>\n",
       "    </tr>\n",
       "  </thead>\n",
       "  <tbody>\n",
       "    <tr>\n",
       "      <th>0</th>\n",
       "      <td>1dizvxctg9dHEyaYTFufVi</td>\n",
       "      <td>Nancy Fletcher</td>\n",
       "      <td>Gz And Hustlas (feat. Nancy Fletcher)</td>\n",
       "      <td>0.16</td>\n",
       "      <td>0.65</td>\n",
       "      <td>275893</td>\n",
       "      <td>0.81</td>\n",
       "      <td>0.00</td>\n",
       "      <td>1</td>\n",
       "      <td>0.36</td>\n",
       "      <td>-4.90</td>\n",
       "      <td>1</td>\n",
       "      <td>0.31</td>\n",
       "      <td>91.89</td>\n",
       "      <td>4</td>\n",
       "      <td>0.79</td>\n",
       "    </tr>\n",
       "  </tbody>\n",
       "</table>\n",
       "</div>"
      ],
      "text/plain": [
       "                       id            name  \\\n",
       "0  1dizvxctg9dHEyaYTFufVi  Nancy Fletcher   \n",
       "\n",
       "                                  name:1  acousticness  danceability  \\\n",
       "0  Gz And Hustlas (feat. Nancy Fletcher)          0.16          0.65   \n",
       "\n",
       "   duration  energy  instrumentalness  key  liveness  loudness  mode  \\\n",
       "0    275893    0.81              0.00    1      0.36     -4.90     1   \n",
       "\n",
       "   speechiness  tempo  time_signature  valence  \n",
       "0         0.31  91.89               4     0.79  "
      ]
     },
     "execution_count": 6,
     "metadata": {},
     "output_type": "execute_result"
    }
   ],
   "source": [
    "df_pandas.head(1)"
   ]
  },
  {
   "cell_type": "markdown",
   "id": "9d0a1cbd",
   "metadata": {},
   "source": [
    "### COMPARISONS"
   ]
  },
  {
   "cell_type": "code",
   "execution_count": 7,
   "id": "48eb07b6",
   "metadata": {
    "scrolled": false
   },
   "outputs": [
    {
     "name": "stdout",
     "output_type": "stream",
     "text": [
      "Wall time: 4.3 s\n"
     ]
    },
    {
     "data": {
      "text/plain": [
       "11839780"
      ]
     },
     "execution_count": 7,
     "metadata": {},
     "output_type": "execute_result"
    }
   ],
   "source": [
    "%%time\n",
    "df_pyspark.count()"
   ]
  },
  {
   "cell_type": "code",
   "execution_count": 8,
   "id": "5a0e6878",
   "metadata": {},
   "outputs": [
    {
     "name": "stdout",
     "output_type": "stream",
     "text": [
      "Wall time: 1.31 s\n"
     ]
    },
    {
     "data": {
      "text/plain": [
       "11839780"
      ]
     },
     "execution_count": 8,
     "metadata": {},
     "output_type": "execute_result"
    }
   ],
   "source": [
    "%%time\n",
    "df_pandas.count()[0]"
   ]
  },
  {
   "cell_type": "code",
   "execution_count": 9,
   "id": "6283e861",
   "metadata": {},
   "outputs": [
    {
     "name": "stdout",
     "output_type": "stream",
     "text": [
      "+---------------+\n",
      "|count(loudness)|\n",
      "+---------------+\n",
      "|       11628325|\n",
      "+---------------+\n",
      "\n",
      "Wall time: 5.86 s\n"
     ]
    }
   ],
   "source": [
    "%%time\n",
    "df_pyspark.filter('danceability>0.1').agg({'loudness':'count'}).show()\n",
    "# df_pyspark.filter('danceability>0.1').agg({'loudness':'mean'}).show()"
   ]
  },
  {
   "cell_type": "code",
   "execution_count": 10,
   "id": "857477e0",
   "metadata": {},
   "outputs": [
    {
     "name": "stdout",
     "output_type": "stream",
     "text": [
      "Wall time: 1.12 s\n"
     ]
    },
    {
     "data": {
      "text/plain": [
       "11669029"
      ]
     },
     "execution_count": 10,
     "metadata": {},
     "output_type": "execute_result"
    }
   ],
   "source": [
    "%%time\n",
    "df_pandas[df_pandas.danceability>0.1].loudness.count()\n",
    "# df_pandas[df_pandas.danceability>0.1].loudness.mean()"
   ]
  },
  {
   "cell_type": "code",
   "execution_count": 11,
   "id": "d8b0b554",
   "metadata": {},
   "outputs": [
    {
     "name": "stdout",
     "output_type": "stream",
     "text": [
      "+---------------+\n",
      "|count(loudness)|\n",
      "+---------------+\n",
      "|         156955|\n",
      "+---------------+\n",
      "\n",
      "Wall time: 4.07 s\n"
     ]
    }
   ],
   "source": [
    "%%time\n",
    "df_pyspark.filter('danceability>0.9').agg({'loudness':'count'}).show()\n",
    "# df_pyspark.filter('danceability>0.9').agg({'loudness':'mean'}).show()"
   ]
  },
  {
   "cell_type": "code",
   "execution_count": 12,
   "id": "a1bbfbcb",
   "metadata": {},
   "outputs": [
    {
     "name": "stdout",
     "output_type": "stream",
     "text": [
      "Wall time: 80.3 ms\n"
     ]
    },
    {
     "data": {
      "text/plain": [
       "98574"
      ]
     },
     "execution_count": 12,
     "metadata": {},
     "output_type": "execute_result"
    }
   ],
   "source": [
    "%%time\n",
    "df_pandas[df_pandas.danceability>0.9].loudness.count()\n",
    "# df_pandas[df_pandas.danceability>0.9].loudness.mean()"
   ]
  },
  {
   "cell_type": "code",
   "execution_count": 13,
   "id": "8d6068ae",
   "metadata": {},
   "outputs": [
    {
     "name": "stdout",
     "output_type": "stream",
     "text": [
      "Wall time: 1min 54s\n"
     ]
    },
    {
     "data": {
      "text/plain": [
       "DataFrame[summary: string, id: string, song: string, artist: string, acousticness: string, danceability: string, duration_ms: string, energy: string, instrumentalness: string, key: string, liveness: string, loudness: string, mode: string, speechiness: string, tempo: string, time_signature: string, valence: string]"
      ]
     },
     "execution_count": 13,
     "metadata": {},
     "output_type": "execute_result"
    }
   ],
   "source": [
    "%%time\n",
    "df_pyspark.describe()"
   ]
  },
  {
   "cell_type": "code",
   "execution_count": 14,
   "id": "735f827b",
   "metadata": {},
   "outputs": [
    {
     "name": "stdout",
     "output_type": "stream",
     "text": [
      "Wall time: 1min 48s\n"
     ]
    },
    {
     "data": {
      "text/html": [
       "<div>\n",
       "<style scoped>\n",
       "    .dataframe tbody tr th:only-of-type {\n",
       "        vertical-align: middle;\n",
       "    }\n",
       "\n",
       "    .dataframe tbody tr th {\n",
       "        vertical-align: top;\n",
       "    }\n",
       "\n",
       "    .dataframe thead th {\n",
       "        text-align: right;\n",
       "    }\n",
       "</style>\n",
       "<table border=\"1\" class=\"dataframe\">\n",
       "  <thead>\n",
       "    <tr style=\"text-align: right;\">\n",
       "      <th></th>\n",
       "      <th>summary</th>\n",
       "      <th>id</th>\n",
       "      <th>song</th>\n",
       "      <th>artist</th>\n",
       "      <th>acousticness</th>\n",
       "      <th>danceability</th>\n",
       "      <th>duration_ms</th>\n",
       "      <th>energy</th>\n",
       "      <th>instrumentalness</th>\n",
       "      <th>key</th>\n",
       "      <th>liveness</th>\n",
       "      <th>loudness</th>\n",
       "      <th>mode</th>\n",
       "      <th>speechiness</th>\n",
       "      <th>tempo</th>\n",
       "      <th>time_signature</th>\n",
       "      <th>valence</th>\n",
       "    </tr>\n",
       "  </thead>\n",
       "  <tbody>\n",
       "    <tr>\n",
       "      <th>0</th>\n",
       "      <td>count</td>\n",
       "      <td>11839780</td>\n",
       "      <td>11839780</td>\n",
       "      <td>11835826</td>\n",
       "      <td>11727876</td>\n",
       "      <td>11797075</td>\n",
       "      <td>11728106</td>\n",
       "      <td>11828702</td>\n",
       "      <td>11832811</td>\n",
       "      <td>11746123</td>\n",
       "      <td>11837357</td>\n",
       "      <td>11838067</td>\n",
       "      <td>11739238</td>\n",
       "      <td>11838973</td>\n",
       "      <td>11839328</td>\n",
       "      <td>11739161</td>\n",
       "      <td>11839654</td>\n",
       "    </tr>\n",
       "    <tr>\n",
       "      <th>1</th>\n",
       "      <td>mean</td>\n",
       "      <td>None</td>\n",
       "      <td>NaN</td>\n",
       "      <td>NaN</td>\n",
       "      <td>0.4736658799489669</td>\n",
       "      <td>0.5182978325806825</td>\n",
       "      <td>242308.7797768881</td>\n",
       "      <td>1412.609524746616</td>\n",
       "      <td>457.21300046214236</td>\n",
       "      <td>178.0146751400441</td>\n",
       "      <td>83.22883839299617</td>\n",
       "      <td>42.32047341108817</td>\n",
       "      <td>38.22132535348546</td>\n",
       "      <td>15.86723746672765</td>\n",
       "      <td>127.04335486294099</td>\n",
       "      <td>10.180670577735496</td>\n",
       "      <td>7.576268620775127</td>\n",
       "    </tr>\n",
       "    <tr>\n",
       "      <th>2</th>\n",
       "      <td>stddev</td>\n",
       "      <td>None</td>\n",
       "      <td>NaN</td>\n",
       "      <td>NaN</td>\n",
       "      <td>0.48736836443011256</td>\n",
       "      <td>0.20171965495859617</td>\n",
       "      <td>164951.64868950774</td>\n",
       "      <td>23770.52914833623</td>\n",
       "      <td>13065.770014763095</td>\n",
       "      <td>8116.976337836692</td>\n",
       "      <td>5649.2341722380625</td>\n",
       "      <td>4203.281188593474</td>\n",
       "      <td>3730.9494677455714</td>\n",
       "      <td>2646.6503381743996</td>\n",
       "      <td>1943.3144906716352</td>\n",
       "      <td>1418.0251567283788</td>\n",
       "      <td>1578.6425297615417</td>\n",
       "    </tr>\n",
       "    <tr>\n",
       "      <th>3</th>\n",
       "      <td>min</td>\n",
       "      <td>0000QBRGPosiFRXKmMYnsO</td>\n",
       "      <td>!!!</td>\n",
       "      <td>\"\"Cachaito\"\" López Y \"\"Guajiro\"\" Mirabal De B...</td>\n",
       "      <td>0.0</td>\n",
       "      <td>0.0</td>\n",
       "      <td>0</td>\n",
       "      <td>0.0</td>\n",
       "      <td>0.0</td>\n",
       "      <td>0</td>\n",
       "      <td>0.0</td>\n",
       "      <td>-60.0</td>\n",
       "      <td>-37</td>\n",
       "      <td>-49.195</td>\n",
       "      <td>-49.33</td>\n",
       "      <td>-34</td>\n",
       "      <td>-35.25</td>\n",
       "    </tr>\n",
       "    <tr>\n",
       "      <th>4</th>\n",
       "      <td>max</td>\n",
       "      <td>7zzzHZ2sGSdBizrykHrWtd</td>\n",
       "      <td>ｄｅｔｒｏｉｔ７</td>\n",
       "      <td>��迌</td>\n",
       "      <td>999.0</td>\n",
       "      <td>6.0</td>\n",
       "      <td>19672058</td>\n",
       "      <td>3610500.0</td>\n",
       "      <td>2180000.0</td>\n",
       "      <td>1659533</td>\n",
       "      <td>1857000.0</td>\n",
       "      <td>1177160.0</td>\n",
       "      <td>1392693</td>\n",
       "      <td>1590733.0</td>\n",
       "      <td>1248173.0</td>\n",
       "      <td>1089066</td>\n",
       "      <td>904893.0</td>\n",
       "    </tr>\n",
       "  </tbody>\n",
       "</table>\n",
       "</div>"
      ],
      "text/plain": [
       "  summary                      id      song  \\\n",
       "0   count                11839780  11839780   \n",
       "1    mean                    None       NaN   \n",
       "2  stddev                    None       NaN   \n",
       "3     min  0000QBRGPosiFRXKmMYnsO       !!!   \n",
       "4     max  7zzzHZ2sGSdBizrykHrWtd  ｄｅｔｒｏｉｔ７   \n",
       "\n",
       "                                              artist         acousticness  \\\n",
       "0                                           11835826             11727876   \n",
       "1                                                NaN   0.4736658799489669   \n",
       "2                                                NaN  0.48736836443011256   \n",
       "3   \"\"Cachaito\"\" López Y \"\"Guajiro\"\" Mirabal De B...                  0.0   \n",
       "4                                                ��迌                999.0   \n",
       "\n",
       "          danceability         duration_ms             energy  \\\n",
       "0             11797075            11728106           11828702   \n",
       "1   0.5182978325806825   242308.7797768881  1412.609524746616   \n",
       "2  0.20171965495859617  164951.64868950774  23770.52914833623   \n",
       "3                  0.0                   0                0.0   \n",
       "4                  6.0            19672058          3610500.0   \n",
       "\n",
       "     instrumentalness                key            liveness  \\\n",
       "0            11832811           11746123            11837357   \n",
       "1  457.21300046214236  178.0146751400441   83.22883839299617   \n",
       "2  13065.770014763095  8116.976337836692  5649.2341722380625   \n",
       "3                 0.0                  0                 0.0   \n",
       "4           2180000.0            1659533           1857000.0   \n",
       "\n",
       "            loudness                mode         speechiness  \\\n",
       "0           11838067            11739238            11838973   \n",
       "1  42.32047341108817   38.22132535348546   15.86723746672765   \n",
       "2  4203.281188593474  3730.9494677455714  2646.6503381743996   \n",
       "3              -60.0                 -37             -49.195   \n",
       "4          1177160.0             1392693           1590733.0   \n",
       "\n",
       "                tempo      time_signature             valence  \n",
       "0            11839328            11739161            11839654  \n",
       "1  127.04335486294099  10.180670577735496   7.576268620775127  \n",
       "2  1943.3144906716352  1418.0251567283788  1578.6425297615417  \n",
       "3              -49.33                 -34              -35.25  \n",
       "4           1248173.0             1089066            904893.0  "
      ]
     },
     "execution_count": 14,
     "metadata": {},
     "output_type": "execute_result"
    }
   ],
   "source": [
    "%%time\n",
    "df_pyspark.describe().toPandas()\n",
    "# the data is completely mangled"
   ]
  },
  {
   "cell_type": "code",
   "execution_count": 15,
   "id": "91a60e7f",
   "metadata": {},
   "outputs": [
    {
     "name": "stdout",
     "output_type": "stream",
     "text": [
      "Wall time: 3.73 s\n"
     ]
    },
    {
     "data": {
      "text/html": [
       "<div>\n",
       "<style scoped>\n",
       "    .dataframe tbody tr th:only-of-type {\n",
       "        vertical-align: middle;\n",
       "    }\n",
       "\n",
       "    .dataframe tbody tr th {\n",
       "        vertical-align: top;\n",
       "    }\n",
       "\n",
       "    .dataframe thead th {\n",
       "        text-align: right;\n",
       "    }\n",
       "</style>\n",
       "<table border=\"1\" class=\"dataframe\">\n",
       "  <thead>\n",
       "    <tr style=\"text-align: right;\">\n",
       "      <th></th>\n",
       "      <th>acousticness</th>\n",
       "      <th>danceability</th>\n",
       "      <th>duration</th>\n",
       "      <th>energy</th>\n",
       "      <th>instrumentalness</th>\n",
       "      <th>key</th>\n",
       "      <th>liveness</th>\n",
       "      <th>loudness</th>\n",
       "      <th>mode</th>\n",
       "      <th>speechiness</th>\n",
       "      <th>tempo</th>\n",
       "      <th>time_signature</th>\n",
       "      <th>valence</th>\n",
       "    </tr>\n",
       "  </thead>\n",
       "  <tbody>\n",
       "    <tr>\n",
       "      <th>count</th>\n",
       "      <td>11839780.00</td>\n",
       "      <td>11839780.00</td>\n",
       "      <td>11839780.00</td>\n",
       "      <td>11839780.00</td>\n",
       "      <td>11839780.00</td>\n",
       "      <td>11839780.00</td>\n",
       "      <td>11839780.00</td>\n",
       "      <td>11839780.00</td>\n",
       "      <td>11839780.00</td>\n",
       "      <td>11839780.00</td>\n",
       "      <td>11839780.00</td>\n",
       "      <td>11839780.00</td>\n",
       "      <td>11839780.00</td>\n",
       "    </tr>\n",
       "    <tr>\n",
       "      <th>mean</th>\n",
       "      <td>0.48</td>\n",
       "      <td>0.51</td>\n",
       "      <td>242287.31</td>\n",
       "      <td>0.50</td>\n",
       "      <td>0.27</td>\n",
       "      <td>5.23</td>\n",
       "      <td>0.21</td>\n",
       "      <td>-12.01</td>\n",
       "      <td>0.66</td>\n",
       "      <td>0.10</td>\n",
       "      <td>116.69</td>\n",
       "      <td>3.82</td>\n",
       "      <td>0.45</td>\n",
       "    </tr>\n",
       "    <tr>\n",
       "      <th>std</th>\n",
       "      <td>0.39</td>\n",
       "      <td>0.20</td>\n",
       "      <td>165215.34</td>\n",
       "      <td>0.30</td>\n",
       "      <td>0.37</td>\n",
       "      <td>3.53</td>\n",
       "      <td>0.18</td>\n",
       "      <td>7.09</td>\n",
       "      <td>0.47</td>\n",
       "      <td>0.15</td>\n",
       "      <td>31.18</td>\n",
       "      <td>0.60</td>\n",
       "      <td>0.28</td>\n",
       "    </tr>\n",
       "    <tr>\n",
       "      <th>min</th>\n",
       "      <td>0.00</td>\n",
       "      <td>0.00</td>\n",
       "      <td>0.00</td>\n",
       "      <td>0.00</td>\n",
       "      <td>0.00</td>\n",
       "      <td>0.00</td>\n",
       "      <td>0.00</td>\n",
       "      <td>-60.00</td>\n",
       "      <td>0.00</td>\n",
       "      <td>0.00</td>\n",
       "      <td>0.00</td>\n",
       "      <td>0.00</td>\n",
       "      <td>0.00</td>\n",
       "    </tr>\n",
       "    <tr>\n",
       "      <th>25%</th>\n",
       "      <td>0.05</td>\n",
       "      <td>0.37</td>\n",
       "      <td>167333.00</td>\n",
       "      <td>0.23</td>\n",
       "      <td>0.00</td>\n",
       "      <td>2.00</td>\n",
       "      <td>0.10</td>\n",
       "      <td>-15.98</td>\n",
       "      <td>0.00</td>\n",
       "      <td>0.04</td>\n",
       "      <td>92.94</td>\n",
       "      <td>4.00</td>\n",
       "      <td>0.20</td>\n",
       "    </tr>\n",
       "    <tr>\n",
       "      <th>50%</th>\n",
       "      <td>0.46</td>\n",
       "      <td>0.53</td>\n",
       "      <td>217506.00</td>\n",
       "      <td>0.52</td>\n",
       "      <td>0.00</td>\n",
       "      <td>5.00</td>\n",
       "      <td>0.13</td>\n",
       "      <td>-9.99</td>\n",
       "      <td>1.00</td>\n",
       "      <td>0.05</td>\n",
       "      <td>116.47</td>\n",
       "      <td>4.00</td>\n",
       "      <td>0.44</td>\n",
       "    </tr>\n",
       "    <tr>\n",
       "      <th>75%</th>\n",
       "      <td>0.90</td>\n",
       "      <td>0.67</td>\n",
       "      <td>280973.00</td>\n",
       "      <td>0.76</td>\n",
       "      <td>0.69</td>\n",
       "      <td>8.00</td>\n",
       "      <td>0.26</td>\n",
       "      <td>-6.68</td>\n",
       "      <td>1.00</td>\n",
       "      <td>0.08</td>\n",
       "      <td>135.61</td>\n",
       "      <td>4.00</td>\n",
       "      <td>0.69</td>\n",
       "    </tr>\n",
       "    <tr>\n",
       "      <th>max</th>\n",
       "      <td>1.00</td>\n",
       "      <td>1.00</td>\n",
       "      <td>19672058.00</td>\n",
       "      <td>1.00</td>\n",
       "      <td>1.00</td>\n",
       "      <td>11.00</td>\n",
       "      <td>1.00</td>\n",
       "      <td>6.28</td>\n",
       "      <td>1.00</td>\n",
       "      <td>0.97</td>\n",
       "      <td>249.99</td>\n",
       "      <td>5.00</td>\n",
       "      <td>1.00</td>\n",
       "    </tr>\n",
       "  </tbody>\n",
       "</table>\n",
       "</div>"
      ],
      "text/plain": [
       "       acousticness  danceability    duration      energy  instrumentalness  \\\n",
       "count   11839780.00   11839780.00 11839780.00 11839780.00       11839780.00   \n",
       "mean           0.48          0.51   242287.31        0.50              0.27   \n",
       "std            0.39          0.20   165215.34        0.30              0.37   \n",
       "min            0.00          0.00        0.00        0.00              0.00   \n",
       "25%            0.05          0.37   167333.00        0.23              0.00   \n",
       "50%            0.46          0.53   217506.00        0.52              0.00   \n",
       "75%            0.90          0.67   280973.00        0.76              0.69   \n",
       "max            1.00          1.00 19672058.00        1.00              1.00   \n",
       "\n",
       "              key    liveness    loudness        mode  speechiness  \\\n",
       "count 11839780.00 11839780.00 11839780.00 11839780.00  11839780.00   \n",
       "mean         5.23        0.21      -12.01        0.66         0.10   \n",
       "std          3.53        0.18        7.09        0.47         0.15   \n",
       "min          0.00        0.00      -60.00        0.00         0.00   \n",
       "25%          2.00        0.10      -15.98        0.00         0.04   \n",
       "50%          5.00        0.13       -9.99        1.00         0.05   \n",
       "75%          8.00        0.26       -6.68        1.00         0.08   \n",
       "max         11.00        1.00        6.28        1.00         0.97   \n",
       "\n",
       "            tempo  time_signature     valence  \n",
       "count 11839780.00     11839780.00 11839780.00  \n",
       "mean       116.69            3.82        0.45  \n",
       "std         31.18            0.60        0.28  \n",
       "min          0.00            0.00        0.00  \n",
       "25%         92.94            4.00        0.20  \n",
       "50%        116.47            4.00        0.44  \n",
       "75%        135.61            4.00        0.69  \n",
       "max        249.99            5.00        1.00  "
      ]
     },
     "execution_count": 15,
     "metadata": {},
     "output_type": "execute_result"
    }
   ],
   "source": [
    "%%time\n",
    "df_pandas.describe()"
   ]
  },
  {
   "cell_type": "markdown",
   "id": "0c55c0c4",
   "metadata": {},
   "source": [
    "### CONCLUSIONS:\n",
    "\n",
    "* Pandas is (way) faster on this computer without any multithreading / distributed processing\n",
    "* They give different answers for some reason...\n",
    "    * PySpark isn't importing correctly even though Pandas can, and both default to utf-8 enconding (the enconding for the csv)\n",
    "    * converting the pandas dataframe to pyspark worked even worse\n",
    "        * super slow, memory error without changing config, errors 100% of the time (even .head())"
   ]
  },
  {
   "cell_type": "markdown",
   "id": "58afc5be",
   "metadata": {},
   "source": [
    "### \"De\"-Bugging\n",
    "more like bug watching"
   ]
  },
  {
   "cell_type": "code",
   "execution_count": 16,
   "id": "3b26a4f8",
   "metadata": {},
   "outputs": [
    {
     "name": "stdout",
     "output_type": "stream",
     "text": [
      "+---------------+\n",
      "|count(loudness)|\n",
      "+---------------+\n",
      "|           6791|\n",
      "+---------------+\n",
      "\n"
     ]
    }
   ],
   "source": [
    "df_pyspark.filter('danceability>0.99').agg({'loudness':'count'}).show()"
   ]
  },
  {
   "cell_type": "code",
   "execution_count": 17,
   "id": "aeb50800",
   "metadata": {},
   "outputs": [
    {
     "data": {
      "text/plain": [
       "110"
      ]
     },
     "execution_count": 17,
     "metadata": {},
     "output_type": "execute_result"
    }
   ],
   "source": [
    "df_pandas[df_pandas.danceability>0.99].loudness.count()"
   ]
  },
  {
   "cell_type": "code",
   "execution_count": 18,
   "id": "d84b705c",
   "metadata": {},
   "outputs": [
    {
     "data": {
      "text/plain": [
       "110"
      ]
     },
     "execution_count": 18,
     "metadata": {},
     "output_type": "execute_result"
    }
   ],
   "source": [
    "df_pandas[df_pandas.danceability>=0.99].loudness.count()"
   ]
  },
  {
   "cell_type": "code",
   "execution_count": 19,
   "id": "1538346f",
   "metadata": {},
   "outputs": [],
   "source": [
    "df_pyspark99 = df_pyspark.filter(df_pyspark.danceability > 0.99)"
   ]
  },
  {
   "cell_type": "code",
   "execution_count": 20,
   "id": "823275df",
   "metadata": {},
   "outputs": [
    {
     "data": {
      "text/plain": [
       "6791"
      ]
     },
     "execution_count": 20,
     "metadata": {},
     "output_type": "execute_result"
    }
   ],
   "source": [
    "df_pyspark99.count()"
   ]
  },
  {
   "cell_type": "code",
   "execution_count": 21,
   "id": "2827a772",
   "metadata": {},
   "outputs": [],
   "source": [
    "df_pyspark99_pandas = df_pyspark99.toPandas()"
   ]
  },
  {
   "cell_type": "code",
   "execution_count": 22,
   "id": "db8c60c4",
   "metadata": {},
   "outputs": [],
   "source": [
    "list_spark99 = df_pyspark99_pandas.id.tolist()"
   ]
  },
  {
   "cell_type": "code",
   "execution_count": 23,
   "id": "64d48a13",
   "metadata": {},
   "outputs": [
    {
     "data": {
      "text/html": [
       "<div>\n",
       "<style scoped>\n",
       "    .dataframe tbody tr th:only-of-type {\n",
       "        vertical-align: middle;\n",
       "    }\n",
       "\n",
       "    .dataframe tbody tr th {\n",
       "        vertical-align: top;\n",
       "    }\n",
       "\n",
       "    .dataframe thead th {\n",
       "        text-align: right;\n",
       "    }\n",
       "</style>\n",
       "<table border=\"1\" class=\"dataframe\">\n",
       "  <thead>\n",
       "    <tr style=\"text-align: right;\">\n",
       "      <th></th>\n",
       "      <th>acousticness</th>\n",
       "      <th>danceability</th>\n",
       "      <th>duration</th>\n",
       "      <th>energy</th>\n",
       "      <th>instrumentalness</th>\n",
       "      <th>key</th>\n",
       "      <th>liveness</th>\n",
       "      <th>loudness</th>\n",
       "      <th>mode</th>\n",
       "      <th>speechiness</th>\n",
       "      <th>tempo</th>\n",
       "      <th>time_signature</th>\n",
       "      <th>valence</th>\n",
       "    </tr>\n",
       "  </thead>\n",
       "  <tbody>\n",
       "    <tr>\n",
       "      <th>count</th>\n",
       "      <td>6797.00</td>\n",
       "      <td>6797.00</td>\n",
       "      <td>6797.00</td>\n",
       "      <td>6797.00</td>\n",
       "      <td>6797.00</td>\n",
       "      <td>6797.00</td>\n",
       "      <td>6797.00</td>\n",
       "      <td>6797.00</td>\n",
       "      <td>6797.00</td>\n",
       "      <td>6797.00</td>\n",
       "      <td>6797.00</td>\n",
       "      <td>6797.00</td>\n",
       "      <td>6797.00</td>\n",
       "    </tr>\n",
       "    <tr>\n",
       "      <th>mean</th>\n",
       "      <td>0.98</td>\n",
       "      <td>0.35</td>\n",
       "      <td>203641.71</td>\n",
       "      <td>0.11</td>\n",
       "      <td>0.48</td>\n",
       "      <td>5.07</td>\n",
       "      <td>0.15</td>\n",
       "      <td>-22.49</td>\n",
       "      <td>0.73</td>\n",
       "      <td>0.06</td>\n",
       "      <td>102.33</td>\n",
       "      <td>3.65</td>\n",
       "      <td>0.26</td>\n",
       "    </tr>\n",
       "    <tr>\n",
       "      <th>std</th>\n",
       "      <td>0.11</td>\n",
       "      <td>0.16</td>\n",
       "      <td>162987.49</td>\n",
       "      <td>0.10</td>\n",
       "      <td>0.41</td>\n",
       "      <td>3.30</td>\n",
       "      <td>0.12</td>\n",
       "      <td>5.70</td>\n",
       "      <td>0.44</td>\n",
       "      <td>0.05</td>\n",
       "      <td>31.12</td>\n",
       "      <td>0.82</td>\n",
       "      <td>0.23</td>\n",
       "    </tr>\n",
       "    <tr>\n",
       "      <th>min</th>\n",
       "      <td>0.00</td>\n",
       "      <td>0.00</td>\n",
       "      <td>10453.00</td>\n",
       "      <td>0.00</td>\n",
       "      <td>0.00</td>\n",
       "      <td>0.00</td>\n",
       "      <td>0.03</td>\n",
       "      <td>-47.23</td>\n",
       "      <td>0.00</td>\n",
       "      <td>0.00</td>\n",
       "      <td>0.00</td>\n",
       "      <td>0.00</td>\n",
       "      <td>0.00</td>\n",
       "    </tr>\n",
       "    <tr>\n",
       "      <th>25%</th>\n",
       "      <td>0.99</td>\n",
       "      <td>0.25</td>\n",
       "      <td>87777.00</td>\n",
       "      <td>0.04</td>\n",
       "      <td>0.01</td>\n",
       "      <td>2.00</td>\n",
       "      <td>0.09</td>\n",
       "      <td>-26.36</td>\n",
       "      <td>0.00</td>\n",
       "      <td>0.04</td>\n",
       "      <td>77.15</td>\n",
       "      <td>3.00</td>\n",
       "      <td>0.08</td>\n",
       "    </tr>\n",
       "    <tr>\n",
       "      <th>50%</th>\n",
       "      <td>0.99</td>\n",
       "      <td>0.33</td>\n",
       "      <td>169426.00</td>\n",
       "      <td>0.09</td>\n",
       "      <td>0.55</td>\n",
       "      <td>5.00</td>\n",
       "      <td>0.12</td>\n",
       "      <td>-22.21</td>\n",
       "      <td>1.00</td>\n",
       "      <td>0.05</td>\n",
       "      <td>95.07</td>\n",
       "      <td>4.00</td>\n",
       "      <td>0.18</td>\n",
       "    </tr>\n",
       "    <tr>\n",
       "      <th>75%</th>\n",
       "      <td>0.99</td>\n",
       "      <td>0.43</td>\n",
       "      <td>268493.00</td>\n",
       "      <td>0.16</td>\n",
       "      <td>0.90</td>\n",
       "      <td>8.00</td>\n",
       "      <td>0.16</td>\n",
       "      <td>-18.45</td>\n",
       "      <td>1.00</td>\n",
       "      <td>0.06</td>\n",
       "      <td>125.12</td>\n",
       "      <td>4.00</td>\n",
       "      <td>0.38</td>\n",
       "    </tr>\n",
       "    <tr>\n",
       "      <th>max</th>\n",
       "      <td>1.00</td>\n",
       "      <td>1.00</td>\n",
       "      <td>1412613.00</td>\n",
       "      <td>0.93</td>\n",
       "      <td>0.99</td>\n",
       "      <td>11.00</td>\n",
       "      <td>0.94</td>\n",
       "      <td>-3.79</td>\n",
       "      <td>1.00</td>\n",
       "      <td>0.91</td>\n",
       "      <td>208.40</td>\n",
       "      <td>5.00</td>\n",
       "      <td>1.00</td>\n",
       "    </tr>\n",
       "  </tbody>\n",
       "</table>\n",
       "</div>"
      ],
      "text/plain": [
       "       acousticness  danceability   duration  energy  instrumentalness  \\\n",
       "count       6797.00       6797.00    6797.00 6797.00           6797.00   \n",
       "mean           0.98          0.35  203641.71    0.11              0.48   \n",
       "std            0.11          0.16  162987.49    0.10              0.41   \n",
       "min            0.00          0.00   10453.00    0.00              0.00   \n",
       "25%            0.99          0.25   87777.00    0.04              0.01   \n",
       "50%            0.99          0.33  169426.00    0.09              0.55   \n",
       "75%            0.99          0.43  268493.00    0.16              0.90   \n",
       "max            1.00          1.00 1412613.00    0.93              0.99   \n",
       "\n",
       "          key  liveness  loudness    mode  speechiness   tempo  \\\n",
       "count 6797.00   6797.00   6797.00 6797.00      6797.00 6797.00   \n",
       "mean     5.07      0.15    -22.49    0.73         0.06  102.33   \n",
       "std      3.30      0.12      5.70    0.44         0.05   31.12   \n",
       "min      0.00      0.03    -47.23    0.00         0.00    0.00   \n",
       "25%      2.00      0.09    -26.36    0.00         0.04   77.15   \n",
       "50%      5.00      0.12    -22.21    1.00         0.05   95.07   \n",
       "75%      8.00      0.16    -18.45    1.00         0.06  125.12   \n",
       "max     11.00      0.94     -3.79    1.00         0.91  208.40   \n",
       "\n",
       "       time_signature  valence  \n",
       "count         6797.00  6797.00  \n",
       "mean             3.65     0.26  \n",
       "std              0.82     0.23  \n",
       "min              0.00     0.00  \n",
       "25%              3.00     0.08  \n",
       "50%              4.00     0.18  \n",
       "75%              4.00     0.38  \n",
       "max              5.00     1.00  "
      ]
     },
     "execution_count": 23,
     "metadata": {},
     "output_type": "execute_result"
    }
   ],
   "source": [
    "df_pandas[df_pandas.id.isin(list_spark99)].describe()"
   ]
  },
  {
   "cell_type": "code",
   "execution_count": null,
   "id": "6fc2c8c0",
   "metadata": {},
   "outputs": [],
   "source": []
  }
 ],
 "metadata": {
  "kernelspec": {
   "display_name": "Python 3 (ipykernel)",
   "language": "python",
   "name": "python3"
  },
  "language_info": {
   "codemirror_mode": {
    "name": "ipython",
    "version": 3
   },
   "file_extension": ".py",
   "mimetype": "text/x-python",
   "name": "python",
   "nbconvert_exporter": "python",
   "pygments_lexer": "ipython3",
   "version": "3.9.7"
  }
 },
 "nbformat": 4,
 "nbformat_minor": 5
}
