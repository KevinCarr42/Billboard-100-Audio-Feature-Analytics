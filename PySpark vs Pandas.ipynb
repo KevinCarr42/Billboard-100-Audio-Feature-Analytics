{
 "cells": [
  {
   "cell_type": "code",
   "execution_count": 1,
   "id": "3af2dffd",
   "metadata": {},
   "outputs": [
    {
     "data": {
      "text/html": [
       "<style>.container { width:100% !important; }</style>"
      ],
      "text/plain": [
       "<IPython.core.display.HTML object>"
      ]
     },
     "metadata": {},
     "output_type": "display_data"
    }
   ],
   "source": [
    "from pyspark.sql import SparkSession\n",
    "import pandas as pd\n",
    "\n",
    "# jupyter notebook full-width display\n",
    "from IPython.core.display import display, HTML\n",
    "display(HTML(\"<style>.container { width:100% !important; }</style>\"))\n",
    "\n",
    "# pandas formatting\n",
    "pd.set_option('display.float_format', '{:.2f}'.format)\n",
    "# NOTE: underscore separaters ('_') are better than commas (',') because \n",
    "# numbers with underscores work in Python without any extra effort.\n",
    "pd.set_option('display.max_columns', None)\n",
    "pd.set_option('display.max_rows', 200)"
   ]
  },
  {
   "cell_type": "code",
   "execution_count": 2,
   "id": "cbe4bc64",
   "metadata": {},
   "outputs": [],
   "source": [
    "# spark = SparkSession.builder.appName('PySparkPandas').getOrCreate()\n",
    "# needs more memory\n",
    "spark = SparkSession.builder.appName(\"PySparkPandas\").config(\"spark.driver.memory\", \"32g\").getOrCreate()\n",
    "# spark.sparkContext.getConf().getAll()"
   ]
  },
  {
   "cell_type": "code",
   "execution_count": 3,
   "id": "84a019b2",
   "metadata": {},
   "outputs": [],
   "source": [
    "# df_pyspark = spark.read.csv('every_song_with_data.csv', header=True, inferSchema=True)\n",
    "# df_pyspark.printSchema()"
   ]
  },
  {
   "cell_type": "code",
   "execution_count": 4,
   "id": "5c0a1691",
   "metadata": {},
   "outputs": [
    {
     "name": "stdout",
     "output_type": "stream",
     "text": [
      "root\n",
      " |-- GARBAGE: integer (nullable = true)\n",
      " |-- id: string (nullable = true)\n",
      " |-- song: string (nullable = true)\n",
      " |-- artist: string (nullable = true)\n",
      " |-- acousticness: float (nullable = true)\n",
      " |-- danceability: float (nullable = true)\n",
      " |-- duration_ms: float (nullable = true)\n",
      " |-- energy: float (nullable = true)\n",
      " |-- instrumentalness: float (nullable = true)\n",
      " |-- key: float (nullable = true)\n",
      " |-- liveness: float (nullable = true)\n",
      " |-- loudness: float (nullable = true)\n",
      " |-- mode: float (nullable = true)\n",
      " |-- speechiness: float (nullable = true)\n",
      " |-- tempo: float (nullable = true)\n",
      " |-- time_signature: float (nullable = true)\n",
      " |-- valence: float (nullable = true)\n",
      "\n"
     ]
    }
   ],
   "source": [
    "# fix filetypes\n",
    "from pyspark.sql.types import *\n",
    "\n",
    "schema = StructType([\n",
    "    StructField('GARBAGE', IntegerType(), True),\n",
    "    StructField('id', StringType(), True),\n",
    "    StructField('song', StringType(), True),\n",
    "    StructField('artist', StringType(), True),\n",
    "    StructField('acousticness', FloatType(), True),\n",
    "    StructField('danceability', FloatType(), True),\n",
    "    StructField('duration_ms', FloatType(), True),\n",
    "    StructField('energy', FloatType(), True),\n",
    "    StructField('instrumentalness', FloatType(), True),\n",
    "    StructField('key', FloatType(), True),\n",
    "    StructField('liveness', FloatType(), True),\n",
    "    StructField('loudness', FloatType(), True),\n",
    "    StructField('mode', FloatType(), True),\n",
    "    StructField('speechiness', FloatType(), True),\n",
    "    StructField('tempo', FloatType(), True),\n",
    "    StructField('time_signature', FloatType(), True),\n",
    "    StructField('valence', FloatType(), True)\n",
    "])\n",
    "\n",
    "# this is not importing correctly - it is utf-8, not sure why i can't get it to work...\n",
    "# https://spark.apache.org/docs/3.1.1/api/python/reference/api/pyspark.sql.DataFrameReader.csv.html\n",
    "df_pyspark = spark.read.csv('every_song_with_data.csv', header=True, schema=schema, encoding='utf-8')\n",
    "df_pyspark.printSchema()"
   ]
  },
  {
   "cell_type": "code",
   "execution_count": 5,
   "id": "9f0a307c",
   "metadata": {},
   "outputs": [
    {
     "name": "stdout",
     "output_type": "stream",
     "text": [
      "root\n",
      " |-- id: string (nullable = true)\n",
      " |-- song: string (nullable = true)\n",
      " |-- artist: string (nullable = true)\n",
      " |-- acousticness: float (nullable = true)\n",
      " |-- danceability: float (nullable = true)\n",
      " |-- duration_ms: float (nullable = true)\n",
      " |-- energy: float (nullable = true)\n",
      " |-- instrumentalness: float (nullable = true)\n",
      " |-- key: float (nullable = true)\n",
      " |-- liveness: float (nullable = true)\n",
      " |-- loudness: float (nullable = true)\n",
      " |-- mode: float (nullable = true)\n",
      " |-- speechiness: float (nullable = true)\n",
      " |-- tempo: float (nullable = true)\n",
      " |-- time_signature: float (nullable = true)\n",
      " |-- valence: float (nullable = true)\n",
      "\n"
     ]
    }
   ],
   "source": [
    "df_pyspark = df_pyspark.drop('GARBAGE')\n",
    "df_pyspark.printSchema()"
   ]
  },
  {
   "cell_type": "code",
   "execution_count": 6,
   "id": "34f14550",
   "metadata": {},
   "outputs": [],
   "source": [
    "df_pandas = pd.read_csv('every_song_with_data.csv')\n",
    "df_pandas = df_pandas[df_pandas.columns[1:]]"
   ]
  },
  {
   "cell_type": "code",
   "execution_count": 7,
   "id": "f91174c1",
   "metadata": {},
   "outputs": [
    {
     "data": {
      "text/plain": [
       "id                   object\n",
       "song                 object\n",
       "artist               object\n",
       "acousticness        float64\n",
       "danceability        float64\n",
       "duration_ms         float64\n",
       "energy              float64\n",
       "instrumentalness    float64\n",
       "key                 float64\n",
       "liveness            float64\n",
       "loudness            float64\n",
       "mode                float64\n",
       "speechiness         float64\n",
       "tempo               float64\n",
       "time_signature      float64\n",
       "valence             float64\n",
       "dtype: object"
      ]
     },
     "execution_count": 7,
     "metadata": {},
     "output_type": "execute_result"
    }
   ],
   "source": [
    "df_pandas.dtypes"
   ]
  },
  {
   "cell_type": "code",
   "execution_count": 8,
   "id": "611c3981",
   "metadata": {},
   "outputs": [],
   "source": [
    "# # this runs out of memory, but when you add more memory, it just doesn't work (.head() = error)\n",
    "# df_pyspark = spark.createDataFrame(df_pandas, schema=schema)\n",
    "# df_pyspark.printSchema()"
   ]
  },
  {
   "cell_type": "markdown",
   "id": "9d0a1cbd",
   "metadata": {},
   "source": [
    "### COMPARISONS"
   ]
  },
  {
   "cell_type": "code",
   "execution_count": 9,
   "id": "48eb07b6",
   "metadata": {
    "scrolled": false
   },
   "outputs": [
    {
     "name": "stdout",
     "output_type": "stream",
     "text": [
      "Wall time: 3.62 s\n"
     ]
    },
    {
     "data": {
      "text/plain": [
       "9595992"
      ]
     },
     "execution_count": 9,
     "metadata": {},
     "output_type": "execute_result"
    }
   ],
   "source": [
    "%%time\n",
    "df_pyspark.count()"
   ]
  },
  {
   "cell_type": "code",
   "execution_count": 10,
   "id": "5a0e6878",
   "metadata": {},
   "outputs": [
    {
     "name": "stdout",
     "output_type": "stream",
     "text": [
      "Wall time: 1.02 s\n"
     ]
    },
    {
     "data": {
      "text/plain": [
       "9595992"
      ]
     },
     "execution_count": 10,
     "metadata": {},
     "output_type": "execute_result"
    }
   ],
   "source": [
    "%%time\n",
    "df_pandas.count()[0]"
   ]
  },
  {
   "cell_type": "code",
   "execution_count": 11,
   "id": "6283e861",
   "metadata": {},
   "outputs": [
    {
     "name": "stdout",
     "output_type": "stream",
     "text": [
      "+---------------+\n",
      "|count(loudness)|\n",
      "+---------------+\n",
      "|        9467923|\n",
      "+---------------+\n",
      "\n",
      "Wall time: 5.8 s\n"
     ]
    }
   ],
   "source": [
    "%%time\n",
    "df_pyspark.filter('danceability>0.1').agg({'loudness':'count'}).show()\n",
    "# df_pyspark.filter('danceability>0.1').agg({'loudness':'mean'}).show()"
   ]
  },
  {
   "cell_type": "code",
   "execution_count": 12,
   "id": "857477e0",
   "metadata": {},
   "outputs": [
    {
     "name": "stdout",
     "output_type": "stream",
     "text": [
      "Wall time: 1.06 s\n"
     ]
    },
    {
     "data": {
      "text/plain": [
       "9479314"
      ]
     },
     "execution_count": 12,
     "metadata": {},
     "output_type": "execute_result"
    }
   ],
   "source": [
    "%%time\n",
    "df_pandas[df_pandas.danceability>0.1].loudness.count()\n",
    "# df_pandas[df_pandas.danceability>0.1].loudness.mean()"
   ]
  },
  {
   "cell_type": "code",
   "execution_count": 13,
   "id": "d8b0b554",
   "metadata": {},
   "outputs": [
    {
     "name": "stdout",
     "output_type": "stream",
     "text": [
      "+---------------+\n",
      "|count(loudness)|\n",
      "+---------------+\n",
      "|          98089|\n",
      "+---------------+\n",
      "\n",
      "Wall time: 4.09 s\n"
     ]
    }
   ],
   "source": [
    "%%time\n",
    "df_pyspark.filter('danceability>0.9').agg({'loudness':'count'}).show()\n",
    "# df_pyspark.filter('danceability>0.9').agg({'loudness':'mean'}).show()"
   ]
  },
  {
   "cell_type": "code",
   "execution_count": 14,
   "id": "a1bbfbcb",
   "metadata": {},
   "outputs": [
    {
     "name": "stdout",
     "output_type": "stream",
     "text": [
      "Wall time: 73.8 ms\n"
     ]
    },
    {
     "data": {
      "text/plain": [
       "81449"
      ]
     },
     "execution_count": 14,
     "metadata": {},
     "output_type": "execute_result"
    }
   ],
   "source": [
    "%%time\n",
    "df_pandas[df_pandas.danceability>0.9].loudness.count()\n",
    "# df_pandas[df_pandas.danceability>0.9].loudness.mean()"
   ]
  },
  {
   "cell_type": "code",
   "execution_count": 15,
   "id": "8d6068ae",
   "metadata": {},
   "outputs": [
    {
     "name": "stdout",
     "output_type": "stream",
     "text": [
      "Wall time: 1min 46s\n"
     ]
    },
    {
     "data": {
      "text/plain": [
       "DataFrame[summary: string, id: string, song: string, artist: string, acousticness: string, danceability: string, duration_ms: string, energy: string, instrumentalness: string, key: string, liveness: string, loudness: string, mode: string, speechiness: string, tempo: string, time_signature: string, valence: string]"
      ]
     },
     "execution_count": 15,
     "metadata": {},
     "output_type": "execute_result"
    }
   ],
   "source": [
    "%%time\n",
    "df_pyspark.describe()"
   ]
  },
  {
   "cell_type": "code",
   "execution_count": 16,
   "id": "735f827b",
   "metadata": {},
   "outputs": [
    {
     "name": "stdout",
     "output_type": "stream",
     "text": [
      "Wall time: 1min 36s\n"
     ]
    },
    {
     "data": {
      "text/html": [
       "<div>\n",
       "<style scoped>\n",
       "    .dataframe tbody tr th:only-of-type {\n",
       "        vertical-align: middle;\n",
       "    }\n",
       "\n",
       "    .dataframe tbody tr th {\n",
       "        vertical-align: top;\n",
       "    }\n",
       "\n",
       "    .dataframe thead th {\n",
       "        text-align: right;\n",
       "    }\n",
       "</style>\n",
       "<table border=\"1\" class=\"dataframe\">\n",
       "  <thead>\n",
       "    <tr style=\"text-align: right;\">\n",
       "      <th></th>\n",
       "      <th>summary</th>\n",
       "      <th>id</th>\n",
       "      <th>song</th>\n",
       "      <th>artist</th>\n",
       "      <th>acousticness</th>\n",
       "      <th>danceability</th>\n",
       "      <th>duration_ms</th>\n",
       "      <th>energy</th>\n",
       "      <th>instrumentalness</th>\n",
       "      <th>key</th>\n",
       "      <th>liveness</th>\n",
       "      <th>loudness</th>\n",
       "      <th>mode</th>\n",
       "      <th>speechiness</th>\n",
       "      <th>tempo</th>\n",
       "      <th>time_signature</th>\n",
       "      <th>valence</th>\n",
       "    </tr>\n",
       "  </thead>\n",
       "  <tbody>\n",
       "    <tr>\n",
       "      <th>0</th>\n",
       "      <td>count</td>\n",
       "      <td>9595992</td>\n",
       "      <td>9592026</td>\n",
       "      <td>9595606</td>\n",
       "      <td>9562446</td>\n",
       "      <td>9584134</td>\n",
       "      <td>9591218</td>\n",
       "      <td>9593595</td>\n",
       "      <td>9594588</td>\n",
       "      <td>9595163</td>\n",
       "      <td>9595485</td>\n",
       "      <td>9595633</td>\n",
       "      <td>9595710</td>\n",
       "      <td>9595824</td>\n",
       "      <td>9595893</td>\n",
       "      <td>9595908</td>\n",
       "      <td>9595919</td>\n",
       "    </tr>\n",
       "    <tr>\n",
       "      <th>1</th>\n",
       "      <td>mean</td>\n",
       "      <td>None</td>\n",
       "      <td>NaN</td>\n",
       "      <td>NaN</td>\n",
       "      <td>0.4202998270634586</td>\n",
       "      <td>0.5309619621326106</td>\n",
       "      <td>237472.39320000014</td>\n",
       "      <td>550.5764407441259</td>\n",
       "      <td>182.31997574114484</td>\n",
       "      <td>66.29801924915428</td>\n",
       "      <td>25.619303251995973</td>\n",
       "      <td>4.993114946851147</td>\n",
       "      <td>8.860441357223824</td>\n",
       "      <td>3.7017310567163153</td>\n",
       "      <td>120.21270096005217</td>\n",
       "      <td>6.912010068779144</td>\n",
       "      <td>2.5705776891896646</td>\n",
       "    </tr>\n",
       "    <tr>\n",
       "      <th>2</th>\n",
       "      <td>stddev</td>\n",
       "      <td>None</td>\n",
       "      <td>NaN</td>\n",
       "      <td>NaN</td>\n",
       "      <td>0.37901165088122557</td>\n",
       "      <td>0.6646282460134003</td>\n",
       "      <td>159475.43899539037</td>\n",
       "      <td>14986.578948389351</td>\n",
       "      <td>8614.123580993457</td>\n",
       "      <td>4994.874524393464</td>\n",
       "      <td>3110.2100880945936</td>\n",
       "      <td>2602.6359656638797</td>\n",
       "      <td>1754.829824496312</td>\n",
       "      <td>1143.9188145955427</td>\n",
       "      <td>929.5529524710596</td>\n",
       "      <td>1069.7799185812169</td>\n",
       "      <td>894.5822740572261</td>\n",
       "    </tr>\n",
       "    <tr>\n",
       "      <th>3</th>\n",
       "      <td>min</td>\n",
       "      <td>0000QBRGPosiFRXKmMYnsO</td>\n",
       "      <td>!</td>\n",
       "      <td>\"\"\"\"Appassionata\"\"\"\" - Allegro Assai \"\"\"</td>\n",
       "      <td>0.0</td>\n",
       "      <td>0.0</td>\n",
       "      <td>0.0</td>\n",
       "      <td>0.0</td>\n",
       "      <td>0.0</td>\n",
       "      <td>0.0</td>\n",
       "      <td>0.0</td>\n",
       "      <td>-60.0</td>\n",
       "      <td>-50.955</td>\n",
       "      <td>-53.606</td>\n",
       "      <td>-49.33</td>\n",
       "      <td>-47.873</td>\n",
       "      <td>-35.25</td>\n",
       "    </tr>\n",
       "    <tr>\n",
       "      <th>4</th>\n",
       "      <td>max</td>\n",
       "      <td>7zzzxEQAsiuIimY7AiTGJ9</td>\n",
       "      <td>��迌</td>\n",
       "      <td>ｄｅｔｒｏｉｔ７</td>\n",
       "      <td>144.0</td>\n",
       "      <td>1970.0</td>\n",
       "      <td>1.9672058E7</td>\n",
       "      <td>3610500.0</td>\n",
       "      <td>2180000.0</td>\n",
       "      <td>2263853.0</td>\n",
       "      <td>1857000.0</td>\n",
       "      <td>2079960.0</td>\n",
       "      <td>1392693.0</td>\n",
       "      <td>1590733.0</td>\n",
       "      <td>1248173.0</td>\n",
       "      <td>1089066.0</td>\n",
       "      <td>904893.0</td>\n",
       "    </tr>\n",
       "  </tbody>\n",
       "</table>\n",
       "</div>"
      ],
      "text/plain": [
       "  summary                      id     song  \\\n",
       "0   count                 9595992  9592026   \n",
       "1    mean                    None      NaN   \n",
       "2  stddev                    None      NaN   \n",
       "3     min  0000QBRGPosiFRXKmMYnsO        !   \n",
       "4     max  7zzzxEQAsiuIimY7AiTGJ9      ��迌   \n",
       "\n",
       "                                      artist         acousticness  \\\n",
       "0                                    9595606              9562446   \n",
       "1                                        NaN   0.4202998270634586   \n",
       "2                                        NaN  0.37901165088122557   \n",
       "3   \"\"\"\"Appassionata\"\"\"\" - Allegro Assai \"\"\"                  0.0   \n",
       "4                                   ｄｅｔｒｏｉｔ７                144.0   \n",
       "\n",
       "         danceability         duration_ms              energy  \\\n",
       "0             9584134             9591218             9593595   \n",
       "1  0.5309619621326106  237472.39320000014   550.5764407441259   \n",
       "2  0.6646282460134003  159475.43899539037  14986.578948389351   \n",
       "3                 0.0                 0.0                 0.0   \n",
       "4              1970.0         1.9672058E7           3610500.0   \n",
       "\n",
       "     instrumentalness                key            liveness  \\\n",
       "0             9594588            9595163             9595485   \n",
       "1  182.31997574114484  66.29801924915428  25.619303251995973   \n",
       "2   8614.123580993457  4994.874524393464  3110.2100880945936   \n",
       "3                 0.0                0.0                 0.0   \n",
       "4           2180000.0          2263853.0           1857000.0   \n",
       "\n",
       "             loudness               mode         speechiness  \\\n",
       "0             9595633            9595710             9595824   \n",
       "1   4.993114946851147  8.860441357223824  3.7017310567163153   \n",
       "2  2602.6359656638797  1754.829824496312  1143.9188145955427   \n",
       "3               -60.0            -50.955             -53.606   \n",
       "4           2079960.0          1392693.0           1590733.0   \n",
       "\n",
       "                tempo      time_signature             valence  \n",
       "0             9595893             9595908             9595919  \n",
       "1  120.21270096005217   6.912010068779144  2.5705776891896646  \n",
       "2   929.5529524710596  1069.7799185812169   894.5822740572261  \n",
       "3              -49.33             -47.873              -35.25  \n",
       "4           1248173.0           1089066.0            904893.0  "
      ]
     },
     "execution_count": 16,
     "metadata": {},
     "output_type": "execute_result"
    }
   ],
   "source": [
    "%%time\n",
    "df_pyspark.describe().toPandas()\n",
    "# the data is completely mangled"
   ]
  },
  {
   "cell_type": "code",
   "execution_count": 17,
   "id": "91a60e7f",
   "metadata": {},
   "outputs": [
    {
     "name": "stdout",
     "output_type": "stream",
     "text": [
      "Wall time: 3.17 s\n"
     ]
    },
    {
     "data": {
      "text/html": [
       "<div>\n",
       "<style scoped>\n",
       "    .dataframe tbody tr th:only-of-type {\n",
       "        vertical-align: middle;\n",
       "    }\n",
       "\n",
       "    .dataframe tbody tr th {\n",
       "        vertical-align: top;\n",
       "    }\n",
       "\n",
       "    .dataframe thead th {\n",
       "        text-align: right;\n",
       "    }\n",
       "</style>\n",
       "<table border=\"1\" class=\"dataframe\">\n",
       "  <thead>\n",
       "    <tr style=\"text-align: right;\">\n",
       "      <th></th>\n",
       "      <th>acousticness</th>\n",
       "      <th>danceability</th>\n",
       "      <th>duration_ms</th>\n",
       "      <th>energy</th>\n",
       "      <th>instrumentalness</th>\n",
       "      <th>key</th>\n",
       "      <th>liveness</th>\n",
       "      <th>loudness</th>\n",
       "      <th>mode</th>\n",
       "      <th>speechiness</th>\n",
       "      <th>tempo</th>\n",
       "      <th>time_signature</th>\n",
       "      <th>valence</th>\n",
       "    </tr>\n",
       "  </thead>\n",
       "  <tbody>\n",
       "    <tr>\n",
       "      <th>count</th>\n",
       "      <td>9595992.00</td>\n",
       "      <td>9595992.00</td>\n",
       "      <td>9595992.00</td>\n",
       "      <td>9595992.00</td>\n",
       "      <td>9595992.00</td>\n",
       "      <td>9595992.00</td>\n",
       "      <td>9595992.00</td>\n",
       "      <td>9595992.00</td>\n",
       "      <td>9595992.00</td>\n",
       "      <td>9595992.00</td>\n",
       "      <td>9595992.00</td>\n",
       "      <td>9595992.00</td>\n",
       "      <td>9595992.00</td>\n",
       "    </tr>\n",
       "    <tr>\n",
       "      <th>mean</th>\n",
       "      <td>0.42</td>\n",
       "      <td>0.53</td>\n",
       "      <td>238209.59</td>\n",
       "      <td>0.54</td>\n",
       "      <td>0.26</td>\n",
       "      <td>5.24</td>\n",
       "      <td>0.21</td>\n",
       "      <td>-10.89</td>\n",
       "      <td>0.66</td>\n",
       "      <td>0.10</td>\n",
       "      <td>118.56</td>\n",
       "      <td>3.84</td>\n",
       "      <td>0.48</td>\n",
       "    </tr>\n",
       "    <tr>\n",
       "      <th>std</th>\n",
       "      <td>0.38</td>\n",
       "      <td>0.19</td>\n",
       "      <td>159341.59</td>\n",
       "      <td>0.28</td>\n",
       "      <td>0.37</td>\n",
       "      <td>3.54</td>\n",
       "      <td>0.18</td>\n",
       "      <td>6.36</td>\n",
       "      <td>0.47</td>\n",
       "      <td>0.14</td>\n",
       "      <td>31.03</td>\n",
       "      <td>0.57</td>\n",
       "      <td>0.28</td>\n",
       "    </tr>\n",
       "    <tr>\n",
       "      <th>min</th>\n",
       "      <td>0.00</td>\n",
       "      <td>0.00</td>\n",
       "      <td>0.00</td>\n",
       "      <td>0.00</td>\n",
       "      <td>0.00</td>\n",
       "      <td>0.00</td>\n",
       "      <td>0.00</td>\n",
       "      <td>-60.00</td>\n",
       "      <td>0.00</td>\n",
       "      <td>0.00</td>\n",
       "      <td>0.00</td>\n",
       "      <td>0.00</td>\n",
       "      <td>0.00</td>\n",
       "    </tr>\n",
       "    <tr>\n",
       "      <th>25%</th>\n",
       "      <td>0.03</td>\n",
       "      <td>0.40</td>\n",
       "      <td>169600.00</td>\n",
       "      <td>0.31</td>\n",
       "      <td>0.00</td>\n",
       "      <td>2.00</td>\n",
       "      <td>0.10</td>\n",
       "      <td>-13.68</td>\n",
       "      <td>0.00</td>\n",
       "      <td>0.04</td>\n",
       "      <td>95.08</td>\n",
       "      <td>4.00</td>\n",
       "      <td>0.23</td>\n",
       "    </tr>\n",
       "    <tr>\n",
       "      <th>50%</th>\n",
       "      <td>0.34</td>\n",
       "      <td>0.55</td>\n",
       "      <td>216933.00</td>\n",
       "      <td>0.57</td>\n",
       "      <td>0.00</td>\n",
       "      <td>5.00</td>\n",
       "      <td>0.13</td>\n",
       "      <td>-9.20</td>\n",
       "      <td>1.00</td>\n",
       "      <td>0.05</td>\n",
       "      <td>118.95</td>\n",
       "      <td>4.00</td>\n",
       "      <td>0.47</td>\n",
       "    </tr>\n",
       "    <tr>\n",
       "      <th>75%</th>\n",
       "      <td>0.82</td>\n",
       "      <td>0.68</td>\n",
       "      <td>275080.00</td>\n",
       "      <td>0.79</td>\n",
       "      <td>0.64</td>\n",
       "      <td>8.00</td>\n",
       "      <td>0.26</td>\n",
       "      <td>-6.40</td>\n",
       "      <td>1.00</td>\n",
       "      <td>0.08</td>\n",
       "      <td>137.45</td>\n",
       "      <td>4.00</td>\n",
       "      <td>0.71</td>\n",
       "    </tr>\n",
       "    <tr>\n",
       "      <th>max</th>\n",
       "      <td>1.00</td>\n",
       "      <td>1.00</td>\n",
       "      <td>19672058.00</td>\n",
       "      <td>1.00</td>\n",
       "      <td>1.00</td>\n",
       "      <td>11.00</td>\n",
       "      <td>1.00</td>\n",
       "      <td>7.23</td>\n",
       "      <td>1.00</td>\n",
       "      <td>0.97</td>\n",
       "      <td>249.99</td>\n",
       "      <td>5.00</td>\n",
       "      <td>1.00</td>\n",
       "    </tr>\n",
       "  </tbody>\n",
       "</table>\n",
       "</div>"
      ],
      "text/plain": [
       "       acousticness  danceability  duration_ms     energy  instrumentalness  \\\n",
       "count    9595992.00    9595992.00   9595992.00 9595992.00        9595992.00   \n",
       "mean           0.42          0.53    238209.59       0.54              0.26   \n",
       "std            0.38          0.19    159341.59       0.28              0.37   \n",
       "min            0.00          0.00         0.00       0.00              0.00   \n",
       "25%            0.03          0.40    169600.00       0.31              0.00   \n",
       "50%            0.34          0.55    216933.00       0.57              0.00   \n",
       "75%            0.82          0.68    275080.00       0.79              0.64   \n",
       "max            1.00          1.00  19672058.00       1.00              1.00   \n",
       "\n",
       "             key   liveness   loudness       mode  speechiness      tempo  \\\n",
       "count 9595992.00 9595992.00 9595992.00 9595992.00   9595992.00 9595992.00   \n",
       "mean        5.24       0.21     -10.89       0.66         0.10     118.56   \n",
       "std         3.54       0.18       6.36       0.47         0.14      31.03   \n",
       "min         0.00       0.00     -60.00       0.00         0.00       0.00   \n",
       "25%         2.00       0.10     -13.68       0.00         0.04      95.08   \n",
       "50%         5.00       0.13      -9.20       1.00         0.05     118.95   \n",
       "75%         8.00       0.26      -6.40       1.00         0.08     137.45   \n",
       "max        11.00       1.00       7.23       1.00         0.97     249.99   \n",
       "\n",
       "       time_signature    valence  \n",
       "count      9595992.00 9595992.00  \n",
       "mean             3.84       0.48  \n",
       "std              0.57       0.28  \n",
       "min              0.00       0.00  \n",
       "25%              4.00       0.23  \n",
       "50%              4.00       0.47  \n",
       "75%              4.00       0.71  \n",
       "max              5.00       1.00  "
      ]
     },
     "execution_count": 17,
     "metadata": {},
     "output_type": "execute_result"
    }
   ],
   "source": [
    "%%time\n",
    "df_pandas.describe()"
   ]
  },
  {
   "cell_type": "markdown",
   "id": "0c55c0c4",
   "metadata": {},
   "source": [
    "### CONCLUSIONS:\n",
    "\n",
    "* Pandas is (way) faster on this computer without any multithreading / distributed processing\n",
    "* They give different answers for some reason...\n",
    "    * PySpark isn't importing correctly even though Pandas can, and both default to utf-8 enconding (the enconding for the csv)\n",
    "    * converting the pandas dataframe to pyspark worked even worse\n",
    "        * super slow, memory error without changing config, errors 100% of the time (even .head())"
   ]
  },
  {
   "cell_type": "markdown",
   "id": "58afc5be",
   "metadata": {},
   "source": [
    "### \"De\"-Bugging\n",
    "more like bug watching"
   ]
  },
  {
   "cell_type": "code",
   "execution_count": 18,
   "id": "3b26a4f8",
   "metadata": {},
   "outputs": [
    {
     "name": "stdout",
     "output_type": "stream",
     "text": [
      "+---------------+\n",
      "|count(loudness)|\n",
      "+---------------+\n",
      "|           2779|\n",
      "+---------------+\n",
      "\n"
     ]
    }
   ],
   "source": [
    "df_pyspark.filter('danceability>0.99').agg({'loudness':'count'}).show()"
   ]
  },
  {
   "cell_type": "code",
   "execution_count": 19,
   "id": "aeb50800",
   "metadata": {},
   "outputs": [
    {
     "data": {
      "text/plain": [
       "91"
      ]
     },
     "execution_count": 19,
     "metadata": {},
     "output_type": "execute_result"
    }
   ],
   "source": [
    "df_pandas[df_pandas.danceability>0.99].loudness.count()"
   ]
  },
  {
   "cell_type": "code",
   "execution_count": 20,
   "id": "d84b705c",
   "metadata": {},
   "outputs": [
    {
     "data": {
      "text/plain": [
       "91"
      ]
     },
     "execution_count": 20,
     "metadata": {},
     "output_type": "execute_result"
    }
   ],
   "source": [
    "df_pandas[df_pandas.danceability>=0.99].loudness.count()"
   ]
  },
  {
   "cell_type": "code",
   "execution_count": 21,
   "id": "1538346f",
   "metadata": {},
   "outputs": [],
   "source": [
    "df_pyspark99 = df_pyspark.filter(df_pyspark.danceability > 0.99)"
   ]
  },
  {
   "cell_type": "code",
   "execution_count": 22,
   "id": "823275df",
   "metadata": {},
   "outputs": [
    {
     "data": {
      "text/plain": [
       "2779"
      ]
     },
     "execution_count": 22,
     "metadata": {},
     "output_type": "execute_result"
    }
   ],
   "source": [
    "df_pyspark99.count()"
   ]
  },
  {
   "cell_type": "code",
   "execution_count": 23,
   "id": "2827a772",
   "metadata": {},
   "outputs": [],
   "source": [
    "df_pyspark99_pandas = df_pyspark99.toPandas()"
   ]
  },
  {
   "cell_type": "code",
   "execution_count": 24,
   "id": "db8c60c4",
   "metadata": {},
   "outputs": [],
   "source": [
    "list_spark99 = df_pyspark99_pandas.id.tolist()"
   ]
  },
  {
   "cell_type": "code",
   "execution_count": 25,
   "id": "64d48a13",
   "metadata": {},
   "outputs": [
    {
     "data": {
      "text/html": [
       "<div>\n",
       "<style scoped>\n",
       "    .dataframe tbody tr th:only-of-type {\n",
       "        vertical-align: middle;\n",
       "    }\n",
       "\n",
       "    .dataframe tbody tr th {\n",
       "        vertical-align: top;\n",
       "    }\n",
       "\n",
       "    .dataframe thead th {\n",
       "        text-align: right;\n",
       "    }\n",
       "</style>\n",
       "<table border=\"1\" class=\"dataframe\">\n",
       "  <thead>\n",
       "    <tr style=\"text-align: right;\">\n",
       "      <th></th>\n",
       "      <th>acousticness</th>\n",
       "      <th>danceability</th>\n",
       "      <th>duration_ms</th>\n",
       "      <th>energy</th>\n",
       "      <th>instrumentalness</th>\n",
       "      <th>key</th>\n",
       "      <th>liveness</th>\n",
       "      <th>loudness</th>\n",
       "      <th>mode</th>\n",
       "      <th>speechiness</th>\n",
       "      <th>tempo</th>\n",
       "      <th>time_signature</th>\n",
       "      <th>valence</th>\n",
       "    </tr>\n",
       "  </thead>\n",
       "  <tbody>\n",
       "    <tr>\n",
       "      <th>count</th>\n",
       "      <td>2779.00</td>\n",
       "      <td>2779.00</td>\n",
       "      <td>2779.00</td>\n",
       "      <td>2779.00</td>\n",
       "      <td>2779.00</td>\n",
       "      <td>2779.00</td>\n",
       "      <td>2779.00</td>\n",
       "      <td>2779.00</td>\n",
       "      <td>2779.00</td>\n",
       "      <td>2779.00</td>\n",
       "      <td>2779.00</td>\n",
       "      <td>2779.00</td>\n",
       "      <td>2779.00</td>\n",
       "    </tr>\n",
       "    <tr>\n",
       "      <th>mean</th>\n",
       "      <td>0.97</td>\n",
       "      <td>0.38</td>\n",
       "      <td>200909.71</td>\n",
       "      <td>0.11</td>\n",
       "      <td>0.58</td>\n",
       "      <td>5.08</td>\n",
       "      <td>0.14</td>\n",
       "      <td>-23.09</td>\n",
       "      <td>0.73</td>\n",
       "      <td>0.06</td>\n",
       "      <td>103.52</td>\n",
       "      <td>3.66</td>\n",
       "      <td>0.29</td>\n",
       "    </tr>\n",
       "    <tr>\n",
       "      <th>std</th>\n",
       "      <td>0.15</td>\n",
       "      <td>0.18</td>\n",
       "      <td>170053.31</td>\n",
       "      <td>0.12</td>\n",
       "      <td>0.40</td>\n",
       "      <td>3.33</td>\n",
       "      <td>0.11</td>\n",
       "      <td>6.13</td>\n",
       "      <td>0.44</td>\n",
       "      <td>0.06</td>\n",
       "      <td>31.70</td>\n",
       "      <td>0.82</td>\n",
       "      <td>0.25</td>\n",
       "    </tr>\n",
       "    <tr>\n",
       "      <th>min</th>\n",
       "      <td>0.00</td>\n",
       "      <td>0.00</td>\n",
       "      <td>10453.00</td>\n",
       "      <td>0.00</td>\n",
       "      <td>0.00</td>\n",
       "      <td>0.00</td>\n",
       "      <td>0.03</td>\n",
       "      <td>-47.23</td>\n",
       "      <td>0.00</td>\n",
       "      <td>0.00</td>\n",
       "      <td>0.00</td>\n",
       "      <td>0.00</td>\n",
       "      <td>0.00</td>\n",
       "    </tr>\n",
       "    <tr>\n",
       "      <th>25%</th>\n",
       "      <td>0.99</td>\n",
       "      <td>0.26</td>\n",
       "      <td>79780.50</td>\n",
       "      <td>0.03</td>\n",
       "      <td>0.04</td>\n",
       "      <td>2.00</td>\n",
       "      <td>0.09</td>\n",
       "      <td>-27.06</td>\n",
       "      <td>0.00</td>\n",
       "      <td>0.04</td>\n",
       "      <td>77.12</td>\n",
       "      <td>3.00</td>\n",
       "      <td>0.08</td>\n",
       "    </tr>\n",
       "    <tr>\n",
       "      <th>50%</th>\n",
       "      <td>0.99</td>\n",
       "      <td>0.35</td>\n",
       "      <td>160640.00</td>\n",
       "      <td>0.08</td>\n",
       "      <td>0.85</td>\n",
       "      <td>5.00</td>\n",
       "      <td>0.11</td>\n",
       "      <td>-23.00</td>\n",
       "      <td>1.00</td>\n",
       "      <td>0.05</td>\n",
       "      <td>98.12</td>\n",
       "      <td>4.00</td>\n",
       "      <td>0.21</td>\n",
       "    </tr>\n",
       "    <tr>\n",
       "      <th>75%</th>\n",
       "      <td>0.99</td>\n",
       "      <td>0.46</td>\n",
       "      <td>264460.00</td>\n",
       "      <td>0.15</td>\n",
       "      <td>0.91</td>\n",
       "      <td>8.00</td>\n",
       "      <td>0.15</td>\n",
       "      <td>-19.08</td>\n",
       "      <td>1.00</td>\n",
       "      <td>0.06</td>\n",
       "      <td>126.24</td>\n",
       "      <td>4.00</td>\n",
       "      <td>0.42</td>\n",
       "    </tr>\n",
       "    <tr>\n",
       "      <th>max</th>\n",
       "      <td>1.00</td>\n",
       "      <td>1.00</td>\n",
       "      <td>1456053.00</td>\n",
       "      <td>0.93</td>\n",
       "      <td>0.99</td>\n",
       "      <td>11.00</td>\n",
       "      <td>0.94</td>\n",
       "      <td>-3.79</td>\n",
       "      <td>1.00</td>\n",
       "      <td>0.91</td>\n",
       "      <td>216.65</td>\n",
       "      <td>5.00</td>\n",
       "      <td>1.00</td>\n",
       "    </tr>\n",
       "  </tbody>\n",
       "</table>\n",
       "</div>"
      ],
      "text/plain": [
       "       acousticness  danceability  duration_ms  energy  instrumentalness  \\\n",
       "count       2779.00       2779.00      2779.00 2779.00           2779.00   \n",
       "mean           0.97          0.38    200909.71    0.11              0.58   \n",
       "std            0.15          0.18    170053.31    0.12              0.40   \n",
       "min            0.00          0.00     10453.00    0.00              0.00   \n",
       "25%            0.99          0.26     79780.50    0.03              0.04   \n",
       "50%            0.99          0.35    160640.00    0.08              0.85   \n",
       "75%            0.99          0.46    264460.00    0.15              0.91   \n",
       "max            1.00          1.00   1456053.00    0.93              0.99   \n",
       "\n",
       "          key  liveness  loudness    mode  speechiness   tempo  \\\n",
       "count 2779.00   2779.00   2779.00 2779.00      2779.00 2779.00   \n",
       "mean     5.08      0.14    -23.09    0.73         0.06  103.52   \n",
       "std      3.33      0.11      6.13    0.44         0.06   31.70   \n",
       "min      0.00      0.03    -47.23    0.00         0.00    0.00   \n",
       "25%      2.00      0.09    -27.06    0.00         0.04   77.12   \n",
       "50%      5.00      0.11    -23.00    1.00         0.05   98.12   \n",
       "75%      8.00      0.15    -19.08    1.00         0.06  126.24   \n",
       "max     11.00      0.94     -3.79    1.00         0.91  216.65   \n",
       "\n",
       "       time_signature  valence  \n",
       "count         2779.00  2779.00  \n",
       "mean             3.66     0.29  \n",
       "std              0.82     0.25  \n",
       "min              0.00     0.00  \n",
       "25%              3.00     0.08  \n",
       "50%              4.00     0.21  \n",
       "75%              4.00     0.42  \n",
       "max              5.00     1.00  "
      ]
     },
     "execution_count": 25,
     "metadata": {},
     "output_type": "execute_result"
    }
   ],
   "source": [
    "df_pandas[df_pandas.id.isin(list_spark99)].describe()"
   ]
  },
  {
   "cell_type": "code",
   "execution_count": null,
   "id": "6fc2c8c0",
   "metadata": {},
   "outputs": [],
   "source": []
  }
 ],
 "metadata": {
  "kernelspec": {
   "display_name": "Python 3 (ipykernel)",
   "language": "python",
   "name": "python3"
  },
  "language_info": {
   "codemirror_mode": {
    "name": "ipython",
    "version": 3
   },
   "file_extension": ".py",
   "mimetype": "text/x-python",
   "name": "python",
   "nbconvert_exporter": "python",
   "pygments_lexer": "ipython3",
   "version": "3.9.7"
  }
 },
 "nbformat": 4,
 "nbformat_minor": 5
}
